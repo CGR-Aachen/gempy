{
 "cells": [
  {
   "cell_type": "code",
   "execution_count": null,
   "metadata": {},
   "outputs": [],
   "source": [
    "# -*- coding: utf-8 -*-\n",
    "\"\"\"\n",
    "@author: domist07\n",
    "\"\"\"\n",
    "# Load packages\n",
    "import sys\n",
    "import gempy as gp\n",
    "import numpy as np\n",
    "import pandas as pd\n",
    "from sklearn.decomposition import PCA\n",
    "from gempy.plot import visualization_2d_pro as vv\n",
    "from gempy.plot import vista\n",
    "# import pyvista as pv\n",
    "from importlib import reload\n",
    "reload(vista)"
   ]
  },
  {
   "cell_type": "code",
   "execution_count": null,
   "metadata": {},
   "outputs": [],
   "source": [
    "# %% read data\n",
    "path_sp = \"322_Influence-surface-thickness_Points.csv\"\n",
    "df_sp = pd.read_csv(path_sp)\n",
    "\n",
    "geo_data = gp.create_model('Issue322')\n",
    "geo_data.set_surface_points(df_sp, add_basement=True)\n",
    "geo_data.surface_points.df['smooth'] = 0\n",
    "\n",
    "path_ori = \"322_Influence-surface-thickness_Orientations.csv\"\n",
    "df_ori = pd.read_csv(path_ori)\n",
    "\n",
    "geo_data.orientations.df = df_ori"
   ]
  },
  {
   "cell_type": "code",
   "execution_count": null,
   "metadata": {},
   "outputs": [],
   "source": [
    "# %% Set surfaces\n",
    "gp.map_series_to_surfaces(geo_data, {\"Verw1\": ('Verw1'), \"Verw2\": ('Verw2'),\n",
    "                                     \"Auffuel\": ('Quartaer'),\n",
    "                                     \"Sand\": ('verwKeuper', 'Sandstein'),\n",
    "                                     \"Schluff\": ('Schluffstein')},\n",
    "                          sort_geometric_data=True,\n",
    "                          remove_unused_series=True)\n",
    "\n",
    "geo_data.set_is_fault(['Verw1', 'Verw2'], change_color=False)\n",
    "geo_data.series.set_bottom_relation(\"Auffuel\", 'Onlap')\n",
    "geo_data.faults.faults_relations_df.Auffuel = False\n",
    "geo_data.faults.faults_relations_df.Sand = False\n",
    "\n",
    "Min = np.array([np.min(geo_data.surface_points.df['X']),\n",
    "                np.min(geo_data.surface_points.df['Y']),\n",
    "                np.min(geo_data.surface_points.df['Z'])])\n",
    "Max = np.array([np.max(geo_data.surface_points.df['X']),\n",
    "                np.max(geo_data.surface_points.df['Y']),\n",
    "                np.max(geo_data.surface_points.df['Z'])])\n",
    "\n",
    "geo_data.grid.create_regular_grid([Min[0]-20, Max[0]+20,\n",
    "                                   Min[1]-20, Max[1]+20,\n",
    "                                   Min[2]-20, Max[2]+20],\n",
    "                                  [50, 50, 50])"
   ]
  },
  {
   "cell_type": "code",
   "execution_count": null,
   "metadata": {},
   "outputs": [],
   "source": [
    "# %% add Topography\n",
    "geo_data.grid.create_topography(source='gdal',\n",
    "    filepath=\"322_Influence-surface-thickness_GOK.csv\")\n",
    "\n",
    "# %% Set sections\n",
    "section_dict = {'LS1': ([595, 274],\n",
    "                        [610, 552],\n",
    "                        [200, 200]),\n",
    "                'LS2': ([645, 358],\n",
    "                        [646, 549],\n",
    "                        [200, 200]),\n",
    "geo_data.grid.create_section_grid(section_dict)"
   ]
  },
  {
   "cell_type": "code",
   "execution_count": null,
   "metadata": {},
   "outputs": [],
   "source": [
    "# %% Interpolation\n",
    "gp.set_interpolator(geo_data, compile_theano=True,\n",
    "                    theano_optimizer='fast_run', verbose=[])\n",
    "# geo_data.modify_kriging_parameters('range', 100)\n",
    "# geo_data.modify_kriging_parameters('$C_o$', 100)\n",
    "\n",
    "gp.compute_model(geo_data, sort_surfaces=False, compute_mesh=True)"
   ]
  },
  {
   "cell_type": "code",
   "execution_count": null,
   "metadata": {},
   "outputs": [],
   "source": [
    "# plot contacts\n",
    "for i in geo_data.grid.sections.names:\n",
    "    p = gp._plot.plot_2d(geo_data)\n",
    "    sec_name = i\n",
    "    a = p.add_section(sec_name)\n",
    "    # p.plot_lith(a, sec_name)\n",
    "    p.plot_topography(a, sec_name)\n",
    "    p.plot_contacts(a, sec_name, a=0.5)\n",
    "    p.create_figure()\n",
    "del i, sec_name, a"
   ]
  },
  {
   "cell_type": "code",
   "execution_count": null,
   "metadata": {},
   "outputs": [],
   "source": [
    "# plot 3D\n",
    "gv = vista.Vista(geo_data, plotter_type='background', notebook=False,\n",
    "                  real_time=True)\n",
    "gv.plot_surfaces()\n",
    "# gv.plot_surface_points()\n",
    "# gv.plot_topography()\n",
    "# gv.plot_orientations()"
   ]
  }
 ],
 "metadata": {
  "kernelspec": {
   "display_name": "Python 3",
   "language": "python",
   "name": "python3"
  },
  "language_info": {
   "codemirror_mode": {
    "name": "ipython",
    "version": 3
   },
   "file_extension": ".py",
   "mimetype": "text/x-python",
   "name": "python",
   "nbconvert_exporter": "python",
   "pygments_lexer": "ipython3",
   "version": "3.7.6"
  }
 },
 "nbformat": 4,
 "nbformat_minor": 4
}
