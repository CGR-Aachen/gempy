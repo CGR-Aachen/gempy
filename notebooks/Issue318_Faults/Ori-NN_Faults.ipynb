{
 "cells": [
  {
   "cell_type": "code",
   "execution_count": 1,
   "metadata": {},
   "outputs": [
    {
     "name": "stderr",
     "output_type": "stream",
     "text": [
      "WARNING (theano.configdefaults): g++ not available, if using conda: `conda install m2w64-toolchain`\n",
      "C:\\ProgramData\\Anaconda3\\lib\\site-packages\\theano\\configdefaults.py:560: UserWarning: DeprecationWarning: there is no c++ compiler.This is deprecated and with Theano 0.11 a c++ compiler will be mandatory\n",
      "  warnings.warn(\"DeprecationWarning: there is no c++ compiler.\"\n",
      "WARNING (theano.configdefaults): g++ not detected ! Theano will be unable to execute optimized C-implementations (for both CPU and GPU) and will default to Python implementations. Performance will be severely degraded. To remove this warning, set Theano flags cxx to an empty string.\n",
      "WARNING (theano.tensor.blas): Using NumPy C-API based implementation for BLAS functions.\n"
     ]
    }
   ],
   "source": [
    "import sys\n",
    "import gempy as gp\n",
    "import numpy as np\n",
    "import pandas as pd\n",
    "from sklearn.decomposition import PCA\n",
    "from gempy.plot import visualization_2d_pro as vv\n",
    "from gempy.plot import vista\n",
    "# import pyvista as pv\n",
    "from importlib import reload\n",
    "reload(vista)\n",
    "sys.path.append(\"D:/Documents/Python Scripts/\")\n",
    "import stuetz as st"
   ]
  },
  {
   "cell_type": "code",
   "execution_count": 2,
   "metadata": {},
   "outputs": [],
   "source": [
    "# %% read data\n",
    "path_sp = \"Ori-NN_Faults_Poi.csv\"\n",
    "df_sp = pd.read_csv(path_sp)\n",
    "\n",
    "geo_data = gp.create_model('Ori-NN_F')\n",
    "geo_data.set_surface_points(df_sp, add_basement=False)\n",
    "geo_data.surface_points.df['smooth'] = 0"
   ]
  },
  {
   "cell_type": "code",
   "execution_count": 3,
   "metadata": {},
   "outputs": [
    {
     "data": {
      "text/html": [
       "<table border=\"1\" class=\"dataframe\">\n",
       "  <thead>\n",
       "    <tr style=\"text-align: right;\">\n",
       "      <th></th>\n",
       "      <th>isFault</th>\n",
       "      <th>isFinite</th>\n",
       "    </tr>\n",
       "  </thead>\n",
       "  <tbody>\n",
       "    <tr>\n",
       "      <th>Fault1</th>\n",
       "      <td>True</td>\n",
       "      <td>False</td>\n",
       "    </tr>\n",
       "    <tr>\n",
       "      <th>Fault2</th>\n",
       "      <td>True</td>\n",
       "      <td>False</td>\n",
       "    </tr>\n",
       "    <tr>\n",
       "      <th>Surface</th>\n",
       "      <td>False</td>\n",
       "      <td>False</td>\n",
       "    </tr>\n",
       "  </tbody>\n",
       "</table>"
      ],
      "text/plain": [
       "         isFault  isFinite\n",
       "Fault1      True     False\n",
       "Fault2      True     False\n",
       "Surface    False     False"
      ]
     },
     "execution_count": 3,
     "metadata": {},
     "output_type": "execute_result"
    }
   ],
   "source": [
    "# %% Set surfaces\n",
    "gp.map_series_to_surfaces(geo_data, {\"Fault1\": ('f'), \"Fault2\": ('v'),\n",
    "                                     \"Surface\": ('s', 't')},\n",
    "                          sort_geometric_data=True,\n",
    "                          remove_unused_series=True)\n",
    "\n",
    "geo_data.set_is_fault([\"Fault1\", \"Fault2\"], change_color=False)"
   ]
  },
  {
   "cell_type": "code",
   "execution_count": 4,
   "metadata": {},
   "outputs": [],
   "source": [
    "# %% Calculate orientations and defnition of faults\n",
    "\n",
    "# define neighbourhood\n",
    "neigh_f = 2\n",
    "\n",
    "# find faults and calculate orientations\n",
    "id_f = geo_data.faults.df.index.categories[geo_data.faults.df.isFault.values]  # detect fault names\n",
    "fault_poi = geo_data.surface_points.df[geo_data.surface_points.df.series.isin(id_f)]  # find fault points\n",
    "geo_data.orientations.create_orientation_from_nn(fault_poi, neigh_f)  # calculate fault orientations\n",
    "\n",
    "fault_dist = pd.DataFrame(columns=['G_x', 'G_y', 'G_z', 'const'], index=id_f)  # define empty fault dataframe (Hesse normal form)\n",
    "for fault in id_f: # for every fault\n",
    "    all_poi_f = geo_data.orientations.df[geo_data.orientations.df.series.eq(fault)] # find points of one fault\n",
    "    fault_dist.at[fault] = all_poi_f.iloc[0,6:9]  # paste normal vector\n",
    "    fault_dist.at[fault, 'const'] = \\\n",
    "        sum(all_poi_f.iloc[0,6:9].reset_index(drop=True)*\n",
    "            all_poi_f.iloc[0,0:3].reset_index(drop=True))*-1  # calculate distance to origin"
   ]
  },
  {
   "cell_type": "code",
   "execution_count": 5,
   "metadata": {},
   "outputs": [],
   "source": [
    "# %% Calculate orientations surfaces\n",
    "neigh_p = 50.  # define neighbourhood\n",
    "id_s = geo_data.faults.df.index.categories[np.logical_not(geo_data.faults.df.isFault.values)] # detect series names\n",
    "id_p = geo_data.surface_points.df.index[geo_data.surface_points.df.series.isin(id_s)]  # find surface points\n",
    "# create group-ID variable for every surface point (without fault points)\n",
    "poi_id = pd.DataFrame(columns=['group'],\n",
    "                      data=[0]*int(geo_data.surface_points.df.shape[0]\n",
    "                                   - geo_data.orientations.df.shape[0]))\n",
    "poi_id['ID'] = id_p\n",
    "poi_id = poi_id.set_index('ID')  # choose same index as in geo_data.surface_points\n",
    "\n",
    "for sur in geo_data.surfaces.df.surface:  # for every surface\n",
    "    x = 1  # ID counter\n",
    "    # detect to which series belongs the surface\n",
    "    ser = geo_data.surfaces.df.series[geo_data.surfaces.df.surface == sur]\n",
    "    # load fault relations\n",
    "    rel_faults = geo_data.faults.faults_relations_df.loc[:,ser]\n",
    "    if any(rel_faults.values):  # only for surfaces (not faults!)\n",
    "        name_rel_faults = rel_faults.index[rel_faults.iloc[:,0]]  # faults which influences surface\n",
    "        all_poi_sur = geo_data.surface_points.df[geo_data.surface_points.df.surface==sur]  # find all points of one surface\n",
    "        for fault in name_rel_faults:  # split points in groups for every fault\n",
    "            func = lambda x: sum(np.asarray(x) * np.asarray(fault_dist.loc[fault,'G_x':'G_z'])) \\\n",
    "                                 + fault_dist.at[fault, 'const']  # define plane hesse normal form function\n",
    "            dist = all_poi_sur.iloc[:,0:3].apply(func, axis=1)  # calculate dist to fault\n",
    "            for i, j in zip(dist, all_poi_sur.index):  # if dist < 0 set new group-ID for point\n",
    "                if i < 0:\n",
    "                    poi_id.loc[j] = poi_id.loc[j] + x\n",
    "            x = x*10\n",
    "\n",
    "for i in np.unique(poi_id):  # for every ID-group\n",
    "    poi_group = geo_data.surface_points.df.loc[poi_id.index[(poi_id==i).group.values].tolist()]  # find points in same group\n",
    "    geo_data.orientations.create_orientation_from_nn(poi_group, neigh_p)  # calculate orientations for every group"
   ]
  },
  {
   "cell_type": "code",
   "execution_count": 6,
   "metadata": {},
   "outputs": [
    {
     "data": {
      "text/html": [
       "<table border=\"1\" class=\"dataframe\">\n",
       "  <thead>\n",
       "    <tr style=\"text-align: right;\">\n",
       "      <th></th>\n",
       "      <th>isFault</th>\n",
       "      <th>isFinite</th>\n",
       "    </tr>\n",
       "  </thead>\n",
       "  <tbody>\n",
       "    <tr>\n",
       "      <th>Fault1</th>\n",
       "      <td>True</td>\n",
       "      <td>False</td>\n",
       "    </tr>\n",
       "    <tr>\n",
       "      <th>Fault2</th>\n",
       "      <td>True</td>\n",
       "      <td>False</td>\n",
       "    </tr>\n",
       "    <tr>\n",
       "      <th>Surface</th>\n",
       "      <td>False</td>\n",
       "      <td>False</td>\n",
       "    </tr>\n",
       "  </tbody>\n",
       "</table>"
      ],
      "text/plain": [
       "         isFault  isFinite\n",
       "Fault1      True     False\n",
       "Fault2      True     False\n",
       "Surface    False     False"
      ]
     },
     "execution_count": 6,
     "metadata": {},
     "output_type": "execute_result"
    }
   ],
   "source": [
    "# %% Set surfaces again for the orientations\n",
    "gp.map_series_to_surfaces(geo_data, {\"Fault1\": ('f'), \"Fault2\": ('v'),\\\n",
    "                                     \"Surface\": ('s', 't')},\n",
    "                          sort_geometric_data=True,\n",
    "                          remove_unused_series=True)\n",
    "\n",
    "geo_data.set_is_fault([\"Fault1\", \"Fault2\"], change_color=False)"
   ]
  },
  {
   "cell_type": "code",
   "execution_count": 7,
   "metadata": {},
   "outputs": [
    {
     "data": {
      "text/plain": [
       "<gempy.core.grid_modules.grid_types.RegularGrid at 0x136b7157fc8>"
      ]
     },
     "execution_count": 7,
     "metadata": {},
     "output_type": "execute_result"
    }
   ],
   "source": [
    "# %% create grid\n",
    "Min = np.array([np.min(geo_data.surface_points.df['X']),\n",
    "                np.min(geo_data.surface_points.df['Y']),\n",
    "                np.min(geo_data.surface_points.df['Z'])])\n",
    "Max = np.array([np.max(geo_data.surface_points.df['X']),\n",
    "                np.max(geo_data.surface_points.df['Y']),\n",
    "                np.max(geo_data.surface_points.df['Z'])])\n",
    "\n",
    "geo_data.grid.create_regular_grid([Min[0]-5, Max[0]+5,\n",
    "                                   Min[1]-5, Max[1]+5,\n",
    "                                   Min[2]-5, Max[2]+5],\n",
    "                                  [50, 50, 50])"
   ]
  },
  {
   "cell_type": "code",
   "execution_count": 8,
   "metadata": {},
   "outputs": [
    {
     "name": "stdout",
     "output_type": "stream",
     "text": [
      "Setting kriging parameters to their default values.\n",
      "Compiling theano function...\n",
      "Level of Optimization:  fast_run\n",
      "Device:  cpu\n",
      "Precision:  float64\n",
      "Number of faults:  2\n",
      "Compilation Done!\n",
      "Kriging values: \n",
      "                     values\n",
      "range              61.6441\n",
      "$C_o$              90.4762\n",
      "drift equations  [3, 3, 3]\n"
     ]
    },
    {
     "name": "stderr",
     "output_type": "stream",
     "text": [
      "C:\\ProgramData\\Anaconda3\\lib\\site-packages\\gempy\\core\\solution.py:288: UserWarning: Attribute error. Using non masked marching cubesmarching_cubes_lewiner() got an unexpected keyword argument 'mask'.\n",
      "  warnings.warn('Attribute error. Using non masked marching cubes' + str(e)+'.')\n"
     ]
    },
    {
     "data": {
      "text/plain": [
       "\n",
       "Lithology ids \n",
       "  [4. 3. 3. ... 3. 3. 3.] "
      ]
     },
     "execution_count": 8,
     "metadata": {},
     "output_type": "execute_result"
    }
   ],
   "source": [
    "# %% Interpolation\n",
    "gp.set_interpolator(geo_data, compile_theano=True,\n",
    "                    theano_optimizer='fast_run', verbose=[])\n",
    "gp.compute_model(geo_data, sort_surfaces=False, compute_mesh=True)"
   ]
  },
  {
   "cell_type": "code",
   "execution_count": 9,
   "metadata": {},
   "outputs": [
    {
     "data": {
      "text/html": [
       "<div>\n",
       "<style scoped>\n",
       "    .dataframe tbody tr th:only-of-type {\n",
       "        vertical-align: middle;\n",
       "    }\n",
       "\n",
       "    .dataframe tbody tr th {\n",
       "        vertical-align: top;\n",
       "    }\n",
       "\n",
       "    .dataframe thead th {\n",
       "        text-align: right;\n",
       "    }\n",
       "</style>\n",
       "<table border=\"1\" class=\"dataframe\">\n",
       "  <thead>\n",
       "    <tr style=\"text-align: right;\">\n",
       "      <th></th>\n",
       "      <th>val</th>\n",
       "    </tr>\n",
       "  </thead>\n",
       "  <tbody>\n",
       "    <tr>\n",
       "      <th>1</th>\n",
       "      <td>PolyData (0x136b7cf00a8)\\n  N Cells:\\t4998\\n  ...</td>\n",
       "    </tr>\n",
       "    <tr>\n",
       "      <th>2</th>\n",
       "      <td>PolyData (0x136b7cf09a8)\\n  N Cells:\\t4998\\n  ...</td>\n",
       "    </tr>\n",
       "    <tr>\n",
       "      <th>0</th>\n",
       "      <td>PolyData (0x136b7cf9168)\\n  N Cells:\\t18168\\n ...</td>\n",
       "    </tr>\n",
       "    <tr>\n",
       "      <th>3</th>\n",
       "      <td>PolyData (0x136b7cf9648)\\n  N Cells:\\t18454\\n ...</td>\n",
       "    </tr>\n",
       "  </tbody>\n",
       "</table>\n",
       "</div>"
      ],
      "text/plain": [
       "                                                 val\n",
       "1  PolyData (0x136b7cf00a8)\\n  N Cells:\\t4998\\n  ...\n",
       "2  PolyData (0x136b7cf09a8)\\n  N Cells:\\t4998\\n  ...\n",
       "0  PolyData (0x136b7cf9168)\\n  N Cells:\\t18168\\n ...\n",
       "3  PolyData (0x136b7cf9648)\\n  N Cells:\\t18454\\n ..."
      ]
     },
     "execution_count": 9,
     "metadata": {},
     "output_type": "execute_result"
    }
   ],
   "source": [
    "# %% plot 3D\n",
    "\n",
    "gv = vista.Vista(geo_data, plotter_type='background', notebook=False,\n",
    "                  real_time=False)\n",
    "gv.plot_surface_points()\n",
    "gv.plot_orientations()\n",
    "gv.plot_surfaces()"
   ]
  },
  {
   "cell_type": "code",
   "execution_count": null,
   "metadata": {},
   "outputs": [],
   "source": []
  }
 ],
 "metadata": {
  "kernelspec": {
   "display_name": "Python 3",
   "language": "python",
   "name": "python3"
  },
  "language_info": {
   "codemirror_mode": {
    "name": "ipython",
    "version": 3
   },
   "file_extension": ".py",
   "mimetype": "text/x-python",
   "name": "python",
   "nbconvert_exporter": "python",
   "pygments_lexer": "ipython3",
   "version": "3.7.7"
  }
 },
 "nbformat": 4,
 "nbformat_minor": 4
}
