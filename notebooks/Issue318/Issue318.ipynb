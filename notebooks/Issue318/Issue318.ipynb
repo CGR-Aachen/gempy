{
 "cells": [
  {
   "cell_type": "code",
   "execution_count": null,
   "metadata": {},
   "outputs": [],
   "source": [
    "import pandas as pn\n",
    "import gempy as gp\n",
    "import numpy as np"
   ]
  },
  {
   "cell_type": "code",
   "execution_count": null,
   "metadata": {},
   "outputs": [],
   "source": [
    "def test_calc_ori_knn(coordinates, ref_orientations):\n",
    "    test_data = gp.create_model('Test')\n",
    "    test_data.set_surface_points(coordinates)\n",
    "    test_data.orientations.create_orientation_from_nn(test_data.surface_points.df, 3)\n",
    "    ref_orientations.index = test_data.orientations.df.index\n",
    "    test_data.orientations.df[['dip', 'azimuth']] = \\\n",
    "        test_data.orientations.df[['dip', 'azimuth']].round(decimals=2)\n",
    "    test1 = np.array(test_data.orientations.df[['X', 'Y', 'Z', 'dip', 'azimuth', 'polarity']])\n",
    "    test2 = np.array(ref_orientations[['X', 'Y', 'Z', 'dip', 'azimuth', 'polarity']])\n",
    "    assert np.array_equal(test1, test2)"
   ]
  },
  {
   "cell_type": "code",
   "execution_count": null,
   "metadata": {},
   "outputs": [],
   "source": [
    "def test_calc_ori_range(coordinates, ref_orientations):\n",
    "    test_data = gp.create_model('Test')\n",
    "    test_data.set_surface_points(coordinates)\n",
    "    test_data.orientations.create_orientation_from_nn(test_data.surface_points.df, 200.)\n",
    "    ref_orientations.index = test_data.orientations.df.index\n",
    "    test_data.orientations.df[['dip', 'azimuth']] = \\\n",
    "        test_data.orientations.df[['dip', 'azimuth']].round(decimals=2)\n",
    "    test1 = np.array(test_data.orientations.df[['X', 'Y', 'Z', 'dip', 'azimuth', 'polarity']])\n",
    "    test2 = np.array(ref_orientations[['X', 'Y', 'Z', 'dip', 'azimuth', 'polarity']])\n",
    "    assert np.array_equal(test1, test2)"
   ]
  },
  {
   "cell_type": "code",
   "execution_count": null,
   "metadata": {},
   "outputs": [],
   "source": [
    "path_sp = \"Test-Ori_Coo.txt\"\n",
    "df_sp = pn.read_csv(path_sp)\n",
    "path_o = \"Test-Ori_Ori.txt\"\n",
    "df_o = pn.read_csv(path_o)\n",
    "test_calc_ori_knn(df_sp, df_o)\n",
    "print(\"KNN OK\")\n",
    "test_calc_ori_range(df_sp, df_o)\n",
    "print(\"Range OK\")"
   ]
  },
  {
   "cell_type": "code",
   "execution_count": null,
   "metadata": {},
   "outputs": [],
   "source": []
  }
 ],
 "metadata": {
  "kernelspec": {
   "display_name": "Python 3",
   "language": "python",
   "name": "python3"
  },
  "language_info": {
   "codemirror_mode": {
    "name": "ipython",
    "version": 3
   },
   "file_extension": ".py",
   "mimetype": "text/x-python",
   "name": "python",
   "nbconvert_exporter": "python",
   "pygments_lexer": "ipython3",
   "version": "3.7.7"
  }
 },
 "nbformat": 4,
 "nbformat_minor": 4
}
