{
 "cells": [
  {
   "cell_type": "code",
   "execution_count": 1,
   "metadata": {},
   "outputs": [
    {
     "name": "stderr",
     "output_type": "stream",
     "text": [
      "WARNING (theano.configdefaults): g++ not available, if using conda: `conda install m2w64-toolchain`\n",
      "C:\\ProgramData\\Anaconda3\\lib\\site-packages\\theano\\configdefaults.py:560: UserWarning: DeprecationWarning: there is no c++ compiler.This is deprecated and with Theano 0.11 a c++ compiler will be mandatory\n",
      "  warnings.warn(\"DeprecationWarning: there is no c++ compiler.\"\n",
      "WARNING (theano.configdefaults): g++ not detected ! Theano will be unable to execute optimized C-implementations (for both CPU and GPU) and will default to Python implementations. Performance will be severely degraded. To remove this warning, set Theano flags cxx to an empty string.\n",
      "WARNING (theano.tensor.blas): Using NumPy C-API based implementation for BLAS functions.\n"
     ]
    }
   ],
   "source": [
    "import pandas as pn\n",
    "import gempy as gp\n",
    "import numpy as np"
   ]
  },
  {
   "cell_type": "code",
   "execution_count": 2,
   "metadata": {},
   "outputs": [],
   "source": [
    "def test_calc_ori_knn(coordinates, ref_orientations):\n",
    "    test_data = gp.create_model('Test')\n",
    "    test_data.set_surface_points(coordinates)\n",
    "    test_data.orientations.create_orientation_from_nn(test_data.surface_points.df, 3)\n",
    "    ref_orientations.index = test_data.orientations.df.index\n",
    "    test_data.orientations.df[['dip', 'azimuth']] = \\\n",
    "        test_data.orientations.df[['dip', 'azimuth']].round(decimals=2)\n",
    "    test1 = np.array(test_data.orientations.df[['X', 'Y', 'Z', 'dip', 'azimuth', 'polarity']])\n",
    "    test2 = np.array(ref_orientations[['X', 'Y', 'Z', 'dip', 'azimuth', 'polarity']])\n",
    "    assert np.array_equal(test1, test2)"
   ]
  },
  {
   "cell_type": "code",
   "execution_count": 3,
   "metadata": {},
   "outputs": [],
   "source": [
    "def test_calc_ori_range(coordinates, ref_orientations):\n",
    "    test_data = gp.create_model('Test')\n",
    "    test_data.set_surface_points(coordinates)\n",
    "    test_data.orientations.create_orientation_from_nn(test_data.surface_points.df, 200.)\n",
    "    ref_orientations.index = test_data.orientations.df.index\n",
    "    test_data.orientations.df[['dip', 'azimuth']] = \\\n",
    "        test_data.orientations.df[['dip', 'azimuth']].round(decimals=2)\n",
    "    test1 = np.array(test_data.orientations.df[['X', 'Y', 'Z', 'dip', 'azimuth', 'polarity']])\n",
    "    test2 = np.array(ref_orientations[['X', 'Y', 'Z', 'dip', 'azimuth', 'polarity']])\n",
    "    assert np.array_equal(test1, test2)"
   ]
  },
  {
   "cell_type": "code",
   "execution_count": 4,
   "metadata": {},
   "outputs": [
    {
     "name": "stdout",
     "output_type": "stream",
     "text": [
      "KNN OK\n",
      "Range OK\n"
     ]
    }
   ],
   "source": [
    "path_sp = \"Test-Ori_Coo.txt\"\n",
    "df_sp = pn.read_csv(path_sp)\n",
    "path_o = \"Test-Ori_Ori.txt\"\n",
    "df_o = pn.read_csv(path_o)\n",
    "test_calc_ori_knn(df_sp, df_o)\n",
    "print(\"KNN OK\")\n",
    "test_calc_ori_range(df_sp, df_o)\n",
    "print(\"Range OK\")"
   ]
  },
  {
   "cell_type": "code",
   "execution_count": null,
   "metadata": {},
   "outputs": [],
   "source": []
  }
 ],
 "metadata": {
  "kernelspec": {
   "display_name": "Python 3",
   "language": "python",
   "name": "python3"
  },
  "language_info": {
   "codemirror_mode": {
    "name": "ipython",
    "version": 3
   },
   "file_extension": ".py",
   "mimetype": "text/x-python",
   "name": "python",
   "nbconvert_exporter": "python",
   "pygments_lexer": "ipython3",
   "version": "3.7.7"
  }
 },
 "nbformat": 4,
 "nbformat_minor": 4
}
