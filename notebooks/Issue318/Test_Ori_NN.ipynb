{
 "cells": [
  {
   "cell_type": "code",
   "execution_count": null,
   "metadata": {},
   "outputs": [],
   "source": [
    "# -*- coding: utf-8 -*-\n",
    "\"\"\"\n",
    "Created on Thu Apr 23 2020\n",
    "\n",
    "@author: domist07\n",
    "\"\"\"\n",
    "\n",
    "import pandas as pn\n",
    "\n",
    "path_sp = \"Test-Ori_Coo.txt\"\n",
    "df_sp = pn.read_csv(path_sp)\n",
    "path_o = \"Test-Ori_Ori.txt\"\n",
    "df_o = pn.read_csv(path_o)\n",
    "test_calc_ori_knn(df_sp, df_o)\n",
    "print(\"KNN OK\")\n",
    "test_calc_ori_range(df_sp, df_o)\n",
    "print(\"Range OK\")"
   ]
  }
 ],
 "metadata": {
  "kernelspec": {
   "display_name": "Python 3",
   "language": "python",
   "name": "python3"
  },
  "language_info": {
   "codemirror_mode": {
    "name": "ipython",
    "version": 3
   },
   "file_extension": ".py",
   "mimetype": "text/x-python",
   "name": "python",
   "nbconvert_exporter": "python",
   "pygments_lexer": "ipython3",
   "version": "3.7.7"
  }
 },
 "nbformat": 4,
 "nbformat_minor": 4
}
