{
 "cells": [
  {
   "cell_type": "code",
   "execution_count": 4,
   "metadata": {},
   "outputs": [
    {
     "data": {
      "text/plain": [
       "<module 'gempy.plot.vista' from 'C:\\\\ProgramData\\\\Anaconda3\\\\lib\\\\site-packages\\\\gempy\\\\plot\\\\vista.py'>"
      ]
     },
     "execution_count": 4,
     "metadata": {},
     "output_type": "execute_result"
    }
   ],
   "source": [
    "# -*- coding: utf-8 -*-\n",
    "\"\"\"\n",
    "@author: domist07\n",
    "\"\"\"\n",
    "# Load packages\n",
    "import sys\n",
    "import gempy as gp\n",
    "import numpy as np\n",
    "import pandas as pd\n",
    "from sklearn.decomposition import PCA\n",
    "from gempy.plot import visualization_2d_pro as vv\n",
    "from gempy.plot import vista\n",
    "# import pyvista as pv\n",
    "from importlib import reload\n",
    "reload(vista)"
   ]
  },
  {
   "cell_type": "code",
   "execution_count": 5,
   "metadata": {},
   "outputs": [],
   "source": [
    "# %% read data\n",
    "path_sp = \"322_Influence-surface-thickness_Points.csv\"\n",
    "df_sp = pd.read_csv(path_sp)\n",
    "\n",
    "geo_data = gp.create_model('Issue322')\n",
    "geo_data.set_surface_points(df_sp, add_basement=True)\n",
    "geo_data.surface_points.df['smooth'] = 0\n",
    "\n",
    "path_ori = \"322_Influence-surface-thickness_Orientations.csv\"\n",
    "df_ori = pd.read_csv(path_ori)\n",
    "df_ori = df_ori.iloc[:,[0,1,2,9,10,11,12]]\n",
    "geo_data.set_orientations(df_ori)"
   ]
  },
  {
   "cell_type": "code",
   "execution_count": 6,
   "metadata": {},
   "outputs": [
    {
     "data": {
      "text/plain": [
       "<gempy.core.grid_modules.grid_types.RegularGrid at 0x1fe7c3934c8>"
      ]
     },
     "execution_count": 6,
     "metadata": {},
     "output_type": "execute_result"
    }
   ],
   "source": [
    "# %% Set surfaces\n",
    "gp.map_series_to_surfaces(geo_data, {\"Verw1\": ('Verw1'), \"Verw2\": ('Verw2'),\n",
    "                                     \"Auffuel\": ('Quartaer'),\n",
    "                                     \"Sand\": ('verwKeuper', 'Sandstein'),\n",
    "                                     \"Schluff\": ('Schluffstein')},\n",
    "                          sort_geometric_data=True,\n",
    "                          remove_unused_series=True)\n",
    "\n",
    "geo_data.set_is_fault(['Verw1', 'Verw2'], change_color=False)\n",
    "geo_data.series.set_bottom_relation(\"Auffuel\", 'Onlap')\n",
    "geo_data.faults.faults_relations_df.Auffuel = False\n",
    "geo_data.faults.faults_relations_df.Sand = False\n",
    "\n",
    "Min = np.array([np.min(geo_data.surface_points.df['X']),\n",
    "                np.min(geo_data.surface_points.df['Y']),\n",
    "                np.min(geo_data.surface_points.df['Z'])])\n",
    "Max = np.array([np.max(geo_data.surface_points.df['X']),\n",
    "                np.max(geo_data.surface_points.df['Y']),\n",
    "                np.max(geo_data.surface_points.df['Z'])])\n",
    "\n",
    "geo_data.grid.create_regular_grid([Min[0]-20, Max[0]+20,\n",
    "                                   Min[1]-20, Max[1]+20,\n",
    "                                   Min[2]-20, Max[2]+20],\n",
    "                                  [50, 50, 50])"
   ]
  },
  {
   "cell_type": "code",
   "execution_count": 7,
   "metadata": {},
   "outputs": [
    {
     "data": {
      "text/html": [
       "<table border=\"1\" class=\"dataframe\">\n",
       "  <thead>\n",
       "    <tr style=\"text-align: right;\">\n",
       "      <th></th>\n",
       "      <th>start</th>\n",
       "      <th>stop</th>\n",
       "      <th>resolution</th>\n",
       "      <th>dist</th>\n",
       "    </tr>\n",
       "  </thead>\n",
       "  <tbody>\n",
       "    <tr>\n",
       "      <th>LS1</th>\n",
       "      <td>[595, 274]</td>\n",
       "      <td>[610, 552]</td>\n",
       "      <td>[200, 200]</td>\n",
       "      <td>278.404382</td>\n",
       "    </tr>\n",
       "  </tbody>\n",
       "</table>"
      ],
      "text/plain": [
       "          start        stop  resolution        dist\n",
       "LS1  [595, 274]  [610, 552]  [200, 200]  278.404382"
      ]
     },
     "execution_count": 7,
     "metadata": {},
     "output_type": "execute_result"
    }
   ],
   "source": [
    "# %% Set sections\n",
    "section_dict = {'LS1': ([595, 274],\n",
    "                        [610, 552],\n",
    "                        [200, 200]),}\n",
    "geo_data.grid.create_section_grid(section_dict)"
   ]
  },
  {
   "cell_type": "code",
   "execution_count": 8,
   "metadata": {},
   "outputs": [
    {
     "name": "stdout",
     "output_type": "stream",
     "text": [
      "Compiling theano function...\n",
      "Level of Optimization:  fast_run\n",
      "Device:  cpu\n",
      "Precision:  float64\n",
      "Number of faults:  2\n",
      "Compilation Done!\n"
     ]
    },
    {
     "name": "stderr",
     "output_type": "stream",
     "text": [
      "C:\\ProgramData\\Anaconda3\\lib\\site-packages\\gempy\\core\\solution.py:284: UserWarning: Attribute error. Using non masked marching cubesmarching_cubes_lewiner() got an unexpected keyword argument 'mask'.\n",
      "  warnings.warn('Attribute error. Using non masked marching cubes' + str(e)+'.')\n"
     ]
    },
    {
     "data": {
      "text/plain": [
       "\n",
       "Lithology ids \n",
       "  [7. 7. 7. ... 3. 3. 3.] "
      ]
     },
     "execution_count": 8,
     "metadata": {},
     "output_type": "execute_result"
    }
   ],
   "source": [
    "# %% Interpolation\n",
    "gp.set_interpolator(geo_data, compile_theano=True, theano_optimizer='fast_run', verbose=[])\n",
    "# geo_data.modify_kriging_parameters('range', 100)\n",
    "# geo_data.modify_kriging_parameters('$C_o$', 100)\n",
    "\n",
    "gp.compute_model(geo_data, sort_surfaces=False, compute_mesh=True)"
   ]
  },
  {
   "cell_type": "code",
   "execution_count": 9,
   "metadata": {},
   "outputs": [
    {
     "data": {
      "image/png": "[encoded data removed]",
      "text/plain": [
       "<Figure size 748.8x514.8 with 1 Axes>"
      ]
     },
     "metadata": {},
     "output_type": "display_data"
    },
    {
     "data": {
      "text/plain": [
       "<Figure size 748.8x514.8 with 0 Axes>"
      ]
     },
     "metadata": {},
     "output_type": "display_data"
    }
   ],
   "source": [
    "# %% plot contacts\n",
    "for i in geo_data.grid.sections.names:\n",
    "    p = gp._plot.plot_2d(geo_data)\n",
    "    sec_name = i\n",
    "    a = p.add_section(sec_name)\n",
    "    # p.plot_lith(a, sec_name)\n",
    "    p.plot_contacts(a, sec_name, a=0.5)\n",
    "    p.create_figure()\n",
    "del i, sec_name, a"
   ]
  },
  {
   "cell_type": "code",
   "execution_count": 10,
   "metadata": {},
   "outputs": [
    {
     "data": {
      "text/html": [
       "<div>\n",
       "<style scoped>\n",
       "    .dataframe tbody tr th:only-of-type {\n",
       "        vertical-align: middle;\n",
       "    }\n",
       "\n",
       "    .dataframe tbody tr th {\n",
       "        vertical-align: top;\n",
       "    }\n",
       "\n",
       "    .dataframe thead th {\n",
       "        text-align: right;\n",
       "    }\n",
       "</style>\n",
       "<table border=\"1\" class=\"dataframe\">\n",
       "  <thead>\n",
       "    <tr style=\"text-align: right;\">\n",
       "      <th></th>\n",
       "      <th>val</th>\n",
       "    </tr>\n",
       "  </thead>\n",
       "  <tbody>\n",
       "    <tr>\n",
       "      <td>4</td>\n",
       "      <td>PolyData (0x1fe7e74adc8)\\n  N Cells:\\t5624\\n  ...</td>\n",
       "    </tr>\n",
       "    <tr>\n",
       "      <td>5</td>\n",
       "      <td>PolyData (0x1fe7e74aee8)\\n  N Cells:\\t5634\\n  ...</td>\n",
       "    </tr>\n",
       "    <tr>\n",
       "      <td>0</td>\n",
       "      <td>PolyData (0x1fe7e74ae28)\\n  N Cells:\\t6612\\n  ...</td>\n",
       "    </tr>\n",
       "    <tr>\n",
       "      <td>1</td>\n",
       "      <td>PolyData (0x1fe7e74aca8)\\n  N Cells:\\t7078\\n  ...</td>\n",
       "    </tr>\n",
       "    <tr>\n",
       "      <td>2</td>\n",
       "      <td>PolyData (0x1fe7e74a3a8)\\n  N Cells:\\t7026\\n  ...</td>\n",
       "    </tr>\n",
       "    <tr>\n",
       "      <td>3</td>\n",
       "      <td>PolyData (0x1fe7e508408)\\n  N Cells:\\t6526\\n  ...</td>\n",
       "    </tr>\n",
       "  </tbody>\n",
       "</table>\n",
       "</div>"
      ],
      "text/plain": [
       "                                                 val\n",
       "4  PolyData (0x1fe7e74adc8)\\n  N Cells:\\t5624\\n  ...\n",
       "5  PolyData (0x1fe7e74aee8)\\n  N Cells:\\t5634\\n  ...\n",
       "0  PolyData (0x1fe7e74ae28)\\n  N Cells:\\t6612\\n  ...\n",
       "1  PolyData (0x1fe7e74aca8)\\n  N Cells:\\t7078\\n  ...\n",
       "2  PolyData (0x1fe7e74a3a8)\\n  N Cells:\\t7026\\n  ...\n",
       "3  PolyData (0x1fe7e508408)\\n  N Cells:\\t6526\\n  ..."
      ]
     },
     "execution_count": 10,
     "metadata": {},
     "output_type": "execute_result"
    }
   ],
   "source": [
    "# plot 3D\n",
    "gv = vista.Vista(geo_data, plotter_type='background', notebook=False,\n",
    "                  real_time=True)\n",
    "gv.plot_surfaces()\n",
    "# gv.plot_surface_points()\n",
    "# gv.plot_topography()\n",
    "# gv.plot_orientations()"
   ]
  },
  {
   "cell_type": "code",
   "execution_count": null,
   "metadata": {},
   "outputs": [],
   "source": []
  }
 ],
 "metadata": {
  "kernelspec": {
   "display_name": "Python 3",
   "language": "python",
   "name": "python3"
  },
  "language_info": {
   "codemirror_mode": {
    "name": "ipython",
    "version": 3
   },
   "file_extension": ".py",
   "mimetype": "text/x-python",
   "name": "python",
   "nbconvert_exporter": "python",
   "pygments_lexer": "ipython3",
   "version": "3.7.6"
  }
 },
 "nbformat": 4,
 "nbformat_minor": 4
}
