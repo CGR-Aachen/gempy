# -*- coding: utf-8 -*-
"""
Created on Thu Apr 23 2020

@author: domist07
"""

import pandas as pn

path_sp = "D:/Daten/Test-Ori/Test-Ori_Coo.txt"
df_sp = pn.read_csv(path_sp)
path_o = "D:/Daten/Test-Ori/Test-Ori_Ori.txt"
df_o = pn.read_csv(path_o)
test_calc_ori_knn(df_sp, df_o)
print("KNN OK")
test_calc_ori_range(df_sp, df_o)
print("Range OK")
