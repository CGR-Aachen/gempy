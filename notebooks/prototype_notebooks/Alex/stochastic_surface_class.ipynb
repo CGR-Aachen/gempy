{
 "cells": [
  {
   "cell_type": "code",
   "execution_count": 1,
   "metadata": {},
   "outputs": [
    {
     "name": "stdout",
     "output_type": "stream",
     "text": [
      "no gdal\n"
     ]
    },
    {
     "name": "stderr",
     "output_type": "stream",
     "text": [
      "WARNING (theano.tensor.blas): Using NumPy C-API based implementation for BLAS functions.\n"
     ]
    }
   ],
   "source": [
    "# These two lines are necessary only if GemPy is not installed\n",
    "import sys, os\n",
    "sys.path.append(\"../../..\")\n",
    "\n",
    "# Importing GemPy\n",
    "import gempy as gp\n",
    "\n",
    "# Embedding matplotlib figures in the notebooks\n",
    "%matplotlib inline\n",
    "\n",
    "# Importing auxiliary libraries\n",
    "import numpy as np\n",
    "import matplotlib.pyplot as plt\n"
   ]
  },
  {
   "cell_type": "code",
   "execution_count": 2,
   "metadata": {},
   "outputs": [],
   "source": [
    "from typing import Tuple\n",
    "import pandas as pd"
   ]
  },
  {
   "cell_type": "code",
   "execution_count": 3,
   "metadata": {},
   "outputs": [],
   "source": [
    "def generate(n_interfaces: int, seed=42) -> Tuple[pd.DataFrame, pd.DataFrame]:\n",
    "    surface_points = pd.DataFrame()\n",
    "    orientations = pd.DataFrame()\n",
    "    \n",
    "    for n in range(n_interfaces):\n",
    "        x = np.random.rand(15) * 3\n",
    "        y = np.random.rand(15)\n",
    "        \n",
    "        def func(x, y):\n",
    "            return np.sin(x) + np.cos(y)\n",
    "        \n",
    "        z = func(x, y) + n\n",
    "        \n",
    "        surfpts = pd.DataFrame({\"X\": x, \"Y\": y, \"Z\": z})\n",
    "        surfpts[\"formation\"] = \"Interface {}\".format(n + 1)\n",
    "        surface_points = surface_points.append(surfpts)\n",
    "        \n",
    "        orientpts = pd.DataFrame({\"X\": [np.mean(surfpts.X)], \"Y\": [np.mean(surfpts.Y)], \"Z\": [np.mean(surfpts.Z)], \"azimuth\": [90], \"dip\": [3], \"polarity\": [1], \"formation\": [\"Interface {}\".format(n + 1)]})\n",
    "        orientations = orientations.append(orientpts)\n",
    "    return surface_points, orientations\n",
    "    \n",
    "surface_points, orientations = generate(3, seed=41)"
   ]
  },
  {
   "cell_type": "code",
   "execution_count": 4,
   "metadata": {},
   "outputs": [],
   "source": [
    "surface_points.to_csv(\"surfpts.csv\", index=False)\n",
    "orientations.to_csv(\"orientpts.csv\", index=False)"
   ]
  },
  {
   "cell_type": "raw",
   "metadata": {},
   "source": [
    "np.random.seed(42)\n",
    "x = np.random.rand(30) * 3\n",
    "y = np.random.rand(30)\n",
    "\n",
    "def func(x, y):\n",
    "    return np.sin(x) + np.cos(y)\n",
    "\n",
    "z = func(x, y)\n",
    "\n",
    "\n",
    "\n",
    "surfpts = pd.DataFrame({\"X\": x, \"Y\": y, \"Z\": z})\n",
    "surfpts[\"formation\"] = \"Interface 1\"\n",
    "surfpts.to_csv(\"surfpts.csv\", index=False)\n",
    "\n",
    "orientpts = pd.DataFrame({\"X\": [1.5], \"Y\": [0.5], \"Z\": [1.7], \"azimuth\": [90], \"dip\": [3], \"polarity\": [1], \"formation\": [\"Interface 1\"]})\n",
    "orientpts.to_csv(\"orientpts.csv\", index=False)"
   ]
  },
  {
   "cell_type": "raw",
   "metadata": {},
   "source": [
    "import ipyvolume as ipv\n",
    "ipv.figure()\n",
    "\n",
    "ipv.scatter(x, y, z)\n",
    "ipv.show()"
   ]
  },
  {
   "cell_type": "code",
   "execution_count": 5,
   "metadata": {},
   "outputs": [
    {
     "data": {
      "text/plain": [
       "StochSurfTesting  2019-04-29 12:49"
      ]
     },
     "execution_count": 5,
     "metadata": {},
     "output_type": "execute_result"
    }
   ],
   "source": [
    "geo_model = gp.create_model('StochSurfTesting')\n",
    "gp.init_data(geo_model, [surface_points.min().X * 0.95, surface_points.max().X * 1.05,\n",
    "                         surface_points.min().Y * 0.95, surface_points.max().Y * 1.05,\n",
    "                         surface_points.min().Z * 0.2, surface_points.max().Z * 1.2],\n",
    "             [50,50,50], path_i=\"surfpts.csv\", path_o=\"orientpts.csv\")"
   ]
  },
  {
   "cell_type": "code",
   "execution_count": 6,
   "metadata": {},
   "outputs": [
    {
     "data": {
      "image/png": "[encoded data removed]",
      "text/plain": [
       "<Figure size 432x288 with 1 Axes>"
      ]
     },
     "execution_count": 6,
     "metadata": {},
     "output_type": "execute_result"
    }
   ],
   "source": [
    "gp.map_series_to_surfaces(geo_model, \n",
    "                            {\"Default series\": [\"Interface {}\".format(n + 1) for n in range(3)]})"
   ]
  },
  {
   "cell_type": "code",
   "execution_count": 16,
   "metadata": {},
   "outputs": [
    {
     "data": {
      "text/plain": [
       "<gempy.plot.visualization_2d.PlotData2D at 0x2ae20d86a90>"
      ]
     },
     "execution_count": 16,
     "metadata": {},
     "output_type": "execute_result"
    },
    {
     "data": {
      "image/png": "[encoded data removed]",
      "text/plain": [
       "<Figure size 239.003x360 with 1 Axes>"
      ]
     },
     "metadata": {},
     "output_type": "display_data"
    }
   ],
   "source": [
    "gp.plot.plot_data(geo_model)"
   ]
  },
  {
   "cell_type": "code",
   "execution_count": 8,
   "metadata": {},
   "outputs": [
    {
     "name": "stdout",
     "output_type": "stream",
     "text": [
      "Compiling theano function...\n",
      "Compilation Done!\n"
     ]
    },
    {
     "data": {
      "text/html": [
       "<table border=\"1\" class=\"dataframe\">\n",
       "  <thead>\n",
       "    <tr style=\"text-align: right;\">\n",
       "      <th></th>\n",
       "      <th>values</th>\n",
       "    </tr>\n",
       "  </thead>\n",
       "  <tbody>\n",
       "    <tr>\n",
       "      <th>dtype</th>\n",
       "      <td>float64</td>\n",
       "    </tr>\n",
       "    <tr>\n",
       "      <th>output</th>\n",
       "      <td>geology</td>\n",
       "    </tr>\n",
       "    <tr>\n",
       "      <th>theano_optimizer</th>\n",
       "      <td>fast_compile</td>\n",
       "    </tr>\n",
       "    <tr>\n",
       "      <th>device</th>\n",
       "      <td>cpu</td>\n",
       "    </tr>\n",
       "    <tr>\n",
       "      <th>verbosity</th>\n",
       "      <td>[]</td>\n",
       "    </tr>\n",
       "  </tbody>\n",
       "</table>"
      ],
      "text/plain": [
       "                        values\n",
       "dtype                  float64\n",
       "output                 geology\n",
       "theano_optimizer  fast_compile\n",
       "device                     cpu\n",
       "verbosity                   []"
      ]
     },
     "execution_count": 8,
     "metadata": {},
     "output_type": "execute_result"
    }
   ],
   "source": [
    "gp.set_interpolation_data(\n",
    "    geo_model, output='geology', compile_theano=True, theano_optimizer='fast_compile'\n",
    ")"
   ]
  },
  {
   "cell_type": "code",
   "execution_count": 9,
   "metadata": {},
   "outputs": [],
   "source": [
    "sol = gp.compute_model(geo_model, compute_mesh=True)"
   ]
  },
  {
   "cell_type": "code",
   "execution_count": 10,
   "metadata": {},
   "outputs": [
    {
     "data": {
      "application/vnd.jupyter.widget-view+json": {
       "model_id": "f1b41463d2464b97bb075c795d47205f",
       "version_major": 2,
       "version_minor": 0
      },
      "text/plain": [
       "VBox(children=(Figure(camera=PerspectiveCamera(fov=46.0, position=(0.0, 0.0, 2.0), quaternion=(0.0, 0.0, 0.0, …"
      ]
     },
     "metadata": {},
     "output_type": "display_data"
    }
   ],
   "source": [
    "gp.plot.plot_surfaces_3d_ipv(geo_model)"
   ]
  },
  {
   "cell_type": "code",
   "execution_count": 11,
   "metadata": {},
   "outputs": [],
   "source": [
    "from stochasticsurf import StochasticSurfaceScipy"
   ]
  },
  {
   "cell_type": "code",
   "execution_count": 20,
   "metadata": {},
   "outputs": [
    {
     "data": {
      "text/plain": [
       "['Interface 1', 'Interface 2', 'Interface 3']"
      ]
     },
     "execution_count": 20,
     "metadata": {},
     "output_type": "execute_result"
    }
   ],
   "source": [
    "surfaces = [\"Interface {}\".format(n + 1) for n in range(3)]\n",
    "surfaces"
   ]
  },
  {
   "cell_type": "code",
   "execution_count": 12,
   "metadata": {},
   "outputs": [],
   "source": [
    "stochastic_surfaces = []\n",
    "for surface in surfaces:\n",
    "    stochsurf = StochasticSurfaceScipy(geo_model, surface)  # create stochastic surf obj\n",
    "    stochastic_surfaces.append(stochsurf)  "
   ]
  },
  {
   "cell_type": "code",
   "execution_count": 21,
   "metadata": {},
   "outputs": [],
   "source": [
    "for stochsurf in stochastic_surfaces:\n",
    "    stochsurf.parametrize_surfpts_naive(factor=0.005, direction=\"X\")"
   ]
  },
  {
   "cell_type": "code",
   "execution_count": 22,
   "metadata": {},
   "outputs": [],
   "source": [
    "for stochsurf in stochastic_surfaces:\n",
    "    stochsurf.modify_surface_points()\n",
    "#     stochsurf"
   ]
  },
  {
   "cell_type": "raw",
   "metadata": {},
   "source": [
    "for stochsurf in stochastic_surfaces:\n",
    "    stochsurf.reset()"
   ]
  },
  {
   "cell_type": "code",
   "execution_count": 23,
   "metadata": {},
   "outputs": [
    {
     "data": {
      "application/vnd.jupyter.widget-view+json": {
       "model_id": "c4a78d11c07240d3832b10475a41f462",
       "version_major": 2,
       "version_minor": 0
      },
      "text/plain": [
       "VBox(children=(Figure(camera=PerspectiveCamera(fov=46.0, position=(0.0, 0.0, 2.0), quaternion=(0.0, 0.0, 0.0, …"
      ]
     },
     "metadata": {},
     "output_type": "display_data"
    }
   ],
   "source": [
    "sol = gp.compute_model(geo_model, compute_mesh=True)\n",
    "gp.plot.plot_surfaces_3d_ipv(geo_model)"
   ]
  },
  {
   "cell_type": "code",
   "execution_count": 18,
   "metadata": {},
   "outputs": [
    {
     "data": {
      "text/plain": [
       "(1, 1, 125000)"
      ]
     },
     "execution_count": 18,
     "metadata": {},
     "output_type": "execute_result"
    }
   ],
   "source": [
    "geo_model.solutions.block_matrix.shape"
   ]
  },
  {
   "cell_type": "code",
   "execution_count": null,
   "metadata": {},
   "outputs": [],
   "source": []
  },
  {
   "cell_type": "code",
   "execution_count": null,
   "metadata": {},
   "outputs": [],
   "source": []
  },
  {
   "cell_type": "code",
   "execution_count": null,
   "metadata": {},
   "outputs": [],
   "source": []
  },
  {
   "cell_type": "code",
   "execution_count": 31,
   "metadata": {},
   "outputs": [],
   "source": [
    "import scipy.stats as ss"
   ]
  },
  {
   "cell_type": "code",
   "execution_count": 47,
   "metadata": {},
   "outputs": [],
   "source": [
    "stoch_param = {\"Z\": [\n",
    "            ss.norm(loc=0, scale=stochsurf.geo_model.grid.extent[5] * 0.01)\n",
    "            for z in stochsurf.surface_points.loc[stochsurf.isurf].Z\n",
    "        ],\n",
    "              \"Y\": [\n",
    "            ss.norm(loc=0, scale=stochsurf.geo_model.grid.extent[5] * 0.01)\n",
    "            for z in stochsurf.surface_points.loc[stochsurf.isurf].Z\n",
    "        ]}"
   ]
  },
  {
   "cell_type": "code",
   "execution_count": 49,
   "metadata": {},
   "outputs": [
    {
     "name": "stdout",
     "output_type": "stream",
     "text": [
      "Z [<scipy.stats._distn_infrastructure.rv_frozen object at 0x000002400AB60B70>, <scipy.stats._distn_infrastructure.rv_frozen object at 0x000002400B7720B8>, <scipy.stats._distn_infrastructure.rv_frozen object at 0x000002400AB74B38>, <scipy.stats._distn_infrastructure.rv_frozen object at 0x000002400AB74160>, <scipy.stats._distn_infrastructure.rv_frozen object at 0x000002400AB74470>, <scipy.stats._distn_infrastructure.rv_frozen object at 0x000002400AB748D0>, <scipy.stats._distn_infrastructure.rv_frozen object at 0x000002400AB74E48>, <scipy.stats._distn_infrastructure.rv_frozen object at 0x000002400B595B00>, <scipy.stats._distn_infrastructure.rv_frozen object at 0x000002400AAE83C8>, <scipy.stats._distn_infrastructure.rv_frozen object at 0x000002400AAE8208>, <scipy.stats._distn_infrastructure.rv_frozen object at 0x000002400AB10240>, <scipy.stats._distn_infrastructure.rv_frozen object at 0x000002400B3B2550>, <scipy.stats._distn_infrastructure.rv_frozen object at 0x000002400B3B2AC8>, <scipy.stats._distn_infrastructure.rv_frozen object at 0x000002400B3B2FD0>, <scipy.stats._distn_infrastructure.rv_frozen object at 0x000002400AB08BA8>]\n",
      "Y [<scipy.stats._distn_infrastructure.rv_frozen object at 0x000002400AB60B00>, <scipy.stats._distn_infrastructure.rv_frozen object at 0x000002400AB086D8>, <scipy.stats._distn_infrastructure.rv_frozen object at 0x000002400AB082E8>, <scipy.stats._distn_infrastructure.rv_frozen object at 0x000002400AAE8EF0>, <scipy.stats._distn_infrastructure.rv_frozen object at 0x000002400AAE8EB8>, <scipy.stats._distn_infrastructure.rv_frozen object at 0x000002400AAE8D30>, <scipy.stats._distn_infrastructure.rv_frozen object at 0x000002400AAE8BA8>, <scipy.stats._distn_infrastructure.rv_frozen object at 0x000002400AAE8A20>, <scipy.stats._distn_infrastructure.rv_frozen object at 0x000002400AAE8898>, <scipy.stats._distn_infrastructure.rv_frozen object at 0x000002400AAE86A0>, <scipy.stats._distn_infrastructure.rv_frozen object at 0x000002400AAE84E0>, <scipy.stats._distn_infrastructure.rv_frozen object at 0x000002400AB10160>, <scipy.stats._distn_infrastructure.rv_frozen object at 0x000002400AB74C18>, <scipy.stats._distn_infrastructure.rv_frozen object at 0x000002400BBA05F8>, <scipy.stats._distn_infrastructure.rv_frozen object at 0x0000024009A19DD8>]\n"
     ]
    }
   ],
   "source": [
    "for key, value in stoch_param.items():\n",
    "    print(key, value)"
   ]
  },
  {
   "cell_type": "code",
   "execution_count": 51,
   "metadata": {},
   "outputs": [
    {
     "name": "stdout",
     "output_type": "stream",
     "text": [
      "X [1, 2, 3]\n",
      "Y [3, 2, 1]\n"
     ]
    }
   ],
   "source": [
    "for key, value in {\"X\": [1, 2, 3], \"Y\": [3, 2, 1]}.items():\n",
    "    print(key, value)"
   ]
  },
  {
   "cell_type": "code",
   "execution_count": null,
   "metadata": {},
   "outputs": [],
   "source": []
  },
  {
   "cell_type": "code",
   "execution_count": null,
   "metadata": {},
   "outputs": [],
   "source": []
  },
  {
   "cell_type": "code",
   "execution_count": 42,
   "metadata": {},
   "outputs": [
    {
     "data": {
      "text/plain": [
       "array([2.09235348, 0.26095278])"
      ]
     },
     "execution_count": 42,
     "metadata": {},
     "output_type": "execute_result"
    }
   ],
   "source": [
    "geo_model.surface_points.df.loc[1:2, \"X\"].values"
   ]
  },
  {
   "cell_type": "code",
   "execution_count": null,
   "metadata": {},
   "outputs": [],
   "source": []
  },
  {
   "cell_type": "code",
   "execution_count": 154,
   "metadata": {},
   "outputs": [],
   "source": [
    "pd.DataFrame(ver).to_csv(\"ver.csv\", index=False)"
   ]
  },
  {
   "cell_type": "code",
   "execution_count": 155,
   "metadata": {},
   "outputs": [],
   "source": [
    "pd.DataFrame(sim).to_csv(\"sim.csv\", index=False)"
   ]
  },
  {
   "cell_type": "code",
   "execution_count": 81,
   "metadata": {},
   "outputs": [],
   "source": [
    "solutions = []\n",
    "vertices = []\n",
    "simplices = []\n",
    "\n",
    "for _ in range(10):\n",
    "    zmod = stochastic_surface.draw_surfpts()  # draw z modifier\n",
    "    surfptsmod = geo_model.modify_surface_points(stochastic_surface.isurf, **{\"Z\": surfpts.Z.values + zmod})  # apply\n",
    "    sol = gp.compute_model(geo_model, compute_mesh=True)\n",
    "    solutions.append(sol)\n",
    "    # store results\n",
    "    vertices.append(sol.vertices[0].astype(\"float32\"))\n",
    "    simplices.append(sol.edges[0])"
   ]
  },
  {
   "cell_type": "code",
   "execution_count": 44,
   "metadata": {},
   "outputs": [
    {
     "data": {
      "text/plain": [
       "'0.18.4'"
      ]
     },
     "execution_count": 44,
     "metadata": {},
     "output_type": "execute_result"
    }
   ],
   "source": [
    "import vtki\n",
    "vtki.__version__"
   ]
  },
  {
   "cell_type": "code",
   "execution_count": 147,
   "metadata": {},
   "outputs": [
    {
     "data": {
      "image/png": "[encoded data removed]",
      "text/plain": [
       "<Figure size 748.8x514.8 with 1 Axes>"
      ]
     },
     "metadata": {},
     "output_type": "display_data"
    }
   ],
   "source": [
    "from mpl_toolkits.mplot3d import Axes3D\n",
    "fig = plt.figure()\n",
    "ax = fig.gca(projection='3d')\n",
    "ax.plot_trisurf(x, y, z, linewidth=0.2, antialiased=True)\n"
   ]
  },
  {
   "cell_type": "code",
   "execution_count": null,
   "metadata": {},
   "outputs": [],
   "source": []
  },
  {
   "cell_type": "code",
   "execution_count": null,
   "metadata": {},
   "outputs": [],
   "source": []
  },
  {
   "cell_type": "code",
   "execution_count": null,
   "metadata": {},
   "outputs": [],
   "source": []
  },
  {
   "cell_type": "raw",
   "metadata": {},
   "source": [
    "import plotly.plotly as py\n",
    "import plotly.figure_factory as FF\n",
    "import plotly.graph_objs as go\n",
    "fig1 = FF.create_trisurf(\n",
    "    x=ver[:, 0], y=ver[:, 1], z=ver[:, 2],\n",
    "    simplices=sim)"
   ]
  },
  {
   "cell_type": "raw",
   "metadata": {},
   "source": []
  },
  {
   "cell_type": "code",
   "execution_count": 148,
   "metadata": {},
   "outputs": [
    {
     "data": {
      "text/plain": [
       "array([[0.0000000e+00, 1.9715871e-03, 1.0200000e+00],\n",
       "       [0.0000000e+00, 2.0000000e-02, 1.0118009e+00],\n",
       "       [4.6805479e-03, 2.0000000e-02, 1.0200000e+00],\n",
       "       ...,\n",
       "       [2.9400001e+00, 9.5378411e-01, 7.2000003e-01],\n",
       "       [2.9123356e+00, 9.8000002e-01, 7.2000003e-01],\n",
       "       [2.9400001e+00, 9.8000002e-01, 6.9890046e-01]], dtype=float32)"
      ]
     },
     "execution_count": 148,
     "metadata": {},
     "output_type": "execute_result"
    }
   ],
   "source": [
    "ver"
   ]
  },
  {
   "cell_type": "code",
   "execution_count": null,
   "metadata": {},
   "outputs": [],
   "source": []
  },
  {
   "cell_type": "code",
   "execution_count": null,
   "metadata": {},
   "outputs": [],
   "source": []
  },
  {
   "cell_type": "code",
   "execution_count": 63,
   "metadata": {},
   "outputs": [],
   "source": [
    "import ipywidgets as ipyw"
   ]
  },
  {
   "cell_type": "code",
   "execution_count": 106,
   "metadata": {},
   "outputs": [],
   "source": [
    "def plot(i):\n",
    "    ver = vertices[i]\n",
    "    sim = simplices[i]\n",
    "    fig = ipv.gcf()\n",
    "    mesh = ipv.plot_trisurf(\n",
    "        ver[:, 0],\n",
    "        ver[:, 1],\n",
    "        ver[:, 2],\n",
    "        triangles=sim,\n",
    "    )"
   ]
  },
  {
   "cell_type": "raw",
   "metadata": {},
   "source": [
    "ipv.figure(width=600, height=600)\n",
    "\n",
    "ver = vertices[0]\n",
    "sim = simplices[0]\n",
    "\n",
    "mesh = ipv.plot_trisurf(ver[:, 0], ver[:, 1], ver[:, 2], triangles=sim)\n",
    "\n",
    "def make_visible(change):\n",
    "    print(change)\n",
    "    global mesh\n",
    "    fig = ipv.gcf()  # get current figure\n",
    "    old = mesh\n",
    "    target = change['new']\n",
    "    \n",
    "    ver = vertices[target]\n",
    "    sim = simplices[target]\n",
    "    \n",
    "    mesh = ipv.plot_trisurf(ver[:, 0], ver[:, 1], ver[:, 2], triangles=sim)\n",
    "    meshes = list(fig.meshes)\n",
    "    meshes.remove(old)\n",
    "    fig.meshes = meshes\n",
    "    \n",
    "slider = ipyw.IntSlider(min=0, max=len(vertices)-1, step=1, value=0)\n",
    "slider.observe(make_visible, 'value', 'change')\n",
    "\n",
    "play_button = ipyw.Play(min=0, max=len(vertices)-1, interval=200)\n",
    "ipyw.jslink((play_button, 'value'), (slider, 'value'))\n",
    "ipyw.HBox([play_button, slider])\n",
    "ipv.animation_control\n",
    "\n",
    "ipv.show()"
   ]
  },
  {
   "cell_type": "code",
   "execution_count": null,
   "metadata": {},
   "outputs": [],
   "source": []
  },
  {
   "cell_type": "code",
   "execution_count": null,
   "metadata": {},
   "outputs": [],
   "source": []
  },
  {
   "cell_type": "code",
   "execution_count": null,
   "metadata": {},
   "outputs": [],
   "source": []
  },
  {
   "cell_type": "code",
   "execution_count": null,
   "metadata": {},
   "outputs": [],
   "source": [
    "\n",
    "gp.plot.plot_surfaces_3d_ipv(geo_model)"
   ]
  },
  {
   "cell_type": "code",
   "execution_count": null,
   "metadata": {},
   "outputs": [],
   "source": []
  },
  {
   "cell_type": "code",
   "execution_count": null,
   "metadata": {},
   "outputs": [],
   "source": [
    "ipv.figure()\n",
    "\n",
    "mesh = ipv.plot_trisurf(\n",
    "    ver[:, 0],\n",
    "    ver[:, 1],\n",
    "    ver[:, 2],\n",
    "    triangles=sim,\n",
    "    color=list(self.geo_model.surfaces.df['color'])[surf]\n",
    ")\n",
    "\n",
    "ipv.xlim(self.geo_model.grid.extent[0], self.geo_model.grid.extent[1])\n",
    "ipv.ylim(self.geo_model.grid.extent[2], self.geo_model.grid.extent[3])\n",
    "ipv.zlim(self.geo_model.grid.extent[4], self.geo_model.grid.extent[5])\n",
    "ipv.show()\n",
    "return ipv"
   ]
  },
  {
   "cell_type": "code",
   "execution_count": null,
   "metadata": {},
   "outputs": [],
   "source": []
  }
 ],
 "metadata": {
  "kernelspec": {
   "display_name": "Python [conda env:gempy]",
   "language": "python",
   "name": "conda-env-gempy-py"
  },
  "language_info": {
   "codemirror_mode": {
    "name": "ipython",
    "version": 3
   },
   "file_extension": ".py",
   "mimetype": "text/x-python",
   "name": "python",
   "nbconvert_exporter": "python",
   "pygments_lexer": "ipython3",
   "version": "3.7.2"
  }
 },
 "nbformat": 4,
 "nbformat_minor": 2
}
