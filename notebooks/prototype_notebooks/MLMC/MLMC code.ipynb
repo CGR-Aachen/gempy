{
 "cells": [
  {
   "cell_type": "code",
   "execution_count": 13,
   "metadata": {
    "code_folding": [],
    "collapsed": true,
    "slideshow": {
     "slide_type": "skip"
    }
   },
   "outputs": [],
   "source": [
    "# These two lines are necessary only if gempy is not installed\n",
    "import sys, os\n",
    "sys.path.append(\"../../../gempy\")\n",
    "\n",
    "import gempy as gp\n",
    "# Embedding matplotlib figures into the notebooks\n",
    "%matplotlib inline\n",
    "\n",
    "# Aux imports\n",
    "\n",
    "import numpy as np\n",
    "import pandas as pn\n",
    "import matplotlib.pyplot as plt"
   ]
  },
  {
   "cell_type": "code",
   "execution_count": 14,
   "metadata": {
    "slideshow": {
     "slide_type": "skip"
    }
   },
   "outputs": [
    {
     "data": {
      "text/plain": [
       "{'scroll': True,\n",
       " 'start_slideshow_at': 'selected',\n",
       " 'theme': 'serif',\n",
       " 'transition': 'slide'}"
      ]
     },
     "execution_count": 14,
     "metadata": {},
     "output_type": "execute_result"
    }
   ],
   "source": [
    "from notebook.services.config import ConfigManager\n",
    "cm = ConfigManager()\n",
    "cm.update('livereveal', {\n",
    "              'theme': 'serif',\n",
    "              'transition': 'slide',\n",
    "              'start_slideshow_at': 'selected',\n",
    "              'scroll': True,\n",
    "})"
   ]
  },
  {
   "cell_type": "code",
   "execution_count": 41,
   "metadata": {
    "collapsed": true
   },
   "outputs": [],
   "source": [
    "res = 40 # resolutions in x, y, z direction\n",
    "\n",
    "x1=-10 # the extent of domain in x, y, z directions\n",
    "x2=30\n",
    "y1=-10\n",
    "y2=20\n",
    "z1=-10\n",
    "z2=0"
   ]
  },
  {
   "cell_type": "code",
   "execution_count": 16,
   "metadata": {},
   "outputs": [
    {
     "name": "stdout",
     "output_type": "stream",
     "text": [
      "10.0 7.5 2.5\n"
     ]
    },
    {
     "data": {
      "text/plain": [
       "12.747548783981962"
      ]
     },
     "execution_count": 16,
     "metadata": {},
     "output_type": "execute_result"
    }
   ],
   "source": [
    "dx_voxel = (x2-x1)/res # computing the dimension dx, dy, dz of the voxel in x, y and z direction\n",
    "dy_voxel = (y2-y1)/res\n",
    "dz_voxel = (z2-z1)/res\n",
    "print(dx_voxel, dy_voxel, dz_voxel)\n",
    "\n",
    "diagonal = np.sqrt(dx_voxel**2 + dy_voxel**2 + dz_voxel**2) # length of the diagonal of each voxel\n",
    "diagonal # maximum distance between two points in a cuboid"
   ]
  },
  {
   "cell_type": "code",
   "execution_count": 42,
   "metadata": {},
   "outputs": [
    {
     "data": {
      "text/html": [
       "<div>\n",
       "<style>\n",
       "    .dataframe thead tr:only-child th {\n",
       "        text-align: right;\n",
       "    }\n",
       "\n",
       "    .dataframe thead th {\n",
       "        text-align: left;\n",
       "    }\n",
       "\n",
       "    .dataframe tbody tr th {\n",
       "        vertical-align: top;\n",
       "    }\n",
       "</style>\n",
       "<table border=\"1\" class=\"dataframe\">\n",
       "  <thead>\n",
       "    <tr style=\"text-align: right;\">\n",
       "      <th></th>\n",
       "      <th>X</th>\n",
       "      <th>Y</th>\n",
       "      <th>Z</th>\n",
       "      <th>formation</th>\n",
       "      <th>series</th>\n",
       "      <th>order_series</th>\n",
       "      <th>isFault</th>\n",
       "      <th>formation_number</th>\n",
       "      <th>annotations</th>\n",
       "      <th>Z_std</th>\n",
       "    </tr>\n",
       "  </thead>\n",
       "  <tbody>\n",
       "    <tr>\n",
       "      <th>0</th>\n",
       "      <td>4.345153</td>\n",
       "      <td>5.0</td>\n",
       "      <td>-1.921564</td>\n",
       "      <td>fault1</td>\n",
       "      <td>Default serie</td>\n",
       "      <td>1</td>\n",
       "      <td>False</td>\n",
       "      <td>1</td>\n",
       "      <td>${\\bf{x}}_{\\alpha \\,{\\bf{1}},0}$</td>\n",
       "      <td>NaN</td>\n",
       "    </tr>\n",
       "    <tr>\n",
       "      <th>1</th>\n",
       "      <td>10.000000</td>\n",
       "      <td>4.0</td>\n",
       "      <td>-7.000000</td>\n",
       "      <td>fault1</td>\n",
       "      <td>Default serie</td>\n",
       "      <td>1</td>\n",
       "      <td>False</td>\n",
       "      <td>1</td>\n",
       "      <td>${\\bf{x}}_{\\alpha \\,{\\bf{1}},1}$</td>\n",
       "      <td>NaN</td>\n",
       "    </tr>\n",
       "    <tr>\n",
       "      <th>2</th>\n",
       "      <td>2.303022</td>\n",
       "      <td>5.0</td>\n",
       "      <td>-1.647248</td>\n",
       "      <td>Unconformity</td>\n",
       "      <td>Default serie</td>\n",
       "      <td>1</td>\n",
       "      <td>False</td>\n",
       "      <td>2</td>\n",
       "      <td>${\\bf{x}}_{\\alpha \\,{\\bf{2}},0}$</td>\n",
       "      <td>NaN</td>\n",
       "    </tr>\n",
       "    <tr>\n",
       "      <th>3</th>\n",
       "      <td>1.083840</td>\n",
       "      <td>5.0</td>\n",
       "      <td>-1.738687</td>\n",
       "      <td>Unconformity</td>\n",
       "      <td>Default serie</td>\n",
       "      <td>1</td>\n",
       "      <td>False</td>\n",
       "      <td>2</td>\n",
       "      <td>${\\bf{x}}_{\\alpha \\,{\\bf{2}},1}$</td>\n",
       "      <td>NaN</td>\n",
       "    </tr>\n",
       "    <tr>\n",
       "      <th>4</th>\n",
       "      <td>8.825648</td>\n",
       "      <td>5.0</td>\n",
       "      <td>-3.140747</td>\n",
       "      <td>Unconformity</td>\n",
       "      <td>Default serie</td>\n",
       "      <td>1</td>\n",
       "      <td>False</td>\n",
       "      <td>2</td>\n",
       "      <td>${\\bf{x}}_{\\alpha \\,{\\bf{2}},2}$</td>\n",
       "      <td>NaN</td>\n",
       "    </tr>\n",
       "    <tr>\n",
       "      <th>5</th>\n",
       "      <td>15.561631</td>\n",
       "      <td>5.0</td>\n",
       "      <td>-3.232185</td>\n",
       "      <td>Unconformity</td>\n",
       "      <td>Default serie</td>\n",
       "      <td>1</td>\n",
       "      <td>False</td>\n",
       "      <td>2</td>\n",
       "      <td>${\\bf{x}}_{\\alpha \\,{\\bf{2}},3}$</td>\n",
       "      <td>NaN</td>\n",
       "    </tr>\n",
       "    <tr>\n",
       "      <th>6</th>\n",
       "      <td>2.211584</td>\n",
       "      <td>5.0</td>\n",
       "      <td>-5.518153</td>\n",
       "      <td>Layer1</td>\n",
       "      <td>Default serie</td>\n",
       "      <td>1</td>\n",
       "      <td>False</td>\n",
       "      <td>3</td>\n",
       "      <td>${\\bf{x}}_{\\alpha \\,{\\bf{3}},0}$</td>\n",
       "      <td>2.0</td>\n",
       "    </tr>\n",
       "    <tr>\n",
       "      <th>7</th>\n",
       "      <td>11.172574</td>\n",
       "      <td>5.0</td>\n",
       "      <td>-6.981171</td>\n",
       "      <td>Layer1</td>\n",
       "      <td>Default serie</td>\n",
       "      <td>1</td>\n",
       "      <td>False</td>\n",
       "      <td>3</td>\n",
       "      <td>${\\bf{x}}_{\\alpha \\,{\\bf{3}},1}$</td>\n",
       "      <td>2.0</td>\n",
       "    </tr>\n",
       "    <tr>\n",
       "      <th>8</th>\n",
       "      <td>15.104438</td>\n",
       "      <td>5.0</td>\n",
       "      <td>-8.108915</td>\n",
       "      <td>Layer1</td>\n",
       "      <td>Default serie</td>\n",
       "      <td>1</td>\n",
       "      <td>False</td>\n",
       "      <td>3</td>\n",
       "      <td>${\\bf{x}}_{\\alpha \\,{\\bf{3}},2}$</td>\n",
       "      <td>2.0</td>\n",
       "    </tr>\n",
       "    <tr>\n",
       "      <th>9</th>\n",
       "      <td>2.059186</td>\n",
       "      <td>5.0</td>\n",
       "      <td>-4.908561</td>\n",
       "      <td>Layer2</td>\n",
       "      <td>Default serie</td>\n",
       "      <td>1</td>\n",
       "      <td>False</td>\n",
       "      <td>4</td>\n",
       "      <td>${\\bf{x}}_{\\alpha \\,{\\bf{4}},0}$</td>\n",
       "      <td>2.0</td>\n",
       "    </tr>\n",
       "    <tr>\n",
       "      <th>10</th>\n",
       "      <td>11.843125</td>\n",
       "      <td>5.0</td>\n",
       "      <td>-5.761989</td>\n",
       "      <td>Layer2</td>\n",
       "      <td>Default serie</td>\n",
       "      <td>1</td>\n",
       "      <td>False</td>\n",
       "      <td>4</td>\n",
       "      <td>${\\bf{x}}_{\\alpha \\,{\\bf{4}},1}$</td>\n",
       "      <td>2.0</td>\n",
       "    </tr>\n",
       "    <tr>\n",
       "      <th>11</th>\n",
       "      <td>15.317795</td>\n",
       "      <td>5.0</td>\n",
       "      <td>-6.493498</td>\n",
       "      <td>Layer2</td>\n",
       "      <td>Default serie</td>\n",
       "      <td>1</td>\n",
       "      <td>False</td>\n",
       "      <td>4</td>\n",
       "      <td>${\\bf{x}}_{\\alpha \\,{\\bf{4}},2}$</td>\n",
       "      <td>2.0</td>\n",
       "    </tr>\n",
       "  </tbody>\n",
       "</table>\n",
       "</div>"
      ],
      "text/plain": [
       "            X    Y         Z     formation         series  order_series  \\\n",
       "0    4.345153  5.0 -1.921564        fault1  Default serie             1   \n",
       "1   10.000000  4.0 -7.000000        fault1  Default serie             1   \n",
       "2    2.303022  5.0 -1.647248  Unconformity  Default serie             1   \n",
       "3    1.083840  5.0 -1.738687  Unconformity  Default serie             1   \n",
       "4    8.825648  5.0 -3.140747  Unconformity  Default serie             1   \n",
       "5   15.561631  5.0 -3.232185  Unconformity  Default serie             1   \n",
       "6    2.211584  5.0 -5.518153        Layer1  Default serie             1   \n",
       "7   11.172574  5.0 -6.981171        Layer1  Default serie             1   \n",
       "8   15.104438  5.0 -8.108915        Layer1  Default serie             1   \n",
       "9    2.059186  5.0 -4.908561        Layer2  Default serie             1   \n",
       "10  11.843125  5.0 -5.761989        Layer2  Default serie             1   \n",
       "11  15.317795  5.0 -6.493498        Layer2  Default serie             1   \n",
       "\n",
       "    isFault  formation_number                       annotations  Z_std  \n",
       "0     False                 1  ${\\bf{x}}_{\\alpha \\,{\\bf{1}},0}$    NaN  \n",
       "1     False                 1  ${\\bf{x}}_{\\alpha \\,{\\bf{1}},1}$    NaN  \n",
       "2     False                 2  ${\\bf{x}}_{\\alpha \\,{\\bf{2}},0}$    NaN  \n",
       "3     False                 2  ${\\bf{x}}_{\\alpha \\,{\\bf{2}},1}$    NaN  \n",
       "4     False                 2  ${\\bf{x}}_{\\alpha \\,{\\bf{2}},2}$    NaN  \n",
       "5     False                 2  ${\\bf{x}}_{\\alpha \\,{\\bf{2}},3}$    NaN  \n",
       "6     False                 3  ${\\bf{x}}_{\\alpha \\,{\\bf{3}},0}$    2.0  \n",
       "7     False                 3  ${\\bf{x}}_{\\alpha \\,{\\bf{3}},1}$    2.0  \n",
       "8     False                 3  ${\\bf{x}}_{\\alpha \\,{\\bf{3}},2}$    2.0  \n",
       "9     False                 4  ${\\bf{x}}_{\\alpha \\,{\\bf{4}},0}$    2.0  \n",
       "10    False                 4  ${\\bf{x}}_{\\alpha \\,{\\bf{4}},1}$    2.0  \n",
       "11    False                 4  ${\\bf{x}}_{\\alpha \\,{\\bf{4}},2}$    2.0  "
      ]
     },
     "execution_count": 42,
     "metadata": {},
     "output_type": "execute_result"
    }
   ],
   "source": [
    "# Loading the data\n",
    "geo_data = gp.create_data([x1,x2,y1,y2,z1,z2],[res,res,res],\n",
    "                         path_f = \"paper_Foliations.csv\",\n",
    "                         path_i = \"paper_Points.csv\")\n",
    "geo_data.interface_add(X=10, Y=4, Z=-7, formation='fault1')\n",
    "\n",
    "geo_data.interfaces.set_value(geo_data.interfaces['formation'] == 'Layer1', 'Z_std', 2)\n",
    "geo_data.interfaces.set_value(geo_data.interfaces['formation'] == 'Layer2', 'Z_std', 2)\n"
   ]
  },
  {
   "cell_type": "code",
   "execution_count": 43,
   "metadata": {},
   "outputs": [
    {
     "data": {
      "image/png": "[encoded data removed]",
      "text/plain": [
       "<matplotlib.figure.Figure at 0x7fcb00848518>"
      ]
     },
     "metadata": {},
     "output_type": "display_data"
    }
   ],
   "source": [
    "gp.set_series(geo_data, {'fault_serie1': 'fault1','younger_serie' : 'Unconformity', 'older_serie': ('Layer1', 'Layer2')},\n",
    "              order_formations= ['fault1', 'Unconformity', 'Layer2', 'Layer1'], verbose=2)\n",
    "\n",
    "geo_data.interface_modify(9, Z = -6.4)\n",
    "\n",
    "fig=plt.gcf()\n",
    "#fig.savefig('doc/figs/fault_p.png')"
   ]
  },
  {
   "cell_type": "code",
   "execution_count": 44,
   "metadata": {
    "collapsed": true
   },
   "outputs": [
    {
     "data": {
      "text/plain": [
       "<gempy.sequential_pile.StratigraphicPile at 0x7fcb006ef080>"
      ]
     },
     "execution_count": 44,
     "metadata": {},
     "output_type": "execute_result"
    },
    {
     "data": {
      "image/png": "[encoded data removed]",
      "text/plain": [
       "<matplotlib.figure.Figure at 0x7fcb006efeb8>"
      ]
     },
     "metadata": {},
     "output_type": "display_data"
    }
   ],
   "source": [
    "# Choosing just the series without any fault or unconforimity\n",
    "geo_data = gp.select_series(geo_data, ['older_serie'])\n",
    "gp.get_sequential_pile(geo_data)"
   ]
  },
  {
   "cell_type": "code",
   "execution_count": 40,
   "metadata": {},
   "outputs": [
    {
     "data": {
      "image/png": "[encoded data removed]",
      "text/plain": [
       "<matplotlib.figure.Figure at 0x7fcb00a56940>"
      ]
     },
     "metadata": {},
     "output_type": "display_data"
    }
   ],
   "source": [
    "gp.plot_data(geo_data)"
   ]
  },
  {
   "cell_type": "code",
   "execution_count": 21,
   "metadata": {
    "collapsed": true
   },
   "outputs": [],
   "source": [
    "# voxel_centers = geo_data.grid.grid\n",
    "# voxel_centers, len(voxel_centers)"
   ]
  },
  {
   "cell_type": "code",
   "execution_count": 22,
   "metadata": {},
   "outputs": [
    {
     "name": "stdout",
     "output_type": "stream",
     "text": [
      "[ -5.   5.  15.  25.] \n",
      " [ -6.25   1.25   8.75  16.25] \n",
      " [-8.75 -6.25 -3.75 -1.25]\n"
     ]
    },
    {
     "data": {
      "text/plain": [
       "([[-5.0, -6.25, -8.75],\n",
       "  [-5.0, -6.25, -6.25],\n",
       "  [-5.0, -6.25, -3.75],\n",
       "  [-5.0, -6.25, -1.25],\n",
       "  [-5.0, 1.25, -8.75],\n",
       "  [-5.0, 1.25, -6.25],\n",
       "  [-5.0, 1.25, -3.75],\n",
       "  [-5.0, 1.25, -1.25],\n",
       "  [-5.0, 8.75, -8.75],\n",
       "  [-5.0, 8.75, -6.25],\n",
       "  [-5.0, 8.75, -3.75],\n",
       "  [-5.0, 8.75, -1.25],\n",
       "  [-5.0, 16.25, -8.75],\n",
       "  [-5.0, 16.25, -6.25],\n",
       "  [-5.0, 16.25, -3.75],\n",
       "  [-5.0, 16.25, -1.25],\n",
       "  [5.0, -6.25, -8.75],\n",
       "  [5.0, -6.25, -6.25],\n",
       "  [5.0, -6.25, -3.75],\n",
       "  [5.0, -6.25, -1.25],\n",
       "  [5.0, 1.25, -8.75],\n",
       "  [5.0, 1.25, -6.25],\n",
       "  [5.0, 1.25, -3.75],\n",
       "  [5.0, 1.25, -1.25],\n",
       "  [5.0, 8.75, -8.75],\n",
       "  [5.0, 8.75, -6.25],\n",
       "  [5.0, 8.75, -3.75],\n",
       "  [5.0, 8.75, -1.25],\n",
       "  [5.0, 16.25, -8.75],\n",
       "  [5.0, 16.25, -6.25],\n",
       "  [5.0, 16.25, -3.75],\n",
       "  [5.0, 16.25, -1.25],\n",
       "  [15.0, -6.25, -8.75],\n",
       "  [15.0, -6.25, -6.25],\n",
       "  [15.0, -6.25, -3.75],\n",
       "  [15.0, -6.25, -1.25],\n",
       "  [15.0, 1.25, -8.75],\n",
       "  [15.0, 1.25, -6.25],\n",
       "  [15.0, 1.25, -3.75],\n",
       "  [15.0, 1.25, -1.25],\n",
       "  [15.0, 8.75, -8.75],\n",
       "  [15.0, 8.75, -6.25],\n",
       "  [15.0, 8.75, -3.75],\n",
       "  [15.0, 8.75, -1.25],\n",
       "  [15.0, 16.25, -8.75],\n",
       "  [15.0, 16.25, -6.25],\n",
       "  [15.0, 16.25, -3.75],\n",
       "  [15.0, 16.25, -1.25],\n",
       "  [25.0, -6.25, -8.75],\n",
       "  [25.0, -6.25, -6.25],\n",
       "  [25.0, -6.25, -3.75],\n",
       "  [25.0, -6.25, -1.25],\n",
       "  [25.0, 1.25, -8.75],\n",
       "  [25.0, 1.25, -6.25],\n",
       "  [25.0, 1.25, -3.75],\n",
       "  [25.0, 1.25, -1.25],\n",
       "  [25.0, 8.75, -8.75],\n",
       "  [25.0, 8.75, -6.25],\n",
       "  [25.0, 8.75, -3.75],\n",
       "  [25.0, 8.75, -1.25],\n",
       "  [25.0, 16.25, -8.75],\n",
       "  [25.0, 16.25, -6.25],\n",
       "  [25.0, 16.25, -3.75],\n",
       "  [25.0, 16.25, -1.25]],\n",
       " 64)"
      ]
     },
     "execution_count": 22,
     "metadata": {},
     "output_type": "execute_result"
    }
   ],
   "source": [
    "# Computing the center of each voxel in this cell\n",
    "\n",
    "voxel_centers_x = np.zeros(res)\n",
    "voxel_centers_y = np.zeros(res)\n",
    "voxel_centers_z = np.zeros(res) # to store x, y, z coordinates corresponding to all voxel centers; NOTE that these won't store all voxel centers \n",
    "\n",
    "for division in range(0,res): # let's say we have 4 voxels in each direction then running the loop 4 times\n",
    "    if division == 0: # starting from x1, y1, z1 and computing the center coordinates for voxels touching the boundary \n",
    "        voxel_centers_x[division] = x1 + dx_voxel/2\n",
    "        voxel_centers_y[division] = y1 + dy_voxel/2\n",
    "        voxel_centers_z[division] = z1 + dz_voxel/2\n",
    "    else: # once we have boundary voxel's center coordinates we can get remaining center coordinates by adding voxel size for the respective dimensions \n",
    "        voxel_centers_x[division] = voxel_centers_x[division-1] + dx_voxel\n",
    "        voxel_centers_y[division] = voxel_centers_y[division-1] + dy_voxel\n",
    "        voxel_centers_z[division] = voxel_centers_z[division-1] + dz_voxel    \n",
    "        \n",
    "print(voxel_centers_x, '\\n', voxel_centers_y, '\\n', voxel_centers_z)\n",
    "\n",
    "voxel_centers = [] # to store all voxel centers\n",
    "\n",
    "# taking all possible combinations of x, y, z coordinates and storing all voxel centers\n",
    "for i in range(0,res):\n",
    "    for j in range(0,res):\n",
    "        for k in range(0,res):\n",
    "            voxel_centers.append([voxel_centers_x[i], voxel_centers_y[j], voxel_centers_z[k]])\n",
    "    \n",
    "voxel_centers, len(voxel_centers)"
   ]
  },
  {
   "cell_type": "code",
   "execution_count": 23,
   "metadata": {},
   "outputs": [
    {
     "data": {
      "text/plain": [
       "<gempy.DataManagement.InputData at 0x7fcb114078d0>"
      ]
     },
     "execution_count": 23,
     "metadata": {},
     "output_type": "execute_result"
    }
   ],
   "source": [
    "geo_data"
   ]
  },
  {
   "cell_type": "code",
   "execution_count": 24,
   "metadata": {
    "collapsed": true
   },
   "outputs": [],
   "source": [
    "# import theano.tensor as T\n",
    "# T.nonzero_values?"
   ]
  },
  {
   "cell_type": "code",
   "execution_count": 25,
   "metadata": {
    "collapsed": true
   },
   "outputs": [],
   "source": [
    "#geo_data = gp.select_series(geo_data, ['fault_serie1', 'older_serie'])\n",
    "#geo_data = gp.select_series(geo_data, ['fault_serie1', 'younger_serie'])\n",
    "#geo_data = gp.select_series(geo_data, ['younger_serie', 'older_serie'])\n",
    "#geo_data = gp.select_series(geo_data, ['fault_serie1'])"
   ]
  },
  {
   "cell_type": "code",
   "execution_count": 45,
   "metadata": {
    "scrolled": false
   },
   "outputs": [
    {
     "name": "stdout",
     "output_type": "stream",
     "text": [
      "Level of Optimization:  fast_compile\n",
      "Device:  cpu\n",
      "Precision:  float64\n"
     ]
    }
   ],
   "source": [
    "# Checking that works\n",
    "interp_data = gp.InterpolatorInput(geo_data, u_grade=[3, 3, 3], dtype='float64', verbose=[])"
   ]
  },
  {
   "cell_type": "code",
   "execution_count": 46,
   "metadata": {
    "collapsed": true,
    "scrolled": true
   },
   "outputs": [],
   "source": [
    "lith, fault = gp.compute_model(interp_data)\n"
   ]
  },
  {
   "cell_type": "code",
   "execution_count": 47,
   "metadata": {},
   "outputs": [
    {
     "data": {
      "text/plain": [
       "array([[   0.        ,    0.        ,    2.        , ...,    1.        ,\n",
       "           1.        ,    1.        ],\n",
       "       [ 950.56189231,  950.57736032,  950.5928353 , ...,  951.46220817,\n",
       "         951.47706886,  951.49193027]])"
      ]
     },
     "execution_count": 47,
     "metadata": {},
     "output_type": "execute_result"
    }
   ],
   "source": [
    "lith"
   ]
  },
  {
   "cell_type": "code",
   "execution_count": 49,
   "metadata": {
    "scrolled": true
   },
   "outputs": [
    {
     "data": {
      "image/png": "[encoded data removed]",
      "text/plain": [
       "<matplotlib.figure.Figure at 0x7fcae00cac50>"
      ]
     },
     "metadata": {},
     "output_type": "display_data"
    }
   ],
   "source": [
    "# Plot section\n",
    "gp.plot_section(geo_data, lith[0], 20, plot_data=True)"
   ]
  },
  {
   "cell_type": "code",
   "execution_count": 30,
   "metadata": {},
   "outputs": [
    {
     "data": {
      "image/png": "[encoded data removed]",
      "text/plain": [
       "<matplotlib.figure.Figure at 0x7fcb01cc29e8>"
      ]
     },
     "metadata": {},
     "output_type": "display_data"
    }
   ],
   "source": [
    "# Plot potential field\n",
    "gp.plot_potential_field(geo_data, lith[1], 0, plot_data=True, cmap='viridis')\n",
    "#plt.savefig('doc/figs/SimpleField.png')\n"
   ]
  },
  {
   "cell_type": "code",
   "execution_count": 51,
   "metadata": {
    "collapsed": true
   },
   "outputs": [],
   "source": [
    "ver_s, sim_s = gp.get_surfaces(interp_data,lith[1],\n",
    "                               None,\n",
    "                               original_scale=True)"
   ]
  },
  {
   "cell_type": "code",
   "execution_count": 32,
   "metadata": {},
   "outputs": [
    {
     "data": {
      "text/plain": [
       "[array([[  0.        ,  -9.80060423,  -7.5       ],\n",
       "        [-10.        ,  -2.5       ,  -8.74106079],\n",
       "        [ -4.91608202,  -2.5       ,  -7.5       ],\n",
       "        [  0.        , -10.        ,  -7.53485426],\n",
       "        [-10.        , -10.        ,  -8.63457456],\n",
       "        [  0.        ,  -2.5       ,  -6.28028482],\n",
       "        [-10.        ,   5.        ,  -8.74106079],\n",
       "        [ -4.91608202,   5.        ,  -7.5       ],\n",
       "        [  0.        ,   5.        ,  -6.28028482],\n",
       "        [  0.        ,  12.5       ,  -7.53486529],\n",
       "        [  0.        ,  12.30060458,  -7.5       ],\n",
       "        [-10.        ,  12.5       ,  -8.63457456],\n",
       "        [  6.29542828,  -2.5       ,  -7.5       ],\n",
       "        [ 10.        ,  -2.5       ,  -8.28973681],\n",
       "        [ 10.        , -10.        ,  -9.28835042],\n",
       "        [  6.29542828,   5.        ,  -7.5       ],\n",
       "        [ 10.        ,   5.        ,  -8.28973681],\n",
       "        [ 10.        ,  12.5       ,  -9.28857878],\n",
       "        [ 13.24636221,  -2.5       , -10.        ],\n",
       "        [ 11.84945822, -10.        , -10.        ],\n",
       "        [ 13.24636221,   5.        , -10.        ],\n",
       "        [ 11.84984446,  12.5       , -10.        ]]),\n",
       " array([[  0.        ,  -3.16163123,  -7.5       ],\n",
       "        [-10.        ,  -2.5       ,  -9.83238975],\n",
       "        [ -0.44552922,  -2.5       ,  -7.5       ],\n",
       "        [  0.        , -10.        ,  -8.69534224],\n",
       "        [-10.        , -10.        ,  -9.74341508],\n",
       "        [  0.        ,  -2.5       ,  -7.3894608 ],\n",
       "        [-10.        ,   5.        ,  -9.83238975],\n",
       "        [ -0.44552922,   5.        ,  -7.5       ],\n",
       "        [  0.        ,   5.        ,  -7.3894608 ],\n",
       "        [  0.        ,  12.5       ,  -8.69572103],\n",
       "        [  0.        ,   5.66163123,  -7.5       ],\n",
       "        [-10.        ,  12.5       ,  -9.74341508],\n",
       "        [  0.57053566,  -2.5       ,  -7.5       ],\n",
       "        [ 10.        ,  -2.5       ,  -9.51016329],\n",
       "        [ 10.        ,  -6.28216125, -10.        ],\n",
       "        [  7.40224719, -10.        , -10.        ],\n",
       "        [  0.57053566,   5.        ,  -7.5       ],\n",
       "        [ 10.        ,   5.        ,  -9.51016329],\n",
       "        [  7.40107894,  12.5       , -10.        ],\n",
       "        [ 10.        ,   8.78216147, -10.        ],\n",
       "        [ 10.92979193,  -2.5       , -10.        ],\n",
       "        [ 10.92979193,   5.        , -10.        ]])]"
      ]
     },
     "execution_count": 32,
     "metadata": {},
     "output_type": "execute_result"
    }
   ],
   "source": [
    "ver_s"
   ]
  },
  {
   "cell_type": "code",
   "execution_count": 33,
   "metadata": {},
   "outputs": [
    {
     "data": {
      "text/plain": [
       "(22, 22)"
      ]
     },
     "execution_count": 33,
     "metadata": {},
     "output_type": "execute_result"
    }
   ],
   "source": [
    "len(ver_s[0]), len(ver_s[1])"
   ]
  },
  {
   "cell_type": "code",
   "execution_count": 34,
   "metadata": {},
   "outputs": [
    {
     "data": {
      "text/plain": [
       "[array([[ 2,  1,  0],\n",
       "        [ 1,  3,  0],\n",
       "        [ 1,  4,  3],\n",
       "        [ 5,  2,  0],\n",
       "        [ 7,  6,  2],\n",
       "        [ 2,  6,  1],\n",
       "        [ 2,  5,  8],\n",
       "        [ 2,  8,  7],\n",
       "        [10,  9,  7],\n",
       "        [ 9,  6,  7],\n",
       "        [ 9, 11,  6],\n",
       "        [10,  7,  8],\n",
       "        [ 0,  3, 12],\n",
       "        [ 3, 13, 12],\n",
       "        [ 3, 14, 13],\n",
       "        [12,  5,  0],\n",
       "        [12, 13, 15],\n",
       "        [15, 13, 16],\n",
       "        [15,  8,  5],\n",
       "        [15,  5, 12],\n",
       "        [15, 16, 10],\n",
       "        [16,  9, 10],\n",
       "        [16, 17,  9],\n",
       "        [15, 10,  8],\n",
       "        [18, 13, 14],\n",
       "        [18, 14, 19],\n",
       "        [20, 16, 13],\n",
       "        [20, 13, 18],\n",
       "        [21, 17, 16],\n",
       "        [21, 16, 20]], dtype=int32), array([[ 2,  1,  0],\n",
       "        [ 1,  3,  0],\n",
       "        [ 1,  4,  3],\n",
       "        [ 5,  2,  0],\n",
       "        [ 7,  6,  2],\n",
       "        [ 2,  6,  1],\n",
       "        [ 2,  5,  8],\n",
       "        [ 2,  8,  7],\n",
       "        [10,  9,  7],\n",
       "        [ 9,  6,  7],\n",
       "        [ 9, 11,  6],\n",
       "        [10,  7,  8],\n",
       "        [14, 13, 12],\n",
       "        [14, 12,  0],\n",
       "        [15, 14,  0],\n",
       "        [ 3, 15,  0],\n",
       "        [12,  5,  0],\n",
       "        [12, 13, 16],\n",
       "        [16, 13, 17],\n",
       "        [16,  8,  5],\n",
       "        [16,  5, 12],\n",
       "        [19, 18, 17],\n",
       "        [17, 18, 16],\n",
       "        [18,  9, 16],\n",
       "        [ 9, 10, 16],\n",
       "        [16, 10,  8],\n",
       "        [20, 13, 14],\n",
       "        [21, 17, 13],\n",
       "        [21, 13, 20],\n",
       "        [21, 19, 17]], dtype=int32)]"
      ]
     },
     "execution_count": 34,
     "metadata": {},
     "output_type": "execute_result"
    }
   ],
   "source": [
    "sim_s"
   ]
  },
  {
   "cell_type": "code",
   "execution_count": 35,
   "metadata": {},
   "outputs": [
    {
     "data": {
      "text/plain": [
       "(30, 30)"
      ]
     },
     "execution_count": 35,
     "metadata": {},
     "output_type": "execute_result"
    }
   ],
   "source": [
    "len(sim_s[0]), len(sim_s[1])"
   ]
  },
  {
   "cell_type": "code",
   "execution_count": 36,
   "metadata": {},
   "outputs": [
    {
     "data": {
      "text/plain": [
       "([[0, 0, 0],\n",
       "  [0, 1, 0],\n",
       "  [0, 2, 0],\n",
       "  [0, 3, 1],\n",
       "  [0, 4, 4],\n",
       "  [0, 5, 4],\n",
       "  [0, 6, 5],\n",
       "  [0, 7, 5],\n",
       "  [0, 8, 8],\n",
       "  [0, 9, 8],\n",
       "  [0, 10, 8],\n",
       "  [0, 11, 9],\n",
       "  [0, 12, 16],\n",
       "  [0, 13, 16],\n",
       "  [0, 14, 16],\n",
       "  [0, 15, 17],\n",
       "  [0, 16, 20],\n",
       "  [0, 17, 20],\n",
       "  [0, 18, 21],\n",
       "  [0, 19, 21],\n",
       "  [0, 20, 24],\n",
       "  [0, 21, 24],\n",
       "  [0, 22, 24],\n",
       "  [0, 23, 25],\n",
       "  [0, 24, 32],\n",
       "  [0, 25, 32],\n",
       "  [0, 26, 36],\n",
       "  [0, 27, 36],\n",
       "  [0, 28, 40],\n",
       "  [0, 29, 40],\n",
       "  [1, 0, 0],\n",
       "  [1, 1, 0],\n",
       "  [1, 2, 0],\n",
       "  [1, 3, 1],\n",
       "  [1, 4, 4],\n",
       "  [1, 5, 4],\n",
       "  [1, 6, 5],\n",
       "  [1, 7, 5],\n",
       "  [1, 8, 8],\n",
       "  [1, 9, 8],\n",
       "  [1, 10, 8],\n",
       "  [1, 11, 9],\n",
       "  [1, 12, 16],\n",
       "  [1, 13, 16],\n",
       "  [1, 14, 16],\n",
       "  [1, 15, 16],\n",
       "  [1, 16, 17],\n",
       "  [1, 17, 20],\n",
       "  [1, 18, 20],\n",
       "  [1, 19, 21],\n",
       "  [1, 20, 21],\n",
       "  [1, 21, 24],\n",
       "  [1, 22, 24],\n",
       "  [1, 23, 24],\n",
       "  [1, 24, 24],\n",
       "  [1, 25, 25],\n",
       "  [1, 26, 32],\n",
       "  [1, 27, 36],\n",
       "  [1, 28, 36],\n",
       "  [1, 29, 40]],\n",
       " 60)"
      ]
     },
     "execution_count": 36,
     "metadata": {},
     "output_type": "execute_result"
    }
   ],
   "source": [
    "# Assigning each simplex of any layer to its voxel\n",
    "\n",
    "def dist(x,y):  # function to compute distance between two points\n",
    "    return np.sqrt(np.sum((x-y)**2))\n",
    "\n",
    "layer_simplex_voxel = [] # to store ['layer number' 'simplex number' 'voxel number'] in that order\n",
    "\n",
    "for layer, simplices in enumerate(sim_s): # for all layers in sim_s\n",
    "    for i, index_ver_s in enumerate(simplices): # for all set of simplices in a layer; i = simplex no., index_ver_s indexes 3 vertices of a simplex \n",
    "        simplex_ver = ver_s[layer][index_ver_s] # ver_s[layer][index_ver_s] gives the vertex corresponding to the index of simplice for respective layer \n",
    "        for voxel_number, center in enumerate(voxel_centers): # comparing the distance between vertices of a simplex and voxel centers to diagonal/2\n",
    "            if dist(simplex_ver[0], center) <= diagonal/2 :\n",
    "                if dist(simplex_ver[1], center) <= diagonal/2 :\n",
    "                    if dist(simplex_ver[2], center) <= diagonal/2 :\n",
    "                        layer_simplex_voxel.append([layer, i, voxel_number]) # if all 3 vertices of a simplex suffice the condition then our simplex i belongs to this voxel \n",
    "                        break # remove it then single simplex gets assigned to multiple voxels\n",
    "\n",
    "layer_simplex_voxel, len(layer_simplex_voxel) # here the voxel number corresponds to the order in which the voxel centers are stored during their computation \n",
    "\n",
    "# NOTE: Remove break to see multiple assignment of a simplex to the voxels. \n",
    "# For example, with res=4; Layer 1 is same w/ and w/o break but 13th and 14th simplex of layer 2 is getting assigned twice!"
   ]
  },
  {
   "cell_type": "code",
   "execution_count": 52,
   "metadata": {
    "collapsed": true
   },
   "outputs": [
    {
     "data": {
      "text/plain": [
       "<gempy.Visualization.vtkVisualization at 0x7fcb1147a048>"
      ]
     },
     "execution_count": 52,
     "metadata": {},
     "output_type": "execute_result"
    }
   ],
   "source": [
    "gp.plot_surfaces_3D(geo_data, ver_s, sim_s)"
   ]
  },
  {
   "cell_type": "markdown",
   "metadata": {},
   "source": [
    "## Gravity"
   ]
  },
  {
   "cell_type": "code",
   "execution_count": null,
   "metadata": {
    "collapsed": true
   },
   "outputs": [],
   "source": [
    "# For computing gravity we need to choose the flag output gravity\n",
    "interp_data = gp.InterpolatorInput(geo_data, dtype='float32', verbose=[],  output='gravity')\n"
   ]
  },
  {
   "cell_type": "code",
   "execution_count": null,
   "metadata": {
    "collapsed": true
   },
   "outputs": [],
   "source": [
    "# After compoling we need to set so\n",
    "gp.set_geophysics_obj(interp_data,  [0.1,19.9,.1,.9, -10, 0], # Extent\n",
    "                                             [1,1], ) # Resoluion of the measurement"
   ]
  },
  {
   "cell_type": "code",
   "execution_count": null,
   "metadata": {
    "collapsed": true
   },
   "outputs": [],
   "source": [
    "# Now we compute the distances and the component z from the points where we want to compute gravity (in this case just 1 pixel)\n",
    "# To all the voxels within a range\n",
    "# This function also works to change the values of each rock type to densities\n",
    "gp.precomputations_gravity(interp_data, 1, [2.92, 3.1, 2.61]) "
   ]
  },
  {
   "cell_type": "code",
   "execution_count": null,
   "metadata": {
    "collapsed": true
   },
   "outputs": [],
   "source": [
    "# Now the function also return the gravity\n",
    "gravity = gp.compute_model(interp_data, output='gravity')"
   ]
  },
  {
   "cell_type": "code",
   "execution_count": null,
   "metadata": {
    "collapsed": true
   },
   "outputs": [],
   "source": [
    "gravity"
   ]
  },
  {
   "cell_type": "code",
   "execution_count": null,
   "metadata": {
    "collapsed": true
   },
   "outputs": [],
   "source": [
    "grav = gp.compute_model(interp_data, 'gravity')"
   ]
  },
  {
   "cell_type": "code",
   "execution_count": null,
   "metadata": {
    "collapsed": true
   },
   "outputs": [],
   "source": [
    "grav"
   ]
  },
  {
   "cell_type": "code",
   "execution_count": null,
   "metadata": {
    "collapsed": true
   },
   "outputs": [],
   "source": [
    "# Here we can plot the model and the gravity. Because we are doing just one voxel the image is not too sexy\n",
    "gp.plot_section(geo_data, lith[-1], 5, direction='z',plot_data=True)\n",
    "\n",
    "plt.grid()\n",
    "fig = plt.gcf()\n",
    "ax = plt.gca()\n",
    "ax.imshow([gravity], cmap='viridis', origin='lower', alpha=0.8, extent=[0,20,0,10])\n",
    "plt.xlim(-2,22)\n",
    "plt.ylim(-2,12)\n"
   ]
  },
  {
   "cell_type": "markdown",
   "metadata": {},
   "source": [
    "### Doing this stochastically\n"
   ]
  },
  {
   "cell_type": "code",
   "execution_count": null,
   "metadata": {
    "collapsed": true
   },
   "outputs": [],
   "source": [
    "import pymc\n",
    "interface_Z_stoch = []\n",
    "foliations_dip_stoch = []\n",
    "foliations_azimuth_stoch = []\n",
    "\n",
    "# We rescale the standard deviation\n",
    "# std = 20./interp_data.rescaling_factor\n",
    "\n",
    "# loop over the unique group id's and create a pymc.Normal distribution for each\n",
    "for ind, i in interp_data.geo_data_res.interfaces.iterrows():\n",
    "    stoch = pymc.Normal(i['formation']+str(ind)+'_stoch', i['Z'], 1./i['Z_std']**2)\n",
    "    interface_Z_stoch.append(stoch)\n"
   ]
  },
  {
   "cell_type": "code",
   "execution_count": null,
   "metadata": {
    "collapsed": true
   },
   "outputs": [],
   "source": [
    "import copy\n",
    "# First we extract from our original intep_data object the numerical data that is necessary for the interpolation.\n",
    "# geo_data_stoch is a pandas Dataframe\n",
    "\n",
    "# This is the inital model so it has to be outside the stochastic frame\n",
    "geo_data_stoch_init = copy.deepcopy(interp_data.geo_data_res)"
   ]
  },
  {
   "cell_type": "code",
   "execution_count": null,
   "metadata": {
    "collapsed": true
   },
   "outputs": [],
   "source": [
    "# Insert stochastic parameters to the input data. This are the prior we have to store\n",
    "\n",
    "@pymc.deterministic(trace=True)\n",
    "def input_data(value = 0, \n",
    "               interface_Z_modifier = interface_Z_stoch,\n",
    "               geo_data_stoch_init = geo_data_stoch_init,\n",
    "         \n",
    "               verbose=0):\n",
    "    # First we extract from our original intep_data object the numerical data that is necessary for the interpolation.\n",
    "    # geo_data_stoch is a pandas Dataframe\n",
    "    geo_data_stoch = gp.get_data(geo_data_stoch_init, numeric=True)\n",
    "\n",
    "    geo_data_stoch.xs('interfaces')['Z'] = np.array(interface_Z_modifier)\n",
    "  \n",
    "    if verbose > 0:\n",
    "        print(geo_data_stoch)\n",
    "        \n",
    "    # then return the input data to be input into the modeling function. Due to the way pymc2 stores the traces\n",
    "    # We need to save the data as numpy arrays\n",
    "    return [geo_data_stoch.xs('interfaces')[[\"X\", \"Y\", \"Z\"]].values, geo_data_stoch.xs('foliations').values]"
   ]
  },
  {
   "cell_type": "code",
   "execution_count": null,
   "metadata": {
    "collapsed": true
   },
   "outputs": [],
   "source": [
    "# Computing the model and the gravity\n",
    "\n",
    "@pymc.deterministic(trace=False)\n",
    "def gempy_model(value=0,\n",
    "                input_data=input_data, verbose=False):\n",
    "\n",
    "    # modify input data values accordingly\n",
    "    interp_data.geo_data_res.interfaces[[\"X\", \"Y\", \"Z\"]] = input_data[0]\n",
    "\n",
    "    # Gx, Gy, Gz are just used for visualization. The theano function gets azimuth dip and polarity!!!\n",
    "    interp_data.geo_data_res.foliations[[\"G_x\", \"G_y\", \"G_z\", \"X\", \"Y\", \"Z\", 'azimuth', 'dip', 'polarity']] = input_data[1]\n",
    "\n",
    "    try:\n",
    "        # try to compute model\n",
    "#         lb, fb, grav = gp.compute_model(interp_data, output='gravity')\n",
    "        grav = gp.compute_model(interp_data, output='gravity')\n",
    "        if False:\n",
    "            gp.plot_section(interp_data.geo_data_res, lb[0], 19, plot_data=True)\n",
    "           # gp.plot_data(interp_data.geo_data_res, direction='y')\n",
    "\n",
    "#       return lb, fb, grav // commented\n",
    "        return grav\n",
    "\n",
    "\n",
    "\n",
    "# try to compute model\n",
    "        # lb, fb, grav = gp.compute_model(interp_data, output='gravity') // commented\n",
    "        #lb, fb = gp.compute_model(interp_data)\n",
    "        grav = gp.compute_model(interp_data, output='gravity')\n",
    "        if False:\n",
    "            gp.plot_section(interp_data.geo_data_res, lb[0], 19, plot_data=True)\n",
    "           # gp.plot_data(interp_data.geo_data_res, direction='y')\n",
    "\n",
    "        #return lb, fb, grav\n",
    "        return grav\n",
    "    \n",
    "    \n",
    "\n",
    "    except np.linalg.linalg.LinAlgError as err:\n",
    "        # if it fails (e.g. some input data combinations could lead to\n",
    "        # a singular matrix and thus break the chain) return an empty model\n",
    "        # with same dimensions (just zeros)\n",
    "        if verbose:\n",
    "            print(\"Exception occured.\")\n",
    "        return np.zeros_like(lith_block), np.zeros_like(fault_block), np.zeros_like(grav_block)\n",
    "\n",
    "# We want to store the value of gravity but the models better not. The following chunck is only for that\n",
    "@pymc.deterministic(trace=True)\n",
    "def gravity(value=0, model=gempy_model):\n",
    "    return model  #[2] removed\n",
    "\n",
    "# This is a hack to force to compute the models\n",
    "@pymc.stochastic(trace=True)\n",
    "def nothing(value=0, gravity=gravity):\n",
    "    return 1\n",
    "\n"
   ]
  },
  {
   "cell_type": "code",
   "execution_count": null,
   "metadata": {
    "collapsed": true
   },
   "outputs": [],
   "source": [
    "np.log(np.inf)"
   ]
  },
  {
   "cell_type": "code",
   "execution_count": null,
   "metadata": {
    "collapsed": true
   },
   "outputs": [],
   "source": [
    "# Choosing the parameters which play a role\n",
    "np.random.seed(123456) # I think with this is enough to draw always the same priors to be able to compare several resolutions but check the results to be sure!\n",
    "\n",
    "p_model = pymc.Model([*interface_Z_stoch, input_data, gempy_model, gravity, nothing])"
   ]
  },
  {
   "cell_type": "code",
   "execution_count": null,
   "metadata": {
    "collapsed": true
   },
   "outputs": [],
   "source": [
    "S = pymc.MCMC(input=p_model, db=\"hdf5\", dbname=\"MCMC_s1500_r6.hdf5\")\n",
    "S.use_step_method(pymc.AdaptiveMetropolis, [*interface_Z_stoch, input_data, gempy_model, gravity, nothing], delay=1000)\n",
    "S.db"
   ]
  },
  {
   "cell_type": "code",
   "execution_count": null,
   "metadata": {
    "collapsed": true
   },
   "outputs": [],
   "source": [
    "# Sampling\n",
    "S.sample(1500, burn=100, tune_interval=100)"
   ]
  },
  {
   "cell_type": "markdown",
   "metadata": {},
   "source": [
    "## Reading the posterior"
   ]
  },
  {
   "cell_type": "code",
   "execution_count": null,
   "metadata": {
    "collapsed": true,
    "scrolled": false
   },
   "outputs": [],
   "source": [
    "pymc.Matplot.plot(S)"
   ]
  },
  {
   "cell_type": "code",
   "execution_count": null,
   "metadata": {
    "collapsed": true
   },
   "outputs": [],
   "source": [
    "S.db.close()"
   ]
  },
  {
   "cell_type": "code",
   "execution_count": null,
   "metadata": {
    "collapsed": true
   },
   "outputs": [],
   "source": []
  }
 ],
 "metadata": {
  "kernelspec": {
   "display_name": "Python 3",
   "language": "python",
   "name": "python3"
  },
  "language_info": {
   "codemirror_mode": {
    "name": "ipython",
    "version": 3
   },
   "file_extension": ".py",
   "mimetype": "text/x-python",
   "name": "python",
   "nbconvert_exporter": "python",
   "pygments_lexer": "ipython3",
   "version": "3.6.4"
  },
  "latex_envs": {
   "LaTeX_envs_menu_present": true,
   "autocomplete": true,
   "bibliofile": "biblio.bib",
   "cite_by": "apalike",
   "current_citInitial": 1,
   "eqLabelWithNumbers": true,
   "eqNumInitial": 1,
   "hotkeys": {
    "equation": "Ctrl-E",
    "itemize": "Ctrl-I"
   },
   "labels_anchors": false,
   "latex_user_defs": false,
   "report_style_numbering": false,
   "user_envs_cfg": false
  },
  "toc": {
   "colors": {
    "hover_highlight": "#DAA520",
    "running_highlight": "#FF0000",
    "selected_highlight": "#FFD700"
   },
   "moveMenuLeft": true,
   "nav_menu": {
    "height": "12px",
    "width": "252px"
   },
   "navigate_menu": true,
   "number_sections": false,
   "sideBar": true,
   "threshold": 4,
   "toc_cell": false,
   "toc_section_display": "block",
   "toc_window_display": false,
   "widenNotebook": false
  }
 },
 "nbformat": 4,
 "nbformat_minor": 2
}
