{
 "cells": [
  {
   "cell_type": "markdown",
   "metadata": {},
   "source": [
    "# Chapter 4: Bayesian Statistics (Working in progress proof of concept)"
   ]
  },
  {
   "cell_type": "code",
   "execution_count": 1,
   "metadata": {},
   "outputs": [],
   "source": [
    "# These two lines are necessary only if gempy is not installed\n",
    "import sys, os\n",
    "sys.path.append(\"../\")\n",
    "\n",
    "# Importing gempy\n",
    "import gempy as gp\n",
    "\n",
    "# Embedding matplotlib figures into the notebooks\n",
    "%matplotlib inline\n",
    "\n",
    "# Aux imports\n",
    "import numpy as np\n",
    "\n",
    "import matplotlib.pyplot as plt"
   ]
  },
  {
   "cell_type": "code",
   "execution_count": 40,
   "metadata": {},
   "outputs": [],
   "source": [
    "\n",
    "# Importing the data from csv files and settign extent and resolution\n",
    "geo_data = gp.create_data([-1000,3000,-1000,3000,-2000,0],[ 8,8,8],\n",
    "                         path_f = os.pardir+\"/input_data/FabLessPoints_Foliations.csv\",\n",
    "                         path_i = os.pardir+\"/input_data/FabLessPoints_Points.csv\")"
   ]
  },
  {
   "cell_type": "code",
   "execution_count": 1,
   "metadata": {},
   "outputs": [
    {
     "ename": "NameError",
     "evalue": "name 'gp' is not defined",
     "output_type": "error",
     "traceback": [
      "\u001b[0;31m---------------------------------------------------------------------------\u001b[0m",
      "\u001b[0;31mNameError\u001b[0m                                 Traceback (most recent call last)",
      "\u001b[0;32m<ipython-input-1-3879118f249d>\u001b[0m in \u001b[0;36m<module>\u001b[0;34m()\u001b[0m\n\u001b[1;32m      1\u001b[0m \u001b[0;31m# Assigning series to formations as well as their order (timewise)\u001b[0m\u001b[0;34m\u001b[0m\u001b[0;34m\u001b[0m\u001b[0m\n\u001b[0;32m----> 2\u001b[0;31m gp.set_series(geo_data, {\"fault\":'MainFault', \n\u001b[0m\u001b[1;32m      3\u001b[0m                       \"Rest\": ('SecondaryReservoir','Seal', 'Reservoir', 'Overlying')},\n\u001b[1;32m      4\u001b[0m                        \u001b[0morder_series\u001b[0m \u001b[0;34m=\u001b[0m \u001b[0;34m[\u001b[0m\u001b[0;34m\"fault\"\u001b[0m\u001b[0;34m,\u001b[0m \u001b[0;34m'Rest'\u001b[0m\u001b[0;34m]\u001b[0m\u001b[0;34m,\u001b[0m\u001b[0;34m\u001b[0m\u001b[0m\n\u001b[1;32m      5\u001b[0m                        order_formations=['MainFault', \n",
      "\u001b[0;31mNameError\u001b[0m: name 'gp' is not defined"
     ]
    }
   ],
   "source": [
    "# Assigning series to formations as well as their order (timewise)\n",
    "gp.set_data_series(geo_data, {\"fault\":geo_data.formations[4], \n",
    "                      \"Rest\":np.delete(geo_data.formations, 4)},\n",
    "                       order_series = [\"fault\",\n",
    "                                       \"Rest\",\n",
    "                                       ], verbose=0)"
   ]
  },
  {
   "cell_type": "code",
   "execution_count": 42,
   "metadata": {},
   "outputs": [],
   "source": [
    "geo_data.interfaces['X_std'] = None\n",
    "geo_data.interfaces['Y_std'] = 0\n",
    "geo_data.interfaces['Z_std'] = 20\n",
    "\n",
    "\n",
    "geo_data.foliations['X_std'] = None\n",
    "geo_data.foliations['Y_std'] = 0\n",
    "geo_data.foliations['Z_std'] = 0\n",
    "\n",
    "geo_data.foliations['dip_std'] = 10\n",
    "geo_data.foliations['azimuth_std'] = 10"
   ]
  },
  {
   "cell_type": "code",
   "execution_count": 43,
   "metadata": {},
   "outputs": [
    {
     "data": {
      "text/plain": [
       "<gempy.Visualization.PlotData at 0x7f180c683b70>"
      ]
     },
     "execution_count": 43,
     "metadata": {},
     "output_type": "execute_result"
    },
    {
     "data": {
      "image/png": "[encoded data removed]",
      "text/plain": [
       "<matplotlib.figure.Figure at 0x7f1892425ba8>"
      ]
     },
     "metadata": {},
     "output_type": "display_data"
    }
   ],
   "source": [
    "gp.plot_data(geo_data)"
   ]
  },
  {
   "cell_type": "code",
   "execution_count": 44,
   "metadata": {
    "scrolled": false
   },
   "outputs": [
    {
     "name": "stdout",
     "output_type": "stream",
     "text": [
      "I am here\n",
      "I am in the setting\n",
      "float32\n",
      "I am here\n",
      "[2, 2]\n"
     ]
    }
   ],
   "source": [
    "interp_data = gp.InterpolatorInput(geo_data, compile_theano=True, u_grade=[0,0])"
   ]
  },
  {
   "cell_type": "code",
   "execution_count": 45,
   "metadata": {
    "scrolled": false
   },
   "outputs": [
    {
     "data": {
      "text/plain": [
       "(0.34625384615384613, 0.6539461538461538)"
      ]
     },
     "execution_count": 45,
     "metadata": {},
     "output_type": "execute_result"
    }
   ],
   "source": [
    "interp_data.data.interfaces['Z'].min(), interp_data.data.interfaces['Z'].max()"
   ]
  },
  {
   "cell_type": "code",
   "execution_count": 46,
   "metadata": {},
   "outputs": [
    {
     "name": "stdout",
     "output_type": "stream",
     "text": [
      "[0, 0]\n"
     ]
    }
   ],
   "source": [
    "sol_default = gp.compute_model(interp_data)"
   ]
  },
  {
   "cell_type": "code",
   "execution_count": 47,
   "metadata": {},
   "outputs": [
    {
     "data": {
      "text/plain": [
       "<gempy.Visualization.PlotData at 0x7f180cf90f28>"
      ]
     },
     "execution_count": 47,
     "metadata": {},
     "output_type": "execute_result"
    },
    {
     "data": {
      "image/png": "[encoded data removed]",
      "text/plain": [
       "<matplotlib.figure.Figure at 0x7f180cf90908>"
      ]
     },
     "metadata": {},
     "output_type": "display_data"
    }
   ],
   "source": [
    "gp.plot_section(geo_data, sol_default[0,:], -1, direction='z')"
   ]
  },
  {
   "cell_type": "code",
   "execution_count": 48,
   "metadata": {
    "code_folding": []
   },
   "outputs": [],
   "source": [
    "def precompute_grav(interp_data):\n",
    "    \"\"\"\n",
    "    model_res: number of voxels\n",
    "    interp_data: interp_data object with the specific resolution\n",
    "    \"\"\"\n",
    "    \n",
    "    import sys\n",
    "    import gempy as gp\n",
    "    sys.path.append(\"../gempy\")\n",
    "    import GeoPhysics\n",
    "    import theano.tensor as T\n",
    "    import theano\n",
    "    from importlib import reload\n",
    "    reload(GeoPhysics)\n",
    "\n",
    "    #inter_data = gp.InterpolatorInput(geo_data, compile_theano=False)\n",
    "    gpp = GeoPhysics.GeoPhysicsPreprocessing(interp_data,580,  [800,1200,800,1200,-1900,0], \n",
    "                                  res_grav = [5, 5],\n",
    "                                  n_cells = 10, mode='range')\n",
    "                                  #res_grav = [125, 85],\n",
    "                                  #n_cells =1000)\n",
    "    print(gpp)\n",
    "\n",
    "    \n",
    "    # Compile Theano function\n",
    "    x_1 = T.matrix()\n",
    "    x_2 = T.matrix()\n",
    "\n",
    "    sqd = T.sqrt(T.maximum(\n",
    "        (x_1 ** 2).sum(1).reshape((x_1.shape[0], 1)) +\n",
    "        (x_2 ** 2).sum(1).reshape((1, x_2.shape[0])) -\n",
    "        2 * x_1.dot(x_2.T), 0\n",
    "    ))\n",
    "    eu = theano.function([x_1, x_2], sqd, allow_input_downcast=True)\n",
    "        \n",
    "    # Init\n",
    "    i_0 = 0\n",
    "    model_res = interp_data.resolution[0] * interp_data.resolution[1] * interp_data.resolution[2]\n",
    "    b_all = np.zeros((0,model_res), dtype=bool)\n",
    "    \n",
    "    # 25 is the size of the chunk\n",
    "    for i_1 in np.arange(25, gpp.airborne_plane.shape[0]+1, 25, dtype=int):#np.linspace(gpp.airborne_plane.shape[0]/25, gpp.airborne_plane.shape[0], 26, dtype=int):\n",
    "        airborne_plane_s = gpp.airborne_plane[i_0:i_1]\n",
    "\n",
    "        # Here we set the gravity points over the original model resolution\n",
    "        d = eu(interp_data.data.grid.grid.astype('float'), airborne_plane_s)\n",
    "        ab_g = interp_data.data.grid.grid[np.argmin(d, axis=0)]\n",
    "        ab_g[:,2] = ab_g[:,2] + 0.01\n",
    "        \n",
    "        # And now we compute the measurement points to \n",
    "        d2 = eu(ab_g, interp_data.data.grid.grid.astype('float'))\n",
    "        \n",
    "        # Max range to select voxels\n",
    "        range_ = (interp_data.data.grid.grid[:, 2].max() - interp_data.data.grid.grid[:, 2].min()) *0.9\n",
    "        \n",
    "        # Boolean of the selection\n",
    "        b = d2<range_\n",
    "        \n",
    "        # Beoolean for all measurements\n",
    "        b_all = np.vstack((b_all, b))\n",
    "        \n",
    "        # Selection of the x y z coordenates for each measurement and computed distance in those coordinates\n",
    "        s_gr_x = (np.repeat(interp_data.data.grid.grid, 25, axis=1)[:, :25].T[b].reshape(25,-1) - ab_g[:,0].reshape(25,-1)).astype('float')\n",
    "        s_gr_y = (np.repeat(interp_data.data.grid.grid, 25, axis=1)[:, 25:50].T[b].reshape(25,-1) - ab_g[:,1].reshape(25,-1)).astype('float')\n",
    "        s_gr_z = (np.repeat(interp_data.data.grid.grid, 25, axis=1)[:, -25:].T[b].reshape(25,-1) - ab_g[:,2].reshape(25,-1)).astype('float')\n",
    "        \n",
    "        # getting the coordinates of the corners of the voxel\n",
    "        x_cor = np.stack((s_gr_x - gpp.vox_size[0], s_gr_x + gpp.vox_size[0]), axis=2)\n",
    "        y_cor = np.stack((s_gr_y - gpp.vox_size[1], s_gr_y + gpp.vox_size[1]), axis=2)\n",
    "        z_cor = np.stack((s_gr_z - gpp.vox_size[2], s_gr_z + gpp.vox_size[2]), axis=2)\n",
    "\n",
    "        # ...and prepare them for a vectorial op\n",
    "        x_matrix = np.repeat(x_cor, 4, axis=2)\n",
    "        y_matrix = np.tile(np.repeat(y_cor, 2, axis=2), (1, 1, 2))\n",
    "        z_matrix = np.tile(z_cor, (1, 1, 4))\n",
    "        \n",
    "        # Distances to each corner of the voxel\n",
    "        s_r = np.sqrt(x_matrix**2 + y_matrix**2 + z_matrix**2)\n",
    "\n",
    "\n",
    "        # Computing z component\n",
    "        from scipy.constants import G\n",
    "        mu = np.array([1, -1, -1, 1, -1, 1, 1, -1])\n",
    "\n",
    "        tz = np.sum(- G * mu * (\n",
    "                x_matrix * np.log(y_matrix + s_r) +\n",
    "                y_matrix * np.log(x_matrix + s_r) -\n",
    "                z_matrix * np.arctan(x_matrix * y_matrix /\n",
    "                                    (z_matrix * s_r))), axis=2)\n",
    "\n",
    "        # Stacking the precomputation\n",
    "        if i_0 == 0:\n",
    "            tz_all = tz\n",
    "\n",
    "        else:\n",
    "            tz_all = np.vstack((tz_all, tz))\n",
    "\n",
    "        i_0 = i_1\n",
    "    return tz_all, b_all"
   ]
  },
  {
   "cell_type": "code",
   "execution_count": 49,
   "metadata": {},
   "outputs": [
    {
     "name": "stdout",
     "output_type": "stream",
     "text": [
      "0.4615384615384615\n",
      "<GeoPhysics.GeoPhysicsPreprocessing object at 0x7f1851a96898>\n"
     ]
    }
   ],
   "source": [
    "tz_, b_ = precompute_grav(interp_data)"
   ]
  },
  {
   "cell_type": "code",
   "execution_count": 50,
   "metadata": {
    "scrolled": false
   },
   "outputs": [
    {
     "name": "stdout",
     "output_type": "stream",
     "text": [
      "[0, 0]\n"
     ]
    }
   ],
   "source": [
    "import pymc\n",
    "\n",
    "Z_rest = pymc.Normal('Z_unc_rest',  interp_data.interpolator.pandas_rest_layer_points['Z'].as_matrix().astype('float32'),\n",
    "           1./interp_data.interpolator.pandas_rest_layer_points['Z_std'].as_matrix().astype('float32'))\n",
    "\n",
    "Z_ref = pymc.Normal('Z_unc_ref',  interp_data.interpolator.pandas_ref_layer_points['Z'].as_matrix().astype('float32'),\n",
    "           1./interp_data.interpolator.pandas_ref_layer_points['Z_std'].as_matrix().astype('float32'))\n",
    "\n",
    "dip_u = pymc.Normal('dip_unc',  interp_data.data.foliations['dip'].as_matrix().astype('float32'),\n",
    "           1./interp_data.data.foliations['dip_std'].as_matrix().astype('float32'))\n",
    "\n",
    "azimuth_u = pymc.Normal('azimuth_unc',  interp_data.data.foliations['azimuth'].as_matrix().astype('float32'),\n",
    "           1./interp_data.data.foliations['azimuth_std'].as_matrix().astype('float32'))\n",
    "\n",
    "i = interp_data.get_input_data()\n",
    "\n",
    "@pymc.deterministic\n",
    "def grav(value=0, input_ =  i, Z_rest_m = Z_rest, Z_ref_m = Z_ref, dip_m = dip_u, azimuth_m = azimuth_u):\n",
    "\n",
    "   # print(Z_rest_m)\n",
    "    \n",
    "    input_[1] = dip_m.astype('float32')\n",
    "    input_[2] = azimuth_m.astype('float32')\n",
    "    input_[4][:, 2] = Z_ref_m\n",
    "    input_[5][:, 2] = Z_rest_m\n",
    "    try:\n",
    "        sol = interp_data.th_fn(*input_)\n",
    "        lith = sol[-1, 0,:]\n",
    "    except:\n",
    "        lith = sol_default[0, :]\n",
    "    # return solution\n",
    " \n",
    "    \n",
    "    np.place(lith, lith == 5, 3)\n",
    "    np.place(lith, lith == 2, 2.92)\n",
    "    np.place(lith, lith == 3, 3.1)\n",
    "    np.place(lith, lith == 4, 2.92)\n",
    "    np.place(lith, lith == 0, 2.61)\n",
    "    \n",
    "   # print(lith.shape, lith)\n",
    "    lith_s = np.tile(lith, (25,1))[b_].reshape(25,-1)\n",
    "    grav = lith_s* tz_\n",
    "    return grav.sum(axis=1)\n",
    "    \n",
    "  #  return sol\n",
    "\n",
    "# @pymc.deterministic\n",
    "# def grav(value=0, model=gempy_model):\n",
    "#     lith = model[-1, 0, :]\n",
    "#     lith_s = np.tile(lith, (25,1))[b_].reshape(25,-1)\n",
    "#     grav = lith_s* tz_\n",
    "#     return grav.sum(axis=1)"
   ]
  },
  {
   "cell_type": "code",
   "execution_count": 51,
   "metadata": {
    "scrolled": true
   },
   "outputs": [
    {
     "name": "stdout",
     "output_type": "stream",
     "text": [
      " [-----            13%                  ] 1398 of 10000 complete in 3.5 sec"
     ]
    },
    {
     "name": "stderr",
     "output_type": "stream",
     "text": [
      "/home/miguel/anaconda3/lib/python3.6/site-packages/scipy/linalg/basic.py:223: RuntimeWarning: scipy.linalg.solve\n",
      "Ill-conditioned matrix detected. Result is not guaranteed to be accurate.\n",
      "Reciprocal condition number: 4.0108361076818255e-08\n",
      "  ' condition number: {}'.format(rcond), RuntimeWarning)\n"
     ]
    },
    {
     "name": "stdout",
     "output_type": "stream",
     "text": [
      " [------           17%                  ] 1797 of 10000 complete in 4.5 sec"
     ]
    },
    {
     "name": "stderr",
     "output_type": "stream",
     "text": [
      "/home/miguel/anaconda3/lib/python3.6/site-packages/scipy/linalg/basic.py:223: RuntimeWarning: scipy.linalg.solve\n",
      "Ill-conditioned matrix detected. Result is not guaranteed to be accurate.\n",
      "Reciprocal condition number: 4.5971511042353086e-08\n",
      "  ' condition number: {}'.format(rcond), RuntimeWarning)\n"
     ]
    },
    {
     "name": "stdout",
     "output_type": "stream",
     "text": [
      " [-------          19%                  ] 1978 of 10000 complete in 5.0 sec"
     ]
    },
    {
     "name": "stderr",
     "output_type": "stream",
     "text": [
      "/home/miguel/anaconda3/lib/python3.6/site-packages/scipy/linalg/basic.py:223: RuntimeWarning: scipy.linalg.solve\n",
      "Ill-conditioned matrix detected. Result is not guaranteed to be accurate.\n",
      "Reciprocal condition number: 1.581836706066042e-08\n",
      "  ' condition number: {}'.format(rcond), RuntimeWarning)\n"
     ]
    },
    {
     "name": "stdout",
     "output_type": "stream",
     "text": [
      " [---------        25%                  ] 2574 of 10000 complete in 6.5 sec"
     ]
    },
    {
     "name": "stderr",
     "output_type": "stream",
     "text": [
      "/home/miguel/anaconda3/lib/python3.6/site-packages/scipy/linalg/basic.py:223: RuntimeWarning: scipy.linalg.solve\n",
      "Ill-conditioned matrix detected. Result is not guaranteed to be accurate.\n",
      "Reciprocal condition number: 2.3664874504447653e-08\n",
      "  ' condition number: {}'.format(rcond), RuntimeWarning)\n"
     ]
    },
    {
     "name": "stdout",
     "output_type": "stream",
     "text": [
      " [-----------      29%                  ] 2974 of 10000 complete in 7.5 sec"
     ]
    },
    {
     "name": "stderr",
     "output_type": "stream",
     "text": [
      "/home/miguel/anaconda3/lib/python3.6/site-packages/scipy/linalg/basic.py:223: RuntimeWarning: scipy.linalg.solve\n",
      "Ill-conditioned matrix detected. Result is not guaranteed to be accurate.\n",
      "Reciprocal condition number: 5.641165401470971e-08\n",
      "  ' condition number: {}'.format(rcond), RuntimeWarning)\n"
     ]
    },
    {
     "name": "stdout",
     "output_type": "stream",
     "text": [
      " [-------------    35%                  ] 3559 of 10000 complete in 9.0 sec"
     ]
    },
    {
     "name": "stderr",
     "output_type": "stream",
     "text": [
      "/home/miguel/anaconda3/lib/python3.6/site-packages/scipy/linalg/basic.py:223: RuntimeWarning: scipy.linalg.solve\n",
      "Ill-conditioned matrix detected. Result is not guaranteed to be accurate.\n",
      "Reciprocal condition number: 2.3794484604877653e-08\n",
      "  ' condition number: {}'.format(rcond), RuntimeWarning)\n"
     ]
    },
    {
     "name": "stdout",
     "output_type": "stream",
     "text": [
      " [--------------   37%                  ] 3754 of 10000 complete in 9.5 sec"
     ]
    },
    {
     "name": "stderr",
     "output_type": "stream",
     "text": [
      "/home/miguel/anaconda3/lib/python3.6/site-packages/scipy/linalg/basic.py:223: RuntimeWarning: scipy.linalg.solve\n",
      "Ill-conditioned matrix detected. Result is not guaranteed to be accurate.\n",
      "Reciprocal condition number: 2.3723270459186097e-08\n",
      "  ' condition number: {}'.format(rcond), RuntimeWarning)\n"
     ]
    },
    {
     "name": "stdout",
     "output_type": "stream",
     "text": [
      " [-----------------47%                  ] 4753 of 10000 complete in 12.0 sec"
     ]
    },
    {
     "name": "stderr",
     "output_type": "stream",
     "text": [
      "/home/miguel/anaconda3/lib/python3.6/site-packages/scipy/linalg/basic.py:223: RuntimeWarning: scipy.linalg.solve\n",
      "Ill-conditioned matrix detected. Result is not guaranteed to be accurate.\n",
      "Reciprocal condition number: 4.946047127418751e-08\n",
      "  ' condition number: {}'.format(rcond), RuntimeWarning)\n"
     ]
    },
    {
     "name": "stdout",
     "output_type": "stream",
     "text": [
      " [-----------------53%                  ] 5351 of 10000 complete in 13.5 sec"
     ]
    },
    {
     "name": "stderr",
     "output_type": "stream",
     "text": [
      "/home/miguel/anaconda3/lib/python3.6/site-packages/scipy/linalg/basic.py:223: RuntimeWarning: scipy.linalg.solve\n",
      "Ill-conditioned matrix detected. Result is not guaranteed to be accurate.\n",
      "Reciprocal condition number: 1.1831234658643552e-08\n",
      "  ' condition number: {}'.format(rcond), RuntimeWarning)\n"
     ]
    },
    {
     "name": "stdout",
     "output_type": "stream",
     "text": [
      " [-----------------83%-----------       ] 8340 of 10000 complete in 21.0 sec"
     ]
    },
    {
     "name": "stderr",
     "output_type": "stream",
     "text": [
      "/home/miguel/anaconda3/lib/python3.6/site-packages/scipy/linalg/basic.py:223: RuntimeWarning: scipy.linalg.solve\n",
      "Ill-conditioned matrix detected. Result is not guaranteed to be accurate.\n",
      "Reciprocal condition number: 5.7330790781406904e-08\n",
      "  ' condition number: {}'.format(rcond), RuntimeWarning)\n"
     ]
    },
    {
     "name": "stdout",
     "output_type": "stream",
     "text": [
      " [-----------------89%-------------     ] 8942 of 10000 complete in 22.6 sec"
     ]
    },
    {
     "name": "stderr",
     "output_type": "stream",
     "text": [
      "/home/miguel/anaconda3/lib/python3.6/site-packages/scipy/linalg/basic.py:223: RuntimeWarning: scipy.linalg.solve\n",
      "Ill-conditioned matrix detected. Result is not guaranteed to be accurate.\n",
      "Reciprocal condition number: 4.548300580609066e-08\n",
      "  ' condition number: {}'.format(rcond), RuntimeWarning)\n"
     ]
    },
    {
     "name": "stdout",
     "output_type": "stream",
     "text": [
      " [-----------------100%-----------------] 10000 of 10000 complete in 25.2 sec"
     ]
    },
    {
     "name": "stderr",
     "output_type": "stream",
     "text": [
      "/home/miguel/anaconda3/lib/python3.6/site-packages/scipy/linalg/basic.py:223: RuntimeWarning: scipy.linalg.solve\n",
      "Ill-conditioned matrix detected. Result is not guaranteed to be accurate.\n",
      "Reciprocal condition number: 3.840697360146805e-08\n",
      "  ' condition number: {}'.format(rcond), RuntimeWarning)\n"
     ]
    }
   ],
   "source": [
    "\n",
    "np.random.seed(123456)\n",
    "pymc_model = pymc.Model(input = [Z_ref, Z_rest,  dip_u,  azimuth_u, grav])\n",
    "\n",
    "MCFS_fault_8 = pymc.MCMC(pymc_model,  db='pickle', dbname='MCMC_f_8.pickle')\n",
    "MCFS_fault_8.sample(iter=100)"
   ]
  },
  {
   "cell_type": "code",
   "execution_count": 52,
   "metadata": {},
   "outputs": [
    {
     "data": {
      "text/plain": [
       "<matplotlib.image.AxesImage at 0x7f1859d23860>"
      ]
     },
     "execution_count": 52,
     "metadata": {},
     "output_type": "execute_result"
    },
    {
     "data": {
      "image/png": "[encoded data removed]",
      "text/plain": [
       "<matplotlib.figure.Figure at 0x7f185d40a518>"
      ]
     },
     "metadata": {},
     "output_type": "display_data"
    }
   ],
   "source": [
    "plt.imshow(MCFS_fault_16.trace('grav')[5, :].reshape(5,5), cmap='viridis')"
   ]
  },
  {
   "cell_type": "code",
   "execution_count": 53,
   "metadata": {},
   "outputs": [
    {
     "data": {
      "text/plain": [
       "(array([   0,    1,    2, ..., 9997, 9998, 9999]),)"
      ]
     },
     "execution_count": 53,
     "metadata": {},
     "output_type": "execute_result"
    }
   ],
   "source": [
    "\n",
    "np.nonzero(MCFS_fault_16.trace('grav')[:, 5])"
   ]
  },
  {
   "cell_type": "code",
   "execution_count": 54,
   "metadata": {},
   "outputs": [
    {
     "data": {
      "text/plain": [
       "array([  1.67986398e-09,   1.61314110e-09,   1.68524938e-09, ...,\n",
       "         1.69248206e-09,   1.66085595e-09,   1.62828483e-09])"
      ]
     },
     "execution_count": 54,
     "metadata": {},
     "output_type": "execute_result"
    }
   ],
   "source": [
    "MCFS_fault_16.trace('grav')[:, 5]"
   ]
  },
  {
   "cell_type": "code",
   "execution_count": null,
   "metadata": {},
   "outputs": [],
   "source": []
  }
 ],
 "metadata": {
  "kernelspec": {
   "display_name": "Python 3",
   "language": "python",
   "name": "python3"
  },
  "language_info": {
   "codemirror_mode": {
    "name": "ipython",
    "version": 3
   },
   "file_extension": ".py",
   "mimetype": "text/x-python",
   "name": "python",
   "nbconvert_exporter": "python",
   "pygments_lexer": "ipython3",
   "version": "3.6.3"
  },
  "latex_envs": {
   "LaTeX_envs_menu_present": true,
   "autocomplete": true,
   "bibliofile": "biblio.bib",
   "cite_by": "apalike",
   "current_citInitial": 1,
   "eqLabelWithNumbers": true,
   "eqNumInitial": 1,
   "hotkeys": {
    "equation": "Ctrl-E",
    "itemize": "Ctrl-I"
   },
   "labels_anchors": false,
   "latex_user_defs": false,
   "report_style_numbering": false,
   "user_envs_cfg": false
  },
  "toc": {
   "colors": {
    "hover_highlight": "#DAA520",
    "running_highlight": "#FF0000",
    "selected_highlight": "#FFD700"
   },
   "moveMenuLeft": true,
   "nav_menu": {
    "height": "39px",
    "width": "252px"
   },
   "navigate_menu": true,
   "number_sections": true,
   "sideBar": true,
   "threshold": 4,
   "toc_cell": false,
   "toc_section_display": "block",
   "toc_window_display": false,
   "widenNotebook": false
  }
 },
 "nbformat": 4,
 "nbformat_minor": 2
}
