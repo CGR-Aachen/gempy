{
 "cells": [
  {
   "cell_type": "code",
   "execution_count": 1,
   "metadata": {
    "collapsed": true
   },
   "outputs": [],
   "source": [
    "# Task for the 15th of December, 2017\n",
    "\n",
    "\n",
    "\n",
    "# These two lines are necessary only if gempy is not installed\n",
    "import sys, os\n",
    "sys.path.append(\"../..\")\n",
    "\n",
    "import gempy as gp\n",
    "%matplotlib inline\n",
    "\n",
    "import numpy as np\n",
    "import pandas as pn\n",
    "import matplotlib.pyplot as plt\n",
    "plt.style.use('seaborn')"
   ]
  },
  {
   "cell_type": "markdown",
   "metadata": {},
   "source": [
    "# Weighted gravity example"
   ]
  },
  {
   "cell_type": "code",
   "execution_count": 2,
   "metadata": {
    "collapsed": false
   },
   "outputs": [
    {
     "data": {
      "text/plain": [
       "{'scroll': True,\n",
       " 'start_slideshow_at': 'selected',\n",
       " 'theme': 'serif',\n",
       " 'transition': 'slide'}"
      ]
     },
     "execution_count": 2,
     "metadata": {},
     "output_type": "execute_result"
    }
   ],
   "source": [
    "from notebook.services.config import ConfigManager\n",
    "cm = ConfigManager()\n",
    "cm.update('livereveal', {\n",
    "              'theme': 'serif',\n",
    "              'transition': 'slide',\n",
    "              'start_slideshow_at': 'selected',\n",
    "              'scroll': True,\n",
    "})"
   ]
  },
  {
   "cell_type": "code",
   "execution_count": 3,
   "metadata": {
    "collapsed": false
   },
   "outputs": [
    {
     "name": "stderr",
     "output_type": "stream",
     "text": [
      "../../gempy/data_management.py:61: UserWarning: path_f is deprecated use instead path_o\n",
      "  warnings.warn('path_f is deprecated use instead path_o')\n"
     ]
    },
    {
     "data": {
      "text/html": [
       "<div>\n",
       "<style>\n",
       "    .dataframe thead tr:only-child th {\n",
       "        text-align: right;\n",
       "    }\n",
       "\n",
       "    .dataframe thead th {\n",
       "        text-align: left;\n",
       "    }\n",
       "\n",
       "    .dataframe tbody tr th {\n",
       "        vertical-align: top;\n",
       "    }\n",
       "</style>\n",
       "<table border=\"1\" class=\"dataframe\">\n",
       "  <thead>\n",
       "    <tr style=\"text-align: right;\">\n",
       "      <th></th>\n",
       "      <th>X</th>\n",
       "      <th>Y</th>\n",
       "      <th>Z</th>\n",
       "      <th>formation</th>\n",
       "      <th>series</th>\n",
       "      <th>order_series</th>\n",
       "      <th>isFault</th>\n",
       "      <th>formation_number</th>\n",
       "      <th>annotations</th>\n",
       "      <th>Z_std</th>\n",
       "    </tr>\n",
       "  </thead>\n",
       "  <tbody>\n",
       "    <tr>\n",
       "      <th>0</th>\n",
       "      <td>4.345153</td>\n",
       "      <td>5.0</td>\n",
       "      <td>-1.921564</td>\n",
       "      <td>fault1</td>\n",
       "      <td>Default serie</td>\n",
       "      <td>1</td>\n",
       "      <td>False</td>\n",
       "      <td>1</td>\n",
       "      <td>${\\bf{x}}_{\\alpha \\,{\\bf{1}},0}$</td>\n",
       "      <td>NaN</td>\n",
       "    </tr>\n",
       "    <tr>\n",
       "      <th>1</th>\n",
       "      <td>10.000000</td>\n",
       "      <td>4.0</td>\n",
       "      <td>-7.000000</td>\n",
       "      <td>fault1</td>\n",
       "      <td>Default serie</td>\n",
       "      <td>1</td>\n",
       "      <td>False</td>\n",
       "      <td>1</td>\n",
       "      <td>${\\bf{x}}_{\\alpha \\,{\\bf{1}},1}$</td>\n",
       "      <td>NaN</td>\n",
       "    </tr>\n",
       "    <tr>\n",
       "      <th>2</th>\n",
       "      <td>2.303022</td>\n",
       "      <td>5.0</td>\n",
       "      <td>-1.647248</td>\n",
       "      <td>Unconformity</td>\n",
       "      <td>Default serie</td>\n",
       "      <td>1</td>\n",
       "      <td>False</td>\n",
       "      <td>2</td>\n",
       "      <td>${\\bf{x}}_{\\alpha \\,{\\bf{2}},0}$</td>\n",
       "      <td>NaN</td>\n",
       "    </tr>\n",
       "    <tr>\n",
       "      <th>3</th>\n",
       "      <td>1.083840</td>\n",
       "      <td>5.0</td>\n",
       "      <td>-1.738687</td>\n",
       "      <td>Unconformity</td>\n",
       "      <td>Default serie</td>\n",
       "      <td>1</td>\n",
       "      <td>False</td>\n",
       "      <td>2</td>\n",
       "      <td>${\\bf{x}}_{\\alpha \\,{\\bf{2}},1}$</td>\n",
       "      <td>NaN</td>\n",
       "    </tr>\n",
       "    <tr>\n",
       "      <th>4</th>\n",
       "      <td>8.825648</td>\n",
       "      <td>5.0</td>\n",
       "      <td>-3.140747</td>\n",
       "      <td>Unconformity</td>\n",
       "      <td>Default serie</td>\n",
       "      <td>1</td>\n",
       "      <td>False</td>\n",
       "      <td>2</td>\n",
       "      <td>${\\bf{x}}_{\\alpha \\,{\\bf{2}},2}$</td>\n",
       "      <td>NaN</td>\n",
       "    </tr>\n",
       "    <tr>\n",
       "      <th>5</th>\n",
       "      <td>15.561631</td>\n",
       "      <td>5.0</td>\n",
       "      <td>-3.232185</td>\n",
       "      <td>Unconformity</td>\n",
       "      <td>Default serie</td>\n",
       "      <td>1</td>\n",
       "      <td>False</td>\n",
       "      <td>2</td>\n",
       "      <td>${\\bf{x}}_{\\alpha \\,{\\bf{2}},3}$</td>\n",
       "      <td>NaN</td>\n",
       "    </tr>\n",
       "    <tr>\n",
       "      <th>6</th>\n",
       "      <td>2.211584</td>\n",
       "      <td>5.0</td>\n",
       "      <td>-5.518153</td>\n",
       "      <td>Layer1</td>\n",
       "      <td>Default serie</td>\n",
       "      <td>1</td>\n",
       "      <td>False</td>\n",
       "      <td>3</td>\n",
       "      <td>${\\bf{x}}_{\\alpha \\,{\\bf{3}},0}$</td>\n",
       "      <td>2.0</td>\n",
       "    </tr>\n",
       "    <tr>\n",
       "      <th>7</th>\n",
       "      <td>11.172574</td>\n",
       "      <td>5.0</td>\n",
       "      <td>-6.981171</td>\n",
       "      <td>Layer1</td>\n",
       "      <td>Default serie</td>\n",
       "      <td>1</td>\n",
       "      <td>False</td>\n",
       "      <td>3</td>\n",
       "      <td>${\\bf{x}}_{\\alpha \\,{\\bf{3}},1}$</td>\n",
       "      <td>2.0</td>\n",
       "    </tr>\n",
       "    <tr>\n",
       "      <th>8</th>\n",
       "      <td>15.104438</td>\n",
       "      <td>5.0</td>\n",
       "      <td>-8.108915</td>\n",
       "      <td>Layer1</td>\n",
       "      <td>Default serie</td>\n",
       "      <td>1</td>\n",
       "      <td>False</td>\n",
       "      <td>3</td>\n",
       "      <td>${\\bf{x}}_{\\alpha \\,{\\bf{3}},2}$</td>\n",
       "      <td>2.0</td>\n",
       "    </tr>\n",
       "    <tr>\n",
       "      <th>9</th>\n",
       "      <td>2.059186</td>\n",
       "      <td>5.0</td>\n",
       "      <td>-4.908561</td>\n",
       "      <td>Layer2</td>\n",
       "      <td>Default serie</td>\n",
       "      <td>1</td>\n",
       "      <td>False</td>\n",
       "      <td>4</td>\n",
       "      <td>${\\bf{x}}_{\\alpha \\,{\\bf{4}},0}$</td>\n",
       "      <td>2.0</td>\n",
       "    </tr>\n",
       "    <tr>\n",
       "      <th>10</th>\n",
       "      <td>11.843125</td>\n",
       "      <td>5.0</td>\n",
       "      <td>-5.761989</td>\n",
       "      <td>Layer2</td>\n",
       "      <td>Default serie</td>\n",
       "      <td>1</td>\n",
       "      <td>False</td>\n",
       "      <td>4</td>\n",
       "      <td>${\\bf{x}}_{\\alpha \\,{\\bf{4}},1}$</td>\n",
       "      <td>2.0</td>\n",
       "    </tr>\n",
       "    <tr>\n",
       "      <th>11</th>\n",
       "      <td>15.317795</td>\n",
       "      <td>5.0</td>\n",
       "      <td>-6.493498</td>\n",
       "      <td>Layer2</td>\n",
       "      <td>Default serie</td>\n",
       "      <td>1</td>\n",
       "      <td>False</td>\n",
       "      <td>4</td>\n",
       "      <td>${\\bf{x}}_{\\alpha \\,{\\bf{4}},2}$</td>\n",
       "      <td>2.0</td>\n",
       "    </tr>\n",
       "  </tbody>\n",
       "</table>\n",
       "</div>"
      ],
      "text/plain": [
       "            X    Y         Z     formation         series  order_series  \\\n",
       "0    4.345153  5.0 -1.921564        fault1  Default serie             1   \n",
       "1   10.000000  4.0 -7.000000        fault1  Default serie             1   \n",
       "2    2.303022  5.0 -1.647248  Unconformity  Default serie             1   \n",
       "3    1.083840  5.0 -1.738687  Unconformity  Default serie             1   \n",
       "4    8.825648  5.0 -3.140747  Unconformity  Default serie             1   \n",
       "5   15.561631  5.0 -3.232185  Unconformity  Default serie             1   \n",
       "6    2.211584  5.0 -5.518153        Layer1  Default serie             1   \n",
       "7   11.172574  5.0 -6.981171        Layer1  Default serie             1   \n",
       "8   15.104438  5.0 -8.108915        Layer1  Default serie             1   \n",
       "9    2.059186  5.0 -4.908561        Layer2  Default serie             1   \n",
       "10  11.843125  5.0 -5.761989        Layer2  Default serie             1   \n",
       "11  15.317795  5.0 -6.493498        Layer2  Default serie             1   \n",
       "\n",
       "    isFault  formation_number                       annotations  Z_std  \n",
       "0     False                 1  ${\\bf{x}}_{\\alpha \\,{\\bf{1}},0}$    NaN  \n",
       "1     False                 1  ${\\bf{x}}_{\\alpha \\,{\\bf{1}},1}$    NaN  \n",
       "2     False                 2  ${\\bf{x}}_{\\alpha \\,{\\bf{2}},0}$    NaN  \n",
       "3     False                 2  ${\\bf{x}}_{\\alpha \\,{\\bf{2}},1}$    NaN  \n",
       "4     False                 2  ${\\bf{x}}_{\\alpha \\,{\\bf{2}},2}$    NaN  \n",
       "5     False                 2  ${\\bf{x}}_{\\alpha \\,{\\bf{2}},3}$    NaN  \n",
       "6     False                 3  ${\\bf{x}}_{\\alpha \\,{\\bf{3}},0}$    2.0  \n",
       "7     False                 3  ${\\bf{x}}_{\\alpha \\,{\\bf{3}},1}$    2.0  \n",
       "8     False                 3  ${\\bf{x}}_{\\alpha \\,{\\bf{3}},2}$    2.0  \n",
       "9     False                 4  ${\\bf{x}}_{\\alpha \\,{\\bf{4}},0}$    2.0  \n",
       "10    False                 4  ${\\bf{x}}_{\\alpha \\,{\\bf{4}},1}$    2.0  \n",
       "11    False                 4  ${\\bf{x}}_{\\alpha \\,{\\bf{4}},2}$    2.0  "
      ]
     },
     "execution_count": 3,
     "metadata": {},
     "output_type": "execute_result"
    }
   ],
   "source": [
    "# Load data, define resolution \n",
    "# Note: resolution (res) and domain boundaries are defined beforehand now as variables as they are needed for \n",
    "# various causes later as well (like computing the centroids)\n",
    "res = 20\n",
    "xdown = -10; xup = 30; ydown = -10; yup = 20; zdown = -10; zup = 0\n",
    "\n",
    "geo_data = gp.create_data([xdown,xup,ydown,yup,zdown,zup],[res, res, res],\n",
    "                         path_f = \"paper_Foliations.csv\",\n",
    "                         path_i = \"paper_Points.csv\")\n",
    "geo_data.add_interface(X=10, Y=4, Z=-7, formation='fault1')\n",
    "\n",
    "geo_data.interfaces.set_value(geo_data.interfaces['formation'] == 'Layer1', 'Z_std', 2)\n",
    "geo_data.interfaces.set_value(geo_data.interfaces['formation'] == 'Layer2', 'Z_std', 2)\n"
   ]
  },
  {
   "cell_type": "code",
   "execution_count": 4,
   "metadata": {
    "collapsed": false
   },
   "outputs": [
    {
     "data": {
      "image/png": "[encoded data removed]",
      "text/plain": [
       "<matplotlib.figure.Figure at 0x7f66a30397b8>"
      ]
     },
     "metadata": {},
     "output_type": "display_data"
    },
    {
     "data": {
      "image/png": "[encoded data removed]",
      "text/plain": [
       "<matplotlib.figure.Figure at 0x7f660f85e198>"
      ]
     },
     "metadata": {},
     "output_type": "display_data"
    }
   ],
   "source": [
    "gp.set_series(geo_data, {'fault_serie1': 'fault1','younger_serie' : 'Unconformity', 'older_serie': ('Layer1', 'Layer2')},\n",
    "              order_formations= ['fault1', 'Unconformity', 'Layer2', 'Layer1'], verbose=0)\n",
    "\n",
    "geo_data.modify_interface(9, Z = -6.4)\n",
    "\n",
    "geo_data = gp.select_series(geo_data, ['older_serie'])\n",
    "gp.get_sequential_pile(geo_data)\n",
    "\n",
    "gp.plot_data(geo_data)"
   ]
  },
  {
   "cell_type": "code",
   "execution_count": 14,
   "metadata": {
    "collapsed": false
   },
   "outputs": [],
   "source": [
    "# Here in verbose is set density block to see that some of the voxels have the density changed\n",
    "# When making this stochastic it is better to delete it to avoid many prints\n",
    "interp_data_grav = gp.InterpolatorData(geo_data, u_grade=[1], dtype='float32', verbose=['density_block'], output='gravity')"
   ]
  },
  {
   "cell_type": "code",
   "execution_count": 15,
   "metadata": {},
   "outputs": [
    {
     "data": {
      "text/plain": [
       "<gempy.geophysics.GravityPreprocessing at 0x7f65ee3140b8>"
      ]
     },
     "execution_count": 15,
     "metadata": {},
     "output_type": "execute_result"
    }
   ],
   "source": [
    "# After compoling we need to set so\n",
    "gp.set_geophysics_obj(interp_data_grav,  [0.1,19.9,.1,.9, -10, 0], # Extent\n",
    "                                             [1,1], ) # Resoluion of the measurement"
   ]
  },
  {
   "cell_type": "code",
   "execution_count": 16,
   "metadata": {},
   "outputs": [],
   "source": [
    "# Now we compute the distances and the component z from the points where we want to compute gravity (in this case just 1 pixel)\n",
    "# To all the voxels within a range\n",
    "# This function also works to change the values of each rock type to densities\n",
    "gp.precomputations_gravity(interp_data_grav, 1, [2.92, 3.1, 2.61]); "
   ]
  },
  {
   "cell_type": "markdown",
   "metadata": {},
   "source": [
    "### here starts the code for the weighted gravity"
   ]
  },
  {
   "cell_type": "code",
   "execution_count": 17,
   "metadata": {},
   "outputs": [
    {
     "name": "stdout",
     "output_type": "stream",
     "text": [
      "Compiling theano function...\n",
      "Compilation Done!\n",
      "Level of Optimization:  fast_compile\n",
      "Device:  cpu\n",
      "Precision:  float32\n"
     ]
    }
   ],
   "source": [
    "# First we compile the theano function as ususal\n",
    "interp_data_grav.th_fn = interp_data_grav.compile_th_fn(output='gravity')"
   ]
  },
  {
   "cell_type": "markdown",
   "metadata": {},
   "source": [
    "#### Form here..."
   ]
  },
  {
   "cell_type": "code",
   "execution_count": 9,
   "metadata": {},
   "outputs": [],
   "source": [
    "# We read the pandas dataframe with the % made in the other notebook\n",
    "\n",
    "# Usually this has to be recomputed at every iteration\n",
    "import pandas as pn\n",
    "weigths_df = pn.read_pickle(\"weights.pickle\")"
   ]
  },
  {
   "cell_type": "code",
   "execution_count": 10,
   "metadata": {},
   "outputs": [
    {
     "data": {
      "text/plain": [
       "array([], dtype=float64)"
      ]
     },
     "execution_count": 10,
     "metadata": {},
     "output_type": "execute_result"
    }
   ],
   "source": [
    "np.ones((0))"
   ]
  },
  {
   "cell_type": "code",
   "execution_count": 11,
   "metadata": {},
   "outputs": [],
   "source": [
    "# Now we need to set the indecies of voxels that are gray\n",
    "interp_data_grav.interpolator.tg.weigths_index.set_value(weigths_df.index.values)\n",
    "\n",
    "# And for those indeces the weighted density\n",
    "interp_data_grav.interpolator.tg.weigths_weigths.set_value((weigths_df *  [2.92, 3.1, 2.61] ).values.sum(axis=1))"
   ]
  },
  {
   "cell_type": "code",
   "execution_count": 17,
   "metadata": {},
   "outputs": [],
   "source": [
    "# This cell is in case you want to see the case of no-gray voxels for comparison\n",
    "\n",
    "if False:\n",
    "    interp_data_grav.interpolator.tg.weigths_index.set_value([])\n",
    "    interp_data_grav.interpolator.tg.weigths_weigths.set_value([])"
   ]
  },
  {
   "cell_type": "code",
   "execution_count": 18,
   "metadata": {},
   "outputs": [
    {
     "name": "stdout",
     "output_type": "stream",
     "text": [
      "density block __str__ = [ 2.6099999   2.92000008  2.92000008 ...,  3.0999999   3.0999999   3.0999999 ]\n"
     ]
    }
   ],
   "source": [
    "# Now we compute\n",
    "lith, _, g = gp.compute_model(interp_data_grav, output='gravity')"
   ]
  },
  {
   "cell_type": "markdown",
   "metadata": {},
   "source": [
    "#### ...to here, is what you need to add to the pymc2 code"
   ]
  },
  {
   "cell_type": "code",
   "execution_count": 16,
   "metadata": {},
   "outputs": [
    {
     "data": {
      "text/plain": [
       "array([ 21.91448021], dtype=float32)"
      ]
     },
     "execution_count": 16,
     "metadata": {},
     "output_type": "execute_result"
    }
   ],
   "source": [
    "# Using gray voxels\n",
    "g"
   ]
  },
  {
   "cell_type": "code",
   "execution_count": 19,
   "metadata": {},
   "outputs": [
    {
     "data": {
      "text/plain": [
       "array([ 21.89094734], dtype=float32)"
      ]
     },
     "execution_count": 19,
     "metadata": {},
     "output_type": "execute_result"
    }
   ],
   "source": [
    "# Using normal voxels\n",
    "g"
   ]
  }
 ],
 "metadata": {
  "kernelspec": {
   "display_name": "Python 3",
   "language": "python",
   "name": "python3"
  },
  "language_info": {
   "codemirror_mode": {
    "name": "ipython",
    "version": 3
   },
   "file_extension": ".py",
   "mimetype": "text/x-python",
   "name": "python",
   "nbconvert_exporter": "python",
   "pygments_lexer": "ipython3",
   "version": "3.6.3"
  }
 },
 "nbformat": 4,
 "nbformat_minor": 2
}
