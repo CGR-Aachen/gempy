{
 "cells": [
  {
   "cell_type": "code",
   "execution_count": null,
   "metadata": {
    "collapsed": true
   },
   "outputs": [],
   "source": [
    "import geopandas as geo\n",
    "import matplotlib.pyplot as plt\n",
    "import numpy as np\n",
    "import pandas as pn"
   ]
  },
  {
   "cell_type": "code",
   "execution_count": null,
   "metadata": {},
   "outputs": [],
   "source": [
    "#Format lith for export to SKS:\n",
    "#overall model dimensions:         x: 251  y: 200,  z: 100\n",
    "#surflist: 1D array of lithology values at land surface (for a 2D geologic model)\n",
    "\n",
    "def export2gslib(export_filename, lith_array, grid_info):\n",
    "    '''Export a lithology array to a gslib format that can be used with SKS (GeoModeller format).\n",
    "    Inputs: \n",
    "    export_filename: name string of file to create (ex: 'surfgeo.csv')\n",
    "    lith_array:      1D array of lithology values (for example, surflist returned by get_surflith()). Should have dimensions (xres*yres)\n",
    "    grid_info:       [xmin,xmax,xres,dx,ymin,ymax,yres,dy,zmin,zmax,zres,dz] array of model grid and resolution info from importDEM()   \n",
    "    \n",
    "    Outputs:\n",
    "    'geo.gslib':     csv gslib file of dimensions (2,xres*yres) with lithology integer values for each cell, formatted for SKS (GeoModeller format)\n",
    "    '''\n",
    "    \n",
    "    #Get grid info:\n",
    "    xres = grid_info[2]\n",
    "    yres = grid_info[6]\n",
    "    \n",
    "    g = np.reshape(lith_array,(yres,xres)) #reshape 1D lith array to an array with dimensions (yres,xres)\n",
    "    #print(np.shape(g))                     #print shape to check that reshape worked correctly (should be (xres,yres))\n",
    "    g = np.flip(g,axis=0)                  #flip y axis \n",
    "    g = np.reshape(g,yres*xres)            #reshape 2D array back to 1D array\n",
    "    #print(np.shape(g))                     #print shape to check that reshape worked correctly (should be (xres*yres))\n",
    "    df = pn.DataFrame(g)                   #store in a pandas dataframe\n",
    "    df = np.round(df)                      #round formation values to closest integer\n",
    "    df = df.astype(np.int)                 #convert floats to integers\n",
    "    header = pn.DataFrame(['Gottesacker geologic model from GemPy',1,'lith']) #set gslib file header\n",
    "    df = header.append(df)                                   #attach header and data\n",
    "    df.to_csv(export_filename, header=False, index=False)    #write the text file in gslib format\n",
    "\n",
    "export_filename = 'surfgeo.gslib'\n",
    "lith_array = surflist\n",
    "export2gslib(export_filename, lith_array, grid_info)"
   ]
  },
  {
   "cell_type": "code",
   "execution_count": null,
   "metadata": {},
   "outputs": [],
   "source": [
    "df = pn.read_csv('')"
   ]
  },
  {
   "cell_type": "code",
   "execution_count": null,
   "metadata": {},
   "outputs": [],
   "source": []
  },
  {
   "cell_type": "code",
   "execution_count": null,
   "metadata": {
    "collapsed": true
   },
   "outputs": [],
   "source": [
    "import geopandas as geo\n",
    "\n",
    "a = geo.read_file('Export_Output.shx', enabled_drivers=['GeoJSON', 'ESRI Shapefile']) #import shapefile (must be .shx not .shp)\n",
    "im = a['GRID_CODE'].values.reshape(300,380)   #reshape data from x,y,z to a grid\n",
    "plt.imshow(im, extent=(a['x'].min(), a['x'].max(), a['y'].min(), a['y'].max() )) #plot raster as image\n"
   ]
  },
  {
   "cell_type": "code",
   "execution_count": null,
   "metadata": {},
   "outputs": [],
   "source": [
    "b = (a['x'].max() - a['x'].min())/50      #calculate number of cols\n",
    "c = (a['y'].max() - a['y'].min())/50     #calculate number of rows\n",
    "print('x:',b,' y:',c)"
   ]
  },
  {
   "cell_type": "code",
   "execution_count": null,
   "metadata": {
    "collapsed": true
   },
   "outputs": [],
   "source": [
    "im = a['GRID_CODE'].values.reshape(300,380)   #reshape data from x,y,z to a grid"
   ]
  },
  {
   "cell_type": "code",
   "execution_count": null,
   "metadata": {},
   "outputs": [],
   "source": [
    "a['x'].min(), a['x'].max(), a['y'].min(), a['y'].max(), a['GRID_CODE'].max()"
   ]
  },
  {
   "cell_type": "code",
   "execution_count": null,
   "metadata": {},
   "outputs": [],
   "source": [
    "#make interactive (magic):\n",
    "%matplotlib notebook  \n",
    "#%matplotlib inline                   \n",
    "\n",
    "plt.imshow(im, extent=(a['x'].min(), a['x'].max(), a['y'].min(), a['y'].max() )) #plot raster as image\n",
    "plt.show()"
   ]
  },
  {
   "cell_type": "code",
   "execution_count": null,
   "metadata": {},
   "outputs": [],
   "source": [
    "import bokeh\n",
    "bokeh.io.output_notebook()"
   ]
  },
  {
   "cell_type": "code",
   "execution_count": null,
   "metadata": {
    "collapsed": true
   },
   "outputs": [],
   "source": [
    "from bokeh.plotting import figure\n",
    "from bokeh.models import ColumnDataSource, Column\n",
    "from bokeh.io import curdoc\n",
    "from bokeh.events import DoubleTap\n",
    "\n",
    "coordList=[]\n",
    "\n",
    "TOOLS = \"tap,reset\"\n",
    "bound = 10\n",
    "p = figure(title='Double click to leave a dot.',\n",
    "           tools=TOOLS,width=700,height=700,\n",
    "           x_range=(-bound, bound), y_range=(-bound, bound))\n",
    "\n",
    "source = ColumnDataSource(data=dict(x=[], y=[]))   \n",
    "p.circle(source=source,x='x',y='y') \n",
    "\n",
    "#add a dot where the click happened\n",
    "def callback(event):\n",
    "    Coords=(event.x,event.y)\n",
    "    coordList.append(Coords) \n",
    "    source.data = dict(x=[i[0] for i in coordList], y=[i[1] for i in coordList])        \n",
    "p.on_event(DoubleTap, callback)\n",
    "\n",
    "layout=Column(p)\n",
    "\n",
    "curdoc().add_root(layout)"
   ]
  },
  {
   "cell_type": "code",
   "execution_count": null,
   "metadata": {},
   "outputs": [],
   "source": [
    "bokeh.plotting.show(p)"
   ]
  },
  {
   "cell_type": "code",
   "execution_count": null,
   "metadata": {
    "collapsed": true
   },
   "outputs": [],
   "source": [
    "#Changing subplot sizes\n",
    "import matplotlib.pyplot as plt\n",
    "from matplotlib.gridspec import GridSpec\n",
    "\n",
    "# create figure\n",
    "f, ax = plt.subplots(3, 1, figsize=(10,10))\n",
    "\n",
    "# plot some data\n",
    "ax[0].plot([1, 2, 3])\n",
    "ax[1].plot([1, 0, 1])\n",
    "ax[2].plot([1, 2, 20])\n",
    "\n",
    "# adjust subplot sizes\n",
    "gs = GridSpec(3, 1, height_ratios=[5, 2, 1])\n",
    "for i in range(3):\n",
    "    ax[i].set_position(gs[i].get_position(f))\n",
    "\n",
    "plt.show()"
   ]
  },
  {
   "cell_type": "code",
   "execution_count": 26,
   "metadata": {},
   "outputs": [
    {
     "name": "stdout",
     "output_type": "stream",
     "text": [
      "C:/Program Files/MATLAB/R2017b/bin/matlab.exe -r \"cd(fullfile('C:/Users/Chloe/Desktop/PhD/SKS/')), triangle_area(10,5)\" \n"
     ]
    },
    {
     "data": {
      "text/plain": [
       "<subprocess.Popen at 0x1ac39e45ba8>"
      ]
     },
     "execution_count": 26,
     "metadata": {},
     "output_type": "execute_result"
    }
   ],
   "source": [
    "#Calling matlab scripts (simple version):\n",
    "import subprocess\n",
    "\n",
    "program  = 'C:/Program Files/MATLAB/R2017b/bin/matlab.exe'    #path to MATLAB exe\n",
    "folder   = 'C:/Users/Chloe/Desktop/PhD/SKS/'                  #path to MATLAB folder with scripts to run\n",
    "script   = 'triangle_area'                                    #name of script to run\n",
    "\n",
    "#Variables\n",
    "#Define variables to feed to function\n",
    "b = 5 \n",
    "h = 3\n",
    "args = '({},{})'.format(b,h)  #put all args into one string\n",
    "\n",
    "#Function string:\n",
    "#Structure:  \"\"\"path_to_exe -r \"cd(fullfile('path_to_folder')), script(args)\" \"\"\"\n",
    "#Example:    \"\"\"C:/Program Files/MATLAB/R2017b/bin/matlab.exe -r \"cd(fullfile('C:/Users/Chloe/Desktop/PhD/SKS/')), triangle_area(5,3)\" \"\"\"\n",
    "fun =  \"\"\"{} -r \"cd(fullfile('{}')), {}{}\" \"\"\".format(program, folder, script, args)  #create function string that tells subprocess what to do\n",
    "subprocess.Popen(fun)\n"
   ]
  },
  {
   "cell_type": "code",
   "execution_count": 42,
   "metadata": {},
   "outputs": [
    {
     "name": "stdout",
     "output_type": "stream",
     "text": [
      "command: C:/Program Files/MATLAB/R2017b/bin/matlab.exe -nosplash -nodesktop -wait -r \"cd(fullfile('C:/Users/Chloe/Desktop/PhD/SKS/')), triangle_area(5,3), exit\" \n",
      "running MATLAB script...\n",
      "done\n"
     ]
    }
   ],
   "source": [
    "#Calling matlab scripts (no arguments, suppress window):\n",
    "import subprocess as sp\n",
    "\n",
    "program  = 'C:/Program Files/MATLAB/R2017b/bin/matlab.exe'    #path to MATLAB exe\n",
    "folder   = 'C:/Users/Chloe/Desktop/PhD/SKS/'                  #path to MATLAB folder with scripts to run\n",
    "script   = 'triangle_area2'                                   #name of script to run\n",
    "options  = '-nosplash -nodesktop -wait'                       #optional: set run options  (nosplash? nodesktop means MATLAB won't open a new desktop window, wait means Python will wait until MATLAB is done beore continuing (needs to be paired with p.wait() after sp.Popen))\n",
    "has_args = True                                               #does the MATLAB script need arguments?\n",
    "\n",
    "#Optional: define arguments to feed to function\n",
    "if has_args ==True:\n",
    "    script   = 'triangle_area'                                #version with arguments\n",
    "    b = 5 \n",
    "    h = 3\n",
    "    args = '({},{})'.format(b,h)  #put all args into one string\n",
    "\n",
    "#Set function string:\n",
    "#Structure:  \"\"\"path_to_exe optional_arguments -r \"cd(fullfile('path_to_folder')), script_name, exit\" \"\"\"\n",
    "#Example:    \"\"\"C:/Program Files/MATLAB/R2017b/bin/matlab.exe -r \"cd(fullfile('C:/Users/Chloe/Desktop/PhD/SKS/')), triangle_area, exit\" \"\"\"\n",
    "#basically, needs to know where the program to use lives, then takes some optional settings, -r runs the program, cd changes to the directory with the script, then needs the name of the script (possibly with arguments), then exits\n",
    "fun =  \"\"\"{} {} -r \"cd(fullfile('{}')), {}, exit\" \"\"\".format(program, options, folder, script)  #create function string that tells subprocess what to do\n",
    "if has_args==True:\n",
    "    fun = \"\"\"{} {} -r \"cd(fullfile('{}')), {}{}, exit\" \"\"\".format(program, options, folder, script, args)\n",
    "print('command:', fun)\n",
    "\n",
    "#Run MATLAB:\n",
    "print('running MATLAB script...')\n",
    "p = sp.Popen(fun)                     #open the subprocess & run the MATLAB script \n",
    "p.wait()                              #wait until MATLAB is done before proceeding (this needs to be paired with -wait in options?)\n",
    "print('done')                 "
   ]
  },
  {
   "cell_type": "code",
   "execution_count": null,
   "metadata": {},
   "outputs": [],
   "source": []
  }
 ],
 "metadata": {
  "kernelspec": {
   "display_name": "Python 3",
   "language": "python",
   "name": "python3"
  },
  "language_info": {
   "codemirror_mode": {
    "name": "ipython",
    "version": 3
   },
   "file_extension": ".py",
   "mimetype": "text/x-python",
   "name": "python",
   "nbconvert_exporter": "python",
   "pygments_lexer": "ipython3",
   "version": "3.6.2"
  }
 },
 "nbformat": 4,
 "nbformat_minor": 2
}
