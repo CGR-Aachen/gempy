{
 "cells": [
  {
   "cell_type": "markdown",
   "metadata": {},
   "source": [
    "### Run SKS from Python\n",
    "Chloé Fandel 2018"
   ]
  },
  {
   "cell_type": "code",
   "execution_count": 23,
   "metadata": {},
   "outputs": [],
   "source": [
    "#Imports:\n",
    "import subprocess as sp\n",
    "import pandas as pd\n",
    "import matplotlib.pyplot as plt\n",
    "\n",
    "#embed matplotlib figures into notebooks:\n",
    "%matplotlib inline  "
   ]
  },
  {
   "cell_type": "code",
   "execution_count": 25,
   "metadata": {},
   "outputs": [
    {
     "name": "stdout",
     "output_type": "stream",
     "text": [
      "command: C:/Program Files/MATLAB/R2017b/bin/matlab.exe -nosplash -nodesktop -wait -r \"cd(fullfile('C:/Users/Chloe/Desktop/PhD/SKS')), run_SKS, exit\" \n",
      "running MATLAB script...\n",
      "done\n",
      "          X          Y  Z\n",
      "0  581487.5  5244563.0  0\n",
      "1  581537.5  5244563.0  0\n",
      "2  581587.5  5244563.0  0\n",
      "3  581637.5  5244563.0  0\n",
      "4  581687.5  5244563.0  0\n"
     ]
    },
    {
     "data": {
      "text/plain": [
       "<matplotlib.collections.PathCollection at 0x24722a62048>"
      ]
     },
     "execution_count": 25,
     "metadata": {},
     "output_type": "execute_result"
    },
    {
     "data": {
      "image/png": "[encoded data removed]",
      "text/plain": [
       "<matplotlib.figure.Figure at 0x24722736550>"
      ]
     },
     "metadata": {},
     "output_type": "display_data"
    }
   ],
   "source": [
    "#Set paths and options:\n",
    "#note: paths need to have forward slashes not backslashes (why?!)\n",
    "program  = 'C:/Program Files/MATLAB/R2017b/bin/matlab.exe'  #path to MATLAB exe\n",
    "folder   = 'C:/Users/Chloe/Desktop/PhD/SKS'                 #path to folder with SKS MATLAB scripts to run\n",
    "script   = 'run_SKS'                                        #name of script to run\n",
    "outputs  = r'C:\\Users\\Chloe\\Desktop\\PhD\\SKS\\output_SKS'     #path to folder where outputs are stored (this one should have backslashes)\n",
    "options  = '-nosplash -nodesktop -wait'                     #optional: set run options  (nosplash? nodesktop means MATLAB won't open a new desktop window, wait means Python will wait until MATLAB is done beore continuing (needs to be paired with p.wait() after sp.Popen))\n",
    "has_args = False                                            #set whether the MATLAB script needs arguments (i.e. is it a function?)\n",
    "\n",
    "#Optional: define arguments to feed to function\n",
    "if has_args ==True:\n",
    "    script   = 'run_SKS_fun'                                #select script version with arguments\n",
    "    b = 5 \n",
    "    h = 3\n",
    "    args = '({},{})'.format(b,h)                            #put all args into one string\n",
    "\n",
    "#Set function string:\n",
    "#Structure:  \"\"\"path_to_exe optional_arguments -r \"cd(fullfile('path_to_folder')), script_name, exit\" \"\"\"\n",
    "#Example:    \"\"\"C:/Program Files/MATLAB/R2017b/bin/matlab.exe -r \"cd(fullfile('C:/Users/Chloe/Desktop/PhD/SKS/')), run_SKS, exit\" \"\"\"\n",
    "#basically, needs to know where the program to use lives, then takes some optional settings, -r runs the program, cd changes to the directory with the script, then needs the name of the script (possibly with arguments), then exits\n",
    "fun =  \"\"\"{} {} -r \"cd(fullfile('{}')), {}, exit\" \"\"\".format(program, options, folder, script)  #create function string that tells subprocess what to do\n",
    "if has_args==True:\n",
    "    fun = \"\"\"{} {} -r \"cd(fullfile('{}')), {}{}, exit\" \"\"\".format(program, options, folder, script, args)\n",
    "\n",
    "#Run MATLAB:\n",
    "print('running SKS in MATLAB...')\n",
    "p = sp.Popen(fun)                     #open the subprocess & run the MATLAB script \n",
    "p.wait()                              #wait until MATLAB is done before proceeding (this needs to be paired with -wait in options?)\n",
    "print('done')                         #if the run is successful, an output file names a.mat should appear in the folder with the MATLAB scripts\n",
    "\n",
    "#Import MATLAB output files back into Python:\n",
    "nodes = pd.read_csv(outputs + '\\output_SKS_nodes', sep=' ', names=['X','Y','Z'])\n",
    "plt.scatter(nodes.X,nodes.Y, marker='.')"
   ]
  },
  {
   "cell_type": "code",
   "execution_count": null,
   "metadata": {},
   "outputs": [],
   "source": []
  }
 ],
 "metadata": {
  "kernelspec": {
   "display_name": "Python 3",
   "language": "python",
   "name": "python3"
  },
  "language_info": {
   "codemirror_mode": {
    "name": "ipython",
    "version": 3
   },
   "file_extension": ".py",
   "mimetype": "text/x-python",
   "name": "python",
   "nbconvert_exporter": "python",
   "pygments_lexer": "ipython3",
   "version": "3.6.2"
  }
 },
 "nbformat": 4,
 "nbformat_minor": 2
}
