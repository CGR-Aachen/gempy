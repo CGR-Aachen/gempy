{
 "cells": [
  {
   "cell_type": "code",
   "execution_count": 1,
   "metadata": {},
   "outputs": [
    {
     "ename": "ModuleNotFoundError",
     "evalue": "No module named 'mplstereonet'",
     "output_type": "error",
     "traceback": [
      "\u001b[1;31m---------------------------------------------------------------------------\u001b[0m",
      "\u001b[1;31mModuleNotFoundError\u001b[0m                       Traceback (most recent call last)",
      "\u001b[1;32m<ipython-input-1-d86fabe53c0e>\u001b[0m in \u001b[0;36m<module>\u001b[1;34m()\u001b[0m\n\u001b[0;32m      8\u001b[0m \u001b[0msys\u001b[0m\u001b[1;33m.\u001b[0m\u001b[0mpath\u001b[0m\u001b[1;33m.\u001b[0m\u001b[0mappend\u001b[0m\u001b[1;33m(\u001b[0m\u001b[1;34m'C:\\\\Users\\\\elisa\\\\Documents\\\\git\\\\mplstereonet'\u001b[0m\u001b[1;33m)\u001b[0m\u001b[1;33m\u001b[0m\u001b[0m\n\u001b[0;32m      9\u001b[0m \u001b[0msys\u001b[0m\u001b[1;33m.\u001b[0m\u001b[0mpath\u001b[0m\u001b[1;33m.\u001b[0m\u001b[0mappend\u001b[0m\u001b[1;33m(\u001b[0m\u001b[1;34m'C:\\\\Users\\\\elisa\\\\Documents\\\\git\\\\gempy'\u001b[0m\u001b[1;33m)\u001b[0m\u001b[1;33m\u001b[0m\u001b[0m\n\u001b[1;32m---> 10\u001b[1;33m \u001b[1;32mimport\u001b[0m \u001b[0mmplstereonet\u001b[0m\u001b[1;33m\u001b[0m\u001b[0m\n\u001b[0m\u001b[0;32m     11\u001b[0m \u001b[1;32mimport\u001b[0m \u001b[0mgempy\u001b[0m \u001b[1;32mas\u001b[0m \u001b[0mgp\u001b[0m\u001b[1;33m\u001b[0m\u001b[0m\n\u001b[0;32m     12\u001b[0m \u001b[1;32mfrom\u001b[0m \u001b[0mimportlib\u001b[0m \u001b[1;32mimport\u001b[0m \u001b[0mreload\u001b[0m\u001b[1;33m\u001b[0m\u001b[0m\n",
      "\u001b[1;31mModuleNotFoundError\u001b[0m: No module named 'mplstereonet'"
     ]
    }
   ],
   "source": [
    "import warnings\n",
    "warnings.filterwarnings('ignore')\n",
    "import sys\n",
    "import numpy as np\n",
    "import matplotlib.pyplot as plt\n",
    "from mpl_toolkits.mplot3d import Axes3D\n",
    "%matplotlib inline\n",
    "sys.path.append('C:\\\\Users\\\\elisa\\\\Documents\\\\git\\\\mplstereonet')\n",
    "sys.path.append('C:\\\\Users\\\\elisa\\\\Documents\\\\git\\\\gempy')\n",
    "import mplstereonet\n",
    "import gempy as gp\n",
    "from importlib import reload\n",
    "import os\n",
    "sys.path.append('C:\\\\Users\\\\elisa\\\\Documents\\\\git\\\\remote-geomod')  # append local path to access rgeomod module\n",
    "import pandas as pn\n",
    "'''\n",
    "import rgeomod\n",
    "\n",
    "import gdal\n",
    "import skimage\n",
    "import scipy\n",
    "import linecache\n",
    "from mpl_toolkits.mplot3d import Axes3D\n",
    "from copy import copy\n",
    "\n",
    "import seaborn as sns\n",
    "'''"
   ]
  },
  {
   "cell_type": "code",
   "execution_count": null,
   "metadata": {},
   "outputs": [],
   "source": [
    "geo_data = gp.create_data([777000,794500,6345000,6349000,-1500,1000],[40,175,25],\n",
    "                        path_i = \"C:\\\\Users\\\\elisa\\\\Documents\\\\git\\\\gempy\\\\notebooks\\\\prototype_notebooks\\\\input_data\\\\Elisa_model-interfaces.csv\",\n",
    "                        path_o = \"C:\\\\Users\\\\elisa\\\\Documents\\\\git\\\\gempy\\\\notebooks\\\\prototype_notebooks\\\\input_data\\\\Elisa_model-orientations.csv\")"
   ]
  },
  {
   "cell_type": "code",
   "execution_count": null,
   "metadata": {},
   "outputs": [],
   "source": [
    "other_interf = pn.read_csv('C:\\\\Users\\\\elisa\\\\Documents\\\\git\\\\MSc\\\\GeomodToGempy\\\\input_data\\\\All_Interfaces_Global_filtered_upscaling-socle.csv')"
   ]
  },
  {
   "cell_type": "code",
   "execution_count": null,
   "metadata": {},
   "outputs": [],
   "source": [
    "geo_data.interfaces"
   ]
  },
  {
   "cell_type": "code",
   "execution_count": null,
   "metadata": {},
   "outputs": [],
   "source": [
    "#sorting of lithologies\n",
    "gp.set_series(geo_data,{\"fault1\":('E_Affenadou'), \"fault2\":('E_MasDieu'), \"Trias_Series\":('LIAS','TRIAS'), \n",
    "                        \"Carbon_Series\":('CARBO'), \"Basement_Series\":('basement')},\n",
    "             order_formations=np.array(['E_Affenadou','E_MasDieu','LIAS','TRIAS','CARBO','basement']))"
   ]
  },
  {
   "cell_type": "code",
   "execution_count": null,
   "metadata": {},
   "outputs": [],
   "source": [
    "gp.get_sequential_pile(geo_data)"
   ]
  },
  {
   "cell_type": "code",
   "execution_count": null,
   "metadata": {},
   "outputs": [],
   "source": [
    "gp.plotting.plot_data(geo_data,direction='z')"
   ]
  },
  {
   "cell_type": "code",
   "execution_count": null,
   "metadata": {},
   "outputs": [],
   "source": [
    "#Compiling of interpolator function\n",
    "interp_data = gp.InterpolatorData(geo_data, compile_theano=True,\n",
    "                                  dtype='float64',theano_optimizer='fast_run')"
   ]
  },
  {
   "cell_type": "code",
   "execution_count": null,
   "metadata": {},
   "outputs": [],
   "source": [
    "lith_block, fault_block = gp.compute_model(interp_data)"
   ]
  },
  {
   "cell_type": "code",
   "execution_count": null,
   "metadata": {},
   "outputs": [],
   "source": [
    "gp.plot_section(geo_data, lith_block[0], cell_number=25,  direction='y', plot_data=True)"
   ]
  },
  {
   "cell_type": "markdown",
   "metadata": {},
   "source": [
    "## Topography"
   ]
  },
  {
   "cell_type": "markdown",
   "metadata": {},
   "source": [
    "### 1. Import dtm (tif or ascii), compare extent and crop it according to extent of geo_data"
   ]
  },
  {
   "cell_type": "code",
   "execution_count": null,
   "metadata": {},
   "outputs": [],
   "source": [
    "def import_dtm(path_dtm):\n",
    "    '''returns: osgeo.gdal.Dataset'''\n",
    "    #import_data_csv\n",
    "    if path_dtm:\n",
    "        dtm = gdal.Open(path_dtm)\n",
    "    return dtm\n",
    "\n",
    "def compare_extent(dtm, geo_data, show=True):\n",
    "    dtm_extent, dtm_resolution = gdal2geodata_extent(dtm)\n",
    "    cornerpoints_geo = get_cornerpoints(geo_data.extent)\n",
    "    cornerpoints_dtm = get_cornerpoints(dtm_extent)\n",
    "    \n",
    "    if show:\n",
    "        plt.style.use('bmh')\n",
    "        plt.plot(cornerpoints_geo[:,0], cornerpoints_geo[:,1], 'ro', markersize = 12, label = 'Geo_data extent')\n",
    "        plt.plot(cornerpoints_dtm[:,0], cornerpoints_dtm[:,1], 'gX',markersize = 11, label = 'DTM extent')\n",
    "        plt.title('Extent comparison')\n",
    "        plt.legend(loc=0, fancybox=True, shadow=True)\n",
    "        plt.show()\n",
    "        \n",
    "    if np.any(cornerpoints_geo[:2]-cornerpoints_dtm[:2]) != 0:\n",
    "        print('Extent of geo_data and DTM do not match. Use function cropDTMtogeodata to crop')\n",
    "    else:\n",
    "        print('Extent of geo_data and DTM match. You may continue!')\n",
    "    \n",
    "def gdal2geodata_extent(dtm):\n",
    "    '''can return dtm.extent and dtm.resolution'''\n",
    "    ulx, xres, xskew, uly, yskew, yres  = dtm.GetGeoTransform()\n",
    "    z = dtm.ReadAsArray()\n",
    "    if np.any(np.array([xskew,yskew]))!= 0:\n",
    "        print('Obacht! DTM is not north-oriented. Stop.')\n",
    "    lrx = ulx + (dtm.RasterXSize * xres)\n",
    "    lry = uly + (dtm.RasterYSize * yres)\n",
    "    res = np.array([(uly-lry)/(-yres),(lrx-ulx)/xres]).astype(int)   \n",
    "    return np.array([ulx, lrx, lry, uly, z.min(), z.max()]).astype(int), res\n",
    "\n",
    "def get_cornerpoints(extent):\n",
    "    upleft = ([extent[0], extent[3]]) \n",
    "    lowleft = ([extent[0], extent[2]]) \n",
    "    upright = ([extent[1], extent[3]]) \n",
    "    lowright = ([extent[1], extent[2]]) \n",
    "    return np.array([upleft,lowleft,upright,lowright])\n",
    "\n",
    "def cropDTM2geodata(path_dest, dtm, geo_data):\n",
    "    new_bounds = (geo_data.extent[0], geo_data.extent[2], geo_data.extent[1], geo_data.extent[3])\n",
    "    #destName = \"C:\\\\Users\\\\elisa\\\\Documents\\\\git\\\\MSc\\\\GempyTopography\\\\cropped_DTM.tif\"\n",
    "    gdal.Warp(path_dest, dtm, options = gdal.WarpOptions(\n",
    "        options = ['outputBounds'], outputBounds=new_bounds))\n",
    "    return gdal.Open(path_dest)\n",
    "\n",
    "def tif2xyz(path_dest, dtm):\n",
    "    '''returns array with the x,y,z coordinates of the topography.'''\n",
    "    shape = dtm.ReadAsArray().shape\n",
    "    #print(shape)\n",
    "    gdal.Translate(path_dest, dtm, options=gdal.TranslateOptions(options = ['format'],format = \"XYZ\"))\n",
    "    xyz = pn.read_csv(path_dest, header=None, sep = ' ').as_matrix()\n",
    "    return np.dstack([xyz[:,0].reshape(shape),xyz[:,1].reshape(shape),xyz[:,2].reshape(shape)])"
   ]
  },
  {
   "cell_type": "markdown",
   "metadata": {},
   "source": [
    "##### 1.1 import dtm"
   ]
  },
  {
   "cell_type": "code",
   "execution_count": null,
   "metadata": {},
   "outputs": [],
   "source": [
    "hallo = import_dtm(path_dtm='C:\\\\Users\\\\elisa\\\\Documents\\\\Ales\\\\DISTRIB_2018\\\\MNT\\\\MNT_Dx25m_ALES_L93.asc')"
   ]
  },
  {
   "cell_type": "markdown",
   "metadata": {},
   "source": [
    "##### 1.2 compare extent"
   ]
  },
  {
   "cell_type": "code",
   "execution_count": null,
   "metadata": {},
   "outputs": [],
   "source": [
    "compare_extent(hallo, geo_data)"
   ]
  },
  {
   "cell_type": "markdown",
   "metadata": {},
   "source": [
    "##### 1.3 extent does not match --> crop"
   ]
  },
  {
   "cell_type": "code",
   "execution_count": null,
   "metadata": {},
   "outputs": [],
   "source": [
    "path_dest=\"C:\\\\Users\\\\elisa\\\\Documents\\\\git\\\\MSc\\\\GempyTopography\\\\croppedhallo2.tif\"\n",
    "cropped = cropDTM2geodata(path_dest, hallo, geo_data)"
   ]
  },
  {
   "cell_type": "markdown",
   "metadata": {},
   "source": [
    "##### 1.4 compare extent of new dtm with geo_data"
   ]
  },
  {
   "cell_type": "code",
   "execution_count": null,
   "metadata": {},
   "outputs": [],
   "source": [
    "compare_extent(cropped, geo_data, show=True)"
   ]
  },
  {
   "cell_type": "markdown",
   "metadata": {},
   "source": [
    "##### it does match now!"
   ]
  },
  {
   "cell_type": "code",
   "execution_count": null,
   "metadata": {},
   "outputs": [],
   "source": [
    "# not sure if i need this but keep it here\n",
    "path_dest = \"C:\\\\Users\\\\elisa\\\\Documents\\\\git\\\\MSc\\\\GempyTopography\\\\XYZ.csv\"\n",
    "xyz = tif2xyz(path_dest, cropped)"
   ]
  },
  {
   "cell_type": "markdown",
   "metadata": {},
   "source": [
    "## 2. Include topography in gempy plots"
   ]
  },
  {
   "cell_type": "markdown",
   "metadata": {},
   "source": [
    "### 2.1 Plot as background in gp.plotting.plot_data (if direction = z)\n",
    "- Problem: X and Y coordinates are not included (see array xyz)\n",
    "- how combine it with seaborn plot of gempy (see plot_data in class plot_data_2D)"
   ]
  },
  {
   "cell_type": "code",
   "execution_count": 1,
   "metadata": {},
   "outputs": [
    {
     "ename": "NameError",
     "evalue": "name 'plt' is not defined",
     "output_type": "error",
     "traceback": [
      "\u001b[1;31m---------------------------------------------------------------------------\u001b[0m",
      "\u001b[1;31mNameError\u001b[0m                                 Traceback (most recent call last)",
      "\u001b[1;32m<ipython-input-1-f3293a9ee730>\u001b[0m in \u001b[0;36m<module>\u001b[1;34m()\u001b[0m\n\u001b[0;32m      1\u001b[0m \u001b[1;31m#Plot DEM\u001b[0m\u001b[1;33m\u001b[0m\u001b[1;33m\u001b[0m\u001b[0m\n\u001b[1;32m----> 2\u001b[1;33m \u001b[0mplt\u001b[0m\u001b[1;33m.\u001b[0m\u001b[0mfigure\u001b[0m\u001b[1;33m(\u001b[0m\u001b[0mfigsize\u001b[0m\u001b[1;33m=\u001b[0m\u001b[1;33m(\u001b[0m\u001b[1;36m12\u001b[0m\u001b[1;33m,\u001b[0m\u001b[1;36m4\u001b[0m\u001b[1;33m)\u001b[0m\u001b[1;33m)\u001b[0m\u001b[1;33m\u001b[0m\u001b[0m\n\u001b[0m\u001b[0;32m      3\u001b[0m \u001b[0mvdtm\u001b[0m \u001b[1;33m=\u001b[0m \u001b[0mplt\u001b[0m\u001b[1;33m.\u001b[0m\u001b[0mimshow\u001b[0m\u001b[1;33m(\u001b[0m\u001b[0mcropped\u001b[0m\u001b[1;33m.\u001b[0m\u001b[0mReadAsArray\u001b[0m\u001b[1;33m(\u001b[0m\u001b[1;33m)\u001b[0m\u001b[1;33m)\u001b[0m\u001b[1;33m\u001b[0m\u001b[0m\n\u001b[0;32m      4\u001b[0m \u001b[0mplt\u001b[0m\u001b[1;33m.\u001b[0m\u001b[0mtitle\u001b[0m\u001b[1;33m(\u001b[0m\u001b[1;34m\"Topography\"\u001b[0m\u001b[1;33m)\u001b[0m\u001b[1;33m\u001b[0m\u001b[0m\n\u001b[0;32m      5\u001b[0m \u001b[0mcbar\u001b[0m \u001b[1;33m=\u001b[0m \u001b[0mplt\u001b[0m\u001b[1;33m.\u001b[0m\u001b[0mcolorbar\u001b[0m\u001b[1;33m(\u001b[0m\u001b[0mvdtm\u001b[0m\u001b[1;33m)\u001b[0m\u001b[1;33m\u001b[0m\u001b[0m\n",
      "\u001b[1;31mNameError\u001b[0m: name 'plt' is not defined"
     ]
    }
   ],
   "source": [
    "#Plot DEM\n",
    "plt.figure(figsize=(12,4))\n",
    "vdtm = plt.imshow(cropped.ReadAsArray())\n",
    "plt.title(\"Topography\")\n",
    "cbar = plt.colorbar(vdtm)\n",
    "cbar.set_label('elevation')"
   ]
  },
  {
   "cell_type": "markdown",
   "metadata": {},
   "source": [
    "### 2.2 Plot in plots of block model"
   ]
  },
  {
   "cell_type": "code",
   "execution_count": null,
   "metadata": {},
   "outputs": [],
   "source": [
    "# lith block\n",
    "lb = lith_block[0].reshape(geo_data.resolution)"
   ]
  },
  {
   "cell_type": "code",
   "execution_count": null,
   "metadata": {},
   "outputs": [],
   "source": [
    "extent_dtm, res_dtm = gdal2geodata_extent(cropped)"
   ]
  },
  {
   "cell_type": "markdown",
   "metadata": {},
   "source": [
    "The extent of the dtm and geo_data match now, but the resolution is still different:"
   ]
  },
  {
   "cell_type": "code",
   "execution_count": null,
   "metadata": {},
   "outputs": [],
   "source": [
    "res_dtm, geo_data.resolution"
   ]
  },
  {
   "cell_type": "code",
   "execution_count": null,
   "metadata": {},
   "outputs": [],
   "source": [
    "dtm = cropped.ReadAsArray()"
   ]
  },
  {
   "cell_type": "markdown",
   "metadata": {},
   "source": [
    "In order to combine the datasets for plotting, there are two possible ways:\n",
    " - either the dtm has to be shrinked \n",
    " - or the geo_data lith block has to be extented"
   ]
  },
  {
   "cell_type": "markdown",
   "metadata": {},
   "source": [
    "But first of all, we need a function that creates an array with the same numbers for the same z-value related to the extent:"
   ]
  },
  {
   "cell_type": "code",
   "execution_count": null,
   "metadata": {},
   "outputs": [],
   "source": [
    "def height_ind(dtm, zs):\n",
    "    '''calculate 'indices': array with shape (ext1, ext2) where the values\n",
    "    are similar if the elevation is similar.'''  \n",
    "    #zs = np.linspace(geo_data.extent[4], geo_data.extent[5], lb.shape[2])\n",
    "    #dz = geo_data.extent[5] - geo_data.extent[4])/geo_data.resolution[2]\n",
    "    # dz is number of points in z direction\n",
    "    dz = (zs[-1] - zs[0]) / len(zs)\n",
    "    #2. substract minimum value (here -1000) from each value of dtm and divide it by dz\n",
    "    dtm_v = (dtm - zs[0]) / dz\n",
    "    return dtm_v.astype(int)\n",
    "\n",
    "\n",
    "def calculate_geomap(lb, dtm, geo_data, plot=True):\n",
    "    zs = np.linspace(geo_data.extent[4], geo_data.extent[5], lb.shape[2])\n",
    "    indices = height_ind(dtm,zs)   \n",
    "    geomap = np.zeros((lb.shape[0],lb.shape[1]))\n",
    "    for x in range(lb.shape[0]):\n",
    "        for y in range(lb.shape[1]):\n",
    "            geomap[x,y] = lb[x,y,indices[x,y]]   \n",
    "    if plot:\n",
    "        plt.imshow(geomap, origin=\"lower\", cmap=gp.plotting.colors.cmap, norm=gp.plotting.colors.norm)\n",
    "        plt.title(\"Geological map\")    \n",
    "    return geomap  \n",
    "\n",
    "def extend_lithblock(lb, factor):\n",
    "    fertig2 = []\n",
    "    for i in range(0,lb.shape[2]):\n",
    "        lb_sub=lb[:,:,i]\n",
    "        fertig = []\n",
    "        for j in range(0, lb.shape[0]):\n",
    "            y = np.repeat(lb_sub[j,:], factor)\n",
    "            fertig = np.append(fertig, [y]*factor)\n",
    "        fertig = fertig.reshape(lb.shape[0]*factor, lb.shape[1]*factor)\n",
    "        fertig2.append(fertig)\n",
    "        fertig2.append(fertig)\n",
    "        fertig2.append(fertig)\n",
    "        fertig2.append(fertig)\n",
    "    return np.dstack(fertig2)\n",
    "\n",
    "def mask_lith_block_above_topo(lb, geo_data, dtm):\n",
    "    '''hier wird allen Werten die oberhalb der topographie \n",
    "    liegen ein minus eins zugewiesen und das dann maskiert'''\n",
    "    zs = np.linspace(geo_data.extent[4], geo_data.extent[5], lb.shape[2])\n",
    "    indices = height_ind(dtm,zs)\n",
    "    \n",
    "    geoblock = copy(lb)\n",
    "    for x in range(lb.shape[0]):\n",
    "        for y in range(lb.shape[1]):\n",
    "            z = indices[x,y]\n",
    "            geoblock[x,y,z:] = -1\n",
    "    \n",
    "    return np.ma.masked_where(geoblock < 0, geoblock)"
   ]
  },
  {
   "cell_type": "code",
   "execution_count": null,
   "metadata": {},
   "outputs": [],
   "source": [
    "zs = np.linspace(geo_data.extent[4], geo_data.extent[5], geo_data.extent[2])\n",
    "indices = height_ind(dtm_resized, zs)\n",
    "plt.imshow(indices, origin=\"lower\", cmap='viridis')\n",
    "plt.title(\"Height indices\", fontsize = 15)   "
   ]
  },
  {
   "cell_type": "markdown",
   "metadata": {},
   "source": [
    "#### 2.2.1 resize DTM:"
   ]
  },
  {
   "cell_type": "code",
   "execution_count": null,
   "metadata": {},
   "outputs": [],
   "source": [
    "#dtm\n",
    "dtm_resized = skimage.transform.resize(dtm, (geo_data.resolution[0],geo_data.resolution[1]), preserve_range=True)\n",
    "dtm_resized.shape"
   ]
  },
  {
   "cell_type": "markdown",
   "metadata": {},
   "source": [
    "#### 2.2.2 Extent lith_block"
   ]
  },
  {
   "cell_type": "code",
   "execution_count": null,
   "metadata": {},
   "outputs": [],
   "source": [
    "lb2 = extend_lithblock(lb, 4)\n",
    "lb2.shape, dtm.shape"
   ]
  },
  {
   "cell_type": "markdown",
   "metadata": {},
   "source": [
    "#### Plot"
   ]
  },
  {
   "cell_type": "code",
   "execution_count": null,
   "metadata": {},
   "outputs": [],
   "source": [
    "geomap = calculate_geomap(lb,dtm_resized, geo_data, plot = False)\n",
    "geomap2 = calculate_geomap(lb2, dtm, geo_data, plot = False)\n",
    "plt.figure(1, figsize = (10,5))\n",
    "plt.imshow(geomap, origin=\"lower\", cmap=gp.plotting.colors.cmap, norm=gp.plotting.colors.norm)\n",
    "plt.title(\"Geomap, geodata extent\", fontsize = 15)   \n",
    "plt.figure(2, figsize = (10,5))\n",
    "plt.imshow(geomap2, origin=\"lower\", cmap=gp.plotting.colors.cmap, norm=gp.plotting.colors.norm)\n",
    "plt.title(\"Geomap, geotiff extent\", fontsize = 15)   "
   ]
  },
  {
   "cell_type": "code",
   "execution_count": null,
   "metadata": {},
   "outputs": [],
   "source": [
    "geoblock = mask_lith_block_above_topo(lb, geo_data, dtm_resized)\n",
    "geoblock2 = mask_lith_block_above_topo(lb2, geo_data, dtm)\n",
    "\n",
    "plt.figure(1, figsize = (10,5))\n",
    "fig = plt.imshow(geoblock[25,:,:].T, origin=\"lower\", cmap=gp.plotting.colors.cmap,norm=gp.plotting.colors.norm)\n",
    "plt.title(\"Cross section, geodata extent\", fontsize = 15)  \n",
    "plt.figure(2, figsize = (10,5))\n",
    "plt.imshow(geoblock2[100,:,:].T, origin=\"lower\", cmap=gp.plotting.colors.cmap,norm=gp.plotting.colors.norm)\n",
    "plt.title(\"Cross section, full extent\", fontsize = 15)  "
   ]
  },
  {
   "cell_type": "code",
   "execution_count": null,
   "metadata": {},
   "outputs": [],
   "source": [
    "%matplotlib inline\n",
    "fig = plt.figure(figsize=(12,8))\n",
    "ax = fig.gca(projection='3d')\n",
    "surf = ax.plot_surface(xyz[:,:,0], xyz[:,:,1],xyz[:,:,2], cmap=\"viridis\",\n",
    "                       linewidth=0, antialiased=False)\n",
    "#ax.view_init(azim=0, elev=90)\n",
    "ax.set_zlim(-1000,1000)"
   ]
  },
  {
   "cell_type": "code",
   "execution_count": null,
   "metadata": {},
   "outputs": [],
   "source": []
  }
 ],
 "metadata": {
  "kernelspec": {
   "display_name": "Python 3",
   "language": "python",
   "name": "python3"
  },
  "language_info": {
   "codemirror_mode": {
    "name": "ipython",
    "version": 3
   },
   "file_extension": ".py",
   "mimetype": "text/x-python",
   "name": "python",
   "nbconvert_exporter": "python",
   "pygments_lexer": "ipython3",
   "version": "3.6.2"
  }
 },
 "nbformat": 4,
 "nbformat_minor": 2
}
