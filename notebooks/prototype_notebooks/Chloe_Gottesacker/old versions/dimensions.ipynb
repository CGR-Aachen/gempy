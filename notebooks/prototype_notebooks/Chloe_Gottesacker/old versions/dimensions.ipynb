{
 "cells": [
  {
   "cell_type": "code",
   "execution_count": null,
   "metadata": {},
   "outputs": [],
   "source": [
    "#Manipulating dimensions:\n",
    "\n",
    "lb = lith[0][0].reshape([mxres,myres,mzres]) #reshape takes a 1D array and gives it more dimensions (length must = dim1*dim2*dim3...etc.)\n",
    "lb2 = lith[0][0].reshape([myres,mxres,mzres]) #reshape does not work if the x and y are flipped - why?\n",
    "lb3 = np.transpose(lb,(1,0,2))  #transpose swaps order of axes (so here, I am flipping x and y (aka 0 and 1))\n",
    "lb4 = np.flip(lb3,axis=0)       #transpose didn't correctly map y (north-south) axis, so need to flip just that axis\n",
    "\n",
    "f,ax = plt.subplots(1,4, figsize=(20,10))\n",
    "ax[0].imshow(lb[:,:,25])\n",
    "ax[0].set_title('Start: lb'+str(lb.shape))\n",
    "ax[1].imshow(lb2[:,:,25])\n",
    "ax[1].set_title('Reshape: lb2'+str(lb2.shape))\n",
    "ax[2].imshow(lb3[:,:,25])\n",
    "ax[2].set_title('Transpose: lb3'+str(lb3.shape))\n",
    "ax[3].imshow(lb4[:,:,25])\n",
    "ax[3].set_title('Flip: lb4'+str(lb4.shape))\n"
   ]
  }
 ],
 "metadata": {
  "kernelspec": {
   "display_name": "Python 3",
   "language": "python",
   "name": "python3"
  },
  "language_info": {
   "codemirror_mode": {
    "name": "ipython",
    "version": 3
   },
   "file_extension": ".py",
   "mimetype": "text/x-python",
   "name": "python",
   "nbconvert_exporter": "python",
   "pygments_lexer": "ipython3",
   "version": "3.6.2"
  }
 },
 "nbformat": 4,
 "nbformat_minor": 2
}
