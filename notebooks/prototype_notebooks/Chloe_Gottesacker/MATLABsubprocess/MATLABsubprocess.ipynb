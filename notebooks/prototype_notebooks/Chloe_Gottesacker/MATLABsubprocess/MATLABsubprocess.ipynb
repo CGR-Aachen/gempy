{
 "cells": [
  {
   "cell_type": "markdown",
   "metadata": {},
   "source": [
    "### How to call MATLAB scripts and functions from Python\n",
    "Chloé Fandel 2018"
   ]
  },
  {
   "cell_type": "code",
   "execution_count": 2,
   "metadata": {},
   "outputs": [
    {
     "name": "stdout",
     "output_type": "stream",
     "text": [
      "command: C:/Program Files/MATLAB/R2017b/bin/matlab.exe -nosplash -nodesktop -wait -r \"cd(fullfile('C:/Users/Chloe/Documents/GitHub/gempy/notebooks/prototype_notebooks/Chloe_Gottesacker/MATLABsubprocess')), triangle_area_fun(5,3), exit\" \n",
      "running MATLAB script...\n",
      "done\n"
     ]
    }
   ],
   "source": [
    "#Imports:\n",
    "import subprocess as sp\n",
    "\n",
    "#Set paths and options:\n",
    "#note: paths need to have forward slashes not backslashes (why?!)\n",
    "program  = 'C:/Program Files/MATLAB/R2017b/bin/matlab.exe'  #path to MATLAB exe\n",
    "folder   = 'C:/Users/Chloe/Documents/GitHub/gempy/notebooks/prototype_notebooks/Chloe_Gottesacker/MATLABsubprocess' #path to MATLAB folder with scripts to run\n",
    "script   = 'triangle_area'                                  #name of script to run\n",
    "options  = '-nosplash -nodesktop -wait'                     #optional: set run options  (nosplash? nodesktop means MATLAB won't open a new desktop window, wait means Python will wait until MATLAB is done beore continuing (needs to be paired with p.wait() after sp.Popen))\n",
    "has_args = True                                             #set whether the MATLAB script needs arguments (i.e. is it a function?)\n",
    "\n",
    "#Optional: define arguments to feed to function\n",
    "if has_args ==True:\n",
    "    script   = 'triangle_area_fun'                          #select script version with arguments\n",
    "    b = 5 \n",
    "    h = 3\n",
    "    args = '({},{})'.format(b,h)                            #put all args into one string\n",
    "\n",
    "#Set function string:\n",
    "#Structure:  \"\"\"path_to_exe optional_arguments -r \"cd(fullfile('path_to_folder')), script_name, exit\" \"\"\"\n",
    "#Example:    \"\"\"C:/Program Files/MATLAB/R2017b/bin/matlab.exe -r \"cd(fullfile('C:/Users/Chloe/Desktop/PhD/SKS/')), triangle_area, exit\" \"\"\"\n",
    "#basically, needs to know where the program to use lives, then takes some optional settings, -r runs the program, cd changes to the directory with the script, then needs the name of the script (possibly with arguments), then exits\n",
    "fun =  \"\"\"{} {} -r \"cd(fullfile('{}')), {}, exit\" \"\"\".format(program, options, folder, script)  #create function string that tells subprocess what to do\n",
    "if has_args==True:\n",
    "    fun = \"\"\"{} {} -r \"cd(fullfile('{}')), {}{}, exit\" \"\"\".format(program, options, folder, script, args)\n",
    "print('command:', fun)\n",
    "\n",
    "#Run MATLAB:\n",
    "print('running MATLAB script...')\n",
    "p = sp.Popen(fun)                     #open the subprocess & run the MATLAB script \n",
    "p.wait()                              #wait until MATLAB is done before proceeding (this needs to be paired with -wait in options?)\n",
    "print('done')                         #if the run is successful, an output file names a.mat should appear in the folder with the MATLAB scripts"
   ]
  },
  {
   "cell_type": "code",
   "execution_count": null,
   "metadata": {},
   "outputs": [],
   "source": []
  }
 ],
 "metadata": {
  "kernelspec": {
   "display_name": "Python 3",
   "language": "python",
   "name": "python3"
  },
  "language_info": {
   "codemirror_mode": {
    "name": "ipython",
    "version": 3
   },
   "file_extension": ".py",
   "mimetype": "text/x-python",
   "name": "python",
   "nbconvert_exporter": "python",
   "pygments_lexer": "ipython3",
   "version": "3.6.2"
  }
 },
 "nbformat": 4,
 "nbformat_minor": 2
}
