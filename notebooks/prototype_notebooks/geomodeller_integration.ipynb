{
 "cells": [
  {
   "cell_type": "code",
   "execution_count": 1,
   "metadata": {},
   "outputs": [],
   "source": [
    "import sys, os\n",
    "sys.path.append(\"../..\")\n",
    "\n",
    "# import gempy\n",
    "import gempy as gp\n",
    "\n",
    "# inline figures in jupyter notebooks\n",
    "import matplotlib.pyplot as plt\n",
    "%matplotlib inline\n",
    "\n",
    "import numpy as np\n",
    "import pandas as pn\n",
    "from importlib import reload"
   ]
  },
  {
   "cell_type": "code",
   "execution_count": 2,
   "metadata": {
    "collapsed": true
   },
   "outputs": [],
   "source": [
    "import gempy.utils.geomodeller_integration as gi"
   ]
  },
  {
   "cell_type": "code",
   "execution_count": 3,
   "metadata": {},
   "outputs": [
    {
     "data": {
      "text/plain": [
       "<module 'gempy.utils.geomodeller_integration' from '../..\\\\gempy\\\\utils\\\\geomodeller_integration.py'>"
      ]
     },
     "execution_count": 3,
     "metadata": {},
     "output_type": "execute_result"
    }
   ],
   "source": [
    "gi"
   ]
  },
  {
   "cell_type": "code",
   "execution_count": 4,
   "metadata": {},
   "outputs": [],
   "source": [
    "geoM = gi.GeomodellerClass()"
   ]
  },
  {
   "cell_type": "code",
   "execution_count": 5,
   "metadata": {},
   "outputs": [],
   "source": [
    "geoM.load_geomodeller_file('../../test/GeoModeller/test_d/test_d.xml')"
   ]
  },
  {
   "cell_type": "code",
   "execution_count": 6,
   "metadata": {},
   "outputs": [
    {
     "data": {
      "text/plain": [
       "[<Element '{http://www.geomodeller.com/geo}Section' at 0x0000017568B94868>,\n",
       " <Element '{http://www.geomodeller.com/geo}Section' at 0x0000017568B9F188>]"
      ]
     },
     "execution_count": 6,
     "metadata": {},
     "output_type": "execute_result"
    }
   ],
   "source": [
    "geoM.get_sections()"
   ]
  },
  {
   "cell_type": "code",
   "execution_count": 7,
   "metadata": {},
   "outputs": [
    {
     "data": {
      "text/plain": [
       "[<Element '{http://www.geomodeller.com/geo}Fault' at 0x0000017568B94638>]"
      ]
     },
     "execution_count": 7,
     "metadata": {},
     "output_type": "execute_result"
    }
   ],
   "source": [
    "geoM.get_faults()"
   ]
  },
  {
   "cell_type": "code",
   "execution_count": 8,
   "metadata": {},
   "outputs": [
    {
     "data": {
      "text/plain": [
       "'f1'"
      ]
     },
     "execution_count": 8,
     "metadata": {},
     "output_type": "execute_result"
    }
   ],
   "source": [
    "geoM.faults[0].get(\"Name\")"
   ]
  },
  {
   "cell_type": "code",
   "execution_count": 9,
   "metadata": {
    "collapsed": true
   },
   "outputs": [],
   "source": [
    "geoM.get_formations()"
   ]
  },
  {
   "cell_type": "code",
   "execution_count": 10,
   "metadata": {},
   "outputs": [
    {
     "data": {
      "text/plain": [
       "[<Element '{http://www.geomodeller.com/geo}Formation' at 0x0000017568B789F8>,\n",
       " <Element '{http://www.geomodeller.com/geo}Formation' at 0x0000017568B8C3B8>]"
      ]
     },
     "execution_count": 10,
     "metadata": {},
     "output_type": "execute_result"
    }
   ],
   "source": [
    "geoM.formations"
   ]
  },
  {
   "cell_type": "code",
   "execution_count": 11,
   "metadata": {},
   "outputs": [
    {
     "data": {
      "text/plain": [
       "['A', 'B']"
      ]
     },
     "execution_count": 11,
     "metadata": {},
     "output_type": "execute_result"
    }
   ],
   "source": [
    "geoM.get_formation_names()"
   ]
  },
  {
   "cell_type": "code",
   "execution_count": 12,
   "metadata": {},
   "outputs": [
    {
     "data": {
      "text/plain": [
       "<bound method GeomodellerClass.get_fault_names of <gempy.utils.geomodeller_integration.GeomodellerClass object at 0x0000017568A23B70>>"
      ]
     },
     "execution_count": 12,
     "metadata": {},
     "output_type": "execute_result"
    }
   ],
   "source": [
    "geoM.get_fault_names"
   ]
  },
  {
   "cell_type": "code",
   "execution_count": 13,
   "metadata": {},
   "outputs": [
    {
     "data": {
      "text/plain": [
       "['B', 'A']"
      ]
     },
     "execution_count": 13,
     "metadata": {},
     "output_type": "execute_result"
    }
   ],
   "source": [
    "geoM.get_stratigraphy_list()"
   ]
  },
  {
   "cell_type": "code",
   "execution_count": 14,
   "metadata": {},
   "outputs": [
    {
     "ename": "AttributeError",
     "evalue": "'GeomodellerClass' object has no attribute 'get_fault_parameters'",
     "output_type": "error",
     "traceback": [
      "\u001b[1;31m---------------------------------------------------------------------------\u001b[0m",
      "\u001b[1;31mAttributeError\u001b[0m                            Traceback (most recent call last)",
      "\u001b[1;32m<ipython-input-14-6506f7146087>\u001b[0m in \u001b[0;36m<module>\u001b[1;34m()\u001b[0m\n\u001b[1;32m----> 1\u001b[1;33m \u001b[0mgeoM\u001b[0m\u001b[1;33m.\u001b[0m\u001b[0mget_fault_parameters\u001b[0m\u001b[1;33m(\u001b[0m\u001b[1;33m)\u001b[0m\u001b[1;33m\u001b[0m\u001b[0m\n\u001b[0m",
      "\u001b[1;31mAttributeError\u001b[0m: 'GeomodellerClass' object has no attribute 'get_fault_parameters'"
     ]
    }
   ],
   "source": [
    "geoM.get_fault_parameters()"
   ]
  },
  {
   "cell_type": "code",
   "execution_count": 15,
   "metadata": {},
   "outputs": [
    {
     "data": {
      "text/plain": [
       "{'A': <Element '{http://www.geomodeller.com/geo}Formation' at 0x0000017568B789F8>,\n",
       " 'B': <Element '{http://www.geomodeller.com/geo}Formation' at 0x0000017568B8C3B8>}"
      ]
     },
     "execution_count": 15,
     "metadata": {},
     "output_type": "execute_result"
    }
   ],
   "source": [
    "geoM.create_formation_dict()"
   ]
  },
  {
   "cell_type": "code",
   "execution_count": 22,
   "metadata": {},
   "outputs": [
    {
     "data": {
      "text/plain": [
       "{'f1': <Element '{http://www.geomodeller.com/geo}Fault' at 0x7fa938261818>}"
      ]
     },
     "execution_count": 22,
     "metadata": {},
     "output_type": "execute_result"
    }
   ],
   "source": [
    "geoM.create_fault_dict()"
   ]
  },
  {
   "cell_type": "code",
   "execution_count": 6,
   "metadata": {
    "collapsed": true
   },
   "outputs": [
    {
     "data": {
      "text/plain": [
       "(0.0, 10.0, 0.0, 10.0, -10.0, 0.0)"
      ]
     },
     "execution_count": 6,
     "metadata": {},
     "output_type": "execute_result"
    }
   ],
   "source": [
    "geoM.get_model_extent()"
   ]
  },
  {
   "cell_type": "code",
   "execution_count": 31,
   "metadata": {},
   "outputs": [
    {
     "data": {
      "text/plain": [
       "'-10.0'"
      ]
     },
     "execution_count": 31,
     "metadata": {},
     "output_type": "execute_result"
    }
   ],
   "source": [
    "geoM.rootelement.find(\"{\"+geoM.xmlns+\"}GeologicalModel\").find(\"{\"+geoM.xmlns+\"}Extent3D\").find(\"{\"+geoM.xmlns+\"}ExtentZ\").get(\"Zmin\")"
   ]
  },
  {
   "cell_type": "code",
   "execution_count": 33,
   "metadata": {},
   "outputs": [],
   "source": [
    "stc =geoM.rootelement.find(\"{\"+geoM.xmlns+\"}GeologicalModel\").find(\"{\"+geoM.xmlns+\"}ProjectStratigraphicColumn\")"
   ]
  },
  {
   "cell_type": "code",
   "execution_count": 35,
   "metadata": {},
   "outputs": [],
   "source": [
    "stc.find(\"{\"+geoM.gml+\"}coord\")"
   ]
  },
  {
   "cell_type": "code",
   "execution_count": 40,
   "metadata": {},
   "outputs": [],
   "source": [
    "inter = stc.find(\"{\"+geoM.xmlns+\"}Series\").find(\"{\"+geoM.xmlns+\"}PotentialField\").find(\"{\"+geoM.xmlns+\"}Points\")"
   ]
  },
  {
   "cell_type": "code",
   "execution_count": 53,
   "metadata": {},
   "outputs": [],
   "source": [
    "p = inter.find(\"{\"+geoM.gml+\"}coord\").findtext(\"{\"+geoM.gml+\"}X\")"
   ]
  },
  {
   "cell_type": "code",
   "execution_count": 49,
   "metadata": {},
   "outputs": [
    {
     "data": {
      "text/plain": [
       "'2.0477319587628866059958454570733010768890380859375'"
      ]
     },
     "execution_count": 49,
     "metadata": {},
     "output_type": "execute_result"
    }
   ],
   "source": [
    "p.text"
   ]
  },
  {
   "cell_type": "code",
   "execution_count": 51,
   "metadata": {},
   "outputs": [
    {
     "data": {
      "text/plain": [
       "'2.0477319587628866059958454570733010768890380859375'"
      ]
     },
     "execution_count": 51,
     "metadata": {},
     "output_type": "execute_result"
    }
   ],
   "source": [
    "p"
   ]
  },
  {
   "cell_type": "markdown",
   "metadata": {},
   "source": [
    "---\n",
    "\n",
    "# ReadGeoModellerXML class"
   ]
  },
  {
   "cell_type": "code",
   "execution_count": 3,
   "metadata": {},
   "outputs": [],
   "source": [
    "reload(gp.utils.geomodeller_integration);\n",
    "gmx = gp.utils.geomodeller_integration.ReadGeoModellerXML('../../test/GeoModeller/test_d/test_d.xml')"
   ]
  },
  {
   "cell_type": "markdown",
   "metadata": {},
   "source": [
    "The **ElementTree** root of the read-in xml file is accessible via:"
   ]
  },
  {
   "cell_type": "code",
   "execution_count": 231,
   "metadata": {},
   "outputs": [
    {
     "data": {
      "text/plain": [
       "<Element '{http://www.geomodeller.com/geo}Project3DEdit' at 0x000002067548E048>"
      ]
     },
     "execution_count": 231,
     "metadata": {},
     "output_type": "execute_result"
    }
   ],
   "source": [
    "gmx.root"
   ]
  },
  {
   "cell_type": "markdown",
   "metadata": {},
   "source": [
    "**Interfaces** dataframe:"
   ]
  },
  {
   "cell_type": "code",
   "execution_count": 10,
   "metadata": {},
   "outputs": [
    {
     "data": {
      "text/html": [
       "<div>\n",
       "<style>\n",
       "    .dataframe thead tr:only-child th {\n",
       "        text-align: right;\n",
       "    }\n",
       "\n",
       "    .dataframe thead th {\n",
       "        text-align: left;\n",
       "    }\n",
       "\n",
       "    .dataframe tbody tr th {\n",
       "        vertical-align: top;\n",
       "    }\n",
       "</style>\n",
       "<table border=\"1\" class=\"dataframe\">\n",
       "  <thead>\n",
       "    <tr style=\"text-align: right;\">\n",
       "      <th></th>\n",
       "      <th>X</th>\n",
       "      <th>Y</th>\n",
       "      <th>Z</th>\n",
       "      <th>formation</th>\n",
       "      <th>series</th>\n",
       "    </tr>\n",
       "  </thead>\n",
       "  <tbody>\n",
       "    <tr>\n",
       "      <th>11306</th>\n",
       "      <td>328362.0</td>\n",
       "      <td>6758890.0</td>\n",
       "      <td>0.0</td>\n",
       "      <td>Fault_Transverse_03</td>\n",
       "      <td>Fault_Transverse_03</td>\n",
       "    </tr>\n",
       "    <tr>\n",
       "      <th>11307</th>\n",
       "      <td>337144.0</td>\n",
       "      <td>6751190.0</td>\n",
       "      <td>0.0</td>\n",
       "      <td>Fault_Transverse_03</td>\n",
       "      <td>Fault_Transverse_03</td>\n",
       "    </tr>\n",
       "    <tr>\n",
       "      <th>11308</th>\n",
       "      <td>347951.0</td>\n",
       "      <td>6741460.0</td>\n",
       "      <td>0.0</td>\n",
       "      <td>Fault_Transverse_03</td>\n",
       "      <td>Fault_Transverse_03</td>\n",
       "    </tr>\n",
       "    <tr>\n",
       "      <th>11309</th>\n",
       "      <td>359483.0</td>\n",
       "      <td>6730450.0</td>\n",
       "      <td>0.0</td>\n",
       "      <td>Fault_Transverse_03</td>\n",
       "      <td>Fault_Transverse_03</td>\n",
       "    </tr>\n",
       "    <tr>\n",
       "      <th>11310</th>\n",
       "      <td>364864.0</td>\n",
       "      <td>6725480.0</td>\n",
       "      <td>0.0</td>\n",
       "      <td>Fault_Transverse_03</td>\n",
       "      <td>Fault_Transverse_03</td>\n",
       "    </tr>\n",
       "  </tbody>\n",
       "</table>\n",
       "</div>"
      ],
      "text/plain": [
       "              X          Y    Z            formation               series\n",
       "11306  328362.0  6758890.0  0.0  Fault_Transverse_03  Fault_Transverse_03\n",
       "11307  337144.0  6751190.0  0.0  Fault_Transverse_03  Fault_Transverse_03\n",
       "11308  347951.0  6741460.0  0.0  Fault_Transverse_03  Fault_Transverse_03\n",
       "11309  359483.0  6730450.0  0.0  Fault_Transverse_03  Fault_Transverse_03\n",
       "11310  364864.0  6725480.0  0.0  Fault_Transverse_03  Fault_Transverse_03"
      ]
     },
     "execution_count": 10,
     "metadata": {},
     "output_type": "execute_result"
    }
   ],
   "source": [
    "gmx.get_interfaces_df().tail()"
   ]
  },
  {
   "cell_type": "markdown",
   "metadata": {},
   "source": [
    "**Orientations** dataframe:"
   ]
  },
  {
   "cell_type": "code",
   "execution_count": 18,
   "metadata": {},
   "outputs": [
    {
     "data": {
      "text/html": [
       "<div>\n",
       "<style>\n",
       "    .dataframe thead tr:only-child th {\n",
       "        text-align: right;\n",
       "    }\n",
       "\n",
       "    .dataframe thead th {\n",
       "        text-align: left;\n",
       "    }\n",
       "\n",
       "    .dataframe tbody tr th {\n",
       "        vertical-align: top;\n",
       "    }\n",
       "</style>\n",
       "<table border=\"1\" class=\"dataframe\">\n",
       "  <thead>\n",
       "    <tr style=\"text-align: right;\">\n",
       "      <th></th>\n",
       "      <th>X</th>\n",
       "      <th>Y</th>\n",
       "      <th>Z</th>\n",
       "      <th>dip</th>\n",
       "      <th>azimuth</th>\n",
       "      <th>polarity</th>\n",
       "      <th>formation</th>\n",
       "      <th>series</th>\n",
       "    </tr>\n",
       "  </thead>\n",
       "  <tbody>\n",
       "    <tr>\n",
       "      <th>100</th>\n",
       "      <td>354192.0742</td>\n",
       "      <td>6804450.074</td>\n",
       "      <td>-30735.74609</td>\n",
       "      <td>3.56591</td>\n",
       "      <td>228.5130</td>\n",
       "      <td>1</td>\n",
       "      <td>Moho</td>\n",
       "      <td>Moho_Serie</td>\n",
       "    </tr>\n",
       "    <tr>\n",
       "      <th>101</th>\n",
       "      <td>289338.0957</td>\n",
       "      <td>6598540.672</td>\n",
       "      <td>-10028.23730</td>\n",
       "      <td>13.75430</td>\n",
       "      <td>51.8948</td>\n",
       "      <td>1</td>\n",
       "      <td>Lower_crust</td>\n",
       "      <td>Lower_crust_Serie</td>\n",
       "    </tr>\n",
       "    <tr>\n",
       "      <th>102</th>\n",
       "      <td>398679.2813</td>\n",
       "      <td>6629800.047</td>\n",
       "      <td>-15358.76563</td>\n",
       "      <td>1.27821</td>\n",
       "      <td>156.4510</td>\n",
       "      <td>1</td>\n",
       "      <td>Lower_crust</td>\n",
       "      <td>Lower_crust_Serie</td>\n",
       "    </tr>\n",
       "    <tr>\n",
       "      <th>103</th>\n",
       "      <td>307179.2813</td>\n",
       "      <td>6736300.070</td>\n",
       "      <td>-14392.41309</td>\n",
       "      <td>3.72760</td>\n",
       "      <td>62.6046</td>\n",
       "      <td>1</td>\n",
       "      <td>Lower_crust</td>\n",
       "      <td>Lower_crust_Serie</td>\n",
       "    </tr>\n",
       "    <tr>\n",
       "      <th>104</th>\n",
       "      <td>354192.0742</td>\n",
       "      <td>6804450.074</td>\n",
       "      <td>-14920.71973</td>\n",
       "      <td>0.18586</td>\n",
       "      <td>289.6310</td>\n",
       "      <td>1</td>\n",
       "      <td>Lower_crust</td>\n",
       "      <td>Lower_crust_Serie</td>\n",
       "    </tr>\n",
       "  </tbody>\n",
       "</table>\n",
       "</div>"
      ],
      "text/plain": [
       "               X            Y            Z       dip   azimuth  polarity  \\\n",
       "100  354192.0742  6804450.074 -30735.74609   3.56591  228.5130         1   \n",
       "101  289338.0957  6598540.672 -10028.23730  13.75430   51.8948         1   \n",
       "102  398679.2813  6629800.047 -15358.76563   1.27821  156.4510         1   \n",
       "103  307179.2813  6736300.070 -14392.41309   3.72760   62.6046         1   \n",
       "104  354192.0742  6804450.074 -14920.71973   0.18586  289.6310         1   \n",
       "\n",
       "       formation             series  \n",
       "100         Moho         Moho_Serie  \n",
       "101  Lower_crust  Lower_crust_Serie  \n",
       "102  Lower_crust  Lower_crust_Serie  \n",
       "103  Lower_crust  Lower_crust_Serie  \n",
       "104  Lower_crust  Lower_crust_Serie  "
      ]
     },
     "execution_count": 18,
     "metadata": {},
     "output_type": "execute_result"
    }
   ],
   "source": [
    "gmx.get_orientation_df().tail()"
   ]
  },
  {
   "cell_type": "markdown",
   "metadata": {},
   "source": [
    "**Extent**:"
   ]
  },
  {
   "cell_type": "code",
   "execution_count": 224,
   "metadata": {},
   "outputs": [
    {
     "data": {
      "text/plain": [
       "(259000.0, 415000.0, 6568000.0, 6848000.0, -45000.0, 500.0)"
      ]
     },
     "execution_count": 224,
     "metadata": {},
     "output_type": "execute_result"
    }
   ],
   "source": [
    "gmx.extent"
   ]
  },
  {
   "cell_type": "markdown",
   "metadata": {},
   "source": [
    "The **stratigraphic column** as found in the xml (ordered from old to young):"
   ]
  },
  {
   "cell_type": "code",
   "execution_count": 225,
   "metadata": {},
   "outputs": [
    {
     "data": {
      "text/plain": [
       "('Moho_Serie',\n",
       " 'Lower_crust_Serie',\n",
       " 'Yigarn_Series',\n",
       " 'Precambrian',\n",
       " 'Permian',\n",
       " 'Triassic-Jurassic',\n",
       " 'Neocomian_Unconformity',\n",
       " 'Topo_and_bathy_Series',\n",
       " 'Sea_level_Series')"
      ]
     },
     "execution_count": 225,
     "metadata": {},
     "output_type": "execute_result"
    }
   ],
   "source": [
    "gmx.strat_column"
   ]
  },
  {
   "cell_type": "markdown",
   "metadata": {},
   "source": [
    "**Faults** ordered as found in the xml:"
   ]
  },
  {
   "cell_type": "code",
   "execution_count": 226,
   "metadata": {},
   "outputs": [
    {
     "data": {
      "text/plain": [
       "('Fault_01',\n",
       " 'Fault_02_Beagle',\n",
       " 'Fault_03_Wedge',\n",
       " 'Fault_04',\n",
       " 'Fault_05',\n",
       " 'Fault_06_Peron',\n",
       " 'Fault_08_Coomallo',\n",
       " 'Fault_09',\n",
       " 'Fault_10_Eneabba',\n",
       " 'Fault_11',\n",
       " 'Fault_12_Urella',\n",
       " 'Fault_13_Darling',\n",
       " 'Fault_14_Peron',\n",
       " 'Fault_Transverse_01',\n",
       " 'Fault_Transverse_02_Abrolhos',\n",
       " 'Fault_Transverse_03')"
      ]
     },
     "execution_count": 226,
     "metadata": {},
     "output_type": "execute_result"
    }
   ],
   "source": [
    "gmx.faults"
   ]
  },
  {
   "cell_type": "markdown",
   "metadata": {},
   "source": [
    "Which formations belongs to which series encoded in a dictionary:"
   ]
  },
  {
   "cell_type": "code",
   "execution_count": 290,
   "metadata": {},
   "outputs": [
    {
     "data": {
      "text/plain": [
       "{'Lower_crust_Serie': 'Lower_crust',\n",
       " 'Moho_Serie': 'Moho',\n",
       " 'Neocomian_Unconformity': 'Neocomian_Unc',\n",
       " 'Permian': 'Late_Permian',\n",
       " 'Precambrian': 'Basement',\n",
       " 'Sea_level_Series': 'Sea_level',\n",
       " 'Topo_and_bathy_Series': 'Topo_and_bathy',\n",
       " 'Triassic-Jurassic': ('Kockatea_Shale',\n",
       "  'Woodada_Fm',\n",
       "  'Lesueur_Ss',\n",
       "  'Eneabba_Fm',\n",
       "  'Cattamarra_Coal_Measures',\n",
       "  'Yarragadee_Fm'),\n",
       " 'Yigarn_Series': 'Yigarn'}"
      ]
     },
     "execution_count": 290,
     "metadata": {},
     "output_type": "execute_result"
    }
   ],
   "source": [
    "gmx.series_distribution"
   ]
  },
  {
   "cell_type": "markdown",
   "metadata": {},
   "source": [
    "Getting the **fault matrix**, where **1** means the fault stops at the other fault:"
   ]
  },
  {
   "cell_type": "code",
   "execution_count": 292,
   "metadata": {},
   "outputs": [
    {
     "name": "stdout",
     "output_type": "stream",
     "text": [
      "[[ 0.  0.  0.  0.  0.  0.  0.  0.  0.  0.  0.  0.  0.  1.  1.  0.]\n",
      " [ 1.  0.  0.  0.  0.  0.  0.  0.  0.  0.  0.  0.  0.  1.  0.  0.]\n",
      " [ 0.  0.  0.  0.  0.  0.  0.  0.  0.  0.  0.  0.  0.  1.  1.  0.]\n",
      " [ 0.  0.  0.  0.  0.  0.  0.  0.  0.  0.  0.  0.  0.  0.  1.  1.]\n",
      " [ 0.  0.  0.  0.  0.  0.  0.  0.  0.  0.  0.  0.  0.  0.  0.  1.]\n",
      " [ 0.  0.  1.  0.  0.  0.  0.  0.  0.  0.  0.  0.  0.  0.  1.  0.]\n",
      " [ 0.  0.  0.  0.  0.  0.  0.  0.  0.  0.  0.  0.  0.  0.  1.  0.]\n",
      " [ 0.  0.  0.  0.  0.  0.  0.  0.  0.  0.  0.  0.  0.  0.  1.  1.]\n",
      " [ 0.  0.  0.  0.  0.  0.  1.  0.  0.  0.  0.  0.  0.  0.  1.  0.]\n",
      " [ 0.  0.  0.  0.  0.  0.  0.  0.  0.  0.  0.  0.  0.  0.  1.  1.]\n",
      " [ 0.  0.  0.  0.  0.  0.  0.  0.  0.  0.  0.  0.  0.  0.  0.  0.]\n",
      " [ 0.  0.  0.  0.  0.  0.  0.  0.  0.  0.  0.  0.  0.  0.  0.  0.]\n",
      " [ 0.  0.  0.  0.  0.  0.  0.  0.  0.  0.  0.  0.  0.  0.  1.  1.]\n",
      " [ 0.  0.  0.  0.  0.  0.  0.  0.  0.  0.  0.  0.  0.  0.  0.  0.]\n",
      " [ 0.  0.  0.  0.  0.  0.  0.  0.  0.  0.  0.  1.  0.  0.  0.  0.]\n",
      " [ 0.  0.  0.  0.  0.  0.  0.  0.  0.  0.  1.  0.  0.  0.  0.  0.]]\n"
     ]
    }
   ],
   "source": [
    "print(gmx.get_fault_matrix())"
   ]
  },
  {
   "cell_type": "code",
   "execution_count": 309,
   "metadata": {},
   "outputs": [
    {
     "data": {
      "text/plain": [
       "['Moho',\n",
       " 'Lower_crust',\n",
       " 'Yigarn',\n",
       " 'Basement',\n",
       " 'Late_Permian',\n",
       " 'Kockatea_Shale',\n",
       " 'Woodada_Fm',\n",
       " 'Lesueur_Ss',\n",
       " 'Eneabba_Fm',\n",
       " 'Cattamarra_Coal_Measures',\n",
       " 'Yarragadee_Fm',\n",
       " 'Neocomian_Unc',\n",
       " 'Topo_and_bathy',\n",
       " 'Sea_level']"
      ]
     },
     "execution_count": 309,
     "metadata": {},
     "output_type": "execute_result"
    }
   ],
   "source": [
    "gmx.get_order_formations()"
   ]
  },
  {
   "cell_type": "markdown",
   "metadata": {},
   "source": [
    "## Dev"
   ]
  },
  {
   "cell_type": "code",
   "execution_count": 4,
   "metadata": {},
   "outputs": [
    {
     "data": {
      "text/plain": [
       "['Moho',\n",
       " 'Lower_crust',\n",
       " 'Yigarn',\n",
       " 'Basement',\n",
       " 'Late_Permian',\n",
       " 'Kockatea_Shale',\n",
       " 'Woodada_Fm',\n",
       " 'Lesueur_Ss',\n",
       " 'Eneabba_Fm',\n",
       " 'Cattamarra_Coal_Measures',\n",
       " 'Yarragadee_Fm',\n",
       " 'Neocomian_Unc',\n",
       " 'Topo_and_bathy',\n",
       " 'Sea_level']"
      ]
     },
     "execution_count": 4,
     "metadata": {},
     "output_type": "execute_result"
    }
   ],
   "source": [
    "gmx.get_order_formations()"
   ]
  },
  {
   "cell_type": "code",
   "execution_count": 21,
   "metadata": {},
   "outputs": [
    {
     "data": {
      "text/plain": [
       "('Moho_Serie',\n",
       " 'Lower_crust_Serie',\n",
       " 'Yigarn_Series',\n",
       " 'Precambrian',\n",
       " 'Permian',\n",
       " 'Triassic-Jurassic',\n",
       " 'Neocomian_Unconformity',\n",
       " 'Topo_and_bathy_Series',\n",
       " 'Sea_level_Series')"
      ]
     },
     "execution_count": 21,
     "metadata": {},
     "output_type": "execute_result"
    }
   ],
   "source": [
    "gmx.strat_column"
   ]
  },
  {
   "cell_type": "code",
   "execution_count": 21,
   "metadata": {},
   "outputs": [
    {
     "data": {
      "text/plain": [
       "{'Fault_01': 'Fault_01',\n",
       " 'Fault_02_Beagle': 'Fault_02_Beagle',\n",
       " 'Fault_03_Wedge': 'Fault_03_Wedge',\n",
       " 'Fault_04': 'Fault_04',\n",
       " 'Fault_05': 'Fault_05',\n",
       " 'Fault_06_Peron': 'Fault_06_Peron',\n",
       " 'Fault_08_Coomallo': 'Fault_08_Coomallo',\n",
       " 'Fault_09': 'Fault_09',\n",
       " 'Fault_10_Eneabba': 'Fault_10_Eneabba',\n",
       " 'Fault_11': 'Fault_11',\n",
       " 'Fault_12_Urella': 'Fault_12_Urella',\n",
       " 'Fault_13_Darling': 'Fault_13_Darling',\n",
       " 'Fault_14_Peron': 'Fault_14_Peron',\n",
       " 'Fault_Transverse_01': 'Fault_Transverse_01',\n",
       " 'Fault_Transverse_02_Abrolhos': 'Fault_Transverse_02_Abrolhos',\n",
       " 'Fault_Transverse_03': 'Fault_Transverse_03',\n",
       " 'Lower_crust_Serie': 'Lower_crust',\n",
       " 'Moho_Serie': 'Moho',\n",
       " 'Neocomian_Unconformity': 'Neocomian_Unc',\n",
       " 'Permian': 'Late_Permian',\n",
       " 'Precambrian': 'Basement',\n",
       " 'Sea_level_Series': 'Sea_level',\n",
       " 'Topo_and_bathy_Series': 'Topo_and_bathy',\n",
       " 'Triassic-Jurassic': ('Kockatea_Shale',\n",
       "  'Woodada_Fm',\n",
       "  'Lesueur_Ss',\n",
       "  'Eneabba_Fm',\n",
       "  'Cattamarra_Coal_Measures',\n",
       "  'Yarragadee_Fm'),\n",
       " 'Yigarn_Series': 'Yigarn'}"
      ]
     },
     "execution_count": 21,
     "metadata": {},
     "output_type": "execute_result"
    }
   ],
   "source": [
    "gmx.series_distribution"
   ]
  },
  {
   "cell_type": "code",
   "execution_count": 19,
   "metadata": {},
   "outputs": [
    {
     "data": {
      "text/plain": [
       "array(['Basement', 'Cattamarra_Coal_Measures', 'Early_Permian',\n",
       "       'Eneabba_Fm', 'Fault_01', 'Fault_02_Beagle', 'Fault_03_Wedge',\n",
       "       'Fault_04', 'Fault_05', 'Fault_06_Peron', 'Fault_08_Coomallo',\n",
       "       'Fault_09', 'Fault_10_Eneabba', 'Fault_11', 'Fault_12_Urella',\n",
       "       'Fault_13_Darling', 'Fault_14_Peron', 'Fault_Transverse_01',\n",
       "       'Fault_Transverse_02_Abrolhos', 'Fault_Transverse_03',\n",
       "       'Kockatea_Shale', 'Late_Permian', 'Lesueur_Ss', 'Lower_crust',\n",
       "       'Moho', 'Neocomian_Unc', 'Sea_level_Series', 'Topo_and_bathy',\n",
       "       'Woodada_Fm', 'Yarragadee_Fm'], dtype=object)"
      ]
     },
     "execution_count": 19,
     "metadata": {},
     "output_type": "execute_result"
    }
   ],
   "source": [
    "np.unique(gmx.get_interfaces_df()[\"series\"])"
   ]
  },
  {
   "cell_type": "code",
   "execution_count": 7,
   "metadata": {},
   "outputs": [
    {
     "data": {
      "text/plain": [
       "['Fault_Transverse_03',\n",
       " 'Fault_Transverse_02_Abrolhos',\n",
       " 'Fault_Transverse_01',\n",
       " 'Fault_14_Peron',\n",
       " 'Fault_13_Darling',\n",
       " 'Fault_12_Urella',\n",
       " 'Fault_11',\n",
       " 'Fault_10_Eneabba',\n",
       " 'Fault_09',\n",
       " 'Fault_08_Coomallo',\n",
       " 'Fault_06_Peron',\n",
       " 'Fault_05',\n",
       " 'Fault_04',\n",
       " 'Fault_03_Wedge',\n",
       " 'Fault_02_Beagle',\n",
       " 'Fault_01',\n",
       " 'Sea_level',\n",
       " 'Topo_and_bathy',\n",
       " 'Neocomian_Unc',\n",
       " 'Yarragadee_Fm',\n",
       " 'Cattamarra_Coal_Measures',\n",
       " 'Eneabba_Fm',\n",
       " 'Lesueur_Ss',\n",
       " 'Woodada_Fm',\n",
       " 'Kockatea_Shale',\n",
       " 'Late_Permian',\n",
       " 'Basement',\n",
       " 'Yigarn',\n",
       " 'Lower_crust',\n",
       " 'Moho']"
      ]
     },
     "execution_count": 7,
     "metadata": {},
     "output_type": "execute_result"
    }
   ],
   "source": [
    "gmx.get_order_formations()[::-1]"
   ]
  },
  {
   "cell_type": "code",
   "execution_count": 3,
   "metadata": {},
   "outputs": [
    {
     "name": "stdout",
     "output_type": "stream",
     "text": [
      "Some of the formations given are not in the formations data frame. Therefore, you have to set the seriesorder manually.\n"
     ]
    }
   ],
   "source": [
    "geo_data, gmx = gp.create_from_geomodeller_xml('NorthPerthBasin_rev.xml')"
   ]
  },
  {
   "cell_type": "code",
   "execution_count": null,
   "metadata": {},
   "outputs": [],
   "source": []
  },
  {
   "cell_type": "code",
   "execution_count": 4,
   "metadata": {},
   "outputs": [
    {
     "data": {
      "text/html": [
       "<div>\n",
       "<style>\n",
       "    .dataframe thead tr:only-child th {\n",
       "        text-align: right;\n",
       "    }\n",
       "\n",
       "    .dataframe thead th {\n",
       "        text-align: left;\n",
       "    }\n",
       "\n",
       "    .dataframe tbody tr th {\n",
       "        vertical-align: top;\n",
       "    }\n",
       "</style>\n",
       "<table border=\"1\" class=\"dataframe\">\n",
       "  <thead>\n",
       "    <tr style=\"text-align: right;\">\n",
       "      <th></th>\n",
       "      <th>X</th>\n",
       "      <th>Y</th>\n",
       "      <th>Z</th>\n",
       "      <th>formation</th>\n",
       "      <th>series</th>\n",
       "      <th>order_series</th>\n",
       "      <th>isFault</th>\n",
       "      <th>formation_number</th>\n",
       "      <th>annotations</th>\n",
       "    </tr>\n",
       "  </thead>\n",
       "  <tbody>\n",
       "    <tr>\n",
       "      <th>0</th>\n",
       "      <td>314436.000000</td>\n",
       "      <td>6.776860e+06</td>\n",
       "      <td>-1599.599976</td>\n",
       "      <td>Early_Permian</td>\n",
       "      <td>Fault_01</td>\n",
       "      <td>1</td>\n",
       "      <td>True</td>\n",
       "      <td>1</td>\n",
       "      <td>${\\bf{x}}_{\\alpha \\,{\\bf{1}},0}$</td>\n",
       "    </tr>\n",
       "    <tr>\n",
       "      <th>1</th>\n",
       "      <td>320291.356995</td>\n",
       "      <td>6.705086e+06</td>\n",
       "      <td>-2286.000000</td>\n",
       "      <td>Early_Permian</td>\n",
       "      <td>Fault_01</td>\n",
       "      <td>1</td>\n",
       "      <td>True</td>\n",
       "      <td>1</td>\n",
       "      <td>${\\bf{x}}_{\\alpha \\,{\\bf{1}},1}$</td>\n",
       "    </tr>\n",
       "    <tr>\n",
       "      <th>2</th>\n",
       "      <td>320434.908997</td>\n",
       "      <td>6.700750e+06</td>\n",
       "      <td>-2152.699951</td>\n",
       "      <td>Early_Permian</td>\n",
       "      <td>Fault_01</td>\n",
       "      <td>1</td>\n",
       "      <td>True</td>\n",
       "      <td>1</td>\n",
       "      <td>${\\bf{x}}_{\\alpha \\,{\\bf{1}},2}$</td>\n",
       "    </tr>\n",
       "    <tr>\n",
       "      <th>3</th>\n",
       "      <td>320434.908997</td>\n",
       "      <td>6.700750e+06</td>\n",
       "      <td>-2152.699951</td>\n",
       "      <td>Early_Permian</td>\n",
       "      <td>Fault_01</td>\n",
       "      <td>1</td>\n",
       "      <td>True</td>\n",
       "      <td>1</td>\n",
       "      <td>${\\bf{x}}_{\\alpha \\,{\\bf{1}},3}$</td>\n",
       "    </tr>\n",
       "    <tr>\n",
       "      <th>4</th>\n",
       "      <td>320993.307983</td>\n",
       "      <td>6.695083e+06</td>\n",
       "      <td>-2096.939941</td>\n",
       "      <td>Early_Permian</td>\n",
       "      <td>Fault_01</td>\n",
       "      <td>1</td>\n",
       "      <td>True</td>\n",
       "      <td>1</td>\n",
       "      <td>${\\bf{x}}_{\\alpha \\,{\\bf{1}},4}$</td>\n",
       "    </tr>\n",
       "    <tr>\n",
       "      <th>5</th>\n",
       "      <td>320993.307983</td>\n",
       "      <td>6.695083e+06</td>\n",
       "      <td>-2096.939941</td>\n",
       "      <td>Early_Permian</td>\n",
       "      <td>Fault_01</td>\n",
       "      <td>1</td>\n",
       "      <td>True</td>\n",
       "      <td>1</td>\n",
       "      <td>${\\bf{x}}_{\\alpha \\,{\\bf{1}},5}$</td>\n",
       "    </tr>\n",
       "    <tr>\n",
       "      <th>6</th>\n",
       "      <td>322452.725098</td>\n",
       "      <td>6.692796e+06</td>\n",
       "      <td>-2175.000000</td>\n",
       "      <td>Early_Permian</td>\n",
       "      <td>Fault_01</td>\n",
       "      <td>1</td>\n",
       "      <td>True</td>\n",
       "      <td>1</td>\n",
       "      <td>${\\bf{x}}_{\\alpha \\,{\\bf{1}},6}$</td>\n",
       "    </tr>\n",
       "    <tr>\n",
       "      <th>7</th>\n",
       "      <td>322452.725098</td>\n",
       "      <td>6.692796e+06</td>\n",
       "      <td>-2175.000000</td>\n",
       "      <td>Early_Permian</td>\n",
       "      <td>Fault_01</td>\n",
       "      <td>1</td>\n",
       "      <td>True</td>\n",
       "      <td>1</td>\n",
       "      <td>${\\bf{x}}_{\\alpha \\,{\\bf{1}},7}$</td>\n",
       "    </tr>\n",
       "    <tr>\n",
       "      <th>8</th>\n",
       "      <td>319356.780029</td>\n",
       "      <td>6.700196e+06</td>\n",
       "      <td>-2165.000000</td>\n",
       "      <td>Early_Permian</td>\n",
       "      <td>Fault_01</td>\n",
       "      <td>1</td>\n",
       "      <td>True</td>\n",
       "      <td>1</td>\n",
       "      <td>${\\bf{x}}_{\\alpha \\,{\\bf{1}},8}$</td>\n",
       "    </tr>\n",
       "    <tr>\n",
       "      <th>9</th>\n",
       "      <td>319356.780029</td>\n",
       "      <td>6.700196e+06</td>\n",
       "      <td>-2165.000000</td>\n",
       "      <td>Early_Permian</td>\n",
       "      <td>Fault_01</td>\n",
       "      <td>1</td>\n",
       "      <td>True</td>\n",
       "      <td>1</td>\n",
       "      <td>${\\bf{x}}_{\\alpha \\,{\\bf{1}},9}$</td>\n",
       "    </tr>\n",
       "    <tr>\n",
       "      <th>10</th>\n",
       "      <td>320636.494019</td>\n",
       "      <td>6.698776e+06</td>\n",
       "      <td>-2081.000000</td>\n",
       "      <td>Early_Permian</td>\n",
       "      <td>Fault_01</td>\n",
       "      <td>1</td>\n",
       "      <td>True</td>\n",
       "      <td>1</td>\n",
       "      <td>${\\bf{x}}_{\\alpha \\,{\\bf{1}},10}$</td>\n",
       "    </tr>\n",
       "    <tr>\n",
       "      <th>11</th>\n",
       "      <td>320636.494019</td>\n",
       "      <td>6.698776e+06</td>\n",
       "      <td>-2081.000000</td>\n",
       "      <td>Early_Permian</td>\n",
       "      <td>Fault_01</td>\n",
       "      <td>1</td>\n",
       "      <td>True</td>\n",
       "      <td>1</td>\n",
       "      <td>${\\bf{x}}_{\\alpha \\,{\\bf{1}},11}$</td>\n",
       "    </tr>\n",
       "    <tr>\n",
       "      <th>12</th>\n",
       "      <td>319315.372986</td>\n",
       "      <td>6.698018e+06</td>\n",
       "      <td>-2127.899902</td>\n",
       "      <td>Early_Permian</td>\n",
       "      <td>Fault_01</td>\n",
       "      <td>1</td>\n",
       "      <td>True</td>\n",
       "      <td>1</td>\n",
       "      <td>${\\bf{x}}_{\\alpha \\,{\\bf{1}},12}$</td>\n",
       "    </tr>\n",
       "    <tr>\n",
       "      <th>13</th>\n",
       "      <td>319315.372986</td>\n",
       "      <td>6.698018e+06</td>\n",
       "      <td>-2127.899902</td>\n",
       "      <td>Early_Permian</td>\n",
       "      <td>Fault_01</td>\n",
       "      <td>1</td>\n",
       "      <td>True</td>\n",
       "      <td>1</td>\n",
       "      <td>${\\bf{x}}_{\\alpha \\,{\\bf{1}},13}$</td>\n",
       "    </tr>\n",
       "    <tr>\n",
       "      <th>14</th>\n",
       "      <td>320371.920990</td>\n",
       "      <td>6.698100e+06</td>\n",
       "      <td>-2111.760010</td>\n",
       "      <td>Early_Permian</td>\n",
       "      <td>Fault_01</td>\n",
       "      <td>1</td>\n",
       "      <td>True</td>\n",
       "      <td>1</td>\n",
       "      <td>${\\bf{x}}_{\\alpha \\,{\\bf{1}},14}$</td>\n",
       "    </tr>\n",
       "    <tr>\n",
       "      <th>15</th>\n",
       "      <td>320371.920990</td>\n",
       "      <td>6.698100e+06</td>\n",
       "      <td>-2111.760010</td>\n",
       "      <td>Early_Permian</td>\n",
       "      <td>Fault_01</td>\n",
       "      <td>1</td>\n",
       "      <td>True</td>\n",
       "      <td>1</td>\n",
       "      <td>${\\bf{x}}_{\\alpha \\,{\\bf{1}},15}$</td>\n",
       "    </tr>\n",
       "    <tr>\n",
       "      <th>16</th>\n",
       "      <td>320997.192017</td>\n",
       "      <td>6.699614e+06</td>\n",
       "      <td>-2105.530029</td>\n",
       "      <td>Early_Permian</td>\n",
       "      <td>Fault_01</td>\n",
       "      <td>1</td>\n",
       "      <td>True</td>\n",
       "      <td>1</td>\n",
       "      <td>${\\bf{x}}_{\\alpha \\,{\\bf{1}},16}$</td>\n",
       "    </tr>\n",
       "    <tr>\n",
       "      <th>17</th>\n",
       "      <td>320997.192017</td>\n",
       "      <td>6.699614e+06</td>\n",
       "      <td>-2105.530029</td>\n",
       "      <td>Early_Permian</td>\n",
       "      <td>Fault_01</td>\n",
       "      <td>1</td>\n",
       "      <td>True</td>\n",
       "      <td>1</td>\n",
       "      <td>${\\bf{x}}_{\\alpha \\,{\\bf{1}},17}$</td>\n",
       "    </tr>\n",
       "    <tr>\n",
       "      <th>18</th>\n",
       "      <td>320291.356995</td>\n",
       "      <td>6.705086e+06</td>\n",
       "      <td>-2286.000000</td>\n",
       "      <td>Early_Permian</td>\n",
       "      <td>Fault_01</td>\n",
       "      <td>1</td>\n",
       "      <td>True</td>\n",
       "      <td>1</td>\n",
       "      <td>${\\bf{x}}_{\\alpha \\,{\\bf{1}},18}$</td>\n",
       "    </tr>\n",
       "    <tr>\n",
       "      <th>19</th>\n",
       "      <td>310944.094727</td>\n",
       "      <td>6.765857e+06</td>\n",
       "      <td>-2312.060059</td>\n",
       "      <td>Early_Permian</td>\n",
       "      <td>Fault_01</td>\n",
       "      <td>1</td>\n",
       "      <td>True</td>\n",
       "      <td>1</td>\n",
       "      <td>${\\bf{x}}_{\\alpha \\,{\\bf{1}},19}$</td>\n",
       "    </tr>\n",
       "    <tr>\n",
       "      <th>20</th>\n",
       "      <td>320688.206970</td>\n",
       "      <td>6.698183e+06</td>\n",
       "      <td>-2072.100098</td>\n",
       "      <td>Early_Permian</td>\n",
       "      <td>Fault_01</td>\n",
       "      <td>1</td>\n",
       "      <td>True</td>\n",
       "      <td>1</td>\n",
       "      <td>${\\bf{x}}_{\\alpha \\,{\\bf{1}},20}$</td>\n",
       "    </tr>\n",
       "    <tr>\n",
       "      <th>21</th>\n",
       "      <td>321813.026978</td>\n",
       "      <td>6.707122e+06</td>\n",
       "      <td>-2450.120117</td>\n",
       "      <td>Early_Permian</td>\n",
       "      <td>Fault_01</td>\n",
       "      <td>1</td>\n",
       "      <td>True</td>\n",
       "      <td>1</td>\n",
       "      <td>${\\bf{x}}_{\\alpha \\,{\\bf{1}},21}$</td>\n",
       "    </tr>\n",
       "    <tr>\n",
       "      <th>22</th>\n",
       "      <td>313952.893066</td>\n",
       "      <td>6.675338e+06</td>\n",
       "      <td>-573.280029</td>\n",
       "      <td>Early_Permian</td>\n",
       "      <td>Fault_01</td>\n",
       "      <td>1</td>\n",
       "      <td>True</td>\n",
       "      <td>1</td>\n",
       "      <td>${\\bf{x}}_{\\alpha \\,{\\bf{1}},22}$</td>\n",
       "    </tr>\n",
       "    <tr>\n",
       "      <th>23</th>\n",
       "      <td>313952.893066</td>\n",
       "      <td>6.675338e+06</td>\n",
       "      <td>-573.280029</td>\n",
       "      <td>Early_Permian</td>\n",
       "      <td>Fault_01</td>\n",
       "      <td>1</td>\n",
       "      <td>True</td>\n",
       "      <td>1</td>\n",
       "      <td>${\\bf{x}}_{\\alpha \\,{\\bf{1}},23}$</td>\n",
       "    </tr>\n",
       "    <tr>\n",
       "      <th>24</th>\n",
       "      <td>309926.759766</td>\n",
       "      <td>6.729990e+06</td>\n",
       "      <td>-1419.500000</td>\n",
       "      <td>Early_Permian</td>\n",
       "      <td>Fault_01</td>\n",
       "      <td>1</td>\n",
       "      <td>True</td>\n",
       "      <td>1</td>\n",
       "      <td>${\\bf{x}}_{\\alpha \\,{\\bf{1}},24}$</td>\n",
       "    </tr>\n",
       "    <tr>\n",
       "      <th>25</th>\n",
       "      <td>309926.759766</td>\n",
       "      <td>6.729990e+06</td>\n",
       "      <td>-1419.500000</td>\n",
       "      <td>Early_Permian</td>\n",
       "      <td>Fault_01</td>\n",
       "      <td>1</td>\n",
       "      <td>True</td>\n",
       "      <td>1</td>\n",
       "      <td>${\\bf{x}}_{\\alpha \\,{\\bf{1}},25}$</td>\n",
       "    </tr>\n",
       "    <tr>\n",
       "      <th>26</th>\n",
       "      <td>317183.263916</td>\n",
       "      <td>6.780431e+06</td>\n",
       "      <td>-1439.099976</td>\n",
       "      <td>Early_Permian</td>\n",
       "      <td>Fault_01</td>\n",
       "      <td>1</td>\n",
       "      <td>True</td>\n",
       "      <td>1</td>\n",
       "      <td>${\\bf{x}}_{\\alpha \\,{\\bf{1}},26}$</td>\n",
       "    </tr>\n",
       "    <tr>\n",
       "      <th>27</th>\n",
       "      <td>317183.263916</td>\n",
       "      <td>6.780431e+06</td>\n",
       "      <td>-1439.099976</td>\n",
       "      <td>Early_Permian</td>\n",
       "      <td>Fault_01</td>\n",
       "      <td>1</td>\n",
       "      <td>True</td>\n",
       "      <td>1</td>\n",
       "      <td>${\\bf{x}}_{\\alpha \\,{\\bf{1}},27}$</td>\n",
       "    </tr>\n",
       "    <tr>\n",
       "      <th>28</th>\n",
       "      <td>299887.474609</td>\n",
       "      <td>6.735050e+06</td>\n",
       "      <td>-1196.050049</td>\n",
       "      <td>Early_Permian</td>\n",
       "      <td>Fault_01</td>\n",
       "      <td>1</td>\n",
       "      <td>True</td>\n",
       "      <td>1</td>\n",
       "      <td>${\\bf{x}}_{\\alpha \\,{\\bf{1}},28}$</td>\n",
       "    </tr>\n",
       "    <tr>\n",
       "      <th>29</th>\n",
       "      <td>299887.474609</td>\n",
       "      <td>6.735050e+06</td>\n",
       "      <td>-1196.050049</td>\n",
       "      <td>Early_Permian</td>\n",
       "      <td>Fault_01</td>\n",
       "      <td>1</td>\n",
       "      <td>True</td>\n",
       "      <td>1</td>\n",
       "      <td>${\\bf{x}}_{\\alpha \\,{\\bf{1}},29}$</td>\n",
       "    </tr>\n",
       "    <tr>\n",
       "      <th>...</th>\n",
       "      <td>...</td>\n",
       "      <td>...</td>\n",
       "      <td>...</td>\n",
       "      <td>...</td>\n",
       "      <td>...</td>\n",
       "      <td>...</td>\n",
       "      <td>...</td>\n",
       "      <td>...</td>\n",
       "      <td>...</td>\n",
       "    </tr>\n",
       "    <tr>\n",
       "      <th>11281</th>\n",
       "      <td>290000.000000</td>\n",
       "      <td>6.632000e+06</td>\n",
       "      <td>0.000000</td>\n",
       "      <td>Sea_level</td>\n",
       "      <td>Sea_level_Series</td>\n",
       "      <td>25</td>\n",
       "      <td>False</td>\n",
       "      <td>30</td>\n",
       "      <td>${\\bf{x}}_{\\alpha \\,{\\bf{30}},968}$</td>\n",
       "    </tr>\n",
       "    <tr>\n",
       "      <th>11282</th>\n",
       "      <td>285000.000000</td>\n",
       "      <td>6.632000e+06</td>\n",
       "      <td>0.000000</td>\n",
       "      <td>Sea_level</td>\n",
       "      <td>Sea_level_Series</td>\n",
       "      <td>25</td>\n",
       "      <td>False</td>\n",
       "      <td>30</td>\n",
       "      <td>${\\bf{x}}_{\\alpha \\,{\\bf{30}},969}$</td>\n",
       "    </tr>\n",
       "    <tr>\n",
       "      <th>11283</th>\n",
       "      <td>280000.000000</td>\n",
       "      <td>6.632000e+06</td>\n",
       "      <td>0.000000</td>\n",
       "      <td>Sea_level</td>\n",
       "      <td>Sea_level_Series</td>\n",
       "      <td>25</td>\n",
       "      <td>False</td>\n",
       "      <td>30</td>\n",
       "      <td>${\\bf{x}}_{\\alpha \\,{\\bf{30}},970}$</td>\n",
       "    </tr>\n",
       "    <tr>\n",
       "      <th>11284</th>\n",
       "      <td>275000.000000</td>\n",
       "      <td>6.632000e+06</td>\n",
       "      <td>0.000000</td>\n",
       "      <td>Sea_level</td>\n",
       "      <td>Sea_level_Series</td>\n",
       "      <td>25</td>\n",
       "      <td>False</td>\n",
       "      <td>30</td>\n",
       "      <td>${\\bf{x}}_{\\alpha \\,{\\bf{30}},971}$</td>\n",
       "    </tr>\n",
       "    <tr>\n",
       "      <th>11285</th>\n",
       "      <td>270000.000000</td>\n",
       "      <td>6.632000e+06</td>\n",
       "      <td>0.000000</td>\n",
       "      <td>Sea_level</td>\n",
       "      <td>Sea_level_Series</td>\n",
       "      <td>25</td>\n",
       "      <td>False</td>\n",
       "      <td>30</td>\n",
       "      <td>${\\bf{x}}_{\\alpha \\,{\\bf{30}},972}$</td>\n",
       "    </tr>\n",
       "    <tr>\n",
       "      <th>11286</th>\n",
       "      <td>265000.000000</td>\n",
       "      <td>6.632000e+06</td>\n",
       "      <td>0.000000</td>\n",
       "      <td>Sea_level</td>\n",
       "      <td>Sea_level_Series</td>\n",
       "      <td>25</td>\n",
       "      <td>False</td>\n",
       "      <td>30</td>\n",
       "      <td>${\\bf{x}}_{\\alpha \\,{\\bf{30}},973}$</td>\n",
       "    </tr>\n",
       "    <tr>\n",
       "      <th>11287</th>\n",
       "      <td>259000.000000</td>\n",
       "      <td>6.632000e+06</td>\n",
       "      <td>0.000000</td>\n",
       "      <td>Sea_level</td>\n",
       "      <td>Sea_level_Series</td>\n",
       "      <td>25</td>\n",
       "      <td>False</td>\n",
       "      <td>30</td>\n",
       "      <td>${\\bf{x}}_{\\alpha \\,{\\bf{30}},974}$</td>\n",
       "    </tr>\n",
       "    <tr>\n",
       "      <th>11288</th>\n",
       "      <td>309999.998047</td>\n",
       "      <td>6.627000e+06</td>\n",
       "      <td>0.000000</td>\n",
       "      <td>Sea_level</td>\n",
       "      <td>Sea_level_Series</td>\n",
       "      <td>25</td>\n",
       "      <td>False</td>\n",
       "      <td>30</td>\n",
       "      <td>${\\bf{x}}_{\\alpha \\,{\\bf{30}},975}$</td>\n",
       "    </tr>\n",
       "    <tr>\n",
       "      <th>11289</th>\n",
       "      <td>304999.999023</td>\n",
       "      <td>6.627000e+06</td>\n",
       "      <td>0.000000</td>\n",
       "      <td>Sea_level</td>\n",
       "      <td>Sea_level_Series</td>\n",
       "      <td>25</td>\n",
       "      <td>False</td>\n",
       "      <td>30</td>\n",
       "      <td>${\\bf{x}}_{\\alpha \\,{\\bf{30}},976}$</td>\n",
       "    </tr>\n",
       "    <tr>\n",
       "      <th>11290</th>\n",
       "      <td>299999.998047</td>\n",
       "      <td>6.627000e+06</td>\n",
       "      <td>0.000000</td>\n",
       "      <td>Sea_level</td>\n",
       "      <td>Sea_level_Series</td>\n",
       "      <td>25</td>\n",
       "      <td>False</td>\n",
       "      <td>30</td>\n",
       "      <td>${\\bf{x}}_{\\alpha \\,{\\bf{30}},977}$</td>\n",
       "    </tr>\n",
       "    <tr>\n",
       "      <th>11291</th>\n",
       "      <td>294999.998047</td>\n",
       "      <td>6.627000e+06</td>\n",
       "      <td>0.000000</td>\n",
       "      <td>Sea_level</td>\n",
       "      <td>Sea_level_Series</td>\n",
       "      <td>25</td>\n",
       "      <td>False</td>\n",
       "      <td>30</td>\n",
       "      <td>${\\bf{x}}_{\\alpha \\,{\\bf{30}},978}$</td>\n",
       "    </tr>\n",
       "    <tr>\n",
       "      <th>11292</th>\n",
       "      <td>290000.000000</td>\n",
       "      <td>6.627000e+06</td>\n",
       "      <td>0.000000</td>\n",
       "      <td>Sea_level</td>\n",
       "      <td>Sea_level_Series</td>\n",
       "      <td>25</td>\n",
       "      <td>False</td>\n",
       "      <td>30</td>\n",
       "      <td>${\\bf{x}}_{\\alpha \\,{\\bf{30}},979}$</td>\n",
       "    </tr>\n",
       "    <tr>\n",
       "      <th>11293</th>\n",
       "      <td>285000.000000</td>\n",
       "      <td>6.627000e+06</td>\n",
       "      <td>0.000000</td>\n",
       "      <td>Sea_level</td>\n",
       "      <td>Sea_level_Series</td>\n",
       "      <td>25</td>\n",
       "      <td>False</td>\n",
       "      <td>30</td>\n",
       "      <td>${\\bf{x}}_{\\alpha \\,{\\bf{30}},980}$</td>\n",
       "    </tr>\n",
       "    <tr>\n",
       "      <th>11294</th>\n",
       "      <td>290000.000000</td>\n",
       "      <td>6.607000e+06</td>\n",
       "      <td>0.000000</td>\n",
       "      <td>Sea_level</td>\n",
       "      <td>Sea_level_Series</td>\n",
       "      <td>25</td>\n",
       "      <td>False</td>\n",
       "      <td>30</td>\n",
       "      <td>${\\bf{x}}_{\\alpha \\,{\\bf{30}},981}$</td>\n",
       "    </tr>\n",
       "    <tr>\n",
       "      <th>11295</th>\n",
       "      <td>280000.000000</td>\n",
       "      <td>6.627000e+06</td>\n",
       "      <td>0.000000</td>\n",
       "      <td>Sea_level</td>\n",
       "      <td>Sea_level_Series</td>\n",
       "      <td>25</td>\n",
       "      <td>False</td>\n",
       "      <td>30</td>\n",
       "      <td>${\\bf{x}}_{\\alpha \\,{\\bf{30}},982}$</td>\n",
       "    </tr>\n",
       "    <tr>\n",
       "      <th>11296</th>\n",
       "      <td>270000.000000</td>\n",
       "      <td>6.627000e+06</td>\n",
       "      <td>0.000000</td>\n",
       "      <td>Sea_level</td>\n",
       "      <td>Sea_level_Series</td>\n",
       "      <td>25</td>\n",
       "      <td>False</td>\n",
       "      <td>30</td>\n",
       "      <td>${\\bf{x}}_{\\alpha \\,{\\bf{30}},983}$</td>\n",
       "    </tr>\n",
       "    <tr>\n",
       "      <th>11297</th>\n",
       "      <td>265000.000000</td>\n",
       "      <td>6.627000e+06</td>\n",
       "      <td>0.000000</td>\n",
       "      <td>Sea_level</td>\n",
       "      <td>Sea_level_Series</td>\n",
       "      <td>25</td>\n",
       "      <td>False</td>\n",
       "      <td>30</td>\n",
       "      <td>${\\bf{x}}_{\\alpha \\,{\\bf{30}},984}$</td>\n",
       "    </tr>\n",
       "    <tr>\n",
       "      <th>11298</th>\n",
       "      <td>259000.000000</td>\n",
       "      <td>6.627000e+06</td>\n",
       "      <td>0.000000</td>\n",
       "      <td>Sea_level</td>\n",
       "      <td>Sea_level_Series</td>\n",
       "      <td>25</td>\n",
       "      <td>False</td>\n",
       "      <td>30</td>\n",
       "      <td>${\\bf{x}}_{\\alpha \\,{\\bf{30}},985}$</td>\n",
       "    </tr>\n",
       "    <tr>\n",
       "      <th>11299</th>\n",
       "      <td>314999.998535</td>\n",
       "      <td>6.622000e+06</td>\n",
       "      <td>0.000000</td>\n",
       "      <td>Sea_level</td>\n",
       "      <td>Sea_level_Series</td>\n",
       "      <td>25</td>\n",
       "      <td>False</td>\n",
       "      <td>30</td>\n",
       "      <td>${\\bf{x}}_{\\alpha \\,{\\bf{30}},986}$</td>\n",
       "    </tr>\n",
       "    <tr>\n",
       "      <th>11300</th>\n",
       "      <td>309999.998047</td>\n",
       "      <td>6.622000e+06</td>\n",
       "      <td>0.000000</td>\n",
       "      <td>Sea_level</td>\n",
       "      <td>Sea_level_Series</td>\n",
       "      <td>25</td>\n",
       "      <td>False</td>\n",
       "      <td>30</td>\n",
       "      <td>${\\bf{x}}_{\\alpha \\,{\\bf{30}},987}$</td>\n",
       "    </tr>\n",
       "    <tr>\n",
       "      <th>11301</th>\n",
       "      <td>304999.999023</td>\n",
       "      <td>6.622000e+06</td>\n",
       "      <td>0.000000</td>\n",
       "      <td>Sea_level</td>\n",
       "      <td>Sea_level_Series</td>\n",
       "      <td>25</td>\n",
       "      <td>False</td>\n",
       "      <td>30</td>\n",
       "      <td>${\\bf{x}}_{\\alpha \\,{\\bf{30}},988}$</td>\n",
       "    </tr>\n",
       "    <tr>\n",
       "      <th>11302</th>\n",
       "      <td>299999.998047</td>\n",
       "      <td>6.622000e+06</td>\n",
       "      <td>0.000000</td>\n",
       "      <td>Sea_level</td>\n",
       "      <td>Sea_level_Series</td>\n",
       "      <td>25</td>\n",
       "      <td>False</td>\n",
       "      <td>30</td>\n",
       "      <td>${\\bf{x}}_{\\alpha \\,{\\bf{30}},989}$</td>\n",
       "    </tr>\n",
       "    <tr>\n",
       "      <th>11303</th>\n",
       "      <td>294999.998047</td>\n",
       "      <td>6.622000e+06</td>\n",
       "      <td>0.000000</td>\n",
       "      <td>Sea_level</td>\n",
       "      <td>Sea_level_Series</td>\n",
       "      <td>25</td>\n",
       "      <td>False</td>\n",
       "      <td>30</td>\n",
       "      <td>${\\bf{x}}_{\\alpha \\,{\\bf{30}},990}$</td>\n",
       "    </tr>\n",
       "    <tr>\n",
       "      <th>11304</th>\n",
       "      <td>290000.000000</td>\n",
       "      <td>6.622000e+06</td>\n",
       "      <td>0.000000</td>\n",
       "      <td>Sea_level</td>\n",
       "      <td>Sea_level_Series</td>\n",
       "      <td>25</td>\n",
       "      <td>False</td>\n",
       "      <td>30</td>\n",
       "      <td>${\\bf{x}}_{\\alpha \\,{\\bf{30}},991}$</td>\n",
       "    </tr>\n",
       "    <tr>\n",
       "      <th>11305</th>\n",
       "      <td>285000.000000</td>\n",
       "      <td>6.622000e+06</td>\n",
       "      <td>0.000000</td>\n",
       "      <td>Sea_level</td>\n",
       "      <td>Sea_level_Series</td>\n",
       "      <td>25</td>\n",
       "      <td>False</td>\n",
       "      <td>30</td>\n",
       "      <td>${\\bf{x}}_{\\alpha \\,{\\bf{30}},992}$</td>\n",
       "    </tr>\n",
       "    <tr>\n",
       "      <th>11306</th>\n",
       "      <td>280000.000000</td>\n",
       "      <td>6.622000e+06</td>\n",
       "      <td>0.000000</td>\n",
       "      <td>Sea_level</td>\n",
       "      <td>Sea_level_Series</td>\n",
       "      <td>25</td>\n",
       "      <td>False</td>\n",
       "      <td>30</td>\n",
       "      <td>${\\bf{x}}_{\\alpha \\,{\\bf{30}},993}$</td>\n",
       "    </tr>\n",
       "    <tr>\n",
       "      <th>11307</th>\n",
       "      <td>275000.000000</td>\n",
       "      <td>6.622000e+06</td>\n",
       "      <td>0.000000</td>\n",
       "      <td>Sea_level</td>\n",
       "      <td>Sea_level_Series</td>\n",
       "      <td>25</td>\n",
       "      <td>False</td>\n",
       "      <td>30</td>\n",
       "      <td>${\\bf{x}}_{\\alpha \\,{\\bf{30}},994}$</td>\n",
       "    </tr>\n",
       "    <tr>\n",
       "      <th>11308</th>\n",
       "      <td>270000.000000</td>\n",
       "      <td>6.622000e+06</td>\n",
       "      <td>0.000000</td>\n",
       "      <td>Sea_level</td>\n",
       "      <td>Sea_level_Series</td>\n",
       "      <td>25</td>\n",
       "      <td>False</td>\n",
       "      <td>30</td>\n",
       "      <td>${\\bf{x}}_{\\alpha \\,{\\bf{30}},995}$</td>\n",
       "    </tr>\n",
       "    <tr>\n",
       "      <th>11309</th>\n",
       "      <td>275000.000000</td>\n",
       "      <td>6.627000e+06</td>\n",
       "      <td>0.000000</td>\n",
       "      <td>Sea_level</td>\n",
       "      <td>Sea_level_Series</td>\n",
       "      <td>25</td>\n",
       "      <td>False</td>\n",
       "      <td>30</td>\n",
       "      <td>${\\bf{x}}_{\\alpha \\,{\\bf{30}},996}$</td>\n",
       "    </tr>\n",
       "    <tr>\n",
       "      <th>11310</th>\n",
       "      <td>265000.000000</td>\n",
       "      <td>6.577000e+06</td>\n",
       "      <td>0.000000</td>\n",
       "      <td>Sea_level</td>\n",
       "      <td>Sea_level_Series</td>\n",
       "      <td>25</td>\n",
       "      <td>False</td>\n",
       "      <td>30</td>\n",
       "      <td>${\\bf{x}}_{\\alpha \\,{\\bf{30}},997}$</td>\n",
       "    </tr>\n",
       "  </tbody>\n",
       "</table>\n",
       "<p>11311 rows × 9 columns</p>\n",
       "</div>"
      ],
      "text/plain": [
       "                   X             Y            Z      formation  \\\n",
       "0      314436.000000  6.776860e+06 -1599.599976  Early_Permian   \n",
       "1      320291.356995  6.705086e+06 -2286.000000  Early_Permian   \n",
       "2      320434.908997  6.700750e+06 -2152.699951  Early_Permian   \n",
       "3      320434.908997  6.700750e+06 -2152.699951  Early_Permian   \n",
       "4      320993.307983  6.695083e+06 -2096.939941  Early_Permian   \n",
       "5      320993.307983  6.695083e+06 -2096.939941  Early_Permian   \n",
       "6      322452.725098  6.692796e+06 -2175.000000  Early_Permian   \n",
       "7      322452.725098  6.692796e+06 -2175.000000  Early_Permian   \n",
       "8      319356.780029  6.700196e+06 -2165.000000  Early_Permian   \n",
       "9      319356.780029  6.700196e+06 -2165.000000  Early_Permian   \n",
       "10     320636.494019  6.698776e+06 -2081.000000  Early_Permian   \n",
       "11     320636.494019  6.698776e+06 -2081.000000  Early_Permian   \n",
       "12     319315.372986  6.698018e+06 -2127.899902  Early_Permian   \n",
       "13     319315.372986  6.698018e+06 -2127.899902  Early_Permian   \n",
       "14     320371.920990  6.698100e+06 -2111.760010  Early_Permian   \n",
       "15     320371.920990  6.698100e+06 -2111.760010  Early_Permian   \n",
       "16     320997.192017  6.699614e+06 -2105.530029  Early_Permian   \n",
       "17     320997.192017  6.699614e+06 -2105.530029  Early_Permian   \n",
       "18     320291.356995  6.705086e+06 -2286.000000  Early_Permian   \n",
       "19     310944.094727  6.765857e+06 -2312.060059  Early_Permian   \n",
       "20     320688.206970  6.698183e+06 -2072.100098  Early_Permian   \n",
       "21     321813.026978  6.707122e+06 -2450.120117  Early_Permian   \n",
       "22     313952.893066  6.675338e+06  -573.280029  Early_Permian   \n",
       "23     313952.893066  6.675338e+06  -573.280029  Early_Permian   \n",
       "24     309926.759766  6.729990e+06 -1419.500000  Early_Permian   \n",
       "25     309926.759766  6.729990e+06 -1419.500000  Early_Permian   \n",
       "26     317183.263916  6.780431e+06 -1439.099976  Early_Permian   \n",
       "27     317183.263916  6.780431e+06 -1439.099976  Early_Permian   \n",
       "28     299887.474609  6.735050e+06 -1196.050049  Early_Permian   \n",
       "29     299887.474609  6.735050e+06 -1196.050049  Early_Permian   \n",
       "...              ...           ...          ...            ...   \n",
       "11281  290000.000000  6.632000e+06     0.000000      Sea_level   \n",
       "11282  285000.000000  6.632000e+06     0.000000      Sea_level   \n",
       "11283  280000.000000  6.632000e+06     0.000000      Sea_level   \n",
       "11284  275000.000000  6.632000e+06     0.000000      Sea_level   \n",
       "11285  270000.000000  6.632000e+06     0.000000      Sea_level   \n",
       "11286  265000.000000  6.632000e+06     0.000000      Sea_level   \n",
       "11287  259000.000000  6.632000e+06     0.000000      Sea_level   \n",
       "11288  309999.998047  6.627000e+06     0.000000      Sea_level   \n",
       "11289  304999.999023  6.627000e+06     0.000000      Sea_level   \n",
       "11290  299999.998047  6.627000e+06     0.000000      Sea_level   \n",
       "11291  294999.998047  6.627000e+06     0.000000      Sea_level   \n",
       "11292  290000.000000  6.627000e+06     0.000000      Sea_level   \n",
       "11293  285000.000000  6.627000e+06     0.000000      Sea_level   \n",
       "11294  290000.000000  6.607000e+06     0.000000      Sea_level   \n",
       "11295  280000.000000  6.627000e+06     0.000000      Sea_level   \n",
       "11296  270000.000000  6.627000e+06     0.000000      Sea_level   \n",
       "11297  265000.000000  6.627000e+06     0.000000      Sea_level   \n",
       "11298  259000.000000  6.627000e+06     0.000000      Sea_level   \n",
       "11299  314999.998535  6.622000e+06     0.000000      Sea_level   \n",
       "11300  309999.998047  6.622000e+06     0.000000      Sea_level   \n",
       "11301  304999.999023  6.622000e+06     0.000000      Sea_level   \n",
       "11302  299999.998047  6.622000e+06     0.000000      Sea_level   \n",
       "11303  294999.998047  6.622000e+06     0.000000      Sea_level   \n",
       "11304  290000.000000  6.622000e+06     0.000000      Sea_level   \n",
       "11305  285000.000000  6.622000e+06     0.000000      Sea_level   \n",
       "11306  280000.000000  6.622000e+06     0.000000      Sea_level   \n",
       "11307  275000.000000  6.622000e+06     0.000000      Sea_level   \n",
       "11308  270000.000000  6.622000e+06     0.000000      Sea_level   \n",
       "11309  275000.000000  6.627000e+06     0.000000      Sea_level   \n",
       "11310  265000.000000  6.577000e+06     0.000000      Sea_level   \n",
       "\n",
       "                 series  order_series  isFault  formation_number  \\\n",
       "0              Fault_01             1     True                 1   \n",
       "1              Fault_01             1     True                 1   \n",
       "2              Fault_01             1     True                 1   \n",
       "3              Fault_01             1     True                 1   \n",
       "4              Fault_01             1     True                 1   \n",
       "5              Fault_01             1     True                 1   \n",
       "6              Fault_01             1     True                 1   \n",
       "7              Fault_01             1     True                 1   \n",
       "8              Fault_01             1     True                 1   \n",
       "9              Fault_01             1     True                 1   \n",
       "10             Fault_01             1     True                 1   \n",
       "11             Fault_01             1     True                 1   \n",
       "12             Fault_01             1     True                 1   \n",
       "13             Fault_01             1     True                 1   \n",
       "14             Fault_01             1     True                 1   \n",
       "15             Fault_01             1     True                 1   \n",
       "16             Fault_01             1     True                 1   \n",
       "17             Fault_01             1     True                 1   \n",
       "18             Fault_01             1     True                 1   \n",
       "19             Fault_01             1     True                 1   \n",
       "20             Fault_01             1     True                 1   \n",
       "21             Fault_01             1     True                 1   \n",
       "22             Fault_01             1     True                 1   \n",
       "23             Fault_01             1     True                 1   \n",
       "24             Fault_01             1     True                 1   \n",
       "25             Fault_01             1     True                 1   \n",
       "26             Fault_01             1     True                 1   \n",
       "27             Fault_01             1     True                 1   \n",
       "28             Fault_01             1     True                 1   \n",
       "29             Fault_01             1     True                 1   \n",
       "...                 ...           ...      ...               ...   \n",
       "11281  Sea_level_Series            25    False                30   \n",
       "11282  Sea_level_Series            25    False                30   \n",
       "11283  Sea_level_Series            25    False                30   \n",
       "11284  Sea_level_Series            25    False                30   \n",
       "11285  Sea_level_Series            25    False                30   \n",
       "11286  Sea_level_Series            25    False                30   \n",
       "11287  Sea_level_Series            25    False                30   \n",
       "11288  Sea_level_Series            25    False                30   \n",
       "11289  Sea_level_Series            25    False                30   \n",
       "11290  Sea_level_Series            25    False                30   \n",
       "11291  Sea_level_Series            25    False                30   \n",
       "11292  Sea_level_Series            25    False                30   \n",
       "11293  Sea_level_Series            25    False                30   \n",
       "11294  Sea_level_Series            25    False                30   \n",
       "11295  Sea_level_Series            25    False                30   \n",
       "11296  Sea_level_Series            25    False                30   \n",
       "11297  Sea_level_Series            25    False                30   \n",
       "11298  Sea_level_Series            25    False                30   \n",
       "11299  Sea_level_Series            25    False                30   \n",
       "11300  Sea_level_Series            25    False                30   \n",
       "11301  Sea_level_Series            25    False                30   \n",
       "11302  Sea_level_Series            25    False                30   \n",
       "11303  Sea_level_Series            25    False                30   \n",
       "11304  Sea_level_Series            25    False                30   \n",
       "11305  Sea_level_Series            25    False                30   \n",
       "11306  Sea_level_Series            25    False                30   \n",
       "11307  Sea_level_Series            25    False                30   \n",
       "11308  Sea_level_Series            25    False                30   \n",
       "11309  Sea_level_Series            25    False                30   \n",
       "11310  Sea_level_Series            25    False                30   \n",
       "\n",
       "                               annotations  \n",
       "0         ${\\bf{x}}_{\\alpha \\,{\\bf{1}},0}$  \n",
       "1         ${\\bf{x}}_{\\alpha \\,{\\bf{1}},1}$  \n",
       "2         ${\\bf{x}}_{\\alpha \\,{\\bf{1}},2}$  \n",
       "3         ${\\bf{x}}_{\\alpha \\,{\\bf{1}},3}$  \n",
       "4         ${\\bf{x}}_{\\alpha \\,{\\bf{1}},4}$  \n",
       "5         ${\\bf{x}}_{\\alpha \\,{\\bf{1}},5}$  \n",
       "6         ${\\bf{x}}_{\\alpha \\,{\\bf{1}},6}$  \n",
       "7         ${\\bf{x}}_{\\alpha \\,{\\bf{1}},7}$  \n",
       "8         ${\\bf{x}}_{\\alpha \\,{\\bf{1}},8}$  \n",
       "9         ${\\bf{x}}_{\\alpha \\,{\\bf{1}},9}$  \n",
       "10       ${\\bf{x}}_{\\alpha \\,{\\bf{1}},10}$  \n",
       "11       ${\\bf{x}}_{\\alpha \\,{\\bf{1}},11}$  \n",
       "12       ${\\bf{x}}_{\\alpha \\,{\\bf{1}},12}$  \n",
       "13       ${\\bf{x}}_{\\alpha \\,{\\bf{1}},13}$  \n",
       "14       ${\\bf{x}}_{\\alpha \\,{\\bf{1}},14}$  \n",
       "15       ${\\bf{x}}_{\\alpha \\,{\\bf{1}},15}$  \n",
       "16       ${\\bf{x}}_{\\alpha \\,{\\bf{1}},16}$  \n",
       "17       ${\\bf{x}}_{\\alpha \\,{\\bf{1}},17}$  \n",
       "18       ${\\bf{x}}_{\\alpha \\,{\\bf{1}},18}$  \n",
       "19       ${\\bf{x}}_{\\alpha \\,{\\bf{1}},19}$  \n",
       "20       ${\\bf{x}}_{\\alpha \\,{\\bf{1}},20}$  \n",
       "21       ${\\bf{x}}_{\\alpha \\,{\\bf{1}},21}$  \n",
       "22       ${\\bf{x}}_{\\alpha \\,{\\bf{1}},22}$  \n",
       "23       ${\\bf{x}}_{\\alpha \\,{\\bf{1}},23}$  \n",
       "24       ${\\bf{x}}_{\\alpha \\,{\\bf{1}},24}$  \n",
       "25       ${\\bf{x}}_{\\alpha \\,{\\bf{1}},25}$  \n",
       "26       ${\\bf{x}}_{\\alpha \\,{\\bf{1}},26}$  \n",
       "27       ${\\bf{x}}_{\\alpha \\,{\\bf{1}},27}$  \n",
       "28       ${\\bf{x}}_{\\alpha \\,{\\bf{1}},28}$  \n",
       "29       ${\\bf{x}}_{\\alpha \\,{\\bf{1}},29}$  \n",
       "...                                    ...  \n",
       "11281  ${\\bf{x}}_{\\alpha \\,{\\bf{30}},968}$  \n",
       "11282  ${\\bf{x}}_{\\alpha \\,{\\bf{30}},969}$  \n",
       "11283  ${\\bf{x}}_{\\alpha \\,{\\bf{30}},970}$  \n",
       "11284  ${\\bf{x}}_{\\alpha \\,{\\bf{30}},971}$  \n",
       "11285  ${\\bf{x}}_{\\alpha \\,{\\bf{30}},972}$  \n",
       "11286  ${\\bf{x}}_{\\alpha \\,{\\bf{30}},973}$  \n",
       "11287  ${\\bf{x}}_{\\alpha \\,{\\bf{30}},974}$  \n",
       "11288  ${\\bf{x}}_{\\alpha \\,{\\bf{30}},975}$  \n",
       "11289  ${\\bf{x}}_{\\alpha \\,{\\bf{30}},976}$  \n",
       "11290  ${\\bf{x}}_{\\alpha \\,{\\bf{30}},977}$  \n",
       "11291  ${\\bf{x}}_{\\alpha \\,{\\bf{30}},978}$  \n",
       "11292  ${\\bf{x}}_{\\alpha \\,{\\bf{30}},979}$  \n",
       "11293  ${\\bf{x}}_{\\alpha \\,{\\bf{30}},980}$  \n",
       "11294  ${\\bf{x}}_{\\alpha \\,{\\bf{30}},981}$  \n",
       "11295  ${\\bf{x}}_{\\alpha \\,{\\bf{30}},982}$  \n",
       "11296  ${\\bf{x}}_{\\alpha \\,{\\bf{30}},983}$  \n",
       "11297  ${\\bf{x}}_{\\alpha \\,{\\bf{30}},984}$  \n",
       "11298  ${\\bf{x}}_{\\alpha \\,{\\bf{30}},985}$  \n",
       "11299  ${\\bf{x}}_{\\alpha \\,{\\bf{30}},986}$  \n",
       "11300  ${\\bf{x}}_{\\alpha \\,{\\bf{30}},987}$  \n",
       "11301  ${\\bf{x}}_{\\alpha \\,{\\bf{30}},988}$  \n",
       "11302  ${\\bf{x}}_{\\alpha \\,{\\bf{30}},989}$  \n",
       "11303  ${\\bf{x}}_{\\alpha \\,{\\bf{30}},990}$  \n",
       "11304  ${\\bf{x}}_{\\alpha \\,{\\bf{30}},991}$  \n",
       "11305  ${\\bf{x}}_{\\alpha \\,{\\bf{30}},992}$  \n",
       "11306  ${\\bf{x}}_{\\alpha \\,{\\bf{30}},993}$  \n",
       "11307  ${\\bf{x}}_{\\alpha \\,{\\bf{30}},994}$  \n",
       "11308  ${\\bf{x}}_{\\alpha \\,{\\bf{30}},995}$  \n",
       "11309  ${\\bf{x}}_{\\alpha \\,{\\bf{30}},996}$  \n",
       "11310  ${\\bf{x}}_{\\alpha \\,{\\bf{30}},997}$  \n",
       "\n",
       "[11311 rows x 9 columns]"
      ]
     },
     "execution_count": 4,
     "metadata": {},
     "output_type": "execute_result"
    }
   ],
   "source": [
    "geo_data.interfaces"
   ]
  },
  {
   "cell_type": "code",
   "execution_count": null,
   "metadata": {},
   "outputs": [],
   "source": []
  }
 ],
 "metadata": {
  "kernelspec": {
   "display_name": "Python 3",
   "language": "python",
   "name": "python3"
  },
  "language_info": {
   "codemirror_mode": {
    "name": "ipython",
    "version": 3
   },
   "file_extension": ".py",
   "mimetype": "text/x-python",
   "name": "python",
   "nbconvert_exporter": "python",
   "pygments_lexer": "ipython3",
   "version": "3.6.4"
  }
 },
 "nbformat": 4,
 "nbformat_minor": 2
}
