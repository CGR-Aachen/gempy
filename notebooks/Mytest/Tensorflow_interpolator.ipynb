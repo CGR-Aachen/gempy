{
 "cells": [
  {
   "cell_type": "code",
   "execution_count": 1,
   "metadata": {
    "ExecuteTime": {
     "end_time": "2020-04-15T11:33:47.253985Z",
     "start_time": "2020-04-15T11:33:32.801629Z"
    }
   },
   "outputs": [
    {
     "name": "stdout",
     "output_type": "stream",
     "text": [
      "Active grids: ['regular']\n",
      "Active grids: ['regular' 'centered']\n",
      "Active grids: ['regular' 'centered']\n",
      "WARNING:tensorflow:From /Users/zhouji/.local/lib/python3.7/site-packages/tensorflow/python/ops/math_ops.py:4291: setdiff1d (from tensorflow.python.ops.array_ops) is deprecated and will be removed after 2018-11-30.\n",
      "Instructions for updating:\n",
      "This op will be removed after the deprecation date. Please switch to tf.sets.difference().\n"
     ]
    }
   ],
   "source": [
    "import sys\n",
    "import numpy as np\n",
    "import matplotlib.pyplot as plt\n",
    "sys.path.append(\"/Users/zhouji/Documents/github/gempy\")\n",
    "\n",
    "from gempy.core.tensor.tensorflow_graph_test import TFGraph\n",
    "import tensorflow as tf\n",
    "import pandas as pd\n",
    "import gempy as gp\n",
    "from gempy.assets.geophysics import GravityPreprocessing\n",
    "\n",
    "def Plot_2D_scaler_field(grid,scaler_field):\n",
    "    G = grid[np.where(grid[:,1] == [grid[-1][1]])[0]]\n",
    "    S = scaler_field.numpy()[np.where(grid[:,1] == [grid[0][1]])[0]]\n",
    "    XX = G[:,0].reshape([50,50])\n",
    "    ZZ = G[:,2].reshape([50,50])\n",
    "    S = S.reshape([50,50])\n",
    "    plt.contour(XX,ZZ,S)\n",
    "\n",
    "\n",
    "geo_data = gp.create_data([0, 1000, 0, 1000, 0, 1000], resolution=[50, 50, 50],\n",
    "                          path_o=\"/Users/zhouji/Documents/github/gempy/notebooks/data/input_data/jan_models/model2_orientations.csv\",\n",
    "                          path_i=\"/Users/zhouji/Documents/github/gempy/notebooks/data/input_data/jan_models/model2_surface_points.csv\")\n",
    "gp.map_series_to_surfaces(geo_data, {\"Strat_Series\": (\n",
    "    'rock2', 'rock1'), \"Basement_Series\": ('basement')})\n",
    "\n",
    "geo_data.add_surface_values([2.61,3.1,2.92])\n",
    "\n",
    "## Gravity test\n",
    "## ---------\n",
    "grav_res = 20\n",
    "X = np.linspace(0, 1000, grav_res)\n",
    "Y = np.linspace(0, 1000, grav_res)\n",
    "Z= 300\n",
    "xyz= np.meshgrid(X, Y, Z)\n",
    "xy_ravel = np.vstack(list(map(np.ravel, xyz))).T\n",
    "\n",
    "\n",
    "geo_data.set_centered_grid(xy_ravel,  resolution = [10, 10, 15], radius=5000)\n",
    "interpolator = geo_data.interpolator\n",
    "dtype = interpolator.additional_data.options.df.loc['values', 'dtype']\n",
    "\n",
    "dips_position, dip_angles, azimuth, polarity, surface_points_coord, fault_drift, grid, values_properties = interpolator.get_python_input_block()[\n",
    "    0:-3]\n",
    "\n",
    "g = GravityPreprocessing(geo_data.grid.centered_grid)\n",
    "tz = g.set_tz_kernel()\n",
    "\n",
    "len_rest_form = interpolator.additional_data.structure_data.df.loc[\n",
    "    'values', 'len surfaces surface_points']-1\n",
    "Range = interpolator.additional_data.kriging_data.df.loc['values', 'range']\n",
    "C_o = interpolator.additional_data.kriging_data.df.loc['values', '$C_o$']\n",
    "rescale_factor = interpolator.additional_data.rescaling_data.df.loc[\n",
    "    'values', 'rescaling factor']\n",
    "nugget_effect_grad = np.cast[dtype](\n",
    "    np.tile(interpolator.orientations.df['smooth'], 3))\n",
    "nugget_effect_scalar = np.cast[interpolator.dtype](\n",
    "    interpolator.surface_points.df['smooth'])\n",
    "\n",
    "surface_points_coord = tf.Variable(surface_points_coord,dtype = tf.float64)\n",
    "\n",
    "dips_position = tf.convert_to_tensor(dips_position)\n",
    "dip_angles = tf.convert_to_tensor(dip_angles)\n",
    "azimuth = tf.convert_to_tensor(azimuth)\n",
    "polarity = tf.convert_to_tensor(polarity)\n",
    "surface_points_coord = tf.convert_to_tensor(surface_points_coord)\n",
    "fault_drift = tf.convert_to_tensor(fault_drift)\n",
    "grid = tf.convert_to_tensor(grid)\n",
    "values_properties = tf.convert_to_tensor(values_properties)\n",
    "len_rest_form = tf.convert_to_tensor(len_rest_form)\n",
    "Range = tf.convert_to_tensor(Range,tf.float64)\n",
    "C_o = tf.convert_to_tensor(C_o)\n",
    "nugget_effect_grad = tf.convert_to_tensor(nugget_effect_grad)\n",
    "nugget_effect_scalar = tf.convert_to_tensor(nugget_effect_scalar)\n",
    "rescale_factor = tf.convert_to_tensor(rescale_factor,tf.float64)\n",
    "TFG = TFGraph(dips_position, dip_angles, azimuth,\n",
    "  polarity, surface_points_coord, fault_drift,\n",
    "  grid, values_properties, len_rest_form, Range,\n",
    "  C_o, nugget_effect_scalar, nugget_effect_grad,\n",
    "  rescale_factor)\n",
    "\n",
    "\n",
    "Z_x = TFG.scalar_field()\n",
    "scalar_field_at_surface_points = TFG.get_scalar_field_at_surface_points(Z_x)\n",
    "formations_block = TFG.export_formation_block(Z_x,scalar_field_at_surface_points,values_properties)\n",
    "\n",
    "lg_0 = interpolator.grid.get_grid_args('centered')[0]\n",
    "lg_1 = interpolator.grid.get_grid_args('centered')[1]\n",
    "\n",
    "densities = formations_block[1][lg_0:lg_1]\n",
    "\n",
    "grav = TFG.compute_forward_gravity(tz,lg_0,lg_1,densities)\n",
    "\n"
   ]
  },
  {
   "cell_type": "code",
   "execution_count": 8,
   "metadata": {
    "ExecuteTime": {
     "end_time": "2020-04-15T11:34:42.472331Z",
     "start_time": "2020-04-15T11:34:42.470050Z"
    }
   },
   "outputs": [],
   "source": [
    "import timeit"
   ]
  },
  {
   "cell_type": "code",
   "execution_count": 9,
   "metadata": {
    "ExecuteTime": {
     "end_time": "2020-04-15T11:34:48.993358Z",
     "start_time": "2020-04-15T11:34:42.619928Z"
    }
   },
   "outputs": [
    {
     "name": "stdout",
     "output_type": "stream",
     "text": [
      "6.366778341\n"
     ]
    }
   ],
   "source": [
    "start = timeit.default_timer()\n",
    "TFG.surface_points_all.assign(TFG.surface_points_all+tf.random.uniform(TFG.surface_points_all.shape,minval=-10., maxval=10.,dtype = tf.float64)/rescale_factor)\n",
    "Z_x = TFG.scalar_field()\n",
    "TFG.surface_points_all.assign(TFG.surface_points_all+tf.random.uniform(TFG.surface_points_all.shape,minval=-10., maxval=10.,dtype = tf.float64)/rescale_factor)\n",
    "Z_x = TFG.scalar_field()\n",
    "TFG.surface_points_all.assign(TFG.surface_points_all+tf.random.uniform(TFG.surface_points_all.shape,minval=-10., maxval=10.,dtype = tf.float64)/rescale_factor)\n",
    "Z_x = TFG.scalar_field()\n",
    "end = timeit.default_timer()\n",
    "print(end - start)\n",
    "# Z_x = new"
   ]
  },
  {
   "cell_type": "code",
   "execution_count": 5,
   "metadata": {
    "ExecuteTime": {
     "end_time": "2020-04-15T11:34:18.983531Z",
     "start_time": "2020-04-15T11:34:16.839055Z"
    }
   },
   "outputs": [],
   "source": [
    "TFG.surface_points_all.assign(TFG.surface_points_all+tf.random.uniform(TFG.surface_points_all.shape,minval=-10., maxval=10.,dtype = tf.float64)/rescale_factor)\n",
    "Z_x = TFG.scalar_field()"
   ]
  },
  {
   "cell_type": "code",
   "execution_count": 6,
   "metadata": {
    "ExecuteTime": {
     "end_time": "2020-04-15T11:34:26.308308Z",
     "start_time": "2020-04-15T11:34:26.041074Z"
    }
   },
   "outputs": [
    {
     "data": {
      "text/plain": [
       "<matplotlib.contour.QuadContourSet at 0x1517ff550>"
      ]
     },
     "execution_count": 6,
     "metadata": {},
     "output_type": "execute_result"
    },
    {
     "data": {
      "image/png": "[encoded data removed]",
      "text/plain": [
       "<Figure size 432x432 with 1 Axes>"
      ]
     },
     "metadata": {
      "needs_background": "light"
     },
     "output_type": "display_data"
    }
   ],
   "source": [
    "scalar_field_at_surface_points = TFG.get_scalar_field_at_surface_points(Z_x)\n",
    "formations_block = TFG.export_formation_block(Z_x,scalar_field_at_surface_points,values_properties)\n",
    "\n",
    "densities = formations_block[1][lg_0:lg_1]\n",
    "\n",
    "grav = TFG.compute_forward_gravity(tz,lg_0,lg_1,densities)\n",
    "\n",
    "grav = tf.reshape(grav,[20,20])\n",
    "### Plot gravity response\n",
    "xx,yy = np.meshgrid(X,Y)\n",
    "\n",
    "gp.plot.plot_data(geo_data, direction='z',)\n",
    "ax = plt.gca()\n",
    "ax.scatter(xy_ravel[:,0], xy_ravel[:, 1], s=10,zorder=1)\n",
    "ax.contourf(xx,yy,grav,zorder=-1)"
   ]
  },
  {
   "cell_type": "code",
   "execution_count": null,
   "metadata": {
    "ExecuteTime": {
     "end_time": "2020-04-14T14:18:17.957476Z",
     "start_time": "2020-04-14T14:18:03.025Z"
    }
   },
   "outputs": [],
   "source": [
    "TFG.surface_points_all"
   ]
  },
  {
   "cell_type": "code",
   "execution_count": null,
   "metadata": {
    "ExecuteTime": {
     "end_time": "2020-04-14T14:18:17.958426Z",
     "start_time": "2020-04-14T14:18:03.041Z"
    }
   },
   "outputs": [],
   "source": [
    "interpolator.grid.get_grid_args('centered')[1]"
   ]
  },
  {
   "cell_type": "code",
   "execution_count": null,
   "metadata": {
    "ExecuteTime": {
     "end_time": "2020-04-14T14:18:17.959487Z",
     "start_time": "2020-04-14T14:18:03.058Z"
    }
   },
   "outputs": [],
   "source": [
    "Z_x = TFG.scalar_field()"
   ]
  },
  {
   "cell_type": "code",
   "execution_count": 9,
   "metadata": {
    "ExecuteTime": {
     "end_time": "2020-04-14T14:42:28.860506Z",
     "start_time": "2020-04-14T14:42:28.786108Z"
    }
   },
   "outputs": [
    {
     "ename": "TypeError",
     "evalue": "x_to_interpolate() missing 2 required positional arguments: 'ref_layer_points' and 'rest_layer_points'",
     "output_type": "error",
     "traceback": [
      "\u001b[0;31m---------------------------------------------------------------------------\u001b[0m",
      "\u001b[0;31mTypeError\u001b[0m                                 Traceback (most recent call last)",
      "\u001b[0;32m<ipython-input-9-2b0d168ac934>\u001b[0m in \u001b[0;36m<module>\u001b[0;34m\u001b[0m\n\u001b[1;32m     10\u001b[0m \u001b[0;34m\u001b[0m\u001b[0m\n\u001b[1;32m     11\u001b[0m \u001b[0;34m\u001b[0m\u001b[0m\n\u001b[0;32m---> 12\u001b[0;31m     \u001b[0mgrid_val\u001b[0m \u001b[0;34m=\u001b[0m \u001b[0mTFG\u001b[0m\u001b[0;34m.\u001b[0m\u001b[0mx_to_interpolate\u001b[0m\u001b[0;34m(\u001b[0m\u001b[0mgrid\u001b[0m\u001b[0;34m)\u001b[0m\u001b[0;34m\u001b[0m\u001b[0;34m\u001b[0m\u001b[0m\n\u001b[0m\u001b[1;32m     13\u001b[0m     \u001b[0mweights\u001b[0m \u001b[0;34m=\u001b[0m \u001b[0mTFG\u001b[0m\u001b[0;34m.\u001b[0m\u001b[0msolve_kriging\u001b[0m\u001b[0;34m(\u001b[0m\u001b[0;34m)\u001b[0m\u001b[0;34m\u001b[0m\u001b[0;34m\u001b[0m\u001b[0m\n\u001b[1;32m     14\u001b[0m \u001b[0;34m\u001b[0m\u001b[0m\n",
      "\u001b[0;31mTypeError\u001b[0m: x_to_interpolate() missing 2 required positional arguments: 'ref_layer_points' and 'rest_layer_points'"
     ]
    }
   ],
   "source": [
    "surface_points_coord = tf.Variable(surface_points_coord,dtype = tf.float64)\n",
    "\n",
    "with tf.GradientTape() as t:\n",
    "    TFG = TFGraph(dips_position, dip_angles, azimuth,\n",
    "      polarity, surface_points_coord, fault_drift,\n",
    "      grid, values_properties, len_rest_form, Range,\n",
    "      C_o, nugget_effect_scalar, nugget_effect_grad,\n",
    "      rescale_factor)\n",
    "    t.watch(surface_points_coord)\n",
    "    \n",
    "\n",
    "    grid_val = TFG.x_to_interpolate(grid)\n",
    "    weights = TFG.solve_kriging()\n",
    "\n",
    "    tiled_weights = TFG.extend_dual_kriging(weights, grid_val.shape[0])\n",
    "\n",
    "    sigma_0_grad = TFG.contribution_gradient_interface(grid_val, tiled_weights)\n",
    "    sigma_0_interf = TFG.contribution_interface(grid_val, tiled_weights)\n",
    "    f_0 = TFG.contribution_universal_drift(grid_val,weights)\n",
    "    Z_x = TFG.scalar_field()\n",
    "    scalar_field_at_surface_points = TFG.get_scalar_field_at_surface_points(Z_x)\n",
    "    formations_block = TFG.export_formation_block(Z_x,scalar_field_at_surface_points,values_properties)\n",
    "\n",
    "    lg_0 = tf.constant(interpolator.grid.get_grid_args('centered')[0])\n",
    "    lg_1 = tf.constant(interpolator.grid.get_grid_args('centered')[1])\n",
    "    densities = formations_block[1][lg_0:lg_1]\n",
    "\n",
    "    grav = TFG.compute_forward_gravity(tz,lg_0,lg_1,densities)\n",
    "grad = t.gradient(grav,surface_points_coord)\n",
    "print(grad)"
   ]
  },
  {
   "cell_type": "code",
   "execution_count": null,
   "metadata": {
    "ExecuteTime": {
     "end_time": "2020-04-14T14:18:17.961937Z",
     "start_time": "2020-04-14T14:18:03.094Z"
    }
   },
   "outputs": [],
   "source": [
    "lg_0 = interpolator.grid.get_grid_args('centered')[0]\n",
    "lg_1 = interpolator.grid.get_grid_args('centered')[1]\n",
    "densities = formations_block[1][lg_0:lg_1]\n",
    "\n",
    "grav = TFG.compute_forward_gravity(tz,lg_0,lg_1,densities)"
   ]
  },
  {
   "cell_type": "code",
   "execution_count": 6,
   "metadata": {
    "ExecuteTime": {
     "end_time": "2020-04-14T14:32:19.361537Z",
     "start_time": "2020-04-14T14:32:17.360443Z"
    }
   },
   "outputs": [
    {
     "name": "stdout",
     "output_type": "stream",
     "text": [
      "Active grids: ['regular']\n",
      "tracing sqd\n",
      "tracing sqd\n",
      "tracing sqd\n",
      "tracing sqd\n",
      "tracing sqd\n",
      "tracing sqd\n",
      "tracing sqd\n",
      "tracing sqd\n",
      "tracing sqd\n",
      "tracing sqd\n",
      "tracing contribution inter\n",
      "executing sqd\n",
      "executing sqd\n",
      "executing sqd\n",
      "executing sqd\n",
      "executing sqd\n",
      "executing sqd\n",
      "executing contribution inter\n",
      "executing sqd\n",
      "executing sqd\n",
      "executing sqd\n",
      "executing sqd\n"
     ]
    }
   ],
   "source": [
    "import sys\n",
    "import numpy as np\n",
    "import matplotlib.pyplot as plt\n",
    "sys.path.append(\"/Users/zhouji/Documents/github/gempy\")\n",
    "\n",
    "from gempy.core.tensor.tensorflow_graph_test import TFGraph\n",
    "import tensorflow as tf\n",
    "import pandas as pd\n",
    "import gempy as gp\n",
    "from gempy.assets.geophysics import GravityPreprocessing\n",
    "\n",
    "def Plot_2D_scaler_field(grid,scaler_field):\n",
    "    G = grid[np.where(grid[:,1] == [grid[-1][1]])[0]]\n",
    "    S = scaler_field.numpy()[np.where(grid[:,1] == [grid[0][1]])[0]]\n",
    "    XX = G[:,0].reshape([50,50])\n",
    "    ZZ = G[:,2].reshape([50,50])\n",
    "    S = S.reshape([50,50])\n",
    "    plt.contour(XX,ZZ,S)\n",
    "\n",
    "\n",
    "geo_data = gp.create_data([0, 1000, 0, 1000, 0, 1000], resolution=[50, 50, 50],\n",
    "                          path_o=\"/Users/zhouji/Documents/github/gempy/notebooks/data/input_data/jan_models/model2_orientations.csv\",\n",
    "                          path_i=\"/Users/zhouji/Documents/github/gempy/notebooks/data/input_data/jan_models/model2_surface_points.csv\")\n",
    "gp.map_series_to_surfaces(geo_data, {\"Strat_Series\": (\n",
    "    'rock2', 'rock1'), \"Basement_Series\": ('basement')})\n",
    "\n",
    "geo_data.add_surface_values([2.61,3.1,2.92])\n",
    "\n",
    "## Gravity test\n",
    "## ---------\n",
    "# grav_res = 20\n",
    "# X = np.linspace(0, 1000, grav_res)\n",
    "# Y = np.linspace(0, 1000, grav_res)\n",
    "# Z= 300\n",
    "# xyz= np.meshgrid(X, Y, Z)\n",
    "# xy_ravel = np.vstack(list(map(np.ravel, xyz))).T\n",
    "\n",
    "\n",
    "# geo_data.set_centered_grid(xy_ravel,  resolution = [10, 10, 15], radius=5000)\n",
    "interpolator = geo_data.interpolator\n",
    "dtype = interpolator.additional_data.options.df.loc['values', 'dtype']\n",
    "\n",
    "dips_position, dip_angles, azimuth, polarity, surface_points_coord, fault_drift, grid, values_properties = interpolator.get_python_input_block()[\n",
    "    0:-3]\n",
    "\n",
    "# g = GravityPreprocessing(geo_data.grid.centered_grid)\n",
    "# tz = g.set_tz_kernel()\n",
    "\n",
    "len_rest_form = interpolator.additional_data.structure_data.df.loc[\n",
    "    'values', 'len surfaces surface_points']-1\n",
    "Range = interpolator.additional_data.kriging_data.df.loc['values', 'range']\n",
    "C_o = interpolator.additional_data.kriging_data.df.loc['values', '$C_o$']\n",
    "rescale_factor = interpolator.additional_data.rescaling_data.df.loc[\n",
    "    'values', 'rescaling factor']\n",
    "nugget_effect_grad = np.cast[dtype](\n",
    "    np.tile(interpolator.orientations.df['smooth'], 3))\n",
    "nugget_effect_scalar = np.cast[interpolator.dtype](\n",
    "    interpolator.surface_points.df['smooth'])\n",
    "\n",
    "surface_points_coord = tf.Variable(surface_points_coord,dtype = tf.float64)\n",
    "\n",
    "dips_position = tf.convert_to_tensor(dips_position)\n",
    "dip_angles = tf.convert_to_tensor(dip_angles)\n",
    "azimuth = tf.convert_to_tensor(azimuth)\n",
    "polarity = tf.convert_to_tensor(polarity)\n",
    "surface_points_coord = tf.convert_to_tensor(surface_points_coord)\n",
    "fault_drift = tf.convert_to_tensor(fault_drift)\n",
    "grid = tf.convert_to_tensor(grid)\n",
    "values_properties = tf.convert_to_tensor(values_properties)\n",
    "len_rest_form = tf.convert_to_tensor(len_rest_form)\n",
    "Range = tf.convert_to_tensor(Range,tf.float64)\n",
    "C_o = tf.convert_to_tensor(C_o)\n",
    "nugget_effect_grad = tf.convert_to_tensor(nugget_effect_grad)\n",
    "nugget_effect_scalar = tf.convert_to_tensor(nugget_effect_scalar)\n",
    "rescale_factor = tf.convert_to_tensor(rescale_factor,tf.float64)\n",
    "TFG = TFGraph(dips_position, dip_angles, azimuth,\n",
    "  polarity, surface_points_coord, fault_drift,\n",
    "  grid, values_properties, len_rest_form, Range,\n",
    "  C_o, nugget_effect_scalar, nugget_effect_grad,\n",
    "  rescale_factor)\n",
    "\n",
    "\n",
    "Z_x = TFG.scalar_field()"
   ]
  },
  {
   "cell_type": "code",
   "execution_count": 8,
   "metadata": {
    "ExecuteTime": {
     "end_time": "2020-04-14T14:32:32.550140Z",
     "start_time": "2020-04-14T14:32:32.275381Z"
    }
   },
   "outputs": [
    {
     "name": "stdout",
     "output_type": "stream",
     "text": [
      "executing sqd\n",
      "executing sqd\n",
      "executing sqd\n",
      "executing sqd\n",
      "executing sqd\n",
      "executing sqd\n",
      "executing contribution inter\n",
      "executing sqd\n",
      "executing sqd\n",
      "executing sqd\n",
      "executing sqd\n"
     ]
    },
    {
     "data": {
      "text/plain": [
       "<tf.Tensor: shape=(125068,), dtype=float64, numpy=\n",
       "array([0.3058228 , 0.31166632, 0.31674513, ..., 0.30266602, 0.30266602,\n",
       "       0.30266602])>"
      ]
     },
     "execution_count": 8,
     "metadata": {},
     "output_type": "execute_result"
    }
   ],
   "source": [
    "TFG.scalar_field()"
   ]
  },
  {
   "cell_type": "code",
   "execution_count": null,
   "metadata": {
    "ExecuteTime": {
     "end_time": "2020-04-14T14:18:17.964565Z",
     "start_time": "2020-04-14T14:18:03.134Z"
    }
   },
   "outputs": [],
   "source": [
    "TFG.ref_layer_points.shape"
   ]
  },
  {
   "cell_type": "code",
   "execution_count": null,
   "metadata": {
    "ExecuteTime": {
     "end_time": "2020-04-14T14:18:17.965717Z",
     "start_time": "2020-04-14T14:18:03.153Z"
    }
   },
   "outputs": [],
   "source": [
    "TFG.dips_position_all_tiled"
   ]
  },
  {
   "cell_type": "code",
   "execution_count": null,
   "metadata": {
    "ExecuteTime": {
     "end_time": "2020-04-14T14:18:17.966666Z",
     "start_time": "2020-04-14T14:18:03.171Z"
    }
   },
   "outputs": [],
   "source": [
    "surface_points_coord = tf.Variable(surface_points_coord,dtype = tf.float64)\n",
    "\n",
    "with tf.GradientTape() as t:\n",
    "    t.watch(TFG.surface_points_all)\n",
    "    TFG = TFGraph(dips_position, dip_angles, azimuth,\n",
    "          polarity, surface_points_coord, fault_drift,\n",
    "          grid, values_properties, len_rest_form, Range,\n",
    "          C_o, nugget_effect_scalar, nugget_effect_grad,\n",
    "          rescale_factor)\n",
    "    \n",
    "grad = t.gradient(TFG.rest_layer_points,TFG.surface_points_all)"
   ]
  },
  {
   "cell_type": "code",
   "execution_count": null,
   "metadata": {
    "ExecuteTime": {
     "end_time": "2020-04-14T14:18:17.967653Z",
     "start_time": "2020-04-14T14:18:03.191Z"
    }
   },
   "outputs": [],
   "source": [
    "@tf.function\n",
    "def gravity():\n",
    "    TFG = TFGraph(dips_position, dip_angles, azimuth,\n",
    "      polarity, surface_points_coord, fault_drift,\n",
    "      grid, values_properties, len_rest_form, Range,\n",
    "      C_o, nugget_effect_scalar, nugget_effect_grad,\n",
    "      rescale_factor)\n",
    "    grid_val = TFG.x_to_interpolate(grid)"
   ]
  },
  {
   "cell_type": "code",
   "execution_count": null,
   "metadata": {
    "ExecuteTime": {
     "end_time": "2020-04-14T14:18:17.968666Z",
     "start_time": "2020-04-14T14:18:03.211Z"
    }
   },
   "outputs": [],
   "source": [
    "class Pow(tf.Module):\n",
    "    def __init__(self, exponent):\n",
    "        super(Pow, self).__init__()\n",
    "        self.exponent = tf.Variable(exponent, dtype = tf.float32, name='Pow/exponent')\n",
    "        \n",
    "    @tf.function\n",
    "    def function1(self):\n",
    "        return tf.constant(2.) ** self.exponenate\n",
    "    \n",
    "    @tf.function\n",
    "    def function2(self):\n",
    "        self.exponenate = self.exponent+1\n",
    "        return self.function1()*10"
   ]
  },
  {
   "cell_type": "code",
   "execution_count": null,
   "metadata": {
    "ExecuteTime": {
     "end_time": "2020-04-14T14:18:17.969601Z",
     "start_time": "2020-04-14T14:18:03.230Z"
    }
   },
   "outputs": [],
   "source": [
    "pow = Pow(3)"
   ]
  },
  {
   "cell_type": "code",
   "execution_count": null,
   "metadata": {
    "ExecuteTime": {
     "end_time": "2020-04-14T14:18:17.970560Z",
     "start_time": "2020-04-14T14:18:03.249Z"
    }
   },
   "outputs": [],
   "source": [
    "pow.function2()"
   ]
  },
  {
   "cell_type": "code",
   "execution_count": null,
   "metadata": {
    "ExecuteTime": {
     "end_time": "2020-04-14T14:18:17.971640Z",
     "start_time": "2020-04-14T14:18:03.271Z"
    }
   },
   "outputs": [],
   "source": [
    "pow.exponent.assign(4)\n",
    "pow.function2()"
   ]
  },
  {
   "cell_type": "code",
   "execution_count": null,
   "metadata": {
    "ExecuteTime": {
     "end_time": "2020-04-14T14:18:17.972365Z",
     "start_time": "2020-04-14T14:18:03.292Z"
    }
   },
   "outputs": [],
   "source": [
    "x_2 = tf.constant([[2,0],[0,3]])"
   ]
  },
  {
   "cell_type": "code",
   "execution_count": null,
   "metadata": {
    "ExecuteTime": {
     "end_time": "2020-04-14T14:18:17.973019Z",
     "start_time": "2020-04-14T14:18:03.314Z"
    }
   },
   "outputs": [],
   "source": [
    "tf.reshape(x_2[:, 0], [tf.shape(x_2)[0], 1])"
   ]
  },
  {
   "cell_type": "code",
   "execution_count": null,
   "metadata": {},
   "outputs": [],
   "source": []
  }
 ],
 "metadata": {
  "kernelspec": {
   "display_name": "Python 3.7.7 64-bit ('gempy': conda)",
   "language": "python",
   "name": "python37764bitgempyconda56adf421e2e348a0921383dec03a4eee"
  },
  "language_info": {
   "codemirror_mode": {
    "name": "ipython",
    "version": 3
   },
   "file_extension": ".py",
   "mimetype": "text/x-python",
   "name": "python",
   "nbconvert_exporter": "python",
   "pygments_lexer": "ipython3",
   "version": "3.7.7"
  },
  "varInspector": {
   "cols": {
    "lenName": 16,
    "lenType": 16,
    "lenVar": 40
   },
   "kernels_config": {
    "python": {
     "delete_cmd_postfix": "",
     "delete_cmd_prefix": "del ",
     "library": "var_list.py",
     "varRefreshCmd": "print(var_dic_list())"
    },
    "r": {
     "delete_cmd_postfix": ") ",
     "delete_cmd_prefix": "rm(",
     "library": "var_list.r",
     "varRefreshCmd": "cat(var_dic_list()) "
    }
   },
   "types_to_exclude": [
    "module",
    "function",
    "builtin_function_or_method",
    "instance",
    "_Feature"
   ],
   "window_display": false
  }
 },
 "nbformat": 4,
 "nbformat_minor": 4
}
