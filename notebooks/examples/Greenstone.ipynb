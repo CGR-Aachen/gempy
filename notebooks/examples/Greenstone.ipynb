{
 "cells": [
  {
   "cell_type": "code",
   "execution_count": 1,
   "metadata": {},
   "outputs": [
    {
     "name": "stderr",
     "output_type": "stream",
     "text": [
      "WARNING (theano.tensor.blas): Using NumPy C-API based implementation for BLAS functions.\n"
     ]
    },
    {
     "name": "stdout",
     "output_type": "stream",
     "text": [
      "no gdal\n"
     ]
    }
   ],
   "source": [
    "# These two lines are necessary only if gempy is not installed\n",
    "import sys, os\n",
    "sys.path.append(\"../..\")\n",
    "\n",
    "import theano\n",
    "theano.config.optimizer = 'fast_run'\n",
    "\n",
    "# Importing gempy\n",
    "import gempy as gp\n",
    "\n",
    "# Embedding matplotlib figures into the notebooks\n",
    "%matplotlib inline\n",
    "\n",
    "# Aux imports\n",
    "import numpy as np\n",
    "import matplotlib.pyplot as plt\n"
   ]
  },
  {
   "cell_type": "code",
   "execution_count": 2,
   "metadata": {},
   "outputs": [],
   "source": [
    "geo_model = gp.create_model('Greenstone')"
   ]
  },
  {
   "cell_type": "code",
   "execution_count": 4,
   "metadata": {},
   "outputs": [],
   "source": [
    "# Importing the data from csv files and settign extent and resolution\n",
    "geo_model = gp.init_data(geo_model, [696000,747000,6863000,6930000,-20000, 200],[50, 50, 50],\n",
    "                         path_o = os.pardir+\"/data/input_data/tut_SandStone/SandStone_Foliations.csv\",\n",
    "                         path_i = os.pardir+\"/data/input_data/tut_SandStone/SandStone_Points.csv\")"
   ]
  },
  {
   "cell_type": "code",
   "execution_count": 5,
   "metadata": {},
   "outputs": [
    {
     "data": {
      "text/html": [
       "<style  type=\"text/css\" >\n",
       "    #T_ec61a878_6a90_11e9_a74a_6f696d1b3c06row0_col4 {\n",
       "            background-color:  #015482;\n",
       "        }    #T_ec61a878_6a90_11e9_a74a_6f696d1b3c06row1_col4 {\n",
       "            background-color:  #9f0052;\n",
       "        }    #T_ec61a878_6a90_11e9_a74a_6f696d1b3c06row2_col4 {\n",
       "            background-color:  #ffbe00;\n",
       "        }    #T_ec61a878_6a90_11e9_a74a_6f696d1b3c06row3_col4 {\n",
       "            background-color:  #728f02;\n",
       "        }    #T_ec61a878_6a90_11e9_a74a_6f696d1b3c06row4_col4 {\n",
       "            background-color:  #443988;\n",
       "        }</style>  \n",
       "<table id=\"T_ec61a878_6a90_11e9_a74a_6f696d1b3c06\" > \n",
       "<thead>    <tr> \n",
       "        <th class=\"blank level0\" ></th> \n",
       "        <th class=\"col_heading level0 col0\" >surface</th> \n",
       "        <th class=\"col_heading level0 col1\" >series</th> \n",
       "        <th class=\"col_heading level0 col2\" >order_surfaces</th> \n",
       "        <th class=\"col_heading level0 col3\" >isBasement</th> \n",
       "        <th class=\"col_heading level0 col4\" >color</th> \n",
       "        <th class=\"col_heading level0 col5\" >id</th> \n",
       "    </tr></thead> \n",
       "<tbody>    <tr> \n",
       "        <th id=\"T_ec61a878_6a90_11e9_a74a_6f696d1b3c06level0_row0\" class=\"row_heading level0 row0\" >0</th> \n",
       "        <td id=\"T_ec61a878_6a90_11e9_a74a_6f696d1b3c06row0_col0\" class=\"data row0 col0\" >SimpleMafic2</td> \n",
       "        <td id=\"T_ec61a878_6a90_11e9_a74a_6f696d1b3c06row0_col1\" class=\"data row0 col1\" >Default series</td> \n",
       "        <td id=\"T_ec61a878_6a90_11e9_a74a_6f696d1b3c06row0_col2\" class=\"data row0 col2\" >1</td> \n",
       "        <td id=\"T_ec61a878_6a90_11e9_a74a_6f696d1b3c06row0_col3\" class=\"data row0 col3\" >False</td> \n",
       "        <td id=\"T_ec61a878_6a90_11e9_a74a_6f696d1b3c06row0_col4\" class=\"data row0 col4\" >#015482</td> \n",
       "        <td id=\"T_ec61a878_6a90_11e9_a74a_6f696d1b3c06row0_col5\" class=\"data row0 col5\" >1</td> \n",
       "    </tr>    <tr> \n",
       "        <th id=\"T_ec61a878_6a90_11e9_a74a_6f696d1b3c06level0_row1\" class=\"row_heading level0 row1\" >1</th> \n",
       "        <td id=\"T_ec61a878_6a90_11e9_a74a_6f696d1b3c06row1_col0\" class=\"data row1 col0\" >SimpleBIF</td> \n",
       "        <td id=\"T_ec61a878_6a90_11e9_a74a_6f696d1b3c06row1_col1\" class=\"data row1 col1\" >Default series</td> \n",
       "        <td id=\"T_ec61a878_6a90_11e9_a74a_6f696d1b3c06row1_col2\" class=\"data row1 col2\" >2</td> \n",
       "        <td id=\"T_ec61a878_6a90_11e9_a74a_6f696d1b3c06row1_col3\" class=\"data row1 col3\" >False</td> \n",
       "        <td id=\"T_ec61a878_6a90_11e9_a74a_6f696d1b3c06row1_col4\" class=\"data row1 col4\" >#9f0052</td> \n",
       "        <td id=\"T_ec61a878_6a90_11e9_a74a_6f696d1b3c06row1_col5\" class=\"data row1 col5\" >2</td> \n",
       "    </tr>    <tr> \n",
       "        <th id=\"T_ec61a878_6a90_11e9_a74a_6f696d1b3c06level0_row2\" class=\"row_heading level0 row2\" >2</th> \n",
       "        <td id=\"T_ec61a878_6a90_11e9_a74a_6f696d1b3c06row2_col0\" class=\"data row2 col0\" >SimpleMafic1</td> \n",
       "        <td id=\"T_ec61a878_6a90_11e9_a74a_6f696d1b3c06row2_col1\" class=\"data row2 col1\" >Default series</td> \n",
       "        <td id=\"T_ec61a878_6a90_11e9_a74a_6f696d1b3c06row2_col2\" class=\"data row2 col2\" >3</td> \n",
       "        <td id=\"T_ec61a878_6a90_11e9_a74a_6f696d1b3c06row2_col3\" class=\"data row2 col3\" >False</td> \n",
       "        <td id=\"T_ec61a878_6a90_11e9_a74a_6f696d1b3c06row2_col4\" class=\"data row2 col4\" >#ffbe00</td> \n",
       "        <td id=\"T_ec61a878_6a90_11e9_a74a_6f696d1b3c06row2_col5\" class=\"data row2 col5\" >3</td> \n",
       "    </tr>    <tr> \n",
       "        <th id=\"T_ec61a878_6a90_11e9_a74a_6f696d1b3c06level0_row3\" class=\"row_heading level0 row3\" >3</th> \n",
       "        <td id=\"T_ec61a878_6a90_11e9_a74a_6f696d1b3c06row3_col0\" class=\"data row3 col0\" >EarlyGranite</td> \n",
       "        <td id=\"T_ec61a878_6a90_11e9_a74a_6f696d1b3c06row3_col1\" class=\"data row3 col1\" >Default series</td> \n",
       "        <td id=\"T_ec61a878_6a90_11e9_a74a_6f696d1b3c06row3_col2\" class=\"data row3 col2\" >4</td> \n",
       "        <td id=\"T_ec61a878_6a90_11e9_a74a_6f696d1b3c06row3_col3\" class=\"data row3 col3\" >False</td> \n",
       "        <td id=\"T_ec61a878_6a90_11e9_a74a_6f696d1b3c06row3_col4\" class=\"data row3 col4\" >#728f02</td> \n",
       "        <td id=\"T_ec61a878_6a90_11e9_a74a_6f696d1b3c06row3_col5\" class=\"data row3 col5\" >4</td> \n",
       "    </tr>    <tr> \n",
       "        <th id=\"T_ec61a878_6a90_11e9_a74a_6f696d1b3c06level0_row4\" class=\"row_heading level0 row4\" >4</th> \n",
       "        <td id=\"T_ec61a878_6a90_11e9_a74a_6f696d1b3c06row4_col0\" class=\"data row4 col0\" >basement</td> \n",
       "        <td id=\"T_ec61a878_6a90_11e9_a74a_6f696d1b3c06row4_col1\" class=\"data row4 col1\" >Basement</td> \n",
       "        <td id=\"T_ec61a878_6a90_11e9_a74a_6f696d1b3c06row4_col2\" class=\"data row4 col2\" >1</td> \n",
       "        <td id=\"T_ec61a878_6a90_11e9_a74a_6f696d1b3c06row4_col3\" class=\"data row4 col3\" >True</td> \n",
       "        <td id=\"T_ec61a878_6a90_11e9_a74a_6f696d1b3c06row4_col4\" class=\"data row4 col4\" >#443988</td> \n",
       "        <td id=\"T_ec61a878_6a90_11e9_a74a_6f696d1b3c06row4_col5\" class=\"data row4 col5\" >5</td> \n",
       "    </tr></tbody> \n",
       "</table> "
      ],
      "text/plain": [
       "        surface          series  order_surfaces  isBasement    color vertices edges  id\n",
       "0  SimpleMafic2  Default series               1       False  #015482      NaN   NaN   1\n",
       "1     SimpleBIF  Default series               2       False  #9f0052      NaN   NaN   2\n",
       "2  SimpleMafic1  Default series               3       False  #ffbe00      NaN   NaN   3\n",
       "3  EarlyGranite  Default series               4       False  #728f02      NaN   NaN   4\n",
       "4      basement        Basement               1        True  #443988      NaN   NaN   5"
      ]
     },
     "execution_count": 5,
     "metadata": {},
     "output_type": "execute_result"
    }
   ],
   "source": [
    "geo_model.surfaces"
   ]
  },
  {
   "cell_type": "code",
   "execution_count": 6,
   "metadata": {
    "scrolled": false
   },
   "outputs": [
    {
     "data": {
      "text/plain": [
       "<gempy.plot.visualization_2d.PlotData2D at 0x7f0f36358f98>"
      ]
     },
     "execution_count": 6,
     "metadata": {},
     "output_type": "execute_result"
    },
    {
     "data": {
      "image/png": "[encoded data removed]",
      "text/plain": [
       "<Figure size 274.03x360 with 1 Axes>"
      ]
     },
     "metadata": {},
     "output_type": "display_data"
    }
   ],
   "source": [
    "gp.plot.plot_data(geo_model, direction='z')"
   ]
  },
  {
   "cell_type": "code",
   "execution_count": 7,
   "metadata": {},
   "outputs": [
    {
     "data": {
      "image/png": "[encoded data removed]",
      "text/plain": [
       "<Figure size 748.8x514.8 with 1 Axes>"
      ]
     },
     "execution_count": 7,
     "metadata": {},
     "output_type": "execute_result"
    }
   ],
   "source": [
    "gp.map_series_to_surfaces(geo_model, {\"EarlyGranite_Series\": 'EarlyGranite', \n",
    "                         \"BIF_Series\":('SimpleMafic2', 'SimpleBIF'),\n",
    "                          \"SimpleMafic_Series\":'SimpleMafic1', 'Basement':'basement'})"
   ]
  },
  {
   "cell_type": "code",
   "execution_count": 8,
   "metadata": {},
   "outputs": [
    {
     "data": {
      "text/html": [
       "<style  type=\"text/css\" >\n",
       "    #T_ee723ace_6a90_11e9_a74a_6f696d1b3c06row0_col4 {\n",
       "            background-color:  #728f02;\n",
       "        }    #T_ee723ace_6a90_11e9_a74a_6f696d1b3c06row1_col4 {\n",
       "            background-color:  #015482;\n",
       "        }    #T_ee723ace_6a90_11e9_a74a_6f696d1b3c06row2_col4 {\n",
       "            background-color:  #9f0052;\n",
       "        }    #T_ee723ace_6a90_11e9_a74a_6f696d1b3c06row3_col4 {\n",
       "            background-color:  #ffbe00;\n",
       "        }    #T_ee723ace_6a90_11e9_a74a_6f696d1b3c06row4_col4 {\n",
       "            background-color:  #443988;\n",
       "        }</style>  \n",
       "<table id=\"T_ee723ace_6a90_11e9_a74a_6f696d1b3c06\" > \n",
       "<thead>    <tr> \n",
       "        <th class=\"blank level0\" ></th> \n",
       "        <th class=\"col_heading level0 col0\" >surface</th> \n",
       "        <th class=\"col_heading level0 col1\" >series</th> \n",
       "        <th class=\"col_heading level0 col2\" >order_surfaces</th> \n",
       "        <th class=\"col_heading level0 col3\" >isBasement</th> \n",
       "        <th class=\"col_heading level0 col4\" >color</th> \n",
       "        <th class=\"col_heading level0 col5\" >id</th> \n",
       "        <th class=\"col_heading level0 col6\" >value_0</th> \n",
       "    </tr></thead> \n",
       "<tbody>    <tr> \n",
       "        <th id=\"T_ee723ace_6a90_11e9_a74a_6f696d1b3c06level0_row0\" class=\"row_heading level0 row0\" >3</th> \n",
       "        <td id=\"T_ee723ace_6a90_11e9_a74a_6f696d1b3c06row0_col0\" class=\"data row0 col0\" >EarlyGranite</td> \n",
       "        <td id=\"T_ee723ace_6a90_11e9_a74a_6f696d1b3c06row0_col1\" class=\"data row0 col1\" >EarlyGranite_Series</td> \n",
       "        <td id=\"T_ee723ace_6a90_11e9_a74a_6f696d1b3c06row0_col2\" class=\"data row0 col2\" >1</td> \n",
       "        <td id=\"T_ee723ace_6a90_11e9_a74a_6f696d1b3c06row0_col3\" class=\"data row0 col3\" >False</td> \n",
       "        <td id=\"T_ee723ace_6a90_11e9_a74a_6f696d1b3c06row0_col4\" class=\"data row0 col4\" >#728f02</td> \n",
       "        <td id=\"T_ee723ace_6a90_11e9_a74a_6f696d1b3c06row0_col5\" class=\"data row0 col5\" >1</td> \n",
       "        <td id=\"T_ee723ace_6a90_11e9_a74a_6f696d1b3c06row0_col6\" class=\"data row0 col6\" >2.61</td> \n",
       "    </tr>    <tr> \n",
       "        <th id=\"T_ee723ace_6a90_11e9_a74a_6f696d1b3c06level0_row1\" class=\"row_heading level0 row1\" >0</th> \n",
       "        <td id=\"T_ee723ace_6a90_11e9_a74a_6f696d1b3c06row1_col0\" class=\"data row1 col0\" >SimpleMafic2</td> \n",
       "        <td id=\"T_ee723ace_6a90_11e9_a74a_6f696d1b3c06row1_col1\" class=\"data row1 col1\" >BIF_Series</td> \n",
       "        <td id=\"T_ee723ace_6a90_11e9_a74a_6f696d1b3c06row1_col2\" class=\"data row1 col2\" >1</td> \n",
       "        <td id=\"T_ee723ace_6a90_11e9_a74a_6f696d1b3c06row1_col3\" class=\"data row1 col3\" >False</td> \n",
       "        <td id=\"T_ee723ace_6a90_11e9_a74a_6f696d1b3c06row1_col4\" class=\"data row1 col4\" >#015482</td> \n",
       "        <td id=\"T_ee723ace_6a90_11e9_a74a_6f696d1b3c06row1_col5\" class=\"data row1 col5\" >2</td> \n",
       "        <td id=\"T_ee723ace_6a90_11e9_a74a_6f696d1b3c06row1_col6\" class=\"data row1 col6\" >2.92</td> \n",
       "    </tr>    <tr> \n",
       "        <th id=\"T_ee723ace_6a90_11e9_a74a_6f696d1b3c06level0_row2\" class=\"row_heading level0 row2\" >1</th> \n",
       "        <td id=\"T_ee723ace_6a90_11e9_a74a_6f696d1b3c06row2_col0\" class=\"data row2 col0\" >SimpleBIF</td> \n",
       "        <td id=\"T_ee723ace_6a90_11e9_a74a_6f696d1b3c06row2_col1\" class=\"data row2 col1\" >BIF_Series</td> \n",
       "        <td id=\"T_ee723ace_6a90_11e9_a74a_6f696d1b3c06row2_col2\" class=\"data row2 col2\" >2</td> \n",
       "        <td id=\"T_ee723ace_6a90_11e9_a74a_6f696d1b3c06row2_col3\" class=\"data row2 col3\" >False</td> \n",
       "        <td id=\"T_ee723ace_6a90_11e9_a74a_6f696d1b3c06row2_col4\" class=\"data row2 col4\" >#9f0052</td> \n",
       "        <td id=\"T_ee723ace_6a90_11e9_a74a_6f696d1b3c06row2_col5\" class=\"data row2 col5\" >3</td> \n",
       "        <td id=\"T_ee723ace_6a90_11e9_a74a_6f696d1b3c06row2_col6\" class=\"data row2 col6\" >3.1</td> \n",
       "    </tr>    <tr> \n",
       "        <th id=\"T_ee723ace_6a90_11e9_a74a_6f696d1b3c06level0_row3\" class=\"row_heading level0 row3\" >2</th> \n",
       "        <td id=\"T_ee723ace_6a90_11e9_a74a_6f696d1b3c06row3_col0\" class=\"data row3 col0\" >SimpleMafic1</td> \n",
       "        <td id=\"T_ee723ace_6a90_11e9_a74a_6f696d1b3c06row3_col1\" class=\"data row3 col1\" >SimpleMafic_Series</td> \n",
       "        <td id=\"T_ee723ace_6a90_11e9_a74a_6f696d1b3c06row3_col2\" class=\"data row3 col2\" >1</td> \n",
       "        <td id=\"T_ee723ace_6a90_11e9_a74a_6f696d1b3c06row3_col3\" class=\"data row3 col3\" >False</td> \n",
       "        <td id=\"T_ee723ace_6a90_11e9_a74a_6f696d1b3c06row3_col4\" class=\"data row3 col4\" >#ffbe00</td> \n",
       "        <td id=\"T_ee723ace_6a90_11e9_a74a_6f696d1b3c06row3_col5\" class=\"data row3 col5\" >4</td> \n",
       "        <td id=\"T_ee723ace_6a90_11e9_a74a_6f696d1b3c06row3_col6\" class=\"data row3 col6\" >2.92</td> \n",
       "    </tr>    <tr> \n",
       "        <th id=\"T_ee723ace_6a90_11e9_a74a_6f696d1b3c06level0_row4\" class=\"row_heading level0 row4\" >4</th> \n",
       "        <td id=\"T_ee723ace_6a90_11e9_a74a_6f696d1b3c06row4_col0\" class=\"data row4 col0\" >basement</td> \n",
       "        <td id=\"T_ee723ace_6a90_11e9_a74a_6f696d1b3c06row4_col1\" class=\"data row4 col1\" >Basement</td> \n",
       "        <td id=\"T_ee723ace_6a90_11e9_a74a_6f696d1b3c06row4_col2\" class=\"data row4 col2\" >1</td> \n",
       "        <td id=\"T_ee723ace_6a90_11e9_a74a_6f696d1b3c06row4_col3\" class=\"data row4 col3\" >True</td> \n",
       "        <td id=\"T_ee723ace_6a90_11e9_a74a_6f696d1b3c06row4_col4\" class=\"data row4 col4\" >#443988</td> \n",
       "        <td id=\"T_ee723ace_6a90_11e9_a74a_6f696d1b3c06row4_col5\" class=\"data row4 col5\" >5</td> \n",
       "        <td id=\"T_ee723ace_6a90_11e9_a74a_6f696d1b3c06row4_col6\" class=\"data row4 col6\" >2.61</td> \n",
       "    </tr></tbody> \n",
       "</table> "
      ],
      "text/plain": [
       "        surface               series  order_surfaces  isBasement    color vertices edges  id  value_0\n",
       "3  EarlyGranite  EarlyGranite_Series               1       False  #728f02      NaN   NaN   1     2.61\n",
       "0  SimpleMafic2           BIF_Series               1       False  #015482      NaN   NaN   2     2.92\n",
       "1     SimpleBIF           BIF_Series               2       False  #9f0052      NaN   NaN   3     3.10\n",
       "2  SimpleMafic1   SimpleMafic_Series               1       False  #ffbe00      NaN   NaN   4     2.92\n",
       "4      basement             Basement               1        True  #443988      NaN   NaN   5     2.61"
      ]
     },
     "execution_count": 8,
     "metadata": {},
     "output_type": "execute_result"
    }
   ],
   "source": [
    "geo_model.add_surface_values([2.61,2.92,3.1,2.92,2.61])"
   ]
  },
  {
   "cell_type": "code",
   "execution_count": 9,
   "metadata": {},
   "outputs": [
    {
     "name": "stdout",
     "output_type": "stream",
     "text": [
      "Compiling theano function...\n",
      "Compilation Done!\n"
     ]
    },
    {
     "data": {
      "text/html": [
       "<table border=\"1\" class=\"dataframe\">\n",
       "  <thead>\n",
       "    <tr style=\"text-align: right;\">\n",
       "      <th></th>\n",
       "      <th>values</th>\n",
       "    </tr>\n",
       "  </thead>\n",
       "  <tbody>\n",
       "    <tr>\n",
       "      <th>dtype</th>\n",
       "      <td>float64</td>\n",
       "    </tr>\n",
       "    <tr>\n",
       "      <th>output</th>\n",
       "      <td>geology</td>\n",
       "    </tr>\n",
       "    <tr>\n",
       "      <th>theano_optimizer</th>\n",
       "      <td>fast_compile</td>\n",
       "    </tr>\n",
       "    <tr>\n",
       "      <th>device</th>\n",
       "      <td>cpu</td>\n",
       "    </tr>\n",
       "    <tr>\n",
       "      <th>verbosity</th>\n",
       "      <td>[]</td>\n",
       "    </tr>\n",
       "  </tbody>\n",
       "</table>"
      ],
      "text/plain": [
       "                        values\n",
       "dtype                  float64\n",
       "output                 geology\n",
       "theano_optimizer  fast_compile\n",
       "device                     cpu\n",
       "verbosity                   []"
      ]
     },
     "execution_count": 9,
     "metadata": {},
     "output_type": "execute_result"
    }
   ],
   "source": [
    "gp.set_interpolation_data(geo_model,\n",
    "                          compile_theano=True,\n",
    "                          theano_optimizer='fast_compile',\n",
    "                          verbose=[])"
   ]
  },
  {
   "cell_type": "code",
   "execution_count": 10,
   "metadata": {},
   "outputs": [
    {
     "data": {
      "text/plain": [
       "\n",
       "Lithology ids \n",
       "  [5. 5. 5. ... 5. 5. 5.] "
      ]
     },
     "execution_count": 10,
     "metadata": {},
     "output_type": "execute_result"
    }
   ],
   "source": [
    "gp.compute_model(geo_model, set_solutions=True)"
   ]
  },
  {
   "cell_type": "code",
   "execution_count": 11,
   "metadata": {},
   "outputs": [
    {
     "data": {
      "text/plain": [
       "<gempy.plot.visualization_2d.PlotData2D at 0x7f0f298e2550>"
      ]
     },
     "execution_count": 11,
     "metadata": {},
     "output_type": "execute_result"
    },
    {
     "data": {
      "image/png": "[encoded data removed]",
      "text/plain": [
       "<Figure size 274.03x360 with 1 Axes>"
      ]
     },
     "metadata": {},
     "output_type": "display_data"
    }
   ],
   "source": [
    "gp.plot.plot_section(geo_model, 45, direction='z', plot_data=True)"
   ]
  },
  {
   "cell_type": "code",
   "execution_count": 12,
   "metadata": {},
   "outputs": [
    {
     "data": {
      "text/plain": [
       "array([[2.61, 2.61, 2.61, ..., 2.61, 2.61, 2.61]])"
      ]
     },
     "execution_count": 12,
     "metadata": {},
     "output_type": "execute_result"
    }
   ],
   "source": [
    "geo_model.solutions.values_matrix"
   ]
  },
  {
   "cell_type": "code",
   "execution_count": 13,
   "metadata": {},
   "outputs": [
    {
     "data": {
      "text/plain": [
       "<matplotlib.colorbar.Colorbar at 0x7f0f2ff795c0>"
      ]
     },
     "execution_count": 13,
     "metadata": {},
     "output_type": "execute_result"
    },
    {
     "data": {
      "image/png": "[encoded data removed]",
      "text/plain": [
       "<Figure size 908.911x360 with 2 Axes>"
      ]
     },
     "metadata": {},
     "output_type": "display_data"
    }
   ],
   "source": [
    "gp.plot.plot_section(geo_model, 25, block = geo_model.solutions.values_matrix,  direction='y', plot_data=True,\n",
    "                    cmap='viridis', norm=None)\n",
    "\n",
    "plt.colorbar()"
   ]
  },
  {
   "cell_type": "markdown",
   "metadata": {},
   "source": [
    "### Saving the model"
   ]
  },
  {
   "cell_type": "code",
   "execution_count": 14,
   "metadata": {},
   "outputs": [
    {
     "data": {
      "text/plain": [
       "True"
      ]
     },
     "execution_count": 14,
     "metadata": {},
     "output_type": "execute_result"
    }
   ],
   "source": [
    "gp.save_model(geo_model, path=os.pardir+'/data/gempy_models')"
   ]
  },
  {
   "cell_type": "code",
   "execution_count": null,
   "metadata": {},
   "outputs": [],
   "source": [
    "geo_model.meta.project_name"
   ]
  },
  {
   "cell_type": "code",
   "execution_count": null,
   "metadata": {},
   "outputs": [],
   "source": [
    "break"
   ]
  },
  {
   "cell_type": "code",
   "execution_count": null,
   "metadata": {},
   "outputs": [],
   "source": []
  },
  {
   "cell_type": "code",
   "execution_count": null,
   "metadata": {},
   "outputs": [],
   "source": [
    "from gempy.assets.geophysics import GravityGrid"
   ]
  },
  {
   "cell_type": "code",
   "execution_count": null,
   "metadata": {},
   "outputs": [],
   "source": [
    "g = GravityGrid()"
   ]
  },
  {
   "cell_type": "code",
   "execution_count": null,
   "metadata": {},
   "outputs": [],
   "source": [
    "a,b,c = g.create_irregular_grid_kernel(resolution=[10,10,20], radio=5000)"
   ]
  },
  {
   "cell_type": "code",
   "execution_count": null,
   "metadata": {},
   "outputs": [],
   "source": [
    "g.set_irregular_grid(np.array([[720000, 6890000,50]]), a)"
   ]
  },
  {
   "cell_type": "code",
   "execution_count": null,
   "metadata": {},
   "outputs": [],
   "source": [
    "#g.values = np.empty((0,3))"
   ]
  },
  {
   "cell_type": "code",
   "execution_count": null,
   "metadata": {},
   "outputs": [],
   "source": [
    "gp.compute_model_at(g, geo_model)"
   ]
  },
  {
   "cell_type": "code",
   "execution_count": null,
   "metadata": {},
   "outputs": [],
   "source": [
    "geo_model.solutions.values_matrix.shape"
   ]
  },
  {
   "cell_type": "code",
   "execution_count": null,
   "metadata": {},
   "outputs": [],
   "source": [
    "g.values[:, 0::2]"
   ]
  },
  {
   "cell_type": "code",
   "execution_count": null,
   "metadata": {},
   "outputs": [],
   "source": [
    "%matplotlib qt5\n",
    "# This import registers the 3D projection, but is otherwise unused.\n",
    "from mpl_toolkits.mplot3d import Axes3D  # noqa: F401 unused import\n",
    "\n",
    "\n",
    "fig = plt.figure()\n",
    "ax = fig.add_subplot(111, projection='3d')\n",
    "\n",
    "ax.scatter(g.values[:, 0], g.values[:,1], g.values[:,2],\n",
    "           c = geo_model.solutions.values_matrix[0], cmap='viridis')\n",
    "# ax.scatter(a[:, 0] - b[:, 0],a[:, 1], a[:, 2], s=5)\n",
    "# ax.scatter(a[:, 0], a[:, 1] - b[:, 1], a[:, 2], s=5)\n",
    "# ax.scatter(a[:, 0] ,a[:, 1], a[:, 2] - b[:, 2], s=5)\n",
    "\n",
    "\n",
    "ax.set_xlabel('X Label')\n",
    "ax.set_ylabel('Y Label')\n",
    "ax.set_zlabel('Z Label')\n"
   ]
  },
  {
   "cell_type": "code",
   "execution_count": null,
   "metadata": {},
   "outputs": [],
   "source": [
    "geo_model.solutions.values_matrix[0].shape[0]/2"
   ]
  },
  {
   "cell_type": "code",
   "execution_count": null,
   "metadata": {},
   "outputs": [],
   "source": [
    "tz = g.set_tz_kernel(resolution=[10,10,20], radio=100)"
   ]
  },
  {
   "cell_type": "code",
   "execution_count": null,
   "metadata": {},
   "outputs": [],
   "source": [
    "tz * geo_model.solutions.values_matrix[0, :5082]"
   ]
  },
  {
   "cell_type": "code",
   "execution_count": null,
   "metadata": {},
   "outputs": [],
   "source": [
    "%matplotlib qt5\n",
    "# This import registers the 3D projection, but is otherwise unused.\n",
    "from mpl_toolkits.mplot3d import Axes3D  # noqa: F401 unused import\n",
    "\n",
    "\n",
    "fig = plt.figure()\n",
    "ax = fig.add_subplot(111, projection='3d')\n",
    "\n",
    "ax.scatter(g.values[:, 0], g.values[:,1], g.values[:,2],\n",
    "           c = tz * geo_model.solutions.values_matrix[0, :5082], cmap='viridis')\n",
    "# ax.scatter(a[:, 0] - b[:, 0],a[:, 1], a[:, 2], s=5)\n",
    "# ax.scatter(a[:, 0], a[:, 1] - b[:, 1], a[:, 2], s=5)\n",
    "# ax.scatter(a[:, 0] ,a[:, 1], a[:, 2] - b[:, 2], s=5)\n",
    "\n",
    "\n",
    "ax.set_xlabel('X Label')\n",
    "ax.set_ylabel('Y Label')\n",
    "ax.set_zlabel('Z Label')\n"
   ]
  },
  {
   "cell_type": "code",
   "execution_count": null,
   "metadata": {},
   "outputs": [],
   "source": [
    "import gempy.core.interpolator_pro as ip\n",
    "from importlib import reload\n",
    "reload(ip)"
   ]
  },
  {
   "cell_type": "code",
   "execution_count": null,
   "metadata": {},
   "outputs": [],
   "source": [
    "interp_g = ip.InterpolatorGravity(geo_model.surface_points, geo_model.orientations, geo_model.grid,\n",
    "                                  geo_model.surfaces,\n",
    "                                  geo_model.series, geo_model.faults,\n",
    "                                  geo_model.additional_data)\n",
    "                          "
   ]
  },
  {
   "cell_type": "code",
   "execution_count": null,
   "metadata": {},
   "outputs": [],
   "source": [
    "interp_g.theano_graph.tz.set_value(tz.astype('float32'))"
   ]
  },
  {
   "cell_type": "code",
   "execution_count": null,
   "metadata": {},
   "outputs": [],
   "source": [
    "import theano.tensor as T\n",
    "import theano\n",
    "T.repeat(interp_g.theano_graph.tz, 5)"
   ]
  },
  {
   "cell_type": "code",
   "execution_count": null,
   "metadata": {},
   "outputs": [],
   "source": []
  },
  {
   "cell_type": "code",
   "execution_count": null,
   "metadata": {},
   "outputs": [],
   "source": [
    "th_f2 = interp_g.compile_th_fn(pos_density=1)"
   ]
  },
  {
   "cell_type": "code",
   "execution_count": null,
   "metadata": {},
   "outputs": [],
   "source": [
    "th_f = interp_g.compile_th_fn(density= geo_model.solutions.values_matrix[0, :5082])"
   ]
  },
  {
   "cell_type": "code",
   "execution_count": null,
   "metadata": {},
   "outputs": [],
   "source": [
    "th_f2(*interp_g.get_python_input_block())"
   ]
  },
  {
   "cell_type": "code",
   "execution_count": null,
   "metadata": {},
   "outputs": [],
   "source": [
    "th_f(*interp_g.get_python_input_block())"
   ]
  },
  {
   "cell_type": "code",
   "execution_count": null,
   "metadata": {},
   "outputs": [],
   "source": [
    " geo_model.solutions.values_matrix[0, :5082]"
   ]
  },
  {
   "cell_type": "code",
   "execution_count": null,
   "metadata": {},
   "outputs": [],
   "source": []
  },
  {
   "cell_type": "code",
   "execution_count": null,
   "metadata": {},
   "outputs": [],
   "source": []
  },
  {
   "cell_type": "code",
   "execution_count": null,
   "metadata": {},
   "outputs": [],
   "source": []
  },
  {
   "cell_type": "code",
   "execution_count": null,
   "metadata": {},
   "outputs": [],
   "source": [
    "import gempy.core.interpolator_pro as ip\n",
    "from importlib import reload\n",
    "from gempy.assets.geophysics import GravityGrid\n",
    "reload(ip)"
   ]
  },
  {
   "cell_type": "code",
   "execution_count": null,
   "metadata": {},
   "outputs": [],
   "source": [
    "X = np.linspace(7.050000e+05,747000, 20)\n",
    "Y = np.linspace(6863000,6925000, 20)\n",
    "z = 300\n",
    "xyz= np.meshgrid(X, Y,z)\n",
    "xy_ravel = np.vstack(map(np.ravel, xyz)).T"
   ]
  },
  {
   "cell_type": "code",
   "execution_count": null,
   "metadata": {},
   "outputs": [],
   "source": []
  },
  {
   "cell_type": "code",
   "execution_count": null,
   "metadata": {},
   "outputs": [],
   "source": [
    "xy_ravel.shape"
   ]
  },
  {
   "cell_type": "code",
   "execution_count": null,
   "metadata": {},
   "outputs": [],
   "source": [
    "g2 = GravityGrid()"
   ]
  },
  {
   "cell_type": "code",
   "execution_count": null,
   "metadata": {},
   "outputs": [],
   "source": [
    "g2.set_irregular_grid(xy_ravel, resolution = [5,5, 15], radio=5000)"
   ]
  },
  {
   "cell_type": "code",
   "execution_count": null,
   "metadata": {
    "scrolled": true
   },
   "outputs": [],
   "source": [
    "g2.set_tz_kernel( resolution = [5,5, 15], radio=5000)"
   ]
  },
  {
   "cell_type": "code",
   "execution_count": null,
   "metadata": {},
   "outputs": [],
   "source": [
    "geo_model.set_grid_object(g2)"
   ]
  },
  {
   "cell_type": "code",
   "execution_count": null,
   "metadata": {},
   "outputs": [],
   "source": [
    "interp_g2 = ip.InterpolatorGravity(geo_model.surface_points, geo_model.orientations, geo_model.grid,\n",
    "                                  geo_model.surfaces,\n",
    "                                  geo_model.series, geo_model.faults,\n",
    "                                  geo_model.additional_data)"
   ]
  },
  {
   "cell_type": "code",
   "execution_count": null,
   "metadata": {},
   "outputs": [],
   "source": [
    "interp_g2.theano_graph.tz.set_value(g2.tz.astype('float32'))"
   ]
  },
  {
   "cell_type": "code",
   "execution_count": null,
   "metadata": {},
   "outputs": [],
   "source": [
    "theano.config.optimizer = 'fast_run'"
   ]
  },
  {
   "cell_type": "code",
   "execution_count": null,
   "metadata": {},
   "outputs": [],
   "source": [
    "th_f2 = interp_g2.compile_th_fn(pos_density=1)"
   ]
  },
  {
   "cell_type": "code",
   "execution_count": null,
   "metadata": {},
   "outputs": [],
   "source": [
    "a = th_f2(*interp_g2.get_python_input_block())"
   ]
  },
  {
   "cell_type": "code",
   "execution_count": null,
   "metadata": {},
   "outputs": [],
   "source": [
    "a.reshape(400, -1).sum(axis=1).reshape(20,20)"
   ]
  },
  {
   "cell_type": "code",
   "execution_count": null,
   "metadata": {},
   "outputs": [],
   "source": [
    "plt.imshow(a.reshape(400, -1).sum(axis=1).reshape(20,20), cmap='viridis_r', origin='bottom')"
   ]
  },
  {
   "cell_type": "code",
   "execution_count": null,
   "metadata": {},
   "outputs": [],
   "source": [
    "g2.length"
   ]
  },
  {
   "cell_type": "code",
   "execution_count": null,
   "metadata": {},
   "outputs": [],
   "source": [
    "plt.imshow(a.reshape(400, -1).sum(axis=1).reshape(20,20), cmap='viridis_r', origin='bottom')"
   ]
  },
  {
   "cell_type": "code",
   "execution_count": null,
   "metadata": {},
   "outputs": [],
   "source": []
  },
  {
   "cell_type": "code",
   "execution_count": null,
   "metadata": {},
   "outputs": [],
   "source": []
  },
  {
   "cell_type": "code",
   "execution_count": null,
   "metadata": {},
   "outputs": [],
   "source": [
    " interp_g2.theano_graph.compute_series()[0][1, :- 2 * interp_g2.theano_graph.len_points]"
   ]
  },
  {
   "cell_type": "code",
   "execution_count": null,
   "metadata": {},
   "outputs": [],
   "source": [
    "geo_model.rescaling.df"
   ]
  },
  {
   "cell_type": "code",
   "execution_count": null,
   "metadata": {},
   "outputs": [],
   "source": [
    "geo_model.rescaling.rescale_grid(interp_g2.grid.values)"
   ]
  },
  {
   "cell_type": "code",
   "execution_count": null,
   "metadata": {},
   "outputs": [],
   "source": []
  },
  {
   "cell_type": "code",
   "execution_count": null,
   "metadata": {},
   "outputs": [],
   "source": [
    "interp_g2.grid.values"
   ]
  },
  {
   "cell_type": "code",
   "execution_count": null,
   "metadata": {},
   "outputs": [],
   "source": [
    "th3 = theano.function(interp_g2.theano_graph.input_parameters_loop,\n",
    "                       interp_g2.theano_graph.compute_series()[0],\n",
    "             #   interp_g2.theano_graph.compute_forward_gravity( interp_g2.theano_graph.compute_series()[0][1, :- 2 * interp_g2.theano_graph.len_points]),\n",
    "                     on_unused_input = 'ignore')"
   ]
  },
  {
   "cell_type": "code",
   "execution_count": null,
   "metadata": {},
   "outputs": [],
   "source": [
    "interp_g2.get_python_input_block()"
   ]
  },
  {
   "cell_type": "code",
   "execution_count": null,
   "metadata": {
    "scrolled": false
   },
   "outputs": [],
   "source": [
    "th3(*interp_g2.get_python_input_block())"
   ]
  },
  {
   "cell_type": "code",
   "execution_count": null,
   "metadata": {},
   "outputs": [],
   "source": [
    "interp_g2.theano_graph.tz.get_value()"
   ]
  },
  {
   "cell_type": "code",
   "execution_count": null,
   "metadata": {
    "scrolled": true
   },
   "outputs": [],
   "source": [
    "a = th_f2(*interp_g2.get_python_input_block())"
   ]
  },
  {
   "cell_type": "code",
   "execution_count": null,
   "metadata": {},
   "outputs": [],
   "source": [
    "a = th_f2(*interp_g2.get_python_input_block())\n",
    "plt.imshow(a.reshape(20,20), cmap='viridis')"
   ]
  },
  {
   "cell_type": "code",
   "execution_count": null,
   "metadata": {},
   "outputs": [],
   "source": [
    "a = Out[54]"
   ]
  },
  {
   "cell_type": "code",
   "execution_count": null,
   "metadata": {},
   "outputs": [],
   "source": [
    "a.shape"
   ]
  },
  {
   "cell_type": "code",
   "execution_count": null,
   "metadata": {},
   "outputs": [],
   "source": []
  }
 ],
 "metadata": {
  "kernelspec": {
   "display_name": "Python 3",
   "language": "python",
   "name": "python3"
  },
  "language_info": {
   "codemirror_mode": {
    "name": "ipython",
    "version": 3
   },
   "file_extension": ".py",
   "mimetype": "text/x-python",
   "name": "python",
   "nbconvert_exporter": "python",
   "pygments_lexer": "ipython3",
   "version": "3.6.8"
  }
 },
 "nbformat": 4,
 "nbformat_minor": 2
}
