{
 "cells": [
  {
   "cell_type": "markdown",
   "metadata": {},
   "source": [
    "# Chapter 2: Taking a look at GemPy's core\n",
    "***\n",
    "In Chapter 1, we presented the general workflow of modeling with GemPy. That alone is sufficient to succesfully generate complex geological models. We now go deeper into the theory and the methods that GemPy is based on. \n",
    "\n",
    "This chapter is based on the theoretical elaborations presented in the paper \"GemPy 1.0: open-source stochastic geological modeling and inversion\" by De la Varga et al. (2018).\n",
    "***\n",
    "\n",
    "## Geological modeling with GemPy\n",
    "\n",
    "## The scalar-field method\n",
    "\n",
    "## From scalar field to geological block model\n",
    "\n",
    "## Combining scalar fields: Sequential series and faults\n"
   ]
  },
  {
   "cell_type": "code",
   "execution_count": null,
   "metadata": {
    "collapsed": true
   },
   "outputs": [],
   "source": []
  }
 ],
 "metadata": {
  "kernelspec": {
   "display_name": "Python 3",
   "language": "python",
   "name": "python3"
  },
  "language_info": {
   "codemirror_mode": {
    "name": "ipython",
    "version": 3
   },
   "file_extension": ".py",
   "mimetype": "text/x-python",
   "name": "python",
   "nbconvert_exporter": "python",
   "pygments_lexer": "ipython3",
   "version": "3.5.3"
  }
 },
 "nbformat": 4,
 "nbformat_minor": 2
}
