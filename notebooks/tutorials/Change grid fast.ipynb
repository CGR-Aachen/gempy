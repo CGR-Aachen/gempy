{
 "cells": [
  {
   "cell_type": "code",
   "execution_count": 1,
   "metadata": {},
   "outputs": [
    {
     "name": "stderr",
     "output_type": "stream",
     "text": [
      "WARNING (theano.tensor.blas): Using NumPy C-API based implementation for BLAS functions.\n"
     ]
    }
   ],
   "source": [
    "# Task for the 15th of December, 2017\n",
    "\n",
    "\n",
    "\n",
    "# These two lines are necessary only if gempy is not installed\n",
    "import sys, os\n",
    "sys.path.append(\"../..\")\n",
    "\n",
    "import gempy as gp\n",
    "%matplotlib inline\n",
    "\n",
    "import numpy as np\n",
    "import pandas as pn\n",
    "import matplotlib.pyplot as plt\n",
    "plt.style.use('seaborn')\n",
    "\n",
    "# Imports of libraries needed in the following code\n",
    "\n",
    "from mpl_toolkits.mplot3d import Axes3D\n",
    "import itertools\n",
    "from scipy.spatial import ConvexHull"
   ]
  },
  {
   "cell_type": "code",
   "execution_count": 3,
   "metadata": {},
   "outputs": [],
   "source": [
    "# However as we increase the resolution the model looks better and better! This I guess it is the marching cube error\n",
    "new_grid = gp.GridClass()\n",
    "res = 40"
   ]
  },
  {
   "cell_type": "code",
   "execution_count": 5,
   "metadata": {},
   "outputs": [
    {
     "data": {
      "text/plain": [
       "array([[2, 3, 4]])"
      ]
     },
     "execution_count": 5,
     "metadata": {},
     "output_type": "execute_result"
    }
   ],
   "source": [
    "new_grid.create_custom_grid(np.array([[2,3,4]]))"
   ]
  },
  {
   "cell_type": "code",
   "execution_count": 7,
   "metadata": {},
   "outputs": [
    {
     "name": "stderr",
     "output_type": "stream",
     "text": [
      "../../gempy/data_management.py:61: UserWarning: path_f is deprecated use instead path_o\n",
      "  warnings.warn('path_f is deprecated use instead path_o')\n"
     ]
    }
   ],
   "source": [
    "# Importing the data from csv files and settign extent and resolution\n",
    "geo_data = gp.create_data([0,2000,0,2000,-2000,0],[ 60,60,60],\n",
    "                         path_f = os.pardir+\"/input_data/FabLessPoints_Foliations.csv\",\n",
    "                         path_i = os.pardir+\"/input_data/FabLessPoints_Points.csv\")"
   ]
  },
  {
   "cell_type": "code",
   "execution_count": 8,
   "metadata": {},
   "outputs": [],
   "source": [
    "# Assigning series to formations as well as their order (timewise)\n",
    "gp.set_series(geo_data, {\"fault\":'MainFault', \n",
    "                      \"Rest\": ('SecondaryReservoir','Seal', 'Reservoir', 'Overlying')},\n",
    "                       order_series = [\"fault\", 'Rest'],\n",
    "                       order_formations=['MainFault', \n",
    "                                         'SecondaryReservoir', 'Seal','Reservoir', 'Overlying',\n",
    "                                         ]) \n"
   ]
  },
  {
   "cell_type": "code",
   "execution_count": 9,
   "metadata": {},
   "outputs": [
    {
     "name": "stdout",
     "output_type": "stream",
     "text": [
      "Compiling theano function...\n",
      "Compilation Done!\n",
      "Level of Optimization:  fast_compile\n",
      "Device:  cpu\n",
      "Precision:  float64\n",
      "Number of faults:  1\n"
     ]
    }
   ],
   "source": [
    "import theano.tensor as T\n",
    "import theano\n",
    "interp_data = gp.InterpolatorData(geo_data, u_grade=[1],\n",
    "                                  output='geology', dtype='float64',\n",
    "                                   verbose=['scalar_field_iter', 'block_series'],\n",
    "                                  compile_theano=True)"
   ]
  },
  {
   "cell_type": "code",
   "execution_count": 12,
   "metadata": {},
   "outputs": [
    {
     "data": {
      "text/plain": [
       "array([[0.20574102564102564, 0.24445897435897435, 0.7575358974358974]], dtype=object)"
      ]
     },
     "execution_count": 12,
     "metadata": {},
     "output_type": "execute_result"
    }
   ],
   "source": [
    "(new_grid.values  - interp_data.centers.as_matrix()) / interp_data.rescaling_factor + 0.5001"
   ]
  },
  {
   "cell_type": "code",
   "execution_count": 13,
   "metadata": {},
   "outputs": [
    {
     "ename": "NameError",
     "evalue": "name 'depth_grid_res' is not defined",
     "traceback": [
      "\u001b[0;31m---------------------------------------------------------------------------\u001b[0m",
      "\u001b[0;31mNameError\u001b[0m                                 Traceback (most recent call last)",
      "\u001b[0;32m<ipython-input-13-1305283b3d12>\u001b[0m in \u001b[0;36m<module>\u001b[0;34m()\u001b[0m\n\u001b[0;32m----> 1\u001b[0;31m x_to_interpolate = np.vstack((depth_grid_res,\n\u001b[0m\u001b[1;32m      2\u001b[0m                               \u001b[0minterp_data\u001b[0m\u001b[0;34m.\u001b[0m\u001b[0minterpolator\u001b[0m\u001b[0;34m.\u001b[0m\u001b[0mpandas_rest_layer_points\u001b[0m\u001b[0;34m[\u001b[0m\u001b[0;34m[\u001b[0m\u001b[0;34m'X'\u001b[0m\u001b[0;34m,\u001b[0m \u001b[0;34m'Y'\u001b[0m\u001b[0;34m,\u001b[0m \u001b[0;34m'Z'\u001b[0m\u001b[0;34m]\u001b[0m\u001b[0;34m]\u001b[0m\u001b[0;34m.\u001b[0m\u001b[0mas_matrix\u001b[0m\u001b[0;34m(\u001b[0m\u001b[0;34m)\u001b[0m\u001b[0;34m,\u001b[0m\u001b[0;34m\u001b[0m\u001b[0m\n\u001b[1;32m      3\u001b[0m                               interp_data.interpolator.pandas_ref_layer_points_rep[['X', 'Y', 'Z']].as_matrix()))\n",
      "\u001b[0;31mNameError\u001b[0m: name 'depth_grid_res' is not defined"
     ],
     "output_type": "error"
    }
   ],
   "source": [
    "x_to_interpolate = np.vstack((depth_grid_res,\n",
    "                              interp_data.interpolator.pandas_rest_layer_points[['X', 'Y', 'Z']].as_matrix(),\n",
    "                              interp_data.interpolator.pandas_ref_layer_points_rep[['X', 'Y', 'Z']].as_matrix()))"
   ]
  },
  {
   "cell_type": "code",
   "execution_count": null,
   "metadata": {},
   "outputs": [],
   "source": [
    "# Creating the drift matrix.\n",
    "universal_matrix = np.vstack((x_to_interpolate.T,\n",
    "                             (x_to_interpolate ** 2).T,\n",
    "                              x_to_interpolate[:, 0] * x_to_interpolate[:, 1],\n",
    "                              x_to_interpolate[:, 0] * x_to_interpolate[:, 2],\n",
    "                              x_to_interpolate[:, 1] * x_to_interpolate[:, 2],\n",
    "                              ))\n",
    "\n",
    "interp_data.interpolator.tg.grid_val_T.set_value(np.cast['float32'](x_to_interpolate + 10e-9))\n",
    "\n",
    "            # Universal grid\n",
    "interp_data.interpolator.tg.universal_grid_matrix_T.set_value(np.cast['float32'](universal_matrix + 1e-10))"
   ]
  },
  {
   "cell_type": "code",
   "execution_count": 14,
   "metadata": {},
   "outputs": [
    {
     "data": {
      "text/plain": [
       "'float64'"
      ]
     },
     "execution_count": 14,
     "metadata": {},
     "output_type": "execute_result"
    }
   ],
   "source": [
    "interp_data.interpolator.dtype"
   ]
  },
  {
   "cell_type": "code",
   "execution_count": null,
   "metadata": {},
   "outputs": [],
   "source": []
  },
  {
   "cell_type": "code",
   "execution_count": null,
   "metadata": {},
   "outputs": [],
   "source": []
  },
  {
   "cell_type": "code",
   "execution_count": null,
   "metadata": {},
   "outputs": [],
   "source": []
  },
  {
   "cell_type": "code",
   "execution_count": null,
   "metadata": {},
   "outputs": [],
   "source": []
  },
  {
   "cell_type": "code",
   "execution_count": null,
   "metadata": {},
   "outputs": [],
   "source": [
    "\n",
    "\n",
    "# calculate centroids of voxels in domain \n",
    "centroids, dividex, dividey, dividez = computeCentroids(xdown, xup, ydown, yup, zdown, zup, res)\n",
    "\n",
    "# Create a new grid object with the new resolution\n",
    "new_grid.create_regular_grid_3d([xdown,xup,ydown,yup,zdown,zup],[res, res, res])\n",
    "\n",
    "# Setting the new grid to the geodata\n",
    "gp.set_grid(geo_data, new_grid)\n",
    "\n",
    "# Update the interp_data\n",
    "interp_data.update_interpolator(geo_data)\n",
    "\n",
    "# Recomputiong\n",
    "lith, fault = gp.compute_model(interp_data)\n",
    "\n",
    "ver_s, sim_s = gp.get_surfaces(interp_data,lith[1], None, original_scale=True)\n"
   ]
  }
 ],
 "metadata": {
  "kernelspec": {
   "display_name": "Python 3",
   "language": "python",
   "name": "python3"
  },
  "language_info": {
   "codemirror_mode": {
    "name": "ipython",
    "version": 3
   },
   "file_extension": ".py",
   "mimetype": "text/x-python",
   "name": "python",
   "nbconvert_exporter": "python",
   "pygments_lexer": "ipython3",
   "version": "3.6.3"
  },
  "latex_envs": {
   "LaTeX_envs_menu_present": true,
   "autocomplete": true,
   "bibliofile": "biblio.bib",
   "cite_by": "apalike",
   "current_citInitial": 1.0,
   "eqLabelWithNumbers": true,
   "eqNumInitial": 1.0,
   "hotkeys": {
    "equation": "Ctrl-E",
    "itemize": "Ctrl-I"
   },
   "labels_anchors": false,
   "latex_user_defs": false,
   "report_style_numbering": false,
   "user_envs_cfg": false
  },
  "toc": {
   "colors": {
    "hover_highlight": "#DAA520",
    "running_highlight": "#FF0000",
    "selected_highlight": "#FFD700"
   },
   "moveMenuLeft": true,
   "nav_menu": {
    "height": "12px",
    "width": "252px"
   },
   "navigate_menu": true,
   "number_sections": true,
   "sideBar": true,
   "threshold": 4.0,
   "toc_cell": false,
   "toc_section_display": "block",
   "toc_window_display": false,
   "widenNotebook": false
  }
 },
 "nbformat": 4,
 "nbformat_minor": 2
}
