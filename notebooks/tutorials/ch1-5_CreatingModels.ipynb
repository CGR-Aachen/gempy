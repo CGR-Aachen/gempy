{
 "cells": [
  {
   "cell_type": "markdown",
   "metadata": {},
   "source": [
    "## Chapter 1.5: Creating models from scratch\n",
    "***\n",
    "So far we have shown the basics to create geological models by importing data from an external source (in especial GeoModeller 3D). In this chapter, we will explore the option available in GemPy to create the data directly in GemPy or to modify existing one. In this respect we will delve into the pandas DataFrames that contain the necessary data.\n",
    "\n",
    "Let's start as always by importing the necessary dependencies:"
   ]
  },
  {
   "cell_type": "code",
   "execution_count": 1,
   "metadata": {},
   "outputs": [
    {
     "name": "stderr",
     "output_type": "stream",
     "text": [
      "WARNING (theano.tensor.blas): Using NumPy C-API based implementation for BLAS functions.\n"
     ]
    }
   ],
   "source": [
    "# These two lines are necessary only if gempy is not installed\n",
    "import sys, os\n",
    "sys.path.append(\"../..\")\n",
    "\n",
    "# Importing gempy\n",
    "import gempy as gp\n",
    "\n",
    "# Embedding matplotlib figures into the notebooks\n",
    "#%matplotlib inline\n",
    "\n",
    "\n",
    "# Aux imports\n",
    "import numpy as np\n",
    "import pandas as pn\n",
    "import matplotlib.pyplot as plt\n",
    "import theano\n",
    "import qgrid\n",
    "\n",
    "#%matplotlib widget\n"
   ]
  },
  {
   "cell_type": "code",
   "execution_count": 32,
   "metadata": {},
   "outputs": [
    {
     "name": "stdout",
     "output_type": "stream",
     "text": [
      "Directory already exists, files will be overwritten\n"
     ]
    },
    {
     "data": {
      "text/plain": [
       "True"
      ]
     },
     "execution_count": 32,
     "metadata": {},
     "output_type": "execute_result"
    }
   ],
   "source": [
    "gp.save_model(geo_model, 'CreateModelTuto5')"
   ]
  },
  {
   "cell_type": "code",
   "execution_count": 3,
   "metadata": {},
   "outputs": [],
   "source": [
    "if True:\n",
    "    geo_model = gp.load_model('CreateModelTuto5')\n",
    "else:\n",
    "    geo_model = gp.create_model('CreateModelTuto5')\n",
    "    gp.init_data(geo_model, [0, 1000, 0, 1000, -1000, 0], [50, 50, 50])\n",
    "    geo_model.set_default_surfaces()\n",
    "    geo_model.set_default_orientation()\n",
    "    geo_model.add_surface_points(400, 300, -500, 'surface1')\n",
    "    geo_model.add_surface_points(600, 300, -500, 'surface1')\n"
   ]
  },
  {
   "cell_type": "markdown",
   "metadata": {},
   "source": [
    "- check pickle works\n",
    "- when we set an is fault change the BottomRelation"
   ]
  },
  {
   "cell_type": "markdown",
   "metadata": {},
   "source": [
    "Some default values but to make the model a bit faster but they are not necessary:"
   ]
  },
  {
   "cell_type": "code",
   "execution_count": 4,
   "metadata": {},
   "outputs": [],
   "source": [
    "# #geo_model.add_formations(['surface1', 'basement'])\n",
    "# geo_model.set_default_formations()\n",
    "# geo_model.add_interfaces(400, 300, -500, 'surface1')\n",
    "# geo_model.add_interfaces(600, 300, -500, 'surface1')\n",
    "# #geo_model.set_default_orientation()"
   ]
  },
  {
   "cell_type": "code",
   "execution_count": 6,
   "metadata": {},
   "outputs": [
    {
     "name": "stdout",
     "output_type": "stream",
     "text": [
      "Compiling theano function...\n",
      "Compilation Done!\n"
     ]
    },
    {
     "data": {
      "text/html": [
       "<table border=\"1\" class=\"dataframe\">\n",
       "  <thead>\n",
       "    <tr style=\"text-align: right;\">\n",
       "      <th></th>\n",
       "      <th>values</th>\n",
       "    </tr>\n",
       "  </thead>\n",
       "  <tbody>\n",
       "    <tr>\n",
       "      <th>dtype</th>\n",
       "      <td>float64</td>\n",
       "    </tr>\n",
       "    <tr>\n",
       "      <th>output</th>\n",
       "      <td>geology</td>\n",
       "    </tr>\n",
       "    <tr>\n",
       "      <th>theano_optimizer</th>\n",
       "      <td>fast_compile</td>\n",
       "    </tr>\n",
       "    <tr>\n",
       "      <th>device</th>\n",
       "      <td>cpu</td>\n",
       "    </tr>\n",
       "    <tr>\n",
       "      <th>verbosity</th>\n",
       "      <td>[]</td>\n",
       "    </tr>\n",
       "  </tbody>\n",
       "</table>"
      ],
      "text/plain": [
       "                        values\n",
       "dtype                  float64\n",
       "output                 geology\n",
       "theano_optimizer  fast_compile\n",
       "device                     cpu\n",
       "verbosity                   []"
      ]
     },
     "execution_count": 6,
     "metadata": {},
     "output_type": "execute_result"
    }
   ],
   "source": [
    "gp.set_interpolation_data(geo_model,  verbose=[])"
   ]
  },
  {
   "cell_type": "code",
   "execution_count": 6,
   "metadata": {},
   "outputs": [
    {
     "data": {
      "text/html": [
       "<table border=\"1\" class=\"dataframe\">\n",
       "  <thead>\n",
       "    <tr style=\"text-align: right;\">\n",
       "      <th></th>\n",
       "      <th></th>\n",
       "      <th>values</th>\n",
       "    </tr>\n",
       "  </thead>\n",
       "  <tbody>\n",
       "    <tr>\n",
       "      <th rowspan=\"9\" valign=\"top\">Structure</th>\n",
       "      <th>isLith</th>\n",
       "      <td>True</td>\n",
       "    </tr>\n",
       "    <tr>\n",
       "      <th>isFault</th>\n",
       "      <td>False</td>\n",
       "    </tr>\n",
       "    <tr>\n",
       "      <th>number faults</th>\n",
       "      <td>0</td>\n",
       "    </tr>\n",
       "    <tr>\n",
       "      <th>number surfaces</th>\n",
       "      <td>1</td>\n",
       "    </tr>\n",
       "    <tr>\n",
       "      <th>number series</th>\n",
       "      <td>1</td>\n",
       "    </tr>\n",
       "    <tr>\n",
       "      <th>number surfaces per series</th>\n",
       "      <td>[1]</td>\n",
       "    </tr>\n",
       "    <tr>\n",
       "      <th>len surfaces surface_points</th>\n",
       "      <td>[2]</td>\n",
       "    </tr>\n",
       "    <tr>\n",
       "      <th>len series surface_points</th>\n",
       "      <td>[2]</td>\n",
       "    </tr>\n",
       "    <tr>\n",
       "      <th>len series orientations</th>\n",
       "      <td>[1]</td>\n",
       "    </tr>\n",
       "    <tr>\n",
       "      <th rowspan=\"5\" valign=\"top\">Options</th>\n",
       "      <th>dtype</th>\n",
       "      <td>float64</td>\n",
       "    </tr>\n",
       "    <tr>\n",
       "      <th>output</th>\n",
       "      <td>geology</td>\n",
       "    </tr>\n",
       "    <tr>\n",
       "      <th>theano_optimizer</th>\n",
       "      <td>fast_compile</td>\n",
       "    </tr>\n",
       "    <tr>\n",
       "      <th>device</th>\n",
       "      <td>cpu</td>\n",
       "    </tr>\n",
       "    <tr>\n",
       "      <th>verbosity</th>\n",
       "      <td>[]</td>\n",
       "    </tr>\n",
       "    <tr>\n",
       "      <th rowspan=\"5\" valign=\"top\">Kriging</th>\n",
       "      <th>range</th>\n",
       "      <td>1732.05</td>\n",
       "    </tr>\n",
       "    <tr>\n",
       "      <th>$C_o$</th>\n",
       "      <td>71428.6</td>\n",
       "    </tr>\n",
       "    <tr>\n",
       "      <th>drift equations</th>\n",
       "      <td>[3]</td>\n",
       "    </tr>\n",
       "    <tr>\n",
       "      <th>nugget grad</th>\n",
       "      <td>0.01</td>\n",
       "    </tr>\n",
       "    <tr>\n",
       "      <th>nugget scalar</th>\n",
       "      <td>1e-06</td>\n",
       "    </tr>\n",
       "    <tr>\n",
       "      <th rowspan=\"2\" valign=\"top\">Rescaling</th>\n",
       "      <th>rescaling factor</th>\n",
       "      <td>1200</td>\n",
       "    </tr>\n",
       "    <tr>\n",
       "      <th>centers</th>\n",
       "      <td>[300.000005, 150.000005, -249.999995]</td>\n",
       "    </tr>\n",
       "  </tbody>\n",
       "</table>"
      ],
      "text/plain": [
       "                                                                      values\n",
       "Structure isLith                                                        True\n",
       "          isFault                                                      False\n",
       "          number faults                                                    0\n",
       "          number surfaces                                                  1\n",
       "          number series                                                    1\n",
       "          number surfaces per series                                     [1]\n",
       "          len surfaces surface_points                                    [2]\n",
       "          len series surface_points                                      [2]\n",
       "          len series orientations                                        [1]\n",
       "Options   dtype                                                      float64\n",
       "          output                                                     geology\n",
       "          theano_optimizer                                      fast_compile\n",
       "          device                                                         cpu\n",
       "          verbosity                                                       []\n",
       "Kriging   range                                                      1732.05\n",
       "          $C_o$                                                      71428.6\n",
       "          drift equations                                                [3]\n",
       "          nugget grad                                                   0.01\n",
       "          nugget scalar                                                1e-06\n",
       "Rescaling rescaling factor                                              1200\n",
       "          centers                      [300.000005, 150.000005, -249.999995]"
      ]
     },
     "execution_count": 6,
     "metadata": {},
     "output_type": "execute_result"
    }
   ],
   "source": [
    "geo_model.additional_data"
   ]
  },
  {
   "cell_type": "code",
   "execution_count": 7,
   "metadata": {},
   "outputs": [
    {
     "data": {
      "text/html": [
       "<table border=\"1\" class=\"dataframe\">\n",
       "  <thead>\n",
       "    <tr style=\"text-align: right;\">\n",
       "      <th></th>\n",
       "      <th>order_series</th>\n",
       "      <th>BottomRelation</th>\n",
       "    </tr>\n",
       "  </thead>\n",
       "  <tbody>\n",
       "    <tr>\n",
       "      <th>Default series</th>\n",
       "      <td>1</td>\n",
       "      <td>Erosion</td>\n",
       "    </tr>\n",
       "  </tbody>\n",
       "</table>"
      ],
      "text/plain": [
       "                order_series BottomRelation\n",
       "Default series             1        Erosion"
      ]
     },
     "execution_count": 7,
     "metadata": {},
     "output_type": "execute_result"
    }
   ],
   "source": [
    "geo_model.series"
   ]
  },
  {
   "cell_type": "code",
   "execution_count": 8,
   "metadata": {},
   "outputs": [],
   "source": [
    "geo_model.additional_data.update_structure()"
   ]
  },
  {
   "cell_type": "code",
   "execution_count": 9,
   "metadata": {},
   "outputs": [],
   "source": [
    "geo_model.interpolator.set_flow_control()"
   ]
  },
  {
   "cell_type": "code",
   "execution_count": 14,
   "metadata": {},
   "outputs": [
    {
     "name": "stdout",
     "output_type": "stream",
     "text": [
      "len sereies i [0 1]\n",
      "len sereies o [0 1]\n",
      "len sereies w [0 7]\n",
      "n surfaces per series [0 1]\n",
      "n universal eq [3]\n",
      "is finite [0]\n",
      "is erosion [0]\n",
      "is onlap [0]\n"
     ]
    },
    {
     "data": {
      "text/plain": [
       "(None,)"
      ]
     },
     "execution_count": 14,
     "metadata": {},
     "output_type": "execute_result"
    }
   ],
   "source": [
    "geo_model.interpolator.print_theano_shared(), "
   ]
  },
  {
   "cell_type": "code",
   "execution_count": 15,
   "metadata": {
    "scrolled": true
   },
   "outputs": [
    {
     "data": {
      "text/plain": [
       "\n",
       "Lithology ids \n",
       "  [3. 3. 3. ... 2. 2. 2.] "
      ]
     },
     "execution_count": 15,
     "metadata": {},
     "output_type": "execute_result"
    }
   ],
   "source": [
    "gp.compute_model(geo_model, debug=False,compute_mesh=False, sort_surfaces=False)"
   ]
  },
  {
   "cell_type": "code",
   "execution_count": 24,
   "metadata": {},
   "outputs": [
    {
     "data": {
      "text/plain": [
       "array([[0, 0, 0],\n",
       "       [0, 0, 0],\n",
       "       [0, 0, 0]])"
      ]
     },
     "execution_count": 24,
     "metadata": {},
     "output_type": "execute_result"
    }
   ],
   "source": [
    "geo_model.interpolator.theano_graph.fault_relation.get_value()"
   ]
  },
  {
   "cell_type": "code",
   "execution_count": 25,
   "metadata": {},
   "outputs": [],
   "source": [
    "geo_model.set_fault_relation(np.array([[0, 1,0],\n",
    "       [0, 0, 0],\n",
    "       [0, 0, 0]]))"
   ]
  },
  {
   "cell_type": "code",
   "execution_count": 16,
   "metadata": {},
   "outputs": [
    {
     "name": "stderr",
     "output_type": "stream",
     "text": [
      "../../gempy/plot/visualization_2d.py:287: FutureWarning: Passing the block directly will get deprecated in the next version. Please use Solutionand block_type instead\n",
      "  'and block_type instead', FutureWarning)\n"
     ]
    },
    {
     "data": {
      "image/png": "[encoded data removed]",
      "text/plain": [
       "<Figure size 360x360 with 1 Axes>"
      ]
     },
     "metadata": {},
     "output_type": "display_data"
    }
   ],
   "source": [
    "import matplotlib.colors as mcolors\n",
    "import matplotlib as mpl\n",
    "\n",
    "gp.plot.plot_section(geo_model, cell_number=25, block_type=geo_model.solutions.lith_block,\n",
    "                         direction='x', plot_data=True)\n"
   ]
  },
  {
   "cell_type": "code",
   "execution_count": 8,
   "metadata": {},
   "outputs": [
    {
     "data": {
      "image/png": "[encoded data removed]",
      "text/plain": [
       "<Figure size 360x360 with 1 Axes>"
      ]
     },
     "metadata": {},
     "output_type": "display_data"
    }
   ],
   "source": [
    "gp.plot.plot_scalar_field(geo_model, 25, direction='x', series=0)"
   ]
  },
  {
   "cell_type": "code",
   "execution_count": 31,
   "metadata": {},
   "outputs": [
    {
     "data": {
      "text/plain": [
       "array([[0.87598027, 0.        ],\n",
       "       [0.        , 1.59237244]])"
      ]
     },
     "execution_count": 31,
     "metadata": {},
     "output_type": "execute_result"
    }
   ],
   "source": [
    "geo_model.solutions.scalar_field_at_surface_points"
   ]
  },
  {
   "cell_type": "code",
   "execution_count": 20,
   "metadata": {},
   "outputs": [
    {
     "data": {
      "text/plain": [
       "array([-0.23313336, -0.19980003, -0.16646669, ...,  1.33353333,\n",
       "        1.36686666,  1.4002    ])"
      ]
     },
     "execution_count": 20,
     "metadata": {},
     "output_type": "execute_result"
    }
   ],
   "source": [
    "geo_model.solutions.scalar_field_matrix[0]"
   ]
  },
  {
   "cell_type": "code",
   "execution_count": 18,
   "metadata": {},
   "outputs": [
    {
     "data": {
      "text/plain": [
       "[array([[   0.,    0., -510.],\n",
       "        [   0.,   20., -510.],\n",
       "        [  20.,    0., -510.],\n",
       "        ...,\n",
       "        [ 980.,  940., -510.],\n",
       "        [ 980.,  960., -510.],\n",
       "        [ 980.,  980., -510.]]),\n",
       " array([[    0.        ,    99.9992466 ,   -20.        ],\n",
       "        [   20.        ,   100.        ,   -20.00076294],\n",
       "        [   20.        ,    99.9992466 ,   -20.        ],\n",
       "        ...,\n",
       "        [  980.        ,   960.        ,  -981.9984436 ],\n",
       "        [  980.        ,   958.0015564 ,  -980.        ],\n",
       "        [  980.        ,   978.0015564 , -1000.        ]])]"
      ]
     },
     "execution_count": 18,
     "metadata": {},
     "output_type": "execute_result"
    }
   ],
   "source": [
    "geo_model.solutions.vertices"
   ]
  },
  {
   "cell_type": "code",
   "execution_count": 22,
   "metadata": {},
   "outputs": [
    {
     "data": {
      "text/plain": [
       "True"
      ]
     },
     "execution_count": 22,
     "metadata": {},
     "output_type": "execute_result"
    },
    {
     "data": {
      "image/png": "[encoded data removed]",
      "text/plain": [
       "<Figure size 748.8x514.8 with 1 Axes>"
      ]
     },
     "metadata": {},
     "output_type": "display_data"
    }
   ],
   "source": [
    "plt.imshow(geo_model.solutions.mask_matrix[0].reshape(50,50,50)[:, 25, :].T)\n",
    "geo_model.solutions.mask_matrix[0].reshape(50,50,50)[:, 25, :].T[0,0]"
   ]
  },
  {
   "cell_type": "code",
   "execution_count": 10,
   "metadata": {},
   "outputs": [
    {
     "name": "stdout",
     "output_type": "stream",
     "text": [
      "holding... Use vtk.resume to go back to the interactive window\n"
     ]
    }
   ],
   "source": [
    "vtk_object = gp.plot.plot_data_3D(geo_model)"
   ]
  },
  {
   "cell_type": "code",
   "execution_count": 20,
   "metadata": {},
   "outputs": [],
   "source": [
    "vtk_object.real_time = True"
   ]
  },
  {
   "cell_type": "code",
   "execution_count": 19,
   "metadata": {},
   "outputs": [
    {
     "data": {
      "text/plain": [
       "False"
      ]
     },
     "execution_count": 19,
     "metadata": {},
     "output_type": "execute_result"
    }
   ],
   "source": [
    "vtk_object.real_time"
   ]
  },
  {
   "cell_type": "code",
   "execution_count": 11,
   "metadata": {
    "scrolled": false
   },
   "outputs": [
    {
     "data": {
      "text/plain": [
       "<gempy.core.qgrid_integration.QgridModelIntegration at 0x7f7b2222dc88>"
      ]
     },
     "execution_count": 11,
     "metadata": {},
     "output_type": "execute_result"
    }
   ],
   "source": [
    "gp.activate_interactive_df(geo_model, vtk_object)"
   ]
  },
  {
   "cell_type": "markdown",
   "metadata": {},
   "source": [
    "It is important to get df with get to update the models sinde the `activate_interactive` method is called"
   ]
  },
  {
   "cell_type": "code",
   "execution_count": 12,
   "metadata": {},
   "outputs": [
    {
     "data": {
      "application/vnd.jupyter.widget-view+json": {
       "model_id": "1f57a50a49aa4814af17fa500e1a03a0",
       "version_major": 2,
       "version_minor": 0
      },
      "text/plain": [
       "QgridWidget(grid_options={'fullWidthRows': True, 'syncColumnCellResize': True, 'forceFitColumns': True, 'defau…"
      ]
     },
     "metadata": {},
     "output_type": "display_data"
    }
   ],
   "source": [
    "geo_model.qi.get('orientations')"
   ]
  },
  {
   "cell_type": "code",
   "execution_count": 13,
   "metadata": {
    "scrolled": false
   },
   "outputs": [
    {
     "data": {
      "application/vnd.jupyter.widget-view+json": {
       "model_id": "516531b41e0c417fb5d4e27963799b36",
       "version_major": 2,
       "version_minor": 0
      },
      "text/plain": [
       "QgridWidget(grid_options={'fullWidthRows': True, 'syncColumnCellResize': True, 'forceFitColumns': True, 'defau…"
      ]
     },
     "metadata": {},
     "output_type": "display_data"
    },
    {
     "name": "stdout",
     "output_type": "stream",
     "text": [
      "3\n",
      "3\n",
      "3\n",
      "3\n",
      "0\n",
      "0\n",
      "0\n",
      "3\n",
      "3\n",
      "3\n",
      "3\n",
      "0\n",
      "0\n",
      "0\n",
      "1\n",
      "1\n"
     ]
    }
   ],
   "source": [
    "geo_model.qi.get('surface_points')"
   ]
  },
  {
   "cell_type": "code",
   "execution_count": 14,
   "metadata": {},
   "outputs": [
    {
     "data": {
      "application/vnd.jupyter.widget-view+json": {
       "model_id": "bf7bb1b46fb045ed8b62a714cf1ff894",
       "version_major": 2,
       "version_minor": 0
      },
      "text/plain": [
       "QgridWidget(grid_options={'fullWidthRows': True, 'syncColumnCellResize': True, 'forceFitColumns': True, 'defau…"
      ]
     },
     "metadata": {},
     "output_type": "display_data"
    }
   ],
   "source": [
    "geo_model.qi.get('surfaces')"
   ]
  },
  {
   "cell_type": "code",
   "execution_count": 15,
   "metadata": {},
   "outputs": [
    {
     "data": {
      "text/html": [
       "<style  type=\"text/css\" >\n",
       "    #T_537e58bc_605a_11e9_a87b_ed81bb4a64bfrow0_col4 {\n",
       "            background-color:  #015482;\n",
       "        }    #T_537e58bc_605a_11e9_a87b_ed81bb4a64bfrow1_col4 {\n",
       "            background-color:  #9f0052;\n",
       "        }</style>  \n",
       "<table id=\"T_537e58bc_605a_11e9_a87b_ed81bb4a64bf\" > \n",
       "<thead>    <tr> \n",
       "        <th class=\"blank level0\" ></th> \n",
       "        <th class=\"col_heading level0 col0\" >surface</th> \n",
       "        <th class=\"col_heading level0 col1\" >series</th> \n",
       "        <th class=\"col_heading level0 col2\" >order_surfaces</th> \n",
       "        <th class=\"col_heading level0 col3\" >isBasement</th> \n",
       "        <th class=\"col_heading level0 col4\" >color</th> \n",
       "        <th class=\"col_heading level0 col5\" >id</th> \n",
       "    </tr></thead> \n",
       "<tbody>    <tr> \n",
       "        <th id=\"T_537e58bc_605a_11e9_a87b_ed81bb4a64bflevel0_row0\" class=\"row_heading level0 row0\" >0</th> \n",
       "        <td id=\"T_537e58bc_605a_11e9_a87b_ed81bb4a64bfrow0_col0\" class=\"data row0 col0\" >surface1</td> \n",
       "        <td id=\"T_537e58bc_605a_11e9_a87b_ed81bb4a64bfrow0_col1\" class=\"data row0 col1\" >Default series</td> \n",
       "        <td id=\"T_537e58bc_605a_11e9_a87b_ed81bb4a64bfrow0_col2\" class=\"data row0 col2\" >1</td> \n",
       "        <td id=\"T_537e58bc_605a_11e9_a87b_ed81bb4a64bfrow0_col3\" class=\"data row0 col3\" >False</td> \n",
       "        <td id=\"T_537e58bc_605a_11e9_a87b_ed81bb4a64bfrow0_col4\" class=\"data row0 col4\" >#015482</td> \n",
       "        <td id=\"T_537e58bc_605a_11e9_a87b_ed81bb4a64bfrow0_col5\" class=\"data row0 col5\" >1</td> \n",
       "    </tr>    <tr> \n",
       "        <th id=\"T_537e58bc_605a_11e9_a87b_ed81bb4a64bflevel0_row1\" class=\"row_heading level0 row1\" >1</th> \n",
       "        <td id=\"T_537e58bc_605a_11e9_a87b_ed81bb4a64bfrow1_col0\" class=\"data row1 col0\" >surface2</td> \n",
       "        <td id=\"T_537e58bc_605a_11e9_a87b_ed81bb4a64bfrow1_col1\" class=\"data row1 col1\" >Default series</td> \n",
       "        <td id=\"T_537e58bc_605a_11e9_a87b_ed81bb4a64bfrow1_col2\" class=\"data row1 col2\" >2</td> \n",
       "        <td id=\"T_537e58bc_605a_11e9_a87b_ed81bb4a64bfrow1_col3\" class=\"data row1 col3\" >True</td> \n",
       "        <td id=\"T_537e58bc_605a_11e9_a87b_ed81bb4a64bfrow1_col4\" class=\"data row1 col4\" >#9f0052</td> \n",
       "        <td id=\"T_537e58bc_605a_11e9_a87b_ed81bb4a64bfrow1_col5\" class=\"data row1 col5\" >2</td> \n",
       "    </tr></tbody> \n",
       "</table> "
      ],
      "text/plain": [
       "    surface          series  order_surfaces  isBasement    color  id\n",
       "0  surface1  Default series               1       False  #015482   1\n",
       "1  surface2  Default series               2        True  #9f0052   2"
      ]
     },
     "execution_count": 15,
     "metadata": {},
     "output_type": "execute_result"
    }
   ],
   "source": [
    "geo_model.surfaces"
   ]
  },
  {
   "cell_type": "code",
   "execution_count": 21,
   "metadata": {
    "scrolled": true
   },
   "outputs": [
    {
     "data": {
      "application/vnd.jupyter.widget-view+json": {
       "model_id": "3c459cb8795549eb9a91909093f0cf07",
       "version_major": 2,
       "version_minor": 0
      },
      "text/plain": [
       "QgridWidget(grid_options={'fullWidthRows': True, 'syncColumnCellResize': True, 'forceFitColumns': True, 'defau…"
      ]
     },
     "metadata": {},
     "output_type": "display_data"
    },
    {
     "name": "stdout",
     "output_type": "stream",
     "text": [
      "{'name': 'cell_edited', 'index': 1, 'column': 'order_series', 'old': 2, 'new': 1, 'source': 'gui'}\n",
      "QgridWidget(grid_options={'fullWidthRows': True, 'syncColumnCellResize': True, 'forceFitColumns': True, 'defaultColumnWidth': 150, 'rowHeight': 28, 'enableColumnReorder': False, 'enableTextSelectionOnCells': True, 'editable': True, 'autoEdit': False, 'explicitInitialization': True, 'maxVisibleRows': 15, 'minVisibleRows': 8, 'sortable': False, 'filterable': True, 'highlightSelectedCell': True, 'highlightSelectedRow': True, 'boldIndex': True}, id='3e2cc18c-da37-4d4d-a870-df44ab8fe7c2', precision=5, show_toolbar=True)\n",
      "series1\n",
      "CategoricalIndex(['Default series', 'series1', 'series2'], categories=['Default series', 'series1', 'series2'], ordered=False, dtype='category')\n",
      "CategoricalIndex(['series1', 'Default series', 'series2'], categories=['series1', 'Default series', 'series2', 'index', 'qgrid_unfiltered_index'], ordered=False, dtype='category')\n"
     ]
    }
   ],
   "source": [
    "geo_model.qi.get('series')"
   ]
  },
  {
   "cell_type": "code",
   "execution_count": 17,
   "metadata": {},
   "outputs": [
    {
     "data": {
      "text/html": [
       "<table border=\"1\" class=\"dataframe\">\n",
       "  <thead>\n",
       "    <tr style=\"text-align: right;\">\n",
       "      <th></th>\n",
       "      <th>order_series</th>\n",
       "      <th>BottomRelation</th>\n",
       "    </tr>\n",
       "  </thead>\n",
       "  <tbody>\n",
       "    <tr>\n",
       "      <th>Default series</th>\n",
       "      <td>1</td>\n",
       "      <td>Erosion</td>\n",
       "    </tr>\n",
       "    <tr>\n",
       "      <th>series1</th>\n",
       "      <td>2</td>\n",
       "      <td>Erosion</td>\n",
       "    </tr>\n",
       "    <tr>\n",
       "      <th>series2</th>\n",
       "      <td>3</td>\n",
       "      <td>Erosion</td>\n",
       "    </tr>\n",
       "  </tbody>\n",
       "</table>"
      ],
      "text/plain": [
       "                order_series BottomRelation\n",
       "Default series             1        Erosion\n",
       "series1                    2        Erosion\n",
       "series2                    3        Erosion"
      ]
     },
     "execution_count": 17,
     "metadata": {},
     "output_type": "execute_result"
    }
   ],
   "source": [
    "geo_model.series"
   ]
  },
  {
   "cell_type": "code",
   "execution_count": 22,
   "metadata": {},
   "outputs": [
    {
     "data": {
      "application/vnd.jupyter.widget-view+json": {
       "model_id": "0a52cdb59a5c420e8f1754804ccaf158",
       "version_major": 2,
       "version_minor": 0
      },
      "text/plain": [
       "QgridWidget(grid_options={'fullWidthRows': True, 'syncColumnCellResize': True, 'forceFitColumns': True, 'defau…"
      ]
     },
     "metadata": {},
     "output_type": "display_data"
    }
   ],
   "source": [
    "geo_model.qi.get('faults')"
   ]
  },
  {
   "cell_type": "code",
   "execution_count": 26,
   "metadata": {},
   "outputs": [
    {
     "data": {
      "text/html": [
       "<table border=\"1\" class=\"dataframe\">\n",
       "  <thead>\n",
       "    <tr style=\"text-align: right;\">\n",
       "      <th></th>\n",
       "      <th>isFault</th>\n",
       "      <th>isFinite</th>\n",
       "    </tr>\n",
       "  </thead>\n",
       "  <tbody>\n",
       "    <tr>\n",
       "      <th>series1</th>\n",
       "      <td>True</td>\n",
       "      <td>True</td>\n",
       "    </tr>\n",
       "    <tr>\n",
       "      <th>Default series</th>\n",
       "      <td>False</td>\n",
       "      <td>False</td>\n",
       "    </tr>\n",
       "    <tr>\n",
       "      <th>series2</th>\n",
       "      <td>False</td>\n",
       "      <td>False</td>\n",
       "    </tr>\n",
       "  </tbody>\n",
       "</table>"
      ],
      "text/plain": [
       "                isFault  isFinite\n",
       "series1            True      True\n",
       "Default series    False     False\n",
       "series2           False     False"
      ]
     },
     "execution_count": 26,
     "metadata": {},
     "output_type": "execute_result"
    }
   ],
   "source": [
    "geo_model.faults"
   ]
  },
  {
   "cell_type": "code",
   "execution_count": 27,
   "metadata": {},
   "outputs": [],
   "source": [
    "geo_model.interpolator.set_theano_shared_is_finite()"
   ]
  },
  {
   "cell_type": "code",
   "execution_count": 31,
   "metadata": {},
   "outputs": [
    {
     "data": {
      "text/plain": [
       "array([1, 0, 0], dtype=int32)"
      ]
     },
     "execution_count": 31,
     "metadata": {},
     "output_type": "execute_result"
    }
   ],
   "source": [
    "geo_model.interpolator.theano_graph.is_finite_ctrl.get_value()"
   ]
  },
  {
   "cell_type": "code",
   "execution_count": 30,
   "metadata": {},
   "outputs": [
    {
     "data": {
      "text/plain": [
       "array([0, 0, 0], dtype=int32)"
      ]
     },
     "execution_count": 30,
     "metadata": {},
     "output_type": "execute_result"
    }
   ],
   "source": [
    "geo_model.interpolator.theano_graph.is_finite.set_value(np.array([0,0,0], dtype='int32'))\n",
    "geo_model.interpolator.theano_graph.is_finite.get_value()"
   ]
  },
  {
   "cell_type": "code",
   "execution_count": 23,
   "metadata": {},
   "outputs": [
    {
     "data": {
      "application/vnd.jupyter.widget-view+json": {
       "model_id": "7ea8b0a35aed43fcb941edad0e219dfe",
       "version_major": 2,
       "version_minor": 0
      },
      "text/plain": [
       "QgridWidget(grid_options={'fullWidthRows': True, 'syncColumnCellResize': True, 'forceFitColumns': True, 'defau…"
      ]
     },
     "metadata": {},
     "output_type": "display_data"
    }
   ],
   "source": [
    "geo_model.qi.get('faults_relations')"
   ]
  },
  {
   "cell_type": "code",
   "execution_count": 24,
   "metadata": {},
   "outputs": [
    {
     "data": {
      "text/html": [
       "<table border=\"1\" class=\"dataframe\">\n",
       "  <thead>\n",
       "    <tr style=\"text-align: right;\">\n",
       "      <th></th>\n",
       "      <th>isFault</th>\n",
       "      <th>isFinite</th>\n",
       "    </tr>\n",
       "  </thead>\n",
       "  <tbody>\n",
       "    <tr>\n",
       "      <th>series1</th>\n",
       "      <td>True</td>\n",
       "      <td>False</td>\n",
       "    </tr>\n",
       "    <tr>\n",
       "      <th>Default series</th>\n",
       "      <td>False</td>\n",
       "      <td>False</td>\n",
       "    </tr>\n",
       "    <tr>\n",
       "      <th>series2</th>\n",
       "      <td>False</td>\n",
       "      <td>False</td>\n",
       "    </tr>\n",
       "  </tbody>\n",
       "</table>"
      ],
      "text/plain": [
       "                isFault  isFinite\n",
       "series1            True     False\n",
       "Default series    False     False\n",
       "series2           False     False"
      ]
     },
     "execution_count": 24,
     "metadata": {},
     "output_type": "execute_result"
    }
   ],
   "source": [
    "geo_model.faults"
   ]
  },
  {
   "cell_type": "code",
   "execution_count": null,
   "metadata": {},
   "outputs": [],
   "source": [
    "geo_model.solutions.scalar_field_at_surface_points"
   ]
  },
  {
   "cell_type": "code",
   "execution_count": null,
   "metadata": {},
   "outputs": [],
   "source": [
    "geo_model.solutions.scalar_field_at_surface_points"
   ]
  },
  {
   "cell_type": "code",
   "execution_count": 15,
   "metadata": {},
   "outputs": [
    {
     "data": {
      "text/html": [
       "<style  type=\"text/css\" >\n",
       "    #T_c3f4f1d0_6034_11e9_8740_63b0987613barow0_col4 {\n",
       "            background-color:  #9f0052;\n",
       "        }    #T_c3f4f1d0_6034_11e9_8740_63b0987613barow1_col4 {\n",
       "            background-color:  #015482;\n",
       "        }    #T_c3f4f1d0_6034_11e9_8740_63b0987613barow2_col4 {\n",
       "            background-color:  #ffbe00;\n",
       "        }</style>  \n",
       "<table id=\"T_c3f4f1d0_6034_11e9_8740_63b0987613ba\" > \n",
       "<thead>    <tr> \n",
       "        <th class=\"blank level0\" ></th> \n",
       "        <th class=\"col_heading level0 col0\" >surface</th> \n",
       "        <th class=\"col_heading level0 col1\" >series</th> \n",
       "        <th class=\"col_heading level0 col2\" >order_surfaces</th> \n",
       "        <th class=\"col_heading level0 col3\" >isBasement</th> \n",
       "        <th class=\"col_heading level0 col4\" >color</th> \n",
       "        <th class=\"col_heading level0 col5\" >id</th> \n",
       "    </tr></thead> \n",
       "<tbody>    <tr> \n",
       "        <th id=\"T_c3f4f1d0_6034_11e9_8740_63b0987613balevel0_row0\" class=\"row_heading level0 row0\" >1</th> \n",
       "        <td id=\"T_c3f4f1d0_6034_11e9_8740_63b0987613barow0_col0\" class=\"data row0 col0\" >surface2</td> \n",
       "        <td id=\"T_c3f4f1d0_6034_11e9_8740_63b0987613barow0_col1\" class=\"data row0 col1\" >Default series</td> \n",
       "        <td id=\"T_c3f4f1d0_6034_11e9_8740_63b0987613barow0_col2\" class=\"data row0 col2\" >1</td> \n",
       "        <td id=\"T_c3f4f1d0_6034_11e9_8740_63b0987613barow0_col3\" class=\"data row0 col3\" >False</td> \n",
       "        <td id=\"T_c3f4f1d0_6034_11e9_8740_63b0987613barow0_col4\" class=\"data row0 col4\" >#9f0052</td> \n",
       "        <td id=\"T_c3f4f1d0_6034_11e9_8740_63b0987613barow0_col5\" class=\"data row0 col5\" >2</td> \n",
       "    </tr>    <tr> \n",
       "        <th id=\"T_c3f4f1d0_6034_11e9_8740_63b0987613balevel0_row1\" class=\"row_heading level0 row1\" >0</th> \n",
       "        <td id=\"T_c3f4f1d0_6034_11e9_8740_63b0987613barow1_col0\" class=\"data row1 col0\" >surface1</td> \n",
       "        <td id=\"T_c3f4f1d0_6034_11e9_8740_63b0987613barow1_col1\" class=\"data row1 col1\" >Default series</td> \n",
       "        <td id=\"T_c3f4f1d0_6034_11e9_8740_63b0987613barow1_col2\" class=\"data row1 col2\" >2</td> \n",
       "        <td id=\"T_c3f4f1d0_6034_11e9_8740_63b0987613barow1_col3\" class=\"data row1 col3\" >False</td> \n",
       "        <td id=\"T_c3f4f1d0_6034_11e9_8740_63b0987613barow1_col4\" class=\"data row1 col4\" >#015482</td> \n",
       "        <td id=\"T_c3f4f1d0_6034_11e9_8740_63b0987613barow1_col5\" class=\"data row1 col5\" >1</td> \n",
       "    </tr>    <tr> \n",
       "        <th id=\"T_c3f4f1d0_6034_11e9_8740_63b0987613balevel0_row2\" class=\"row_heading level0 row2\" >2</th> \n",
       "        <td id=\"T_c3f4f1d0_6034_11e9_8740_63b0987613barow2_col0\" class=\"data row2 col0\" >surface3</td> \n",
       "        <td id=\"T_c3f4f1d0_6034_11e9_8740_63b0987613barow2_col1\" class=\"data row2 col1\" >Default series</td> \n",
       "        <td id=\"T_c3f4f1d0_6034_11e9_8740_63b0987613barow2_col2\" class=\"data row2 col2\" >3</td> \n",
       "        <td id=\"T_c3f4f1d0_6034_11e9_8740_63b0987613barow2_col3\" class=\"data row2 col3\" >True</td> \n",
       "        <td id=\"T_c3f4f1d0_6034_11e9_8740_63b0987613barow2_col4\" class=\"data row2 col4\" >#ffbe00</td> \n",
       "        <td id=\"T_c3f4f1d0_6034_11e9_8740_63b0987613barow2_col5\" class=\"data row2 col5\" >3</td> \n",
       "    </tr></tbody> \n",
       "</table> "
      ],
      "text/plain": [
       "    surface          series  order_surfaces  isBasement    color  id\n",
       "1  surface2  Default series               1       False  #9f0052   2\n",
       "0  surface1  Default series               2       False  #015482   1\n",
       "2  surface3  Default series               3        True  #ffbe00   3"
      ]
     },
     "execution_count": 15,
     "metadata": {},
     "output_type": "execute_result"
    }
   ],
   "source": [
    "geo_model.surfaces"
   ]
  },
  {
   "cell_type": "code",
   "execution_count": null,
   "metadata": {},
   "outputs": [],
   "source": [
    "geo_model.surfaces.df[[True, True, False]].groupby('series').get_group('Default series').index"
   ]
  },
  {
   "cell_type": "code",
   "execution_count": null,
   "metadata": {},
   "outputs": [],
   "source": [
    "geo_model.surfaces.df.set_index('surface')['order_surf']"
   ]
  },
  {
   "cell_type": "code",
   "execution_count": null,
   "metadata": {},
   "outputs": [],
   "source": [
    "dict((np.unique(geo_model.surface_points.df['surface'].values), [2,3]))"
   ]
  },
  {
   "cell_type": "code",
   "execution_count": null,
   "metadata": {},
   "outputs": [],
   "source": [
    "b = pn.DataFrame(np.array([1,2]), index = np.unique(geo_model.surface_points.df['surface']))"
   ]
  },
  {
   "cell_type": "code",
   "execution_count": null,
   "metadata": {},
   "outputs": [],
   "source": []
  },
  {
   "cell_type": "code",
   "execution_count": null,
   "metadata": {},
   "outputs": [],
   "source": [
    "a = geo_model.surfaces.df['surface']\n",
    "a.map(b[0])"
   ]
  },
  {
   "cell_type": "code",
   "execution_count": null,
   "metadata": {},
   "outputs": [],
   "source": [
    "geo_model.series"
   ]
  },
  {
   "cell_type": "code",
   "execution_count": null,
   "metadata": {},
   "outputs": [],
   "source": [
    "geo_model.faults"
   ]
  },
  {
   "cell_type": "code",
   "execution_count": null,
   "metadata": {},
   "outputs": [],
   "source": [
    "geo_model.additional_data"
   ]
  },
  {
   "cell_type": "code",
   "execution_count": null,
   "metadata": {},
   "outputs": [],
   "source": [
    "geo_model.additional_data.update_structure()"
   ]
  },
  {
   "cell_type": "code",
   "execution_count": null,
   "metadata": {},
   "outputs": [],
   "source": [
    "geo_model.update_to_interpolator()"
   ]
  },
  {
   "cell_type": "code",
   "execution_count": null,
   "metadata": {},
   "outputs": [],
   "source": [
    "geo_model.interpolator.print_theano_shared()"
   ]
  },
  {
   "cell_type": "code",
   "execution_count": null,
   "metadata": {},
   "outputs": [],
   "source": []
  },
  {
   "cell_type": "code",
   "execution_count": null,
   "metadata": {},
   "outputs": [],
   "source": [
    "geo_model.interpolator.additional_data.structure_data.df.loc['values', 'len series orientations']"
   ]
  },
  {
   "cell_type": "code",
   "execution_count": null,
   "metadata": {},
   "outputs": [],
   "source": [
    "geo_model.interpolator.reset_flow_control()"
   ]
  },
  {
   "cell_type": "code",
   "execution_count": null,
   "metadata": {},
   "outputs": [],
   "source": [
    "geo_model.interpolator.theano_graph.mask_matrix.get_value()"
   ]
  },
  {
   "cell_type": "code",
   "execution_count": null,
   "metadata": {},
   "outputs": [],
   "source": [
    "geo_model.interpolator.theano_graph.is_onlap.set_value([0])\n",
    "geo_model.interpolator.theano_graph.is_erosion.set_value([0])"
   ]
  },
  {
   "cell_type": "code",
   "execution_count": null,
   "metadata": {},
   "outputs": [],
   "source": [
    "geo_model.interpolator.theano_graph.is_fault.get_value()"
   ]
  },
  {
   "cell_type": "code",
   "execution_count": null,
   "metadata": {
    "scrolled": false
   },
   "outputs": [],
   "source": [
    "#geo_model.update_to_interpolator()\n",
    "gp.compute_model(geo_model, compute_mesh=False)"
   ]
  },
  {
   "cell_type": "code",
   "execution_count": null,
   "metadata": {},
   "outputs": [],
   "source": [
    "gp.plot.plot_section(geo_model, cell_number=25, block_type=geo_model.solutions.block_matrix[0],\n",
    "                         direction='y', plot_data=True)\n"
   ]
  },
  {
   "cell_type": "code",
   "execution_count": null,
   "metadata": {},
   "outputs": [],
   "source": [
    "import matplotlib.pyplot as plt\n",
    "plt.imshow(geo_model.solutions.mask_matrix.reshape(50,50,50)[:,25,:].T, origin='bottom')"
   ]
  },
  {
   "cell_type": "code",
   "execution_count": null,
   "metadata": {},
   "outputs": [],
   "source": [
    "import matplotlib.pyplot as plt\n",
    "plt.imshow(geo_model.solutions.lith_block.reshape(50,50,50)[:,25,:].T, origin='bottom')"
   ]
  },
  {
   "cell_type": "code",
   "execution_count": null,
   "metadata": {},
   "outputs": [],
   "source": [
    "gp.compute_model(geo_model, compute_mesh=False)\n",
    "gp.plot.plot_section(geo_model, cell_number=25, block_type=geo_model.solutions.lith_block,\n",
    "                         direction='y', plot_data=True)"
   ]
  },
  {
   "cell_type": "code",
   "execution_count": null,
   "metadata": {},
   "outputs": [],
   "source": [
    "gp.plot.plot_section(geo_model, 15, plot_data=True)"
   ]
  },
  {
   "cell_type": "code",
   "execution_count": null,
   "metadata": {},
   "outputs": [],
   "source": [
    "gp.plot.plot_scalar_field(geo_model, 25, series=0)"
   ]
  },
  {
   "cell_type": "code",
   "execution_count": null,
   "metadata": {},
   "outputs": [],
   "source": [
    "geo_model.series"
   ]
  },
  {
   "cell_type": "code",
   "execution_count": null,
   "metadata": {},
   "outputs": [],
   "source": [
    "geo_model.solutions.block_matrix"
   ]
  },
  {
   "cell_type": "code",
   "execution_count": null,
   "metadata": {},
   "outputs": [],
   "source": [
    "geo_model.solutions.scalar_field_at_interfaces.sum(axis=0)"
   ]
  },
  {
   "cell_type": "code",
   "execution_count": null,
   "metadata": {},
   "outputs": [],
   "source": [
    "geo_model.additional_data.structure_data.df"
   ]
  },
  {
   "cell_type": "code",
   "execution_count": null,
   "metadata": {},
   "outputs": [],
   "source": []
  },
  {
   "cell_type": "code",
   "execution_count": null,
   "metadata": {},
   "outputs": [],
   "source": []
  }
 ],
 "metadata": {
  "kernelspec": {
   "display_name": "Python 3",
   "language": "python",
   "name": "python3"
  },
  "language_info": {
   "codemirror_mode": {
    "name": "ipython",
    "version": 3
   },
   "file_extension": ".py",
   "mimetype": "text/x-python",
   "name": "python",
   "nbconvert_exporter": "python",
   "pygments_lexer": "ipython3",
   "version": "3.6.8"
  },
  "latex_envs": {
   "LaTeX_envs_menu_present": true,
   "autocomplete": true,
   "bibliofile": "biblio.bib",
   "cite_by": "apalike",
   "current_citInitial": 1,
   "eqLabelWithNumbers": true,
   "eqNumInitial": 1,
   "hotkeys": {
    "equation": "Ctrl-E",
    "itemize": "Ctrl-I"
   },
   "labels_anchors": false,
   "latex_user_defs": false,
   "report_style_numbering": false,
   "user_envs_cfg": false
  },
  "toc": {
   "colors": {
    "hover_highlight": "#DAA520",
    "running_highlight": "#FF0000",
    "selected_highlight": "#FFD700"
   },
   "moveMenuLeft": true,
   "nav_menu": {
    "height": "11px",
    "width": "251px"
   },
   "navigate_menu": true,
   "number_sections": true,
   "sideBar": true,
   "threshold": 4,
   "toc_cell": false,
   "toc_section_display": "block",
   "toc_window_display": false,
   "widenNotebook": false
  }
 },
 "nbformat": 4,
 "nbformat_minor": 2
}
