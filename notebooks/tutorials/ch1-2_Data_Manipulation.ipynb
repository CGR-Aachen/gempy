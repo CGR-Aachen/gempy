{
 "cells": [
  {
   "cell_type": "markdown",
   "metadata": {},
   "source": [
    "## Chapter 1.2: Data Structure and Manipulation\n",
    "***\n",
    "In the previous tutorial we saw how we can create a model by calling a few lines of code from imported data. However modelling tends to be an iterative process. Here we will explore the tools that `GemPy` with the help of `pandas` offers to modify the input data of a model.\n",
    "\n",
    "There is 5 main  funtion \"types\" in GemPy:\n",
    "\n",
    "- *create*: \n",
    "    - create new objects\n",
    "    - return the objects\n",
    " \n",
    "- *set*\n",
    "    - set given values **inplace**\n",
    "\n",
    "- *update*\n",
    "    - update dataframe or other attribute from other object or many objects. Usually this object is not passed as argument (this is the main difference with map)\n",
    "\n",
    "- *map*\n",
    "    - update dataframe (so far mainly df) or other attribute from an object to another object.\n",
    "    - Completelly directed. One attribute/property is updated by another one.\n",
    "    - In general, we map_from so the method is in the mutated object.\n",
    "\n",
    "- *get*\n",
    "    - return an image of the object\n",
    "    \n",
    "The intention is that a function/method that does not fall in any of these categories has a name (verb in principle) self explanatory. \n",
    "\n",
    "\n",
    "As always we start importing the usual packages and reading expample data:"
   ]
  },
  {
   "cell_type": "code",
   "execution_count": 1,
   "metadata": {},
   "outputs": [],
   "source": [
    "# from IPython.display import IFrame    \n",
    "# IFrame(\"https://atlas.mindmup.com/2018/11/ca2c3230ddc511e887555f7d8bb30b4d/gempy_mind_map/index.html\",\n",
    "#       width=1000, height=1000)"
   ]
  },
  {
   "cell_type": "code",
   "execution_count": 2,
   "metadata": {},
   "outputs": [
    {
     "name": "stderr",
     "output_type": "stream",
     "text": [
      "WARNING (theano.tensor.blas): Using NumPy C-API based implementation for BLAS functions.\n"
     ]
    }
   ],
   "source": [
    "# These two lines are necessary only if GemPy is not installed\n",
    "import sys, os\n",
    "sys.path.append(\"../..\")\n",
    "\n",
    "# Importing GemPy\n",
    "import gempy as gp\n",
    "\n",
    "# Embedding matplotlib figures in the notebooks\n",
    "%matplotlib inline\n",
    "\n",
    "# Importing auxiliary libraries\n",
    "import numpy as np\n",
    "import pandas as pn\n",
    "import matplotlib.pyplot as plt\n"
   ]
  },
  {
   "cell_type": "markdown",
   "metadata": {},
   "source": [
    "## Series\n",
    "\n",
    "Series is the object that contains the properties associated with each independent scalar field. Right now it is simply the order of the series (which is infered by the index order). But in the future will be add the unconformity relation or perhaps the type of interpolator\n",
    "\n",
    "Series and Faults classes are quite entagled since fauls are a type of series"
   ]
  },
  {
   "cell_type": "code",
   "execution_count": 3,
   "metadata": {},
   "outputs": [
    {
     "data": {
      "text/html": [
       "<div>\n",
       "<style scoped>\n",
       "    .dataframe tbody tr th:only-of-type {\n",
       "        vertical-align: middle;\n",
       "    }\n",
       "\n",
       "    .dataframe tbody tr th {\n",
       "        vertical-align: top;\n",
       "    }\n",
       "\n",
       "    .dataframe thead th {\n",
       "        text-align: right;\n",
       "    }\n",
       "</style>\n",
       "<table border=\"1\" class=\"dataframe\">\n",
       "  <thead>\n",
       "    <tr style=\"text-align: right;\">\n",
       "      <th></th>\n",
       "      <th>order_series</th>\n",
       "      <th>BottomRelation</th>\n",
       "    </tr>\n",
       "  </thead>\n",
       "  <tbody>\n",
       "    <tr>\n",
       "      <th>Default series</th>\n",
       "      <td>1</td>\n",
       "      <td>Erosion</td>\n",
       "    </tr>\n",
       "  </tbody>\n",
       "</table>\n",
       "</div>"
      ],
      "text/plain": [
       "                order_series BottomRelation\n",
       "Default series             1        Erosion"
      ]
     },
     "execution_count": 3,
     "metadata": {},
     "output_type": "execute_result"
    }
   ],
   "source": [
    "faults = gp.Faults()\n",
    "series = gp.Series(faults)\n",
    "series.df"
   ]
  },
  {
   "cell_type": "markdown",
   "metadata": {},
   "source": [
    "We can modify the series bt using `set_series_index`:"
   ]
  },
  {
   "cell_type": "code",
   "execution_count": 4,
   "metadata": {},
   "outputs": [
    {
     "data": {
      "text/html": [
       "<table border=\"1\" class=\"dataframe\">\n",
       "  <thead>\n",
       "    <tr style=\"text-align: right;\">\n",
       "      <th></th>\n",
       "      <th>order_series</th>\n",
       "      <th>BottomRelation</th>\n",
       "    </tr>\n",
       "  </thead>\n",
       "  <tbody>\n",
       "    <tr>\n",
       "      <th>foo</th>\n",
       "      <td>1</td>\n",
       "      <td>Erosion</td>\n",
       "    </tr>\n",
       "    <tr>\n",
       "      <th>foo2</th>\n",
       "      <td>2</td>\n",
       "      <td>Erosion</td>\n",
       "    </tr>\n",
       "    <tr>\n",
       "      <th>foo5</th>\n",
       "      <td>3</td>\n",
       "      <td>Erosion</td>\n",
       "    </tr>\n",
       "    <tr>\n",
       "      <th>foo7</th>\n",
       "      <td>4</td>\n",
       "      <td>Erosion</td>\n",
       "    </tr>\n",
       "  </tbody>\n",
       "</table>"
      ],
      "text/plain": [
       "      order_series BottomRelation\n",
       "foo              1        Erosion\n",
       "foo2             2        Erosion\n",
       "foo5             3        Erosion\n",
       "foo7             4        Erosion"
      ]
     },
     "execution_count": 4,
     "metadata": {},
     "output_type": "execute_result"
    }
   ],
   "source": [
    "series.set_series_index(['foo', 'foo2', 'foo5', 'foo7'])\n",
    "series"
   ]
  },
  {
   "cell_type": "markdown",
   "metadata": {},
   "source": [
    "The index of series are pandas categories. These provides quite handy backend functionality (see pandas.Categorical)."
   ]
  },
  {
   "cell_type": "code",
   "execution_count": 5,
   "metadata": {},
   "outputs": [
    {
     "data": {
      "text/plain": [
       "CategoricalIndex(['foo', 'foo2', 'foo5', 'foo7'], categories=['foo', 'foo2', 'foo5', 'foo7'], ordered=False, dtype='category')"
      ]
     },
     "execution_count": 5,
     "metadata": {},
     "output_type": "execute_result"
    }
   ],
   "source": [
    "series.df.index"
   ]
  },
  {
   "cell_type": "markdown",
   "metadata": {},
   "source": [
    "For adding new series:"
   ]
  },
  {
   "cell_type": "code",
   "execution_count": 6,
   "metadata": {},
   "outputs": [
    {
     "data": {
      "text/html": [
       "<table border=\"1\" class=\"dataframe\">\n",
       "  <thead>\n",
       "    <tr style=\"text-align: right;\">\n",
       "      <th></th>\n",
       "      <th>order_series</th>\n",
       "      <th>BottomRelation</th>\n",
       "    </tr>\n",
       "  </thead>\n",
       "  <tbody>\n",
       "    <tr>\n",
       "      <th>foo</th>\n",
       "      <td>1</td>\n",
       "      <td>Erosion</td>\n",
       "    </tr>\n",
       "    <tr>\n",
       "      <th>foo2</th>\n",
       "      <td>2</td>\n",
       "      <td>Erosion</td>\n",
       "    </tr>\n",
       "    <tr>\n",
       "      <th>foo5</th>\n",
       "      <td>3</td>\n",
       "      <td>Erosion</td>\n",
       "    </tr>\n",
       "    <tr>\n",
       "      <th>foo7</th>\n",
       "      <td>4</td>\n",
       "      <td>Erosion</td>\n",
       "    </tr>\n",
       "    <tr>\n",
       "      <th>foo3</th>\n",
       "      <td>5</td>\n",
       "      <td>Erosion</td>\n",
       "    </tr>\n",
       "  </tbody>\n",
       "</table>"
      ],
      "text/plain": [
       "      order_series BottomRelation\n",
       "foo              1        Erosion\n",
       "foo2             2        Erosion\n",
       "foo5             3        Erosion\n",
       "foo7             4        Erosion\n",
       "foo3             5        Erosion"
      ]
     },
     "execution_count": 6,
     "metadata": {},
     "output_type": "execute_result"
    }
   ],
   "source": [
    "series.add_series('foo3')\n",
    "series"
   ]
  },
  {
   "cell_type": "markdown",
   "metadata": {},
   "source": [
    "Delete series"
   ]
  },
  {
   "cell_type": "code",
   "execution_count": 7,
   "metadata": {},
   "outputs": [
    {
     "data": {
      "text/html": [
       "<table border=\"1\" class=\"dataframe\">\n",
       "  <thead>\n",
       "    <tr style=\"text-align: right;\">\n",
       "      <th></th>\n",
       "      <th>order_series</th>\n",
       "      <th>BottomRelation</th>\n",
       "    </tr>\n",
       "  </thead>\n",
       "  <tbody>\n",
       "    <tr>\n",
       "      <th>foo</th>\n",
       "      <td>1</td>\n",
       "      <td>Erosion</td>\n",
       "    </tr>\n",
       "    <tr>\n",
       "      <th>foo2</th>\n",
       "      <td>2</td>\n",
       "      <td>Erosion</td>\n",
       "    </tr>\n",
       "    <tr>\n",
       "      <th>foo5</th>\n",
       "      <td>3</td>\n",
       "      <td>Erosion</td>\n",
       "    </tr>\n",
       "    <tr>\n",
       "      <th>foo7</th>\n",
       "      <td>4</td>\n",
       "      <td>Erosion</td>\n",
       "    </tr>\n",
       "  </tbody>\n",
       "</table>"
      ],
      "text/plain": [
       "      order_series BottomRelation\n",
       "foo              1        Erosion\n",
       "foo2             2        Erosion\n",
       "foo5             3        Erosion\n",
       "foo7             4        Erosion"
      ]
     },
     "execution_count": 7,
     "metadata": {},
     "output_type": "execute_result"
    }
   ],
   "source": [
    "series.delete_series('foo3')\n",
    "series"
   ]
  },
  {
   "cell_type": "markdown",
   "metadata": {},
   "source": [
    "Rename series:"
   ]
  },
  {
   "cell_type": "code",
   "execution_count": 8,
   "metadata": {},
   "outputs": [
    {
     "data": {
      "text/html": [
       "<table border=\"1\" class=\"dataframe\">\n",
       "  <thead>\n",
       "    <tr style=\"text-align: right;\">\n",
       "      <th></th>\n",
       "      <th>order_series</th>\n",
       "      <th>BottomRelation</th>\n",
       "    </tr>\n",
       "  </thead>\n",
       "  <tbody>\n",
       "    <tr>\n",
       "      <th>boo</th>\n",
       "      <td>1</td>\n",
       "      <td>Erosion</td>\n",
       "    </tr>\n",
       "    <tr>\n",
       "      <th>foo2</th>\n",
       "      <td>2</td>\n",
       "      <td>Erosion</td>\n",
       "    </tr>\n",
       "    <tr>\n",
       "      <th>foo5</th>\n",
       "      <td>3</td>\n",
       "      <td>Erosion</td>\n",
       "    </tr>\n",
       "    <tr>\n",
       "      <th>foo7</th>\n",
       "      <td>4</td>\n",
       "      <td>Erosion</td>\n",
       "    </tr>\n",
       "  </tbody>\n",
       "</table>"
      ],
      "text/plain": [
       "      order_series BottomRelation\n",
       "boo              1        Erosion\n",
       "foo2             2        Erosion\n",
       "foo5             3        Erosion\n",
       "foo7             4        Erosion"
      ]
     },
     "execution_count": 8,
     "metadata": {},
     "output_type": "execute_result"
    }
   ],
   "source": [
    "series.rename_series({'foo':'boo'})\n",
    "series"
   ]
  },
  {
   "cell_type": "markdown",
   "metadata": {},
   "source": [
    "Reorder series:"
   ]
  },
  {
   "cell_type": "code",
   "execution_count": 9,
   "metadata": {},
   "outputs": [
    {
     "data": {
      "text/html": [
       "<table border=\"1\" class=\"dataframe\">\n",
       "  <thead>\n",
       "    <tr style=\"text-align: right;\">\n",
       "      <th></th>\n",
       "      <th>order_series</th>\n",
       "      <th>BottomRelation</th>\n",
       "    </tr>\n",
       "  </thead>\n",
       "  <tbody>\n",
       "    <tr>\n",
       "      <th>foo2</th>\n",
       "      <td>1</td>\n",
       "      <td>Erosion</td>\n",
       "    </tr>\n",
       "    <tr>\n",
       "      <th>boo</th>\n",
       "      <td>2</td>\n",
       "      <td>Erosion</td>\n",
       "    </tr>\n",
       "    <tr>\n",
       "      <th>foo7</th>\n",
       "      <td>3</td>\n",
       "      <td>Erosion</td>\n",
       "    </tr>\n",
       "    <tr>\n",
       "      <th>foo5</th>\n",
       "      <td>4</td>\n",
       "      <td>Erosion</td>\n",
       "    </tr>\n",
       "  </tbody>\n",
       "</table>"
      ],
      "text/plain": [
       "      order_series BottomRelation\n",
       "foo2             1        Erosion\n",
       "boo              2        Erosion\n",
       "foo7             3        Erosion\n",
       "foo5             4        Erosion"
      ]
     },
     "execution_count": 9,
     "metadata": {},
     "output_type": "execute_result"
    }
   ],
   "source": [
    "series.reorder_series(['foo2', 'boo', 'foo7', 'foo5'])\n",
    "series"
   ]
  },
  {
   "cell_type": "markdown",
   "metadata": {},
   "source": [
    "### Faults\n",
    "\n",
    "The *df faults* is used to charectirize which *mathematical series* behave as fault and if mentioned faults are finite or infinite. Both df should get updated automatically as we modify the series object linked to the fault object (by passing it wehn a Series object is created)."
   ]
  },
  {
   "cell_type": "code",
   "execution_count": 10,
   "metadata": {},
   "outputs": [
    {
     "data": {
      "text/html": [
       "<table border=\"1\" class=\"dataframe\">\n",
       "  <thead>\n",
       "    <tr style=\"text-align: right;\">\n",
       "      <th></th>\n",
       "      <th>isFault</th>\n",
       "      <th>isFinite</th>\n",
       "    </tr>\n",
       "  </thead>\n",
       "  <tbody>\n",
       "    <tr>\n",
       "      <th>foo2</th>\n",
       "      <td>False</td>\n",
       "      <td>False</td>\n",
       "    </tr>\n",
       "    <tr>\n",
       "      <th>boo</th>\n",
       "      <td>False</td>\n",
       "      <td>False</td>\n",
       "    </tr>\n",
       "    <tr>\n",
       "      <th>foo7</th>\n",
       "      <td>False</td>\n",
       "      <td>False</td>\n",
       "    </tr>\n",
       "    <tr>\n",
       "      <th>foo5</th>\n",
       "      <td>False</td>\n",
       "      <td>False</td>\n",
       "    </tr>\n",
       "  </tbody>\n",
       "</table>"
      ],
      "text/plain": [
       "      isFault  isFinite\n",
       "foo2    False     False\n",
       "boo     False     False\n",
       "foo7    False     False\n",
       "foo5    False     False"
      ]
     },
     "execution_count": 10,
     "metadata": {},
     "output_type": "execute_result"
    }
   ],
   "source": [
    "faults"
   ]
  },
  {
   "cell_type": "markdown",
   "metadata": {},
   "source": [
    "Finally we have the *faults relations df* which captures which *mathematical series* a given fault offset in order to reproduce complex faulting networks"
   ]
  },
  {
   "cell_type": "code",
   "execution_count": 11,
   "metadata": {},
   "outputs": [
    {
     "data": {
      "text/html": [
       "<div>\n",
       "<style scoped>\n",
       "    .dataframe tbody tr th:only-of-type {\n",
       "        vertical-align: middle;\n",
       "    }\n",
       "\n",
       "    .dataframe tbody tr th {\n",
       "        vertical-align: top;\n",
       "    }\n",
       "\n",
       "    .dataframe thead th {\n",
       "        text-align: right;\n",
       "    }\n",
       "</style>\n",
       "<table border=\"1\" class=\"dataframe\">\n",
       "  <thead>\n",
       "    <tr style=\"text-align: right;\">\n",
       "      <th></th>\n",
       "      <th>foo2</th>\n",
       "      <th>boo</th>\n",
       "      <th>foo7</th>\n",
       "      <th>foo5</th>\n",
       "    </tr>\n",
       "  </thead>\n",
       "  <tbody>\n",
       "    <tr>\n",
       "      <th>foo2</th>\n",
       "      <td>False</td>\n",
       "      <td>False</td>\n",
       "      <td>False</td>\n",
       "      <td>False</td>\n",
       "    </tr>\n",
       "    <tr>\n",
       "      <th>boo</th>\n",
       "      <td>False</td>\n",
       "      <td>False</td>\n",
       "      <td>False</td>\n",
       "      <td>False</td>\n",
       "    </tr>\n",
       "    <tr>\n",
       "      <th>foo7</th>\n",
       "      <td>False</td>\n",
       "      <td>False</td>\n",
       "      <td>False</td>\n",
       "      <td>False</td>\n",
       "    </tr>\n",
       "    <tr>\n",
       "      <th>foo5</th>\n",
       "      <td>False</td>\n",
       "      <td>False</td>\n",
       "      <td>False</td>\n",
       "      <td>False</td>\n",
       "    </tr>\n",
       "  </tbody>\n",
       "</table>\n",
       "</div>"
      ],
      "text/plain": [
       "       foo2    boo   foo7   foo5\n",
       "foo2  False  False  False  False\n",
       "boo   False  False  False  False\n",
       "foo7  False  False  False  False\n",
       "foo5  False  False  False  False"
      ]
     },
     "execution_count": 11,
     "metadata": {},
     "output_type": "execute_result"
    }
   ],
   "source": [
    "faults.faults_relations_df"
   ]
  },
  {
   "cell_type": "markdown",
   "metadata": {},
   "source": [
    "We can use `set_is_fault` to choose which of our series are faults:"
   ]
  },
  {
   "cell_type": "code",
   "execution_count": 12,
   "metadata": {},
   "outputs": [
    {
     "data": {
      "text/html": [
       "<div>\n",
       "<style scoped>\n",
       "    .dataframe tbody tr th:only-of-type {\n",
       "        vertical-align: middle;\n",
       "    }\n",
       "\n",
       "    .dataframe tbody tr th {\n",
       "        vertical-align: top;\n",
       "    }\n",
       "\n",
       "    .dataframe thead th {\n",
       "        text-align: right;\n",
       "    }\n",
       "</style>\n",
       "<table border=\"1\" class=\"dataframe\">\n",
       "  <thead>\n",
       "    <tr style=\"text-align: right;\">\n",
       "      <th></th>\n",
       "      <th>isFault</th>\n",
       "      <th>isFinite</th>\n",
       "    </tr>\n",
       "  </thead>\n",
       "  <tbody>\n",
       "    <tr>\n",
       "      <th>foo2</th>\n",
       "      <td>False</td>\n",
       "      <td>False</td>\n",
       "    </tr>\n",
       "    <tr>\n",
       "      <th>boo</th>\n",
       "      <td>True</td>\n",
       "      <td>False</td>\n",
       "    </tr>\n",
       "    <tr>\n",
       "      <th>foo7</th>\n",
       "      <td>False</td>\n",
       "      <td>False</td>\n",
       "    </tr>\n",
       "    <tr>\n",
       "      <th>foo5</th>\n",
       "      <td>False</td>\n",
       "      <td>False</td>\n",
       "    </tr>\n",
       "  </tbody>\n",
       "</table>\n",
       "</div>"
      ],
      "text/plain": [
       "      isFault  isFinite\n",
       "foo2    False     False\n",
       "boo      True     False\n",
       "foo7    False     False\n",
       "foo5    False     False"
      ]
     },
     "execution_count": 12,
     "metadata": {},
     "output_type": "execute_result"
    }
   ],
   "source": [
    "faults.set_is_fault(['boo'])"
   ]
  },
  {
   "cell_type": "markdown",
   "metadata": {},
   "source": [
    "Similar thing for the fault relations:"
   ]
  },
  {
   "cell_type": "code",
   "execution_count": 13,
   "metadata": {},
   "outputs": [
    {
     "data": {
      "text/html": [
       "<div>\n",
       "<style scoped>\n",
       "    .dataframe tbody tr th:only-of-type {\n",
       "        vertical-align: middle;\n",
       "    }\n",
       "\n",
       "    .dataframe tbody tr th {\n",
       "        vertical-align: top;\n",
       "    }\n",
       "\n",
       "    .dataframe thead th {\n",
       "        text-align: right;\n",
       "    }\n",
       "</style>\n",
       "<table border=\"1\" class=\"dataframe\">\n",
       "  <thead>\n",
       "    <tr style=\"text-align: right;\">\n",
       "      <th></th>\n",
       "      <th>foo2</th>\n",
       "      <th>boo</th>\n",
       "      <th>foo7</th>\n",
       "      <th>foo5</th>\n",
       "    </tr>\n",
       "  </thead>\n",
       "  <tbody>\n",
       "    <tr>\n",
       "      <th>foo2</th>\n",
       "      <td>False</td>\n",
       "      <td>False</td>\n",
       "      <td>False</td>\n",
       "      <td>False</td>\n",
       "    </tr>\n",
       "    <tr>\n",
       "      <th>boo</th>\n",
       "      <td>False</td>\n",
       "      <td>False</td>\n",
       "      <td>False</td>\n",
       "      <td>False</td>\n",
       "    </tr>\n",
       "    <tr>\n",
       "      <th>foo7</th>\n",
       "      <td>False</td>\n",
       "      <td>False</td>\n",
       "      <td>False</td>\n",
       "      <td>False</td>\n",
       "    </tr>\n",
       "    <tr>\n",
       "      <th>foo5</th>\n",
       "      <td>False</td>\n",
       "      <td>False</td>\n",
       "      <td>False</td>\n",
       "      <td>False</td>\n",
       "    </tr>\n",
       "  </tbody>\n",
       "</table>\n",
       "</div>"
      ],
      "text/plain": [
       "       foo2    boo   foo7   foo5\n",
       "foo2  False  False  False  False\n",
       "boo   False  False  False  False\n",
       "foo7  False  False  False  False\n",
       "foo5  False  False  False  False"
      ]
     },
     "execution_count": 13,
     "metadata": {},
     "output_type": "execute_result"
    }
   ],
   "source": [
    "fr = np.zeros((4, 4))\n",
    "fr[2, 2] = True\n",
    "faults.set_fault_relation(fr)"
   ]
  },
  {
   "cell_type": "markdown",
   "metadata": {},
   "source": [
    "Now if we change the series df and we update the series already defined will conserve their values while the new ones will be set to false:"
   ]
  },
  {
   "cell_type": "code",
   "execution_count": 14,
   "metadata": {},
   "outputs": [],
   "source": [
    "series.add_series('foo20')\n"
   ]
  },
  {
   "cell_type": "code",
   "execution_count": 15,
   "metadata": {},
   "outputs": [
    {
     "data": {
      "text/html": [
       "<table border=\"1\" class=\"dataframe\">\n",
       "  <thead>\n",
       "    <tr style=\"text-align: right;\">\n",
       "      <th></th>\n",
       "      <th>order_series</th>\n",
       "      <th>BottomRelation</th>\n",
       "    </tr>\n",
       "  </thead>\n",
       "  <tbody>\n",
       "    <tr>\n",
       "      <th>foo2</th>\n",
       "      <td>1</td>\n",
       "      <td>Erosion</td>\n",
       "    </tr>\n",
       "    <tr>\n",
       "      <th>boo</th>\n",
       "      <td>2</td>\n",
       "      <td>Erosion</td>\n",
       "    </tr>\n",
       "    <tr>\n",
       "      <th>foo7</th>\n",
       "      <td>3</td>\n",
       "      <td>Erosion</td>\n",
       "    </tr>\n",
       "    <tr>\n",
       "      <th>foo5</th>\n",
       "      <td>4</td>\n",
       "      <td>Erosion</td>\n",
       "    </tr>\n",
       "    <tr>\n",
       "      <th>foo20</th>\n",
       "      <td>5</td>\n",
       "      <td>Erosion</td>\n",
       "    </tr>\n",
       "  </tbody>\n",
       "</table>"
      ],
      "text/plain": [
       "       order_series BottomRelation\n",
       "foo2              1        Erosion\n",
       "boo               2        Erosion\n",
       "foo7              3        Erosion\n",
       "foo5              4        Erosion\n",
       "foo20             5        Erosion"
      ]
     },
     "execution_count": 15,
     "metadata": {},
     "output_type": "execute_result"
    }
   ],
   "source": [
    "series"
   ]
  },
  {
   "cell_type": "code",
   "execution_count": 16,
   "metadata": {},
   "outputs": [
    {
     "data": {
      "text/html": [
       "<table border=\"1\" class=\"dataframe\">\n",
       "  <thead>\n",
       "    <tr style=\"text-align: right;\">\n",
       "      <th></th>\n",
       "      <th>isFault</th>\n",
       "      <th>isFinite</th>\n",
       "    </tr>\n",
       "  </thead>\n",
       "  <tbody>\n",
       "    <tr>\n",
       "      <th>foo2</th>\n",
       "      <td>False</td>\n",
       "      <td>False</td>\n",
       "    </tr>\n",
       "    <tr>\n",
       "      <th>boo</th>\n",
       "      <td>True</td>\n",
       "      <td>False</td>\n",
       "    </tr>\n",
       "    <tr>\n",
       "      <th>foo7</th>\n",
       "      <td>False</td>\n",
       "      <td>False</td>\n",
       "    </tr>\n",
       "    <tr>\n",
       "      <th>foo5</th>\n",
       "      <td>False</td>\n",
       "      <td>False</td>\n",
       "    </tr>\n",
       "    <tr>\n",
       "      <th>foo20</th>\n",
       "      <td>False</td>\n",
       "      <td>False</td>\n",
       "    </tr>\n",
       "  </tbody>\n",
       "</table>"
      ],
      "text/plain": [
       "       isFault  isFinite\n",
       "foo2     False     False\n",
       "boo       True     False\n",
       "foo7     False     False\n",
       "foo5     False     False\n",
       "foo20    False     False"
      ]
     },
     "execution_count": 16,
     "metadata": {},
     "output_type": "execute_result"
    }
   ],
   "source": [
    "faults"
   ]
  },
  {
   "cell_type": "code",
   "execution_count": 17,
   "metadata": {},
   "outputs": [
    {
     "data": {
      "text/html": [
       "<div>\n",
       "<style scoped>\n",
       "    .dataframe tbody tr th:only-of-type {\n",
       "        vertical-align: middle;\n",
       "    }\n",
       "\n",
       "    .dataframe tbody tr th {\n",
       "        vertical-align: top;\n",
       "    }\n",
       "\n",
       "    .dataframe thead th {\n",
       "        text-align: right;\n",
       "    }\n",
       "</style>\n",
       "<table border=\"1\" class=\"dataframe\">\n",
       "  <thead>\n",
       "    <tr style=\"text-align: right;\">\n",
       "      <th></th>\n",
       "      <th>foo2</th>\n",
       "      <th>boo</th>\n",
       "      <th>foo7</th>\n",
       "      <th>foo5</th>\n",
       "      <th>foo20</th>\n",
       "    </tr>\n",
       "  </thead>\n",
       "  <tbody>\n",
       "    <tr>\n",
       "      <th>foo2</th>\n",
       "      <td>False</td>\n",
       "      <td>False</td>\n",
       "      <td>False</td>\n",
       "      <td>False</td>\n",
       "      <td>False</td>\n",
       "    </tr>\n",
       "    <tr>\n",
       "      <th>boo</th>\n",
       "      <td>False</td>\n",
       "      <td>False</td>\n",
       "      <td>False</td>\n",
       "      <td>False</td>\n",
       "      <td>False</td>\n",
       "    </tr>\n",
       "    <tr>\n",
       "      <th>foo7</th>\n",
       "      <td>False</td>\n",
       "      <td>False</td>\n",
       "      <td>False</td>\n",
       "      <td>False</td>\n",
       "      <td>False</td>\n",
       "    </tr>\n",
       "    <tr>\n",
       "      <th>foo5</th>\n",
       "      <td>False</td>\n",
       "      <td>False</td>\n",
       "      <td>False</td>\n",
       "      <td>False</td>\n",
       "      <td>False</td>\n",
       "    </tr>\n",
       "    <tr>\n",
       "      <th>foo20</th>\n",
       "      <td>False</td>\n",
       "      <td>False</td>\n",
       "      <td>False</td>\n",
       "      <td>False</td>\n",
       "      <td>False</td>\n",
       "    </tr>\n",
       "  </tbody>\n",
       "</table>\n",
       "</div>"
      ],
      "text/plain": [
       "        foo2    boo   foo7   foo5  foo20\n",
       "foo2   False  False  False  False  False\n",
       "boo    False  False  False  False  False\n",
       "foo7   False  False  False  False  False\n",
       "foo5   False  False  False  False  False\n",
       "foo20  False  False  False  False  False"
      ]
     },
     "execution_count": 17,
     "metadata": {},
     "output_type": "execute_result"
    }
   ],
   "source": [
    "faults.faults_relations_df"
   ]
  },
  {
   "cell_type": "markdown",
   "metadata": {},
   "source": [
    "When we add new series the values switch  to NaN. We will be careful not having any nan in the DataFrames or we will raise errors down the line."
   ]
  },
  {
   "cell_type": "code",
   "execution_count": 18,
   "metadata": {},
   "outputs": [
    {
     "data": {
      "text/html": [
       "<div>\n",
       "<style scoped>\n",
       "    .dataframe tbody tr th:only-of-type {\n",
       "        vertical-align: middle;\n",
       "    }\n",
       "\n",
       "    .dataframe tbody tr th {\n",
       "        vertical-align: top;\n",
       "    }\n",
       "\n",
       "    .dataframe thead th {\n",
       "        text-align: right;\n",
       "    }\n",
       "</style>\n",
       "<table border=\"1\" class=\"dataframe\">\n",
       "  <thead>\n",
       "    <tr style=\"text-align: right;\">\n",
       "      <th></th>\n",
       "      <th>isFault</th>\n",
       "      <th>isFinite</th>\n",
       "    </tr>\n",
       "  </thead>\n",
       "  <tbody>\n",
       "    <tr>\n",
       "      <th>foo2</th>\n",
       "      <td>False</td>\n",
       "      <td>False</td>\n",
       "    </tr>\n",
       "    <tr>\n",
       "      <th>boo</th>\n",
       "      <td>True</td>\n",
       "      <td>False</td>\n",
       "    </tr>\n",
       "    <tr>\n",
       "      <th>foo7</th>\n",
       "      <td>False</td>\n",
       "      <td>False</td>\n",
       "    </tr>\n",
       "    <tr>\n",
       "      <th>foo5</th>\n",
       "      <td>False</td>\n",
       "      <td>False</td>\n",
       "    </tr>\n",
       "    <tr>\n",
       "      <th>foo20</th>\n",
       "      <td>False</td>\n",
       "      <td>False</td>\n",
       "    </tr>\n",
       "  </tbody>\n",
       "</table>\n",
       "</div>"
      ],
      "text/plain": [
       "       isFault  isFinite\n",
       "foo2     False     False\n",
       "boo       True     False\n",
       "foo7     False     False\n",
       "foo5     False     False\n",
       "foo20    False     False"
      ]
     },
     "execution_count": 18,
     "metadata": {},
     "output_type": "execute_result"
    }
   ],
   "source": [
    "faults.set_is_fault()"
   ]
  },
  {
   "cell_type": "code",
   "execution_count": 19,
   "metadata": {},
   "outputs": [
    {
     "data": {
      "text/html": [
       "<div>\n",
       "<style scoped>\n",
       "    .dataframe tbody tr th:only-of-type {\n",
       "        vertical-align: middle;\n",
       "    }\n",
       "\n",
       "    .dataframe tbody tr th {\n",
       "        vertical-align: top;\n",
       "    }\n",
       "\n",
       "    .dataframe thead th {\n",
       "        text-align: right;\n",
       "    }\n",
       "</style>\n",
       "<table border=\"1\" class=\"dataframe\">\n",
       "  <thead>\n",
       "    <tr style=\"text-align: right;\">\n",
       "      <th></th>\n",
       "      <th>foo2</th>\n",
       "      <th>boo</th>\n",
       "      <th>foo7</th>\n",
       "      <th>foo5</th>\n",
       "      <th>foo20</th>\n",
       "    </tr>\n",
       "  </thead>\n",
       "  <tbody>\n",
       "    <tr>\n",
       "      <th>foo2</th>\n",
       "      <td>False</td>\n",
       "      <td>False</td>\n",
       "      <td>False</td>\n",
       "      <td>False</td>\n",
       "      <td>False</td>\n",
       "    </tr>\n",
       "    <tr>\n",
       "      <th>boo</th>\n",
       "      <td>False</td>\n",
       "      <td>False</td>\n",
       "      <td>False</td>\n",
       "      <td>False</td>\n",
       "      <td>False</td>\n",
       "    </tr>\n",
       "    <tr>\n",
       "      <th>foo7</th>\n",
       "      <td>False</td>\n",
       "      <td>False</td>\n",
       "      <td>False</td>\n",
       "      <td>False</td>\n",
       "      <td>False</td>\n",
       "    </tr>\n",
       "    <tr>\n",
       "      <th>foo5</th>\n",
       "      <td>False</td>\n",
       "      <td>False</td>\n",
       "      <td>False</td>\n",
       "      <td>False</td>\n",
       "      <td>False</td>\n",
       "    </tr>\n",
       "    <tr>\n",
       "      <th>foo20</th>\n",
       "      <td>False</td>\n",
       "      <td>False</td>\n",
       "      <td>False</td>\n",
       "      <td>False</td>\n",
       "      <td>False</td>\n",
       "    </tr>\n",
       "  </tbody>\n",
       "</table>\n",
       "</div>"
      ],
      "text/plain": [
       "        foo2    boo   foo7   foo5  foo20\n",
       "foo2   False  False  False  False  False\n",
       "boo    False  False  False  False  False\n",
       "foo7   False  False  False  False  False\n",
       "foo5   False  False  False  False  False\n",
       "foo20  False  False  False  False  False"
      ]
     },
     "execution_count": 19,
     "metadata": {},
     "output_type": "execute_result"
    }
   ],
   "source": [
    "faults.set_fault_relation()"
   ]
  },
  {
   "cell_type": "markdown",
   "metadata": {},
   "source": [
    "### Formations:\n",
    "\n",
    "The *df* formation contain three properties. *id* refers to the order of the formation on the sequential pile, i.e. the strict order of computation. *values* on the other hand is the final value that each voxel will have after discretization. This may be useful for example in the case we want to map a specific geophysical property (such as density) to a given unity. By default both are the same since to discretize lithological units the value is arbitrary."
   ]
  },
  {
   "cell_type": "markdown",
   "metadata": {},
   "source": [
    "#### From an empty df\n",
    "\n",
    "The Formation class needs to have an associate series object. This will limit the name of the series since they are a pandas.Category"
   ]
  },
  {
   "cell_type": "code",
   "execution_count": 20,
   "metadata": {},
   "outputs": [],
   "source": [
    "surfaces = gp.Surfaces(series)"
   ]
  },
  {
   "cell_type": "markdown",
   "metadata": {},
   "source": [
    "We can set any number of formations by passing a list with the names. By default they will take the name or the first series."
   ]
  },
  {
   "cell_type": "code",
   "execution_count": 21,
   "metadata": {},
   "outputs": [
    {
     "data": {
      "text/plain": [
       "True"
      ]
     },
     "execution_count": 21,
     "metadata": {},
     "output_type": "execute_result"
    }
   ],
   "source": [
    "surfaces.set_surfaces_names(['foo', 'foo2', 'foo5'])\n"
   ]
  },
  {
   "cell_type": "code",
   "execution_count": 22,
   "metadata": {},
   "outputs": [
    {
     "data": {
      "text/html": [
       "<table border=\"1\" class=\"dataframe\">\n",
       "  <thead>\n",
       "    <tr style=\"text-align: right;\">\n",
       "      <th></th>\n",
       "      <th>order_series</th>\n",
       "      <th>BottomRelation</th>\n",
       "    </tr>\n",
       "  </thead>\n",
       "  <tbody>\n",
       "    <tr>\n",
       "      <th>foo2</th>\n",
       "      <td>1</td>\n",
       "      <td>Erosion</td>\n",
       "    </tr>\n",
       "    <tr>\n",
       "      <th>boo</th>\n",
       "      <td>2</td>\n",
       "      <td>Erosion</td>\n",
       "    </tr>\n",
       "    <tr>\n",
       "      <th>foo7</th>\n",
       "      <td>3</td>\n",
       "      <td>Erosion</td>\n",
       "    </tr>\n",
       "    <tr>\n",
       "      <th>foo5</th>\n",
       "      <td>4</td>\n",
       "      <td>Erosion</td>\n",
       "    </tr>\n",
       "    <tr>\n",
       "      <th>foo20</th>\n",
       "      <td>5</td>\n",
       "      <td>Erosion</td>\n",
       "    </tr>\n",
       "  </tbody>\n",
       "</table>"
      ],
      "text/plain": [
       "       order_series BottomRelation\n",
       "foo2              1        Erosion\n",
       "boo               2        Erosion\n",
       "foo7              3        Erosion\n",
       "foo5              4        Erosion\n",
       "foo20             5        Erosion"
      ]
     },
     "execution_count": 22,
     "metadata": {},
     "output_type": "execute_result"
    }
   ],
   "source": [
    "series"
   ]
  },
  {
   "cell_type": "markdown",
   "metadata": {},
   "source": [
    "We can add new formations:"
   ]
  },
  {
   "cell_type": "code",
   "execution_count": 23,
   "metadata": {},
   "outputs": [
    {
     "data": {
      "text/html": [
       "<style  type=\"text/css\" >\n",
       "    #T_60d1e01a_6a50_11e9_8d4a_a34ed49059a2row0_col4 {\n",
       "            background-color:  #015482;\n",
       "        }    #T_60d1e01a_6a50_11e9_8d4a_a34ed49059a2row1_col4 {\n",
       "            background-color:  #9f0052;\n",
       "        }    #T_60d1e01a_6a50_11e9_8d4a_a34ed49059a2row2_col4 {\n",
       "            background-color:  #ffbe00;\n",
       "        }    #T_60d1e01a_6a50_11e9_8d4a_a34ed49059a2row3_col4 {\n",
       "            background-color:  #728f02;\n",
       "        }</style>  \n",
       "<table id=\"T_60d1e01a_6a50_11e9_8d4a_a34ed49059a2\" > \n",
       "<thead>    <tr> \n",
       "        <th class=\"blank level0\" ></th> \n",
       "        <th class=\"col_heading level0 col0\" >surface</th> \n",
       "        <th class=\"col_heading level0 col1\" >series</th> \n",
       "        <th class=\"col_heading level0 col2\" >order_surfaces</th> \n",
       "        <th class=\"col_heading level0 col3\" >isBasement</th> \n",
       "        <th class=\"col_heading level0 col4\" >color</th> \n",
       "        <th class=\"col_heading level0 col5\" >id</th> \n",
       "    </tr></thead> \n",
       "<tbody>    <tr> \n",
       "        <th id=\"T_60d1e01a_6a50_11e9_8d4a_a34ed49059a2level0_row0\" class=\"row_heading level0 row0\" >0</th> \n",
       "        <td id=\"T_60d1e01a_6a50_11e9_8d4a_a34ed49059a2row0_col0\" class=\"data row0 col0\" >foo</td> \n",
       "        <td id=\"T_60d1e01a_6a50_11e9_8d4a_a34ed49059a2row0_col1\" class=\"data row0 col1\" >foo20</td> \n",
       "        <td id=\"T_60d1e01a_6a50_11e9_8d4a_a34ed49059a2row0_col2\" class=\"data row0 col2\" >1</td> \n",
       "        <td id=\"T_60d1e01a_6a50_11e9_8d4a_a34ed49059a2row0_col3\" class=\"data row0 col3\" >False</td> \n",
       "        <td id=\"T_60d1e01a_6a50_11e9_8d4a_a34ed49059a2row0_col4\" class=\"data row0 col4\" >#015482</td> \n",
       "        <td id=\"T_60d1e01a_6a50_11e9_8d4a_a34ed49059a2row0_col5\" class=\"data row0 col5\" >1</td> \n",
       "    </tr>    <tr> \n",
       "        <th id=\"T_60d1e01a_6a50_11e9_8d4a_a34ed49059a2level0_row1\" class=\"row_heading level0 row1\" >1</th> \n",
       "        <td id=\"T_60d1e01a_6a50_11e9_8d4a_a34ed49059a2row1_col0\" class=\"data row1 col0\" >foo2</td> \n",
       "        <td id=\"T_60d1e01a_6a50_11e9_8d4a_a34ed49059a2row1_col1\" class=\"data row1 col1\" >foo20</td> \n",
       "        <td id=\"T_60d1e01a_6a50_11e9_8d4a_a34ed49059a2row1_col2\" class=\"data row1 col2\" >2</td> \n",
       "        <td id=\"T_60d1e01a_6a50_11e9_8d4a_a34ed49059a2row1_col3\" class=\"data row1 col3\" >False</td> \n",
       "        <td id=\"T_60d1e01a_6a50_11e9_8d4a_a34ed49059a2row1_col4\" class=\"data row1 col4\" >#9f0052</td> \n",
       "        <td id=\"T_60d1e01a_6a50_11e9_8d4a_a34ed49059a2row1_col5\" class=\"data row1 col5\" >2</td> \n",
       "    </tr>    <tr> \n",
       "        <th id=\"T_60d1e01a_6a50_11e9_8d4a_a34ed49059a2level0_row2\" class=\"row_heading level0 row2\" >2</th> \n",
       "        <td id=\"T_60d1e01a_6a50_11e9_8d4a_a34ed49059a2row2_col0\" class=\"data row2 col0\" >foo5</td> \n",
       "        <td id=\"T_60d1e01a_6a50_11e9_8d4a_a34ed49059a2row2_col1\" class=\"data row2 col1\" >foo20</td> \n",
       "        <td id=\"T_60d1e01a_6a50_11e9_8d4a_a34ed49059a2row2_col2\" class=\"data row2 col2\" >3</td> \n",
       "        <td id=\"T_60d1e01a_6a50_11e9_8d4a_a34ed49059a2row2_col3\" class=\"data row2 col3\" >False</td> \n",
       "        <td id=\"T_60d1e01a_6a50_11e9_8d4a_a34ed49059a2row2_col4\" class=\"data row2 col4\" >#ffbe00</td> \n",
       "        <td id=\"T_60d1e01a_6a50_11e9_8d4a_a34ed49059a2row2_col5\" class=\"data row2 col5\" >3</td> \n",
       "    </tr>    <tr> \n",
       "        <th id=\"T_60d1e01a_6a50_11e9_8d4a_a34ed49059a2level0_row3\" class=\"row_heading level0 row3\" >3</th> \n",
       "        <td id=\"T_60d1e01a_6a50_11e9_8d4a_a34ed49059a2row3_col0\" class=\"data row3 col0\" >feeeee</td> \n",
       "        <td id=\"T_60d1e01a_6a50_11e9_8d4a_a34ed49059a2row3_col1\" class=\"data row3 col1\" >foo20</td> \n",
       "        <td id=\"T_60d1e01a_6a50_11e9_8d4a_a34ed49059a2row3_col2\" class=\"data row3 col2\" >4</td> \n",
       "        <td id=\"T_60d1e01a_6a50_11e9_8d4a_a34ed49059a2row3_col3\" class=\"data row3 col3\" >True</td> \n",
       "        <td id=\"T_60d1e01a_6a50_11e9_8d4a_a34ed49059a2row3_col4\" class=\"data row3 col4\" >#728f02</td> \n",
       "        <td id=\"T_60d1e01a_6a50_11e9_8d4a_a34ed49059a2row3_col5\" class=\"data row3 col5\" >4</td> \n",
       "    </tr></tbody> \n",
       "</table> "
      ],
      "text/plain": [
       "  surface series  order_surfaces  isBasement    color vertices edges  id\n",
       "0     foo  foo20               1       False  #015482      NaN   NaN   1\n",
       "1    foo2  foo20               2       False  #9f0052      NaN   NaN   2\n",
       "2    foo5  foo20               3       False  #ffbe00      NaN   NaN   3\n",
       "3  feeeee  foo20               4        True  #728f02      NaN   NaN   4"
      ]
     },
     "execution_count": 23,
     "metadata": {},
     "output_type": "execute_result"
    }
   ],
   "source": [
    "surfaces.add_surface(['feeeee'])\n",
    "surfaces"
   ]
  },
  {
   "cell_type": "markdown",
   "metadata": {},
   "source": [
    "The column formation is also a pandas.Categories. This will be important for the Data clases (surface_points and Orientations)"
   ]
  },
  {
   "cell_type": "code",
   "execution_count": 24,
   "metadata": {},
   "outputs": [
    {
     "data": {
      "text/plain": [
       "0       foo\n",
       "1      foo2\n",
       "2      foo5\n",
       "3    feeeee\n",
       "Name: surface, dtype: object"
      ]
     },
     "execution_count": 24,
     "metadata": {},
     "output_type": "execute_result"
    }
   ],
   "source": [
    "surfaces.df['surface']"
   ]
  },
  {
   "cell_type": "code",
   "execution_count": 26,
   "metadata": {},
   "outputs": [
    {
     "data": {
      "text/html": [
       "<style  type=\"text/css\" >\n",
       "    #T_87ee0fca_6a50_11e9_8d4a_a34ed49059a2row0_col4 {\n",
       "            background-color:  #015482;\n",
       "        }    #T_87ee0fca_6a50_11e9_8d4a_a34ed49059a2row1_col4 {\n",
       "            background-color:  #9f0052;\n",
       "        }    #T_87ee0fca_6a50_11e9_8d4a_a34ed49059a2row2_col4 {\n",
       "            background-color:  #ffbe00;\n",
       "        }    #T_87ee0fca_6a50_11e9_8d4a_a34ed49059a2row3_col4 {\n",
       "            background-color:  #728f02;\n",
       "        }</style>  \n",
       "<table id=\"T_87ee0fca_6a50_11e9_8d4a_a34ed49059a2\" > \n",
       "<thead>    <tr> \n",
       "        <th class=\"blank level0\" ></th> \n",
       "        <th class=\"col_heading level0 col0\" >surface</th> \n",
       "        <th class=\"col_heading level0 col1\" >series</th> \n",
       "        <th class=\"col_heading level0 col2\" >order_surfaces</th> \n",
       "        <th class=\"col_heading level0 col3\" >isBasement</th> \n",
       "        <th class=\"col_heading level0 col4\" >color</th> \n",
       "        <th class=\"col_heading level0 col5\" >id</th> \n",
       "    </tr></thead> \n",
       "<tbody>    <tr> \n",
       "        <th id=\"T_87ee0fca_6a50_11e9_8d4a_a34ed49059a2level0_row0\" class=\"row_heading level0 row0\" >0</th> \n",
       "        <td id=\"T_87ee0fca_6a50_11e9_8d4a_a34ed49059a2row0_col0\" class=\"data row0 col0\" >foo</td> \n",
       "        <td id=\"T_87ee0fca_6a50_11e9_8d4a_a34ed49059a2row0_col1\" class=\"data row0 col1\" >foo20</td> \n",
       "        <td id=\"T_87ee0fca_6a50_11e9_8d4a_a34ed49059a2row0_col2\" class=\"data row0 col2\" >1</td> \n",
       "        <td id=\"T_87ee0fca_6a50_11e9_8d4a_a34ed49059a2row0_col3\" class=\"data row0 col3\" >False</td> \n",
       "        <td id=\"T_87ee0fca_6a50_11e9_8d4a_a34ed49059a2row0_col4\" class=\"data row0 col4\" >#015482</td> \n",
       "        <td id=\"T_87ee0fca_6a50_11e9_8d4a_a34ed49059a2row0_col5\" class=\"data row0 col5\" >1</td> \n",
       "    </tr>    <tr> \n",
       "        <th id=\"T_87ee0fca_6a50_11e9_8d4a_a34ed49059a2level0_row1\" class=\"row_heading level0 row1\" >1</th> \n",
       "        <td id=\"T_87ee0fca_6a50_11e9_8d4a_a34ed49059a2row1_col0\" class=\"data row1 col0\" >foo2</td> \n",
       "        <td id=\"T_87ee0fca_6a50_11e9_8d4a_a34ed49059a2row1_col1\" class=\"data row1 col1\" >foo20</td> \n",
       "        <td id=\"T_87ee0fca_6a50_11e9_8d4a_a34ed49059a2row1_col2\" class=\"data row1 col2\" >2</td> \n",
       "        <td id=\"T_87ee0fca_6a50_11e9_8d4a_a34ed49059a2row1_col3\" class=\"data row1 col3\" >False</td> \n",
       "        <td id=\"T_87ee0fca_6a50_11e9_8d4a_a34ed49059a2row1_col4\" class=\"data row1 col4\" >#9f0052</td> \n",
       "        <td id=\"T_87ee0fca_6a50_11e9_8d4a_a34ed49059a2row1_col5\" class=\"data row1 col5\" >2</td> \n",
       "    </tr>    <tr> \n",
       "        <th id=\"T_87ee0fca_6a50_11e9_8d4a_a34ed49059a2level0_row2\" class=\"row_heading level0 row2\" >2</th> \n",
       "        <td id=\"T_87ee0fca_6a50_11e9_8d4a_a34ed49059a2row2_col0\" class=\"data row2 col0\" >foo5</td> \n",
       "        <td id=\"T_87ee0fca_6a50_11e9_8d4a_a34ed49059a2row2_col1\" class=\"data row2 col1\" >foo20</td> \n",
       "        <td id=\"T_87ee0fca_6a50_11e9_8d4a_a34ed49059a2row2_col2\" class=\"data row2 col2\" >3</td> \n",
       "        <td id=\"T_87ee0fca_6a50_11e9_8d4a_a34ed49059a2row2_col3\" class=\"data row2 col3\" >False</td> \n",
       "        <td id=\"T_87ee0fca_6a50_11e9_8d4a_a34ed49059a2row2_col4\" class=\"data row2 col4\" >#ffbe00</td> \n",
       "        <td id=\"T_87ee0fca_6a50_11e9_8d4a_a34ed49059a2row2_col5\" class=\"data row2 col5\" >3</td> \n",
       "    </tr>    <tr> \n",
       "        <th id=\"T_87ee0fca_6a50_11e9_8d4a_a34ed49059a2level0_row3\" class=\"row_heading level0 row3\" >3</th> \n",
       "        <td id=\"T_87ee0fca_6a50_11e9_8d4a_a34ed49059a2row3_col0\" class=\"data row3 col0\" >feeeee</td> \n",
       "        <td id=\"T_87ee0fca_6a50_11e9_8d4a_a34ed49059a2row3_col1\" class=\"data row3 col1\" >foo20</td> \n",
       "        <td id=\"T_87ee0fca_6a50_11e9_8d4a_a34ed49059a2row3_col2\" class=\"data row3 col2\" >4</td> \n",
       "        <td id=\"T_87ee0fca_6a50_11e9_8d4a_a34ed49059a2row3_col3\" class=\"data row3 col3\" >True</td> \n",
       "        <td id=\"T_87ee0fca_6a50_11e9_8d4a_a34ed49059a2row3_col4\" class=\"data row3 col4\" >#728f02</td> \n",
       "        <td id=\"T_87ee0fca_6a50_11e9_8d4a_a34ed49059a2row3_col5\" class=\"data row3 col5\" >4</td> \n",
       "    </tr></tbody> \n",
       "</table> "
      ],
      "text/plain": [
       "  surface series  order_surfaces  isBasement    color vertices edges  id\n",
       "0     foo  foo20               1       False  #015482      NaN   NaN   1\n",
       "1    foo2  foo20               2       False  #9f0052      NaN   NaN   2\n",
       "2    foo5  foo20               3       False  #ffbe00      NaN   NaN   3\n",
       "3  feeeee  foo20               4        True  #728f02      NaN   NaN   4"
      ]
     },
     "execution_count": 26,
     "metadata": {},
     "output_type": "execute_result"
    }
   ],
   "source": [
    "surfaces"
   ]
  },
  {
   "cell_type": "code",
   "execution_count": 27,
   "metadata": {},
   "outputs": [
    {
     "data": {
      "text/html": [
       "<style  type=\"text/css\" >\n",
       "    #T_b6f7be10_6a50_11e9_8d4a_a34ed49059a2row0_col4 {\n",
       "            background-color:  #015482;\n",
       "        }    #T_b6f7be10_6a50_11e9_8d4a_a34ed49059a2row1_col4 {\n",
       "            background-color:  #9f0052;\n",
       "        }    #T_b6f7be10_6a50_11e9_8d4a_a34ed49059a2row2_col4 {\n",
       "            background-color:  #ffbe00;\n",
       "        }    #T_b6f7be10_6a50_11e9_8d4a_a34ed49059a2row3_col4 {\n",
       "            background-color:  #728f02;\n",
       "        }</style>  \n",
       "<table id=\"T_b6f7be10_6a50_11e9_8d4a_a34ed49059a2\" > \n",
       "<thead>    <tr> \n",
       "        <th class=\"blank level0\" ></th> \n",
       "        <th class=\"col_heading level0 col0\" >surface</th> \n",
       "        <th class=\"col_heading level0 col1\" >series</th> \n",
       "        <th class=\"col_heading level0 col2\" >order_surfaces</th> \n",
       "        <th class=\"col_heading level0 col3\" >isBasement</th> \n",
       "        <th class=\"col_heading level0 col4\" >color</th> \n",
       "        <th class=\"col_heading level0 col5\" >id</th> \n",
       "    </tr></thead> \n",
       "<tbody>    <tr> \n",
       "        <th id=\"T_b6f7be10_6a50_11e9_8d4a_a34ed49059a2level0_row0\" class=\"row_heading level0 row0\" >0</th> \n",
       "        <td id=\"T_b6f7be10_6a50_11e9_8d4a_a34ed49059a2row0_col0\" class=\"data row0 col0\" >foo</td> \n",
       "        <td id=\"T_b6f7be10_6a50_11e9_8d4a_a34ed49059a2row0_col1\" class=\"data row0 col1\" >foo20</td> \n",
       "        <td id=\"T_b6f7be10_6a50_11e9_8d4a_a34ed49059a2row0_col2\" class=\"data row0 col2\" >1</td> \n",
       "        <td id=\"T_b6f7be10_6a50_11e9_8d4a_a34ed49059a2row0_col3\" class=\"data row0 col3\" >False</td> \n",
       "        <td id=\"T_b6f7be10_6a50_11e9_8d4a_a34ed49059a2row0_col4\" class=\"data row0 col4\" >#015482</td> \n",
       "        <td id=\"T_b6f7be10_6a50_11e9_8d4a_a34ed49059a2row0_col5\" class=\"data row0 col5\" >1</td> \n",
       "    </tr>    <tr> \n",
       "        <th id=\"T_b6f7be10_6a50_11e9_8d4a_a34ed49059a2level0_row1\" class=\"row_heading level0 row1\" >1</th> \n",
       "        <td id=\"T_b6f7be10_6a50_11e9_8d4a_a34ed49059a2row1_col0\" class=\"data row1 col0\" >foo2</td> \n",
       "        <td id=\"T_b6f7be10_6a50_11e9_8d4a_a34ed49059a2row1_col1\" class=\"data row1 col1\" >foo20</td> \n",
       "        <td id=\"T_b6f7be10_6a50_11e9_8d4a_a34ed49059a2row1_col2\" class=\"data row1 col2\" >2</td> \n",
       "        <td id=\"T_b6f7be10_6a50_11e9_8d4a_a34ed49059a2row1_col3\" class=\"data row1 col3\" >False</td> \n",
       "        <td id=\"T_b6f7be10_6a50_11e9_8d4a_a34ed49059a2row1_col4\" class=\"data row1 col4\" >#9f0052</td> \n",
       "        <td id=\"T_b6f7be10_6a50_11e9_8d4a_a34ed49059a2row1_col5\" class=\"data row1 col5\" >2</td> \n",
       "    </tr>    <tr> \n",
       "        <th id=\"T_b6f7be10_6a50_11e9_8d4a_a34ed49059a2level0_row2\" class=\"row_heading level0 row2\" >2</th> \n",
       "        <td id=\"T_b6f7be10_6a50_11e9_8d4a_a34ed49059a2row2_col0\" class=\"data row2 col0\" >foo5</td> \n",
       "        <td id=\"T_b6f7be10_6a50_11e9_8d4a_a34ed49059a2row2_col1\" class=\"data row2 col1\" >foo20</td> \n",
       "        <td id=\"T_b6f7be10_6a50_11e9_8d4a_a34ed49059a2row2_col2\" class=\"data row2 col2\" >3</td> \n",
       "        <td id=\"T_b6f7be10_6a50_11e9_8d4a_a34ed49059a2row2_col3\" class=\"data row2 col3\" >False</td> \n",
       "        <td id=\"T_b6f7be10_6a50_11e9_8d4a_a34ed49059a2row2_col4\" class=\"data row2 col4\" >#ffbe00</td> \n",
       "        <td id=\"T_b6f7be10_6a50_11e9_8d4a_a34ed49059a2row2_col5\" class=\"data row2 col5\" >3</td> \n",
       "    </tr>    <tr> \n",
       "        <th id=\"T_b6f7be10_6a50_11e9_8d4a_a34ed49059a2level0_row3\" class=\"row_heading level0 row3\" >3</th> \n",
       "        <td id=\"T_b6f7be10_6a50_11e9_8d4a_a34ed49059a2row3_col0\" class=\"data row3 col0\" >feeeee</td> \n",
       "        <td id=\"T_b6f7be10_6a50_11e9_8d4a_a34ed49059a2row3_col1\" class=\"data row3 col1\" >foo20</td> \n",
       "        <td id=\"T_b6f7be10_6a50_11e9_8d4a_a34ed49059a2row3_col2\" class=\"data row3 col2\" >4</td> \n",
       "        <td id=\"T_b6f7be10_6a50_11e9_8d4a_a34ed49059a2row3_col3\" class=\"data row3 col3\" >True</td> \n",
       "        <td id=\"T_b6f7be10_6a50_11e9_8d4a_a34ed49059a2row3_col4\" class=\"data row3 col4\" >#728f02</td> \n",
       "        <td id=\"T_b6f7be10_6a50_11e9_8d4a_a34ed49059a2row3_col5\" class=\"data row3 col5\" >4</td> \n",
       "    </tr></tbody> \n",
       "</table> "
      ],
      "text/plain": [
       "  surface series  order_surfaces  isBasement    color vertices edges  id\n",
       "0     foo  foo20               1       False  #015482      NaN   NaN   1\n",
       "1    foo2  foo20               2       False  #9f0052      NaN   NaN   2\n",
       "2    foo5  foo20               3       False  #ffbe00      NaN   NaN   3\n",
       "3  feeeee  foo20               4        True  #728f02      NaN   NaN   4"
      ]
     },
     "execution_count": 27,
     "metadata": {},
     "output_type": "execute_result"
    }
   ],
   "source": [
    "surfaces"
   ]
  },
  {
   "cell_type": "markdown",
   "metadata": {},
   "source": [
    "### Set values\n",
    "\n",
    "To set the values we do it with the following method"
   ]
  },
  {
   "cell_type": "code",
   "execution_count": 28,
   "metadata": {},
   "outputs": [
    {
     "data": {
      "text/html": [
       "<style  type=\"text/css\" >\n",
       "    #T_b6fb2690_6a50_11e9_8d4a_a34ed49059a2row0_col4 {\n",
       "            background-color:  #015482;\n",
       "        }    #T_b6fb2690_6a50_11e9_8d4a_a34ed49059a2row1_col4 {\n",
       "            background-color:  #9f0052;\n",
       "        }    #T_b6fb2690_6a50_11e9_8d4a_a34ed49059a2row2_col4 {\n",
       "            background-color:  #ffbe00;\n",
       "        }    #T_b6fb2690_6a50_11e9_8d4a_a34ed49059a2row3_col4 {\n",
       "            background-color:  #728f02;\n",
       "        }</style>  \n",
       "<table id=\"T_b6fb2690_6a50_11e9_8d4a_a34ed49059a2\" > \n",
       "<thead>    <tr> \n",
       "        <th class=\"blank level0\" ></th> \n",
       "        <th class=\"col_heading level0 col0\" >surface</th> \n",
       "        <th class=\"col_heading level0 col1\" >series</th> \n",
       "        <th class=\"col_heading level0 col2\" >order_surfaces</th> \n",
       "        <th class=\"col_heading level0 col3\" >isBasement</th> \n",
       "        <th class=\"col_heading level0 col4\" >color</th> \n",
       "        <th class=\"col_heading level0 col5\" >id</th> \n",
       "        <th class=\"col_heading level0 col6\" >value_0</th> \n",
       "    </tr></thead> \n",
       "<tbody>    <tr> \n",
       "        <th id=\"T_b6fb2690_6a50_11e9_8d4a_a34ed49059a2level0_row0\" class=\"row_heading level0 row0\" >0</th> \n",
       "        <td id=\"T_b6fb2690_6a50_11e9_8d4a_a34ed49059a2row0_col0\" class=\"data row0 col0\" >foo</td> \n",
       "        <td id=\"T_b6fb2690_6a50_11e9_8d4a_a34ed49059a2row0_col1\" class=\"data row0 col1\" >foo20</td> \n",
       "        <td id=\"T_b6fb2690_6a50_11e9_8d4a_a34ed49059a2row0_col2\" class=\"data row0 col2\" >1</td> \n",
       "        <td id=\"T_b6fb2690_6a50_11e9_8d4a_a34ed49059a2row0_col3\" class=\"data row0 col3\" >False</td> \n",
       "        <td id=\"T_b6fb2690_6a50_11e9_8d4a_a34ed49059a2row0_col4\" class=\"data row0 col4\" >#015482</td> \n",
       "        <td id=\"T_b6fb2690_6a50_11e9_8d4a_a34ed49059a2row0_col5\" class=\"data row0 col5\" >1</td> \n",
       "        <td id=\"T_b6fb2690_6a50_11e9_8d4a_a34ed49059a2row0_col6\" class=\"data row0 col6\" >2</td> \n",
       "    </tr>    <tr> \n",
       "        <th id=\"T_b6fb2690_6a50_11e9_8d4a_a34ed49059a2level0_row1\" class=\"row_heading level0 row1\" >1</th> \n",
       "        <td id=\"T_b6fb2690_6a50_11e9_8d4a_a34ed49059a2row1_col0\" class=\"data row1 col0\" >foo2</td> \n",
       "        <td id=\"T_b6fb2690_6a50_11e9_8d4a_a34ed49059a2row1_col1\" class=\"data row1 col1\" >foo20</td> \n",
       "        <td id=\"T_b6fb2690_6a50_11e9_8d4a_a34ed49059a2row1_col2\" class=\"data row1 col2\" >2</td> \n",
       "        <td id=\"T_b6fb2690_6a50_11e9_8d4a_a34ed49059a2row1_col3\" class=\"data row1 col3\" >False</td> \n",
       "        <td id=\"T_b6fb2690_6a50_11e9_8d4a_a34ed49059a2row1_col4\" class=\"data row1 col4\" >#9f0052</td> \n",
       "        <td id=\"T_b6fb2690_6a50_11e9_8d4a_a34ed49059a2row1_col5\" class=\"data row1 col5\" >2</td> \n",
       "        <td id=\"T_b6fb2690_6a50_11e9_8d4a_a34ed49059a2row1_col6\" class=\"data row1 col6\" >2</td> \n",
       "    </tr>    <tr> \n",
       "        <th id=\"T_b6fb2690_6a50_11e9_8d4a_a34ed49059a2level0_row2\" class=\"row_heading level0 row2\" >2</th> \n",
       "        <td id=\"T_b6fb2690_6a50_11e9_8d4a_a34ed49059a2row2_col0\" class=\"data row2 col0\" >foo5</td> \n",
       "        <td id=\"T_b6fb2690_6a50_11e9_8d4a_a34ed49059a2row2_col1\" class=\"data row2 col1\" >foo20</td> \n",
       "        <td id=\"T_b6fb2690_6a50_11e9_8d4a_a34ed49059a2row2_col2\" class=\"data row2 col2\" >3</td> \n",
       "        <td id=\"T_b6fb2690_6a50_11e9_8d4a_a34ed49059a2row2_col3\" class=\"data row2 col3\" >False</td> \n",
       "        <td id=\"T_b6fb2690_6a50_11e9_8d4a_a34ed49059a2row2_col4\" class=\"data row2 col4\" >#ffbe00</td> \n",
       "        <td id=\"T_b6fb2690_6a50_11e9_8d4a_a34ed49059a2row2_col5\" class=\"data row2 col5\" >3</td> \n",
       "        <td id=\"T_b6fb2690_6a50_11e9_8d4a_a34ed49059a2row2_col6\" class=\"data row2 col6\" >2</td> \n",
       "    </tr>    <tr> \n",
       "        <th id=\"T_b6fb2690_6a50_11e9_8d4a_a34ed49059a2level0_row3\" class=\"row_heading level0 row3\" >3</th> \n",
       "        <td id=\"T_b6fb2690_6a50_11e9_8d4a_a34ed49059a2row3_col0\" class=\"data row3 col0\" >feeeee</td> \n",
       "        <td id=\"T_b6fb2690_6a50_11e9_8d4a_a34ed49059a2row3_col1\" class=\"data row3 col1\" >foo20</td> \n",
       "        <td id=\"T_b6fb2690_6a50_11e9_8d4a_a34ed49059a2row3_col2\" class=\"data row3 col2\" >4</td> \n",
       "        <td id=\"T_b6fb2690_6a50_11e9_8d4a_a34ed49059a2row3_col3\" class=\"data row3 col3\" >True</td> \n",
       "        <td id=\"T_b6fb2690_6a50_11e9_8d4a_a34ed49059a2row3_col4\" class=\"data row3 col4\" >#728f02</td> \n",
       "        <td id=\"T_b6fb2690_6a50_11e9_8d4a_a34ed49059a2row3_col5\" class=\"data row3 col5\" >4</td> \n",
       "        <td id=\"T_b6fb2690_6a50_11e9_8d4a_a34ed49059a2row3_col6\" class=\"data row3 col6\" >5</td> \n",
       "    </tr></tbody> \n",
       "</table> "
      ],
      "text/plain": [
       "  surface series  order_surfaces  isBasement    color  id  value_0\n",
       "0     foo  foo20               1       False  #015482   1        2\n",
       "1    foo2  foo20               2       False  #9f0052   2        2\n",
       "2    foo5  foo20               3       False  #ffbe00   3        2\n",
       "3  feeeee  foo20               4        True  #728f02   4        5"
      ]
     },
     "execution_count": 28,
     "metadata": {},
     "output_type": "execute_result"
    }
   ],
   "source": [
    "surfaces.set_surfaces_values([2,2,2,5])"
   ]
  },
  {
   "cell_type": "code",
   "execution_count": 29,
   "metadata": {},
   "outputs": [
    {
     "data": {
      "text/html": [
       "<style  type=\"text/css\" >\n",
       "    #T_b6fd4006_6a50_11e9_8d4a_a34ed49059a2row0_col4 {\n",
       "            background-color:  #015482;\n",
       "        }    #T_b6fd4006_6a50_11e9_8d4a_a34ed49059a2row1_col4 {\n",
       "            background-color:  #9f0052;\n",
       "        }    #T_b6fd4006_6a50_11e9_8d4a_a34ed49059a2row2_col4 {\n",
       "            background-color:  #ffbe00;\n",
       "        }    #T_b6fd4006_6a50_11e9_8d4a_a34ed49059a2row3_col4 {\n",
       "            background-color:  #728f02;\n",
       "        }</style>  \n",
       "<table id=\"T_b6fd4006_6a50_11e9_8d4a_a34ed49059a2\" > \n",
       "<thead>    <tr> \n",
       "        <th class=\"blank level0\" ></th> \n",
       "        <th class=\"col_heading level0 col0\" >surface</th> \n",
       "        <th class=\"col_heading level0 col1\" >series</th> \n",
       "        <th class=\"col_heading level0 col2\" >order_surfaces</th> \n",
       "        <th class=\"col_heading level0 col3\" >isBasement</th> \n",
       "        <th class=\"col_heading level0 col4\" >color</th> \n",
       "        <th class=\"col_heading level0 col5\" >id</th> \n",
       "        <th class=\"col_heading level0 col6\" >value_0</th> \n",
       "    </tr></thead> \n",
       "<tbody>    <tr> \n",
       "        <th id=\"T_b6fd4006_6a50_11e9_8d4a_a34ed49059a2level0_row0\" class=\"row_heading level0 row0\" >0</th> \n",
       "        <td id=\"T_b6fd4006_6a50_11e9_8d4a_a34ed49059a2row0_col0\" class=\"data row0 col0\" >foo</td> \n",
       "        <td id=\"T_b6fd4006_6a50_11e9_8d4a_a34ed49059a2row0_col1\" class=\"data row0 col1\" >foo20</td> \n",
       "        <td id=\"T_b6fd4006_6a50_11e9_8d4a_a34ed49059a2row0_col2\" class=\"data row0 col2\" >1</td> \n",
       "        <td id=\"T_b6fd4006_6a50_11e9_8d4a_a34ed49059a2row0_col3\" class=\"data row0 col3\" >False</td> \n",
       "        <td id=\"T_b6fd4006_6a50_11e9_8d4a_a34ed49059a2row0_col4\" class=\"data row0 col4\" >#015482</td> \n",
       "        <td id=\"T_b6fd4006_6a50_11e9_8d4a_a34ed49059a2row0_col5\" class=\"data row0 col5\" >1</td> \n",
       "        <td id=\"T_b6fd4006_6a50_11e9_8d4a_a34ed49059a2row0_col6\" class=\"data row0 col6\" >2</td> \n",
       "    </tr>    <tr> \n",
       "        <th id=\"T_b6fd4006_6a50_11e9_8d4a_a34ed49059a2level0_row1\" class=\"row_heading level0 row1\" >1</th> \n",
       "        <td id=\"T_b6fd4006_6a50_11e9_8d4a_a34ed49059a2row1_col0\" class=\"data row1 col0\" >foo2</td> \n",
       "        <td id=\"T_b6fd4006_6a50_11e9_8d4a_a34ed49059a2row1_col1\" class=\"data row1 col1\" >foo20</td> \n",
       "        <td id=\"T_b6fd4006_6a50_11e9_8d4a_a34ed49059a2row1_col2\" class=\"data row1 col2\" >2</td> \n",
       "        <td id=\"T_b6fd4006_6a50_11e9_8d4a_a34ed49059a2row1_col3\" class=\"data row1 col3\" >False</td> \n",
       "        <td id=\"T_b6fd4006_6a50_11e9_8d4a_a34ed49059a2row1_col4\" class=\"data row1 col4\" >#9f0052</td> \n",
       "        <td id=\"T_b6fd4006_6a50_11e9_8d4a_a34ed49059a2row1_col5\" class=\"data row1 col5\" >2</td> \n",
       "        <td id=\"T_b6fd4006_6a50_11e9_8d4a_a34ed49059a2row1_col6\" class=\"data row1 col6\" >2</td> \n",
       "    </tr>    <tr> \n",
       "        <th id=\"T_b6fd4006_6a50_11e9_8d4a_a34ed49059a2level0_row2\" class=\"row_heading level0 row2\" >2</th> \n",
       "        <td id=\"T_b6fd4006_6a50_11e9_8d4a_a34ed49059a2row2_col0\" class=\"data row2 col0\" >foo5</td> \n",
       "        <td id=\"T_b6fd4006_6a50_11e9_8d4a_a34ed49059a2row2_col1\" class=\"data row2 col1\" >foo20</td> \n",
       "        <td id=\"T_b6fd4006_6a50_11e9_8d4a_a34ed49059a2row2_col2\" class=\"data row2 col2\" >3</td> \n",
       "        <td id=\"T_b6fd4006_6a50_11e9_8d4a_a34ed49059a2row2_col3\" class=\"data row2 col3\" >False</td> \n",
       "        <td id=\"T_b6fd4006_6a50_11e9_8d4a_a34ed49059a2row2_col4\" class=\"data row2 col4\" >#ffbe00</td> \n",
       "        <td id=\"T_b6fd4006_6a50_11e9_8d4a_a34ed49059a2row2_col5\" class=\"data row2 col5\" >3</td> \n",
       "        <td id=\"T_b6fd4006_6a50_11e9_8d4a_a34ed49059a2row2_col6\" class=\"data row2 col6\" >2</td> \n",
       "    </tr>    <tr> \n",
       "        <th id=\"T_b6fd4006_6a50_11e9_8d4a_a34ed49059a2level0_row3\" class=\"row_heading level0 row3\" >3</th> \n",
       "        <td id=\"T_b6fd4006_6a50_11e9_8d4a_a34ed49059a2row3_col0\" class=\"data row3 col0\" >feeeee</td> \n",
       "        <td id=\"T_b6fd4006_6a50_11e9_8d4a_a34ed49059a2row3_col1\" class=\"data row3 col1\" >foo20</td> \n",
       "        <td id=\"T_b6fd4006_6a50_11e9_8d4a_a34ed49059a2row3_col2\" class=\"data row3 col2\" >4</td> \n",
       "        <td id=\"T_b6fd4006_6a50_11e9_8d4a_a34ed49059a2row3_col3\" class=\"data row3 col3\" >True</td> \n",
       "        <td id=\"T_b6fd4006_6a50_11e9_8d4a_a34ed49059a2row3_col4\" class=\"data row3 col4\" >#728f02</td> \n",
       "        <td id=\"T_b6fd4006_6a50_11e9_8d4a_a34ed49059a2row3_col5\" class=\"data row3 col5\" >4</td> \n",
       "        <td id=\"T_b6fd4006_6a50_11e9_8d4a_a34ed49059a2row3_col6\" class=\"data row3 col6\" >5</td> \n",
       "    </tr></tbody> \n",
       "</table> "
      ],
      "text/plain": [
       "  surface series  order_surfaces  isBasement    color  id  value_0\n",
       "0     foo  foo20               1       False  #015482   1        2\n",
       "1    foo2  foo20               2       False  #9f0052   2        2\n",
       "2    foo5  foo20               3       False  #ffbe00   3        2\n",
       "3  feeeee  foo20               4        True  #728f02   4        5"
      ]
     },
     "execution_count": 29,
     "metadata": {},
     "output_type": "execute_result"
    }
   ],
   "source": [
    "surfaces"
   ]
  },
  {
   "cell_type": "markdown",
   "metadata": {},
   "source": [
    "#### Set values with a given name:\n",
    "\n",
    "We can give specific names to the properties (i.e. density)"
   ]
  },
  {
   "cell_type": "code",
   "execution_count": 30,
   "metadata": {},
   "outputs": [
    {
     "data": {
      "text/html": [
       "<style  type=\"text/css\" >\n",
       "    #T_b7000066_6a50_11e9_8d4a_a34ed49059a2row0_col4 {\n",
       "            background-color:  #015482;\n",
       "        }    #T_b7000066_6a50_11e9_8d4a_a34ed49059a2row1_col4 {\n",
       "            background-color:  #9f0052;\n",
       "        }    #T_b7000066_6a50_11e9_8d4a_a34ed49059a2row2_col4 {\n",
       "            background-color:  #ffbe00;\n",
       "        }    #T_b7000066_6a50_11e9_8d4a_a34ed49059a2row3_col4 {\n",
       "            background-color:  #728f02;\n",
       "        }</style>  \n",
       "<table id=\"T_b7000066_6a50_11e9_8d4a_a34ed49059a2\" > \n",
       "<thead>    <tr> \n",
       "        <th class=\"blank level0\" ></th> \n",
       "        <th class=\"col_heading level0 col0\" >surface</th> \n",
       "        <th class=\"col_heading level0 col1\" >series</th> \n",
       "        <th class=\"col_heading level0 col2\" >order_surfaces</th> \n",
       "        <th class=\"col_heading level0 col3\" >isBasement</th> \n",
       "        <th class=\"col_heading level0 col4\" >color</th> \n",
       "        <th class=\"col_heading level0 col5\" >id</th> \n",
       "        <th class=\"col_heading level0 col6\" >value_0</th> \n",
       "        <th class=\"col_heading level0 col7\" >val_foo</th> \n",
       "        <th class=\"col_heading level0 col8\" >val2_foo</th> \n",
       "    </tr></thead> \n",
       "<tbody>    <tr> \n",
       "        <th id=\"T_b7000066_6a50_11e9_8d4a_a34ed49059a2level0_row0\" class=\"row_heading level0 row0\" >0</th> \n",
       "        <td id=\"T_b7000066_6a50_11e9_8d4a_a34ed49059a2row0_col0\" class=\"data row0 col0\" >foo</td> \n",
       "        <td id=\"T_b7000066_6a50_11e9_8d4a_a34ed49059a2row0_col1\" class=\"data row0 col1\" >foo20</td> \n",
       "        <td id=\"T_b7000066_6a50_11e9_8d4a_a34ed49059a2row0_col2\" class=\"data row0 col2\" >1</td> \n",
       "        <td id=\"T_b7000066_6a50_11e9_8d4a_a34ed49059a2row0_col3\" class=\"data row0 col3\" >False</td> \n",
       "        <td id=\"T_b7000066_6a50_11e9_8d4a_a34ed49059a2row0_col4\" class=\"data row0 col4\" >#015482</td> \n",
       "        <td id=\"T_b7000066_6a50_11e9_8d4a_a34ed49059a2row0_col5\" class=\"data row0 col5\" >1</td> \n",
       "        <td id=\"T_b7000066_6a50_11e9_8d4a_a34ed49059a2row0_col6\" class=\"data row0 col6\" >2</td> \n",
       "        <td id=\"T_b7000066_6a50_11e9_8d4a_a34ed49059a2row0_col7\" class=\"data row0 col7\" >2</td> \n",
       "        <td id=\"T_b7000066_6a50_11e9_8d4a_a34ed49059a2row0_col8\" class=\"data row0 col8\" >2</td> \n",
       "    </tr>    <tr> \n",
       "        <th id=\"T_b7000066_6a50_11e9_8d4a_a34ed49059a2level0_row1\" class=\"row_heading level0 row1\" >1</th> \n",
       "        <td id=\"T_b7000066_6a50_11e9_8d4a_a34ed49059a2row1_col0\" class=\"data row1 col0\" >foo2</td> \n",
       "        <td id=\"T_b7000066_6a50_11e9_8d4a_a34ed49059a2row1_col1\" class=\"data row1 col1\" >foo20</td> \n",
       "        <td id=\"T_b7000066_6a50_11e9_8d4a_a34ed49059a2row1_col2\" class=\"data row1 col2\" >2</td> \n",
       "        <td id=\"T_b7000066_6a50_11e9_8d4a_a34ed49059a2row1_col3\" class=\"data row1 col3\" >False</td> \n",
       "        <td id=\"T_b7000066_6a50_11e9_8d4a_a34ed49059a2row1_col4\" class=\"data row1 col4\" >#9f0052</td> \n",
       "        <td id=\"T_b7000066_6a50_11e9_8d4a_a34ed49059a2row1_col5\" class=\"data row1 col5\" >2</td> \n",
       "        <td id=\"T_b7000066_6a50_11e9_8d4a_a34ed49059a2row1_col6\" class=\"data row1 col6\" >2</td> \n",
       "        <td id=\"T_b7000066_6a50_11e9_8d4a_a34ed49059a2row1_col7\" class=\"data row1 col7\" >2</td> \n",
       "        <td id=\"T_b7000066_6a50_11e9_8d4a_a34ed49059a2row1_col8\" class=\"data row1 col8\" >2</td> \n",
       "    </tr>    <tr> \n",
       "        <th id=\"T_b7000066_6a50_11e9_8d4a_a34ed49059a2level0_row2\" class=\"row_heading level0 row2\" >2</th> \n",
       "        <td id=\"T_b7000066_6a50_11e9_8d4a_a34ed49059a2row2_col0\" class=\"data row2 col0\" >foo5</td> \n",
       "        <td id=\"T_b7000066_6a50_11e9_8d4a_a34ed49059a2row2_col1\" class=\"data row2 col1\" >foo20</td> \n",
       "        <td id=\"T_b7000066_6a50_11e9_8d4a_a34ed49059a2row2_col2\" class=\"data row2 col2\" >3</td> \n",
       "        <td id=\"T_b7000066_6a50_11e9_8d4a_a34ed49059a2row2_col3\" class=\"data row2 col3\" >False</td> \n",
       "        <td id=\"T_b7000066_6a50_11e9_8d4a_a34ed49059a2row2_col4\" class=\"data row2 col4\" >#ffbe00</td> \n",
       "        <td id=\"T_b7000066_6a50_11e9_8d4a_a34ed49059a2row2_col5\" class=\"data row2 col5\" >3</td> \n",
       "        <td id=\"T_b7000066_6a50_11e9_8d4a_a34ed49059a2row2_col6\" class=\"data row2 col6\" >2</td> \n",
       "        <td id=\"T_b7000066_6a50_11e9_8d4a_a34ed49059a2row2_col7\" class=\"data row2 col7\" >2</td> \n",
       "        <td id=\"T_b7000066_6a50_11e9_8d4a_a34ed49059a2row2_col8\" class=\"data row2 col8\" >1</td> \n",
       "    </tr>    <tr> \n",
       "        <th id=\"T_b7000066_6a50_11e9_8d4a_a34ed49059a2level0_row3\" class=\"row_heading level0 row3\" >3</th> \n",
       "        <td id=\"T_b7000066_6a50_11e9_8d4a_a34ed49059a2row3_col0\" class=\"data row3 col0\" >feeeee</td> \n",
       "        <td id=\"T_b7000066_6a50_11e9_8d4a_a34ed49059a2row3_col1\" class=\"data row3 col1\" >foo20</td> \n",
       "        <td id=\"T_b7000066_6a50_11e9_8d4a_a34ed49059a2row3_col2\" class=\"data row3 col2\" >4</td> \n",
       "        <td id=\"T_b7000066_6a50_11e9_8d4a_a34ed49059a2row3_col3\" class=\"data row3 col3\" >True</td> \n",
       "        <td id=\"T_b7000066_6a50_11e9_8d4a_a34ed49059a2row3_col4\" class=\"data row3 col4\" >#728f02</td> \n",
       "        <td id=\"T_b7000066_6a50_11e9_8d4a_a34ed49059a2row3_col5\" class=\"data row3 col5\" >4</td> \n",
       "        <td id=\"T_b7000066_6a50_11e9_8d4a_a34ed49059a2row3_col6\" class=\"data row3 col6\" >5</td> \n",
       "        <td id=\"T_b7000066_6a50_11e9_8d4a_a34ed49059a2row3_col7\" class=\"data row3 col7\" >6</td> \n",
       "        <td id=\"T_b7000066_6a50_11e9_8d4a_a34ed49059a2row3_col8\" class=\"data row3 col8\" >8</td> \n",
       "    </tr></tbody> \n",
       "</table> "
      ],
      "text/plain": [
       "  surface series  order_surfaces  isBasement    color  id  value_0  val_foo  val2_foo\n",
       "0     foo  foo20               1       False  #015482   1        2        2         2\n",
       "1    foo2  foo20               2       False  #9f0052   2        2        2         2\n",
       "2    foo5  foo20               3       False  #ffbe00   3        2        2         1\n",
       "3  feeeee  foo20               4        True  #728f02   4        5        6         8"
      ]
     },
     "execution_count": 30,
     "metadata": {},
     "output_type": "execute_result"
    }
   ],
   "source": [
    "surfaces.add_surfaces_values([[2,2,2,6], [2,2,1,8]], ['val_foo', 'val2_foo'])"
   ]
  },
  {
   "cell_type": "code",
   "execution_count": 31,
   "metadata": {
    "scrolled": false
   },
   "outputs": [
    {
     "data": {
      "text/html": [
       "<style  type=\"text/css\" >\n",
       "    #T_b7026914_6a50_11e9_8d4a_a34ed49059a2row0_col4 {\n",
       "            background-color:  #015482;\n",
       "        }    #T_b7026914_6a50_11e9_8d4a_a34ed49059a2row1_col4 {\n",
       "            background-color:  #9f0052;\n",
       "        }    #T_b7026914_6a50_11e9_8d4a_a34ed49059a2row2_col4 {\n",
       "            background-color:  #ffbe00;\n",
       "        }    #T_b7026914_6a50_11e9_8d4a_a34ed49059a2row3_col4 {\n",
       "            background-color:  #728f02;\n",
       "        }</style>  \n",
       "<table id=\"T_b7026914_6a50_11e9_8d4a_a34ed49059a2\" > \n",
       "<thead>    <tr> \n",
       "        <th class=\"blank level0\" ></th> \n",
       "        <th class=\"col_heading level0 col0\" >surface</th> \n",
       "        <th class=\"col_heading level0 col1\" >series</th> \n",
       "        <th class=\"col_heading level0 col2\" >order_surfaces</th> \n",
       "        <th class=\"col_heading level0 col3\" >isBasement</th> \n",
       "        <th class=\"col_heading level0 col4\" >color</th> \n",
       "        <th class=\"col_heading level0 col5\" >id</th> \n",
       "        <th class=\"col_heading level0 col6\" >value_0</th> \n",
       "        <th class=\"col_heading level0 col7\" >val_foo</th> \n",
       "        <th class=\"col_heading level0 col8\" >val2_foo</th> \n",
       "    </tr></thead> \n",
       "<tbody>    <tr> \n",
       "        <th id=\"T_b7026914_6a50_11e9_8d4a_a34ed49059a2level0_row0\" class=\"row_heading level0 row0\" >0</th> \n",
       "        <td id=\"T_b7026914_6a50_11e9_8d4a_a34ed49059a2row0_col0\" class=\"data row0 col0\" >foo</td> \n",
       "        <td id=\"T_b7026914_6a50_11e9_8d4a_a34ed49059a2row0_col1\" class=\"data row0 col1\" >foo20</td> \n",
       "        <td id=\"T_b7026914_6a50_11e9_8d4a_a34ed49059a2row0_col2\" class=\"data row0 col2\" >1</td> \n",
       "        <td id=\"T_b7026914_6a50_11e9_8d4a_a34ed49059a2row0_col3\" class=\"data row0 col3\" >False</td> \n",
       "        <td id=\"T_b7026914_6a50_11e9_8d4a_a34ed49059a2row0_col4\" class=\"data row0 col4\" >#015482</td> \n",
       "        <td id=\"T_b7026914_6a50_11e9_8d4a_a34ed49059a2row0_col5\" class=\"data row0 col5\" >1</td> \n",
       "        <td id=\"T_b7026914_6a50_11e9_8d4a_a34ed49059a2row0_col6\" class=\"data row0 col6\" >2</td> \n",
       "        <td id=\"T_b7026914_6a50_11e9_8d4a_a34ed49059a2row0_col7\" class=\"data row0 col7\" >2</td> \n",
       "        <td id=\"T_b7026914_6a50_11e9_8d4a_a34ed49059a2row0_col8\" class=\"data row0 col8\" >2</td> \n",
       "    </tr>    <tr> \n",
       "        <th id=\"T_b7026914_6a50_11e9_8d4a_a34ed49059a2level0_row1\" class=\"row_heading level0 row1\" >1</th> \n",
       "        <td id=\"T_b7026914_6a50_11e9_8d4a_a34ed49059a2row1_col0\" class=\"data row1 col0\" >foo2</td> \n",
       "        <td id=\"T_b7026914_6a50_11e9_8d4a_a34ed49059a2row1_col1\" class=\"data row1 col1\" >foo20</td> \n",
       "        <td id=\"T_b7026914_6a50_11e9_8d4a_a34ed49059a2row1_col2\" class=\"data row1 col2\" >2</td> \n",
       "        <td id=\"T_b7026914_6a50_11e9_8d4a_a34ed49059a2row1_col3\" class=\"data row1 col3\" >False</td> \n",
       "        <td id=\"T_b7026914_6a50_11e9_8d4a_a34ed49059a2row1_col4\" class=\"data row1 col4\" >#9f0052</td> \n",
       "        <td id=\"T_b7026914_6a50_11e9_8d4a_a34ed49059a2row1_col5\" class=\"data row1 col5\" >2</td> \n",
       "        <td id=\"T_b7026914_6a50_11e9_8d4a_a34ed49059a2row1_col6\" class=\"data row1 col6\" >2</td> \n",
       "        <td id=\"T_b7026914_6a50_11e9_8d4a_a34ed49059a2row1_col7\" class=\"data row1 col7\" >2</td> \n",
       "        <td id=\"T_b7026914_6a50_11e9_8d4a_a34ed49059a2row1_col8\" class=\"data row1 col8\" >2</td> \n",
       "    </tr>    <tr> \n",
       "        <th id=\"T_b7026914_6a50_11e9_8d4a_a34ed49059a2level0_row2\" class=\"row_heading level0 row2\" >2</th> \n",
       "        <td id=\"T_b7026914_6a50_11e9_8d4a_a34ed49059a2row2_col0\" class=\"data row2 col0\" >foo5</td> \n",
       "        <td id=\"T_b7026914_6a50_11e9_8d4a_a34ed49059a2row2_col1\" class=\"data row2 col1\" >foo20</td> \n",
       "        <td id=\"T_b7026914_6a50_11e9_8d4a_a34ed49059a2row2_col2\" class=\"data row2 col2\" >3</td> \n",
       "        <td id=\"T_b7026914_6a50_11e9_8d4a_a34ed49059a2row2_col3\" class=\"data row2 col3\" >False</td> \n",
       "        <td id=\"T_b7026914_6a50_11e9_8d4a_a34ed49059a2row2_col4\" class=\"data row2 col4\" >#ffbe00</td> \n",
       "        <td id=\"T_b7026914_6a50_11e9_8d4a_a34ed49059a2row2_col5\" class=\"data row2 col5\" >3</td> \n",
       "        <td id=\"T_b7026914_6a50_11e9_8d4a_a34ed49059a2row2_col6\" class=\"data row2 col6\" >2</td> \n",
       "        <td id=\"T_b7026914_6a50_11e9_8d4a_a34ed49059a2row2_col7\" class=\"data row2 col7\" >2</td> \n",
       "        <td id=\"T_b7026914_6a50_11e9_8d4a_a34ed49059a2row2_col8\" class=\"data row2 col8\" >1</td> \n",
       "    </tr>    <tr> \n",
       "        <th id=\"T_b7026914_6a50_11e9_8d4a_a34ed49059a2level0_row3\" class=\"row_heading level0 row3\" >3</th> \n",
       "        <td id=\"T_b7026914_6a50_11e9_8d4a_a34ed49059a2row3_col0\" class=\"data row3 col0\" >feeeee</td> \n",
       "        <td id=\"T_b7026914_6a50_11e9_8d4a_a34ed49059a2row3_col1\" class=\"data row3 col1\" >foo20</td> \n",
       "        <td id=\"T_b7026914_6a50_11e9_8d4a_a34ed49059a2row3_col2\" class=\"data row3 col2\" >4</td> \n",
       "        <td id=\"T_b7026914_6a50_11e9_8d4a_a34ed49059a2row3_col3\" class=\"data row3 col3\" >True</td> \n",
       "        <td id=\"T_b7026914_6a50_11e9_8d4a_a34ed49059a2row3_col4\" class=\"data row3 col4\" >#728f02</td> \n",
       "        <td id=\"T_b7026914_6a50_11e9_8d4a_a34ed49059a2row3_col5\" class=\"data row3 col5\" >4</td> \n",
       "        <td id=\"T_b7026914_6a50_11e9_8d4a_a34ed49059a2row3_col6\" class=\"data row3 col6\" >5</td> \n",
       "        <td id=\"T_b7026914_6a50_11e9_8d4a_a34ed49059a2row3_col7\" class=\"data row3 col7\" >6</td> \n",
       "        <td id=\"T_b7026914_6a50_11e9_8d4a_a34ed49059a2row3_col8\" class=\"data row3 col8\" >8</td> \n",
       "    </tr></tbody> \n",
       "</table> "
      ],
      "text/plain": [
       "  surface series  order_surfaces  isBasement    color  id  value_0  val_foo  val2_foo\n",
       "0     foo  foo20               1       False  #015482   1        2        2         2\n",
       "1    foo2  foo20               2       False  #9f0052   2        2        2         2\n",
       "2    foo5  foo20               3       False  #ffbe00   3        2        2         1\n",
       "3  feeeee  foo20               4        True  #728f02   4        5        6         8"
      ]
     },
     "execution_count": 31,
     "metadata": {},
     "output_type": "execute_result"
    }
   ],
   "source": [
    "surfaces"
   ]
  },
  {
   "cell_type": "markdown",
   "metadata": {},
   "source": [
    "### Delete formations values\n",
    "\n",
    "To delete a full propery:"
   ]
  },
  {
   "cell_type": "code",
   "execution_count": 32,
   "metadata": {},
   "outputs": [
    {
     "data": {
      "text/plain": [
       "True"
      ]
     },
     "execution_count": 32,
     "metadata": {},
     "output_type": "execute_result"
    }
   ],
   "source": [
    "surfaces.delete_surface_values(['val_foo', 'value_0'])"
   ]
  },
  {
   "cell_type": "markdown",
   "metadata": {},
   "source": [
    "#### One of the formations must be set be the basement:"
   ]
  },
  {
   "cell_type": "code",
   "execution_count": 33,
   "metadata": {},
   "outputs": [
    {
     "data": {
      "text/html": [
       "<style  type=\"text/css\" >\n",
       "    #T_b705f2dc_6a50_11e9_8d4a_a34ed49059a2row0_col4 {\n",
       "            background-color:  #015482;\n",
       "        }    #T_b705f2dc_6a50_11e9_8d4a_a34ed49059a2row1_col4 {\n",
       "            background-color:  #9f0052;\n",
       "        }    #T_b705f2dc_6a50_11e9_8d4a_a34ed49059a2row2_col4 {\n",
       "            background-color:  #ffbe00;\n",
       "        }    #T_b705f2dc_6a50_11e9_8d4a_a34ed49059a2row3_col4 {\n",
       "            background-color:  #728f02;\n",
       "        }</style>  \n",
       "<table id=\"T_b705f2dc_6a50_11e9_8d4a_a34ed49059a2\" > \n",
       "<thead>    <tr> \n",
       "        <th class=\"blank level0\" ></th> \n",
       "        <th class=\"col_heading level0 col0\" >surface</th> \n",
       "        <th class=\"col_heading level0 col1\" >series</th> \n",
       "        <th class=\"col_heading level0 col2\" >order_surfaces</th> \n",
       "        <th class=\"col_heading level0 col3\" >isBasement</th> \n",
       "        <th class=\"col_heading level0 col4\" >color</th> \n",
       "        <th class=\"col_heading level0 col5\" >id</th> \n",
       "        <th class=\"col_heading level0 col6\" >val2_foo</th> \n",
       "    </tr></thead> \n",
       "<tbody>    <tr> \n",
       "        <th id=\"T_b705f2dc_6a50_11e9_8d4a_a34ed49059a2level0_row0\" class=\"row_heading level0 row0\" >0</th> \n",
       "        <td id=\"T_b705f2dc_6a50_11e9_8d4a_a34ed49059a2row0_col0\" class=\"data row0 col0\" >foo</td> \n",
       "        <td id=\"T_b705f2dc_6a50_11e9_8d4a_a34ed49059a2row0_col1\" class=\"data row0 col1\" >foo20</td> \n",
       "        <td id=\"T_b705f2dc_6a50_11e9_8d4a_a34ed49059a2row0_col2\" class=\"data row0 col2\" >1</td> \n",
       "        <td id=\"T_b705f2dc_6a50_11e9_8d4a_a34ed49059a2row0_col3\" class=\"data row0 col3\" >False</td> \n",
       "        <td id=\"T_b705f2dc_6a50_11e9_8d4a_a34ed49059a2row0_col4\" class=\"data row0 col4\" >#015482</td> \n",
       "        <td id=\"T_b705f2dc_6a50_11e9_8d4a_a34ed49059a2row0_col5\" class=\"data row0 col5\" >1</td> \n",
       "        <td id=\"T_b705f2dc_6a50_11e9_8d4a_a34ed49059a2row0_col6\" class=\"data row0 col6\" >2</td> \n",
       "    </tr>    <tr> \n",
       "        <th id=\"T_b705f2dc_6a50_11e9_8d4a_a34ed49059a2level0_row1\" class=\"row_heading level0 row1\" >1</th> \n",
       "        <td id=\"T_b705f2dc_6a50_11e9_8d4a_a34ed49059a2row1_col0\" class=\"data row1 col0\" >foo2</td> \n",
       "        <td id=\"T_b705f2dc_6a50_11e9_8d4a_a34ed49059a2row1_col1\" class=\"data row1 col1\" >foo20</td> \n",
       "        <td id=\"T_b705f2dc_6a50_11e9_8d4a_a34ed49059a2row1_col2\" class=\"data row1 col2\" >2</td> \n",
       "        <td id=\"T_b705f2dc_6a50_11e9_8d4a_a34ed49059a2row1_col3\" class=\"data row1 col3\" >False</td> \n",
       "        <td id=\"T_b705f2dc_6a50_11e9_8d4a_a34ed49059a2row1_col4\" class=\"data row1 col4\" >#9f0052</td> \n",
       "        <td id=\"T_b705f2dc_6a50_11e9_8d4a_a34ed49059a2row1_col5\" class=\"data row1 col5\" >2</td> \n",
       "        <td id=\"T_b705f2dc_6a50_11e9_8d4a_a34ed49059a2row1_col6\" class=\"data row1 col6\" >2</td> \n",
       "    </tr>    <tr> \n",
       "        <th id=\"T_b705f2dc_6a50_11e9_8d4a_a34ed49059a2level0_row2\" class=\"row_heading level0 row2\" >2</th> \n",
       "        <td id=\"T_b705f2dc_6a50_11e9_8d4a_a34ed49059a2row2_col0\" class=\"data row2 col0\" >foo5</td> \n",
       "        <td id=\"T_b705f2dc_6a50_11e9_8d4a_a34ed49059a2row2_col1\" class=\"data row2 col1\" >foo20</td> \n",
       "        <td id=\"T_b705f2dc_6a50_11e9_8d4a_a34ed49059a2row2_col2\" class=\"data row2 col2\" >3</td> \n",
       "        <td id=\"T_b705f2dc_6a50_11e9_8d4a_a34ed49059a2row2_col3\" class=\"data row2 col3\" >False</td> \n",
       "        <td id=\"T_b705f2dc_6a50_11e9_8d4a_a34ed49059a2row2_col4\" class=\"data row2 col4\" >#ffbe00</td> \n",
       "        <td id=\"T_b705f2dc_6a50_11e9_8d4a_a34ed49059a2row2_col5\" class=\"data row2 col5\" >3</td> \n",
       "        <td id=\"T_b705f2dc_6a50_11e9_8d4a_a34ed49059a2row2_col6\" class=\"data row2 col6\" >1</td> \n",
       "    </tr>    <tr> \n",
       "        <th id=\"T_b705f2dc_6a50_11e9_8d4a_a34ed49059a2level0_row3\" class=\"row_heading level0 row3\" >3</th> \n",
       "        <td id=\"T_b705f2dc_6a50_11e9_8d4a_a34ed49059a2row3_col0\" class=\"data row3 col0\" >feeeee</td> \n",
       "        <td id=\"T_b705f2dc_6a50_11e9_8d4a_a34ed49059a2row3_col1\" class=\"data row3 col1\" >foo20</td> \n",
       "        <td id=\"T_b705f2dc_6a50_11e9_8d4a_a34ed49059a2row3_col2\" class=\"data row3 col2\" >4</td> \n",
       "        <td id=\"T_b705f2dc_6a50_11e9_8d4a_a34ed49059a2row3_col3\" class=\"data row3 col3\" >True</td> \n",
       "        <td id=\"T_b705f2dc_6a50_11e9_8d4a_a34ed49059a2row3_col4\" class=\"data row3 col4\" >#728f02</td> \n",
       "        <td id=\"T_b705f2dc_6a50_11e9_8d4a_a34ed49059a2row3_col5\" class=\"data row3 col5\" >4</td> \n",
       "        <td id=\"T_b705f2dc_6a50_11e9_8d4a_a34ed49059a2row3_col6\" class=\"data row3 col6\" >8</td> \n",
       "    </tr></tbody> \n",
       "</table> "
      ],
      "text/plain": [
       "  surface series  order_surfaces  isBasement    color  id  val2_foo\n",
       "0     foo  foo20               1       False  #015482   1         2\n",
       "1    foo2  foo20               2       False  #9f0052   2         2\n",
       "2    foo5  foo20               3       False  #ffbe00   3         1\n",
       "3  feeeee  foo20               4        True  #728f02   4         8"
      ]
     },
     "execution_count": 33,
     "metadata": {},
     "output_type": "execute_result"
    }
   ],
   "source": [
    "surfaces.set_basement()\n",
    "surfaces"
   ]
  },
  {
   "cell_type": "markdown",
   "metadata": {},
   "source": [
    "#### Set formation values\n",
    "\n",
    "We can also use set values instead adding. This will delete the previous properties and add the new one"
   ]
  },
  {
   "cell_type": "code",
   "execution_count": 34,
   "metadata": {
    "scrolled": true
   },
   "outputs": [
    {
     "data": {
      "text/html": [
       "<style  type=\"text/css\" >\n",
       "    #T_b708abd0_6a50_11e9_8d4a_a34ed49059a2row0_col4 {\n",
       "            background-color:  #015482;\n",
       "        }    #T_b708abd0_6a50_11e9_8d4a_a34ed49059a2row1_col4 {\n",
       "            background-color:  #9f0052;\n",
       "        }    #T_b708abd0_6a50_11e9_8d4a_a34ed49059a2row2_col4 {\n",
       "            background-color:  #ffbe00;\n",
       "        }    #T_b708abd0_6a50_11e9_8d4a_a34ed49059a2row3_col4 {\n",
       "            background-color:  #728f02;\n",
       "        }</style>  \n",
       "<table id=\"T_b708abd0_6a50_11e9_8d4a_a34ed49059a2\" > \n",
       "<thead>    <tr> \n",
       "        <th class=\"blank level0\" ></th> \n",
       "        <th class=\"col_heading level0 col0\" >surface</th> \n",
       "        <th class=\"col_heading level0 col1\" >series</th> \n",
       "        <th class=\"col_heading level0 col2\" >order_surfaces</th> \n",
       "        <th class=\"col_heading level0 col3\" >isBasement</th> \n",
       "        <th class=\"col_heading level0 col4\" >color</th> \n",
       "        <th class=\"col_heading level0 col5\" >id</th> \n",
       "        <th class=\"col_heading level0 col6\" >val_foo</th> \n",
       "        <th class=\"col_heading level0 col7\" >val2_foo</th> \n",
       "    </tr></thead> \n",
       "<tbody>    <tr> \n",
       "        <th id=\"T_b708abd0_6a50_11e9_8d4a_a34ed49059a2level0_row0\" class=\"row_heading level0 row0\" >0</th> \n",
       "        <td id=\"T_b708abd0_6a50_11e9_8d4a_a34ed49059a2row0_col0\" class=\"data row0 col0\" >foo</td> \n",
       "        <td id=\"T_b708abd0_6a50_11e9_8d4a_a34ed49059a2row0_col1\" class=\"data row0 col1\" >foo20</td> \n",
       "        <td id=\"T_b708abd0_6a50_11e9_8d4a_a34ed49059a2row0_col2\" class=\"data row0 col2\" >1</td> \n",
       "        <td id=\"T_b708abd0_6a50_11e9_8d4a_a34ed49059a2row0_col3\" class=\"data row0 col3\" >False</td> \n",
       "        <td id=\"T_b708abd0_6a50_11e9_8d4a_a34ed49059a2row0_col4\" class=\"data row0 col4\" >#015482</td> \n",
       "        <td id=\"T_b708abd0_6a50_11e9_8d4a_a34ed49059a2row0_col5\" class=\"data row0 col5\" >1</td> \n",
       "        <td id=\"T_b708abd0_6a50_11e9_8d4a_a34ed49059a2row0_col6\" class=\"data row0 col6\" >2</td> \n",
       "        <td id=\"T_b708abd0_6a50_11e9_8d4a_a34ed49059a2row0_col7\" class=\"data row0 col7\" >2</td> \n",
       "    </tr>    <tr> \n",
       "        <th id=\"T_b708abd0_6a50_11e9_8d4a_a34ed49059a2level0_row1\" class=\"row_heading level0 row1\" >1</th> \n",
       "        <td id=\"T_b708abd0_6a50_11e9_8d4a_a34ed49059a2row1_col0\" class=\"data row1 col0\" >foo2</td> \n",
       "        <td id=\"T_b708abd0_6a50_11e9_8d4a_a34ed49059a2row1_col1\" class=\"data row1 col1\" >foo20</td> \n",
       "        <td id=\"T_b708abd0_6a50_11e9_8d4a_a34ed49059a2row1_col2\" class=\"data row1 col2\" >2</td> \n",
       "        <td id=\"T_b708abd0_6a50_11e9_8d4a_a34ed49059a2row1_col3\" class=\"data row1 col3\" >False</td> \n",
       "        <td id=\"T_b708abd0_6a50_11e9_8d4a_a34ed49059a2row1_col4\" class=\"data row1 col4\" >#9f0052</td> \n",
       "        <td id=\"T_b708abd0_6a50_11e9_8d4a_a34ed49059a2row1_col5\" class=\"data row1 col5\" >2</td> \n",
       "        <td id=\"T_b708abd0_6a50_11e9_8d4a_a34ed49059a2row1_col6\" class=\"data row1 col6\" >2</td> \n",
       "        <td id=\"T_b708abd0_6a50_11e9_8d4a_a34ed49059a2row1_col7\" class=\"data row1 col7\" >2</td> \n",
       "    </tr>    <tr> \n",
       "        <th id=\"T_b708abd0_6a50_11e9_8d4a_a34ed49059a2level0_row2\" class=\"row_heading level0 row2\" >2</th> \n",
       "        <td id=\"T_b708abd0_6a50_11e9_8d4a_a34ed49059a2row2_col0\" class=\"data row2 col0\" >foo5</td> \n",
       "        <td id=\"T_b708abd0_6a50_11e9_8d4a_a34ed49059a2row2_col1\" class=\"data row2 col1\" >foo20</td> \n",
       "        <td id=\"T_b708abd0_6a50_11e9_8d4a_a34ed49059a2row2_col2\" class=\"data row2 col2\" >3</td> \n",
       "        <td id=\"T_b708abd0_6a50_11e9_8d4a_a34ed49059a2row2_col3\" class=\"data row2 col3\" >False</td> \n",
       "        <td id=\"T_b708abd0_6a50_11e9_8d4a_a34ed49059a2row2_col4\" class=\"data row2 col4\" >#ffbe00</td> \n",
       "        <td id=\"T_b708abd0_6a50_11e9_8d4a_a34ed49059a2row2_col5\" class=\"data row2 col5\" >3</td> \n",
       "        <td id=\"T_b708abd0_6a50_11e9_8d4a_a34ed49059a2row2_col6\" class=\"data row2 col6\" >2</td> \n",
       "        <td id=\"T_b708abd0_6a50_11e9_8d4a_a34ed49059a2row2_col7\" class=\"data row2 col7\" >1</td> \n",
       "    </tr>    <tr> \n",
       "        <th id=\"T_b708abd0_6a50_11e9_8d4a_a34ed49059a2level0_row3\" class=\"row_heading level0 row3\" >3</th> \n",
       "        <td id=\"T_b708abd0_6a50_11e9_8d4a_a34ed49059a2row3_col0\" class=\"data row3 col0\" >feeeee</td> \n",
       "        <td id=\"T_b708abd0_6a50_11e9_8d4a_a34ed49059a2row3_col1\" class=\"data row3 col1\" >foo20</td> \n",
       "        <td id=\"T_b708abd0_6a50_11e9_8d4a_a34ed49059a2row3_col2\" class=\"data row3 col2\" >4</td> \n",
       "        <td id=\"T_b708abd0_6a50_11e9_8d4a_a34ed49059a2row3_col3\" class=\"data row3 col3\" >True</td> \n",
       "        <td id=\"T_b708abd0_6a50_11e9_8d4a_a34ed49059a2row3_col4\" class=\"data row3 col4\" >#728f02</td> \n",
       "        <td id=\"T_b708abd0_6a50_11e9_8d4a_a34ed49059a2row3_col5\" class=\"data row3 col5\" >4</td> \n",
       "        <td id=\"T_b708abd0_6a50_11e9_8d4a_a34ed49059a2row3_col6\" class=\"data row3 col6\" >6</td> \n",
       "        <td id=\"T_b708abd0_6a50_11e9_8d4a_a34ed49059a2row3_col7\" class=\"data row3 col7\" >8</td> \n",
       "    </tr></tbody> \n",
       "</table> "
      ],
      "text/plain": [
       "  surface series  order_surfaces  isBasement    color  id  val_foo  val2_foo\n",
       "0     foo  foo20               1       False  #015482   1        2         2\n",
       "1    foo2  foo20               2       False  #9f0052   2        2         2\n",
       "2    foo5  foo20               3       False  #ffbe00   3        2         1\n",
       "3  feeeee  foo20               4        True  #728f02   4        6         8"
      ]
     },
     "execution_count": 34,
     "metadata": {},
     "output_type": "execute_result"
    }
   ],
   "source": [
    "surfaces.set_surfaces_values([[2,2,2,6], [2,2,1,8]], ['val_foo', 'val2_foo'])\n",
    "surfaces"
   ]
  },
  {
   "cell_type": "markdown",
   "metadata": {},
   "source": [
    "The last property is the correspondant series that each formation belong to. `series` and `formation` are pandas categories. To get a overview of what this mean check https://pandas.pydata.org/pandas-docs/stable/categorical.html."
   ]
  },
  {
   "cell_type": "code",
   "execution_count": 35,
   "metadata": {},
   "outputs": [
    {
     "data": {
      "text/plain": [
       "0    foo20\n",
       "1    foo20\n",
       "2    foo20\n",
       "3    foo20\n",
       "Name: series, dtype: category\n",
       "Categories (5, object): [foo2, boo, foo7, foo5, foo20]"
      ]
     },
     "execution_count": 35,
     "metadata": {},
     "output_type": "execute_result"
    }
   ],
   "source": [
    "surfaces.df['series']"
   ]
  },
  {
   "cell_type": "code",
   "execution_count": 36,
   "metadata": {},
   "outputs": [
    {
     "data": {
      "text/plain": [
       "0       foo\n",
       "1      foo2\n",
       "2      foo5\n",
       "3    feeeee\n",
       "Name: surface, dtype: object"
      ]
     },
     "execution_count": 36,
     "metadata": {},
     "output_type": "execute_result"
    }
   ],
   "source": [
    "surfaces.df['surface']"
   ]
  },
  {
   "cell_type": "markdown",
   "metadata": {},
   "source": [
    "### Map series to formation"
   ]
  },
  {
   "cell_type": "markdown",
   "metadata": {},
   "source": [
    "To map a series to a formation we can do it by passing a dict:"
   ]
  },
  {
   "cell_type": "code",
   "execution_count": 37,
   "metadata": {},
   "outputs": [
    {
     "data": {
      "text/html": [
       "<style  type=\"text/css\" >\n",
       "    #T_b70c9952_6a50_11e9_8d4a_a34ed49059a2row0_col4 {\n",
       "            background-color:  #015482;\n",
       "        }    #T_b70c9952_6a50_11e9_8d4a_a34ed49059a2row1_col4 {\n",
       "            background-color:  #9f0052;\n",
       "        }    #T_b70c9952_6a50_11e9_8d4a_a34ed49059a2row2_col4 {\n",
       "            background-color:  #ffbe00;\n",
       "        }    #T_b70c9952_6a50_11e9_8d4a_a34ed49059a2row3_col4 {\n",
       "            background-color:  #728f02;\n",
       "        }</style>  \n",
       "<table id=\"T_b70c9952_6a50_11e9_8d4a_a34ed49059a2\" > \n",
       "<thead>    <tr> \n",
       "        <th class=\"blank level0\" ></th> \n",
       "        <th class=\"col_heading level0 col0\" >surface</th> \n",
       "        <th class=\"col_heading level0 col1\" >series</th> \n",
       "        <th class=\"col_heading level0 col2\" >order_surfaces</th> \n",
       "        <th class=\"col_heading level0 col3\" >isBasement</th> \n",
       "        <th class=\"col_heading level0 col4\" >color</th> \n",
       "        <th class=\"col_heading level0 col5\" >id</th> \n",
       "        <th class=\"col_heading level0 col6\" >val_foo</th> \n",
       "        <th class=\"col_heading level0 col7\" >val2_foo</th> \n",
       "    </tr></thead> \n",
       "<tbody>    <tr> \n",
       "        <th id=\"T_b70c9952_6a50_11e9_8d4a_a34ed49059a2level0_row0\" class=\"row_heading level0 row0\" >0</th> \n",
       "        <td id=\"T_b70c9952_6a50_11e9_8d4a_a34ed49059a2row0_col0\" class=\"data row0 col0\" >foo</td> \n",
       "        <td id=\"T_b70c9952_6a50_11e9_8d4a_a34ed49059a2row0_col1\" class=\"data row0 col1\" >foo20</td> \n",
       "        <td id=\"T_b70c9952_6a50_11e9_8d4a_a34ed49059a2row0_col2\" class=\"data row0 col2\" >1</td> \n",
       "        <td id=\"T_b70c9952_6a50_11e9_8d4a_a34ed49059a2row0_col3\" class=\"data row0 col3\" >False</td> \n",
       "        <td id=\"T_b70c9952_6a50_11e9_8d4a_a34ed49059a2row0_col4\" class=\"data row0 col4\" >#015482</td> \n",
       "        <td id=\"T_b70c9952_6a50_11e9_8d4a_a34ed49059a2row0_col5\" class=\"data row0 col5\" >1</td> \n",
       "        <td id=\"T_b70c9952_6a50_11e9_8d4a_a34ed49059a2row0_col6\" class=\"data row0 col6\" >2</td> \n",
       "        <td id=\"T_b70c9952_6a50_11e9_8d4a_a34ed49059a2row0_col7\" class=\"data row0 col7\" >2</td> \n",
       "    </tr>    <tr> \n",
       "        <th id=\"T_b70c9952_6a50_11e9_8d4a_a34ed49059a2level0_row1\" class=\"row_heading level0 row1\" >1</th> \n",
       "        <td id=\"T_b70c9952_6a50_11e9_8d4a_a34ed49059a2row1_col0\" class=\"data row1 col0\" >foo2</td> \n",
       "        <td id=\"T_b70c9952_6a50_11e9_8d4a_a34ed49059a2row1_col1\" class=\"data row1 col1\" >foo20</td> \n",
       "        <td id=\"T_b70c9952_6a50_11e9_8d4a_a34ed49059a2row1_col2\" class=\"data row1 col2\" >2</td> \n",
       "        <td id=\"T_b70c9952_6a50_11e9_8d4a_a34ed49059a2row1_col3\" class=\"data row1 col3\" >False</td> \n",
       "        <td id=\"T_b70c9952_6a50_11e9_8d4a_a34ed49059a2row1_col4\" class=\"data row1 col4\" >#9f0052</td> \n",
       "        <td id=\"T_b70c9952_6a50_11e9_8d4a_a34ed49059a2row1_col5\" class=\"data row1 col5\" >2</td> \n",
       "        <td id=\"T_b70c9952_6a50_11e9_8d4a_a34ed49059a2row1_col6\" class=\"data row1 col6\" >2</td> \n",
       "        <td id=\"T_b70c9952_6a50_11e9_8d4a_a34ed49059a2row1_col7\" class=\"data row1 col7\" >2</td> \n",
       "    </tr>    <tr> \n",
       "        <th id=\"T_b70c9952_6a50_11e9_8d4a_a34ed49059a2level0_row2\" class=\"row_heading level0 row2\" >2</th> \n",
       "        <td id=\"T_b70c9952_6a50_11e9_8d4a_a34ed49059a2row2_col0\" class=\"data row2 col0\" >foo5</td> \n",
       "        <td id=\"T_b70c9952_6a50_11e9_8d4a_a34ed49059a2row2_col1\" class=\"data row2 col1\" >foo20</td> \n",
       "        <td id=\"T_b70c9952_6a50_11e9_8d4a_a34ed49059a2row2_col2\" class=\"data row2 col2\" >3</td> \n",
       "        <td id=\"T_b70c9952_6a50_11e9_8d4a_a34ed49059a2row2_col3\" class=\"data row2 col3\" >False</td> \n",
       "        <td id=\"T_b70c9952_6a50_11e9_8d4a_a34ed49059a2row2_col4\" class=\"data row2 col4\" >#ffbe00</td> \n",
       "        <td id=\"T_b70c9952_6a50_11e9_8d4a_a34ed49059a2row2_col5\" class=\"data row2 col5\" >3</td> \n",
       "        <td id=\"T_b70c9952_6a50_11e9_8d4a_a34ed49059a2row2_col6\" class=\"data row2 col6\" >2</td> \n",
       "        <td id=\"T_b70c9952_6a50_11e9_8d4a_a34ed49059a2row2_col7\" class=\"data row2 col7\" >1</td> \n",
       "    </tr>    <tr> \n",
       "        <th id=\"T_b70c9952_6a50_11e9_8d4a_a34ed49059a2level0_row3\" class=\"row_heading level0 row3\" >3</th> \n",
       "        <td id=\"T_b70c9952_6a50_11e9_8d4a_a34ed49059a2row3_col0\" class=\"data row3 col0\" >feeeee</td> \n",
       "        <td id=\"T_b70c9952_6a50_11e9_8d4a_a34ed49059a2row3_col1\" class=\"data row3 col1\" >foo20</td> \n",
       "        <td id=\"T_b70c9952_6a50_11e9_8d4a_a34ed49059a2row3_col2\" class=\"data row3 col2\" >4</td> \n",
       "        <td id=\"T_b70c9952_6a50_11e9_8d4a_a34ed49059a2row3_col3\" class=\"data row3 col3\" >True</td> \n",
       "        <td id=\"T_b70c9952_6a50_11e9_8d4a_a34ed49059a2row3_col4\" class=\"data row3 col4\" >#728f02</td> \n",
       "        <td id=\"T_b70c9952_6a50_11e9_8d4a_a34ed49059a2row3_col5\" class=\"data row3 col5\" >4</td> \n",
       "        <td id=\"T_b70c9952_6a50_11e9_8d4a_a34ed49059a2row3_col6\" class=\"data row3 col6\" >6</td> \n",
       "        <td id=\"T_b70c9952_6a50_11e9_8d4a_a34ed49059a2row3_col7\" class=\"data row3 col7\" >8</td> \n",
       "    </tr></tbody> \n",
       "</table> "
      ],
      "text/plain": [
       "  surface series  order_surfaces  isBasement    color  id  val_foo  val2_foo\n",
       "0     foo  foo20               1       False  #015482   1        2         2\n",
       "1    foo2  foo20               2       False  #9f0052   2        2         2\n",
       "2    foo5  foo20               3       False  #ffbe00   3        2         1\n",
       "3  feeeee  foo20               4        True  #728f02   4        6         8"
      ]
     },
     "execution_count": 37,
     "metadata": {},
     "output_type": "execute_result"
    }
   ],
   "source": [
    "surfaces"
   ]
  },
  {
   "cell_type": "code",
   "execution_count": 38,
   "metadata": {},
   "outputs": [
    {
     "data": {
      "text/html": [
       "<table border=\"1\" class=\"dataframe\">\n",
       "  <thead>\n",
       "    <tr style=\"text-align: right;\">\n",
       "      <th></th>\n",
       "      <th>order_series</th>\n",
       "      <th>BottomRelation</th>\n",
       "    </tr>\n",
       "  </thead>\n",
       "  <tbody>\n",
       "    <tr>\n",
       "      <th>foo2</th>\n",
       "      <td>1</td>\n",
       "      <td>Erosion</td>\n",
       "    </tr>\n",
       "    <tr>\n",
       "      <th>boo</th>\n",
       "      <td>2</td>\n",
       "      <td>Erosion</td>\n",
       "    </tr>\n",
       "    <tr>\n",
       "      <th>foo7</th>\n",
       "      <td>3</td>\n",
       "      <td>Erosion</td>\n",
       "    </tr>\n",
       "    <tr>\n",
       "      <th>foo5</th>\n",
       "      <td>4</td>\n",
       "      <td>Erosion</td>\n",
       "    </tr>\n",
       "    <tr>\n",
       "      <th>foo20</th>\n",
       "      <td>5</td>\n",
       "      <td>Erosion</td>\n",
       "    </tr>\n",
       "  </tbody>\n",
       "</table>"
      ],
      "text/plain": [
       "       order_series BottomRelation\n",
       "foo2              1        Erosion\n",
       "boo               2        Erosion\n",
       "foo7              3        Erosion\n",
       "foo5              4        Erosion\n",
       "foo20             5        Erosion"
      ]
     },
     "execution_count": 38,
     "metadata": {},
     "output_type": "execute_result"
    }
   ],
   "source": [
    "series"
   ]
  },
  {
   "cell_type": "markdown",
   "metadata": {},
   "source": [
    "If a series does not exist in the `Series` object, we rise a warning and we set those formations to nans"
   ]
  },
  {
   "cell_type": "code",
   "execution_count": 39,
   "metadata": {},
   "outputs": [],
   "source": [
    "d =  {\"foo7\":'foo', \"booX\": ('foo2','foo5', 'fee')}"
   ]
  },
  {
   "cell_type": "code",
   "execution_count": 40,
   "metadata": {},
   "outputs": [],
   "source": [
    "surfaces.map_series(d)"
   ]
  },
  {
   "cell_type": "code",
   "execution_count": 41,
   "metadata": {},
   "outputs": [],
   "source": [
    "surfaces.map_series({\"foo7\":'foo', \"boo\": ('foo2','foo5', 'fee')})"
   ]
  },
  {
   "cell_type": "code",
   "execution_count": 42,
   "metadata": {},
   "outputs": [
    {
     "data": {
      "text/html": [
       "<style  type=\"text/css\" >\n",
       "    #T_b7191434_6a50_11e9_8d4a_a34ed49059a2row0_col4 {\n",
       "            background-color:  #9f0052;\n",
       "        }    #T_b7191434_6a50_11e9_8d4a_a34ed49059a2row1_col4 {\n",
       "            background-color:  #ffbe00;\n",
       "        }    #T_b7191434_6a50_11e9_8d4a_a34ed49059a2row2_col4 {\n",
       "            background-color:  #015482;\n",
       "        }    #T_b7191434_6a50_11e9_8d4a_a34ed49059a2row3_col4 {\n",
       "            background-color:  #728f02;\n",
       "        }</style>  \n",
       "<table id=\"T_b7191434_6a50_11e9_8d4a_a34ed49059a2\" > \n",
       "<thead>    <tr> \n",
       "        <th class=\"blank level0\" ></th> \n",
       "        <th class=\"col_heading level0 col0\" >surface</th> \n",
       "        <th class=\"col_heading level0 col1\" >series</th> \n",
       "        <th class=\"col_heading level0 col2\" >order_surfaces</th> \n",
       "        <th class=\"col_heading level0 col3\" >isBasement</th> \n",
       "        <th class=\"col_heading level0 col4\" >color</th> \n",
       "        <th class=\"col_heading level0 col5\" >id</th> \n",
       "        <th class=\"col_heading level0 col6\" >val_foo</th> \n",
       "        <th class=\"col_heading level0 col7\" >val2_foo</th> \n",
       "    </tr></thead> \n",
       "<tbody>    <tr> \n",
       "        <th id=\"T_b7191434_6a50_11e9_8d4a_a34ed49059a2level0_row0\" class=\"row_heading level0 row0\" >1</th> \n",
       "        <td id=\"T_b7191434_6a50_11e9_8d4a_a34ed49059a2row0_col0\" class=\"data row0 col0\" >foo2</td> \n",
       "        <td id=\"T_b7191434_6a50_11e9_8d4a_a34ed49059a2row0_col1\" class=\"data row0 col1\" >boo</td> \n",
       "        <td id=\"T_b7191434_6a50_11e9_8d4a_a34ed49059a2row0_col2\" class=\"data row0 col2\" >1</td> \n",
       "        <td id=\"T_b7191434_6a50_11e9_8d4a_a34ed49059a2row0_col3\" class=\"data row0 col3\" >False</td> \n",
       "        <td id=\"T_b7191434_6a50_11e9_8d4a_a34ed49059a2row0_col4\" class=\"data row0 col4\" >#9f0052</td> \n",
       "        <td id=\"T_b7191434_6a50_11e9_8d4a_a34ed49059a2row0_col5\" class=\"data row0 col5\" >1</td> \n",
       "        <td id=\"T_b7191434_6a50_11e9_8d4a_a34ed49059a2row0_col6\" class=\"data row0 col6\" >2</td> \n",
       "        <td id=\"T_b7191434_6a50_11e9_8d4a_a34ed49059a2row0_col7\" class=\"data row0 col7\" >2</td> \n",
       "    </tr>    <tr> \n",
       "        <th id=\"T_b7191434_6a50_11e9_8d4a_a34ed49059a2level0_row1\" class=\"row_heading level0 row1\" >2</th> \n",
       "        <td id=\"T_b7191434_6a50_11e9_8d4a_a34ed49059a2row1_col0\" class=\"data row1 col0\" >foo5</td> \n",
       "        <td id=\"T_b7191434_6a50_11e9_8d4a_a34ed49059a2row1_col1\" class=\"data row1 col1\" >boo</td> \n",
       "        <td id=\"T_b7191434_6a50_11e9_8d4a_a34ed49059a2row1_col2\" class=\"data row1 col2\" >2</td> \n",
       "        <td id=\"T_b7191434_6a50_11e9_8d4a_a34ed49059a2row1_col3\" class=\"data row1 col3\" >False</td> \n",
       "        <td id=\"T_b7191434_6a50_11e9_8d4a_a34ed49059a2row1_col4\" class=\"data row1 col4\" >#ffbe00</td> \n",
       "        <td id=\"T_b7191434_6a50_11e9_8d4a_a34ed49059a2row1_col5\" class=\"data row1 col5\" >2</td> \n",
       "        <td id=\"T_b7191434_6a50_11e9_8d4a_a34ed49059a2row1_col6\" class=\"data row1 col6\" >2</td> \n",
       "        <td id=\"T_b7191434_6a50_11e9_8d4a_a34ed49059a2row1_col7\" class=\"data row1 col7\" >1</td> \n",
       "    </tr>    <tr> \n",
       "        <th id=\"T_b7191434_6a50_11e9_8d4a_a34ed49059a2level0_row2\" class=\"row_heading level0 row2\" >0</th> \n",
       "        <td id=\"T_b7191434_6a50_11e9_8d4a_a34ed49059a2row2_col0\" class=\"data row2 col0\" >foo</td> \n",
       "        <td id=\"T_b7191434_6a50_11e9_8d4a_a34ed49059a2row2_col1\" class=\"data row2 col1\" >foo7</td> \n",
       "        <td id=\"T_b7191434_6a50_11e9_8d4a_a34ed49059a2row2_col2\" class=\"data row2 col2\" >1</td> \n",
       "        <td id=\"T_b7191434_6a50_11e9_8d4a_a34ed49059a2row2_col3\" class=\"data row2 col3\" >False</td> \n",
       "        <td id=\"T_b7191434_6a50_11e9_8d4a_a34ed49059a2row2_col4\" class=\"data row2 col4\" >#015482</td> \n",
       "        <td id=\"T_b7191434_6a50_11e9_8d4a_a34ed49059a2row2_col5\" class=\"data row2 col5\" >3</td> \n",
       "        <td id=\"T_b7191434_6a50_11e9_8d4a_a34ed49059a2row2_col6\" class=\"data row2 col6\" >2</td> \n",
       "        <td id=\"T_b7191434_6a50_11e9_8d4a_a34ed49059a2row2_col7\" class=\"data row2 col7\" >2</td> \n",
       "    </tr>    <tr> \n",
       "        <th id=\"T_b7191434_6a50_11e9_8d4a_a34ed49059a2level0_row3\" class=\"row_heading level0 row3\" >3</th> \n",
       "        <td id=\"T_b7191434_6a50_11e9_8d4a_a34ed49059a2row3_col0\" class=\"data row3 col0\" >feeeee</td> \n",
       "        <td id=\"T_b7191434_6a50_11e9_8d4a_a34ed49059a2row3_col1\" class=\"data row3 col1\" >foo20</td> \n",
       "        <td id=\"T_b7191434_6a50_11e9_8d4a_a34ed49059a2row3_col2\" class=\"data row3 col2\" >1</td> \n",
       "        <td id=\"T_b7191434_6a50_11e9_8d4a_a34ed49059a2row3_col3\" class=\"data row3 col3\" >True</td> \n",
       "        <td id=\"T_b7191434_6a50_11e9_8d4a_a34ed49059a2row3_col4\" class=\"data row3 col4\" >#728f02</td> \n",
       "        <td id=\"T_b7191434_6a50_11e9_8d4a_a34ed49059a2row3_col5\" class=\"data row3 col5\" >4</td> \n",
       "        <td id=\"T_b7191434_6a50_11e9_8d4a_a34ed49059a2row3_col6\" class=\"data row3 col6\" >6</td> \n",
       "        <td id=\"T_b7191434_6a50_11e9_8d4a_a34ed49059a2row3_col7\" class=\"data row3 col7\" >8</td> \n",
       "    </tr></tbody> \n",
       "</table> "
      ],
      "text/plain": [
       "  surface series  order_surfaces  isBasement    color  id  val_foo  val2_foo\n",
       "1    foo2    boo               1       False  #9f0052   1        2         2\n",
       "2    foo5    boo               2       False  #ffbe00   2        2         1\n",
       "0     foo   foo7               1       False  #015482   3        2         2\n",
       "3  feeeee  foo20               1        True  #728f02   4        6         8"
      ]
     },
     "execution_count": 42,
     "metadata": {},
     "output_type": "execute_result"
    }
   ],
   "source": [
    "surfaces"
   ]
  },
  {
   "cell_type": "markdown",
   "metadata": {},
   "source": [
    "An advantage of categories is that they are order so no we can tidy the df by series and formation"
   ]
  },
  {
   "cell_type": "markdown",
   "metadata": {},
   "source": [
    "### Modify formation name"
   ]
  },
  {
   "cell_type": "code",
   "execution_count": 43,
   "metadata": {},
   "outputs": [
    {
     "data": {
      "text/plain": [
       "True"
      ]
     },
     "execution_count": 43,
     "metadata": {},
     "output_type": "execute_result"
    }
   ],
   "source": [
    "surfaces.rename_surfaces({'foo2':'lala'})"
   ]
  },
  {
   "cell_type": "code",
   "execution_count": 44,
   "metadata": {
    "scrolled": true
   },
   "outputs": [
    {
     "data": {
      "text/html": [
       "<style  type=\"text/css\" >\n",
       "    #T_b721df92_6a50_11e9_8d4a_a34ed49059a2row0_col4 {\n",
       "            background-color:  #9f0052;\n",
       "        }    #T_b721df92_6a50_11e9_8d4a_a34ed49059a2row1_col4 {\n",
       "            background-color:  #ffbe00;\n",
       "        }    #T_b721df92_6a50_11e9_8d4a_a34ed49059a2row2_col4 {\n",
       "            background-color:  #015482;\n",
       "        }    #T_b721df92_6a50_11e9_8d4a_a34ed49059a2row3_col4 {\n",
       "            background-color:  #728f02;\n",
       "        }</style>  \n",
       "<table id=\"T_b721df92_6a50_11e9_8d4a_a34ed49059a2\" > \n",
       "<thead>    <tr> \n",
       "        <th class=\"blank level0\" ></th> \n",
       "        <th class=\"col_heading level0 col0\" >surface</th> \n",
       "        <th class=\"col_heading level0 col1\" >series</th> \n",
       "        <th class=\"col_heading level0 col2\" >order_surfaces</th> \n",
       "        <th class=\"col_heading level0 col3\" >isBasement</th> \n",
       "        <th class=\"col_heading level0 col4\" >color</th> \n",
       "        <th class=\"col_heading level0 col5\" >id</th> \n",
       "        <th class=\"col_heading level0 col6\" >val_foo</th> \n",
       "        <th class=\"col_heading level0 col7\" >val2_foo</th> \n",
       "    </tr></thead> \n",
       "<tbody>    <tr> \n",
       "        <th id=\"T_b721df92_6a50_11e9_8d4a_a34ed49059a2level0_row0\" class=\"row_heading level0 row0\" >1</th> \n",
       "        <td id=\"T_b721df92_6a50_11e9_8d4a_a34ed49059a2row0_col0\" class=\"data row0 col0\" >lala</td> \n",
       "        <td id=\"T_b721df92_6a50_11e9_8d4a_a34ed49059a2row0_col1\" class=\"data row0 col1\" >boo</td> \n",
       "        <td id=\"T_b721df92_6a50_11e9_8d4a_a34ed49059a2row0_col2\" class=\"data row0 col2\" >1</td> \n",
       "        <td id=\"T_b721df92_6a50_11e9_8d4a_a34ed49059a2row0_col3\" class=\"data row0 col3\" >False</td> \n",
       "        <td id=\"T_b721df92_6a50_11e9_8d4a_a34ed49059a2row0_col4\" class=\"data row0 col4\" >#9f0052</td> \n",
       "        <td id=\"T_b721df92_6a50_11e9_8d4a_a34ed49059a2row0_col5\" class=\"data row0 col5\" >1</td> \n",
       "        <td id=\"T_b721df92_6a50_11e9_8d4a_a34ed49059a2row0_col6\" class=\"data row0 col6\" >2</td> \n",
       "        <td id=\"T_b721df92_6a50_11e9_8d4a_a34ed49059a2row0_col7\" class=\"data row0 col7\" >2</td> \n",
       "    </tr>    <tr> \n",
       "        <th id=\"T_b721df92_6a50_11e9_8d4a_a34ed49059a2level0_row1\" class=\"row_heading level0 row1\" >2</th> \n",
       "        <td id=\"T_b721df92_6a50_11e9_8d4a_a34ed49059a2row1_col0\" class=\"data row1 col0\" >foo5</td> \n",
       "        <td id=\"T_b721df92_6a50_11e9_8d4a_a34ed49059a2row1_col1\" class=\"data row1 col1\" >boo</td> \n",
       "        <td id=\"T_b721df92_6a50_11e9_8d4a_a34ed49059a2row1_col2\" class=\"data row1 col2\" >2</td> \n",
       "        <td id=\"T_b721df92_6a50_11e9_8d4a_a34ed49059a2row1_col3\" class=\"data row1 col3\" >False</td> \n",
       "        <td id=\"T_b721df92_6a50_11e9_8d4a_a34ed49059a2row1_col4\" class=\"data row1 col4\" >#ffbe00</td> \n",
       "        <td id=\"T_b721df92_6a50_11e9_8d4a_a34ed49059a2row1_col5\" class=\"data row1 col5\" >2</td> \n",
       "        <td id=\"T_b721df92_6a50_11e9_8d4a_a34ed49059a2row1_col6\" class=\"data row1 col6\" >2</td> \n",
       "        <td id=\"T_b721df92_6a50_11e9_8d4a_a34ed49059a2row1_col7\" class=\"data row1 col7\" >1</td> \n",
       "    </tr>    <tr> \n",
       "        <th id=\"T_b721df92_6a50_11e9_8d4a_a34ed49059a2level0_row2\" class=\"row_heading level0 row2\" >0</th> \n",
       "        <td id=\"T_b721df92_6a50_11e9_8d4a_a34ed49059a2row2_col0\" class=\"data row2 col0\" >foo</td> \n",
       "        <td id=\"T_b721df92_6a50_11e9_8d4a_a34ed49059a2row2_col1\" class=\"data row2 col1\" >foo7</td> \n",
       "        <td id=\"T_b721df92_6a50_11e9_8d4a_a34ed49059a2row2_col2\" class=\"data row2 col2\" >1</td> \n",
       "        <td id=\"T_b721df92_6a50_11e9_8d4a_a34ed49059a2row2_col3\" class=\"data row2 col3\" >False</td> \n",
       "        <td id=\"T_b721df92_6a50_11e9_8d4a_a34ed49059a2row2_col4\" class=\"data row2 col4\" >#015482</td> \n",
       "        <td id=\"T_b721df92_6a50_11e9_8d4a_a34ed49059a2row2_col5\" class=\"data row2 col5\" >3</td> \n",
       "        <td id=\"T_b721df92_6a50_11e9_8d4a_a34ed49059a2row2_col6\" class=\"data row2 col6\" >2</td> \n",
       "        <td id=\"T_b721df92_6a50_11e9_8d4a_a34ed49059a2row2_col7\" class=\"data row2 col7\" >2</td> \n",
       "    </tr>    <tr> \n",
       "        <th id=\"T_b721df92_6a50_11e9_8d4a_a34ed49059a2level0_row3\" class=\"row_heading level0 row3\" >3</th> \n",
       "        <td id=\"T_b721df92_6a50_11e9_8d4a_a34ed49059a2row3_col0\" class=\"data row3 col0\" >feeeee</td> \n",
       "        <td id=\"T_b721df92_6a50_11e9_8d4a_a34ed49059a2row3_col1\" class=\"data row3 col1\" >foo20</td> \n",
       "        <td id=\"T_b721df92_6a50_11e9_8d4a_a34ed49059a2row3_col2\" class=\"data row3 col2\" >1</td> \n",
       "        <td id=\"T_b721df92_6a50_11e9_8d4a_a34ed49059a2row3_col3\" class=\"data row3 col3\" >True</td> \n",
       "        <td id=\"T_b721df92_6a50_11e9_8d4a_a34ed49059a2row3_col4\" class=\"data row3 col4\" >#728f02</td> \n",
       "        <td id=\"T_b721df92_6a50_11e9_8d4a_a34ed49059a2row3_col5\" class=\"data row3 col5\" >4</td> \n",
       "        <td id=\"T_b721df92_6a50_11e9_8d4a_a34ed49059a2row3_col6\" class=\"data row3 col6\" >6</td> \n",
       "        <td id=\"T_b721df92_6a50_11e9_8d4a_a34ed49059a2row3_col7\" class=\"data row3 col7\" >8</td> \n",
       "    </tr></tbody> \n",
       "</table> "
      ],
      "text/plain": [
       "  surface series  order_surfaces  isBasement    color  id  val_foo  val2_foo\n",
       "1    lala    boo               1       False  #9f0052   1        2         2\n",
       "2    foo5    boo               2       False  #ffbe00   2        2         1\n",
       "0     foo   foo7               1       False  #015482   3        2         2\n",
       "3  feeeee  foo20               1        True  #728f02   4        6         8"
      ]
     },
     "execution_count": 44,
     "metadata": {},
     "output_type": "execute_result"
    }
   ],
   "source": [
    "surfaces"
   ]
  },
  {
   "cell_type": "code",
   "execution_count": 45,
   "metadata": {},
   "outputs": [],
   "source": [
    "surfaces.df.loc[2, 'val_foo'] = 22"
   ]
  },
  {
   "cell_type": "code",
   "execution_count": 46,
   "metadata": {},
   "outputs": [
    {
     "data": {
      "text/html": [
       "<style  type=\"text/css\" >\n",
       "    #T_b7252332_6a50_11e9_8d4a_a34ed49059a2row0_col4 {\n",
       "            background-color:  #9f0052;\n",
       "        }    #T_b7252332_6a50_11e9_8d4a_a34ed49059a2row1_col4 {\n",
       "            background-color:  #ffbe00;\n",
       "        }    #T_b7252332_6a50_11e9_8d4a_a34ed49059a2row2_col4 {\n",
       "            background-color:  #015482;\n",
       "        }    #T_b7252332_6a50_11e9_8d4a_a34ed49059a2row3_col4 {\n",
       "            background-color:  #728f02;\n",
       "        }</style>  \n",
       "<table id=\"T_b7252332_6a50_11e9_8d4a_a34ed49059a2\" > \n",
       "<thead>    <tr> \n",
       "        <th class=\"blank level0\" ></th> \n",
       "        <th class=\"col_heading level0 col0\" >surface</th> \n",
       "        <th class=\"col_heading level0 col1\" >series</th> \n",
       "        <th class=\"col_heading level0 col2\" >order_surfaces</th> \n",
       "        <th class=\"col_heading level0 col3\" >isBasement</th> \n",
       "        <th class=\"col_heading level0 col4\" >color</th> \n",
       "        <th class=\"col_heading level0 col5\" >id</th> \n",
       "        <th class=\"col_heading level0 col6\" >val_foo</th> \n",
       "        <th class=\"col_heading level0 col7\" >val2_foo</th> \n",
       "    </tr></thead> \n",
       "<tbody>    <tr> \n",
       "        <th id=\"T_b7252332_6a50_11e9_8d4a_a34ed49059a2level0_row0\" class=\"row_heading level0 row0\" >1</th> \n",
       "        <td id=\"T_b7252332_6a50_11e9_8d4a_a34ed49059a2row0_col0\" class=\"data row0 col0\" >lala</td> \n",
       "        <td id=\"T_b7252332_6a50_11e9_8d4a_a34ed49059a2row0_col1\" class=\"data row0 col1\" >boo</td> \n",
       "        <td id=\"T_b7252332_6a50_11e9_8d4a_a34ed49059a2row0_col2\" class=\"data row0 col2\" >1</td> \n",
       "        <td id=\"T_b7252332_6a50_11e9_8d4a_a34ed49059a2row0_col3\" class=\"data row0 col3\" >False</td> \n",
       "        <td id=\"T_b7252332_6a50_11e9_8d4a_a34ed49059a2row0_col4\" class=\"data row0 col4\" >#9f0052</td> \n",
       "        <td id=\"T_b7252332_6a50_11e9_8d4a_a34ed49059a2row0_col5\" class=\"data row0 col5\" >1</td> \n",
       "        <td id=\"T_b7252332_6a50_11e9_8d4a_a34ed49059a2row0_col6\" class=\"data row0 col6\" >2</td> \n",
       "        <td id=\"T_b7252332_6a50_11e9_8d4a_a34ed49059a2row0_col7\" class=\"data row0 col7\" >2</td> \n",
       "    </tr>    <tr> \n",
       "        <th id=\"T_b7252332_6a50_11e9_8d4a_a34ed49059a2level0_row1\" class=\"row_heading level0 row1\" >2</th> \n",
       "        <td id=\"T_b7252332_6a50_11e9_8d4a_a34ed49059a2row1_col0\" class=\"data row1 col0\" >foo5</td> \n",
       "        <td id=\"T_b7252332_6a50_11e9_8d4a_a34ed49059a2row1_col1\" class=\"data row1 col1\" >boo</td> \n",
       "        <td id=\"T_b7252332_6a50_11e9_8d4a_a34ed49059a2row1_col2\" class=\"data row1 col2\" >2</td> \n",
       "        <td id=\"T_b7252332_6a50_11e9_8d4a_a34ed49059a2row1_col3\" class=\"data row1 col3\" >False</td> \n",
       "        <td id=\"T_b7252332_6a50_11e9_8d4a_a34ed49059a2row1_col4\" class=\"data row1 col4\" >#ffbe00</td> \n",
       "        <td id=\"T_b7252332_6a50_11e9_8d4a_a34ed49059a2row1_col5\" class=\"data row1 col5\" >2</td> \n",
       "        <td id=\"T_b7252332_6a50_11e9_8d4a_a34ed49059a2row1_col6\" class=\"data row1 col6\" >22</td> \n",
       "        <td id=\"T_b7252332_6a50_11e9_8d4a_a34ed49059a2row1_col7\" class=\"data row1 col7\" >1</td> \n",
       "    </tr>    <tr> \n",
       "        <th id=\"T_b7252332_6a50_11e9_8d4a_a34ed49059a2level0_row2\" class=\"row_heading level0 row2\" >0</th> \n",
       "        <td id=\"T_b7252332_6a50_11e9_8d4a_a34ed49059a2row2_col0\" class=\"data row2 col0\" >foo</td> \n",
       "        <td id=\"T_b7252332_6a50_11e9_8d4a_a34ed49059a2row2_col1\" class=\"data row2 col1\" >foo7</td> \n",
       "        <td id=\"T_b7252332_6a50_11e9_8d4a_a34ed49059a2row2_col2\" class=\"data row2 col2\" >1</td> \n",
       "        <td id=\"T_b7252332_6a50_11e9_8d4a_a34ed49059a2row2_col3\" class=\"data row2 col3\" >False</td> \n",
       "        <td id=\"T_b7252332_6a50_11e9_8d4a_a34ed49059a2row2_col4\" class=\"data row2 col4\" >#015482</td> \n",
       "        <td id=\"T_b7252332_6a50_11e9_8d4a_a34ed49059a2row2_col5\" class=\"data row2 col5\" >3</td> \n",
       "        <td id=\"T_b7252332_6a50_11e9_8d4a_a34ed49059a2row2_col6\" class=\"data row2 col6\" >2</td> \n",
       "        <td id=\"T_b7252332_6a50_11e9_8d4a_a34ed49059a2row2_col7\" class=\"data row2 col7\" >2</td> \n",
       "    </tr>    <tr> \n",
       "        <th id=\"T_b7252332_6a50_11e9_8d4a_a34ed49059a2level0_row3\" class=\"row_heading level0 row3\" >3</th> \n",
       "        <td id=\"T_b7252332_6a50_11e9_8d4a_a34ed49059a2row3_col0\" class=\"data row3 col0\" >feeeee</td> \n",
       "        <td id=\"T_b7252332_6a50_11e9_8d4a_a34ed49059a2row3_col1\" class=\"data row3 col1\" >foo20</td> \n",
       "        <td id=\"T_b7252332_6a50_11e9_8d4a_a34ed49059a2row3_col2\" class=\"data row3 col2\" >1</td> \n",
       "        <td id=\"T_b7252332_6a50_11e9_8d4a_a34ed49059a2row3_col3\" class=\"data row3 col3\" >True</td> \n",
       "        <td id=\"T_b7252332_6a50_11e9_8d4a_a34ed49059a2row3_col4\" class=\"data row3 col4\" >#728f02</td> \n",
       "        <td id=\"T_b7252332_6a50_11e9_8d4a_a34ed49059a2row3_col5\" class=\"data row3 col5\" >4</td> \n",
       "        <td id=\"T_b7252332_6a50_11e9_8d4a_a34ed49059a2row3_col6\" class=\"data row3 col6\" >6</td> \n",
       "        <td id=\"T_b7252332_6a50_11e9_8d4a_a34ed49059a2row3_col7\" class=\"data row3 col7\" >8</td> \n",
       "    </tr></tbody> \n",
       "</table> "
      ],
      "text/plain": [
       "  surface series  order_surfaces  isBasement    color  id  val_foo  val2_foo\n",
       "1    lala    boo               1       False  #9f0052   1        2         2\n",
       "2    foo5    boo               2       False  #ffbe00   2       22         1\n",
       "0     foo   foo7               1       False  #015482   3        2         2\n",
       "3  feeeee  foo20               1        True  #728f02   4        6         8"
      ]
     },
     "execution_count": 46,
     "metadata": {},
     "output_type": "execute_result"
    }
   ],
   "source": [
    "surfaces"
   ]
  },
  {
   "cell_type": "code",
   "execution_count": 47,
   "metadata": {},
   "outputs": [],
   "source": [
    "surfaces.update_sequential_pile()"
   ]
  },
  {
   "cell_type": "code",
   "execution_count": 48,
   "metadata": {},
   "outputs": [
    {
     "data": {
      "image/png": "[encoded data removed]",
      "text/plain": [
       "<Figure size 432x288 with 1 Axes>"
      ]
     },
     "execution_count": 48,
     "metadata": {},
     "output_type": "execute_result"
    }
   ],
   "source": [
    "surfaces.sequential_pile.figure"
   ]
  },
  {
   "cell_type": "markdown",
   "metadata": {},
   "source": [
    "# Data\n",
    "#### surface_points\n",
    "These two DataFrames (df from now on) will contain the individual information of each point at an interface or orientation. Some properties of this table are mapped from the *df* below."
   ]
  },
  {
   "cell_type": "code",
   "execution_count": 50,
   "metadata": {},
   "outputs": [],
   "source": [
    "surface_points = gp.SurfacePoints(surfaces)\n",
    "#orientations = gp.Orientations()"
   ]
  },
  {
   "cell_type": "code",
   "execution_count": 51,
   "metadata": {},
   "outputs": [
    {
     "data": {
      "text/html": [
       "<table border=\"1\" class=\"dataframe\">\n",
       "  <thead>\n",
       "    <tr style=\"text-align: right;\">\n",
       "      <th></th>\n",
       "      <th>X</th>\n",
       "      <th>Y</th>\n",
       "      <th>Z</th>\n",
       "      <th>X_r</th>\n",
       "      <th>Y_r</th>\n",
       "      <th>Z_r</th>\n",
       "      <th>surface</th>\n",
       "      <th>series</th>\n",
       "      <th>id</th>\n",
       "      <th>order_series</th>\n",
       "    </tr>\n",
       "  </thead>\n",
       "  <tbody>\n",
       "  </tbody>\n",
       "</table>"
      ],
      "text/plain": [
       "Empty DataFrame\n",
       "Columns: [X, Y, Z, X_r, Y_r, Z_r, surface, series, id, order_series]\n",
       "Index: []"
      ]
     },
     "execution_count": 51,
     "metadata": {},
     "output_type": "execute_result"
    }
   ],
   "source": [
    "surface_points"
   ]
  },
  {
   "cell_type": "code",
   "execution_count": 52,
   "metadata": {},
   "outputs": [],
   "source": [
    "surface_points.set_surface_points(pn.DataFrame(np.random.rand(6,3)), ['foo', 'foo5', 'lala', 'foo5', 'lala', 'feeeee'])"
   ]
  },
  {
   "cell_type": "code",
   "execution_count": 53,
   "metadata": {},
   "outputs": [
    {
     "data": {
      "text/html": [
       "<table border=\"1\" class=\"dataframe\">\n",
       "  <thead>\n",
       "    <tr style=\"text-align: right;\">\n",
       "      <th></th>\n",
       "      <th>X</th>\n",
       "      <th>Y</th>\n",
       "      <th>Z</th>\n",
       "      <th>X_r</th>\n",
       "      <th>Y_r</th>\n",
       "      <th>Z_r</th>\n",
       "      <th>surface</th>\n",
       "      <th>series</th>\n",
       "      <th>id</th>\n",
       "      <th>order_series</th>\n",
       "    </tr>\n",
       "  </thead>\n",
       "  <tbody>\n",
       "    <tr>\n",
       "      <th>0</th>\n",
       "      <td>0.051822</td>\n",
       "      <td>0.777136</td>\n",
       "      <td>0.160258</td>\n",
       "      <td>NaN</td>\n",
       "      <td>NaN</td>\n",
       "      <td>NaN</td>\n",
       "      <td>foo</td>\n",
       "      <td>NaN</td>\n",
       "      <td>NaN</td>\n",
       "      <td>1</td>\n",
       "    </tr>\n",
       "    <tr>\n",
       "      <th>1</th>\n",
       "      <td>0.403212</td>\n",
       "      <td>0.846121</td>\n",
       "      <td>0.006913</td>\n",
       "      <td>NaN</td>\n",
       "      <td>NaN</td>\n",
       "      <td>NaN</td>\n",
       "      <td>foo5</td>\n",
       "      <td>NaN</td>\n",
       "      <td>NaN</td>\n",
       "      <td>1</td>\n",
       "    </tr>\n",
       "    <tr>\n",
       "      <th>2</th>\n",
       "      <td>0.864788</td>\n",
       "      <td>0.736385</td>\n",
       "      <td>0.583521</td>\n",
       "      <td>NaN</td>\n",
       "      <td>NaN</td>\n",
       "      <td>NaN</td>\n",
       "      <td>lala</td>\n",
       "      <td>NaN</td>\n",
       "      <td>NaN</td>\n",
       "      <td>1</td>\n",
       "    </tr>\n",
       "    <tr>\n",
       "      <th>3</th>\n",
       "      <td>0.808565</td>\n",
       "      <td>0.337345</td>\n",
       "      <td>0.157054</td>\n",
       "      <td>NaN</td>\n",
       "      <td>NaN</td>\n",
       "      <td>NaN</td>\n",
       "      <td>foo5</td>\n",
       "      <td>NaN</td>\n",
       "      <td>NaN</td>\n",
       "      <td>1</td>\n",
       "    </tr>\n",
       "    <tr>\n",
       "      <th>4</th>\n",
       "      <td>0.664518</td>\n",
       "      <td>0.597459</td>\n",
       "      <td>0.733332</td>\n",
       "      <td>NaN</td>\n",
       "      <td>NaN</td>\n",
       "      <td>NaN</td>\n",
       "      <td>lala</td>\n",
       "      <td>NaN</td>\n",
       "      <td>NaN</td>\n",
       "      <td>1</td>\n",
       "    </tr>\n",
       "    <tr>\n",
       "      <th>5</th>\n",
       "      <td>0.655167</td>\n",
       "      <td>0.387138</td>\n",
       "      <td>0.295267</td>\n",
       "      <td>NaN</td>\n",
       "      <td>NaN</td>\n",
       "      <td>NaN</td>\n",
       "      <td>feeeee</td>\n",
       "      <td>NaN</td>\n",
       "      <td>NaN</td>\n",
       "      <td>1</td>\n",
       "    </tr>\n",
       "  </tbody>\n",
       "</table>"
      ],
      "text/plain": [
       "          X         Y         Z  X_r  Y_r  Z_r surface series  id  order_series\n",
       "0  0.051822  0.777136  0.160258  NaN  NaN  NaN     foo    NaN NaN             1\n",
       "1  0.403212  0.846121  0.006913  NaN  NaN  NaN    foo5    NaN NaN             1\n",
       "2  0.864788  0.736385  0.583521  NaN  NaN  NaN    lala    NaN NaN             1\n",
       "3  0.808565  0.337345  0.157054  NaN  NaN  NaN    foo5    NaN NaN             1\n",
       "4  0.664518  0.597459  0.733332  NaN  NaN  NaN    lala    NaN NaN             1\n",
       "5  0.655167  0.387138  0.295267  NaN  NaN  NaN  feeeee    NaN NaN             1"
      ]
     },
     "execution_count": 53,
     "metadata": {},
     "output_type": "execute_result"
    }
   ],
   "source": [
    "surface_points"
   ]
  },
  {
   "cell_type": "code",
   "execution_count": 54,
   "metadata": {},
   "outputs": [
    {
     "data": {
      "text/html": [
       "<table border=\"1\" class=\"dataframe\">\n",
       "  <thead>\n",
       "    <tr style=\"text-align: right;\">\n",
       "      <th></th>\n",
       "      <th>X</th>\n",
       "      <th>Y</th>\n",
       "      <th>Z</th>\n",
       "      <th>X_r</th>\n",
       "      <th>Y_r</th>\n",
       "      <th>Z_r</th>\n",
       "      <th>surface</th>\n",
       "      <th>series</th>\n",
       "      <th>id</th>\n",
       "      <th>order_series</th>\n",
       "    </tr>\n",
       "  </thead>\n",
       "  <tbody>\n",
       "    <tr>\n",
       "      <th>0</th>\n",
       "      <td>0.051822</td>\n",
       "      <td>0.777136</td>\n",
       "      <td>0.160258</td>\n",
       "      <td>NaN</td>\n",
       "      <td>NaN</td>\n",
       "      <td>NaN</td>\n",
       "      <td>foo</td>\n",
       "      <td>foo7</td>\n",
       "      <td>NaN</td>\n",
       "      <td>1</td>\n",
       "    </tr>\n",
       "    <tr>\n",
       "      <th>1</th>\n",
       "      <td>0.403212</td>\n",
       "      <td>0.846121</td>\n",
       "      <td>0.006913</td>\n",
       "      <td>NaN</td>\n",
       "      <td>NaN</td>\n",
       "      <td>NaN</td>\n",
       "      <td>foo5</td>\n",
       "      <td>boo</td>\n",
       "      <td>NaN</td>\n",
       "      <td>1</td>\n",
       "    </tr>\n",
       "    <tr>\n",
       "      <th>2</th>\n",
       "      <td>0.864788</td>\n",
       "      <td>0.736385</td>\n",
       "      <td>0.583521</td>\n",
       "      <td>NaN</td>\n",
       "      <td>NaN</td>\n",
       "      <td>NaN</td>\n",
       "      <td>lala</td>\n",
       "      <td>boo</td>\n",
       "      <td>NaN</td>\n",
       "      <td>1</td>\n",
       "    </tr>\n",
       "    <tr>\n",
       "      <th>3</th>\n",
       "      <td>0.808565</td>\n",
       "      <td>0.337345</td>\n",
       "      <td>0.157054</td>\n",
       "      <td>NaN</td>\n",
       "      <td>NaN</td>\n",
       "      <td>NaN</td>\n",
       "      <td>foo5</td>\n",
       "      <td>boo</td>\n",
       "      <td>NaN</td>\n",
       "      <td>1</td>\n",
       "    </tr>\n",
       "    <tr>\n",
       "      <th>4</th>\n",
       "      <td>0.664518</td>\n",
       "      <td>0.597459</td>\n",
       "      <td>0.733332</td>\n",
       "      <td>NaN</td>\n",
       "      <td>NaN</td>\n",
       "      <td>NaN</td>\n",
       "      <td>lala</td>\n",
       "      <td>boo</td>\n",
       "      <td>NaN</td>\n",
       "      <td>1</td>\n",
       "    </tr>\n",
       "    <tr>\n",
       "      <th>5</th>\n",
       "      <td>0.655167</td>\n",
       "      <td>0.387138</td>\n",
       "      <td>0.295267</td>\n",
       "      <td>NaN</td>\n",
       "      <td>NaN</td>\n",
       "      <td>NaN</td>\n",
       "      <td>feeeee</td>\n",
       "      <td>foo20</td>\n",
       "      <td>NaN</td>\n",
       "      <td>1</td>\n",
       "    </tr>\n",
       "  </tbody>\n",
       "</table>"
      ],
      "text/plain": [
       "          X         Y         Z  X_r  Y_r  Z_r surface series  id  order_series\n",
       "0  0.051822  0.777136  0.160258  NaN  NaN  NaN     foo   foo7 NaN             1\n",
       "1  0.403212  0.846121  0.006913  NaN  NaN  NaN    foo5    boo NaN             1\n",
       "2  0.864788  0.736385  0.583521  NaN  NaN  NaN    lala    boo NaN             1\n",
       "3  0.808565  0.337345  0.157054  NaN  NaN  NaN    foo5    boo NaN             1\n",
       "4  0.664518  0.597459  0.733332  NaN  NaN  NaN    lala    boo NaN             1\n",
       "5  0.655167  0.387138  0.295267  NaN  NaN  NaN  feeeee  foo20 NaN             1"
      ]
     },
     "execution_count": 54,
     "metadata": {},
     "output_type": "execute_result"
    }
   ],
   "source": [
    "surface_points.map_data_from_surfaces(surfaces, 'series')\n",
    "surface_points"
   ]
  },
  {
   "cell_type": "code",
   "execution_count": 55,
   "metadata": {},
   "outputs": [
    {
     "data": {
      "text/html": [
       "<table border=\"1\" class=\"dataframe\">\n",
       "  <thead>\n",
       "    <tr style=\"text-align: right;\">\n",
       "      <th></th>\n",
       "      <th>X</th>\n",
       "      <th>Y</th>\n",
       "      <th>Z</th>\n",
       "      <th>X_r</th>\n",
       "      <th>Y_r</th>\n",
       "      <th>Z_r</th>\n",
       "      <th>surface</th>\n",
       "      <th>series</th>\n",
       "      <th>id</th>\n",
       "      <th>order_series</th>\n",
       "    </tr>\n",
       "  </thead>\n",
       "  <tbody>\n",
       "    <tr>\n",
       "      <th>0</th>\n",
       "      <td>0.051822</td>\n",
       "      <td>0.777136</td>\n",
       "      <td>0.160258</td>\n",
       "      <td>NaN</td>\n",
       "      <td>NaN</td>\n",
       "      <td>NaN</td>\n",
       "      <td>foo</td>\n",
       "      <td>foo7</td>\n",
       "      <td>3</td>\n",
       "      <td>1</td>\n",
       "    </tr>\n",
       "    <tr>\n",
       "      <th>1</th>\n",
       "      <td>0.403212</td>\n",
       "      <td>0.846121</td>\n",
       "      <td>0.006913</td>\n",
       "      <td>NaN</td>\n",
       "      <td>NaN</td>\n",
       "      <td>NaN</td>\n",
       "      <td>foo5</td>\n",
       "      <td>boo</td>\n",
       "      <td>2</td>\n",
       "      <td>1</td>\n",
       "    </tr>\n",
       "    <tr>\n",
       "      <th>2</th>\n",
       "      <td>0.864788</td>\n",
       "      <td>0.736385</td>\n",
       "      <td>0.583521</td>\n",
       "      <td>NaN</td>\n",
       "      <td>NaN</td>\n",
       "      <td>NaN</td>\n",
       "      <td>lala</td>\n",
       "      <td>boo</td>\n",
       "      <td>1</td>\n",
       "      <td>1</td>\n",
       "    </tr>\n",
       "    <tr>\n",
       "      <th>3</th>\n",
       "      <td>0.808565</td>\n",
       "      <td>0.337345</td>\n",
       "      <td>0.157054</td>\n",
       "      <td>NaN</td>\n",
       "      <td>NaN</td>\n",
       "      <td>NaN</td>\n",
       "      <td>foo5</td>\n",
       "      <td>boo</td>\n",
       "      <td>2</td>\n",
       "      <td>1</td>\n",
       "    </tr>\n",
       "    <tr>\n",
       "      <th>4</th>\n",
       "      <td>0.664518</td>\n",
       "      <td>0.597459</td>\n",
       "      <td>0.733332</td>\n",
       "      <td>NaN</td>\n",
       "      <td>NaN</td>\n",
       "      <td>NaN</td>\n",
       "      <td>lala</td>\n",
       "      <td>boo</td>\n",
       "      <td>1</td>\n",
       "      <td>1</td>\n",
       "    </tr>\n",
       "    <tr>\n",
       "      <th>5</th>\n",
       "      <td>0.655167</td>\n",
       "      <td>0.387138</td>\n",
       "      <td>0.295267</td>\n",
       "      <td>NaN</td>\n",
       "      <td>NaN</td>\n",
       "      <td>NaN</td>\n",
       "      <td>feeeee</td>\n",
       "      <td>foo20</td>\n",
       "      <td>4</td>\n",
       "      <td>1</td>\n",
       "    </tr>\n",
       "  </tbody>\n",
       "</table>"
      ],
      "text/plain": [
       "          X         Y         Z  X_r  Y_r  Z_r surface series  id  order_series\n",
       "0  0.051822  0.777136  0.160258  NaN  NaN  NaN     foo   foo7   3             1\n",
       "1  0.403212  0.846121  0.006913  NaN  NaN  NaN    foo5    boo   2             1\n",
       "2  0.864788  0.736385  0.583521  NaN  NaN  NaN    lala    boo   1             1\n",
       "3  0.808565  0.337345  0.157054  NaN  NaN  NaN    foo5    boo   2             1\n",
       "4  0.664518  0.597459  0.733332  NaN  NaN  NaN    lala    boo   1             1\n",
       "5  0.655167  0.387138  0.295267  NaN  NaN  NaN  feeeee  foo20   4             1"
      ]
     },
     "execution_count": 55,
     "metadata": {},
     "output_type": "execute_result"
    }
   ],
   "source": [
    "surface_points.map_data_from_surfaces(surfaces, 'id')\n",
    "surface_points"
   ]
  },
  {
   "cell_type": "code",
   "execution_count": 56,
   "metadata": {},
   "outputs": [
    {
     "data": {
      "text/html": [
       "<table border=\"1\" class=\"dataframe\">\n",
       "  <thead>\n",
       "    <tr style=\"text-align: right;\">\n",
       "      <th></th>\n",
       "      <th>order_series</th>\n",
       "      <th>BottomRelation</th>\n",
       "    </tr>\n",
       "  </thead>\n",
       "  <tbody>\n",
       "    <tr>\n",
       "      <th>foo2</th>\n",
       "      <td>1</td>\n",
       "      <td>Erosion</td>\n",
       "    </tr>\n",
       "    <tr>\n",
       "      <th>boo</th>\n",
       "      <td>2</td>\n",
       "      <td>Erosion</td>\n",
       "    </tr>\n",
       "    <tr>\n",
       "      <th>foo7</th>\n",
       "      <td>3</td>\n",
       "      <td>Erosion</td>\n",
       "    </tr>\n",
       "    <tr>\n",
       "      <th>foo5</th>\n",
       "      <td>4</td>\n",
       "      <td>Erosion</td>\n",
       "    </tr>\n",
       "    <tr>\n",
       "      <th>foo20</th>\n",
       "      <td>5</td>\n",
       "      <td>Erosion</td>\n",
       "    </tr>\n",
       "  </tbody>\n",
       "</table>"
      ],
      "text/plain": [
       "       order_series BottomRelation\n",
       "foo2              1        Erosion\n",
       "boo               2        Erosion\n",
       "foo7              3        Erosion\n",
       "foo5              4        Erosion\n",
       "foo20             5        Erosion"
      ]
     },
     "execution_count": 56,
     "metadata": {},
     "output_type": "execute_result"
    }
   ],
   "source": [
    "series"
   ]
  },
  {
   "cell_type": "code",
   "execution_count": 57,
   "metadata": {},
   "outputs": [
    {
     "data": {
      "text/html": [
       "<table border=\"1\" class=\"dataframe\">\n",
       "  <thead>\n",
       "    <tr style=\"text-align: right;\">\n",
       "      <th></th>\n",
       "      <th>X</th>\n",
       "      <th>Y</th>\n",
       "      <th>Z</th>\n",
       "      <th>X_r</th>\n",
       "      <th>Y_r</th>\n",
       "      <th>Z_r</th>\n",
       "      <th>surface</th>\n",
       "      <th>series</th>\n",
       "      <th>id</th>\n",
       "      <th>order_series</th>\n",
       "    </tr>\n",
       "  </thead>\n",
       "  <tbody>\n",
       "    <tr>\n",
       "      <th>0</th>\n",
       "      <td>0.051822</td>\n",
       "      <td>0.777136</td>\n",
       "      <td>0.160258</td>\n",
       "      <td>NaN</td>\n",
       "      <td>NaN</td>\n",
       "      <td>NaN</td>\n",
       "      <td>foo</td>\n",
       "      <td>foo7</td>\n",
       "      <td>3</td>\n",
       "      <td>3</td>\n",
       "    </tr>\n",
       "    <tr>\n",
       "      <th>1</th>\n",
       "      <td>0.403212</td>\n",
       "      <td>0.846121</td>\n",
       "      <td>0.006913</td>\n",
       "      <td>NaN</td>\n",
       "      <td>NaN</td>\n",
       "      <td>NaN</td>\n",
       "      <td>foo5</td>\n",
       "      <td>boo</td>\n",
       "      <td>2</td>\n",
       "      <td>2</td>\n",
       "    </tr>\n",
       "    <tr>\n",
       "      <th>2</th>\n",
       "      <td>0.864788</td>\n",
       "      <td>0.736385</td>\n",
       "      <td>0.583521</td>\n",
       "      <td>NaN</td>\n",
       "      <td>NaN</td>\n",
       "      <td>NaN</td>\n",
       "      <td>lala</td>\n",
       "      <td>boo</td>\n",
       "      <td>1</td>\n",
       "      <td>2</td>\n",
       "    </tr>\n",
       "    <tr>\n",
       "      <th>3</th>\n",
       "      <td>0.808565</td>\n",
       "      <td>0.337345</td>\n",
       "      <td>0.157054</td>\n",
       "      <td>NaN</td>\n",
       "      <td>NaN</td>\n",
       "      <td>NaN</td>\n",
       "      <td>foo5</td>\n",
       "      <td>boo</td>\n",
       "      <td>2</td>\n",
       "      <td>2</td>\n",
       "    </tr>\n",
       "    <tr>\n",
       "      <th>4</th>\n",
       "      <td>0.664518</td>\n",
       "      <td>0.597459</td>\n",
       "      <td>0.733332</td>\n",
       "      <td>NaN</td>\n",
       "      <td>NaN</td>\n",
       "      <td>NaN</td>\n",
       "      <td>lala</td>\n",
       "      <td>boo</td>\n",
       "      <td>1</td>\n",
       "      <td>2</td>\n",
       "    </tr>\n",
       "    <tr>\n",
       "      <th>5</th>\n",
       "      <td>0.655167</td>\n",
       "      <td>0.387138</td>\n",
       "      <td>0.295267</td>\n",
       "      <td>NaN</td>\n",
       "      <td>NaN</td>\n",
       "      <td>NaN</td>\n",
       "      <td>feeeee</td>\n",
       "      <td>foo20</td>\n",
       "      <td>4</td>\n",
       "      <td>5</td>\n",
       "    </tr>\n",
       "  </tbody>\n",
       "</table>"
      ],
      "text/plain": [
       "          X         Y         Z  X_r  Y_r  Z_r surface series  id  order_series\n",
       "0  0.051822  0.777136  0.160258  NaN  NaN  NaN     foo   foo7   3             3\n",
       "1  0.403212  0.846121  0.006913  NaN  NaN  NaN    foo5    boo   2             2\n",
       "2  0.864788  0.736385  0.583521  NaN  NaN  NaN    lala    boo   1             2\n",
       "3  0.808565  0.337345  0.157054  NaN  NaN  NaN    foo5    boo   2             2\n",
       "4  0.664518  0.597459  0.733332  NaN  NaN  NaN    lala    boo   1             2\n",
       "5  0.655167  0.387138  0.295267  NaN  NaN  NaN  feeeee  foo20   4             5"
      ]
     },
     "execution_count": 57,
     "metadata": {},
     "output_type": "execute_result"
    }
   ],
   "source": [
    "surface_points.map_data_from_series(series, 'order_series')\n",
    "surface_points"
   ]
  },
  {
   "cell_type": "code",
   "execution_count": 58,
   "metadata": {},
   "outputs": [
    {
     "data": {
      "text/html": [
       "<table border=\"1\" class=\"dataframe\">\n",
       "  <thead>\n",
       "    <tr style=\"text-align: right;\">\n",
       "      <th></th>\n",
       "      <th>X</th>\n",
       "      <th>Y</th>\n",
       "      <th>Z</th>\n",
       "      <th>X_r</th>\n",
       "      <th>Y_r</th>\n",
       "      <th>Z_r</th>\n",
       "      <th>surface</th>\n",
       "      <th>series</th>\n",
       "      <th>id</th>\n",
       "      <th>order_series</th>\n",
       "    </tr>\n",
       "  </thead>\n",
       "  <tbody>\n",
       "    <tr>\n",
       "      <th>2</th>\n",
       "      <td>0.864788</td>\n",
       "      <td>0.736385</td>\n",
       "      <td>0.583521</td>\n",
       "      <td>NaN</td>\n",
       "      <td>NaN</td>\n",
       "      <td>NaN</td>\n",
       "      <td>lala</td>\n",
       "      <td>boo</td>\n",
       "      <td>1</td>\n",
       "      <td>2</td>\n",
       "    </tr>\n",
       "    <tr>\n",
       "      <th>4</th>\n",
       "      <td>0.664518</td>\n",
       "      <td>0.597459</td>\n",
       "      <td>0.733332</td>\n",
       "      <td>NaN</td>\n",
       "      <td>NaN</td>\n",
       "      <td>NaN</td>\n",
       "      <td>lala</td>\n",
       "      <td>boo</td>\n",
       "      <td>1</td>\n",
       "      <td>2</td>\n",
       "    </tr>\n",
       "    <tr>\n",
       "      <th>1</th>\n",
       "      <td>0.403212</td>\n",
       "      <td>0.846121</td>\n",
       "      <td>0.006913</td>\n",
       "      <td>NaN</td>\n",
       "      <td>NaN</td>\n",
       "      <td>NaN</td>\n",
       "      <td>foo5</td>\n",
       "      <td>boo</td>\n",
       "      <td>2</td>\n",
       "      <td>2</td>\n",
       "    </tr>\n",
       "    <tr>\n",
       "      <th>3</th>\n",
       "      <td>0.808565</td>\n",
       "      <td>0.337345</td>\n",
       "      <td>0.157054</td>\n",
       "      <td>NaN</td>\n",
       "      <td>NaN</td>\n",
       "      <td>NaN</td>\n",
       "      <td>foo5</td>\n",
       "      <td>boo</td>\n",
       "      <td>2</td>\n",
       "      <td>2</td>\n",
       "    </tr>\n",
       "    <tr>\n",
       "      <th>0</th>\n",
       "      <td>0.051822</td>\n",
       "      <td>0.777136</td>\n",
       "      <td>0.160258</td>\n",
       "      <td>NaN</td>\n",
       "      <td>NaN</td>\n",
       "      <td>NaN</td>\n",
       "      <td>foo</td>\n",
       "      <td>foo7</td>\n",
       "      <td>3</td>\n",
       "      <td>3</td>\n",
       "    </tr>\n",
       "    <tr>\n",
       "      <th>5</th>\n",
       "      <td>0.655167</td>\n",
       "      <td>0.387138</td>\n",
       "      <td>0.295267</td>\n",
       "      <td>NaN</td>\n",
       "      <td>NaN</td>\n",
       "      <td>NaN</td>\n",
       "      <td>feeeee</td>\n",
       "      <td>foo20</td>\n",
       "      <td>4</td>\n",
       "      <td>5</td>\n",
       "    </tr>\n",
       "  </tbody>\n",
       "</table>"
      ],
      "text/plain": [
       "          X         Y         Z  X_r  Y_r  Z_r surface series  id  order_series\n",
       "2  0.864788  0.736385  0.583521  NaN  NaN  NaN    lala    boo   1             2\n",
       "4  0.664518  0.597459  0.733332  NaN  NaN  NaN    lala    boo   1             2\n",
       "1  0.403212  0.846121  0.006913  NaN  NaN  NaN    foo5    boo   2             2\n",
       "3  0.808565  0.337345  0.157054  NaN  NaN  NaN    foo5    boo   2             2\n",
       "0  0.051822  0.777136  0.160258  NaN  NaN  NaN     foo   foo7   3             3\n",
       "5  0.655167  0.387138  0.295267  NaN  NaN  NaN  feeeee  foo20   4             5"
      ]
     },
     "execution_count": 58,
     "metadata": {},
     "output_type": "execute_result"
    }
   ],
   "source": [
    "surface_points.sort_table()\n",
    "surface_points"
   ]
  },
  {
   "cell_type": "code",
   "execution_count": 59,
   "metadata": {},
   "outputs": [
    {
     "data": {
      "text/html": [
       "<table border=\"1\" class=\"dataframe\">\n",
       "  <thead>\n",
       "    <tr style=\"text-align: right;\">\n",
       "      <th></th>\n",
       "      <th>isFault</th>\n",
       "      <th>isFinite</th>\n",
       "    </tr>\n",
       "  </thead>\n",
       "  <tbody>\n",
       "    <tr>\n",
       "      <th>foo2</th>\n",
       "      <td>False</td>\n",
       "      <td>False</td>\n",
       "    </tr>\n",
       "    <tr>\n",
       "      <th>boo</th>\n",
       "      <td>True</td>\n",
       "      <td>False</td>\n",
       "    </tr>\n",
       "    <tr>\n",
       "      <th>foo7</th>\n",
       "      <td>False</td>\n",
       "      <td>False</td>\n",
       "    </tr>\n",
       "    <tr>\n",
       "      <th>foo5</th>\n",
       "      <td>False</td>\n",
       "      <td>False</td>\n",
       "    </tr>\n",
       "    <tr>\n",
       "      <th>foo20</th>\n",
       "      <td>False</td>\n",
       "      <td>False</td>\n",
       "    </tr>\n",
       "  </tbody>\n",
       "</table>"
      ],
      "text/plain": [
       "       isFault  isFinite\n",
       "foo2     False     False\n",
       "boo       True     False\n",
       "foo7     False     False\n",
       "foo5     False     False\n",
       "foo20    False     False"
      ]
     },
     "execution_count": 59,
     "metadata": {},
     "output_type": "execute_result"
    }
   ],
   "source": [
    "faults"
   ]
  },
  {
   "cell_type": "markdown",
   "metadata": {},
   "source": [
    "### Orientations"
   ]
  },
  {
   "cell_type": "code",
   "execution_count": 60,
   "metadata": {},
   "outputs": [],
   "source": [
    "orientations = gp.Orientations(surfaces)"
   ]
  },
  {
   "cell_type": "code",
   "execution_count": 61,
   "metadata": {},
   "outputs": [
    {
     "data": {
      "text/html": [
       "<table border=\"1\" class=\"dataframe\">\n",
       "  <thead>\n",
       "    <tr style=\"text-align: right;\">\n",
       "      <th></th>\n",
       "      <th>X</th>\n",
       "      <th>Y</th>\n",
       "      <th>Z</th>\n",
       "      <th>X_r</th>\n",
       "      <th>Y_r</th>\n",
       "      <th>Z_r</th>\n",
       "      <th>G_x</th>\n",
       "      <th>G_y</th>\n",
       "      <th>G_z</th>\n",
       "      <th>dip</th>\n",
       "      <th>azimuth</th>\n",
       "      <th>polarity</th>\n",
       "      <th>surface</th>\n",
       "      <th>series</th>\n",
       "      <th>id</th>\n",
       "      <th>order_series</th>\n",
       "    </tr>\n",
       "  </thead>\n",
       "  <tbody>\n",
       "  </tbody>\n",
       "</table>"
      ],
      "text/plain": [
       "Empty DataFrame\n",
       "Columns: [X, Y, Z, X_r, Y_r, Z_r, G_x, G_y, G_z, dip, azimuth, polarity, surface, series, id, order_series]\n",
       "Index: []"
      ]
     },
     "execution_count": 61,
     "metadata": {},
     "output_type": "execute_result"
    }
   ],
   "source": [
    "orientations"
   ]
  },
  {
   "cell_type": "markdown",
   "metadata": {},
   "source": [
    "### Set values passing pole vectors:"
   ]
  },
  {
   "cell_type": "code",
   "execution_count": 62,
   "metadata": {},
   "outputs": [],
   "source": [
    "orientations.set_orientations(np.random.rand(6,3)*10,\n",
    "                            np.random.rand(6,3),\n",
    "                            surface=['foo', 'foo5', 'lala', 'foo5', 'lala', 'feeeee'])"
   ]
  },
  {
   "cell_type": "code",
   "execution_count": 63,
   "metadata": {},
   "outputs": [
    {
     "data": {
      "text/html": [
       "<table border=\"1\" class=\"dataframe\">\n",
       "  <thead>\n",
       "    <tr style=\"text-align: right;\">\n",
       "      <th></th>\n",
       "      <th>X</th>\n",
       "      <th>Y</th>\n",
       "      <th>Z</th>\n",
       "      <th>X_r</th>\n",
       "      <th>Y_r</th>\n",
       "      <th>Z_r</th>\n",
       "      <th>G_x</th>\n",
       "      <th>G_y</th>\n",
       "      <th>G_z</th>\n",
       "      <th>dip</th>\n",
       "      <th>azimuth</th>\n",
       "      <th>polarity</th>\n",
       "      <th>surface</th>\n",
       "      <th>series</th>\n",
       "      <th>id</th>\n",
       "      <th>order_series</th>\n",
       "    </tr>\n",
       "  </thead>\n",
       "  <tbody>\n",
       "    <tr>\n",
       "      <th>0</th>\n",
       "      <td>1.267327</td>\n",
       "      <td>1.176131</td>\n",
       "      <td>4.938764</td>\n",
       "      <td>NaN</td>\n",
       "      <td>NaN</td>\n",
       "      <td>NaN</td>\n",
       "      <td>0.144813</td>\n",
       "      <td>0.124310</td>\n",
       "      <td>0.835325</td>\n",
       "      <td>33.350324</td>\n",
       "      <td>49.356593</td>\n",
       "      <td>1</td>\n",
       "      <td>foo</td>\n",
       "      <td>NaN</td>\n",
       "      <td>NaN</td>\n",
       "      <td>1</td>\n",
       "    </tr>\n",
       "    <tr>\n",
       "      <th>1</th>\n",
       "      <td>0.681668</td>\n",
       "      <td>8.011762</td>\n",
       "      <td>3.622924</td>\n",
       "      <td>NaN</td>\n",
       "      <td>NaN</td>\n",
       "      <td>NaN</td>\n",
       "      <td>0.894651</td>\n",
       "      <td>0.270137</td>\n",
       "      <td>0.292711</td>\n",
       "      <td>72.979670</td>\n",
       "      <td>73.198500</td>\n",
       "      <td>1</td>\n",
       "      <td>foo5</td>\n",
       "      <td>NaN</td>\n",
       "      <td>NaN</td>\n",
       "      <td>1</td>\n",
       "    </tr>\n",
       "    <tr>\n",
       "      <th>2</th>\n",
       "      <td>4.278119</td>\n",
       "      <td>5.744448</td>\n",
       "      <td>8.019557</td>\n",
       "      <td>NaN</td>\n",
       "      <td>NaN</td>\n",
       "      <td>NaN</td>\n",
       "      <td>0.725545</td>\n",
       "      <td>0.568506</td>\n",
       "      <td>0.836449</td>\n",
       "      <td>33.232941</td>\n",
       "      <td>51.919299</td>\n",
       "      <td>1</td>\n",
       "      <td>lala</td>\n",
       "      <td>NaN</td>\n",
       "      <td>NaN</td>\n",
       "      <td>1</td>\n",
       "    </tr>\n",
       "    <tr>\n",
       "      <th>3</th>\n",
       "      <td>9.426743</td>\n",
       "      <td>8.645996</td>\n",
       "      <td>6.905016</td>\n",
       "      <td>NaN</td>\n",
       "      <td>NaN</td>\n",
       "      <td>NaN</td>\n",
       "      <td>0.350029</td>\n",
       "      <td>0.333305</td>\n",
       "      <td>0.821399</td>\n",
       "      <td>34.774914</td>\n",
       "      <td>46.402010</td>\n",
       "      <td>1</td>\n",
       "      <td>foo5</td>\n",
       "      <td>NaN</td>\n",
       "      <td>NaN</td>\n",
       "      <td>1</td>\n",
       "    </tr>\n",
       "    <tr>\n",
       "      <th>4</th>\n",
       "      <td>3.750857</td>\n",
       "      <td>2.691785</td>\n",
       "      <td>6.571445</td>\n",
       "      <td>NaN</td>\n",
       "      <td>NaN</td>\n",
       "      <td>NaN</td>\n",
       "      <td>0.834977</td>\n",
       "      <td>0.678691</td>\n",
       "      <td>0.313010</td>\n",
       "      <td>71.759254</td>\n",
       "      <td>50.894889</td>\n",
       "      <td>1</td>\n",
       "      <td>lala</td>\n",
       "      <td>NaN</td>\n",
       "      <td>NaN</td>\n",
       "      <td>1</td>\n",
       "    </tr>\n",
       "    <tr>\n",
       "      <th>5</th>\n",
       "      <td>7.309448</td>\n",
       "      <td>0.041803</td>\n",
       "      <td>8.760156</td>\n",
       "      <td>NaN</td>\n",
       "      <td>NaN</td>\n",
       "      <td>NaN</td>\n",
       "      <td>0.396027</td>\n",
       "      <td>0.089436</td>\n",
       "      <td>0.554977</td>\n",
       "      <td>56.290893</td>\n",
       "      <td>77.274122</td>\n",
       "      <td>1</td>\n",
       "      <td>feeeee</td>\n",
       "      <td>NaN</td>\n",
       "      <td>NaN</td>\n",
       "      <td>1</td>\n",
       "    </tr>\n",
       "  </tbody>\n",
       "</table>"
      ],
      "text/plain": [
       "          X         Y         Z  X_r  Y_r  Z_r       G_x       G_y       G_z        dip    azimuth  polarity surface series  id  order_series\n",
       "0  1.267327  1.176131  4.938764  NaN  NaN  NaN  0.144813  0.124310  0.835325  33.350324  49.356593         1     foo    NaN NaN             1\n",
       "1  0.681668  8.011762  3.622924  NaN  NaN  NaN  0.894651  0.270137  0.292711  72.979670  73.198500         1    foo5    NaN NaN             1\n",
       "2  4.278119  5.744448  8.019557  NaN  NaN  NaN  0.725545  0.568506  0.836449  33.232941  51.919299         1    lala    NaN NaN             1\n",
       "3  9.426743  8.645996  6.905016  NaN  NaN  NaN  0.350029  0.333305  0.821399  34.774914  46.402010         1    foo5    NaN NaN             1\n",
       "4  3.750857  2.691785  6.571445  NaN  NaN  NaN  0.834977  0.678691  0.313010  71.759254  50.894889         1    lala    NaN NaN             1\n",
       "5  7.309448  0.041803  8.760156  NaN  NaN  NaN  0.396027  0.089436  0.554977  56.290893  77.274122         1  feeeee    NaN NaN             1"
      ]
     },
     "execution_count": 63,
     "metadata": {},
     "output_type": "execute_result"
    }
   ],
   "source": [
    "orientations"
   ]
  },
  {
   "cell_type": "markdown",
   "metadata": {},
   "source": [
    "### Set values pasing orientation data: azimuth, dip, pole (dip direction)"
   ]
  },
  {
   "cell_type": "code",
   "execution_count": 64,
   "metadata": {},
   "outputs": [],
   "source": [
    "orientations.set_orientations(np.random.rand(6,3)*10,\n",
    "                            orientation = np.random.rand(6,3)*20,\n",
    "                            surface=['foo', 'foo5', 'lala', 'foo5', 'lala', 'feeeee'])"
   ]
  },
  {
   "cell_type": "code",
   "execution_count": 65,
   "metadata": {},
   "outputs": [
    {
     "data": {
      "text/html": [
       "<table border=\"1\" class=\"dataframe\">\n",
       "  <thead>\n",
       "    <tr style=\"text-align: right;\">\n",
       "      <th></th>\n",
       "      <th>X</th>\n",
       "      <th>Y</th>\n",
       "      <th>Z</th>\n",
       "      <th>X_r</th>\n",
       "      <th>Y_r</th>\n",
       "      <th>Z_r</th>\n",
       "      <th>G_x</th>\n",
       "      <th>G_y</th>\n",
       "      <th>G_z</th>\n",
       "      <th>dip</th>\n",
       "      <th>azimuth</th>\n",
       "      <th>polarity</th>\n",
       "      <th>surface</th>\n",
       "      <th>series</th>\n",
       "      <th>id</th>\n",
       "      <th>order_series</th>\n",
       "    </tr>\n",
       "  </thead>\n",
       "  <tbody>\n",
       "    <tr>\n",
       "      <th>0</th>\n",
       "      <td>3.720050</td>\n",
       "      <td>4.077853</td>\n",
       "      <td>2.320323</td>\n",
       "      <td>NaN</td>\n",
       "      <td>NaN</td>\n",
       "      <td>NaN</td>\n",
       "      <td>0.543730</td>\n",
       "      <td>2.927971</td>\n",
       "      <td>18.267701</td>\n",
       "      <td>9.258998</td>\n",
       "      <td>10.520105</td>\n",
       "      <td>18.508851</td>\n",
       "      <td>foo</td>\n",
       "      <td>NaN</td>\n",
       "      <td>NaN</td>\n",
       "      <td>1</td>\n",
       "    </tr>\n",
       "    <tr>\n",
       "      <th>1</th>\n",
       "      <td>1.166258</td>\n",
       "      <td>0.564443</td>\n",
       "      <td>1.720323</td>\n",
       "      <td>NaN</td>\n",
       "      <td>NaN</td>\n",
       "      <td>NaN</td>\n",
       "      <td>0.191449</td>\n",
       "      <td>1.347075</td>\n",
       "      <td>14.773097</td>\n",
       "      <td>5.262131</td>\n",
       "      <td>8.088806</td>\n",
       "      <td>14.835621</td>\n",
       "      <td>foo5</td>\n",
       "      <td>NaN</td>\n",
       "      <td>NaN</td>\n",
       "      <td>1</td>\n",
       "    </tr>\n",
       "    <tr>\n",
       "      <th>2</th>\n",
       "      <td>1.406738</td>\n",
       "      <td>9.522784</td>\n",
       "      <td>0.779428</td>\n",
       "      <td>NaN</td>\n",
       "      <td>NaN</td>\n",
       "      <td>NaN</td>\n",
       "      <td>0.285894</td>\n",
       "      <td>3.405388</td>\n",
       "      <td>17.518041</td>\n",
       "      <td>11.038461</td>\n",
       "      <td>4.798925</td>\n",
       "      <td>17.848254</td>\n",
       "      <td>lala</td>\n",
       "      <td>NaN</td>\n",
       "      <td>NaN</td>\n",
       "      <td>1</td>\n",
       "    </tr>\n",
       "    <tr>\n",
       "      <th>3</th>\n",
       "      <td>6.619505</td>\n",
       "      <td>8.613892</td>\n",
       "      <td>8.915483</td>\n",
       "      <td>NaN</td>\n",
       "      <td>NaN</td>\n",
       "      <td>NaN</td>\n",
       "      <td>0.802123</td>\n",
       "      <td>2.482146</td>\n",
       "      <td>18.648289</td>\n",
       "      <td>7.962902</td>\n",
       "      <td>17.908608</td>\n",
       "      <td>18.829847</td>\n",
       "      <td>foo5</td>\n",
       "      <td>NaN</td>\n",
       "      <td>NaN</td>\n",
       "      <td>1</td>\n",
       "    </tr>\n",
       "    <tr>\n",
       "      <th>4</th>\n",
       "      <td>5.888560</td>\n",
       "      <td>9.826699</td>\n",
       "      <td>7.630022</td>\n",
       "      <td>NaN</td>\n",
       "      <td>NaN</td>\n",
       "      <td>NaN</td>\n",
       "      <td>0.282635</td>\n",
       "      <td>1.067276</td>\n",
       "      <td>11.566816</td>\n",
       "      <td>5.452429</td>\n",
       "      <td>14.832521</td>\n",
       "      <td>11.619389</td>\n",
       "      <td>lala</td>\n",
       "      <td>NaN</td>\n",
       "      <td>NaN</td>\n",
       "      <td>1</td>\n",
       "    </tr>\n",
       "    <tr>\n",
       "      <th>5</th>\n",
       "      <td>7.742958</td>\n",
       "      <td>2.621863</td>\n",
       "      <td>1.880534</td>\n",
       "      <td>NaN</td>\n",
       "      <td>NaN</td>\n",
       "      <td>NaN</td>\n",
       "      <td>0.011221</td>\n",
       "      <td>0.039869</td>\n",
       "      <td>0.160443</td>\n",
       "      <td>14.474851</td>\n",
       "      <td>15.719158</td>\n",
       "      <td>0.165702</td>\n",
       "      <td>feeeee</td>\n",
       "      <td>NaN</td>\n",
       "      <td>NaN</td>\n",
       "      <td>1</td>\n",
       "    </tr>\n",
       "  </tbody>\n",
       "</table>"
      ],
      "text/plain": [
       "          X         Y         Z  X_r  Y_r  Z_r       G_x       G_y        G_z        dip    azimuth   polarity surface series  id  order_series\n",
       "0  3.720050  4.077853  2.320323  NaN  NaN  NaN  0.543730  2.927971  18.267701   9.258998  10.520105  18.508851     foo    NaN NaN             1\n",
       "1  1.166258  0.564443  1.720323  NaN  NaN  NaN  0.191449  1.347075  14.773097   5.262131   8.088806  14.835621    foo5    NaN NaN             1\n",
       "2  1.406738  9.522784  0.779428  NaN  NaN  NaN  0.285894  3.405388  17.518041  11.038461   4.798925  17.848254    lala    NaN NaN             1\n",
       "3  6.619505  8.613892  8.915483  NaN  NaN  NaN  0.802123  2.482146  18.648289   7.962902  17.908608  18.829847    foo5    NaN NaN             1\n",
       "4  5.888560  9.826699  7.630022  NaN  NaN  NaN  0.282635  1.067276  11.566816   5.452429  14.832521  11.619389    lala    NaN NaN             1\n",
       "5  7.742958  2.621863  1.880534  NaN  NaN  NaN  0.011221  0.039869   0.160443  14.474851  15.719158   0.165702  feeeee    NaN NaN             1"
      ]
     },
     "execution_count": 65,
     "metadata": {},
     "output_type": "execute_result"
    }
   ],
   "source": [
    "orientations"
   ]
  },
  {
   "cell_type": "markdown",
   "metadata": {},
   "source": [
    "### Mapping data from the other df"
   ]
  },
  {
   "cell_type": "code",
   "execution_count": 66,
   "metadata": {},
   "outputs": [
    {
     "data": {
      "text/html": [
       "<table border=\"1\" class=\"dataframe\">\n",
       "  <thead>\n",
       "    <tr style=\"text-align: right;\">\n",
       "      <th></th>\n",
       "      <th>X</th>\n",
       "      <th>Y</th>\n",
       "      <th>Z</th>\n",
       "      <th>X_r</th>\n",
       "      <th>Y_r</th>\n",
       "      <th>Z_r</th>\n",
       "      <th>G_x</th>\n",
       "      <th>G_y</th>\n",
       "      <th>G_z</th>\n",
       "      <th>dip</th>\n",
       "      <th>azimuth</th>\n",
       "      <th>polarity</th>\n",
       "      <th>surface</th>\n",
       "      <th>series</th>\n",
       "      <th>id</th>\n",
       "      <th>order_series</th>\n",
       "    </tr>\n",
       "  </thead>\n",
       "  <tbody>\n",
       "    <tr>\n",
       "      <th>0</th>\n",
       "      <td>3.720050</td>\n",
       "      <td>4.077853</td>\n",
       "      <td>2.320323</td>\n",
       "      <td>NaN</td>\n",
       "      <td>NaN</td>\n",
       "      <td>NaN</td>\n",
       "      <td>0.543730</td>\n",
       "      <td>2.927971</td>\n",
       "      <td>18.267701</td>\n",
       "      <td>9.258998</td>\n",
       "      <td>10.520105</td>\n",
       "      <td>18.508851</td>\n",
       "      <td>foo</td>\n",
       "      <td>foo7</td>\n",
       "      <td>NaN</td>\n",
       "      <td>1</td>\n",
       "    </tr>\n",
       "    <tr>\n",
       "      <th>1</th>\n",
       "      <td>1.166258</td>\n",
       "      <td>0.564443</td>\n",
       "      <td>1.720323</td>\n",
       "      <td>NaN</td>\n",
       "      <td>NaN</td>\n",
       "      <td>NaN</td>\n",
       "      <td>0.191449</td>\n",
       "      <td>1.347075</td>\n",
       "      <td>14.773097</td>\n",
       "      <td>5.262131</td>\n",
       "      <td>8.088806</td>\n",
       "      <td>14.835621</td>\n",
       "      <td>foo5</td>\n",
       "      <td>boo</td>\n",
       "      <td>NaN</td>\n",
       "      <td>1</td>\n",
       "    </tr>\n",
       "    <tr>\n",
       "      <th>2</th>\n",
       "      <td>1.406738</td>\n",
       "      <td>9.522784</td>\n",
       "      <td>0.779428</td>\n",
       "      <td>NaN</td>\n",
       "      <td>NaN</td>\n",
       "      <td>NaN</td>\n",
       "      <td>0.285894</td>\n",
       "      <td>3.405388</td>\n",
       "      <td>17.518041</td>\n",
       "      <td>11.038461</td>\n",
       "      <td>4.798925</td>\n",
       "      <td>17.848254</td>\n",
       "      <td>lala</td>\n",
       "      <td>boo</td>\n",
       "      <td>NaN</td>\n",
       "      <td>1</td>\n",
       "    </tr>\n",
       "    <tr>\n",
       "      <th>3</th>\n",
       "      <td>6.619505</td>\n",
       "      <td>8.613892</td>\n",
       "      <td>8.915483</td>\n",
       "      <td>NaN</td>\n",
       "      <td>NaN</td>\n",
       "      <td>NaN</td>\n",
       "      <td>0.802123</td>\n",
       "      <td>2.482146</td>\n",
       "      <td>18.648289</td>\n",
       "      <td>7.962902</td>\n",
       "      <td>17.908608</td>\n",
       "      <td>18.829847</td>\n",
       "      <td>foo5</td>\n",
       "      <td>boo</td>\n",
       "      <td>NaN</td>\n",
       "      <td>1</td>\n",
       "    </tr>\n",
       "    <tr>\n",
       "      <th>4</th>\n",
       "      <td>5.888560</td>\n",
       "      <td>9.826699</td>\n",
       "      <td>7.630022</td>\n",
       "      <td>NaN</td>\n",
       "      <td>NaN</td>\n",
       "      <td>NaN</td>\n",
       "      <td>0.282635</td>\n",
       "      <td>1.067276</td>\n",
       "      <td>11.566816</td>\n",
       "      <td>5.452429</td>\n",
       "      <td>14.832521</td>\n",
       "      <td>11.619389</td>\n",
       "      <td>lala</td>\n",
       "      <td>boo</td>\n",
       "      <td>NaN</td>\n",
       "      <td>1</td>\n",
       "    </tr>\n",
       "    <tr>\n",
       "      <th>5</th>\n",
       "      <td>7.742958</td>\n",
       "      <td>2.621863</td>\n",
       "      <td>1.880534</td>\n",
       "      <td>NaN</td>\n",
       "      <td>NaN</td>\n",
       "      <td>NaN</td>\n",
       "      <td>0.011221</td>\n",
       "      <td>0.039869</td>\n",
       "      <td>0.160443</td>\n",
       "      <td>14.474851</td>\n",
       "      <td>15.719158</td>\n",
       "      <td>0.165702</td>\n",
       "      <td>feeeee</td>\n",
       "      <td>foo20</td>\n",
       "      <td>NaN</td>\n",
       "      <td>1</td>\n",
       "    </tr>\n",
       "  </tbody>\n",
       "</table>"
      ],
      "text/plain": [
       "          X         Y         Z  X_r  Y_r  Z_r       G_x       G_y        G_z        dip    azimuth   polarity surface series  id  order_series\n",
       "0  3.720050  4.077853  2.320323  NaN  NaN  NaN  0.543730  2.927971  18.267701   9.258998  10.520105  18.508851     foo   foo7 NaN             1\n",
       "1  1.166258  0.564443  1.720323  NaN  NaN  NaN  0.191449  1.347075  14.773097   5.262131   8.088806  14.835621    foo5    boo NaN             1\n",
       "2  1.406738  9.522784  0.779428  NaN  NaN  NaN  0.285894  3.405388  17.518041  11.038461   4.798925  17.848254    lala    boo NaN             1\n",
       "3  6.619505  8.613892  8.915483  NaN  NaN  NaN  0.802123  2.482146  18.648289   7.962902  17.908608  18.829847    foo5    boo NaN             1\n",
       "4  5.888560  9.826699  7.630022  NaN  NaN  NaN  0.282635  1.067276  11.566816   5.452429  14.832521  11.619389    lala    boo NaN             1\n",
       "5  7.742958  2.621863  1.880534  NaN  NaN  NaN  0.011221  0.039869   0.160443  14.474851  15.719158   0.165702  feeeee  foo20 NaN             1"
      ]
     },
     "execution_count": 66,
     "metadata": {},
     "output_type": "execute_result"
    }
   ],
   "source": [
    "orientations.map_data_from_surfaces(surfaces, 'series')\n",
    "orientations"
   ]
  },
  {
   "cell_type": "code",
   "execution_count": 67,
   "metadata": {},
   "outputs": [
    {
     "data": {
      "text/html": [
       "<table border=\"1\" class=\"dataframe\">\n",
       "  <thead>\n",
       "    <tr style=\"text-align: right;\">\n",
       "      <th></th>\n",
       "      <th>X</th>\n",
       "      <th>Y</th>\n",
       "      <th>Z</th>\n",
       "      <th>X_r</th>\n",
       "      <th>Y_r</th>\n",
       "      <th>Z_r</th>\n",
       "      <th>G_x</th>\n",
       "      <th>G_y</th>\n",
       "      <th>G_z</th>\n",
       "      <th>dip</th>\n",
       "      <th>azimuth</th>\n",
       "      <th>polarity</th>\n",
       "      <th>surface</th>\n",
       "      <th>series</th>\n",
       "      <th>id</th>\n",
       "      <th>order_series</th>\n",
       "    </tr>\n",
       "  </thead>\n",
       "  <tbody>\n",
       "    <tr>\n",
       "      <th>0</th>\n",
       "      <td>3.720050</td>\n",
       "      <td>4.077853</td>\n",
       "      <td>2.320323</td>\n",
       "      <td>NaN</td>\n",
       "      <td>NaN</td>\n",
       "      <td>NaN</td>\n",
       "      <td>0.543730</td>\n",
       "      <td>2.927971</td>\n",
       "      <td>18.267701</td>\n",
       "      <td>9.258998</td>\n",
       "      <td>10.520105</td>\n",
       "      <td>18.508851</td>\n",
       "      <td>foo</td>\n",
       "      <td>foo7</td>\n",
       "      <td>3</td>\n",
       "      <td>1</td>\n",
       "    </tr>\n",
       "    <tr>\n",
       "      <th>1</th>\n",
       "      <td>1.166258</td>\n",
       "      <td>0.564443</td>\n",
       "      <td>1.720323</td>\n",
       "      <td>NaN</td>\n",
       "      <td>NaN</td>\n",
       "      <td>NaN</td>\n",
       "      <td>0.191449</td>\n",
       "      <td>1.347075</td>\n",
       "      <td>14.773097</td>\n",
       "      <td>5.262131</td>\n",
       "      <td>8.088806</td>\n",
       "      <td>14.835621</td>\n",
       "      <td>foo5</td>\n",
       "      <td>boo</td>\n",
       "      <td>2</td>\n",
       "      <td>1</td>\n",
       "    </tr>\n",
       "    <tr>\n",
       "      <th>2</th>\n",
       "      <td>1.406738</td>\n",
       "      <td>9.522784</td>\n",
       "      <td>0.779428</td>\n",
       "      <td>NaN</td>\n",
       "      <td>NaN</td>\n",
       "      <td>NaN</td>\n",
       "      <td>0.285894</td>\n",
       "      <td>3.405388</td>\n",
       "      <td>17.518041</td>\n",
       "      <td>11.038461</td>\n",
       "      <td>4.798925</td>\n",
       "      <td>17.848254</td>\n",
       "      <td>lala</td>\n",
       "      <td>boo</td>\n",
       "      <td>1</td>\n",
       "      <td>1</td>\n",
       "    </tr>\n",
       "    <tr>\n",
       "      <th>3</th>\n",
       "      <td>6.619505</td>\n",
       "      <td>8.613892</td>\n",
       "      <td>8.915483</td>\n",
       "      <td>NaN</td>\n",
       "      <td>NaN</td>\n",
       "      <td>NaN</td>\n",
       "      <td>0.802123</td>\n",
       "      <td>2.482146</td>\n",
       "      <td>18.648289</td>\n",
       "      <td>7.962902</td>\n",
       "      <td>17.908608</td>\n",
       "      <td>18.829847</td>\n",
       "      <td>foo5</td>\n",
       "      <td>boo</td>\n",
       "      <td>2</td>\n",
       "      <td>1</td>\n",
       "    </tr>\n",
       "    <tr>\n",
       "      <th>4</th>\n",
       "      <td>5.888560</td>\n",
       "      <td>9.826699</td>\n",
       "      <td>7.630022</td>\n",
       "      <td>NaN</td>\n",
       "      <td>NaN</td>\n",
       "      <td>NaN</td>\n",
       "      <td>0.282635</td>\n",
       "      <td>1.067276</td>\n",
       "      <td>11.566816</td>\n",
       "      <td>5.452429</td>\n",
       "      <td>14.832521</td>\n",
       "      <td>11.619389</td>\n",
       "      <td>lala</td>\n",
       "      <td>boo</td>\n",
       "      <td>1</td>\n",
       "      <td>1</td>\n",
       "    </tr>\n",
       "    <tr>\n",
       "      <th>5</th>\n",
       "      <td>7.742958</td>\n",
       "      <td>2.621863</td>\n",
       "      <td>1.880534</td>\n",
       "      <td>NaN</td>\n",
       "      <td>NaN</td>\n",
       "      <td>NaN</td>\n",
       "      <td>0.011221</td>\n",
       "      <td>0.039869</td>\n",
       "      <td>0.160443</td>\n",
       "      <td>14.474851</td>\n",
       "      <td>15.719158</td>\n",
       "      <td>0.165702</td>\n",
       "      <td>feeeee</td>\n",
       "      <td>foo20</td>\n",
       "      <td>4</td>\n",
       "      <td>1</td>\n",
       "    </tr>\n",
       "  </tbody>\n",
       "</table>"
      ],
      "text/plain": [
       "          X         Y         Z  X_r  Y_r  Z_r       G_x       G_y        G_z        dip    azimuth   polarity surface series  id  order_series\n",
       "0  3.720050  4.077853  2.320323  NaN  NaN  NaN  0.543730  2.927971  18.267701   9.258998  10.520105  18.508851     foo   foo7   3             1\n",
       "1  1.166258  0.564443  1.720323  NaN  NaN  NaN  0.191449  1.347075  14.773097   5.262131   8.088806  14.835621    foo5    boo   2             1\n",
       "2  1.406738  9.522784  0.779428  NaN  NaN  NaN  0.285894  3.405388  17.518041  11.038461   4.798925  17.848254    lala    boo   1             1\n",
       "3  6.619505  8.613892  8.915483  NaN  NaN  NaN  0.802123  2.482146  18.648289   7.962902  17.908608  18.829847    foo5    boo   2             1\n",
       "4  5.888560  9.826699  7.630022  NaN  NaN  NaN  0.282635  1.067276  11.566816   5.452429  14.832521  11.619389    lala    boo   1             1\n",
       "5  7.742958  2.621863  1.880534  NaN  NaN  NaN  0.011221  0.039869   0.160443  14.474851  15.719158   0.165702  feeeee  foo20   4             1"
      ]
     },
     "execution_count": 67,
     "metadata": {},
     "output_type": "execute_result"
    }
   ],
   "source": [
    "orientations.map_data_from_surfaces(surfaces, 'id')\n",
    "orientations"
   ]
  },
  {
   "cell_type": "code",
   "execution_count": 71,
   "metadata": {},
   "outputs": [
    {
     "data": {
      "text/html": [
       "<table border=\"1\" class=\"dataframe\">\n",
       "  <thead>\n",
       "    <tr style=\"text-align: right;\">\n",
       "      <th></th>\n",
       "      <th>X</th>\n",
       "      <th>Y</th>\n",
       "      <th>Z</th>\n",
       "      <th>X_r</th>\n",
       "      <th>Y_r</th>\n",
       "      <th>Z_r</th>\n",
       "      <th>G_x</th>\n",
       "      <th>G_y</th>\n",
       "      <th>G_z</th>\n",
       "      <th>dip</th>\n",
       "      <th>azimuth</th>\n",
       "      <th>polarity</th>\n",
       "      <th>surface</th>\n",
       "      <th>series</th>\n",
       "      <th>id</th>\n",
       "      <th>order_series</th>\n",
       "      <th>annotations</th>\n",
       "    </tr>\n",
       "  </thead>\n",
       "  <tbody>\n",
       "    <tr>\n",
       "      <th>0</th>\n",
       "      <td>3.720050</td>\n",
       "      <td>4.077853</td>\n",
       "      <td>2.320323</td>\n",
       "      <td>NaN</td>\n",
       "      <td>NaN</td>\n",
       "      <td>NaN</td>\n",
       "      <td>0.543730</td>\n",
       "      <td>2.927971</td>\n",
       "      <td>18.267701</td>\n",
       "      <td>9.258998</td>\n",
       "      <td>10.520105</td>\n",
       "      <td>18.508851</td>\n",
       "      <td>foo</td>\n",
       "      <td>foo7</td>\n",
       "      <td>3</td>\n",
       "      <td>3</td>\n",
       "      <td>${\\bf{x}}_{\\beta \\,{\\bf{3}},0}$</td>\n",
       "    </tr>\n",
       "    <tr>\n",
       "      <th>1</th>\n",
       "      <td>1.166258</td>\n",
       "      <td>0.564443</td>\n",
       "      <td>1.720323</td>\n",
       "      <td>NaN</td>\n",
       "      <td>NaN</td>\n",
       "      <td>NaN</td>\n",
       "      <td>0.191449</td>\n",
       "      <td>1.347075</td>\n",
       "      <td>14.773097</td>\n",
       "      <td>5.262131</td>\n",
       "      <td>8.088806</td>\n",
       "      <td>14.835621</td>\n",
       "      <td>foo5</td>\n",
       "      <td>boo</td>\n",
       "      <td>2</td>\n",
       "      <td>2</td>\n",
       "      <td>${\\bf{x}}_{\\beta \\,{\\bf{2}},0}$</td>\n",
       "    </tr>\n",
       "    <tr>\n",
       "      <th>2</th>\n",
       "      <td>1.406738</td>\n",
       "      <td>9.522784</td>\n",
       "      <td>0.779428</td>\n",
       "      <td>NaN</td>\n",
       "      <td>NaN</td>\n",
       "      <td>NaN</td>\n",
       "      <td>0.285894</td>\n",
       "      <td>3.405388</td>\n",
       "      <td>17.518041</td>\n",
       "      <td>11.038461</td>\n",
       "      <td>4.798925</td>\n",
       "      <td>17.848254</td>\n",
       "      <td>lala</td>\n",
       "      <td>boo</td>\n",
       "      <td>1</td>\n",
       "      <td>2</td>\n",
       "      <td>${\\bf{x}}_{\\beta \\,{\\bf{1}},0}$</td>\n",
       "    </tr>\n",
       "    <tr>\n",
       "      <th>3</th>\n",
       "      <td>6.619505</td>\n",
       "      <td>8.613892</td>\n",
       "      <td>8.915483</td>\n",
       "      <td>NaN</td>\n",
       "      <td>NaN</td>\n",
       "      <td>NaN</td>\n",
       "      <td>0.802123</td>\n",
       "      <td>2.482146</td>\n",
       "      <td>18.648289</td>\n",
       "      <td>7.962902</td>\n",
       "      <td>17.908608</td>\n",
       "      <td>18.829847</td>\n",
       "      <td>foo5</td>\n",
       "      <td>boo</td>\n",
       "      <td>2</td>\n",
       "      <td>2</td>\n",
       "      <td>${\\bf{x}}_{\\beta \\,{\\bf{2}},1}$</td>\n",
       "    </tr>\n",
       "    <tr>\n",
       "      <th>4</th>\n",
       "      <td>5.888560</td>\n",
       "      <td>9.826699</td>\n",
       "      <td>7.630022</td>\n",
       "      <td>NaN</td>\n",
       "      <td>NaN</td>\n",
       "      <td>NaN</td>\n",
       "      <td>0.282635</td>\n",
       "      <td>1.067276</td>\n",
       "      <td>11.566816</td>\n",
       "      <td>5.452429</td>\n",
       "      <td>14.832521</td>\n",
       "      <td>11.619389</td>\n",
       "      <td>lala</td>\n",
       "      <td>boo</td>\n",
       "      <td>1</td>\n",
       "      <td>2</td>\n",
       "      <td>${\\bf{x}}_{\\beta \\,{\\bf{1}},1}$</td>\n",
       "    </tr>\n",
       "    <tr>\n",
       "      <th>5</th>\n",
       "      <td>7.742958</td>\n",
       "      <td>2.621863</td>\n",
       "      <td>1.880534</td>\n",
       "      <td>NaN</td>\n",
       "      <td>NaN</td>\n",
       "      <td>NaN</td>\n",
       "      <td>0.011221</td>\n",
       "      <td>0.039869</td>\n",
       "      <td>0.160443</td>\n",
       "      <td>14.474851</td>\n",
       "      <td>15.719158</td>\n",
       "      <td>0.165702</td>\n",
       "      <td>feeeee</td>\n",
       "      <td>foo20</td>\n",
       "      <td>4</td>\n",
       "      <td>5</td>\n",
       "      <td>${\\bf{x}}_{\\beta \\,{\\bf{4}},0}$</td>\n",
       "    </tr>\n",
       "  </tbody>\n",
       "</table>"
      ],
      "text/plain": [
       "          X         Y         Z  X_r  Y_r  Z_r       G_x       G_y        G_z        dip    azimuth   polarity surface series  id  order_series                      annotations\n",
       "0  3.720050  4.077853  2.320323  NaN  NaN  NaN  0.543730  2.927971  18.267701   9.258998  10.520105  18.508851     foo   foo7   3             3  ${\\bf{x}}_{\\beta \\,{\\bf{3}},0}$\n",
       "1  1.166258  0.564443  1.720323  NaN  NaN  NaN  0.191449  1.347075  14.773097   5.262131   8.088806  14.835621    foo5    boo   2             2  ${\\bf{x}}_{\\beta \\,{\\bf{2}},0}$\n",
       "2  1.406738  9.522784  0.779428  NaN  NaN  NaN  0.285894  3.405388  17.518041  11.038461   4.798925  17.848254    lala    boo   1             2  ${\\bf{x}}_{\\beta \\,{\\bf{1}},0}$\n",
       "3  6.619505  8.613892  8.915483  NaN  NaN  NaN  0.802123  2.482146  18.648289   7.962902  17.908608  18.829847    foo5    boo   2             2  ${\\bf{x}}_{\\beta \\,{\\bf{2}},1}$\n",
       "4  5.888560  9.826699  7.630022  NaN  NaN  NaN  0.282635  1.067276  11.566816   5.452429  14.832521  11.619389    lala    boo   1             2  ${\\bf{x}}_{\\beta \\,{\\bf{1}},1}$\n",
       "5  7.742958  2.621863  1.880534  NaN  NaN  NaN  0.011221  0.039869   0.160443  14.474851  15.719158   0.165702  feeeee  foo20   4             5  ${\\bf{x}}_{\\beta \\,{\\bf{4}},0}$"
      ]
     },
     "execution_count": 71,
     "metadata": {},
     "output_type": "execute_result"
    }
   ],
   "source": [
    "orientations.map_data_from_series(series, 'order_series')\n",
    "orientations"
   ]
  },
  {
   "cell_type": "code",
   "execution_count": 70,
   "metadata": {},
   "outputs": [],
   "source": [
    "orientations.update_annotations()"
   ]
  },
  {
   "cell_type": "markdown",
   "metadata": {},
   "source": [
    "### Grid"
   ]
  },
  {
   "cell_type": "code",
   "execution_count": 72,
   "metadata": {},
   "outputs": [
    {
     "data": {
      "text/plain": [
       "<gempy.core.grid_modules.grid_types.RegularGrid at 0x7ff87736c160>"
      ]
     },
     "execution_count": 72,
     "metadata": {},
     "output_type": "execute_result"
    }
   ],
   "source": [
    "grid = gp.Grid()\n",
    "grid.set_regular_grid([0,10,0,10,0,10], [50,50,50])"
   ]
  },
  {
   "cell_type": "code",
   "execution_count": 73,
   "metadata": {},
   "outputs": [
    {
     "data": {
      "text/plain": [
       "array([[0.1, 0.1, 0.1],\n",
       "       [0.1, 0.1, 0.3],\n",
       "       [0.1, 0.1, 0.5],\n",
       "       ...,\n",
       "       [9.9, 9.9, 9.5],\n",
       "       [9.9, 9.9, 9.7],\n",
       "       [9.9, 9.9, 9.9]])"
      ]
     },
     "execution_count": 73,
     "metadata": {},
     "output_type": "execute_result"
    }
   ],
   "source": [
    "grid.values"
   ]
  },
  {
   "cell_type": "markdown",
   "metadata": {},
   "source": [
    "#### Rescaling Data"
   ]
  },
  {
   "cell_type": "code",
   "execution_count": 74,
   "metadata": {},
   "outputs": [],
   "source": [
    "rescaling = gp.RescaledData(surface_points, orientations, grid)\n"
   ]
  },
  {
   "cell_type": "code",
   "execution_count": 75,
   "metadata": {},
   "outputs": [
    {
     "data": {
      "text/html": [
       "<table border=\"1\" class=\"dataframe\">\n",
       "  <thead>\n",
       "    <tr style=\"text-align: right;\">\n",
       "      <th></th>\n",
       "      <th>X</th>\n",
       "      <th>Y</th>\n",
       "      <th>Z</th>\n",
       "      <th>X_r</th>\n",
       "      <th>Y_r</th>\n",
       "      <th>Z_r</th>\n",
       "      <th>surface</th>\n",
       "      <th>series</th>\n",
       "      <th>id</th>\n",
       "      <th>order_series</th>\n",
       "    </tr>\n",
       "  </thead>\n",
       "  <tbody>\n",
       "    <tr>\n",
       "      <th>2</th>\n",
       "      <td>0.864788</td>\n",
       "      <td>0.736385</td>\n",
       "      <td>0.583521</td>\n",
       "      <td>0.340310</td>\n",
       "      <td>0.271126</td>\n",
       "      <td>0.295783</td>\n",
       "      <td>lala</td>\n",
       "      <td>boo</td>\n",
       "      <td>1</td>\n",
       "      <td>2</td>\n",
       "    </tr>\n",
       "    <tr>\n",
       "      <th>4</th>\n",
       "      <td>0.664518</td>\n",
       "      <td>0.597459</td>\n",
       "      <td>0.733332</td>\n",
       "      <td>0.329758</td>\n",
       "      <td>0.263806</td>\n",
       "      <td>0.303676</td>\n",
       "      <td>lala</td>\n",
       "      <td>boo</td>\n",
       "      <td>1</td>\n",
       "      <td>2</td>\n",
       "    </tr>\n",
       "    <tr>\n",
       "      <th>1</th>\n",
       "      <td>0.403212</td>\n",
       "      <td>0.846121</td>\n",
       "      <td>0.006913</td>\n",
       "      <td>0.315990</td>\n",
       "      <td>0.276908</td>\n",
       "      <td>0.265401</td>\n",
       "      <td>foo5</td>\n",
       "      <td>boo</td>\n",
       "      <td>2</td>\n",
       "      <td>2</td>\n",
       "    </tr>\n",
       "    <tr>\n",
       "      <th>3</th>\n",
       "      <td>0.808565</td>\n",
       "      <td>0.337345</td>\n",
       "      <td>0.157054</td>\n",
       "      <td>0.337348</td>\n",
       "      <td>0.250100</td>\n",
       "      <td>0.273312</td>\n",
       "      <td>foo5</td>\n",
       "      <td>boo</td>\n",
       "      <td>2</td>\n",
       "      <td>2</td>\n",
       "    </tr>\n",
       "    <tr>\n",
       "      <th>0</th>\n",
       "      <td>0.051822</td>\n",
       "      <td>0.777136</td>\n",
       "      <td>0.160258</td>\n",
       "      <td>0.297475</td>\n",
       "      <td>0.273273</td>\n",
       "      <td>0.273481</td>\n",
       "      <td>foo</td>\n",
       "      <td>foo7</td>\n",
       "      <td>3</td>\n",
       "      <td>3</td>\n",
       "    </tr>\n",
       "    <tr>\n",
       "      <th>5</th>\n",
       "      <td>0.655167</td>\n",
       "      <td>0.387138</td>\n",
       "      <td>0.295267</td>\n",
       "      <td>0.329265</td>\n",
       "      <td>0.252724</td>\n",
       "      <td>0.280595</td>\n",
       "      <td>feeeee</td>\n",
       "      <td>foo20</td>\n",
       "      <td>4</td>\n",
       "      <td>5</td>\n",
       "    </tr>\n",
       "  </tbody>\n",
       "</table>"
      ],
      "text/plain": [
       "          X         Y         Z       X_r       Y_r       Z_r surface series  id  order_series\n",
       "2  0.864788  0.736385  0.583521  0.340310  0.271126  0.295783    lala    boo   1             2\n",
       "4  0.664518  0.597459  0.733332  0.329758  0.263806  0.303676    lala    boo   1             2\n",
       "1  0.403212  0.846121  0.006913  0.315990  0.276908  0.265401    foo5    boo   2             2\n",
       "3  0.808565  0.337345  0.157054  0.337348  0.250100  0.273312    foo5    boo   2             2\n",
       "0  0.051822  0.777136  0.160258  0.297475  0.273273  0.273481     foo   foo7   3             3\n",
       "5  0.655167  0.387138  0.295267  0.329265  0.252724  0.280595  feeeee  foo20   4             5"
      ]
     },
     "execution_count": 75,
     "metadata": {},
     "output_type": "execute_result"
    }
   ],
   "source": [
    "surface_points"
   ]
  },
  {
   "cell_type": "code",
   "execution_count": 76,
   "metadata": {},
   "outputs": [
    {
     "data": {
      "text/html": [
       "<table border=\"1\" class=\"dataframe\">\n",
       "  <thead>\n",
       "    <tr style=\"text-align: right;\">\n",
       "      <th></th>\n",
       "      <th>X</th>\n",
       "      <th>Y</th>\n",
       "      <th>Z</th>\n",
       "      <th>X_r</th>\n",
       "      <th>Y_r</th>\n",
       "      <th>Z_r</th>\n",
       "      <th>G_x</th>\n",
       "      <th>G_y</th>\n",
       "      <th>G_z</th>\n",
       "      <th>dip</th>\n",
       "      <th>azimuth</th>\n",
       "      <th>polarity</th>\n",
       "      <th>surface</th>\n",
       "      <th>series</th>\n",
       "      <th>id</th>\n",
       "      <th>order_series</th>\n",
       "      <th>annotations</th>\n",
       "    </tr>\n",
       "  </thead>\n",
       "  <tbody>\n",
       "    <tr>\n",
       "      <th>0</th>\n",
       "      <td>3.720050</td>\n",
       "      <td>4.077853</td>\n",
       "      <td>2.320323</td>\n",
       "      <td>0.490756</td>\n",
       "      <td>0.447190</td>\n",
       "      <td>0.387296</td>\n",
       "      <td>0.543730</td>\n",
       "      <td>2.927971</td>\n",
       "      <td>18.267701</td>\n",
       "      <td>9.258998</td>\n",
       "      <td>10.520105</td>\n",
       "      <td>18.508851</td>\n",
       "      <td>foo</td>\n",
       "      <td>foo7</td>\n",
       "      <td>3</td>\n",
       "      <td>3</td>\n",
       "      <td>${\\bf{x}}_{\\beta \\,{\\bf{3}},0}$</td>\n",
       "    </tr>\n",
       "    <tr>\n",
       "      <th>1</th>\n",
       "      <td>1.166258</td>\n",
       "      <td>0.564443</td>\n",
       "      <td>1.720323</td>\n",
       "      <td>0.356195</td>\n",
       "      <td>0.262066</td>\n",
       "      <td>0.355682</td>\n",
       "      <td>0.191449</td>\n",
       "      <td>1.347075</td>\n",
       "      <td>14.773097</td>\n",
       "      <td>5.262131</td>\n",
       "      <td>8.088806</td>\n",
       "      <td>14.835621</td>\n",
       "      <td>foo5</td>\n",
       "      <td>boo</td>\n",
       "      <td>2</td>\n",
       "      <td>2</td>\n",
       "      <td>${\\bf{x}}_{\\beta \\,{\\bf{2}},0}$</td>\n",
       "    </tr>\n",
       "    <tr>\n",
       "      <th>2</th>\n",
       "      <td>1.406738</td>\n",
       "      <td>9.522784</td>\n",
       "      <td>0.779428</td>\n",
       "      <td>0.368866</td>\n",
       "      <td>0.734087</td>\n",
       "      <td>0.306105</td>\n",
       "      <td>0.285894</td>\n",
       "      <td>3.405388</td>\n",
       "      <td>17.518041</td>\n",
       "      <td>11.038461</td>\n",
       "      <td>4.798925</td>\n",
       "      <td>17.848254</td>\n",
       "      <td>lala</td>\n",
       "      <td>boo</td>\n",
       "      <td>1</td>\n",
       "      <td>2</td>\n",
       "      <td>${\\bf{x}}_{\\beta \\,{\\bf{1}},0}$</td>\n",
       "    </tr>\n",
       "    <tr>\n",
       "      <th>3</th>\n",
       "      <td>6.619505</td>\n",
       "      <td>8.613892</td>\n",
       "      <td>8.915483</td>\n",
       "      <td>0.643530</td>\n",
       "      <td>0.686196</td>\n",
       "      <td>0.734799</td>\n",
       "      <td>0.802123</td>\n",
       "      <td>2.482146</td>\n",
       "      <td>18.648289</td>\n",
       "      <td>7.962902</td>\n",
       "      <td>17.908608</td>\n",
       "      <td>18.829847</td>\n",
       "      <td>foo5</td>\n",
       "      <td>boo</td>\n",
       "      <td>2</td>\n",
       "      <td>2</td>\n",
       "      <td>${\\bf{x}}_{\\beta \\,{\\bf{2}},1}$</td>\n",
       "    </tr>\n",
       "    <tr>\n",
       "      <th>4</th>\n",
       "      <td>5.888560</td>\n",
       "      <td>9.826699</td>\n",
       "      <td>7.630022</td>\n",
       "      <td>0.605016</td>\n",
       "      <td>0.750100</td>\n",
       "      <td>0.667067</td>\n",
       "      <td>0.282635</td>\n",
       "      <td>1.067276</td>\n",
       "      <td>11.566816</td>\n",
       "      <td>5.452429</td>\n",
       "      <td>14.832521</td>\n",
       "      <td>11.619389</td>\n",
       "      <td>lala</td>\n",
       "      <td>boo</td>\n",
       "      <td>1</td>\n",
       "      <td>2</td>\n",
       "      <td>${\\bf{x}}_{\\beta \\,{\\bf{1}},1}$</td>\n",
       "    </tr>\n",
       "    <tr>\n",
       "      <th>5</th>\n",
       "      <td>7.742958</td>\n",
       "      <td>2.621863</td>\n",
       "      <td>1.880534</td>\n",
       "      <td>0.702725</td>\n",
       "      <td>0.370473</td>\n",
       "      <td>0.364123</td>\n",
       "      <td>0.011221</td>\n",
       "      <td>0.039869</td>\n",
       "      <td>0.160443</td>\n",
       "      <td>14.474851</td>\n",
       "      <td>15.719158</td>\n",
       "      <td>0.165702</td>\n",
       "      <td>feeeee</td>\n",
       "      <td>foo20</td>\n",
       "      <td>4</td>\n",
       "      <td>5</td>\n",
       "      <td>${\\bf{x}}_{\\beta \\,{\\bf{4}},0}$</td>\n",
       "    </tr>\n",
       "  </tbody>\n",
       "</table>"
      ],
      "text/plain": [
       "          X         Y         Z       X_r       Y_r       Z_r       G_x       G_y        G_z        dip    azimuth   polarity surface series  id  order_series                      annotations\n",
       "0  3.720050  4.077853  2.320323  0.490756  0.447190  0.387296  0.543730  2.927971  18.267701   9.258998  10.520105  18.508851     foo   foo7   3             3  ${\\bf{x}}_{\\beta \\,{\\bf{3}},0}$\n",
       "1  1.166258  0.564443  1.720323  0.356195  0.262066  0.355682  0.191449  1.347075  14.773097   5.262131   8.088806  14.835621    foo5    boo   2             2  ${\\bf{x}}_{\\beta \\,{\\bf{2}},0}$\n",
       "2  1.406738  9.522784  0.779428  0.368866  0.734087  0.306105  0.285894  3.405388  17.518041  11.038461   4.798925  17.848254    lala    boo   1             2  ${\\bf{x}}_{\\beta \\,{\\bf{1}},0}$\n",
       "3  6.619505  8.613892  8.915483  0.643530  0.686196  0.734799  0.802123  2.482146  18.648289   7.962902  17.908608  18.829847    foo5    boo   2             2  ${\\bf{x}}_{\\beta \\,{\\bf{2}},1}$\n",
       "4  5.888560  9.826699  7.630022  0.605016  0.750100  0.667067  0.282635  1.067276  11.566816   5.452429  14.832521  11.619389    lala    boo   1             2  ${\\bf{x}}_{\\beta \\,{\\bf{1}},1}$\n",
       "5  7.742958  2.621863  1.880534  0.702725  0.370473  0.364123  0.011221  0.039869   0.160443  14.474851  15.719158   0.165702  feeeee  foo20   4             5  ${\\bf{x}}_{\\beta \\,{\\bf{4}},0}$"
      ]
     },
     "execution_count": 76,
     "metadata": {},
     "output_type": "execute_result"
    }
   ],
   "source": [
    "orientations"
   ]
  },
  {
   "cell_type": "markdown",
   "metadata": {},
   "source": [
    "### Additional Data"
   ]
  },
  {
   "cell_type": "code",
   "execution_count": 77,
   "metadata": {},
   "outputs": [],
   "source": [
    "ad = gp.AdditionalData(surface_points, orientations, grid, faults, surfaces, rescaling)\n"
   ]
  },
  {
   "cell_type": "code",
   "execution_count": 78,
   "metadata": {},
   "outputs": [
    {
     "data": {
      "text/html": [
       "<table border=\"1\" class=\"dataframe\">\n",
       "  <thead>\n",
       "    <tr style=\"text-align: right;\">\n",
       "      <th></th>\n",
       "      <th></th>\n",
       "      <th>values</th>\n",
       "    </tr>\n",
       "  </thead>\n",
       "  <tbody>\n",
       "    <tr>\n",
       "      <th rowspan=\"9\" valign=\"top\">Structure</th>\n",
       "      <th>isLith</th>\n",
       "      <td>True</td>\n",
       "    </tr>\n",
       "    <tr>\n",
       "      <th>isFault</th>\n",
       "      <td>True</td>\n",
       "    </tr>\n",
       "    <tr>\n",
       "      <th>number faults</th>\n",
       "      <td>1</td>\n",
       "    </tr>\n",
       "    <tr>\n",
       "      <th>number surfaces</th>\n",
       "      <td>4</td>\n",
       "    </tr>\n",
       "    <tr>\n",
       "      <th>number series</th>\n",
       "      <td>3</td>\n",
       "    </tr>\n",
       "    <tr>\n",
       "      <th>number surfaces per series</th>\n",
       "      <td>[2, 1, 1]</td>\n",
       "    </tr>\n",
       "    <tr>\n",
       "      <th>len surfaces surface_points</th>\n",
       "      <td>[2, 2, 1, 1]</td>\n",
       "    </tr>\n",
       "    <tr>\n",
       "      <th>len series surface_points</th>\n",
       "      <td>[4, 1, 1]</td>\n",
       "    </tr>\n",
       "    <tr>\n",
       "      <th>len series orientations</th>\n",
       "      <td>[4, 1, 1]</td>\n",
       "    </tr>\n",
       "    <tr>\n",
       "      <th rowspan=\"5\" valign=\"top\">Options</th>\n",
       "      <th>dtype</th>\n",
       "      <td>float64</td>\n",
       "    </tr>\n",
       "    <tr>\n",
       "      <th>output</th>\n",
       "      <td>geology</td>\n",
       "    </tr>\n",
       "    <tr>\n",
       "      <th>theano_optimizer</th>\n",
       "      <td>fast_compile</td>\n",
       "    </tr>\n",
       "    <tr>\n",
       "      <th>device</th>\n",
       "      <td>cpu</td>\n",
       "    </tr>\n",
       "    <tr>\n",
       "      <th>verbosity</th>\n",
       "      <td>[]</td>\n",
       "    </tr>\n",
       "    <tr>\n",
       "      <th rowspan=\"5\" valign=\"top\">Kriging</th>\n",
       "      <th>range</th>\n",
       "      <td>1732.05</td>\n",
       "    </tr>\n",
       "    <tr>\n",
       "      <th>$C_o$</th>\n",
       "      <td>71428.6</td>\n",
       "    </tr>\n",
       "    <tr>\n",
       "      <th>drift equations</th>\n",
       "      <td>[3, 0, 0]</td>\n",
       "    </tr>\n",
       "    <tr>\n",
       "      <th>nugget grad</th>\n",
       "      <td>0.01</td>\n",
       "    </tr>\n",
       "    <tr>\n",
       "      <th>nugget scalar</th>\n",
       "      <td>1e-06</td>\n",
       "    </tr>\n",
       "    <tr>\n",
       "      <th rowspan=\"2\" valign=\"top\">Rescaling</th>\n",
       "      <th>rescaling factor</th>\n",
       "      <td>18.9787</td>\n",
       "    </tr>\n",
       "    <tr>\n",
       "      <th>centers</th>\n",
       "      <td>[3.8973896386160143, 5.082022259320824, 4.4611...</td>\n",
       "    </tr>\n",
       "  </tbody>\n",
       "</table>"
      ],
      "text/plain": [
       "                                                                                  values\n",
       "Structure isLith                                                                    True\n",
       "          isFault                                                                   True\n",
       "          number faults                                                                1\n",
       "          number surfaces                                                              4\n",
       "          number series                                                                3\n",
       "          number surfaces per series                                           [2, 1, 1]\n",
       "          len surfaces surface_points                                       [2, 2, 1, 1]\n",
       "          len series surface_points                                            [4, 1, 1]\n",
       "          len series orientations                                              [4, 1, 1]\n",
       "Options   dtype                                                                  float64\n",
       "          output                                                                 geology\n",
       "          theano_optimizer                                                  fast_compile\n",
       "          device                                                                     cpu\n",
       "          verbosity                                                                   []\n",
       "Kriging   range                                                                  1732.05\n",
       "          $C_o$                                                                  71428.6\n",
       "          drift equations                                                      [3, 0, 0]\n",
       "          nugget grad                                                               0.01\n",
       "          nugget scalar                                                            1e-06\n",
       "Rescaling rescaling factor                                                       18.9787\n",
       "          centers                      [3.8973896386160143, 5.082022259320824, 4.4611..."
      ]
     },
     "execution_count": 78,
     "metadata": {},
     "output_type": "execute_result"
    }
   ],
   "source": [
    "ad"
   ]
  },
  {
   "cell_type": "code",
   "execution_count": 79,
   "metadata": {},
   "outputs": [
    {
     "data": {
      "text/html": [
       "<table border=\"1\" class=\"dataframe\">\n",
       "  <thead>\n",
       "    <tr style=\"text-align: right;\">\n",
       "      <th></th>\n",
       "      <th>values</th>\n",
       "    </tr>\n",
       "  </thead>\n",
       "  <tbody>\n",
       "    <tr>\n",
       "      <th>isLith</th>\n",
       "      <td>True</td>\n",
       "    </tr>\n",
       "    <tr>\n",
       "      <th>isFault</th>\n",
       "      <td>True</td>\n",
       "    </tr>\n",
       "    <tr>\n",
       "      <th>number faults</th>\n",
       "      <td>1</td>\n",
       "    </tr>\n",
       "    <tr>\n",
       "      <th>number surfaces</th>\n",
       "      <td>4</td>\n",
       "    </tr>\n",
       "    <tr>\n",
       "      <th>number series</th>\n",
       "      <td>3</td>\n",
       "    </tr>\n",
       "    <tr>\n",
       "      <th>number surfaces per series</th>\n",
       "      <td>[2, 1, 1]</td>\n",
       "    </tr>\n",
       "    <tr>\n",
       "      <th>len surfaces surface_points</th>\n",
       "      <td>[2, 2, 1, 1]</td>\n",
       "    </tr>\n",
       "    <tr>\n",
       "      <th>len series surface_points</th>\n",
       "      <td>[4, 1, 1]</td>\n",
       "    </tr>\n",
       "    <tr>\n",
       "      <th>len series orientations</th>\n",
       "      <td>[4, 1, 1]</td>\n",
       "    </tr>\n",
       "  </tbody>\n",
       "</table>"
      ],
      "text/plain": [
       "                                   values\n",
       "isLith                               True\n",
       "isFault                              True\n",
       "number faults                           1\n",
       "number surfaces                         4\n",
       "number series                           3\n",
       "number surfaces per series      [2, 1, 1]\n",
       "len surfaces surface_points  [2, 2, 1, 1]\n",
       "len series surface_points       [4, 1, 1]\n",
       "len series orientations         [4, 1, 1]"
      ]
     },
     "execution_count": 79,
     "metadata": {},
     "output_type": "execute_result"
    }
   ],
   "source": [
    "ad.structure_data"
   ]
  },
  {
   "cell_type": "code",
   "execution_count": 80,
   "metadata": {},
   "outputs": [
    {
     "data": {
      "text/html": [
       "<table border=\"1\" class=\"dataframe\">\n",
       "  <thead>\n",
       "    <tr style=\"text-align: right;\">\n",
       "      <th></th>\n",
       "      <th>values</th>\n",
       "    </tr>\n",
       "  </thead>\n",
       "  <tbody>\n",
       "    <tr>\n",
       "      <th>dtype</th>\n",
       "      <td>float64</td>\n",
       "    </tr>\n",
       "    <tr>\n",
       "      <th>output</th>\n",
       "      <td>geology</td>\n",
       "    </tr>\n",
       "    <tr>\n",
       "      <th>theano_optimizer</th>\n",
       "      <td>fast_compile</td>\n",
       "    </tr>\n",
       "    <tr>\n",
       "      <th>device</th>\n",
       "      <td>cpu</td>\n",
       "    </tr>\n",
       "    <tr>\n",
       "      <th>verbosity</th>\n",
       "      <td>[]</td>\n",
       "    </tr>\n",
       "  </tbody>\n",
       "</table>"
      ],
      "text/plain": [
       "                        values\n",
       "dtype                  float64\n",
       "output                 geology\n",
       "theano_optimizer  fast_compile\n",
       "device                     cpu\n",
       "verbosity                   []"
      ]
     },
     "execution_count": 80,
     "metadata": {},
     "output_type": "execute_result"
    }
   ],
   "source": [
    "ad.options"
   ]
  },
  {
   "cell_type": "code",
   "execution_count": 81,
   "metadata": {},
   "outputs": [
    {
     "data": {
      "text/html": [
       "<div>\n",
       "<style scoped>\n",
       "    .dataframe tbody tr th:only-of-type {\n",
       "        vertical-align: middle;\n",
       "    }\n",
       "\n",
       "    .dataframe tbody tr th {\n",
       "        vertical-align: top;\n",
       "    }\n",
       "\n",
       "    .dataframe thead th {\n",
       "        text-align: right;\n",
       "    }\n",
       "</style>\n",
       "<table border=\"1\" class=\"dataframe\">\n",
       "  <thead>\n",
       "    <tr style=\"text-align: right;\">\n",
       "      <th></th>\n",
       "      <th>dtype</th>\n",
       "      <th>output</th>\n",
       "      <th>theano_optimizer</th>\n",
       "      <th>device</th>\n",
       "      <th>verbosity</th>\n",
       "    </tr>\n",
       "  </thead>\n",
       "  <tbody>\n",
       "    <tr>\n",
       "      <th>values</th>\n",
       "      <td>float64</td>\n",
       "      <td>geology</td>\n",
       "      <td>fast_compile</td>\n",
       "      <td>cpu</td>\n",
       "      <td>[]</td>\n",
       "    </tr>\n",
       "  </tbody>\n",
       "</table>\n",
       "</div>"
      ],
      "text/plain": [
       "          dtype   output theano_optimizer device verbosity\n",
       "values  float64  geology     fast_compile    cpu        []"
      ]
     },
     "execution_count": 81,
     "metadata": {},
     "output_type": "execute_result"
    }
   ],
   "source": [
    "ad.options.df"
   ]
  },
  {
   "cell_type": "code",
   "execution_count": 82,
   "metadata": {},
   "outputs": [
    {
     "data": {
      "text/plain": [
       "dtype               category\n",
       "output              category\n",
       "theano_optimizer    category\n",
       "device              category\n",
       "verbosity             object\n",
       "dtype: object"
      ]
     },
     "execution_count": 82,
     "metadata": {},
     "output_type": "execute_result"
    }
   ],
   "source": [
    "ad.options.df.dtypes"
   ]
  },
  {
   "cell_type": "code",
   "execution_count": 83,
   "metadata": {},
   "outputs": [
    {
     "data": {
      "text/html": [
       "<table border=\"1\" class=\"dataframe\">\n",
       "  <thead>\n",
       "    <tr style=\"text-align: right;\">\n",
       "      <th></th>\n",
       "      <th>values</th>\n",
       "    </tr>\n",
       "  </thead>\n",
       "  <tbody>\n",
       "    <tr>\n",
       "      <th>range</th>\n",
       "      <td>1732.05</td>\n",
       "    </tr>\n",
       "    <tr>\n",
       "      <th>$C_o$</th>\n",
       "      <td>71428.6</td>\n",
       "    </tr>\n",
       "    <tr>\n",
       "      <th>drift equations</th>\n",
       "      <td>[3, 0, 0]</td>\n",
       "    </tr>\n",
       "    <tr>\n",
       "      <th>nugget grad</th>\n",
       "      <td>0.01</td>\n",
       "    </tr>\n",
       "    <tr>\n",
       "      <th>nugget scalar</th>\n",
       "      <td>1e-06</td>\n",
       "    </tr>\n",
       "  </tbody>\n",
       "</table>"
      ],
      "text/plain": [
       "                    values\n",
       "range              1732.05\n",
       "$C_o$              71428.6\n",
       "drift equations  [3, 0, 0]\n",
       "nugget grad           0.01\n",
       "nugget scalar        1e-06"
      ]
     },
     "execution_count": 83,
     "metadata": {},
     "output_type": "execute_result"
    }
   ],
   "source": [
    "ad.kriging_data"
   ]
  },
  {
   "cell_type": "code",
   "execution_count": 84,
   "metadata": {},
   "outputs": [
    {
     "data": {
      "text/html": [
       "<table border=\"1\" class=\"dataframe\">\n",
       "  <thead>\n",
       "    <tr style=\"text-align: right;\">\n",
       "      <th></th>\n",
       "      <th>values</th>\n",
       "    </tr>\n",
       "  </thead>\n",
       "  <tbody>\n",
       "    <tr>\n",
       "      <th>rescaling factor</th>\n",
       "      <td>18.9787</td>\n",
       "    </tr>\n",
       "    <tr>\n",
       "      <th>centers</th>\n",
       "      <td>[3.8973896386160143, 5.082022259320824, 4.4611...</td>\n",
       "    </tr>\n",
       "  </tbody>\n",
       "</table>"
      ],
      "text/plain": [
       "                                                             values\n",
       "rescaling factor                                            18.9787\n",
       "centers           [3.8973896386160143, 5.082022259320824, 4.4611..."
      ]
     },
     "execution_count": 84,
     "metadata": {},
     "output_type": "execute_result"
    }
   ],
   "source": [
    "ad.rescaling_data"
   ]
  },
  {
   "cell_type": "markdown",
   "metadata": {},
   "source": [
    "### Interpolator"
   ]
  },
  {
   "cell_type": "code",
   "execution_count": 86,
   "metadata": {},
   "outputs": [],
   "source": [
    "interp = gp.Interpolator(surface_points, orientations, grid, surfaces, faults, ad)"
   ]
  },
  {
   "cell_type": "code",
   "execution_count": 87,
   "metadata": {},
   "outputs": [
    {
     "name": "stdout",
     "output_type": "stream",
     "text": [
      "Compiling theano function...\n",
      "Compilation Done!\n"
     ]
    },
    {
     "data": {
      "text/plain": [
       "<theano.compile.function_module.Function at 0x7ff86d346d68>"
      ]
     },
     "execution_count": 87,
     "metadata": {},
     "output_type": "execute_result"
    }
   ],
   "source": [
    "interp.compile_th_fn()"
   ]
  }
 ],
 "metadata": {
  "kernelspec": {
   "display_name": "Python 3",
   "language": "python",
   "name": "python3"
  },
  "language_info": {
   "codemirror_mode": {
    "name": "ipython",
    "version": 3
   },
   "file_extension": ".py",
   "mimetype": "text/x-python",
   "name": "python",
   "nbconvert_exporter": "python",
   "pygments_lexer": "ipython3",
   "version": "3.6.8"
  }
 },
 "nbformat": 4,
 "nbformat_minor": 2
}
