{
 "cells": [
  {
   "cell_type": "markdown",
   "metadata": {},
   "source": [
    "## Chapter 1.8: Onlap relationships\n",
    "***\n",
    "In some geologic cases we want to represent an onlap relationship, where layers deposited onto an erosive surface. This is also useful to model subduction zones as layers onlap the dipping plate. While surfaces in GemPy normally define the bottom of a unit, onlap surfaces represent the top surface, directly followed by other units.\n",
    "\n",
    "Let's start as always by importing the necessary dependencies:"
   ]
  },
  {
   "cell_type": "code",
   "execution_count": 1,
   "metadata": {},
   "outputs": [
    {
     "name": "stdout",
     "output_type": "stream",
     "text": [
      "no gdal\n"
     ]
    },
    {
     "name": "stderr",
     "output_type": "stream",
     "text": [
      "WARNING (theano.tensor.blas): Using NumPy C-API based implementation for BLAS functions.\n"
     ]
    }
   ],
   "source": [
    "# These two lines are necessary only if gempy is not installed\n",
    "import sys, os\n",
    "sys.path.append(\"../..\")\n",
    "#sys.path.insert(0, '/home/miguel/anaconda3/lib/python3.6/site-packages/scikit_image-0.15.dev0-py3.6-linux-x86_64.egg/')\n",
    "import skimage\n",
    "# Importing gempy\n",
    "import gempy as gp\n",
    "import matplotlib.pyplot as plt\n",
    "# Embedding matplotlib figures into the notebooks\n",
    "#%matplotlib inline\n",
    "\n",
    "\n",
    "# Aux imports\n",
    "import numpy as np\n",
    "import pandas as pn\n",
    "import matplotlib\n",
    "import theano\n",
    "import qgrid\n",
    "\n",
    "#%matplotlib widget"
   ]
  },
  {
   "cell_type": "code",
   "execution_count": 2,
   "metadata": {},
   "outputs": [
    {
     "data": {
      "text/plain": [
       "'0.15.dev0'"
      ]
     },
     "execution_count": 2,
     "metadata": {},
     "output_type": "execute_result"
    }
   ],
   "source": [
    "skimage.__version__"
   ]
  },
  {
   "cell_type": "markdown",
   "metadata": {},
   "source": [
    "We import a model from an existing folder, representing a subduction zone with onlap relationships.\n",
    "The theano function is automatically recombiled to allow changes."
   ]
  },
  {
   "cell_type": "code",
   "execution_count": 3,
   "metadata": {},
   "outputs": [],
   "source": [
    "geo_model = gp.load_model('Tutorial_ch1-8_Onlap_relations', recompile=False)"
   ]
  },
  {
   "cell_type": "code",
   "execution_count": 4,
   "metadata": {},
   "outputs": [
    {
     "data": {
      "text/html": [
       "<div>\n",
       "<style scoped>\n",
       "    .dataframe tbody tr th:only-of-type {\n",
       "        vertical-align: middle;\n",
       "    }\n",
       "\n",
       "    .dataframe tbody tr th {\n",
       "        vertical-align: top;\n",
       "    }\n",
       "\n",
       "    .dataframe thead th {\n",
       "        text-align: right;\n",
       "    }\n",
       "</style>\n",
       "<table border=\"1\" class=\"dataframe\">\n",
       "  <thead>\n",
       "    <tr style=\"text-align: right;\">\n",
       "      <th></th>\n",
       "      <th>surface</th>\n",
       "      <th>series</th>\n",
       "      <th>order_surfaces</th>\n",
       "      <th>isBasement</th>\n",
       "      <th>color</th>\n",
       "      <th>vertices</th>\n",
       "      <th>edges</th>\n",
       "      <th>id</th>\n",
       "    </tr>\n",
       "  </thead>\n",
       "  <tbody>\n",
       "    <tr>\n",
       "      <th>0</th>\n",
       "      <td>seafloor</td>\n",
       "      <td>seafloor_series</td>\n",
       "      <td>1</td>\n",
       "      <td>False</td>\n",
       "      <td>#015482</td>\n",
       "      <td>NaN</td>\n",
       "      <td>NaN</td>\n",
       "      <td>1</td>\n",
       "    </tr>\n",
       "    <tr>\n",
       "      <th>1</th>\n",
       "      <td>rock1</td>\n",
       "      <td>right_series</td>\n",
       "      <td>1</td>\n",
       "      <td>False</td>\n",
       "      <td>#728f02</td>\n",
       "      <td>NaN</td>\n",
       "      <td>NaN</td>\n",
       "      <td>2</td>\n",
       "    </tr>\n",
       "    <tr>\n",
       "      <th>2</th>\n",
       "      <td>rock2</td>\n",
       "      <td>right_series</td>\n",
       "      <td>2</td>\n",
       "      <td>False</td>\n",
       "      <td>#443988</td>\n",
       "      <td>NaN</td>\n",
       "      <td>NaN</td>\n",
       "      <td>3</td>\n",
       "    </tr>\n",
       "    <tr>\n",
       "      <th>5</th>\n",
       "      <td>onlap_surface</td>\n",
       "      <td>onlap_series</td>\n",
       "      <td>1</td>\n",
       "      <td>False</td>\n",
       "      <td>#ffbe00</td>\n",
       "      <td>NaN</td>\n",
       "      <td>NaN</td>\n",
       "      <td>4</td>\n",
       "    </tr>\n",
       "    <tr>\n",
       "      <th>3</th>\n",
       "      <td>rock3</td>\n",
       "      <td>left_series</td>\n",
       "      <td>1</td>\n",
       "      <td>False</td>\n",
       "      <td>#9f0052</td>\n",
       "      <td>NaN</td>\n",
       "      <td>NaN</td>\n",
       "      <td>5</td>\n",
       "    </tr>\n",
       "    <tr>\n",
       "      <th>4</th>\n",
       "      <td>basement</td>\n",
       "      <td>basement</td>\n",
       "      <td>1</td>\n",
       "      <td>True</td>\n",
       "      <td>#ff3f20</td>\n",
       "      <td>NaN</td>\n",
       "      <td>NaN</td>\n",
       "      <td>6</td>\n",
       "    </tr>\n",
       "  </tbody>\n",
       "</table>\n",
       "</div>"
      ],
      "text/plain": [
       "         surface           series  order_surfaces  isBasement    color  \\\n",
       "0       seafloor  seafloor_series               1       False  #015482   \n",
       "1          rock1     right_series               1       False  #728f02   \n",
       "2          rock2     right_series               2       False  #443988   \n",
       "5  onlap_surface     onlap_series               1       False  #ffbe00   \n",
       "3          rock3      left_series               1       False  #9f0052   \n",
       "4       basement         basement               1        True  #ff3f20   \n",
       "\n",
       "  vertices edges  id  \n",
       "0      NaN   NaN   1  \n",
       "1      NaN   NaN   2  \n",
       "2      NaN   NaN   3  \n",
       "5      NaN   NaN   4  \n",
       "3      NaN   NaN   5  \n",
       "4      NaN   NaN   6  "
      ]
     },
     "execution_count": 4,
     "metadata": {},
     "output_type": "execute_result"
    }
   ],
   "source": [
    "geo_model.surfaces.df"
   ]
  },
  {
   "cell_type": "code",
   "execution_count": 5,
   "metadata": {},
   "outputs": [
    {
     "data": {
      "text/html": [
       "<table border=\"1\" class=\"dataframe\">\n",
       "  <thead>\n",
       "    <tr style=\"text-align: right;\">\n",
       "      <th></th>\n",
       "      <th></th>\n",
       "      <th>values</th>\n",
       "    </tr>\n",
       "  </thead>\n",
       "  <tbody>\n",
       "    <tr>\n",
       "      <th rowspan=\"9\" valign=\"top\">Structure</th>\n",
       "      <th>isLith</th>\n",
       "      <td>True</td>\n",
       "    </tr>\n",
       "    <tr>\n",
       "      <th>isFault</th>\n",
       "      <td>False</td>\n",
       "    </tr>\n",
       "    <tr>\n",
       "      <th>number faults</th>\n",
       "      <td>0</td>\n",
       "    </tr>\n",
       "    <tr>\n",
       "      <th>number surfaces</th>\n",
       "      <td>5</td>\n",
       "    </tr>\n",
       "    <tr>\n",
       "      <th>number series</th>\n",
       "      <td>4</td>\n",
       "    </tr>\n",
       "    <tr>\n",
       "      <th>number surfaces per series</th>\n",
       "      <td>[1, 2, 1, 1]</td>\n",
       "    </tr>\n",
       "    <tr>\n",
       "      <th>len surfaces surface_points</th>\n",
       "      <td>[6, 4, 4, 6, 6]</td>\n",
       "    </tr>\n",
       "    <tr>\n",
       "      <th>len series surface_points</th>\n",
       "      <td>[6, 8, 6, 6]</td>\n",
       "    </tr>\n",
       "    <tr>\n",
       "      <th>len series orientations</th>\n",
       "      <td>[3, 4, 3, 3]</td>\n",
       "    </tr>\n",
       "    <tr>\n",
       "      <th rowspan=\"5\" valign=\"top\">Options</th>\n",
       "      <th>dtype</th>\n",
       "      <td>float64</td>\n",
       "    </tr>\n",
       "    <tr>\n",
       "      <th>output</th>\n",
       "      <td>geology</td>\n",
       "    </tr>\n",
       "    <tr>\n",
       "      <th>theano_optimizer</th>\n",
       "      <td>fast_compile</td>\n",
       "    </tr>\n",
       "    <tr>\n",
       "      <th>device</th>\n",
       "      <td>cpu</td>\n",
       "    </tr>\n",
       "    <tr>\n",
       "      <th>verbosity</th>\n",
       "      <td>[]</td>\n",
       "    </tr>\n",
       "    <tr>\n",
       "      <th rowspan=\"5\" valign=\"top\">Kriging</th>\n",
       "      <th>range</th>\n",
       "      <td>1854.72</td>\n",
       "    </tr>\n",
       "    <tr>\n",
       "      <th>$C_o$</th>\n",
       "      <td>81904.8</td>\n",
       "    </tr>\n",
       "    <tr>\n",
       "      <th>drift equations</th>\n",
       "      <td>[3]</td>\n",
       "    </tr>\n",
       "    <tr>\n",
       "      <th>nugget grad</th>\n",
       "      <td>0.01</td>\n",
       "    </tr>\n",
       "    <tr>\n",
       "      <th>nugget scalar</th>\n",
       "      <td>1e-06</td>\n",
       "    </tr>\n",
       "    <tr>\n",
       "      <th rowspan=\"2\" valign=\"top\">Rescaling</th>\n",
       "      <th>rescaling factor</th>\n",
       "      <td>NaN</td>\n",
       "    </tr>\n",
       "    <tr>\n",
       "      <th>centers</th>\n",
       "      <td>[nan, nan, nan]</td>\n",
       "    </tr>\n",
       "  </tbody>\n",
       "</table>"
      ],
      "text/plain": [
       "                                                values\n",
       "Structure isLith                                  True\n",
       "          isFault                                False\n",
       "          number faults                              0\n",
       "          number surfaces                            5\n",
       "          number series                              4\n",
       "          number surfaces per series      [1, 2, 1, 1]\n",
       "          len surfaces surface_points  [6, 4, 4, 6, 6]\n",
       "          len series surface_points       [6, 8, 6, 6]\n",
       "          len series orientations         [3, 4, 3, 3]\n",
       "Options   dtype                                float64\n",
       "          output                               geology\n",
       "          theano_optimizer                fast_compile\n",
       "          device                                   cpu\n",
       "          verbosity                                 []\n",
       "Kriging   range                                1854.72\n",
       "          $C_o$                                81904.8\n",
       "          drift equations                          [3]\n",
       "          nugget grad                             0.01\n",
       "          nugget scalar                          1e-06\n",
       "Rescaling rescaling factor                         NaN\n",
       "          centers                      [nan, nan, nan]"
      ]
     },
     "execution_count": 5,
     "metadata": {},
     "output_type": "execute_result"
    }
   ],
   "source": [
    "geo_model.additional_data"
   ]
  },
  {
   "cell_type": "code",
   "execution_count": 6,
   "metadata": {},
   "outputs": [
    {
     "data": {
      "text/html": [
       "<style  type=\"text/css\" >\n",
       "    #T_d189760c_6a6d_11e9_a6dd_c73991d7083brow0_col4 {\n",
       "            background-color:  #015482;\n",
       "        }    #T_d189760c_6a6d_11e9_a6dd_c73991d7083brow1_col4 {\n",
       "            background-color:  #728f02;\n",
       "        }    #T_d189760c_6a6d_11e9_a6dd_c73991d7083brow2_col4 {\n",
       "            background-color:  #443988;\n",
       "        }    #T_d189760c_6a6d_11e9_a6dd_c73991d7083brow3_col4 {\n",
       "            background-color:  #ffbe00;\n",
       "        }    #T_d189760c_6a6d_11e9_a6dd_c73991d7083brow4_col4 {\n",
       "            background-color:  #9f0052;\n",
       "        }    #T_d189760c_6a6d_11e9_a6dd_c73991d7083brow5_col4 {\n",
       "            background-color:  #ff3f20;\n",
       "        }</style>  \n",
       "<table id=\"T_d189760c_6a6d_11e9_a6dd_c73991d7083b\" > \n",
       "<thead>    <tr> \n",
       "        <th class=\"blank level0\" ></th> \n",
       "        <th class=\"col_heading level0 col0\" >surface</th> \n",
       "        <th class=\"col_heading level0 col1\" >series</th> \n",
       "        <th class=\"col_heading level0 col2\" >order_surfaces</th> \n",
       "        <th class=\"col_heading level0 col3\" >isBasement</th> \n",
       "        <th class=\"col_heading level0 col4\" >color</th> \n",
       "        <th class=\"col_heading level0 col5\" >vertices</th> \n",
       "        <th class=\"col_heading level0 col6\" >edges</th> \n",
       "        <th class=\"col_heading level0 col7\" >id</th> \n",
       "    </tr></thead> \n",
       "<tbody>    <tr> \n",
       "        <th id=\"T_d189760c_6a6d_11e9_a6dd_c73991d7083blevel0_row0\" class=\"row_heading level0 row0\" >0</th> \n",
       "        <td id=\"T_d189760c_6a6d_11e9_a6dd_c73991d7083brow0_col0\" class=\"data row0 col0\" >seafloor</td> \n",
       "        <td id=\"T_d189760c_6a6d_11e9_a6dd_c73991d7083brow0_col1\" class=\"data row0 col1\" >seafloor_series</td> \n",
       "        <td id=\"T_d189760c_6a6d_11e9_a6dd_c73991d7083brow0_col2\" class=\"data row0 col2\" >1</td> \n",
       "        <td id=\"T_d189760c_6a6d_11e9_a6dd_c73991d7083brow0_col3\" class=\"data row0 col3\" >False</td> \n",
       "        <td id=\"T_d189760c_6a6d_11e9_a6dd_c73991d7083brow0_col4\" class=\"data row0 col4\" >#015482</td> \n",
       "        <td id=\"T_d189760c_6a6d_11e9_a6dd_c73991d7083brow0_col5\" class=\"data row0 col5\" >nan</td> \n",
       "        <td id=\"T_d189760c_6a6d_11e9_a6dd_c73991d7083brow0_col6\" class=\"data row0 col6\" >nan</td> \n",
       "        <td id=\"T_d189760c_6a6d_11e9_a6dd_c73991d7083brow0_col7\" class=\"data row0 col7\" >1</td> \n",
       "    </tr>    <tr> \n",
       "        <th id=\"T_d189760c_6a6d_11e9_a6dd_c73991d7083blevel0_row1\" class=\"row_heading level0 row1\" >1</th> \n",
       "        <td id=\"T_d189760c_6a6d_11e9_a6dd_c73991d7083brow1_col0\" class=\"data row1 col0\" >rock1</td> \n",
       "        <td id=\"T_d189760c_6a6d_11e9_a6dd_c73991d7083brow1_col1\" class=\"data row1 col1\" >right_series</td> \n",
       "        <td id=\"T_d189760c_6a6d_11e9_a6dd_c73991d7083brow1_col2\" class=\"data row1 col2\" >1</td> \n",
       "        <td id=\"T_d189760c_6a6d_11e9_a6dd_c73991d7083brow1_col3\" class=\"data row1 col3\" >False</td> \n",
       "        <td id=\"T_d189760c_6a6d_11e9_a6dd_c73991d7083brow1_col4\" class=\"data row1 col4\" >#728f02</td> \n",
       "        <td id=\"T_d189760c_6a6d_11e9_a6dd_c73991d7083brow1_col5\" class=\"data row1 col5\" >nan</td> \n",
       "        <td id=\"T_d189760c_6a6d_11e9_a6dd_c73991d7083brow1_col6\" class=\"data row1 col6\" >nan</td> \n",
       "        <td id=\"T_d189760c_6a6d_11e9_a6dd_c73991d7083brow1_col7\" class=\"data row1 col7\" >2</td> \n",
       "    </tr>    <tr> \n",
       "        <th id=\"T_d189760c_6a6d_11e9_a6dd_c73991d7083blevel0_row2\" class=\"row_heading level0 row2\" >2</th> \n",
       "        <td id=\"T_d189760c_6a6d_11e9_a6dd_c73991d7083brow2_col0\" class=\"data row2 col0\" >rock2</td> \n",
       "        <td id=\"T_d189760c_6a6d_11e9_a6dd_c73991d7083brow2_col1\" class=\"data row2 col1\" >right_series</td> \n",
       "        <td id=\"T_d189760c_6a6d_11e9_a6dd_c73991d7083brow2_col2\" class=\"data row2 col2\" >2</td> \n",
       "        <td id=\"T_d189760c_6a6d_11e9_a6dd_c73991d7083brow2_col3\" class=\"data row2 col3\" >False</td> \n",
       "        <td id=\"T_d189760c_6a6d_11e9_a6dd_c73991d7083brow2_col4\" class=\"data row2 col4\" >#443988</td> \n",
       "        <td id=\"T_d189760c_6a6d_11e9_a6dd_c73991d7083brow2_col5\" class=\"data row2 col5\" >nan</td> \n",
       "        <td id=\"T_d189760c_6a6d_11e9_a6dd_c73991d7083brow2_col6\" class=\"data row2 col6\" >nan</td> \n",
       "        <td id=\"T_d189760c_6a6d_11e9_a6dd_c73991d7083brow2_col7\" class=\"data row2 col7\" >3</td> \n",
       "    </tr>    <tr> \n",
       "        <th id=\"T_d189760c_6a6d_11e9_a6dd_c73991d7083blevel0_row3\" class=\"row_heading level0 row3\" >5</th> \n",
       "        <td id=\"T_d189760c_6a6d_11e9_a6dd_c73991d7083brow3_col0\" class=\"data row3 col0\" >onlap_surface</td> \n",
       "        <td id=\"T_d189760c_6a6d_11e9_a6dd_c73991d7083brow3_col1\" class=\"data row3 col1\" >onlap_series</td> \n",
       "        <td id=\"T_d189760c_6a6d_11e9_a6dd_c73991d7083brow3_col2\" class=\"data row3 col2\" >1</td> \n",
       "        <td id=\"T_d189760c_6a6d_11e9_a6dd_c73991d7083brow3_col3\" class=\"data row3 col3\" >False</td> \n",
       "        <td id=\"T_d189760c_6a6d_11e9_a6dd_c73991d7083brow3_col4\" class=\"data row3 col4\" >#ffbe00</td> \n",
       "        <td id=\"T_d189760c_6a6d_11e9_a6dd_c73991d7083brow3_col5\" class=\"data row3 col5\" >nan</td> \n",
       "        <td id=\"T_d189760c_6a6d_11e9_a6dd_c73991d7083brow3_col6\" class=\"data row3 col6\" >nan</td> \n",
       "        <td id=\"T_d189760c_6a6d_11e9_a6dd_c73991d7083brow3_col7\" class=\"data row3 col7\" >4</td> \n",
       "    </tr>    <tr> \n",
       "        <th id=\"T_d189760c_6a6d_11e9_a6dd_c73991d7083blevel0_row4\" class=\"row_heading level0 row4\" >3</th> \n",
       "        <td id=\"T_d189760c_6a6d_11e9_a6dd_c73991d7083brow4_col0\" class=\"data row4 col0\" >rock3</td> \n",
       "        <td id=\"T_d189760c_6a6d_11e9_a6dd_c73991d7083brow4_col1\" class=\"data row4 col1\" >left_series</td> \n",
       "        <td id=\"T_d189760c_6a6d_11e9_a6dd_c73991d7083brow4_col2\" class=\"data row4 col2\" >1</td> \n",
       "        <td id=\"T_d189760c_6a6d_11e9_a6dd_c73991d7083brow4_col3\" class=\"data row4 col3\" >False</td> \n",
       "        <td id=\"T_d189760c_6a6d_11e9_a6dd_c73991d7083brow4_col4\" class=\"data row4 col4\" >#9f0052</td> \n",
       "        <td id=\"T_d189760c_6a6d_11e9_a6dd_c73991d7083brow4_col5\" class=\"data row4 col5\" >nan</td> \n",
       "        <td id=\"T_d189760c_6a6d_11e9_a6dd_c73991d7083brow4_col6\" class=\"data row4 col6\" >nan</td> \n",
       "        <td id=\"T_d189760c_6a6d_11e9_a6dd_c73991d7083brow4_col7\" class=\"data row4 col7\" >5</td> \n",
       "    </tr>    <tr> \n",
       "        <th id=\"T_d189760c_6a6d_11e9_a6dd_c73991d7083blevel0_row5\" class=\"row_heading level0 row5\" >4</th> \n",
       "        <td id=\"T_d189760c_6a6d_11e9_a6dd_c73991d7083brow5_col0\" class=\"data row5 col0\" >basement</td> \n",
       "        <td id=\"T_d189760c_6a6d_11e9_a6dd_c73991d7083brow5_col1\" class=\"data row5 col1\" >basement</td> \n",
       "        <td id=\"T_d189760c_6a6d_11e9_a6dd_c73991d7083brow5_col2\" class=\"data row5 col2\" >1</td> \n",
       "        <td id=\"T_d189760c_6a6d_11e9_a6dd_c73991d7083brow5_col3\" class=\"data row5 col3\" >True</td> \n",
       "        <td id=\"T_d189760c_6a6d_11e9_a6dd_c73991d7083brow5_col4\" class=\"data row5 col4\" >#ff3f20</td> \n",
       "        <td id=\"T_d189760c_6a6d_11e9_a6dd_c73991d7083brow5_col5\" class=\"data row5 col5\" >nan</td> \n",
       "        <td id=\"T_d189760c_6a6d_11e9_a6dd_c73991d7083brow5_col6\" class=\"data row5 col6\" >nan</td> \n",
       "        <td id=\"T_d189760c_6a6d_11e9_a6dd_c73991d7083brow5_col7\" class=\"data row5 col7\" >6</td> \n",
       "    </tr></tbody> \n",
       "</table> "
      ],
      "text/plain": [
       "         surface           series  order_surfaces  isBasement    color vertices edges  id\n",
       "0       seafloor  seafloor_series               1       False  #015482      NaN   NaN   1\n",
       "1          rock1     right_series               1       False  #728f02      NaN   NaN   2\n",
       "2          rock2     right_series               2       False  #443988      NaN   NaN   3\n",
       "5  onlap_surface     onlap_series               1       False  #ffbe00      NaN   NaN   4\n",
       "3          rock3      left_series               1       False  #9f0052      NaN   NaN   5\n",
       "4       basement         basement               1        True  #ff3f20      NaN   NaN   6"
      ]
     },
     "execution_count": 6,
     "metadata": {},
     "output_type": "execute_result"
    }
   ],
   "source": [
    "geo_model.surfaces"
   ]
  },
  {
   "cell_type": "code",
   "execution_count": 7,
   "metadata": {},
   "outputs": [
    {
     "data": {
      "text/html": [
       "<table border=\"1\" class=\"dataframe\">\n",
       "  <thead>\n",
       "    <tr style=\"text-align: right;\">\n",
       "      <th></th>\n",
       "      <th></th>\n",
       "      <th>values</th>\n",
       "    </tr>\n",
       "  </thead>\n",
       "  <tbody>\n",
       "    <tr>\n",
       "      <th rowspan=\"9\" valign=\"top\">Structure</th>\n",
       "      <th>isLith</th>\n",
       "      <td>True</td>\n",
       "    </tr>\n",
       "    <tr>\n",
       "      <th>isFault</th>\n",
       "      <td>False</td>\n",
       "    </tr>\n",
       "    <tr>\n",
       "      <th>number faults</th>\n",
       "      <td>0</td>\n",
       "    </tr>\n",
       "    <tr>\n",
       "      <th>number surfaces</th>\n",
       "      <td>5</td>\n",
       "    </tr>\n",
       "    <tr>\n",
       "      <th>number series</th>\n",
       "      <td>4</td>\n",
       "    </tr>\n",
       "    <tr>\n",
       "      <th>number surfaces per series</th>\n",
       "      <td>[1, 2, 1, 1]</td>\n",
       "    </tr>\n",
       "    <tr>\n",
       "      <th>len surfaces surface_points</th>\n",
       "      <td>[6, 4, 4, 6, 6]</td>\n",
       "    </tr>\n",
       "    <tr>\n",
       "      <th>len series surface_points</th>\n",
       "      <td>[6, 8, 6, 6]</td>\n",
       "    </tr>\n",
       "    <tr>\n",
       "      <th>len series orientations</th>\n",
       "      <td>[3, 4, 3, 3]</td>\n",
       "    </tr>\n",
       "    <tr>\n",
       "      <th rowspan=\"5\" valign=\"top\">Options</th>\n",
       "      <th>dtype</th>\n",
       "      <td>float64</td>\n",
       "    </tr>\n",
       "    <tr>\n",
       "      <th>output</th>\n",
       "      <td>geology</td>\n",
       "    </tr>\n",
       "    <tr>\n",
       "      <th>theano_optimizer</th>\n",
       "      <td>fast_compile</td>\n",
       "    </tr>\n",
       "    <tr>\n",
       "      <th>device</th>\n",
       "      <td>cpu</td>\n",
       "    </tr>\n",
       "    <tr>\n",
       "      <th>verbosity</th>\n",
       "      <td>[]</td>\n",
       "    </tr>\n",
       "    <tr>\n",
       "      <th rowspan=\"5\" valign=\"top\">Kriging</th>\n",
       "      <th>range</th>\n",
       "      <td>1854.72</td>\n",
       "    </tr>\n",
       "    <tr>\n",
       "      <th>$C_o$</th>\n",
       "      <td>81904.8</td>\n",
       "    </tr>\n",
       "    <tr>\n",
       "      <th>drift equations</th>\n",
       "      <td>[3]</td>\n",
       "    </tr>\n",
       "    <tr>\n",
       "      <th>nugget grad</th>\n",
       "      <td>0.01</td>\n",
       "    </tr>\n",
       "    <tr>\n",
       "      <th>nugget scalar</th>\n",
       "      <td>1e-06</td>\n",
       "    </tr>\n",
       "    <tr>\n",
       "      <th rowspan=\"2\" valign=\"top\">Rescaling</th>\n",
       "      <th>rescaling factor</th>\n",
       "      <td>NaN</td>\n",
       "    </tr>\n",
       "    <tr>\n",
       "      <th>centers</th>\n",
       "      <td>[nan, nan, nan]</td>\n",
       "    </tr>\n",
       "  </tbody>\n",
       "</table>"
      ],
      "text/plain": [
       "                                                values\n",
       "Structure isLith                                  True\n",
       "          isFault                                False\n",
       "          number faults                              0\n",
       "          number surfaces                            5\n",
       "          number series                              4\n",
       "          number surfaces per series      [1, 2, 1, 1]\n",
       "          len surfaces surface_points  [6, 4, 4, 6, 6]\n",
       "          len series surface_points       [6, 8, 6, 6]\n",
       "          len series orientations         [3, 4, 3, 3]\n",
       "Options   dtype                                float64\n",
       "          output                               geology\n",
       "          theano_optimizer                fast_compile\n",
       "          device                                   cpu\n",
       "          verbosity                                 []\n",
       "Kriging   range                                1854.72\n",
       "          $C_o$                                81904.8\n",
       "          drift equations                          [3]\n",
       "          nugget grad                             0.01\n",
       "          nugget scalar                          1e-06\n",
       "Rescaling rescaling factor                         NaN\n",
       "          centers                      [nan, nan, nan]"
      ]
     },
     "execution_count": 7,
     "metadata": {},
     "output_type": "execute_result"
    }
   ],
   "source": [
    "geo_model.additional_data"
   ]
  },
  {
   "cell_type": "code",
   "execution_count": 8,
   "metadata": {
    "scrolled": false
   },
   "outputs": [
    {
     "data": {
      "text/plain": [
       "<gempy.core.qgrid_integration.QgridModelIntegration at 0x7f8328932630>"
      ]
     },
     "execution_count": 8,
     "metadata": {},
     "output_type": "execute_result"
    }
   ],
   "source": [
    "gp.activate_interactive_df(geo_model)"
   ]
  },
  {
   "cell_type": "code",
   "execution_count": 9,
   "metadata": {},
   "outputs": [],
   "source": [
    "#geo_model.qi.get('orientations')"
   ]
  },
  {
   "cell_type": "code",
   "execution_count": 10,
   "metadata": {},
   "outputs": [
    {
     "data": {
      "application/vnd.jupyter.widget-view+json": {
       "model_id": "cef9eca9c15044578f075b8845b3f744",
       "version_major": 2,
       "version_minor": 0
      },
      "text/plain": [
       "QgridWidget(grid_options={'fullWidthRows': True, 'syncColumnCellResize': True, 'forceFitColumns': True, 'defau…"
      ]
     },
     "metadata": {},
     "output_type": "display_data"
    }
   ],
   "source": [
    "geo_model.qi.get('surfaces')"
   ]
  },
  {
   "cell_type": "code",
   "execution_count": 11,
   "metadata": {},
   "outputs": [
    {
     "data": {
      "application/vnd.jupyter.widget-view+json": {
       "model_id": "53316ece37344f57be37c4277becdae8",
       "version_major": 2,
       "version_minor": 0
      },
      "text/plain": [
       "QgridWidget(grid_options={'fullWidthRows': True, 'syncColumnCellResize': True, 'forceFitColumns': True, 'defau…"
      ]
     },
     "metadata": {},
     "output_type": "display_data"
    }
   ],
   "source": [
    "geo_model.qi.get('series')"
   ]
  },
  {
   "cell_type": "code",
   "execution_count": 12,
   "metadata": {},
   "outputs": [
    {
     "data": {
      "text/html": [
       "<table border=\"1\" class=\"dataframe\">\n",
       "  <thead>\n",
       "    <tr style=\"text-align: right;\">\n",
       "      <th></th>\n",
       "      <th>order_series</th>\n",
       "      <th>BottomRelation</th>\n",
       "    </tr>\n",
       "  </thead>\n",
       "  <tbody>\n",
       "    <tr>\n",
       "      <th>seafloor_series</th>\n",
       "      <td>1</td>\n",
       "      <td>Erosion</td>\n",
       "    </tr>\n",
       "    <tr>\n",
       "      <th>right_series</th>\n",
       "      <td>2</td>\n",
       "      <td>Onlap</td>\n",
       "    </tr>\n",
       "    <tr>\n",
       "      <th>onlap_series</th>\n",
       "      <td>3</td>\n",
       "      <td>Erosion</td>\n",
       "    </tr>\n",
       "    <tr>\n",
       "      <th>left_series</th>\n",
       "      <td>4</td>\n",
       "      <td>Erosion</td>\n",
       "    </tr>\n",
       "    <tr>\n",
       "      <th>basement</th>\n",
       "      <td>5</td>\n",
       "      <td>Erosion</td>\n",
       "    </tr>\n",
       "  </tbody>\n",
       "</table>"
      ],
      "text/plain": [
       "                 order_series BottomRelation\n",
       "seafloor_series             1        Erosion\n",
       "right_series                2          Onlap\n",
       "onlap_series                3        Erosion\n",
       "left_series                 4        Erosion\n",
       "basement                    5        Erosion"
      ]
     },
     "execution_count": 12,
     "metadata": {},
     "output_type": "execute_result"
    }
   ],
   "source": [
    "geo_model.series"
   ]
  },
  {
   "cell_type": "code",
   "execution_count": 13,
   "metadata": {},
   "outputs": [
    {
     "data": {
      "application/vnd.jupyter.widget-view+json": {
       "model_id": "db98d54f4a834d8bb271304d445d322d",
       "version_major": 2,
       "version_minor": 0
      },
      "text/plain": [
       "QgridWidget(grid_options={'fullWidthRows': True, 'syncColumnCellResize': True, 'forceFitColumns': True, 'defau…"
      ]
     },
     "metadata": {},
     "output_type": "display_data"
    }
   ],
   "source": [
    "geo_model.qi.get('surface_points')"
   ]
  },
  {
   "cell_type": "code",
   "execution_count": 14,
   "metadata": {},
   "outputs": [
    {
     "data": {
      "text/plain": [
       "<gempy.plot.visualization_2d.PlotData2D at 0x7f83288a5f60>"
      ]
     },
     "execution_count": 14,
     "metadata": {},
     "output_type": "execute_result"
    },
    {
     "data": {
      "image/png": "[encoded data removed]",
      "text/plain": [
       "<Figure size 432x360 with 1 Axes>"
      ]
     },
     "metadata": {},
     "output_type": "display_data"
    }
   ],
   "source": [
    "gp.plot.plot_data(geo_model, direction='y')"
   ]
  },
  {
   "cell_type": "code",
   "execution_count": 15,
   "metadata": {},
   "outputs": [
    {
     "name": "stdout",
     "output_type": "stream",
     "text": [
      "Compiling theano function...\n",
      "Compilation Done!\n"
     ]
    },
    {
     "data": {
      "text/html": [
       "<table border=\"1\" class=\"dataframe\">\n",
       "  <thead>\n",
       "    <tr style=\"text-align: right;\">\n",
       "      <th></th>\n",
       "      <th>values</th>\n",
       "    </tr>\n",
       "  </thead>\n",
       "  <tbody>\n",
       "    <tr>\n",
       "      <th>dtype</th>\n",
       "      <td>float64</td>\n",
       "    </tr>\n",
       "    <tr>\n",
       "      <th>output</th>\n",
       "      <td>geology</td>\n",
       "    </tr>\n",
       "    <tr>\n",
       "      <th>theano_optimizer</th>\n",
       "      <td>fast_compile</td>\n",
       "    </tr>\n",
       "    <tr>\n",
       "      <th>device</th>\n",
       "      <td>cpu</td>\n",
       "    </tr>\n",
       "    <tr>\n",
       "      <th>verbosity</th>\n",
       "      <td>[]</td>\n",
       "    </tr>\n",
       "  </tbody>\n",
       "</table>"
      ],
      "text/plain": [
       "                        values\n",
       "dtype                  float64\n",
       "output                 geology\n",
       "theano_optimizer  fast_compile\n",
       "device                     cpu\n",
       "verbosity                   []"
      ]
     },
     "execution_count": 15,
     "metadata": {},
     "output_type": "execute_result"
    }
   ],
   "source": [
    "gp.set_interpolation_data(geo_model, verbose=[])"
   ]
  },
  {
   "cell_type": "code",
   "execution_count": 16,
   "metadata": {},
   "outputs": [
    {
     "data": {
      "text/plain": [
       "Grid Object. Values: \n",
       "array([[-188., -490., -990.],\n",
       "       [-188., -490., -970.],\n",
       "       [-188., -490., -950.],\n",
       "       ...,\n",
       "       [ 988.,  490.,  -50.],\n",
       "       [ 988.,  490.,  -30.],\n",
       "       [ 988.,  490.,  -10.]])"
      ]
     },
     "execution_count": 16,
     "metadata": {},
     "output_type": "execute_result"
    }
   ],
   "source": [
    "geo_model.set_regular_grid([-200,1000,-500,500,-1000,0], [50,50,50])"
   ]
  },
  {
   "cell_type": "code",
   "execution_count": 17,
   "metadata": {},
   "outputs": [],
   "source": [
    "#geo_model.update_to_interpolator()"
   ]
  },
  {
   "cell_type": "code",
   "execution_count": 18,
   "metadata": {},
   "outputs": [],
   "source": [
    "#geo_model.surface_points.sort_table()"
   ]
  },
  {
   "cell_type": "code",
   "execution_count": 19,
   "metadata": {},
   "outputs": [
    {
     "name": "stdout",
     "output_type": "stream",
     "text": [
      "[[[False False False ... False False False]\n",
      "  [False False False ... False False False]\n",
      "  [False False False ... False False False]\n",
      "  ...\n",
      "  [False False False ... False False False]\n",
      "  [False False False ... False False False]\n",
      "  [False False False ... False False False]]\n",
      "\n",
      " [[False False False ... False False False]\n",
      "  [False False False ... False False False]\n",
      "  [False False False ... False False False]\n",
      "  ...\n",
      "  [False False False ... False False False]\n",
      "  [False False False ... False False False]\n",
      "  [False False False ... False False False]]\n",
      "\n",
      " [[False False False ... False False False]\n",
      "  [False False False ... False False False]\n",
      "  [False False False ... False False False]\n",
      "  ...\n",
      "  [False False False ... False False False]\n",
      "  [False False False ... False False False]\n",
      "  [False False False ... False False False]]\n",
      "\n",
      " ...\n",
      "\n",
      " [[ True  True  True ...  True  True  True]\n",
      "  [ True  True  True ...  True  True  True]\n",
      "  [ True  True  True ...  True  True  True]\n",
      "  ...\n",
      "  [ True  True  True ...  True  True  True]\n",
      "  [ True  True  True ...  True  True  True]\n",
      "  [ True  True  True ...  True  True  True]]\n",
      "\n",
      " [[ True  True  True ...  True  True  True]\n",
      "  [ True  True  True ...  True  True  True]\n",
      "  [ True  True  True ...  True  True  True]\n",
      "  ...\n",
      "  [ True  True  True ...  True  True  True]\n",
      "  [ True  True  True ...  True  True  True]\n",
      "  [ True  True  True ...  True  True  True]]\n",
      "\n",
      " [[ True  True  True ...  True  True  True]\n",
      "  [ True  True  True ...  True  True  True]\n",
      "  [ True  True  True ...  True  True  True]\n",
      "  ...\n",
      "  [ True  True  True ...  True  True  True]\n",
      "  [ True  True  True ...  True  True  True]\n",
      "  [ True  True  True ...  True  True  True]]] 0\n",
      "[[[False False False ...  True  True  True]\n",
      "  [False False False ...  True  True  True]\n",
      "  [False False False ...  True  True  True]\n",
      "  ...\n",
      "  [False False False ...  True  True  True]\n",
      "  [False False False ...  True  True  True]\n",
      "  [False False False ...  True  True  True]]\n",
      "\n",
      " [[False False False ...  True  True  True]\n",
      "  [False False False ...  True  True  True]\n",
      "  [False False False ...  True  True  True]\n",
      "  ...\n",
      "  [False False False ...  True  True  True]\n",
      "  [False False False ...  True  True  True]\n",
      "  [False False False ...  True  True  True]]\n",
      "\n",
      " [[False False False ...  True  True  True]\n",
      "  [False False False ...  True  True  True]\n",
      "  [False False False ...  True  True  True]\n",
      "  ...\n",
      "  [False False False ...  True  True  True]\n",
      "  [False False False ...  True  True  True]\n",
      "  [False False False ...  True  True  True]]\n",
      "\n",
      " ...\n",
      "\n",
      " [[False False False ... False False False]\n",
      "  [False False False ... False False False]\n",
      "  [False False False ... False False False]\n",
      "  ...\n",
      "  [False False False ... False False False]\n",
      "  [False False False ... False False False]\n",
      "  [False False False ... False False False]]\n",
      "\n",
      " [[False False False ... False False False]\n",
      "  [False False False ... False False False]\n",
      "  [False False False ... False False False]\n",
      "  ...\n",
      "  [False False False ... False False False]\n",
      "  [False False False ... False False False]\n",
      "  [False False False ... False False False]]\n",
      "\n",
      " [[False False False ... False False False]\n",
      "  [False False False ... False False False]\n",
      "  [False False False ... False False False]\n",
      "  ...\n",
      "  [False False False ... False False False]\n",
      "  [False False False ... False False False]\n",
      "  [False False False ... False False False]]] 1\n",
      "[[[False False False ...  True  True  True]\n",
      "  [False False False ...  True  True  True]\n",
      "  [False False False ...  True  True  True]\n",
      "  ...\n",
      "  [False False False ...  True  True  True]\n",
      "  [False False False ...  True  True  True]\n",
      "  [False False False ...  True  True  True]]\n",
      "\n",
      " [[False False False ...  True  True  True]\n",
      "  [False False False ...  True  True  True]\n",
      "  [False False False ...  True  True  True]\n",
      "  ...\n",
      "  [False False False ...  True  True  True]\n",
      "  [False False False ...  True  True  True]\n",
      "  [False False False ...  True  True  True]]\n",
      "\n",
      " [[False False False ...  True  True  True]\n",
      "  [False False False ...  True  True  True]\n",
      "  [False False False ...  True  True  True]\n",
      "  ...\n",
      "  [False False False ...  True  True  True]\n",
      "  [False False False ...  True  True  True]\n",
      "  [False False False ...  True  True  True]]\n",
      "\n",
      " ...\n",
      "\n",
      " [[False False False ... False False False]\n",
      "  [False False False ... False False False]\n",
      "  [False False False ... False False False]\n",
      "  ...\n",
      "  [False False False ... False False False]\n",
      "  [False False False ... False False False]\n",
      "  [False False False ... False False False]]\n",
      "\n",
      " [[False False False ... False False False]\n",
      "  [False False False ... False False False]\n",
      "  [False False False ... False False False]\n",
      "  ...\n",
      "  [False False False ... False False False]\n",
      "  [False False False ... False False False]\n",
      "  [False False False ... False False False]]\n",
      "\n",
      " [[False False False ... False False False]\n",
      "  [False False False ... False False False]\n",
      "  [False False False ... False False False]\n",
      "  ...\n",
      "  [False False False ... False False False]\n",
      "  [False False False ... False False False]\n",
      "  [False False False ... False False False]]] 1\n",
      "[[[False False False ...  True  True  True]\n",
      "  [False False False ...  True  True  True]\n",
      "  [False False False ...  True  True  True]\n",
      "  ...\n",
      "  [False False False ...  True  True  True]\n",
      "  [False False False ...  True  True  True]\n",
      "  [False False False ...  True  True  True]]\n",
      "\n",
      " [[False False False ...  True  True  True]\n",
      "  [False False False ...  True  True  True]\n",
      "  [False False False ...  True  True  True]\n",
      "  ...\n",
      "  [False False False ...  True  True  True]\n",
      "  [False False False ...  True  True  True]\n",
      "  [False False False ...  True  True  True]]\n",
      "\n",
      " [[False False False ...  True  True  True]\n",
      "  [False False False ...  True  True  True]\n",
      "  [False False False ...  True  True  True]\n",
      "  ...\n",
      "  [False False False ...  True  True  True]\n",
      "  [False False False ...  True  True  True]\n",
      "  [False False False ...  True  True  True]]\n",
      "\n",
      " ...\n",
      "\n",
      " [[False False False ... False False False]\n",
      "  [False False False ... False False False]\n",
      "  [False False False ... False False False]\n",
      "  ...\n",
      "  [False False False ... False False False]\n",
      "  [False False False ... False False False]\n",
      "  [False False False ... False False False]]\n",
      "\n",
      " [[False False False ... False False False]\n",
      "  [False False False ... False False False]\n",
      "  [False False False ... False False False]\n",
      "  ...\n",
      "  [False False False ... False False False]\n",
      "  [False False False ... False False False]\n",
      "  [False False False ... False False False]]\n",
      "\n",
      " [[False False False ... False False False]\n",
      "  [False False False ... False False False]\n",
      "  [False False False ... False False False]\n",
      "  ...\n",
      "  [False False False ... False False False]\n",
      "  [False False False ... False False False]\n",
      "  [False False False ... False False False]]] 2\n",
      "[[[ True  True  True ... False False False]\n",
      "  [ True  True  True ... False False False]\n",
      "  [ True  True  True ... False False False]\n",
      "  ...\n",
      "  [ True  True  True ... False False False]\n",
      "  [ True  True  True ... False False False]\n",
      "  [ True  True  True ... False False False]]\n",
      "\n",
      " [[ True  True  True ... False False False]\n",
      "  [ True  True  True ... False False False]\n",
      "  [ True  True  True ... False False False]\n",
      "  ...\n",
      "  [ True  True  True ... False False False]\n",
      "  [ True  True  True ... False False False]\n",
      "  [ True  True  True ... False False False]]\n",
      "\n",
      " [[ True  True  True ... False False False]\n",
      "  [ True  True  True ... False False False]\n",
      "  [ True  True  True ... False False False]\n",
      "  ...\n",
      "  [ True  True  True ... False False False]\n",
      "  [ True  True  True ... False False False]\n",
      "  [ True  True  True ... False False False]]\n",
      "\n",
      " ...\n",
      "\n",
      " [[False False False ... False False False]\n",
      "  [False False False ... False False False]\n",
      "  [False False False ... False False False]\n",
      "  ...\n",
      "  [False False False ... False False False]\n",
      "  [False False False ... False False False]\n",
      "  [False False False ... False False False]]\n",
      "\n",
      " [[False False False ... False False False]\n",
      "  [False False False ... False False False]\n",
      "  [False False False ... False False False]\n",
      "  ...\n",
      "  [False False False ... False False False]\n",
      "  [False False False ... False False False]\n",
      "  [False False False ... False False False]]\n",
      "\n",
      " [[False False False ... False False False]\n",
      "  [False False False ... False False False]\n",
      "  [False False False ... False False False]\n",
      "  ...\n",
      "  [False False False ... False False False]\n",
      "  [False False False ... False False False]\n",
      "  [False False False ... False False False]]] 3\n"
     ]
    },
    {
     "data": {
      "text/plain": [
       "\n",
       "Lithology ids \n",
       "  [6. 6. 6. ... 1. 1. 1.] "
      ]
     },
     "execution_count": 19,
     "metadata": {},
     "output_type": "execute_result"
    }
   ],
   "source": [
    "gp.compute_model(geo_model, compute_mesh=True)"
   ]
  },
  {
   "cell_type": "code",
   "execution_count": 20,
   "metadata": {},
   "outputs": [
    {
     "name": "stdout",
     "output_type": "stream",
     "text": [
      "{'cmap': <matplotlib.colors.ListedColormap object at 0x7f8327c8ac50>, 'norm': <matplotlib.colors.Normalize object at 0x7f831be80ba8>}\n"
     ]
    },
    {
     "data": {
      "text/plain": [
       "<gempy.plot.visualization_2d.PlotData2D at 0x7f8327c84240>"
      ]
     },
     "execution_count": 20,
     "metadata": {},
     "output_type": "execute_result"
    },
    {
     "data": {
      "image/png": "[encoded data removed]",
      "text/plain": [
       "<Figure size 432x360 with 1 Axes>"
      ]
     },
     "metadata": {},
     "output_type": "display_data"
    }
   ],
   "source": [
    "gp.plot.plot_section(geo_model, 2, plot_data=True)"
   ]
  },
  {
   "cell_type": "code",
   "execution_count": 21,
   "metadata": {},
   "outputs": [
    {
     "data": {
      "text/plain": [
       "True"
      ]
     },
     "execution_count": 21,
     "metadata": {},
     "output_type": "execute_result"
    }
   ],
   "source": [
    "geo_model.solutions.mask_matrix_pad[0].T.dtype == bool"
   ]
  },
  {
   "cell_type": "code",
   "execution_count": 22,
   "metadata": {},
   "outputs": [
    {
     "data": {
      "text/plain": [
       "array([[[False, False, False, ..., False, False, False],\n",
       "        [False, False, False, ..., False, False, False],\n",
       "        [False, False, False, ..., False, False, False],\n",
       "        ...,\n",
       "        [False, False, False, ..., False, False, False],\n",
       "        [False, False, False, ..., False, False, False],\n",
       "        [False, False, False, ..., False, False, False]],\n",
       "\n",
       "       [[False, False, False, ..., False, False, False],\n",
       "        [False, False, False, ..., False, False, False],\n",
       "        [False, False, False, ..., False, False, False],\n",
       "        ...,\n",
       "        [False, False, False, ..., False, False, False],\n",
       "        [False, False, False, ..., False, False, False],\n",
       "        [False, False, False, ..., False, False, False]],\n",
       "\n",
       "       [[False, False, False, ..., False, False, False],\n",
       "        [False, False, False, ..., False, False, False],\n",
       "        [False, False, False, ..., False, False, False],\n",
       "        ...,\n",
       "        [False, False, False, ..., False, False, False],\n",
       "        [False, False, False, ..., False, False, False],\n",
       "        [False, False, False, ..., False, False, False]],\n",
       "\n",
       "       ...,\n",
       "\n",
       "       [[ True,  True,  True, ...,  True,  True,  True],\n",
       "        [ True,  True,  True, ...,  True,  True,  True],\n",
       "        [ True,  True,  True, ...,  True,  True,  True],\n",
       "        ...,\n",
       "        [ True,  True,  True, ...,  True,  True,  True],\n",
       "        [ True,  True,  True, ...,  True,  True,  True],\n",
       "        [ True,  True,  True, ...,  True,  True,  True]],\n",
       "\n",
       "       [[ True,  True,  True, ...,  True,  True,  True],\n",
       "        [ True,  True,  True, ...,  True,  True,  True],\n",
       "        [ True,  True,  True, ...,  True,  True,  True],\n",
       "        ...,\n",
       "        [ True,  True,  True, ...,  True,  True,  True],\n",
       "        [ True,  True,  True, ...,  True,  True,  True],\n",
       "        [ True,  True,  True, ...,  True,  True,  True]],\n",
       "\n",
       "       [[ True,  True,  True, ...,  True,  True,  True],\n",
       "        [ True,  True,  True, ...,  True,  True,  True],\n",
       "        [ True,  True,  True, ...,  True,  True,  True],\n",
       "        ...,\n",
       "        [ True,  True,  True, ...,  True,  True,  True],\n",
       "        [ True,  True,  True, ...,  True,  True,  True],\n",
       "        [ True,  True,  True, ...,  True,  True,  True]]])"
      ]
     },
     "execution_count": 22,
     "metadata": {},
     "output_type": "execute_result"
    }
   ],
   "source": [
    "geo_model.solutions.mask_matrix_pad[0]"
   ]
  },
  {
   "cell_type": "code",
   "execution_count": 23,
   "metadata": {},
   "outputs": [
    {
     "name": "stdout",
     "output_type": "stream",
     "text": [
      "{'cmap': 'viridis', 'norm': None}\n"
     ]
    },
    {
     "data": {
      "text/plain": [
       "<gempy.plot.visualization_2d.PlotData2D at 0x7f83286acb00>"
      ]
     },
     "execution_count": 23,
     "metadata": {},
     "output_type": "execute_result"
    },
    {
     "data": {
      "image/png": "[encoded data removed]",
      "text/plain": [
       "<Figure size 432x360 with 1 Axes>"
      ]
     },
     "metadata": {},
     "output_type": "display_data"
    }
   ],
   "source": [
    "gp.plot.plot_section(geo_model, 2, block=geo_model.solutions.mask_matrix_pad[3], plot_data=True,\n",
    "                    )"
   ]
  },
  {
   "cell_type": "code",
   "execution_count": 24,
   "metadata": {},
   "outputs": [
    {
     "data": {
      "text/html": [
       "<table border=\"1\" class=\"dataframe\">\n",
       "  <thead>\n",
       "    <tr style=\"text-align: right;\">\n",
       "      <th></th>\n",
       "      <th>order_series</th>\n",
       "      <th>BottomRelation</th>\n",
       "    </tr>\n",
       "  </thead>\n",
       "  <tbody>\n",
       "    <tr>\n",
       "      <th>seafloor_series</th>\n",
       "      <td>1</td>\n",
       "      <td>Erosion</td>\n",
       "    </tr>\n",
       "    <tr>\n",
       "      <th>right_series</th>\n",
       "      <td>2</td>\n",
       "      <td>Onlap</td>\n",
       "    </tr>\n",
       "    <tr>\n",
       "      <th>onlap_series</th>\n",
       "      <td>3</td>\n",
       "      <td>Erosion</td>\n",
       "    </tr>\n",
       "    <tr>\n",
       "      <th>left_series</th>\n",
       "      <td>4</td>\n",
       "      <td>Erosion</td>\n",
       "    </tr>\n",
       "    <tr>\n",
       "      <th>basement</th>\n",
       "      <td>5</td>\n",
       "      <td>Erosion</td>\n",
       "    </tr>\n",
       "  </tbody>\n",
       "</table>"
      ],
      "text/plain": [
       "                 order_series BottomRelation\n",
       "seafloor_series             1        Erosion\n",
       "right_series                2          Onlap\n",
       "onlap_series                3        Erosion\n",
       "left_series                 4        Erosion\n",
       "basement                    5        Erosion"
      ]
     },
     "execution_count": 24,
     "metadata": {},
     "output_type": "execute_result"
    }
   ],
   "source": [
    "geo_model.series"
   ]
  },
  {
   "cell_type": "code",
   "execution_count": 25,
   "metadata": {},
   "outputs": [
    {
     "data": {
      "text/plain": [
       "True"
      ]
     },
     "execution_count": 25,
     "metadata": {},
     "output_type": "execute_result"
    }
   ],
   "source": [
    "geo_model.solutions.mask_matrix.dtype == bool"
   ]
  },
  {
   "cell_type": "code",
   "execution_count": 26,
   "metadata": {},
   "outputs": [
    {
     "name": "stdout",
     "output_type": "stream",
     "text": [
      "0\n",
      "1\n",
      "2\n",
      "3\n"
     ]
    }
   ],
   "source": [
    "for e, i in enumerate(geo_model.solutions.scalar_field_matrix):\n",
    "    print(e)"
   ]
  },
  {
   "cell_type": "code",
   "execution_count": 27,
   "metadata": {
    "scrolled": false
   },
   "outputs": [
    {
     "name": "stdout",
     "output_type": "stream",
     "text": [
      "[[[False False False ... False False False]\n",
      "  [False False False ... False False False]\n",
      "  [False False False ... False False False]\n",
      "  ...\n",
      "  [False False False ... False False False]\n",
      "  [False False False ... False False False]\n",
      "  [False False False ... False False False]]\n",
      "\n",
      " [[False False False ... False False False]\n",
      "  [False False False ... False False False]\n",
      "  [False False False ... False False False]\n",
      "  ...\n",
      "  [False False False ... False False False]\n",
      "  [False False False ... False False False]\n",
      "  [False False False ... False False False]]\n",
      "\n",
      " [[False False False ... False False False]\n",
      "  [False False False ... False False False]\n",
      "  [False False False ... False False False]\n",
      "  ...\n",
      "  [False False False ... False False False]\n",
      "  [False False False ... False False False]\n",
      "  [False False False ... False False False]]\n",
      "\n",
      " ...\n",
      "\n",
      " [[ True  True  True ...  True  True  True]\n",
      "  [ True  True  True ...  True  True  True]\n",
      "  [ True  True  True ...  True  True  True]\n",
      "  ...\n",
      "  [ True  True  True ...  True  True  True]\n",
      "  [ True  True  True ...  True  True  True]\n",
      "  [ True  True  True ...  True  True  True]]\n",
      "\n",
      " [[ True  True  True ...  True  True  True]\n",
      "  [ True  True  True ...  True  True  True]\n",
      "  [ True  True  True ...  True  True  True]\n",
      "  ...\n",
      "  [ True  True  True ...  True  True  True]\n",
      "  [ True  True  True ...  True  True  True]\n",
      "  [ True  True  True ...  True  True  True]]\n",
      "\n",
      " [[ True  True  True ...  True  True  True]\n",
      "  [ True  True  True ...  True  True  True]\n",
      "  [ True  True  True ...  True  True  True]\n",
      "  ...\n",
      "  [ True  True  True ...  True  True  True]\n",
      "  [ True  True  True ...  True  True  True]\n",
      "  [ True  True  True ...  True  True  True]]] 0\n",
      "[[[False False False ...  True  True  True]\n",
      "  [False False False ...  True  True  True]\n",
      "  [False False False ...  True  True  True]\n",
      "  ...\n",
      "  [False False False ...  True  True  True]\n",
      "  [False False False ...  True  True  True]\n",
      "  [False False False ...  True  True  True]]\n",
      "\n",
      " [[False False False ...  True  True  True]\n",
      "  [False False False ...  True  True  True]\n",
      "  [False False False ...  True  True  True]\n",
      "  ...\n",
      "  [False False False ...  True  True  True]\n",
      "  [False False False ...  True  True  True]\n",
      "  [False False False ...  True  True  True]]\n",
      "\n",
      " [[False False False ...  True  True  True]\n",
      "  [False False False ...  True  True  True]\n",
      "  [False False False ...  True  True  True]\n",
      "  ...\n",
      "  [False False False ...  True  True  True]\n",
      "  [False False False ...  True  True  True]\n",
      "  [False False False ...  True  True  True]]\n",
      "\n",
      " ...\n",
      "\n",
      " [[False False False ... False False False]\n",
      "  [False False False ... False False False]\n",
      "  [False False False ... False False False]\n",
      "  ...\n",
      "  [False False False ... False False False]\n",
      "  [False False False ... False False False]\n",
      "  [False False False ... False False False]]\n",
      "\n",
      " [[False False False ... False False False]\n",
      "  [False False False ... False False False]\n",
      "  [False False False ... False False False]\n",
      "  ...\n",
      "  [False False False ... False False False]\n",
      "  [False False False ... False False False]\n",
      "  [False False False ... False False False]]\n",
      "\n",
      " [[False False False ... False False False]\n",
      "  [False False False ... False False False]\n",
      "  [False False False ... False False False]\n",
      "  ...\n",
      "  [False False False ... False False False]\n",
      "  [False False False ... False False False]\n",
      "  [False False False ... False False False]]] 1\n",
      "[[[False False False ...  True  True  True]\n",
      "  [False False False ...  True  True  True]\n",
      "  [False False False ...  True  True  True]\n",
      "  ...\n",
      "  [False False False ...  True  True  True]\n",
      "  [False False False ...  True  True  True]\n",
      "  [False False False ...  True  True  True]]\n",
      "\n",
      " [[False False False ...  True  True  True]\n",
      "  [False False False ...  True  True  True]\n",
      "  [False False False ...  True  True  True]\n",
      "  ...\n",
      "  [False False False ...  True  True  True]\n",
      "  [False False False ...  True  True  True]\n",
      "  [False False False ...  True  True  True]]\n",
      "\n",
      " [[False False False ...  True  True  True]\n",
      "  [False False False ...  True  True  True]\n",
      "  [False False False ...  True  True  True]\n",
      "  ...\n",
      "  [False False False ...  True  True  True]\n",
      "  [False False False ...  True  True  True]\n",
      "  [False False False ...  True  True  True]]\n",
      "\n",
      " ...\n",
      "\n",
      " [[False False False ... False False False]\n",
      "  [False False False ... False False False]\n",
      "  [False False False ... False False False]\n",
      "  ...\n",
      "  [False False False ... False False False]\n",
      "  [False False False ... False False False]\n",
      "  [False False False ... False False False]]\n",
      "\n",
      " [[False False False ... False False False]\n",
      "  [False False False ... False False False]\n",
      "  [False False False ... False False False]\n",
      "  ...\n",
      "  [False False False ... False False False]\n",
      "  [False False False ... False False False]\n",
      "  [False False False ... False False False]]\n",
      "\n",
      " [[False False False ... False False False]\n",
      "  [False False False ... False False False]\n",
      "  [False False False ... False False False]\n",
      "  ...\n",
      "  [False False False ... False False False]\n",
      "  [False False False ... False False False]\n",
      "  [False False False ... False False False]]] 1\n",
      "[[[False False False ...  True  True  True]\n",
      "  [False False False ...  True  True  True]\n",
      "  [False False False ...  True  True  True]\n",
      "  ...\n",
      "  [False False False ...  True  True  True]\n",
      "  [False False False ...  True  True  True]\n",
      "  [False False False ...  True  True  True]]\n",
      "\n",
      " [[False False False ...  True  True  True]\n",
      "  [False False False ...  True  True  True]\n",
      "  [False False False ...  True  True  True]\n",
      "  ...\n",
      "  [False False False ...  True  True  True]\n",
      "  [False False False ...  True  True  True]\n",
      "  [False False False ...  True  True  True]]\n",
      "\n",
      " [[False False False ...  True  True  True]\n",
      "  [False False False ...  True  True  True]\n",
      "  [False False False ...  True  True  True]\n",
      "  ...\n",
      "  [False False False ...  True  True  True]\n",
      "  [False False False ...  True  True  True]\n",
      "  [False False False ...  True  True  True]]\n",
      "\n",
      " ...\n",
      "\n",
      " [[False False False ... False False False]\n",
      "  [False False False ... False False False]\n",
      "  [False False False ... False False False]\n",
      "  ...\n",
      "  [False False False ... False False False]\n",
      "  [False False False ... False False False]\n",
      "  [False False False ... False False False]]\n",
      "\n",
      " [[False False False ... False False False]\n",
      "  [False False False ... False False False]\n",
      "  [False False False ... False False False]\n",
      "  ...\n",
      "  [False False False ... False False False]\n",
      "  [False False False ... False False False]\n",
      "  [False False False ... False False False]]\n",
      "\n",
      " [[False False False ... False False False]\n",
      "  [False False False ... False False False]\n",
      "  [False False False ... False False False]\n",
      "  ...\n",
      "  [False False False ... False False False]\n",
      "  [False False False ... False False False]\n",
      "  [False False False ... False False False]]] 2\n",
      "[[[ True  True  True ... False False False]\n",
      "  [ True  True  True ... False False False]\n",
      "  [ True  True  True ... False False False]\n",
      "  ...\n",
      "  [ True  True  True ... False False False]\n",
      "  [ True  True  True ... False False False]\n",
      "  [ True  True  True ... False False False]]\n",
      "\n",
      " [[ True  True  True ... False False False]\n",
      "  [ True  True  True ... False False False]\n",
      "  [ True  True  True ... False False False]\n",
      "  ...\n",
      "  [ True  True  True ... False False False]\n",
      "  [ True  True  True ... False False False]\n",
      "  [ True  True  True ... False False False]]\n",
      "\n",
      " [[ True  True  True ... False False False]\n",
      "  [ True  True  True ... False False False]\n",
      "  [ True  True  True ... False False False]\n",
      "  ...\n",
      "  [ True  True  True ... False False False]\n",
      "  [ True  True  True ... False False False]\n",
      "  [ True  True  True ... False False False]]\n",
      "\n",
      " ...\n",
      "\n",
      " [[False False False ... False False False]\n",
      "  [False False False ... False False False]\n",
      "  [False False False ... False False False]\n",
      "  ...\n",
      "  [False False False ... False False False]\n",
      "  [False False False ... False False False]\n",
      "  [False False False ... False False False]]\n",
      "\n",
      " [[False False False ... False False False]\n",
      "  [False False False ... False False False]\n",
      "  [False False False ... False False False]\n",
      "  ...\n",
      "  [False False False ... False False False]\n",
      "  [False False False ... False False False]\n",
      "  [False False False ... False False False]]\n",
      "\n",
      " [[False False False ... False False False]\n",
      "  [False False False ... False False False]\n",
      "  [False False False ... False False False]\n",
      "  ...\n",
      "  [False False False ... False False False]\n",
      "  [False False False ... False False False]\n",
      "  [False False False ... False False False]]] 3\n"
     ]
    },
    {
     "data": {
      "text/plain": [
       "([array([[-200., -500., -210.],\n",
       "         [-200., -480., -210.],\n",
       "         [-176., -500., -210.],\n",
       "         ...,\n",
       "         [ 976.,  440., -210.],\n",
       "         [ 976.,  460., -210.],\n",
       "         [ 976.,  480., -210.]]),\n",
       "  array([[ 400.        , -500.        , -460.00003815],\n",
       "         [ 400.        , -480.        , -460.00003815],\n",
       "         [ 424.        , -500.        , -460.00003815],\n",
       "         ...,\n",
       "         [ 976.        ,  440.        , -460.00003815],\n",
       "         [ 976.        ,  460.        , -460.00003815],\n",
       "         [ 976.        ,  480.        , -460.00003815]]),\n",
       "  array([[ 544., -500., -710.],\n",
       "         [ 544., -480., -710.],\n",
       "         [ 568., -500., -710.],\n",
       "         ...,\n",
       "         [ 976.,  440., -710.],\n",
       "         [ 976.,  460., -710.],\n",
       "         [ 976.,  480., -710.]]),\n",
       "  array([[   52.39768219,  -480.        ,  -220.        ],\n",
       "         [   64.        ,  -500.        ,  -227.81341553],\n",
       "         [   45.62319183,  -500.        ,  -220.        ],\n",
       "         ...,\n",
       "         [  688.02554321,    40.        ,  -980.        ],\n",
       "         [  688.29644775,    40.        , -1000.        ],\n",
       "         [  688.20480347,    60.        , -1000.        ]]),\n",
       "  array([[ -184.16520214,  -480.        ,  -420.        ],\n",
       "         [ -176.        ,  -500.        ,  -425.53325653],\n",
       "         [ -192.13578463,  -500.        ,  -420.        ],\n",
       "         ...,\n",
       "         [  427.72203064,   280.        , -1000.        ],\n",
       "         [  424.01483154,   280.        ,  -960.        ],\n",
       "         [  425.82922363,   300.        , -1000.        ]])],\n",
       " [array([[   2,    1,    0],\n",
       "         [   3,    1,    2],\n",
       "         [   3,    4,    1],\n",
       "         ...,\n",
       "         [2498, 2448, 2497],\n",
       "         [2498, 2449, 2448],\n",
       "         [2499, 2449, 2498]], dtype=int32), array([[   2,    1,    0],\n",
       "         [   3,    1,    2],\n",
       "         [   3,    4,    1],\n",
       "         ...,\n",
       "         [1107, 1057, 1106],\n",
       "         [1107, 1058, 1057],\n",
       "         [1108, 1058, 1107]], dtype=int32), array([[  2,   1,   0],\n",
       "         [  3,   1,   2],\n",
       "         [  3,   4,   1],\n",
       "         ...,\n",
       "         [838, 788, 837],\n",
       "         [838, 789, 788],\n",
       "         [839, 789, 838]], dtype=int32), array([[   2,    1,    0],\n",
       "         [   0,    1,    3],\n",
       "         [   0,    5,    4],\n",
       "         ...,\n",
       "         [3382, 3383, 3381],\n",
       "         [3381, 3234, 3222],\n",
       "         [3383, 3246, 3233]], dtype=int32), array([[   2,    1,    0],\n",
       "         [   0,    1,    3],\n",
       "         [   0,    5,    4],\n",
       "         ...,\n",
       "         [3199, 2969, 3201],\n",
       "         [3201, 2969, 2958],\n",
       "         [3202, 2978, 2967]], dtype=int32)])"
      ]
     },
     "execution_count": 27,
     "metadata": {},
     "output_type": "execute_result"
    }
   ],
   "source": [
    "geo_model.solutions.compute_all_surfaces()"
   ]
  },
  {
   "cell_type": "code",
   "execution_count": 28,
   "metadata": {},
   "outputs": [
    {
     "data": {
      "text/plain": [
       "<gempy.plot.visualization_3d.GemPyvtkInteract at 0x7f8327e6e978>"
      ]
     },
     "execution_count": 28,
     "metadata": {},
     "output_type": "execute_result"
    }
   ],
   "source": [
    "gp.plot.plot_3D(geo_model)"
   ]
  },
  {
   "cell_type": "markdown",
   "metadata": {},
   "source": [
    "Save model if any changes were made:"
   ]
  },
  {
   "cell_type": "code",
   "execution_count": 29,
   "metadata": {},
   "outputs": [],
   "source": [
    "#geo_model.save_model('Tutorial_ch1-8_Onlap_relations')"
   ]
  },
  {
   "cell_type": "code",
   "execution_count": null,
   "metadata": {},
   "outputs": [],
   "source": []
  }
 ],
 "metadata": {
  "kernelspec": {
   "display_name": "Python 3",
   "language": "python",
   "name": "python3"
  },
  "language_info": {
   "codemirror_mode": {
    "name": "ipython",
    "version": 3
   },
   "file_extension": ".py",
   "mimetype": "text/x-python",
   "name": "python",
   "nbconvert_exporter": "python",
   "pygments_lexer": "ipython3",
   "version": "3.6.8"
  },
  "latex_envs": {
   "LaTeX_envs_menu_present": true,
   "autocomplete": true,
   "bibliofile": "biblio.bib",
   "cite_by": "apalike",
   "current_citInitial": 1,
   "eqLabelWithNumbers": true,
   "eqNumInitial": 1,
   "hotkeys": {
    "equation": "Ctrl-E",
    "itemize": "Ctrl-I"
   },
   "labels_anchors": false,
   "latex_user_defs": false,
   "report_style_numbering": false,
   "user_envs_cfg": false
  },
  "toc": {
   "colors": {
    "hover_highlight": "#DAA520",
    "running_highlight": "#FF0000",
    "selected_highlight": "#FFD700"
   },
   "moveMenuLeft": true,
   "nav_menu": {
    "height": "11px",
    "width": "251px"
   },
   "navigate_menu": true,
   "number_sections": true,
   "sideBar": true,
   "threshold": 4,
   "toc_cell": false,
   "toc_section_display": "block",
   "toc_window_display": false,
   "widenNotebook": false
  }
 },
 "nbformat": 4,
 "nbformat_minor": 2
}
