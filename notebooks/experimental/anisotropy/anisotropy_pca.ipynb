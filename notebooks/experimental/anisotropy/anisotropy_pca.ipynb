{
 "cells": [
  {
   "cell_type": "code",
   "execution_count": 1,
   "metadata": {
    "collapsed": true,
    "pycharm": {
     "is_executing": false
    }
   },
   "outputs": [],
   "source": [
    "import numpy as np\n",
    "import matplotlib.pyplot as plt\n",
    "from sklearn.decomposition import PCA\n",
    "from scipy.spatial.transform import Rotation\n",
    "\n",
    "%matplotlib inline"
   ]
  },
  {
   "cell_type": "markdown",
   "source": [
    "## 2d case\n"
   ],
   "metadata": {
    "collapsed": false,
    "pycharm": {
     "name": "#%% md\n"
    }
   }
  },
  {
   "cell_type": "code",
   "execution_count": 2,
   "outputs": [
    {
     "data": {
      "text/plain": "<Figure size 432x288 with 1 Axes>",
      "image/png": "[encoded data removed]"
     },
     "metadata": {
      "needs_background": "light"
     },
     "output_type": "display_data"
    }
   ],
   "source": [
    "rng = np.random.RandomState(1)\n",
    "angle = np.deg2rad(30.0)\n",
    "true_rotation = np.array([[np.cos(angle), -np.sin(angle)],\n",
    "                          [np.sin(angle), np.cos(angle)]])\n",
    "x1 = rng.normal(scale=8, size=200)\n",
    "x2 = x1*np.tan(angle) + rng.normal(scale=3, size=200)\n",
    "x1 = x1-np.mean(x1)\n",
    "x2 = x2-np.mean(x2)\n",
    "X = np.array([x1,x2]).T\n",
    "plt.scatter(X[:, 0], X[:, 1])\n",
    "plt.axis('equal');"
   ],
   "metadata": {
    "collapsed": false,
    "pycharm": {
     "name": "#%% \n",
     "is_executing": false
    }
   }
  },
  {
   "cell_type": "markdown",
   "source": [
    "let's inspect the rotation matrix "
   ],
   "metadata": {
    "collapsed": false,
    "pycharm": {
     "name": "#%% md\n"
    }
   }
  },
  {
   "cell_type": "code",
   "execution_count": 3,
   "outputs": [
    {
     "data": {
      "text/plain": "array([[ 0.8660254, -0.5      ],\n       [ 0.5      ,  0.8660254]])"
     },
     "metadata": {},
     "output_type": "execute_result",
     "execution_count": 3
    }
   ],
   "source": [
    "true_rotation"
   ],
   "metadata": {
    "collapsed": false,
    "pycharm": {
     "name": "#%%\n",
     "is_executing": false
    }
   }
  },
  {
   "cell_type": "code",
   "execution_count": 4,
   "outputs": [
    {
     "data": {
      "text/plain": "array([[ 0.8660254,  0.5      ],\n       [-0.5      ,  0.8660254]])"
     },
     "metadata": {},
     "output_type": "execute_result",
     "execution_count": 4
    }
   ],
   "source": [
    "#inverse\n",
    "np.array([[np.cos(-angle), -np.sin(-angle)],\n",
    "        [np.sin(-angle), np.cos(-angle)]])"
   ],
   "metadata": {
    "collapsed": false,
    "pycharm": {
     "name": "#%%\n",
     "is_executing": false
    }
   }
  },
  {
   "cell_type": "markdown",
   "source": [
    "okay now let's see what angle the data was rotated by from pca"
   ],
   "metadata": {
    "collapsed": false,
    "pycharm": {
     "name": "#%% md\n"
    }
   }
  },
  {
   "cell_type": "code",
   "execution_count": 5,
   "outputs": [
    {
     "name": "stdout",
     "text": [
      "[[-0.84128457 -0.54059252]\n",
      " [-0.54059252  0.84128457]]\n"
     ],
     "output_type": "stream"
    }
   ],
   "source": [
    "pca = PCA(n_components=2)\n",
    "pca.fit(X)\n",
    "pca.components_\n",
    "print(pca.components_)"
   ],
   "metadata": {
    "collapsed": false,
    "pycharm": {
     "name": "#%% \n",
     "is_executing": false
    }
   }
  },
  {
   "cell_type": "markdown",
   "source": [
    "okay, now use the pca components and the axes to determine the rotation angle"
   ],
   "metadata": {
    "collapsed": false,
    "pycharm": {
     "name": "#%% md\n",
     "is_executing": false
    }
   }
  },
  {
   "cell_type": "code",
   "execution_count": 6,
   "outputs": [
    {
     "name": "stdout",
     "text": [
      "32.72398356575977 -32.72398356575977\n",
      "-32.72398356575977 32.72398356575976\n",
      "for the 2d case we actually only have 1 rotation to worry about\n"
     ],
     "output_type": "stream"
    }
   ],
   "source": [
    "pc0 = pca.components_[0]\n",
    "pc1 = pca.components_[1]\n",
    "x_axis = np.array([1.0,0]) \n",
    "y_axis = np.array([0.0,1])\n",
    "u_x_axis = x_axis/np.linalg.norm(x_axis)\n",
    "u_y_axis = y_axis/np.linalg.norm(y_axis)\n",
    "u_pc0 = pc0/np.linalg.norm(pc0)\n",
    "u_pc1 = pc1/np.linalg.norm(pc1)\n",
    "angle_x_0 = np.degrees(np.arccos(np.clip(np.dot(u_x_axis, u_pc0), -1, 1)))\n",
    "angle_y_0 = np.degrees(np.arccos(np.clip(np.dot(u_y_axis, u_pc0), -1, 1)))\n",
    "angle_x_1 = np.degrees(np.arccos(np.clip(np.dot(u_x_axis, u_pc1), -1, 1)))\n",
    "angle_y_1 = np.degrees(np.arccos(np.clip(np.dot(u_y_axis, u_pc1), -1, 1)))\n",
    "print(180 - angle_x_0, 90-angle_y_0)\n",
    "print(90 - angle_x_1, angle_y_1)\n",
    "print(\"for the 2d case we actually only have 1 rotation to worry about\")"
   ],
   "metadata": {
    "collapsed": false,
    "pycharm": {
     "name": "#%%\n",
     "is_executing": false
    }
   }
  },
  {
   "cell_type": "markdown",
   "source": [
    "okay that seems reasonable, is there an easier way to recover those angles? \n",
    "yes, we actually didn't need to do anything:"
   ],
   "metadata": {
    "collapsed": false,
    "pycharm": {
     "name": "#%% md\n"
    }
   }
  },
  {
   "cell_type": "code",
   "execution_count": 7,
   "outputs": [
    {
     "data": {
      "text/plain": "array([[ 48.20205511,  30.97367   ],\n       [ 30.97367   , -48.20205511]])"
     },
     "metadata": {},
     "output_type": "execute_result",
     "execution_count": 7
    }
   ],
   "source": [
    "angles_from_pca = pca.components_\n",
    "np.degrees(-angles_from_pca)"
   ],
   "metadata": {
    "collapsed": false,
    "pycharm": {
     "name": "#%%\n",
     "is_executing": false
    }
   }
  },
  {
   "cell_type": "markdown",
   "source": [
    "## plot to prove"
   ],
   "metadata": {
    "collapsed": false,
    "pycharm": {
     "name": "#%% md\n",
     "is_executing": false
    }
   }
  },
  {
   "cell_type": "code",
   "execution_count": 8,
   "outputs": [
    {
     "data": {
      "text/plain": "<Figure size 432x288 with 1 Axes>",
      "image/png": "[encoded data removed]"
     },
     "metadata": {
      "needs_background": "light"
     },
     "output_type": "display_data"
    }
   ],
   "source": [
    "# plot input anisotropic data\n",
    "plt.scatter(X[:, 0], X[:, 1], label='anisotropic')\n",
    "\n",
    "# plot the data as transformed by pca\n",
    "Xpca = pca.transform(X)\n",
    "plt.scatter(Xpca[:, 0], Xpca[:, 1], label='pca isotropic-ish', s=80)\n",
    "\n",
    "# plot the transformed data\n",
    "Xt = np.matmul(pca.components_, X.T).T\n",
    "plt.scatter(Xt[:, 0], Xt[:, 1], label='rotated isotropic-ish (angle from pca)', s=40)\n",
    "plt.legend()\n",
    "plt.axis('equal');"
   ],
   "metadata": {
    "collapsed": false,
    "pycharm": {
     "name": "#%% \n",
     "is_executing": false
    }
   }
  },
  {
   "cell_type": "markdown",
   "source": [
    "## 3d case\n",
    "\n",
    "we will rotate our data by 30 degrees around the z axis counter clockwise and 20 degrees on x axis\n"
   ],
   "metadata": {
    "collapsed": false
   }
  },
  {
   "cell_type": "code",
   "execution_count": 9,
   "outputs": [
    {
     "data": {
      "text/plain": "'1.4.1'"
     },
     "metadata": {},
     "output_type": "execute_result",
     "execution_count": 9
    }
   ],
   "source": [
    "import scipy \n",
    "scipy.__version__"
   ],
   "metadata": {
    "collapsed": false,
    "pycharm": {
     "name": "#%%\n",
     "is_executing": false
    }
   }
  },
  {
   "cell_type": "code",
   "execution_count": 11,
   "outputs": [
    {
     "data": {
      "text/plain": "array([[ 0.8660254, -0.5      ,  0.       ],\n       [ 0.5      ,  0.8660254,  0.       ],\n       [ 0.       ,  0.       ,  1.       ]])"
     },
     "metadata": {},
     "output_type": "execute_result",
     "execution_count": 11
    }
   ],
   "source": [
    "Rotation.from_euler('zxy', [30, 0, 0], degrees=True).as_matrix()"
   ],
   "metadata": {
    "collapsed": false,
    "pycharm": {
     "name": "#%%\n",
     "is_executing": false
    }
   }
  },
  {
   "cell_type": "code",
   "execution_count": 12,
   "outputs": [
    {
     "data": {
      "text/plain": "array([[ 1.        ,  0.        ,  0.        ],\n       [ 0.        ,  0.93969262, -0.34202014],\n       [ 0.        ,  0.34202014,  0.93969262]])"
     },
     "metadata": {},
     "output_type": "execute_result",
     "execution_count": 12
    }
   ],
   "source": [
    "Rotation.from_euler('zxy', [0, 20, 0], degrees=True).as_matrix()"
   ],
   "metadata": {
    "collapsed": false,
    "pycharm": {
     "name": "#%%\n",
     "is_executing": false
    }
   }
  },
  {
   "cell_type": "code",
   "execution_count": 83,
   "outputs": [
    {
     "data": {
      "text/plain": "<Figure size 432x288 with 1 Axes>",
      "image/png": "[encoded data removed]"
     },
     "metadata": {
      "needs_background": "light"
     },
     "output_type": "display_data"
    },
    {
     "data": {
      "text/plain": "<Figure size 432x288 with 1 Axes>",
      "image/png": "[encoded data removed]"
     },
     "metadata": {
      "needs_background": "light"
     },
     "output_type": "display_data"
    }
   ],
   "source": [
    "rng = np.random.RandomState(1)\n",
    "r = Rotation.from_euler('zyx', [30, 0, 20], degrees=True)\n",
    "true_rotation = r.as_matrix()\n",
    "points = rng.randn(3, 200)\n",
    "x1 = rng.normal(scale=10, size=200)\n",
    "x2 = rng.normal(scale=1, size=200)\n",
    "x3 = rng.normal(scale=2, size=200)\n",
    "x1 = x1-np.mean(x1)\n",
    "x2 = x2-np.mean(x2)\n",
    "x3 = x3-np.mean(x3)\n",
    "X = r.apply(np.array([x1,x2,x3]).T)\n",
    "plt.scatter(X[:, 0], X[:, 1])\n",
    "plt.title('x vs y')\n",
    "plt.axis('equal')\n",
    "plt.show()\n",
    "plt.scatter(X[:, 0], X[:, 2])\n",
    "plt.title('x vs z')\n",
    "plt.axis('equal')\n",
    "plt.show()"
   ],
   "metadata": {
    "collapsed": false,
    "pycharm": {
     "name": "#%%\n",
     "is_executing": false
    }
   }
  },
  {
   "cell_type": "code",
   "execution_count": 84,
   "outputs": [
    {
     "name": "stdout",
     "text": [
      "[[ 0.86750563  0.46595845  0.17411693]\n",
      " [ 0.01513154 -0.3745926   0.92706603]\n",
      " [ 0.49719717 -0.80160034 -0.33201186]]\n"
     ],
     "output_type": "stream"
    }
   ],
   "source": [
    "pca = PCA(n_components=3)\n",
    "pca.fit(X)\n",
    "pca.components_\n",
    "print(pca.components_)\n"
   ],
   "metadata": {
    "collapsed": false,
    "pycharm": {
     "name": "#%% \n",
     "is_executing": false
    }
   }
  },
  {
   "cell_type": "code",
   "execution_count": 85,
   "outputs": [
    {
     "data": {
      "text/plain": "array([[-49.70441113, -26.69745285,  -9.97616537],\n       [ -0.8669733 ,  21.46257492, -53.11697078],\n       [-28.4872993 ,  45.92831631,  19.02287805]])"
     },
     "metadata": {},
     "output_type": "execute_result",
     "execution_count": 85
    }
   ],
   "source": [
    "angles_from_pca = pca.components_\n",
    "np.degrees(-angles_from_pca)\n"
   ],
   "metadata": {
    "collapsed": false,
    "pycharm": {
     "name": "#%%\n",
     "is_executing": false
    }
   }
  },
  {
   "cell_type": "code",
   "execution_count": 86,
   "outputs": [
    {
     "data": {
      "text/plain": "(-31.33139097874664, 38.20517684012839, -7.515332634655594, 10.652476812303767)"
     },
     "metadata": {},
     "output_type": "execute_result",
     "execution_count": 86
    },
    {
     "data": {
      "text/plain": "<Figure size 720x216 with 2 Axes>",
      "image/png": "[encoded data removed]"
     },
     "metadata": {
      "needs_background": "light"
     },
     "output_type": "display_data"
    }
   ],
   "source": [
    "f, (ax1, ax2) = plt.subplots(1, 2, figsize=(10,3))\n",
    "# plot input anisotropic data\n",
    "ax1.scatter(X[:, 0], X[:, 1], label='anisotropic')\n",
    "ax2.scatter(X[:, 0], X[:, 2], label='anisotropic')\n",
    "# plot the data as transformed by pca\n",
    "Xpca = pca.transform(X)\n",
    "ax1.scatter(Xpca[:, 0], Xpca[:, 1], label='pca isotropic-ish', s=80)\n",
    "ax2.scatter(Xpca[:, 0], Xpca[:, 2], label='pca isotropic-ish', s=80)\n",
    "# plot the transformed data\n",
    "Xt = np.matmul(pca.components_, X.T).T\n",
    "ax1.scatter(Xt[:, 0], Xt[:, 1], label='rotated isotropic-ish (angle from pca)', s=40)\n",
    "ax2.scatter(Xt[:, 0], Xt[:, 2], label='rotated isotropic-ish (angle from pca)', s=40)\n",
    "ax1.legend()\n",
    "ax2.legend()\n",
    "ax1.axis('equal')\n",
    "ax2.axis('equal')\n"
   ],
   "metadata": {
    "collapsed": false,
    "pycharm": {
     "name": "#%%\n",
     "is_executing": false
    }
   }
  },
  {
   "cell_type": "code",
   "execution_count": 87,
   "outputs": [
    {
     "data": {
      "text/plain": "array([ -28.24133119,   10.02727314, -109.70406242])"
     },
     "metadata": {},
     "output_type": "execute_result",
     "execution_count": 87
    }
   ],
   "source": [
    "Rotation.from_matrix(pca.components_).as_euler('zyx', degrees=True)"
   ],
   "metadata": {
    "collapsed": false,
    "pycharm": {
     "name": "#%%\n",
     "is_executing": false
    }
   }
  },
  {
   "cell_type": "code",
   "execution_count": 88,
   "outputs": [
    {
     "data": {
      "text/plain": "array([[ 49.70441113,  26.69745285,   9.97616537],\n       [  0.8669733 , -21.46257492,  53.11697078],\n       [ 28.4872993 , -45.92831631, -19.02287805]])"
     },
     "metadata": {},
     "output_type": "execute_result",
     "execution_count": 88
    }
   ],
   "source": [
    "np.degrees(pca.components_)"
   ],
   "metadata": {
    "collapsed": false,
    "pycharm": {
     "name": "#%%\n",
     "is_executing": false
    }
   }
  },
  {
   "cell_type": "code",
   "execution_count": 89,
   "outputs": [
    {
     "data": {
      "text/plain": "array([[ 49.61960059, -28.64788976,   0.        ],\n       [ 26.92021061,  46.62717252, -19.59631072],\n       [  9.79815536,  16.9709029 ,  53.84042121]])"
     },
     "metadata": {},
     "output_type": "execute_result",
     "execution_count": 89
    }
   ],
   "source": [
    "np.degrees(r.as_matrix())"
   ],
   "metadata": {
    "collapsed": false,
    "pycharm": {
     "name": "#%%\n",
     "is_executing": false
    }
   }
  },
  {
   "cell_type": "code",
   "execution_count": 95,
   "outputs": [
    {
     "name": "stdout",
     "text": [
      "[-112.00178567    0.86700638  -29.81849823]\n",
      "[-112.49866528  -29.81473871    0.99928503]\n",
      "[-123.73369105  -53.28319642 -128.79644357]\n",
      "[  11.34903478  -27.7722692  -115.04696346]\n",
      "[ -28.24133119   10.02727314 -109.70406242]\n",
      "[177.68681441 -67.98198566 152.32614128]\n"
     ],
     "output_type": "stream"
    }
   ],
   "source": [
    "pca_r = Rotation.from_matrix(pca.components_)\n",
    "print(pca_r.as_euler('xzy', degrees=True))\n",
    "print(pca_r.as_euler('xyz', degrees=True))\n",
    "print(pca_r.as_euler('yxz', degrees=True))\n",
    "print(pca_r.as_euler('yzx', degrees=True))\n",
    "print(pca_r.as_euler('zyx', degrees=True))\n",
    "print(pca_r.as_euler('zxy', degrees=True))\n"
   ],
   "metadata": {
    "collapsed": false,
    "pycharm": {
     "name": "#%%\n",
     "is_executing": false
    }
   }
  },
  {
   "cell_type": "code",
   "execution_count": 106,
   "outputs": [
    {
     "data": {
      "text/plain": "<scipy.spatial.transform.rotation.Rotation at 0x12ef0b2b0>"
     },
     "metadata": {},
     "output_type": "execute_result",
     "execution_count": 106
    }
   ],
   "source": [
    "Rotation.from_euler('zyx', r.as_euler('zyx', degrees=True).reshape(1,-1))"
   ],
   "metadata": {
    "collapsed": false,
    "pycharm": {
     "name": "#%%\n",
     "is_executing": false
    }
   }
  },
  {
   "cell_type": "code",
   "execution_count": 104,
   "outputs": [
    {
     "data": {
      "text/plain": "array([[ 49.61960059,   0.        , -28.64788976],\n       [ 12.41122733, -13.31634269,  48.32983254],\n       [ 31.57005052,  50.55348566,  27.34867368]])"
     },
     "metadata": {},
     "output_type": "execute_result",
     "execution_count": 104
    }
   ],
   "source": [
    "_ = Rotation.from_euler('zyx', r.as_matrix())\n",
    "_.as_euler('zxy', degrees=True)"
   ],
   "metadata": {
    "collapsed": false,
    "pycharm": {
     "name": "#%%\n",
     "is_executing": false
    }
   }
  },
  {
   "cell_type": "code",
   "execution_count": 114,
   "outputs": [
    {
     "data": {
      "text/plain": "False"
     },
     "metadata": {},
     "output_type": "execute_result",
     "execution_count": 114
    }
   ],
   "source": [
    "\n",
    "\n"
   ],
   "metadata": {
    "collapsed": false,
    "pycharm": {
     "name": "#%%\n",
     "is_executing": false
    }
   }
  }
 ],
 "metadata": {
  "kernelspec": {
   "name": "gempy3",
   "language": "python",
   "display_name": "gempy3"
  },
  "language_info": {
   "codemirror_mode": {
    "name": "ipython",
    "version": 2
   },
   "file_extension": ".py",
   "mimetype": "text/x-python",
   "name": "python",
   "nbconvert_exporter": "python",
   "pygments_lexer": "ipython2",
   "version": "2.7.6"
  },
  "pycharm": {
   "stem_cell": {
    "cell_type": "raw",
    "source": [],
    "metadata": {
     "collapsed": false
    }
   }
  }
 },
 "nbformat": 4,
 "nbformat_minor": 0
}