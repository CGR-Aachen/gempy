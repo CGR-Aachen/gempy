{
 "cells": [
  {
   "cell_type": "markdown",
   "metadata": {},
   "source": [
    "# Chapter 3: Likelihood functions-Sandstone\n",
    "\n",
    "## Data Management\n",
    "\n",
    "\n",
    "In this example we will show how we can import data from a csv and generate a model with several depositional series."
   ]
  },
  {
   "cell_type": "code",
   "execution_count": 1,
   "metadata": {
    "scrolled": false
   },
   "outputs": [],
   "source": [
    "# These two lines are necessary only if gempy is not installed\n",
    "import sys, os\n",
    "sys.path.append(\"../\")\n",
    "\n",
    "# Importing gempy\n",
    "import gempy as gp\n",
    "\n",
    "# Embedding matplotlib figures into the notebooks\n",
    "%matplotlib notebook\n",
    "\n",
    "# Aux imports\n",
    "import numpy as np\n",
    "import pandas as pn"
   ]
  },
  {
   "cell_type": "markdown",
   "metadata": {},
   "source": [
    "In this case instead loading a geo_data object directly, we will create one. The main atributes we need to pass are:\n",
    "- Extent: X min, X max, Y min, Y max, Z min, Z max\n",
    "- Resolution: X,Y,Z\n",
    "\n",
    "Additionaly we can pass the address to csv files (GeoModeller3D format) with the data."
   ]
  },
  {
   "cell_type": "code",
   "execution_count": 2,
   "metadata": {},
   "outputs": [],
   "source": [
    "# Importing the data from csv files and settign extent and resolution\n",
    "# [696000-10000,747000 + 20600,6863000 - 20600,6950000 + 20600,-20000, 600]\n",
    "# 7.050000e+05, 6863000),  747000 - 7.050000e+05, 6925000 - 6863000\n",
    "geo_data = gp.create_data([7.050000e+05-20600,747000 + 20600,6863000 - 20600,6925000 + 20600,-20000, 600],\n",
    "                          [85,125,51],\n",
    "                         path_f = os.pardir+\"/input_data/a_Foliations.csv\",\n",
    "                         path_i = os.pardir+\"/input_data/a_Points.csv\")"
   ]
  },
  {
   "cell_type": "code",
   "execution_count": 3,
   "metadata": {
    "scrolled": false
   },
   "outputs": [
    {
     "data": {
      "text/html": [
       "<div>\n",
       "<style>\n",
       "    .dataframe thead tr:only-child th {\n",
       "        text-align: right;\n",
       "    }\n",
       "\n",
       "    .dataframe thead th {\n",
       "        text-align: left;\n",
       "    }\n",
       "\n",
       "    .dataframe tbody tr th {\n",
       "        vertical-align: top;\n",
       "    }\n",
       "</style>\n",
       "<table border=\"1\" class=\"dataframe\">\n",
       "  <thead>\n",
       "    <tr style=\"text-align: right;\">\n",
       "      <th></th>\n",
       "      <th></th>\n",
       "      <th>G_x</th>\n",
       "      <th>G_y</th>\n",
       "      <th>G_z</th>\n",
       "      <th>X</th>\n",
       "      <th>X_std</th>\n",
       "      <th>Y</th>\n",
       "      <th>Y_std</th>\n",
       "      <th>Z</th>\n",
       "      <th>Z_std</th>\n",
       "      <th>annotations</th>\n",
       "      <th>azimuth</th>\n",
       "      <th>azimuth_std</th>\n",
       "      <th>dip</th>\n",
       "      <th>dip_std</th>\n",
       "      <th>formation</th>\n",
       "      <th>formation number</th>\n",
       "      <th>isFault</th>\n",
       "      <th>order_series</th>\n",
       "      <th>polarity</th>\n",
       "      <th>series</th>\n",
       "    </tr>\n",
       "  </thead>\n",
       "  <tbody>\n",
       "    <tr>\n",
       "      <th rowspan=\"5\" valign=\"top\">interfaces</th>\n",
       "      <th>0</th>\n",
       "      <td>NaN</td>\n",
       "      <td>NaN</td>\n",
       "      <td>NaN</td>\n",
       "      <td>735485</td>\n",
       "      <td>0</td>\n",
       "      <td>6.89194e+06</td>\n",
       "      <td>0</td>\n",
       "      <td>-1819.32</td>\n",
       "      <td>750</td>\n",
       "      <td>${\\bf{x}}_{\\alpha \\,{\\bf{1}},0}$</td>\n",
       "      <td>NaN</td>\n",
       "      <td>NaN</td>\n",
       "      <td>NaN</td>\n",
       "      <td>NaN</td>\n",
       "      <td>SimpleMafic2</td>\n",
       "      <td>1</td>\n",
       "      <td>False</td>\n",
       "      <td>1</td>\n",
       "      <td>NaN</td>\n",
       "      <td>Default serie</td>\n",
       "    </tr>\n",
       "    <tr>\n",
       "      <th>1</th>\n",
       "      <td>NaN</td>\n",
       "      <td>NaN</td>\n",
       "      <td>NaN</td>\n",
       "      <td>719018</td>\n",
       "      <td>0</td>\n",
       "      <td>6.89222e+06</td>\n",
       "      <td>0</td>\n",
       "      <td>508.179</td>\n",
       "      <td>750</td>\n",
       "      <td>${\\bf{x}}_{\\alpha \\,{\\bf{1}},1}$</td>\n",
       "      <td>NaN</td>\n",
       "      <td>NaN</td>\n",
       "      <td>NaN</td>\n",
       "      <td>NaN</td>\n",
       "      <td>SimpleMafic2</td>\n",
       "      <td>1</td>\n",
       "      <td>False</td>\n",
       "      <td>1</td>\n",
       "      <td>NaN</td>\n",
       "      <td>Default serie</td>\n",
       "    </tr>\n",
       "    <tr>\n",
       "      <th>2</th>\n",
       "      <td>NaN</td>\n",
       "      <td>NaN</td>\n",
       "      <td>NaN</td>\n",
       "      <td>716850</td>\n",
       "      <td>0</td>\n",
       "      <td>6.88736e+06</td>\n",
       "      <td>0</td>\n",
       "      <td>508.982</td>\n",
       "      <td>750</td>\n",
       "      <td>${\\bf{x}}_{\\alpha \\,{\\bf{1}},2}$</td>\n",
       "      <td>NaN</td>\n",
       "      <td>NaN</td>\n",
       "      <td>NaN</td>\n",
       "      <td>NaN</td>\n",
       "      <td>SimpleMafic2</td>\n",
       "      <td>1</td>\n",
       "      <td>False</td>\n",
       "      <td>1</td>\n",
       "      <td>NaN</td>\n",
       "      <td>Default serie</td>\n",
       "    </tr>\n",
       "    <tr>\n",
       "      <th>3</th>\n",
       "      <td>NaN</td>\n",
       "      <td>NaN</td>\n",
       "      <td>NaN</td>\n",
       "      <td>732699</td>\n",
       "      <td>0</td>\n",
       "      <td>6.88504e+06</td>\n",
       "      <td>0</td>\n",
       "      <td>494.526</td>\n",
       "      <td>750</td>\n",
       "      <td>${\\bf{x}}_{\\alpha \\,{\\bf{1}},3}$</td>\n",
       "      <td>NaN</td>\n",
       "      <td>NaN</td>\n",
       "      <td>NaN</td>\n",
       "      <td>NaN</td>\n",
       "      <td>SimpleMafic2</td>\n",
       "      <td>1</td>\n",
       "      <td>False</td>\n",
       "      <td>1</td>\n",
       "      <td>NaN</td>\n",
       "      <td>Default serie</td>\n",
       "    </tr>\n",
       "    <tr>\n",
       "      <th>4</th>\n",
       "      <td>NaN</td>\n",
       "      <td>NaN</td>\n",
       "      <td>NaN</td>\n",
       "      <td>727316</td>\n",
       "      <td>0</td>\n",
       "      <td>6.88646e+06</td>\n",
       "      <td>0</td>\n",
       "      <td>478.254</td>\n",
       "      <td>750</td>\n",
       "      <td>${\\bf{x}}_{\\alpha \\,{\\bf{1}},4}$</td>\n",
       "      <td>NaN</td>\n",
       "      <td>NaN</td>\n",
       "      <td>NaN</td>\n",
       "      <td>NaN</td>\n",
       "      <td>SimpleMafic2</td>\n",
       "      <td>1</td>\n",
       "      <td>False</td>\n",
       "      <td>1</td>\n",
       "      <td>NaN</td>\n",
       "      <td>Default serie</td>\n",
       "    </tr>\n",
       "  </tbody>\n",
       "</table>\n",
       "</div>"
      ],
      "text/plain": [
       "              G_x  G_y  G_z       X X_std            Y Y_std        Z Z_std  \\\n",
       "interfaces 0  NaN  NaN  NaN  735485     0  6.89194e+06     0 -1819.32   750   \n",
       "           1  NaN  NaN  NaN  719018     0  6.89222e+06     0  508.179   750   \n",
       "           2  NaN  NaN  NaN  716850     0  6.88736e+06     0  508.982   750   \n",
       "           3  NaN  NaN  NaN  732699     0  6.88504e+06     0  494.526   750   \n",
       "           4  NaN  NaN  NaN  727316     0  6.88646e+06     0  478.254   750   \n",
       "\n",
       "                                   annotations azimuth azimuth_std  dip  \\\n",
       "interfaces 0  ${\\bf{x}}_{\\alpha \\,{\\bf{1}},0}$     NaN         NaN  NaN   \n",
       "           1  ${\\bf{x}}_{\\alpha \\,{\\bf{1}},1}$     NaN         NaN  NaN   \n",
       "           2  ${\\bf{x}}_{\\alpha \\,{\\bf{1}},2}$     NaN         NaN  NaN   \n",
       "           3  ${\\bf{x}}_{\\alpha \\,{\\bf{1}},3}$     NaN         NaN  NaN   \n",
       "           4  ${\\bf{x}}_{\\alpha \\,{\\bf{1}},4}$     NaN         NaN  NaN   \n",
       "\n",
       "             dip_std     formation formation number isFault order_series  \\\n",
       "interfaces 0     NaN  SimpleMafic2                1   False            1   \n",
       "           1     NaN  SimpleMafic2                1   False            1   \n",
       "           2     NaN  SimpleMafic2                1   False            1   \n",
       "           3     NaN  SimpleMafic2                1   False            1   \n",
       "           4     NaN  SimpleMafic2                1   False            1   \n",
       "\n",
       "             polarity         series  \n",
       "interfaces 0      NaN  Default serie  \n",
       "           1      NaN  Default serie  \n",
       "           2      NaN  Default serie  \n",
       "           3      NaN  Default serie  \n",
       "           4      NaN  Default serie  "
      ]
     },
     "execution_count": 3,
     "metadata": {},
     "output_type": "execute_result"
    }
   ],
   "source": [
    "\n",
    "geo_data.interfaces['Z_std'] = 0\n",
    "geo_data.interfaces['Y_std'] = 0\n",
    "geo_data.interfaces['X_std'] = 0\n",
    "\n",
    "\n",
    "geo_data.interfaces.set_value(geo_data.interfaces['formation'] == 'EarlyGranite', 'Z_std', 500)\n",
    "geo_data.interfaces.set_value(geo_data.interfaces['formation'] == 'SimpleMafic2', 'Z_std', 750)\n",
    "geo_data.interfaces.set_value(geo_data.interfaces['formation'] == 'SimpleBIF', 'Z_std', 1500)\n",
    "geo_data.interfaces.set_value(geo_data.interfaces['formation'] == 'SimpleMafic1', 'Z_std', 1500)\n",
    "\n",
    "geo_data.foliations['dip_std'] = 10\n",
    "geo_data.foliations['azimuth_std'] = 10\n",
    "gp.get_data(geo_data, verbosity=3).head()"
   ]
  },
  {
   "cell_type": "code",
   "execution_count": 6,
   "metadata": {},
   "outputs": [
    {
     "data": {
      "text/plain": [
       "X                                             697047\n",
       "Y                                        6.86921e+06\n",
       "Z                                           -8458.17\n",
       "formation                               EarlyGranite\n",
       "series                                 Default serie\n",
       "order_series                                       1\n",
       "isFault                                        False\n",
       "formation number                                   1\n",
       "annotations         ${\\bf{x}}_{\\alpha \\,{\\bf{1}},0}$\n",
       "Z_std                                            500\n",
       "Y_std                                              0\n",
       "X_std                                              0\n",
       "dtype: object"
      ]
     },
     "execution_count": 6,
     "metadata": {},
     "output_type": "execute_result"
    }
   ],
   "source": [
    "geo_data.interfaces.min()"
   ]
  },
  {
   "cell_type": "markdown",
   "metadata": {},
   "source": [
    "'You can visualize the points in 3D (work in progress)"
   ]
  },
  {
   "cell_type": "markdown",
   "metadata": {},
   "source": [
    "Or a projection in 2D:"
   ]
  },
  {
   "cell_type": "markdown",
   "metadata": {},
   "source": [
    "## Computing the model"
   ]
  },
  {
   "cell_type": "code",
   "execution_count": 4,
   "metadata": {},
   "outputs": [
    {
     "data": {
      "application/javascript": [
       "/* Put everything inside the global mpl namespace */\n",
       "window.mpl = {};\n",
       "\n",
       "\n",
       "mpl.get_websocket_type = function() {\n",
       "    if (typeof(WebSocket) !== 'undefined') {\n",
       "        return WebSocket;\n",
       "    } else if (typeof(MozWebSocket) !== 'undefined') {\n",
       "        return MozWebSocket;\n",
       "    } else {\n",
       "        alert('Your browser does not have WebSocket support.' +\n",
       "              'Please try Chrome, Safari or Firefox ≥ 6. ' +\n",
       "              'Firefox 4 and 5 are also supported but you ' +\n",
       "              'have to enable WebSockets in about:config.');\n",
       "    };\n",
       "}\n",
       "\n",
       "mpl.figure = function(figure_id, websocket, ondownload, parent_element) {\n",
       "    this.id = figure_id;\n",
       "\n",
       "    this.ws = websocket;\n",
       "\n",
       "    this.supports_binary = (this.ws.binaryType != undefined);\n",
       "\n",
       "    if (!this.supports_binary) {\n",
       "        var warnings = document.getElementById(\"mpl-warnings\");\n",
       "        if (warnings) {\n",
       "            warnings.style.display = 'block';\n",
       "            warnings.textContent = (\n",
       "                \"This browser does not support binary websocket messages. \" +\n",
       "                    \"Performance may be slow.\");\n",
       "        }\n",
       "    }\n",
       "\n",
       "    this.imageObj = new Image();\n",
       "\n",
       "    this.context = undefined;\n",
       "    this.message = undefined;\n",
       "    this.canvas = undefined;\n",
       "    this.rubberband_canvas = undefined;\n",
       "    this.rubberband_context = undefined;\n",
       "    this.format_dropdown = undefined;\n",
       "\n",
       "    this.image_mode = 'full';\n",
       "\n",
       "    this.root = $('<div/>');\n",
       "    this._root_extra_style(this.root)\n",
       "    this.root.attr('style', 'display: inline-block');\n",
       "\n",
       "    $(parent_element).append(this.root);\n",
       "\n",
       "    this._init_header(this);\n",
       "    this._init_canvas(this);\n",
       "    this._init_toolbar(this);\n",
       "\n",
       "    var fig = this;\n",
       "\n",
       "    this.waiting = false;\n",
       "\n",
       "    this.ws.onopen =  function () {\n",
       "            fig.send_message(\"supports_binary\", {value: fig.supports_binary});\n",
       "            fig.send_message(\"send_image_mode\", {});\n",
       "            if (mpl.ratio != 1) {\n",
       "                fig.send_message(\"set_dpi_ratio\", {'dpi_ratio': mpl.ratio});\n",
       "            }\n",
       "            fig.send_message(\"refresh\", {});\n",
       "        }\n",
       "\n",
       "    this.imageObj.onload = function() {\n",
       "            if (fig.image_mode == 'full') {\n",
       "                // Full images could contain transparency (where diff images\n",
       "                // almost always do), so we need to clear the canvas so that\n",
       "                // there is no ghosting.\n",
       "                fig.context.clearRect(0, 0, fig.canvas.width, fig.canvas.height);\n",
       "            }\n",
       "            fig.context.drawImage(fig.imageObj, 0, 0);\n",
       "        };\n",
       "\n",
       "    this.imageObj.onunload = function() {\n",
       "        fig.ws.close();\n",
       "    }\n",
       "\n",
       "    this.ws.onmessage = this._make_on_message_function(this);\n",
       "\n",
       "    this.ondownload = ondownload;\n",
       "}\n",
       "\n",
       "mpl.figure.prototype._init_header = function() {\n",
       "    var titlebar = $(\n",
       "        '<div class=\"ui-dialog-titlebar ui-widget-header ui-corner-all ' +\n",
       "        'ui-helper-clearfix\"/>');\n",
       "    var titletext = $(\n",
       "        '<div class=\"ui-dialog-title\" style=\"width: 100%; ' +\n",
       "        'text-align: center; padding: 3px;\"/>');\n",
       "    titlebar.append(titletext)\n",
       "    this.root.append(titlebar);\n",
       "    this.header = titletext[0];\n",
       "}\n",
       "\n",
       "\n",
       "\n",
       "mpl.figure.prototype._canvas_extra_style = function(canvas_div) {\n",
       "\n",
       "}\n",
       "\n",
       "\n",
       "mpl.figure.prototype._root_extra_style = function(canvas_div) {\n",
       "\n",
       "}\n",
       "\n",
       "mpl.figure.prototype._init_canvas = function() {\n",
       "    var fig = this;\n",
       "\n",
       "    var canvas_div = $('<div/>');\n",
       "\n",
       "    canvas_div.attr('style', 'position: relative; clear: both; outline: 0');\n",
       "\n",
       "    function canvas_keyboard_event(event) {\n",
       "        return fig.key_event(event, event['data']);\n",
       "    }\n",
       "\n",
       "    canvas_div.keydown('key_press', canvas_keyboard_event);\n",
       "    canvas_div.keyup('key_release', canvas_keyboard_event);\n",
       "    this.canvas_div = canvas_div\n",
       "    this._canvas_extra_style(canvas_div)\n",
       "    this.root.append(canvas_div);\n",
       "\n",
       "    var canvas = $('<canvas/>');\n",
       "    canvas.addClass('mpl-canvas');\n",
       "    canvas.attr('style', \"left: 0; top: 0; z-index: 0; outline: 0\")\n",
       "\n",
       "    this.canvas = canvas[0];\n",
       "    this.context = canvas[0].getContext(\"2d\");\n",
       "\n",
       "    var backingStore = this.context.backingStorePixelRatio ||\n",
       "\tthis.context.webkitBackingStorePixelRatio ||\n",
       "\tthis.context.mozBackingStorePixelRatio ||\n",
       "\tthis.context.msBackingStorePixelRatio ||\n",
       "\tthis.context.oBackingStorePixelRatio ||\n",
       "\tthis.context.backingStorePixelRatio || 1;\n",
       "\n",
       "    mpl.ratio = (window.devicePixelRatio || 1) / backingStore;\n",
       "\n",
       "    var rubberband = $('<canvas/>');\n",
       "    rubberband.attr('style', \"position: absolute; left: 0; top: 0; z-index: 1;\")\n",
       "\n",
       "    var pass_mouse_events = true;\n",
       "\n",
       "    canvas_div.resizable({\n",
       "        start: function(event, ui) {\n",
       "            pass_mouse_events = false;\n",
       "        },\n",
       "        resize: function(event, ui) {\n",
       "            fig.request_resize(ui.size.width, ui.size.height);\n",
       "        },\n",
       "        stop: function(event, ui) {\n",
       "            pass_mouse_events = true;\n",
       "            fig.request_resize(ui.size.width, ui.size.height);\n",
       "        },\n",
       "    });\n",
       "\n",
       "    function mouse_event_fn(event) {\n",
       "        if (pass_mouse_events)\n",
       "            return fig.mouse_event(event, event['data']);\n",
       "    }\n",
       "\n",
       "    rubberband.mousedown('button_press', mouse_event_fn);\n",
       "    rubberband.mouseup('button_release', mouse_event_fn);\n",
       "    // Throttle sequential mouse events to 1 every 20ms.\n",
       "    rubberband.mousemove('motion_notify', mouse_event_fn);\n",
       "\n",
       "    rubberband.mouseenter('figure_enter', mouse_event_fn);\n",
       "    rubberband.mouseleave('figure_leave', mouse_event_fn);\n",
       "\n",
       "    canvas_div.on(\"wheel\", function (event) {\n",
       "        event = event.originalEvent;\n",
       "        event['data'] = 'scroll'\n",
       "        if (event.deltaY < 0) {\n",
       "            event.step = 1;\n",
       "        } else {\n",
       "            event.step = -1;\n",
       "        }\n",
       "        mouse_event_fn(event);\n",
       "    });\n",
       "\n",
       "    canvas_div.append(canvas);\n",
       "    canvas_div.append(rubberband);\n",
       "\n",
       "    this.rubberband = rubberband;\n",
       "    this.rubberband_canvas = rubberband[0];\n",
       "    this.rubberband_context = rubberband[0].getContext(\"2d\");\n",
       "    this.rubberband_context.strokeStyle = \"#000000\";\n",
       "\n",
       "    this._resize_canvas = function(width, height) {\n",
       "        // Keep the size of the canvas, canvas container, and rubber band\n",
       "        // canvas in synch.\n",
       "        canvas_div.css('width', width)\n",
       "        canvas_div.css('height', height)\n",
       "\n",
       "        canvas.attr('width', width * mpl.ratio);\n",
       "        canvas.attr('height', height * mpl.ratio);\n",
       "        canvas.attr('style', 'width: ' + width + 'px; height: ' + height + 'px;');\n",
       "\n",
       "        rubberband.attr('width', width);\n",
       "        rubberband.attr('height', height);\n",
       "    }\n",
       "\n",
       "    // Set the figure to an initial 600x600px, this will subsequently be updated\n",
       "    // upon first draw.\n",
       "    this._resize_canvas(600, 600);\n",
       "\n",
       "    // Disable right mouse context menu.\n",
       "    $(this.rubberband_canvas).bind(\"contextmenu\",function(e){\n",
       "        return false;\n",
       "    });\n",
       "\n",
       "    function set_focus () {\n",
       "        canvas.focus();\n",
       "        canvas_div.focus();\n",
       "    }\n",
       "\n",
       "    window.setTimeout(set_focus, 100);\n",
       "}\n",
       "\n",
       "mpl.figure.prototype._init_toolbar = function() {\n",
       "    var fig = this;\n",
       "\n",
       "    var nav_element = $('<div/>')\n",
       "    nav_element.attr('style', 'width: 100%');\n",
       "    this.root.append(nav_element);\n",
       "\n",
       "    // Define a callback function for later on.\n",
       "    function toolbar_event(event) {\n",
       "        return fig.toolbar_button_onclick(event['data']);\n",
       "    }\n",
       "    function toolbar_mouse_event(event) {\n",
       "        return fig.toolbar_button_onmouseover(event['data']);\n",
       "    }\n",
       "\n",
       "    for(var toolbar_ind in mpl.toolbar_items) {\n",
       "        var name = mpl.toolbar_items[toolbar_ind][0];\n",
       "        var tooltip = mpl.toolbar_items[toolbar_ind][1];\n",
       "        var image = mpl.toolbar_items[toolbar_ind][2];\n",
       "        var method_name = mpl.toolbar_items[toolbar_ind][3];\n",
       "\n",
       "        if (!name) {\n",
       "            // put a spacer in here.\n",
       "            continue;\n",
       "        }\n",
       "        var button = $('<button/>');\n",
       "        button.addClass('ui-button ui-widget ui-state-default ui-corner-all ' +\n",
       "                        'ui-button-icon-only');\n",
       "        button.attr('role', 'button');\n",
       "        button.attr('aria-disabled', 'false');\n",
       "        button.click(method_name, toolbar_event);\n",
       "        button.mouseover(tooltip, toolbar_mouse_event);\n",
       "\n",
       "        var icon_img = $('<span/>');\n",
       "        icon_img.addClass('ui-button-icon-primary ui-icon');\n",
       "        icon_img.addClass(image);\n",
       "        icon_img.addClass('ui-corner-all');\n",
       "\n",
       "        var tooltip_span = $('<span/>');\n",
       "        tooltip_span.addClass('ui-button-text');\n",
       "        tooltip_span.html(tooltip);\n",
       "\n",
       "        button.append(icon_img);\n",
       "        button.append(tooltip_span);\n",
       "\n",
       "        nav_element.append(button);\n",
       "    }\n",
       "\n",
       "    var fmt_picker_span = $('<span/>');\n",
       "\n",
       "    var fmt_picker = $('<select/>');\n",
       "    fmt_picker.addClass('mpl-toolbar-option ui-widget ui-widget-content');\n",
       "    fmt_picker_span.append(fmt_picker);\n",
       "    nav_element.append(fmt_picker_span);\n",
       "    this.format_dropdown = fmt_picker[0];\n",
       "\n",
       "    for (var ind in mpl.extensions) {\n",
       "        var fmt = mpl.extensions[ind];\n",
       "        var option = $(\n",
       "            '<option/>', {selected: fmt === mpl.default_extension}).html(fmt);\n",
       "        fmt_picker.append(option)\n",
       "    }\n",
       "\n",
       "    // Add hover states to the ui-buttons\n",
       "    $( \".ui-button\" ).hover(\n",
       "        function() { $(this).addClass(\"ui-state-hover\");},\n",
       "        function() { $(this).removeClass(\"ui-state-hover\");}\n",
       "    );\n",
       "\n",
       "    var status_bar = $('<span class=\"mpl-message\"/>');\n",
       "    nav_element.append(status_bar);\n",
       "    this.message = status_bar[0];\n",
       "}\n",
       "\n",
       "mpl.figure.prototype.request_resize = function(x_pixels, y_pixels) {\n",
       "    // Request matplotlib to resize the figure. Matplotlib will then trigger a resize in the client,\n",
       "    // which will in turn request a refresh of the image.\n",
       "    this.send_message('resize', {'width': x_pixels, 'height': y_pixels});\n",
       "}\n",
       "\n",
       "mpl.figure.prototype.send_message = function(type, properties) {\n",
       "    properties['type'] = type;\n",
       "    properties['figure_id'] = this.id;\n",
       "    this.ws.send(JSON.stringify(properties));\n",
       "}\n",
       "\n",
       "mpl.figure.prototype.send_draw_message = function() {\n",
       "    if (!this.waiting) {\n",
       "        this.waiting = true;\n",
       "        this.ws.send(JSON.stringify({type: \"draw\", figure_id: this.id}));\n",
       "    }\n",
       "}\n",
       "\n",
       "\n",
       "mpl.figure.prototype.handle_save = function(fig, msg) {\n",
       "    var format_dropdown = fig.format_dropdown;\n",
       "    var format = format_dropdown.options[format_dropdown.selectedIndex].value;\n",
       "    fig.ondownload(fig, format);\n",
       "}\n",
       "\n",
       "\n",
       "mpl.figure.prototype.handle_resize = function(fig, msg) {\n",
       "    var size = msg['size'];\n",
       "    if (size[0] != fig.canvas.width || size[1] != fig.canvas.height) {\n",
       "        fig._resize_canvas(size[0], size[1]);\n",
       "        fig.send_message(\"refresh\", {});\n",
       "    };\n",
       "}\n",
       "\n",
       "mpl.figure.prototype.handle_rubberband = function(fig, msg) {\n",
       "    var x0 = msg['x0'] / mpl.ratio;\n",
       "    var y0 = (fig.canvas.height - msg['y0']) / mpl.ratio;\n",
       "    var x1 = msg['x1'] / mpl.ratio;\n",
       "    var y1 = (fig.canvas.height - msg['y1']) / mpl.ratio;\n",
       "    x0 = Math.floor(x0) + 0.5;\n",
       "    y0 = Math.floor(y0) + 0.5;\n",
       "    x1 = Math.floor(x1) + 0.5;\n",
       "    y1 = Math.floor(y1) + 0.5;\n",
       "    var min_x = Math.min(x0, x1);\n",
       "    var min_y = Math.min(y0, y1);\n",
       "    var width = Math.abs(x1 - x0);\n",
       "    var height = Math.abs(y1 - y0);\n",
       "\n",
       "    fig.rubberband_context.clearRect(\n",
       "        0, 0, fig.canvas.width, fig.canvas.height);\n",
       "\n",
       "    fig.rubberband_context.strokeRect(min_x, min_y, width, height);\n",
       "}\n",
       "\n",
       "mpl.figure.prototype.handle_figure_label = function(fig, msg) {\n",
       "    // Updates the figure title.\n",
       "    fig.header.textContent = msg['label'];\n",
       "}\n",
       "\n",
       "mpl.figure.prototype.handle_cursor = function(fig, msg) {\n",
       "    var cursor = msg['cursor'];\n",
       "    switch(cursor)\n",
       "    {\n",
       "    case 0:\n",
       "        cursor = 'pointer';\n",
       "        break;\n",
       "    case 1:\n",
       "        cursor = 'default';\n",
       "        break;\n",
       "    case 2:\n",
       "        cursor = 'crosshair';\n",
       "        break;\n",
       "    case 3:\n",
       "        cursor = 'move';\n",
       "        break;\n",
       "    }\n",
       "    fig.rubberband_canvas.style.cursor = cursor;\n",
       "}\n",
       "\n",
       "mpl.figure.prototype.handle_message = function(fig, msg) {\n",
       "    fig.message.textContent = msg['message'];\n",
       "}\n",
       "\n",
       "mpl.figure.prototype.handle_draw = function(fig, msg) {\n",
       "    // Request the server to send over a new figure.\n",
       "    fig.send_draw_message();\n",
       "}\n",
       "\n",
       "mpl.figure.prototype.handle_image_mode = function(fig, msg) {\n",
       "    fig.image_mode = msg['mode'];\n",
       "}\n",
       "\n",
       "mpl.figure.prototype.updated_canvas_event = function() {\n",
       "    // Called whenever the canvas gets updated.\n",
       "    this.send_message(\"ack\", {});\n",
       "}\n",
       "\n",
       "// A function to construct a web socket function for onmessage handling.\n",
       "// Called in the figure constructor.\n",
       "mpl.figure.prototype._make_on_message_function = function(fig) {\n",
       "    return function socket_on_message(evt) {\n",
       "        if (evt.data instanceof Blob) {\n",
       "            /* FIXME: We get \"Resource interpreted as Image but\n",
       "             * transferred with MIME type text/plain:\" errors on\n",
       "             * Chrome.  But how to set the MIME type?  It doesn't seem\n",
       "             * to be part of the websocket stream */\n",
       "            evt.data.type = \"image/png\";\n",
       "\n",
       "            /* Free the memory for the previous frames */\n",
       "            if (fig.imageObj.src) {\n",
       "                (window.URL || window.webkitURL).revokeObjectURL(\n",
       "                    fig.imageObj.src);\n",
       "            }\n",
       "\n",
       "            fig.imageObj.src = (window.URL || window.webkitURL).createObjectURL(\n",
       "                evt.data);\n",
       "            fig.updated_canvas_event();\n",
       "            fig.waiting = false;\n",
       "            return;\n",
       "        }\n",
       "        else if (typeof evt.data === 'string' && evt.data.slice(0, 21) == \"data:image/png;base64\") {\n",
       "            fig.imageObj.src = evt.data;\n",
       "            fig.updated_canvas_event();\n",
       "            fig.waiting = false;\n",
       "            return;\n",
       "        }\n",
       "\n",
       "        var msg = JSON.parse(evt.data);\n",
       "        var msg_type = msg['type'];\n",
       "\n",
       "        // Call the  \"handle_{type}\" callback, which takes\n",
       "        // the figure and JSON message as its only arguments.\n",
       "        try {\n",
       "            var callback = fig[\"handle_\" + msg_type];\n",
       "        } catch (e) {\n",
       "            console.log(\"No handler for the '\" + msg_type + \"' message type: \", msg);\n",
       "            return;\n",
       "        }\n",
       "\n",
       "        if (callback) {\n",
       "            try {\n",
       "                // console.log(\"Handling '\" + msg_type + \"' message: \", msg);\n",
       "                callback(fig, msg);\n",
       "            } catch (e) {\n",
       "                console.log(\"Exception inside the 'handler_\" + msg_type + \"' callback:\", e, e.stack, msg);\n",
       "            }\n",
       "        }\n",
       "    };\n",
       "}\n",
       "\n",
       "// from http://stackoverflow.com/questions/1114465/getting-mouse-location-in-canvas\n",
       "mpl.findpos = function(e) {\n",
       "    //this section is from http://www.quirksmode.org/js/events_properties.html\n",
       "    var targ;\n",
       "    if (!e)\n",
       "        e = window.event;\n",
       "    if (e.target)\n",
       "        targ = e.target;\n",
       "    else if (e.srcElement)\n",
       "        targ = e.srcElement;\n",
       "    if (targ.nodeType == 3) // defeat Safari bug\n",
       "        targ = targ.parentNode;\n",
       "\n",
       "    // jQuery normalizes the pageX and pageY\n",
       "    // pageX,Y are the mouse positions relative to the document\n",
       "    // offset() returns the position of the element relative to the document\n",
       "    var x = e.pageX - $(targ).offset().left;\n",
       "    var y = e.pageY - $(targ).offset().top;\n",
       "\n",
       "    return {\"x\": x, \"y\": y};\n",
       "};\n",
       "\n",
       "/*\n",
       " * return a copy of an object with only non-object keys\n",
       " * we need this to avoid circular references\n",
       " * http://stackoverflow.com/a/24161582/3208463\n",
       " */\n",
       "function simpleKeys (original) {\n",
       "  return Object.keys(original).reduce(function (obj, key) {\n",
       "    if (typeof original[key] !== 'object')\n",
       "        obj[key] = original[key]\n",
       "    return obj;\n",
       "  }, {});\n",
       "}\n",
       "\n",
       "mpl.figure.prototype.mouse_event = function(event, name) {\n",
       "    var canvas_pos = mpl.findpos(event)\n",
       "\n",
       "    if (name === 'button_press')\n",
       "    {\n",
       "        this.canvas.focus();\n",
       "        this.canvas_div.focus();\n",
       "    }\n",
       "\n",
       "    var x = canvas_pos.x * mpl.ratio;\n",
       "    var y = canvas_pos.y * mpl.ratio;\n",
       "\n",
       "    this.send_message(name, {x: x, y: y, button: event.button,\n",
       "                             step: event.step,\n",
       "                             guiEvent: simpleKeys(event)});\n",
       "\n",
       "    /* This prevents the web browser from automatically changing to\n",
       "     * the text insertion cursor when the button is pressed.  We want\n",
       "     * to control all of the cursor setting manually through the\n",
       "     * 'cursor' event from matplotlib */\n",
       "    event.preventDefault();\n",
       "    return false;\n",
       "}\n",
       "\n",
       "mpl.figure.prototype._key_event_extra = function(event, name) {\n",
       "    // Handle any extra behaviour associated with a key event\n",
       "}\n",
       "\n",
       "mpl.figure.prototype.key_event = function(event, name) {\n",
       "\n",
       "    // Prevent repeat events\n",
       "    if (name == 'key_press')\n",
       "    {\n",
       "        if (event.which === this._key)\n",
       "            return;\n",
       "        else\n",
       "            this._key = event.which;\n",
       "    }\n",
       "    if (name == 'key_release')\n",
       "        this._key = null;\n",
       "\n",
       "    var value = '';\n",
       "    if (event.ctrlKey && event.which != 17)\n",
       "        value += \"ctrl+\";\n",
       "    if (event.altKey && event.which != 18)\n",
       "        value += \"alt+\";\n",
       "    if (event.shiftKey && event.which != 16)\n",
       "        value += \"shift+\";\n",
       "\n",
       "    value += 'k';\n",
       "    value += event.which.toString();\n",
       "\n",
       "    this._key_event_extra(event, name);\n",
       "\n",
       "    this.send_message(name, {key: value,\n",
       "                             guiEvent: simpleKeys(event)});\n",
       "    return false;\n",
       "}\n",
       "\n",
       "mpl.figure.prototype.toolbar_button_onclick = function(name) {\n",
       "    if (name == 'download') {\n",
       "        this.handle_save(this, null);\n",
       "    } else {\n",
       "        this.send_message(\"toolbar_button\", {name: name});\n",
       "    }\n",
       "};\n",
       "\n",
       "mpl.figure.prototype.toolbar_button_onmouseover = function(tooltip) {\n",
       "    this.message.textContent = tooltip;\n",
       "};\n",
       "mpl.toolbar_items = [[\"Home\", \"Reset original view\", \"fa fa-home icon-home\", \"home\"], [\"Back\", \"Back to  previous view\", \"fa fa-arrow-left icon-arrow-left\", \"back\"], [\"Forward\", \"Forward to next view\", \"fa fa-arrow-right icon-arrow-right\", \"forward\"], [\"\", \"\", \"\", \"\"], [\"Pan\", \"Pan axes with left mouse, zoom with right\", \"fa fa-arrows icon-move\", \"pan\"], [\"Zoom\", \"Zoom to rectangle\", \"fa fa-square-o icon-check-empty\", \"zoom\"], [\"\", \"\", \"\", \"\"], [\"Download\", \"Download plot\", \"fa fa-floppy-o icon-save\", \"download\"]];\n",
       "\n",
       "mpl.extensions = [\"eps\", \"jpeg\", \"pdf\", \"png\", \"ps\", \"raw\", \"svg\", \"tif\"];\n",
       "\n",
       "mpl.default_extension = \"png\";var comm_websocket_adapter = function(comm) {\n",
       "    // Create a \"websocket\"-like object which calls the given IPython comm\n",
       "    // object with the appropriate methods. Currently this is a non binary\n",
       "    // socket, so there is still some room for performance tuning.\n",
       "    var ws = {};\n",
       "\n",
       "    ws.close = function() {\n",
       "        comm.close()\n",
       "    };\n",
       "    ws.send = function(m) {\n",
       "        //console.log('sending', m);\n",
       "        comm.send(m);\n",
       "    };\n",
       "    // Register the callback with on_msg.\n",
       "    comm.on_msg(function(msg) {\n",
       "        //console.log('receiving', msg['content']['data'], msg);\n",
       "        // Pass the mpl event to the overriden (by mpl) onmessage function.\n",
       "        ws.onmessage(msg['content']['data'])\n",
       "    });\n",
       "    return ws;\n",
       "}\n",
       "\n",
       "mpl.mpl_figure_comm = function(comm, msg) {\n",
       "    // This is the function which gets called when the mpl process\n",
       "    // starts-up an IPython Comm through the \"matplotlib\" channel.\n",
       "\n",
       "    var id = msg.content.data.id;\n",
       "    // Get hold of the div created by the display call when the Comm\n",
       "    // socket was opened in Python.\n",
       "    var element = $(\"#\" + id);\n",
       "    var ws_proxy = comm_websocket_adapter(comm)\n",
       "\n",
       "    function ondownload(figure, format) {\n",
       "        window.open(figure.imageObj.src);\n",
       "    }\n",
       "\n",
       "    var fig = new mpl.figure(id, ws_proxy,\n",
       "                           ondownload,\n",
       "                           element.get(0));\n",
       "\n",
       "    // Call onopen now - mpl needs it, as it is assuming we've passed it a real\n",
       "    // web socket which is closed, not our websocket->open comm proxy.\n",
       "    ws_proxy.onopen();\n",
       "\n",
       "    fig.parent_element = element.get(0);\n",
       "    fig.cell_info = mpl.find_output_cell(\"<div id='\" + id + \"'></div>\");\n",
       "    if (!fig.cell_info) {\n",
       "        console.error(\"Failed to find cell for figure\", id, fig);\n",
       "        return;\n",
       "    }\n",
       "\n",
       "    var output_index = fig.cell_info[2]\n",
       "    var cell = fig.cell_info[0];\n",
       "\n",
       "};\n",
       "\n",
       "mpl.figure.prototype.handle_close = function(fig, msg) {\n",
       "    var width = fig.canvas.width/mpl.ratio\n",
       "    fig.root.unbind('remove')\n",
       "\n",
       "    // Update the output cell to use the data from the current canvas.\n",
       "    fig.push_to_output();\n",
       "    var dataURL = fig.canvas.toDataURL();\n",
       "    // Re-enable the keyboard manager in IPython - without this line, in FF,\n",
       "    // the notebook keyboard shortcuts fail.\n",
       "    IPython.keyboard_manager.enable()\n",
       "    $(fig.parent_element).html('<img src=\"' + dataURL + '\" width=\"' + width + '\">');\n",
       "    fig.close_ws(fig, msg);\n",
       "}\n",
       "\n",
       "mpl.figure.prototype.close_ws = function(fig, msg){\n",
       "    fig.send_message('closing', msg);\n",
       "    // fig.ws.close()\n",
       "}\n",
       "\n",
       "mpl.figure.prototype.push_to_output = function(remove_interactive) {\n",
       "    // Turn the data on the canvas into data in the output cell.\n",
       "    var width = this.canvas.width/mpl.ratio\n",
       "    var dataURL = this.canvas.toDataURL();\n",
       "    this.cell_info[1]['text/html'] = '<img src=\"' + dataURL + '\" width=\"' + width + '\">';\n",
       "}\n",
       "\n",
       "mpl.figure.prototype.updated_canvas_event = function() {\n",
       "    // Tell IPython that the notebook contents must change.\n",
       "    IPython.notebook.set_dirty(true);\n",
       "    this.send_message(\"ack\", {});\n",
       "    var fig = this;\n",
       "    // Wait a second, then push the new image to the DOM so\n",
       "    // that it is saved nicely (might be nice to debounce this).\n",
       "    setTimeout(function () { fig.push_to_output() }, 1000);\n",
       "}\n",
       "\n",
       "mpl.figure.prototype._init_toolbar = function() {\n",
       "    var fig = this;\n",
       "\n",
       "    var nav_element = $('<div/>')\n",
       "    nav_element.attr('style', 'width: 100%');\n",
       "    this.root.append(nav_element);\n",
       "\n",
       "    // Define a callback function for later on.\n",
       "    function toolbar_event(event) {\n",
       "        return fig.toolbar_button_onclick(event['data']);\n",
       "    }\n",
       "    function toolbar_mouse_event(event) {\n",
       "        return fig.toolbar_button_onmouseover(event['data']);\n",
       "    }\n",
       "\n",
       "    for(var toolbar_ind in mpl.toolbar_items){\n",
       "        var name = mpl.toolbar_items[toolbar_ind][0];\n",
       "        var tooltip = mpl.toolbar_items[toolbar_ind][1];\n",
       "        var image = mpl.toolbar_items[toolbar_ind][2];\n",
       "        var method_name = mpl.toolbar_items[toolbar_ind][3];\n",
       "\n",
       "        if (!name) { continue; };\n",
       "\n",
       "        var button = $('<button class=\"btn btn-default\" href=\"#\" title=\"' + name + '\"><i class=\"fa ' + image + ' fa-lg\"></i></button>');\n",
       "        button.click(method_name, toolbar_event);\n",
       "        button.mouseover(tooltip, toolbar_mouse_event);\n",
       "        nav_element.append(button);\n",
       "    }\n",
       "\n",
       "    // Add the status bar.\n",
       "    var status_bar = $('<span class=\"mpl-message\" style=\"text-align:right; float: right;\"/>');\n",
       "    nav_element.append(status_bar);\n",
       "    this.message = status_bar[0];\n",
       "\n",
       "    // Add the close button to the window.\n",
       "    var buttongrp = $('<div class=\"btn-group inline pull-right\"></div>');\n",
       "    var button = $('<button class=\"btn btn-mini btn-primary\" href=\"#\" title=\"Stop Interaction\"><i class=\"fa fa-power-off icon-remove icon-large\"></i></button>');\n",
       "    button.click(function (evt) { fig.handle_close(fig, {}); } );\n",
       "    button.mouseover('Stop Interaction', toolbar_mouse_event);\n",
       "    buttongrp.append(button);\n",
       "    var titlebar = this.root.find($('.ui-dialog-titlebar'));\n",
       "    titlebar.prepend(buttongrp);\n",
       "}\n",
       "\n",
       "mpl.figure.prototype._root_extra_style = function(el){\n",
       "    var fig = this\n",
       "    el.on(\"remove\", function(){\n",
       "\tfig.close_ws(fig, {});\n",
       "    });\n",
       "}\n",
       "\n",
       "mpl.figure.prototype._canvas_extra_style = function(el){\n",
       "    // this is important to make the div 'focusable\n",
       "    el.attr('tabindex', 0)\n",
       "    // reach out to IPython and tell the keyboard manager to turn it's self\n",
       "    // off when our div gets focus\n",
       "\n",
       "    // location in version 3\n",
       "    if (IPython.notebook.keyboard_manager) {\n",
       "        IPython.notebook.keyboard_manager.register_events(el);\n",
       "    }\n",
       "    else {\n",
       "        // location in version 2\n",
       "        IPython.keyboard_manager.register_events(el);\n",
       "    }\n",
       "\n",
       "}\n",
       "\n",
       "mpl.figure.prototype._key_event_extra = function(event, name) {\n",
       "    var manager = IPython.notebook.keyboard_manager;\n",
       "    if (!manager)\n",
       "        manager = IPython.keyboard_manager;\n",
       "\n",
       "    // Check for shift+enter\n",
       "    if (event.shiftKey && event.which == 13) {\n",
       "        this.canvas_div.blur();\n",
       "        event.shiftKey = false;\n",
       "        // Send a \"J\" for go to next cell\n",
       "        event.which = 74;\n",
       "        event.keyCode = 74;\n",
       "        manager.command_mode();\n",
       "        manager.handle_keydown(event);\n",
       "    }\n",
       "}\n",
       "\n",
       "mpl.figure.prototype.handle_save = function(fig, msg) {\n",
       "    fig.ondownload(fig, null);\n",
       "}\n",
       "\n",
       "\n",
       "mpl.find_output_cell = function(html_output) {\n",
       "    // Return the cell and output element which can be found *uniquely* in the notebook.\n",
       "    // Note - this is a bit hacky, but it is done because the \"notebook_saving.Notebook\"\n",
       "    // IPython event is triggered only after the cells have been serialised, which for\n",
       "    // our purposes (turning an active figure into a static one), is too late.\n",
       "    var cells = IPython.notebook.get_cells();\n",
       "    var ncells = cells.length;\n",
       "    for (var i=0; i<ncells; i++) {\n",
       "        var cell = cells[i];\n",
       "        if (cell.cell_type === 'code'){\n",
       "            for (var j=0; j<cell.output_area.outputs.length; j++) {\n",
       "                var data = cell.output_area.outputs[j];\n",
       "                if (data.data) {\n",
       "                    // IPython >= 3 moved mimebundle to data attribute of output\n",
       "                    data = data.data;\n",
       "                }\n",
       "                if (data['text/html'] == html_output) {\n",
       "                    return [cell, data, j];\n",
       "                }\n",
       "            }\n",
       "        }\n",
       "    }\n",
       "}\n",
       "\n",
       "// Register the function which deals with the matplotlib target/channel.\n",
       "// The kernel may be null if the page has been refreshed.\n",
       "if (IPython.notebook.kernel != null) {\n",
       "    IPython.notebook.kernel.comm_manager.register_target('matplotlib', mpl.mpl_figure_comm);\n",
       "}\n"
      ],
      "text/plain": [
       "<IPython.core.display.Javascript object>"
      ]
     },
     "metadata": {},
     "output_type": "display_data"
    },
    {
     "data": {
      "text/html": [
       "<img src=\"data:image/png;base64,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\" width=\"639.8333142648146\">"
      ],
      "text/plain": [
       "<IPython.core.display.HTML object>"
      ]
     },
     "metadata": {},
     "output_type": "display_data"
    },
    {
     "data": {
      "text/plain": [
       "<gempy.sequential_pile.StratigraphicPile at 0x7fd670231f60>"
      ]
     },
     "execution_count": 4,
     "metadata": {},
     "output_type": "execute_result"
    }
   ],
   "source": [
    "# Assigning series to formations as well as their order (timewise)\n",
    "gp.set_series(geo_data, {\"EarlyGranite_Series\": 'EarlyGranite', \n",
    "                              \"BIF_Series\":('SimpleMafic2', 'SimpleBIF'),\n",
    "                              \"SimpleMafic_Series\":'SimpleMafic1'}, \n",
    "                      order_series = [\"EarlyGranite_Series\",\n",
    "                                      \"BIF_Series\",\n",
    "                                      \"SimpleMafic_Series\"],\n",
    "                      order_formations= ['EarlyGranite', 'SimpleMafic2', 'SimpleBIF', 'SimpleMafic1'],\n",
    "              verbose=1)"
   ]
  },
  {
   "cell_type": "markdown",
   "metadata": {},
   "source": [
    "Now as in the previous chapter we just need to create the interpolator object and compute the model."
   ]
  },
  {
   "cell_type": "code",
   "execution_count": 5,
   "metadata": {},
   "outputs": [
    {
     "name": "stdout",
     "output_type": "stream",
     "text": [
      "Level of Optimization:  fast_run\n",
      "Device:  cpu\n",
      "Precision:  float32\n"
     ]
    }
   ],
   "source": [
    "interp_data = gp.InterpolatorInput(geo_data, output='gravity')"
   ]
  },
  {
   "cell_type": "code",
   "execution_count": 7,
   "metadata": {},
   "outputs": [
    {
     "data": {
      "application/javascript": [
       "/* Put everything inside the global mpl namespace */\n",
       "window.mpl = {};\n",
       "\n",
       "\n",
       "mpl.get_websocket_type = function() {\n",
       "    if (typeof(WebSocket) !== 'undefined') {\n",
       "        return WebSocket;\n",
       "    } else if (typeof(MozWebSocket) !== 'undefined') {\n",
       "        return MozWebSocket;\n",
       "    } else {\n",
       "        alert('Your browser does not have WebSocket support.' +\n",
       "              'Please try Chrome, Safari or Firefox ≥ 6. ' +\n",
       "              'Firefox 4 and 5 are also supported but you ' +\n",
       "              'have to enable WebSockets in about:config.');\n",
       "    };\n",
       "}\n",
       "\n",
       "mpl.figure = function(figure_id, websocket, ondownload, parent_element) {\n",
       "    this.id = figure_id;\n",
       "\n",
       "    this.ws = websocket;\n",
       "\n",
       "    this.supports_binary = (this.ws.binaryType != undefined);\n",
       "\n",
       "    if (!this.supports_binary) {\n",
       "        var warnings = document.getElementById(\"mpl-warnings\");\n",
       "        if (warnings) {\n",
       "            warnings.style.display = 'block';\n",
       "            warnings.textContent = (\n",
       "                \"This browser does not support binary websocket messages. \" +\n",
       "                    \"Performance may be slow.\");\n",
       "        }\n",
       "    }\n",
       "\n",
       "    this.imageObj = new Image();\n",
       "\n",
       "    this.context = undefined;\n",
       "    this.message = undefined;\n",
       "    this.canvas = undefined;\n",
       "    this.rubberband_canvas = undefined;\n",
       "    this.rubberband_context = undefined;\n",
       "    this.format_dropdown = undefined;\n",
       "\n",
       "    this.image_mode = 'full';\n",
       "\n",
       "    this.root = $('<div/>');\n",
       "    this._root_extra_style(this.root)\n",
       "    this.root.attr('style', 'display: inline-block');\n",
       "\n",
       "    $(parent_element).append(this.root);\n",
       "\n",
       "    this._init_header(this);\n",
       "    this._init_canvas(this);\n",
       "    this._init_toolbar(this);\n",
       "\n",
       "    var fig = this;\n",
       "\n",
       "    this.waiting = false;\n",
       "\n",
       "    this.ws.onopen =  function () {\n",
       "            fig.send_message(\"supports_binary\", {value: fig.supports_binary});\n",
       "            fig.send_message(\"send_image_mode\", {});\n",
       "            if (mpl.ratio != 1) {\n",
       "                fig.send_message(\"set_dpi_ratio\", {'dpi_ratio': mpl.ratio});\n",
       "            }\n",
       "            fig.send_message(\"refresh\", {});\n",
       "        }\n",
       "\n",
       "    this.imageObj.onload = function() {\n",
       "            if (fig.image_mode == 'full') {\n",
       "                // Full images could contain transparency (where diff images\n",
       "                // almost always do), so we need to clear the canvas so that\n",
       "                // there is no ghosting.\n",
       "                fig.context.clearRect(0, 0, fig.canvas.width, fig.canvas.height);\n",
       "            }\n",
       "            fig.context.drawImage(fig.imageObj, 0, 0);\n",
       "        };\n",
       "\n",
       "    this.imageObj.onunload = function() {\n",
       "        fig.ws.close();\n",
       "    }\n",
       "\n",
       "    this.ws.onmessage = this._make_on_message_function(this);\n",
       "\n",
       "    this.ondownload = ondownload;\n",
       "}\n",
       "\n",
       "mpl.figure.prototype._init_header = function() {\n",
       "    var titlebar = $(\n",
       "        '<div class=\"ui-dialog-titlebar ui-widget-header ui-corner-all ' +\n",
       "        'ui-helper-clearfix\"/>');\n",
       "    var titletext = $(\n",
       "        '<div class=\"ui-dialog-title\" style=\"width: 100%; ' +\n",
       "        'text-align: center; padding: 3px;\"/>');\n",
       "    titlebar.append(titletext)\n",
       "    this.root.append(titlebar);\n",
       "    this.header = titletext[0];\n",
       "}\n",
       "\n",
       "\n",
       "\n",
       "mpl.figure.prototype._canvas_extra_style = function(canvas_div) {\n",
       "\n",
       "}\n",
       "\n",
       "\n",
       "mpl.figure.prototype._root_extra_style = function(canvas_div) {\n",
       "\n",
       "}\n",
       "\n",
       "mpl.figure.prototype._init_canvas = function() {\n",
       "    var fig = this;\n",
       "\n",
       "    var canvas_div = $('<div/>');\n",
       "\n",
       "    canvas_div.attr('style', 'position: relative; clear: both; outline: 0');\n",
       "\n",
       "    function canvas_keyboard_event(event) {\n",
       "        return fig.key_event(event, event['data']);\n",
       "    }\n",
       "\n",
       "    canvas_div.keydown('key_press', canvas_keyboard_event);\n",
       "    canvas_div.keyup('key_release', canvas_keyboard_event);\n",
       "    this.canvas_div = canvas_div\n",
       "    this._canvas_extra_style(canvas_div)\n",
       "    this.root.append(canvas_div);\n",
       "\n",
       "    var canvas = $('<canvas/>');\n",
       "    canvas.addClass('mpl-canvas');\n",
       "    canvas.attr('style', \"left: 0; top: 0; z-index: 0; outline: 0\")\n",
       "\n",
       "    this.canvas = canvas[0];\n",
       "    this.context = canvas[0].getContext(\"2d\");\n",
       "\n",
       "    var backingStore = this.context.backingStorePixelRatio ||\n",
       "\tthis.context.webkitBackingStorePixelRatio ||\n",
       "\tthis.context.mozBackingStorePixelRatio ||\n",
       "\tthis.context.msBackingStorePixelRatio ||\n",
       "\tthis.context.oBackingStorePixelRatio ||\n",
       "\tthis.context.backingStorePixelRatio || 1;\n",
       "\n",
       "    mpl.ratio = (window.devicePixelRatio || 1) / backingStore;\n",
       "\n",
       "    var rubberband = $('<canvas/>');\n",
       "    rubberband.attr('style', \"position: absolute; left: 0; top: 0; z-index: 1;\")\n",
       "\n",
       "    var pass_mouse_events = true;\n",
       "\n",
       "    canvas_div.resizable({\n",
       "        start: function(event, ui) {\n",
       "            pass_mouse_events = false;\n",
       "        },\n",
       "        resize: function(event, ui) {\n",
       "            fig.request_resize(ui.size.width, ui.size.height);\n",
       "        },\n",
       "        stop: function(event, ui) {\n",
       "            pass_mouse_events = true;\n",
       "            fig.request_resize(ui.size.width, ui.size.height);\n",
       "        },\n",
       "    });\n",
       "\n",
       "    function mouse_event_fn(event) {\n",
       "        if (pass_mouse_events)\n",
       "            return fig.mouse_event(event, event['data']);\n",
       "    }\n",
       "\n",
       "    rubberband.mousedown('button_press', mouse_event_fn);\n",
       "    rubberband.mouseup('button_release', mouse_event_fn);\n",
       "    // Throttle sequential mouse events to 1 every 20ms.\n",
       "    rubberband.mousemove('motion_notify', mouse_event_fn);\n",
       "\n",
       "    rubberband.mouseenter('figure_enter', mouse_event_fn);\n",
       "    rubberband.mouseleave('figure_leave', mouse_event_fn);\n",
       "\n",
       "    canvas_div.on(\"wheel\", function (event) {\n",
       "        event = event.originalEvent;\n",
       "        event['data'] = 'scroll'\n",
       "        if (event.deltaY < 0) {\n",
       "            event.step = 1;\n",
       "        } else {\n",
       "            event.step = -1;\n",
       "        }\n",
       "        mouse_event_fn(event);\n",
       "    });\n",
       "\n",
       "    canvas_div.append(canvas);\n",
       "    canvas_div.append(rubberband);\n",
       "\n",
       "    this.rubberband = rubberband;\n",
       "    this.rubberband_canvas = rubberband[0];\n",
       "    this.rubberband_context = rubberband[0].getContext(\"2d\");\n",
       "    this.rubberband_context.strokeStyle = \"#000000\";\n",
       "\n",
       "    this._resize_canvas = function(width, height) {\n",
       "        // Keep the size of the canvas, canvas container, and rubber band\n",
       "        // canvas in synch.\n",
       "        canvas_div.css('width', width)\n",
       "        canvas_div.css('height', height)\n",
       "\n",
       "        canvas.attr('width', width * mpl.ratio);\n",
       "        canvas.attr('height', height * mpl.ratio);\n",
       "        canvas.attr('style', 'width: ' + width + 'px; height: ' + height + 'px;');\n",
       "\n",
       "        rubberband.attr('width', width);\n",
       "        rubberband.attr('height', height);\n",
       "    }\n",
       "\n",
       "    // Set the figure to an initial 600x600px, this will subsequently be updated\n",
       "    // upon first draw.\n",
       "    this._resize_canvas(600, 600);\n",
       "\n",
       "    // Disable right mouse context menu.\n",
       "    $(this.rubberband_canvas).bind(\"contextmenu\",function(e){\n",
       "        return false;\n",
       "    });\n",
       "\n",
       "    function set_focus () {\n",
       "        canvas.focus();\n",
       "        canvas_div.focus();\n",
       "    }\n",
       "\n",
       "    window.setTimeout(set_focus, 100);\n",
       "}\n",
       "\n",
       "mpl.figure.prototype._init_toolbar = function() {\n",
       "    var fig = this;\n",
       "\n",
       "    var nav_element = $('<div/>')\n",
       "    nav_element.attr('style', 'width: 100%');\n",
       "    this.root.append(nav_element);\n",
       "\n",
       "    // Define a callback function for later on.\n",
       "    function toolbar_event(event) {\n",
       "        return fig.toolbar_button_onclick(event['data']);\n",
       "    }\n",
       "    function toolbar_mouse_event(event) {\n",
       "        return fig.toolbar_button_onmouseover(event['data']);\n",
       "    }\n",
       "\n",
       "    for(var toolbar_ind in mpl.toolbar_items) {\n",
       "        var name = mpl.toolbar_items[toolbar_ind][0];\n",
       "        var tooltip = mpl.toolbar_items[toolbar_ind][1];\n",
       "        var image = mpl.toolbar_items[toolbar_ind][2];\n",
       "        var method_name = mpl.toolbar_items[toolbar_ind][3];\n",
       "\n",
       "        if (!name) {\n",
       "            // put a spacer in here.\n",
       "            continue;\n",
       "        }\n",
       "        var button = $('<button/>');\n",
       "        button.addClass('ui-button ui-widget ui-state-default ui-corner-all ' +\n",
       "                        'ui-button-icon-only');\n",
       "        button.attr('role', 'button');\n",
       "        button.attr('aria-disabled', 'false');\n",
       "        button.click(method_name, toolbar_event);\n",
       "        button.mouseover(tooltip, toolbar_mouse_event);\n",
       "\n",
       "        var icon_img = $('<span/>');\n",
       "        icon_img.addClass('ui-button-icon-primary ui-icon');\n",
       "        icon_img.addClass(image);\n",
       "        icon_img.addClass('ui-corner-all');\n",
       "\n",
       "        var tooltip_span = $('<span/>');\n",
       "        tooltip_span.addClass('ui-button-text');\n",
       "        tooltip_span.html(tooltip);\n",
       "\n",
       "        button.append(icon_img);\n",
       "        button.append(tooltip_span);\n",
       "\n",
       "        nav_element.append(button);\n",
       "    }\n",
       "\n",
       "    var fmt_picker_span = $('<span/>');\n",
       "\n",
       "    var fmt_picker = $('<select/>');\n",
       "    fmt_picker.addClass('mpl-toolbar-option ui-widget ui-widget-content');\n",
       "    fmt_picker_span.append(fmt_picker);\n",
       "    nav_element.append(fmt_picker_span);\n",
       "    this.format_dropdown = fmt_picker[0];\n",
       "\n",
       "    for (var ind in mpl.extensions) {\n",
       "        var fmt = mpl.extensions[ind];\n",
       "        var option = $(\n",
       "            '<option/>', {selected: fmt === mpl.default_extension}).html(fmt);\n",
       "        fmt_picker.append(option)\n",
       "    }\n",
       "\n",
       "    // Add hover states to the ui-buttons\n",
       "    $( \".ui-button\" ).hover(\n",
       "        function() { $(this).addClass(\"ui-state-hover\");},\n",
       "        function() { $(this).removeClass(\"ui-state-hover\");}\n",
       "    );\n",
       "\n",
       "    var status_bar = $('<span class=\"mpl-message\"/>');\n",
       "    nav_element.append(status_bar);\n",
       "    this.message = status_bar[0];\n",
       "}\n",
       "\n",
       "mpl.figure.prototype.request_resize = function(x_pixels, y_pixels) {\n",
       "    // Request matplotlib to resize the figure. Matplotlib will then trigger a resize in the client,\n",
       "    // which will in turn request a refresh of the image.\n",
       "    this.send_message('resize', {'width': x_pixels, 'height': y_pixels});\n",
       "}\n",
       "\n",
       "mpl.figure.prototype.send_message = function(type, properties) {\n",
       "    properties['type'] = type;\n",
       "    properties['figure_id'] = this.id;\n",
       "    this.ws.send(JSON.stringify(properties));\n",
       "}\n",
       "\n",
       "mpl.figure.prototype.send_draw_message = function() {\n",
       "    if (!this.waiting) {\n",
       "        this.waiting = true;\n",
       "        this.ws.send(JSON.stringify({type: \"draw\", figure_id: this.id}));\n",
       "    }\n",
       "}\n",
       "\n",
       "\n",
       "mpl.figure.prototype.handle_save = function(fig, msg) {\n",
       "    var format_dropdown = fig.format_dropdown;\n",
       "    var format = format_dropdown.options[format_dropdown.selectedIndex].value;\n",
       "    fig.ondownload(fig, format);\n",
       "}\n",
       "\n",
       "\n",
       "mpl.figure.prototype.handle_resize = function(fig, msg) {\n",
       "    var size = msg['size'];\n",
       "    if (size[0] != fig.canvas.width || size[1] != fig.canvas.height) {\n",
       "        fig._resize_canvas(size[0], size[1]);\n",
       "        fig.send_message(\"refresh\", {});\n",
       "    };\n",
       "}\n",
       "\n",
       "mpl.figure.prototype.handle_rubberband = function(fig, msg) {\n",
       "    var x0 = msg['x0'] / mpl.ratio;\n",
       "    var y0 = (fig.canvas.height - msg['y0']) / mpl.ratio;\n",
       "    var x1 = msg['x1'] / mpl.ratio;\n",
       "    var y1 = (fig.canvas.height - msg['y1']) / mpl.ratio;\n",
       "    x0 = Math.floor(x0) + 0.5;\n",
       "    y0 = Math.floor(y0) + 0.5;\n",
       "    x1 = Math.floor(x1) + 0.5;\n",
       "    y1 = Math.floor(y1) + 0.5;\n",
       "    var min_x = Math.min(x0, x1);\n",
       "    var min_y = Math.min(y0, y1);\n",
       "    var width = Math.abs(x1 - x0);\n",
       "    var height = Math.abs(y1 - y0);\n",
       "\n",
       "    fig.rubberband_context.clearRect(\n",
       "        0, 0, fig.canvas.width, fig.canvas.height);\n",
       "\n",
       "    fig.rubberband_context.strokeRect(min_x, min_y, width, height);\n",
       "}\n",
       "\n",
       "mpl.figure.prototype.handle_figure_label = function(fig, msg) {\n",
       "    // Updates the figure title.\n",
       "    fig.header.textContent = msg['label'];\n",
       "}\n",
       "\n",
       "mpl.figure.prototype.handle_cursor = function(fig, msg) {\n",
       "    var cursor = msg['cursor'];\n",
       "    switch(cursor)\n",
       "    {\n",
       "    case 0:\n",
       "        cursor = 'pointer';\n",
       "        break;\n",
       "    case 1:\n",
       "        cursor = 'default';\n",
       "        break;\n",
       "    case 2:\n",
       "        cursor = 'crosshair';\n",
       "        break;\n",
       "    case 3:\n",
       "        cursor = 'move';\n",
       "        break;\n",
       "    }\n",
       "    fig.rubberband_canvas.style.cursor = cursor;\n",
       "}\n",
       "\n",
       "mpl.figure.prototype.handle_message = function(fig, msg) {\n",
       "    fig.message.textContent = msg['message'];\n",
       "}\n",
       "\n",
       "mpl.figure.prototype.handle_draw = function(fig, msg) {\n",
       "    // Request the server to send over a new figure.\n",
       "    fig.send_draw_message();\n",
       "}\n",
       "\n",
       "mpl.figure.prototype.handle_image_mode = function(fig, msg) {\n",
       "    fig.image_mode = msg['mode'];\n",
       "}\n",
       "\n",
       "mpl.figure.prototype.updated_canvas_event = function() {\n",
       "    // Called whenever the canvas gets updated.\n",
       "    this.send_message(\"ack\", {});\n",
       "}\n",
       "\n",
       "// A function to construct a web socket function for onmessage handling.\n",
       "// Called in the figure constructor.\n",
       "mpl.figure.prototype._make_on_message_function = function(fig) {\n",
       "    return function socket_on_message(evt) {\n",
       "        if (evt.data instanceof Blob) {\n",
       "            /* FIXME: We get \"Resource interpreted as Image but\n",
       "             * transferred with MIME type text/plain:\" errors on\n",
       "             * Chrome.  But how to set the MIME type?  It doesn't seem\n",
       "             * to be part of the websocket stream */\n",
       "            evt.data.type = \"image/png\";\n",
       "\n",
       "            /* Free the memory for the previous frames */\n",
       "            if (fig.imageObj.src) {\n",
       "                (window.URL || window.webkitURL).revokeObjectURL(\n",
       "                    fig.imageObj.src);\n",
       "            }\n",
       "\n",
       "            fig.imageObj.src = (window.URL || window.webkitURL).createObjectURL(\n",
       "                evt.data);\n",
       "            fig.updated_canvas_event();\n",
       "            fig.waiting = false;\n",
       "            return;\n",
       "        }\n",
       "        else if (typeof evt.data === 'string' && evt.data.slice(0, 21) == \"data:image/png;base64\") {\n",
       "            fig.imageObj.src = evt.data;\n",
       "            fig.updated_canvas_event();\n",
       "            fig.waiting = false;\n",
       "            return;\n",
       "        }\n",
       "\n",
       "        var msg = JSON.parse(evt.data);\n",
       "        var msg_type = msg['type'];\n",
       "\n",
       "        // Call the  \"handle_{type}\" callback, which takes\n",
       "        // the figure and JSON message as its only arguments.\n",
       "        try {\n",
       "            var callback = fig[\"handle_\" + msg_type];\n",
       "        } catch (e) {\n",
       "            console.log(\"No handler for the '\" + msg_type + \"' message type: \", msg);\n",
       "            return;\n",
       "        }\n",
       "\n",
       "        if (callback) {\n",
       "            try {\n",
       "                // console.log(\"Handling '\" + msg_type + \"' message: \", msg);\n",
       "                callback(fig, msg);\n",
       "            } catch (e) {\n",
       "                console.log(\"Exception inside the 'handler_\" + msg_type + \"' callback:\", e, e.stack, msg);\n",
       "            }\n",
       "        }\n",
       "    };\n",
       "}\n",
       "\n",
       "// from http://stackoverflow.com/questions/1114465/getting-mouse-location-in-canvas\n",
       "mpl.findpos = function(e) {\n",
       "    //this section is from http://www.quirksmode.org/js/events_properties.html\n",
       "    var targ;\n",
       "    if (!e)\n",
       "        e = window.event;\n",
       "    if (e.target)\n",
       "        targ = e.target;\n",
       "    else if (e.srcElement)\n",
       "        targ = e.srcElement;\n",
       "    if (targ.nodeType == 3) // defeat Safari bug\n",
       "        targ = targ.parentNode;\n",
       "\n",
       "    // jQuery normalizes the pageX and pageY\n",
       "    // pageX,Y are the mouse positions relative to the document\n",
       "    // offset() returns the position of the element relative to the document\n",
       "    var x = e.pageX - $(targ).offset().left;\n",
       "    var y = e.pageY - $(targ).offset().top;\n",
       "\n",
       "    return {\"x\": x, \"y\": y};\n",
       "};\n",
       "\n",
       "/*\n",
       " * return a copy of an object with only non-object keys\n",
       " * we need this to avoid circular references\n",
       " * http://stackoverflow.com/a/24161582/3208463\n",
       " */\n",
       "function simpleKeys (original) {\n",
       "  return Object.keys(original).reduce(function (obj, key) {\n",
       "    if (typeof original[key] !== 'object')\n",
       "        obj[key] = original[key]\n",
       "    return obj;\n",
       "  }, {});\n",
       "}\n",
       "\n",
       "mpl.figure.prototype.mouse_event = function(event, name) {\n",
       "    var canvas_pos = mpl.findpos(event)\n",
       "\n",
       "    if (name === 'button_press')\n",
       "    {\n",
       "        this.canvas.focus();\n",
       "        this.canvas_div.focus();\n",
       "    }\n",
       "\n",
       "    var x = canvas_pos.x * mpl.ratio;\n",
       "    var y = canvas_pos.y * mpl.ratio;\n",
       "\n",
       "    this.send_message(name, {x: x, y: y, button: event.button,\n",
       "                             step: event.step,\n",
       "                             guiEvent: simpleKeys(event)});\n",
       "\n",
       "    /* This prevents the web browser from automatically changing to\n",
       "     * the text insertion cursor when the button is pressed.  We want\n",
       "     * to control all of the cursor setting manually through the\n",
       "     * 'cursor' event from matplotlib */\n",
       "    event.preventDefault();\n",
       "    return false;\n",
       "}\n",
       "\n",
       "mpl.figure.prototype._key_event_extra = function(event, name) {\n",
       "    // Handle any extra behaviour associated with a key event\n",
       "}\n",
       "\n",
       "mpl.figure.prototype.key_event = function(event, name) {\n",
       "\n",
       "    // Prevent repeat events\n",
       "    if (name == 'key_press')\n",
       "    {\n",
       "        if (event.which === this._key)\n",
       "            return;\n",
       "        else\n",
       "            this._key = event.which;\n",
       "    }\n",
       "    if (name == 'key_release')\n",
       "        this._key = null;\n",
       "\n",
       "    var value = '';\n",
       "    if (event.ctrlKey && event.which != 17)\n",
       "        value += \"ctrl+\";\n",
       "    if (event.altKey && event.which != 18)\n",
       "        value += \"alt+\";\n",
       "    if (event.shiftKey && event.which != 16)\n",
       "        value += \"shift+\";\n",
       "\n",
       "    value += 'k';\n",
       "    value += event.which.toString();\n",
       "\n",
       "    this._key_event_extra(event, name);\n",
       "\n",
       "    this.send_message(name, {key: value,\n",
       "                             guiEvent: simpleKeys(event)});\n",
       "    return false;\n",
       "}\n",
       "\n",
       "mpl.figure.prototype.toolbar_button_onclick = function(name) {\n",
       "    if (name == 'download') {\n",
       "        this.handle_save(this, null);\n",
       "    } else {\n",
       "        this.send_message(\"toolbar_button\", {name: name});\n",
       "    }\n",
       "};\n",
       "\n",
       "mpl.figure.prototype.toolbar_button_onmouseover = function(tooltip) {\n",
       "    this.message.textContent = tooltip;\n",
       "};\n",
       "mpl.toolbar_items = [[\"Home\", \"Reset original view\", \"fa fa-home icon-home\", \"home\"], [\"Back\", \"Back to  previous view\", \"fa fa-arrow-left icon-arrow-left\", \"back\"], [\"Forward\", \"Forward to next view\", \"fa fa-arrow-right icon-arrow-right\", \"forward\"], [\"\", \"\", \"\", \"\"], [\"Pan\", \"Pan axes with left mouse, zoom with right\", \"fa fa-arrows icon-move\", \"pan\"], [\"Zoom\", \"Zoom to rectangle\", \"fa fa-square-o icon-check-empty\", \"zoom\"], [\"\", \"\", \"\", \"\"], [\"Download\", \"Download plot\", \"fa fa-floppy-o icon-save\", \"download\"]];\n",
       "\n",
       "mpl.extensions = [\"eps\", \"jpeg\", \"pdf\", \"png\", \"ps\", \"raw\", \"svg\", \"tif\"];\n",
       "\n",
       "mpl.default_extension = \"png\";var comm_websocket_adapter = function(comm) {\n",
       "    // Create a \"websocket\"-like object which calls the given IPython comm\n",
       "    // object with the appropriate methods. Currently this is a non binary\n",
       "    // socket, so there is still some room for performance tuning.\n",
       "    var ws = {};\n",
       "\n",
       "    ws.close = function() {\n",
       "        comm.close()\n",
       "    };\n",
       "    ws.send = function(m) {\n",
       "        //console.log('sending', m);\n",
       "        comm.send(m);\n",
       "    };\n",
       "    // Register the callback with on_msg.\n",
       "    comm.on_msg(function(msg) {\n",
       "        //console.log('receiving', msg['content']['data'], msg);\n",
       "        // Pass the mpl event to the overriden (by mpl) onmessage function.\n",
       "        ws.onmessage(msg['content']['data'])\n",
       "    });\n",
       "    return ws;\n",
       "}\n",
       "\n",
       "mpl.mpl_figure_comm = function(comm, msg) {\n",
       "    // This is the function which gets called when the mpl process\n",
       "    // starts-up an IPython Comm through the \"matplotlib\" channel.\n",
       "\n",
       "    var id = msg.content.data.id;\n",
       "    // Get hold of the div created by the display call when the Comm\n",
       "    // socket was opened in Python.\n",
       "    var element = $(\"#\" + id);\n",
       "    var ws_proxy = comm_websocket_adapter(comm)\n",
       "\n",
       "    function ondownload(figure, format) {\n",
       "        window.open(figure.imageObj.src);\n",
       "    }\n",
       "\n",
       "    var fig = new mpl.figure(id, ws_proxy,\n",
       "                           ondownload,\n",
       "                           element.get(0));\n",
       "\n",
       "    // Call onopen now - mpl needs it, as it is assuming we've passed it a real\n",
       "    // web socket which is closed, not our websocket->open comm proxy.\n",
       "    ws_proxy.onopen();\n",
       "\n",
       "    fig.parent_element = element.get(0);\n",
       "    fig.cell_info = mpl.find_output_cell(\"<div id='\" + id + \"'></div>\");\n",
       "    if (!fig.cell_info) {\n",
       "        console.error(\"Failed to find cell for figure\", id, fig);\n",
       "        return;\n",
       "    }\n",
       "\n",
       "    var output_index = fig.cell_info[2]\n",
       "    var cell = fig.cell_info[0];\n",
       "\n",
       "};\n",
       "\n",
       "mpl.figure.prototype.handle_close = function(fig, msg) {\n",
       "    var width = fig.canvas.width/mpl.ratio\n",
       "    fig.root.unbind('remove')\n",
       "\n",
       "    // Update the output cell to use the data from the current canvas.\n",
       "    fig.push_to_output();\n",
       "    var dataURL = fig.canvas.toDataURL();\n",
       "    // Re-enable the keyboard manager in IPython - without this line, in FF,\n",
       "    // the notebook keyboard shortcuts fail.\n",
       "    IPython.keyboard_manager.enable()\n",
       "    $(fig.parent_element).html('<img src=\"' + dataURL + '\" width=\"' + width + '\">');\n",
       "    fig.close_ws(fig, msg);\n",
       "}\n",
       "\n",
       "mpl.figure.prototype.close_ws = function(fig, msg){\n",
       "    fig.send_message('closing', msg);\n",
       "    // fig.ws.close()\n",
       "}\n",
       "\n",
       "mpl.figure.prototype.push_to_output = function(remove_interactive) {\n",
       "    // Turn the data on the canvas into data in the output cell.\n",
       "    var width = this.canvas.width/mpl.ratio\n",
       "    var dataURL = this.canvas.toDataURL();\n",
       "    this.cell_info[1]['text/html'] = '<img src=\"' + dataURL + '\" width=\"' + width + '\">';\n",
       "}\n",
       "\n",
       "mpl.figure.prototype.updated_canvas_event = function() {\n",
       "    // Tell IPython that the notebook contents must change.\n",
       "    IPython.notebook.set_dirty(true);\n",
       "    this.send_message(\"ack\", {});\n",
       "    var fig = this;\n",
       "    // Wait a second, then push the new image to the DOM so\n",
       "    // that it is saved nicely (might be nice to debounce this).\n",
       "    setTimeout(function () { fig.push_to_output() }, 1000);\n",
       "}\n",
       "\n",
       "mpl.figure.prototype._init_toolbar = function() {\n",
       "    var fig = this;\n",
       "\n",
       "    var nav_element = $('<div/>')\n",
       "    nav_element.attr('style', 'width: 100%');\n",
       "    this.root.append(nav_element);\n",
       "\n",
       "    // Define a callback function for later on.\n",
       "    function toolbar_event(event) {\n",
       "        return fig.toolbar_button_onclick(event['data']);\n",
       "    }\n",
       "    function toolbar_mouse_event(event) {\n",
       "        return fig.toolbar_button_onmouseover(event['data']);\n",
       "    }\n",
       "\n",
       "    for(var toolbar_ind in mpl.toolbar_items){\n",
       "        var name = mpl.toolbar_items[toolbar_ind][0];\n",
       "        var tooltip = mpl.toolbar_items[toolbar_ind][1];\n",
       "        var image = mpl.toolbar_items[toolbar_ind][2];\n",
       "        var method_name = mpl.toolbar_items[toolbar_ind][3];\n",
       "\n",
       "        if (!name) { continue; };\n",
       "\n",
       "        var button = $('<button class=\"btn btn-default\" href=\"#\" title=\"' + name + '\"><i class=\"fa ' + image + ' fa-lg\"></i></button>');\n",
       "        button.click(method_name, toolbar_event);\n",
       "        button.mouseover(tooltip, toolbar_mouse_event);\n",
       "        nav_element.append(button);\n",
       "    }\n",
       "\n",
       "    // Add the status bar.\n",
       "    var status_bar = $('<span class=\"mpl-message\" style=\"text-align:right; float: right;\"/>');\n",
       "    nav_element.append(status_bar);\n",
       "    this.message = status_bar[0];\n",
       "\n",
       "    // Add the close button to the window.\n",
       "    var buttongrp = $('<div class=\"btn-group inline pull-right\"></div>');\n",
       "    var button = $('<button class=\"btn btn-mini btn-primary\" href=\"#\" title=\"Stop Interaction\"><i class=\"fa fa-power-off icon-remove icon-large\"></i></button>');\n",
       "    button.click(function (evt) { fig.handle_close(fig, {}); } );\n",
       "    button.mouseover('Stop Interaction', toolbar_mouse_event);\n",
       "    buttongrp.append(button);\n",
       "    var titlebar = this.root.find($('.ui-dialog-titlebar'));\n",
       "    titlebar.prepend(buttongrp);\n",
       "}\n",
       "\n",
       "mpl.figure.prototype._root_extra_style = function(el){\n",
       "    var fig = this\n",
       "    el.on(\"remove\", function(){\n",
       "\tfig.close_ws(fig, {});\n",
       "    });\n",
       "}\n",
       "\n",
       "mpl.figure.prototype._canvas_extra_style = function(el){\n",
       "    // this is important to make the div 'focusable\n",
       "    el.attr('tabindex', 0)\n",
       "    // reach out to IPython and tell the keyboard manager to turn it's self\n",
       "    // off when our div gets focus\n",
       "\n",
       "    // location in version 3\n",
       "    if (IPython.notebook.keyboard_manager) {\n",
       "        IPython.notebook.keyboard_manager.register_events(el);\n",
       "    }\n",
       "    else {\n",
       "        // location in version 2\n",
       "        IPython.keyboard_manager.register_events(el);\n",
       "    }\n",
       "\n",
       "}\n",
       "\n",
       "mpl.figure.prototype._key_event_extra = function(event, name) {\n",
       "    var manager = IPython.notebook.keyboard_manager;\n",
       "    if (!manager)\n",
       "        manager = IPython.keyboard_manager;\n",
       "\n",
       "    // Check for shift+enter\n",
       "    if (event.shiftKey && event.which == 13) {\n",
       "        this.canvas_div.blur();\n",
       "        event.shiftKey = false;\n",
       "        // Send a \"J\" for go to next cell\n",
       "        event.which = 74;\n",
       "        event.keyCode = 74;\n",
       "        manager.command_mode();\n",
       "        manager.handle_keydown(event);\n",
       "    }\n",
       "}\n",
       "\n",
       "mpl.figure.prototype.handle_save = function(fig, msg) {\n",
       "    fig.ondownload(fig, null);\n",
       "}\n",
       "\n",
       "\n",
       "mpl.find_output_cell = function(html_output) {\n",
       "    // Return the cell and output element which can be found *uniquely* in the notebook.\n",
       "    // Note - this is a bit hacky, but it is done because the \"notebook_saving.Notebook\"\n",
       "    // IPython event is triggered only after the cells have been serialised, which for\n",
       "    // our purposes (turning an active figure into a static one), is too late.\n",
       "    var cells = IPython.notebook.get_cells();\n",
       "    var ncells = cells.length;\n",
       "    for (var i=0; i<ncells; i++) {\n",
       "        var cell = cells[i];\n",
       "        if (cell.cell_type === 'code'){\n",
       "            for (var j=0; j<cell.output_area.outputs.length; j++) {\n",
       "                var data = cell.output_area.outputs[j];\n",
       "                if (data.data) {\n",
       "                    // IPython >= 3 moved mimebundle to data attribute of output\n",
       "                    data = data.data;\n",
       "                }\n",
       "                if (data['text/html'] == html_output) {\n",
       "                    return [cell, data, j];\n",
       "                }\n",
       "            }\n",
       "        }\n",
       "    }\n",
       "}\n",
       "\n",
       "// Register the function which deals with the matplotlib target/channel.\n",
       "// The kernel may be null if the page has been refreshed.\n",
       "if (IPython.notebook.kernel != null) {\n",
       "    IPython.notebook.kernel.comm_manager.register_target('matplotlib', mpl.mpl_figure_comm);\n",
       "}\n"
      ],
      "text/plain": [
       "<IPython.core.display.Javascript object>"
      ]
     },
     "metadata": {},
     "output_type": "display_data"
    },
    {
     "data": {
      "text/html": [
       "<img src=\"data:image/png;base64,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\" width=\"3194.5332190879226\">"
      ],
      "text/plain": [
       "<IPython.core.display.HTML object>"
      ]
     },
     "metadata": {},
     "output_type": "display_data"
    }
   ],
   "source": [
    "gp.plot_data(interp_data.geo_data_res)"
   ]
  },
  {
   "cell_type": "code",
   "execution_count": 26,
   "metadata": {},
   "outputs": [],
   "source": [
    "gp.plot_data_3D(interp_data.geo_data_res)"
   ]
  },
  {
   "cell_type": "code",
   "execution_count": 11,
   "metadata": {},
   "outputs": [
    {
     "data": {
      "text/plain": [
       "0.21210217971026424"
      ]
     },
     "execution_count": 11,
     "metadata": {},
     "output_type": "execute_result"
    }
   ],
   "source": [
    "interp_data.geo_data_res.grid.grid[:,2].max() - interp_data.geo_data_res.grid.grid[:,2].min()"
   ]
  },
  {
   "cell_type": "code",
   "execution_count": 6,
   "metadata": {},
   "outputs": [
    {
     "data": {
      "text/plain": [
       "<gempy.GeoPhysics.GeoPhysicsPreprocessing_pro at 0x7fd6575d6048>"
      ]
     },
     "execution_count": 6,
     "metadata": {},
     "output_type": "execute_result"
    }
   ],
   "source": [
    "gp.set_geophysics_obj(interp_data,  [7.060000e+05,746000,6864000,6924000,-20000, 200],\n",
    "                                             [21, 31], range_max=None) # X, Y"
   ]
  },
  {
   "cell_type": "code",
   "execution_count": 7,
   "metadata": {},
   "outputs": [],
   "source": [
    "gp.precomputations_gravity(interp_data, 25, [2.92, 3.1, 2.92, 2.61, 2.61]);"
   ]
  },
  {
   "cell_type": "code",
   "execution_count": 23,
   "metadata": {},
   "outputs": [
    {
     "data": {
      "text/plain": [
       "352760625"
      ]
     },
     "execution_count": 23,
     "metadata": {},
     "output_type": "execute_result"
    }
   ],
   "source": [
    "a = interp_data.interpolator.tg.select.get_value()\n",
    "a.nbytes"
   ]
  },
  {
   "cell_type": "code",
   "execution_count": 8,
   "metadata": {},
   "outputs": [],
   "source": [
    "lith_block, fault_block, grav_plane = gp.compute_model(interp_data, output='gravity')"
   ]
  },
  {
   "cell_type": "markdown",
   "metadata": {},
   "source": [
    "Now if we analyse the results we have a 3D array where the axis 0 represent the superposition of the series (potential fields). The color coding is working process yet."
   ]
  },
  {
   "cell_type": "code",
   "execution_count": 10,
   "metadata": {},
   "outputs": [
    {
     "data": {
      "application/javascript": [
       "/* Put everything inside the global mpl namespace */\n",
       "window.mpl = {};\n",
       "\n",
       "\n",
       "mpl.get_websocket_type = function() {\n",
       "    if (typeof(WebSocket) !== 'undefined') {\n",
       "        return WebSocket;\n",
       "    } else if (typeof(MozWebSocket) !== 'undefined') {\n",
       "        return MozWebSocket;\n",
       "    } else {\n",
       "        alert('Your browser does not have WebSocket support.' +\n",
       "              'Please try Chrome, Safari or Firefox ≥ 6. ' +\n",
       "              'Firefox 4 and 5 are also supported but you ' +\n",
       "              'have to enable WebSockets in about:config.');\n",
       "    };\n",
       "}\n",
       "\n",
       "mpl.figure = function(figure_id, websocket, ondownload, parent_element) {\n",
       "    this.id = figure_id;\n",
       "\n",
       "    this.ws = websocket;\n",
       "\n",
       "    this.supports_binary = (this.ws.binaryType != undefined);\n",
       "\n",
       "    if (!this.supports_binary) {\n",
       "        var warnings = document.getElementById(\"mpl-warnings\");\n",
       "        if (warnings) {\n",
       "            warnings.style.display = 'block';\n",
       "            warnings.textContent = (\n",
       "                \"This browser does not support binary websocket messages. \" +\n",
       "                    \"Performance may be slow.\");\n",
       "        }\n",
       "    }\n",
       "\n",
       "    this.imageObj = new Image();\n",
       "\n",
       "    this.context = undefined;\n",
       "    this.message = undefined;\n",
       "    this.canvas = undefined;\n",
       "    this.rubberband_canvas = undefined;\n",
       "    this.rubberband_context = undefined;\n",
       "    this.format_dropdown = undefined;\n",
       "\n",
       "    this.image_mode = 'full';\n",
       "\n",
       "    this.root = $('<div/>');\n",
       "    this._root_extra_style(this.root)\n",
       "    this.root.attr('style', 'display: inline-block');\n",
       "\n",
       "    $(parent_element).append(this.root);\n",
       "\n",
       "    this._init_header(this);\n",
       "    this._init_canvas(this);\n",
       "    this._init_toolbar(this);\n",
       "\n",
       "    var fig = this;\n",
       "\n",
       "    this.waiting = false;\n",
       "\n",
       "    this.ws.onopen =  function () {\n",
       "            fig.send_message(\"supports_binary\", {value: fig.supports_binary});\n",
       "            fig.send_message(\"send_image_mode\", {});\n",
       "            if (mpl.ratio != 1) {\n",
       "                fig.send_message(\"set_dpi_ratio\", {'dpi_ratio': mpl.ratio});\n",
       "            }\n",
       "            fig.send_message(\"refresh\", {});\n",
       "        }\n",
       "\n",
       "    this.imageObj.onload = function() {\n",
       "            if (fig.image_mode == 'full') {\n",
       "                // Full images could contain transparency (where diff images\n",
       "                // almost always do), so we need to clear the canvas so that\n",
       "                // there is no ghosting.\n",
       "                fig.context.clearRect(0, 0, fig.canvas.width, fig.canvas.height);\n",
       "            }\n",
       "            fig.context.drawImage(fig.imageObj, 0, 0);\n",
       "        };\n",
       "\n",
       "    this.imageObj.onunload = function() {\n",
       "        fig.ws.close();\n",
       "    }\n",
       "\n",
       "    this.ws.onmessage = this._make_on_message_function(this);\n",
       "\n",
       "    this.ondownload = ondownload;\n",
       "}\n",
       "\n",
       "mpl.figure.prototype._init_header = function() {\n",
       "    var titlebar = $(\n",
       "        '<div class=\"ui-dialog-titlebar ui-widget-header ui-corner-all ' +\n",
       "        'ui-helper-clearfix\"/>');\n",
       "    var titletext = $(\n",
       "        '<div class=\"ui-dialog-title\" style=\"width: 100%; ' +\n",
       "        'text-align: center; padding: 3px;\"/>');\n",
       "    titlebar.append(titletext)\n",
       "    this.root.append(titlebar);\n",
       "    this.header = titletext[0];\n",
       "}\n",
       "\n",
       "\n",
       "\n",
       "mpl.figure.prototype._canvas_extra_style = function(canvas_div) {\n",
       "\n",
       "}\n",
       "\n",
       "\n",
       "mpl.figure.prototype._root_extra_style = function(canvas_div) {\n",
       "\n",
       "}\n",
       "\n",
       "mpl.figure.prototype._init_canvas = function() {\n",
       "    var fig = this;\n",
       "\n",
       "    var canvas_div = $('<div/>');\n",
       "\n",
       "    canvas_div.attr('style', 'position: relative; clear: both; outline: 0');\n",
       "\n",
       "    function canvas_keyboard_event(event) {\n",
       "        return fig.key_event(event, event['data']);\n",
       "    }\n",
       "\n",
       "    canvas_div.keydown('key_press', canvas_keyboard_event);\n",
       "    canvas_div.keyup('key_release', canvas_keyboard_event);\n",
       "    this.canvas_div = canvas_div\n",
       "    this._canvas_extra_style(canvas_div)\n",
       "    this.root.append(canvas_div);\n",
       "\n",
       "    var canvas = $('<canvas/>');\n",
       "    canvas.addClass('mpl-canvas');\n",
       "    canvas.attr('style', \"left: 0; top: 0; z-index: 0; outline: 0\")\n",
       "\n",
       "    this.canvas = canvas[0];\n",
       "    this.context = canvas[0].getContext(\"2d\");\n",
       "\n",
       "    var backingStore = this.context.backingStorePixelRatio ||\n",
       "\tthis.context.webkitBackingStorePixelRatio ||\n",
       "\tthis.context.mozBackingStorePixelRatio ||\n",
       "\tthis.context.msBackingStorePixelRatio ||\n",
       "\tthis.context.oBackingStorePixelRatio ||\n",
       "\tthis.context.backingStorePixelRatio || 1;\n",
       "\n",
       "    mpl.ratio = (window.devicePixelRatio || 1) / backingStore;\n",
       "\n",
       "    var rubberband = $('<canvas/>');\n",
       "    rubberband.attr('style', \"position: absolute; left: 0; top: 0; z-index: 1;\")\n",
       "\n",
       "    var pass_mouse_events = true;\n",
       "\n",
       "    canvas_div.resizable({\n",
       "        start: function(event, ui) {\n",
       "            pass_mouse_events = false;\n",
       "        },\n",
       "        resize: function(event, ui) {\n",
       "            fig.request_resize(ui.size.width, ui.size.height);\n",
       "        },\n",
       "        stop: function(event, ui) {\n",
       "            pass_mouse_events = true;\n",
       "            fig.request_resize(ui.size.width, ui.size.height);\n",
       "        },\n",
       "    });\n",
       "\n",
       "    function mouse_event_fn(event) {\n",
       "        if (pass_mouse_events)\n",
       "            return fig.mouse_event(event, event['data']);\n",
       "    }\n",
       "\n",
       "    rubberband.mousedown('button_press', mouse_event_fn);\n",
       "    rubberband.mouseup('button_release', mouse_event_fn);\n",
       "    // Throttle sequential mouse events to 1 every 20ms.\n",
       "    rubberband.mousemove('motion_notify', mouse_event_fn);\n",
       "\n",
       "    rubberband.mouseenter('figure_enter', mouse_event_fn);\n",
       "    rubberband.mouseleave('figure_leave', mouse_event_fn);\n",
       "\n",
       "    canvas_div.on(\"wheel\", function (event) {\n",
       "        event = event.originalEvent;\n",
       "        event['data'] = 'scroll'\n",
       "        if (event.deltaY < 0) {\n",
       "            event.step = 1;\n",
       "        } else {\n",
       "            event.step = -1;\n",
       "        }\n",
       "        mouse_event_fn(event);\n",
       "    });\n",
       "\n",
       "    canvas_div.append(canvas);\n",
       "    canvas_div.append(rubberband);\n",
       "\n",
       "    this.rubberband = rubberband;\n",
       "    this.rubberband_canvas = rubberband[0];\n",
       "    this.rubberband_context = rubberband[0].getContext(\"2d\");\n",
       "    this.rubberband_context.strokeStyle = \"#000000\";\n",
       "\n",
       "    this._resize_canvas = function(width, height) {\n",
       "        // Keep the size of the canvas, canvas container, and rubber band\n",
       "        // canvas in synch.\n",
       "        canvas_div.css('width', width)\n",
       "        canvas_div.css('height', height)\n",
       "\n",
       "        canvas.attr('width', width * mpl.ratio);\n",
       "        canvas.attr('height', height * mpl.ratio);\n",
       "        canvas.attr('style', 'width: ' + width + 'px; height: ' + height + 'px;');\n",
       "\n",
       "        rubberband.attr('width', width);\n",
       "        rubberband.attr('height', height);\n",
       "    }\n",
       "\n",
       "    // Set the figure to an initial 600x600px, this will subsequently be updated\n",
       "    // upon first draw.\n",
       "    this._resize_canvas(600, 600);\n",
       "\n",
       "    // Disable right mouse context menu.\n",
       "    $(this.rubberband_canvas).bind(\"contextmenu\",function(e){\n",
       "        return false;\n",
       "    });\n",
       "\n",
       "    function set_focus () {\n",
       "        canvas.focus();\n",
       "        canvas_div.focus();\n",
       "    }\n",
       "\n",
       "    window.setTimeout(set_focus, 100);\n",
       "}\n",
       "\n",
       "mpl.figure.prototype._init_toolbar = function() {\n",
       "    var fig = this;\n",
       "\n",
       "    var nav_element = $('<div/>')\n",
       "    nav_element.attr('style', 'width: 100%');\n",
       "    this.root.append(nav_element);\n",
       "\n",
       "    // Define a callback function for later on.\n",
       "    function toolbar_event(event) {\n",
       "        return fig.toolbar_button_onclick(event['data']);\n",
       "    }\n",
       "    function toolbar_mouse_event(event) {\n",
       "        return fig.toolbar_button_onmouseover(event['data']);\n",
       "    }\n",
       "\n",
       "    for(var toolbar_ind in mpl.toolbar_items) {\n",
       "        var name = mpl.toolbar_items[toolbar_ind][0];\n",
       "        var tooltip = mpl.toolbar_items[toolbar_ind][1];\n",
       "        var image = mpl.toolbar_items[toolbar_ind][2];\n",
       "        var method_name = mpl.toolbar_items[toolbar_ind][3];\n",
       "\n",
       "        if (!name) {\n",
       "            // put a spacer in here.\n",
       "            continue;\n",
       "        }\n",
       "        var button = $('<button/>');\n",
       "        button.addClass('ui-button ui-widget ui-state-default ui-corner-all ' +\n",
       "                        'ui-button-icon-only');\n",
       "        button.attr('role', 'button');\n",
       "        button.attr('aria-disabled', 'false');\n",
       "        button.click(method_name, toolbar_event);\n",
       "        button.mouseover(tooltip, toolbar_mouse_event);\n",
       "\n",
       "        var icon_img = $('<span/>');\n",
       "        icon_img.addClass('ui-button-icon-primary ui-icon');\n",
       "        icon_img.addClass(image);\n",
       "        icon_img.addClass('ui-corner-all');\n",
       "\n",
       "        var tooltip_span = $('<span/>');\n",
       "        tooltip_span.addClass('ui-button-text');\n",
       "        tooltip_span.html(tooltip);\n",
       "\n",
       "        button.append(icon_img);\n",
       "        button.append(tooltip_span);\n",
       "\n",
       "        nav_element.append(button);\n",
       "    }\n",
       "\n",
       "    var fmt_picker_span = $('<span/>');\n",
       "\n",
       "    var fmt_picker = $('<select/>');\n",
       "    fmt_picker.addClass('mpl-toolbar-option ui-widget ui-widget-content');\n",
       "    fmt_picker_span.append(fmt_picker);\n",
       "    nav_element.append(fmt_picker_span);\n",
       "    this.format_dropdown = fmt_picker[0];\n",
       "\n",
       "    for (var ind in mpl.extensions) {\n",
       "        var fmt = mpl.extensions[ind];\n",
       "        var option = $(\n",
       "            '<option/>', {selected: fmt === mpl.default_extension}).html(fmt);\n",
       "        fmt_picker.append(option)\n",
       "    }\n",
       "\n",
       "    // Add hover states to the ui-buttons\n",
       "    $( \".ui-button\" ).hover(\n",
       "        function() { $(this).addClass(\"ui-state-hover\");},\n",
       "        function() { $(this).removeClass(\"ui-state-hover\");}\n",
       "    );\n",
       "\n",
       "    var status_bar = $('<span class=\"mpl-message\"/>');\n",
       "    nav_element.append(status_bar);\n",
       "    this.message = status_bar[0];\n",
       "}\n",
       "\n",
       "mpl.figure.prototype.request_resize = function(x_pixels, y_pixels) {\n",
       "    // Request matplotlib to resize the figure. Matplotlib will then trigger a resize in the client,\n",
       "    // which will in turn request a refresh of the image.\n",
       "    this.send_message('resize', {'width': x_pixels, 'height': y_pixels});\n",
       "}\n",
       "\n",
       "mpl.figure.prototype.send_message = function(type, properties) {\n",
       "    properties['type'] = type;\n",
       "    properties['figure_id'] = this.id;\n",
       "    this.ws.send(JSON.stringify(properties));\n",
       "}\n",
       "\n",
       "mpl.figure.prototype.send_draw_message = function() {\n",
       "    if (!this.waiting) {\n",
       "        this.waiting = true;\n",
       "        this.ws.send(JSON.stringify({type: \"draw\", figure_id: this.id}));\n",
       "    }\n",
       "}\n",
       "\n",
       "\n",
       "mpl.figure.prototype.handle_save = function(fig, msg) {\n",
       "    var format_dropdown = fig.format_dropdown;\n",
       "    var format = format_dropdown.options[format_dropdown.selectedIndex].value;\n",
       "    fig.ondownload(fig, format);\n",
       "}\n",
       "\n",
       "\n",
       "mpl.figure.prototype.handle_resize = function(fig, msg) {\n",
       "    var size = msg['size'];\n",
       "    if (size[0] != fig.canvas.width || size[1] != fig.canvas.height) {\n",
       "        fig._resize_canvas(size[0], size[1]);\n",
       "        fig.send_message(\"refresh\", {});\n",
       "    };\n",
       "}\n",
       "\n",
       "mpl.figure.prototype.handle_rubberband = function(fig, msg) {\n",
       "    var x0 = msg['x0'] / mpl.ratio;\n",
       "    var y0 = (fig.canvas.height - msg['y0']) / mpl.ratio;\n",
       "    var x1 = msg['x1'] / mpl.ratio;\n",
       "    var y1 = (fig.canvas.height - msg['y1']) / mpl.ratio;\n",
       "    x0 = Math.floor(x0) + 0.5;\n",
       "    y0 = Math.floor(y0) + 0.5;\n",
       "    x1 = Math.floor(x1) + 0.5;\n",
       "    y1 = Math.floor(y1) + 0.5;\n",
       "    var min_x = Math.min(x0, x1);\n",
       "    var min_y = Math.min(y0, y1);\n",
       "    var width = Math.abs(x1 - x0);\n",
       "    var height = Math.abs(y1 - y0);\n",
       "\n",
       "    fig.rubberband_context.clearRect(\n",
       "        0, 0, fig.canvas.width, fig.canvas.height);\n",
       "\n",
       "    fig.rubberband_context.strokeRect(min_x, min_y, width, height);\n",
       "}\n",
       "\n",
       "mpl.figure.prototype.handle_figure_label = function(fig, msg) {\n",
       "    // Updates the figure title.\n",
       "    fig.header.textContent = msg['label'];\n",
       "}\n",
       "\n",
       "mpl.figure.prototype.handle_cursor = function(fig, msg) {\n",
       "    var cursor = msg['cursor'];\n",
       "    switch(cursor)\n",
       "    {\n",
       "    case 0:\n",
       "        cursor = 'pointer';\n",
       "        break;\n",
       "    case 1:\n",
       "        cursor = 'default';\n",
       "        break;\n",
       "    case 2:\n",
       "        cursor = 'crosshair';\n",
       "        break;\n",
       "    case 3:\n",
       "        cursor = 'move';\n",
       "        break;\n",
       "    }\n",
       "    fig.rubberband_canvas.style.cursor = cursor;\n",
       "}\n",
       "\n",
       "mpl.figure.prototype.handle_message = function(fig, msg) {\n",
       "    fig.message.textContent = msg['message'];\n",
       "}\n",
       "\n",
       "mpl.figure.prototype.handle_draw = function(fig, msg) {\n",
       "    // Request the server to send over a new figure.\n",
       "    fig.send_draw_message();\n",
       "}\n",
       "\n",
       "mpl.figure.prototype.handle_image_mode = function(fig, msg) {\n",
       "    fig.image_mode = msg['mode'];\n",
       "}\n",
       "\n",
       "mpl.figure.prototype.updated_canvas_event = function() {\n",
       "    // Called whenever the canvas gets updated.\n",
       "    this.send_message(\"ack\", {});\n",
       "}\n",
       "\n",
       "// A function to construct a web socket function for onmessage handling.\n",
       "// Called in the figure constructor.\n",
       "mpl.figure.prototype._make_on_message_function = function(fig) {\n",
       "    return function socket_on_message(evt) {\n",
       "        if (evt.data instanceof Blob) {\n",
       "            /* FIXME: We get \"Resource interpreted as Image but\n",
       "             * transferred with MIME type text/plain:\" errors on\n",
       "             * Chrome.  But how to set the MIME type?  It doesn't seem\n",
       "             * to be part of the websocket stream */\n",
       "            evt.data.type = \"image/png\";\n",
       "\n",
       "            /* Free the memory for the previous frames */\n",
       "            if (fig.imageObj.src) {\n",
       "                (window.URL || window.webkitURL).revokeObjectURL(\n",
       "                    fig.imageObj.src);\n",
       "            }\n",
       "\n",
       "            fig.imageObj.src = (window.URL || window.webkitURL).createObjectURL(\n",
       "                evt.data);\n",
       "            fig.updated_canvas_event();\n",
       "            fig.waiting = false;\n",
       "            return;\n",
       "        }\n",
       "        else if (typeof evt.data === 'string' && evt.data.slice(0, 21) == \"data:image/png;base64\") {\n",
       "            fig.imageObj.src = evt.data;\n",
       "            fig.updated_canvas_event();\n",
       "            fig.waiting = false;\n",
       "            return;\n",
       "        }\n",
       "\n",
       "        var msg = JSON.parse(evt.data);\n",
       "        var msg_type = msg['type'];\n",
       "\n",
       "        // Call the  \"handle_{type}\" callback, which takes\n",
       "        // the figure and JSON message as its only arguments.\n",
       "        try {\n",
       "            var callback = fig[\"handle_\" + msg_type];\n",
       "        } catch (e) {\n",
       "            console.log(\"No handler for the '\" + msg_type + \"' message type: \", msg);\n",
       "            return;\n",
       "        }\n",
       "\n",
       "        if (callback) {\n",
       "            try {\n",
       "                // console.log(\"Handling '\" + msg_type + \"' message: \", msg);\n",
       "                callback(fig, msg);\n",
       "            } catch (e) {\n",
       "                console.log(\"Exception inside the 'handler_\" + msg_type + \"' callback:\", e, e.stack, msg);\n",
       "            }\n",
       "        }\n",
       "    };\n",
       "}\n",
       "\n",
       "// from http://stackoverflow.com/questions/1114465/getting-mouse-location-in-canvas\n",
       "mpl.findpos = function(e) {\n",
       "    //this section is from http://www.quirksmode.org/js/events_properties.html\n",
       "    var targ;\n",
       "    if (!e)\n",
       "        e = window.event;\n",
       "    if (e.target)\n",
       "        targ = e.target;\n",
       "    else if (e.srcElement)\n",
       "        targ = e.srcElement;\n",
       "    if (targ.nodeType == 3) // defeat Safari bug\n",
       "        targ = targ.parentNode;\n",
       "\n",
       "    // jQuery normalizes the pageX and pageY\n",
       "    // pageX,Y are the mouse positions relative to the document\n",
       "    // offset() returns the position of the element relative to the document\n",
       "    var x = e.pageX - $(targ).offset().left;\n",
       "    var y = e.pageY - $(targ).offset().top;\n",
       "\n",
       "    return {\"x\": x, \"y\": y};\n",
       "};\n",
       "\n",
       "/*\n",
       " * return a copy of an object with only non-object keys\n",
       " * we need this to avoid circular references\n",
       " * http://stackoverflow.com/a/24161582/3208463\n",
       " */\n",
       "function simpleKeys (original) {\n",
       "  return Object.keys(original).reduce(function (obj, key) {\n",
       "    if (typeof original[key] !== 'object')\n",
       "        obj[key] = original[key]\n",
       "    return obj;\n",
       "  }, {});\n",
       "}\n",
       "\n",
       "mpl.figure.prototype.mouse_event = function(event, name) {\n",
       "    var canvas_pos = mpl.findpos(event)\n",
       "\n",
       "    if (name === 'button_press')\n",
       "    {\n",
       "        this.canvas.focus();\n",
       "        this.canvas_div.focus();\n",
       "    }\n",
       "\n",
       "    var x = canvas_pos.x * mpl.ratio;\n",
       "    var y = canvas_pos.y * mpl.ratio;\n",
       "\n",
       "    this.send_message(name, {x: x, y: y, button: event.button,\n",
       "                             step: event.step,\n",
       "                             guiEvent: simpleKeys(event)});\n",
       "\n",
       "    /* This prevents the web browser from automatically changing to\n",
       "     * the text insertion cursor when the button is pressed.  We want\n",
       "     * to control all of the cursor setting manually through the\n",
       "     * 'cursor' event from matplotlib */\n",
       "    event.preventDefault();\n",
       "    return false;\n",
       "}\n",
       "\n",
       "mpl.figure.prototype._key_event_extra = function(event, name) {\n",
       "    // Handle any extra behaviour associated with a key event\n",
       "}\n",
       "\n",
       "mpl.figure.prototype.key_event = function(event, name) {\n",
       "\n",
       "    // Prevent repeat events\n",
       "    if (name == 'key_press')\n",
       "    {\n",
       "        if (event.which === this._key)\n",
       "            return;\n",
       "        else\n",
       "            this._key = event.which;\n",
       "    }\n",
       "    if (name == 'key_release')\n",
       "        this._key = null;\n",
       "\n",
       "    var value = '';\n",
       "    if (event.ctrlKey && event.which != 17)\n",
       "        value += \"ctrl+\";\n",
       "    if (event.altKey && event.which != 18)\n",
       "        value += \"alt+\";\n",
       "    if (event.shiftKey && event.which != 16)\n",
       "        value += \"shift+\";\n",
       "\n",
       "    value += 'k';\n",
       "    value += event.which.toString();\n",
       "\n",
       "    this._key_event_extra(event, name);\n",
       "\n",
       "    this.send_message(name, {key: value,\n",
       "                             guiEvent: simpleKeys(event)});\n",
       "    return false;\n",
       "}\n",
       "\n",
       "mpl.figure.prototype.toolbar_button_onclick = function(name) {\n",
       "    if (name == 'download') {\n",
       "        this.handle_save(this, null);\n",
       "    } else {\n",
       "        this.send_message(\"toolbar_button\", {name: name});\n",
       "    }\n",
       "};\n",
       "\n",
       "mpl.figure.prototype.toolbar_button_onmouseover = function(tooltip) {\n",
       "    this.message.textContent = tooltip;\n",
       "};\n",
       "mpl.toolbar_items = [[\"Home\", \"Reset original view\", \"fa fa-home icon-home\", \"home\"], [\"Back\", \"Back to  previous view\", \"fa fa-arrow-left icon-arrow-left\", \"back\"], [\"Forward\", \"Forward to next view\", \"fa fa-arrow-right icon-arrow-right\", \"forward\"], [\"\", \"\", \"\", \"\"], [\"Pan\", \"Pan axes with left mouse, zoom with right\", \"fa fa-arrows icon-move\", \"pan\"], [\"Zoom\", \"Zoom to rectangle\", \"fa fa-square-o icon-check-empty\", \"zoom\"], [\"\", \"\", \"\", \"\"], [\"Download\", \"Download plot\", \"fa fa-floppy-o icon-save\", \"download\"]];\n",
       "\n",
       "mpl.extensions = [\"eps\", \"jpeg\", \"pdf\", \"png\", \"ps\", \"raw\", \"svg\", \"tif\"];\n",
       "\n",
       "mpl.default_extension = \"png\";var comm_websocket_adapter = function(comm) {\n",
       "    // Create a \"websocket\"-like object which calls the given IPython comm\n",
       "    // object with the appropriate methods. Currently this is a non binary\n",
       "    // socket, so there is still some room for performance tuning.\n",
       "    var ws = {};\n",
       "\n",
       "    ws.close = function() {\n",
       "        comm.close()\n",
       "    };\n",
       "    ws.send = function(m) {\n",
       "        //console.log('sending', m);\n",
       "        comm.send(m);\n",
       "    };\n",
       "    // Register the callback with on_msg.\n",
       "    comm.on_msg(function(msg) {\n",
       "        //console.log('receiving', msg['content']['data'], msg);\n",
       "        // Pass the mpl event to the overriden (by mpl) onmessage function.\n",
       "        ws.onmessage(msg['content']['data'])\n",
       "    });\n",
       "    return ws;\n",
       "}\n",
       "\n",
       "mpl.mpl_figure_comm = function(comm, msg) {\n",
       "    // This is the function which gets called when the mpl process\n",
       "    // starts-up an IPython Comm through the \"matplotlib\" channel.\n",
       "\n",
       "    var id = msg.content.data.id;\n",
       "    // Get hold of the div created by the display call when the Comm\n",
       "    // socket was opened in Python.\n",
       "    var element = $(\"#\" + id);\n",
       "    var ws_proxy = comm_websocket_adapter(comm)\n",
       "\n",
       "    function ondownload(figure, format) {\n",
       "        window.open(figure.imageObj.src);\n",
       "    }\n",
       "\n",
       "    var fig = new mpl.figure(id, ws_proxy,\n",
       "                           ondownload,\n",
       "                           element.get(0));\n",
       "\n",
       "    // Call onopen now - mpl needs it, as it is assuming we've passed it a real\n",
       "    // web socket which is closed, not our websocket->open comm proxy.\n",
       "    ws_proxy.onopen();\n",
       "\n",
       "    fig.parent_element = element.get(0);\n",
       "    fig.cell_info = mpl.find_output_cell(\"<div id='\" + id + \"'></div>\");\n",
       "    if (!fig.cell_info) {\n",
       "        console.error(\"Failed to find cell for figure\", id, fig);\n",
       "        return;\n",
       "    }\n",
       "\n",
       "    var output_index = fig.cell_info[2]\n",
       "    var cell = fig.cell_info[0];\n",
       "\n",
       "};\n",
       "\n",
       "mpl.figure.prototype.handle_close = function(fig, msg) {\n",
       "    var width = fig.canvas.width/mpl.ratio\n",
       "    fig.root.unbind('remove')\n",
       "\n",
       "    // Update the output cell to use the data from the current canvas.\n",
       "    fig.push_to_output();\n",
       "    var dataURL = fig.canvas.toDataURL();\n",
       "    // Re-enable the keyboard manager in IPython - without this line, in FF,\n",
       "    // the notebook keyboard shortcuts fail.\n",
       "    IPython.keyboard_manager.enable()\n",
       "    $(fig.parent_element).html('<img src=\"' + dataURL + '\" width=\"' + width + '\">');\n",
       "    fig.close_ws(fig, msg);\n",
       "}\n",
       "\n",
       "mpl.figure.prototype.close_ws = function(fig, msg){\n",
       "    fig.send_message('closing', msg);\n",
       "    // fig.ws.close()\n",
       "}\n",
       "\n",
       "mpl.figure.prototype.push_to_output = function(remove_interactive) {\n",
       "    // Turn the data on the canvas into data in the output cell.\n",
       "    var width = this.canvas.width/mpl.ratio\n",
       "    var dataURL = this.canvas.toDataURL();\n",
       "    this.cell_info[1]['text/html'] = '<img src=\"' + dataURL + '\" width=\"' + width + '\">';\n",
       "}\n",
       "\n",
       "mpl.figure.prototype.updated_canvas_event = function() {\n",
       "    // Tell IPython that the notebook contents must change.\n",
       "    IPython.notebook.set_dirty(true);\n",
       "    this.send_message(\"ack\", {});\n",
       "    var fig = this;\n",
       "    // Wait a second, then push the new image to the DOM so\n",
       "    // that it is saved nicely (might be nice to debounce this).\n",
       "    setTimeout(function () { fig.push_to_output() }, 1000);\n",
       "}\n",
       "\n",
       "mpl.figure.prototype._init_toolbar = function() {\n",
       "    var fig = this;\n",
       "\n",
       "    var nav_element = $('<div/>')\n",
       "    nav_element.attr('style', 'width: 100%');\n",
       "    this.root.append(nav_element);\n",
       "\n",
       "    // Define a callback function for later on.\n",
       "    function toolbar_event(event) {\n",
       "        return fig.toolbar_button_onclick(event['data']);\n",
       "    }\n",
       "    function toolbar_mouse_event(event) {\n",
       "        return fig.toolbar_button_onmouseover(event['data']);\n",
       "    }\n",
       "\n",
       "    for(var toolbar_ind in mpl.toolbar_items){\n",
       "        var name = mpl.toolbar_items[toolbar_ind][0];\n",
       "        var tooltip = mpl.toolbar_items[toolbar_ind][1];\n",
       "        var image = mpl.toolbar_items[toolbar_ind][2];\n",
       "        var method_name = mpl.toolbar_items[toolbar_ind][3];\n",
       "\n",
       "        if (!name) { continue; };\n",
       "\n",
       "        var button = $('<button class=\"btn btn-default\" href=\"#\" title=\"' + name + '\"><i class=\"fa ' + image + ' fa-lg\"></i></button>');\n",
       "        button.click(method_name, toolbar_event);\n",
       "        button.mouseover(tooltip, toolbar_mouse_event);\n",
       "        nav_element.append(button);\n",
       "    }\n",
       "\n",
       "    // Add the status bar.\n",
       "    var status_bar = $('<span class=\"mpl-message\" style=\"text-align:right; float: right;\"/>');\n",
       "    nav_element.append(status_bar);\n",
       "    this.message = status_bar[0];\n",
       "\n",
       "    // Add the close button to the window.\n",
       "    var buttongrp = $('<div class=\"btn-group inline pull-right\"></div>');\n",
       "    var button = $('<button class=\"btn btn-mini btn-primary\" href=\"#\" title=\"Stop Interaction\"><i class=\"fa fa-power-off icon-remove icon-large\"></i></button>');\n",
       "    button.click(function (evt) { fig.handle_close(fig, {}); } );\n",
       "    button.mouseover('Stop Interaction', toolbar_mouse_event);\n",
       "    buttongrp.append(button);\n",
       "    var titlebar = this.root.find($('.ui-dialog-titlebar'));\n",
       "    titlebar.prepend(buttongrp);\n",
       "}\n",
       "\n",
       "mpl.figure.prototype._root_extra_style = function(el){\n",
       "    var fig = this\n",
       "    el.on(\"remove\", function(){\n",
       "\tfig.close_ws(fig, {});\n",
       "    });\n",
       "}\n",
       "\n",
       "mpl.figure.prototype._canvas_extra_style = function(el){\n",
       "    // this is important to make the div 'focusable\n",
       "    el.attr('tabindex', 0)\n",
       "    // reach out to IPython and tell the keyboard manager to turn it's self\n",
       "    // off when our div gets focus\n",
       "\n",
       "    // location in version 3\n",
       "    if (IPython.notebook.keyboard_manager) {\n",
       "        IPython.notebook.keyboard_manager.register_events(el);\n",
       "    }\n",
       "    else {\n",
       "        // location in version 2\n",
       "        IPython.keyboard_manager.register_events(el);\n",
       "    }\n",
       "\n",
       "}\n",
       "\n",
       "mpl.figure.prototype._key_event_extra = function(event, name) {\n",
       "    var manager = IPython.notebook.keyboard_manager;\n",
       "    if (!manager)\n",
       "        manager = IPython.keyboard_manager;\n",
       "\n",
       "    // Check for shift+enter\n",
       "    if (event.shiftKey && event.which == 13) {\n",
       "        this.canvas_div.blur();\n",
       "        event.shiftKey = false;\n",
       "        // Send a \"J\" for go to next cell\n",
       "        event.which = 74;\n",
       "        event.keyCode = 74;\n",
       "        manager.command_mode();\n",
       "        manager.handle_keydown(event);\n",
       "    }\n",
       "}\n",
       "\n",
       "mpl.figure.prototype.handle_save = function(fig, msg) {\n",
       "    fig.ondownload(fig, null);\n",
       "}\n",
       "\n",
       "\n",
       "mpl.find_output_cell = function(html_output) {\n",
       "    // Return the cell and output element which can be found *uniquely* in the notebook.\n",
       "    // Note - this is a bit hacky, but it is done because the \"notebook_saving.Notebook\"\n",
       "    // IPython event is triggered only after the cells have been serialised, which for\n",
       "    // our purposes (turning an active figure into a static one), is too late.\n",
       "    var cells = IPython.notebook.get_cells();\n",
       "    var ncells = cells.length;\n",
       "    for (var i=0; i<ncells; i++) {\n",
       "        var cell = cells[i];\n",
       "        if (cell.cell_type === 'code'){\n",
       "            for (var j=0; j<cell.output_area.outputs.length; j++) {\n",
       "                var data = cell.output_area.outputs[j];\n",
       "                if (data.data) {\n",
       "                    // IPython >= 3 moved mimebundle to data attribute of output\n",
       "                    data = data.data;\n",
       "                }\n",
       "                if (data['text/html'] == html_output) {\n",
       "                    return [cell, data, j];\n",
       "                }\n",
       "            }\n",
       "        }\n",
       "    }\n",
       "}\n",
       "\n",
       "// Register the function which deals with the matplotlib target/channel.\n",
       "// The kernel may be null if the page has been refreshed.\n",
       "if (IPython.notebook.kernel != null) {\n",
       "    IPython.notebook.kernel.comm_manager.register_target('matplotlib', mpl.mpl_figure_comm);\n",
       "}\n"
      ],
      "text/plain": [
       "<IPython.core.display.Javascript object>"
      ]
     },
     "metadata": {},
     "output_type": "display_data"
    },
    {
     "data": {
      "text/html": [
       "<img src=\"data:image/png;base64,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\" width=\"1849.8332782040056\">"
      ],
      "text/plain": [
       "<IPython.core.display.HTML object>"
      ]
     },
     "metadata": {},
     "output_type": "display_data"
    },
    {
     "data": {
      "text/plain": [
       "<matplotlib.patches.Rectangle at 0x7fd67020d080>"
      ]
     },
     "execution_count": 10,
     "metadata": {},
     "output_type": "execute_result"
    }
   ],
   "source": [
    "import matplotlib.pyplot as plt\n",
    "\n",
    "gp.plot_section(geo_data, lith_block[0], -1, plot_data=True, direction='z')\n",
    "fig = plt.gcf()\n",
    "fig.set_size_inches(18.5, 10.5)\n",
    "\n",
    "fig = plt.gcf()\n",
    "fig.set_size_inches(18.5, 10.5)\n",
    "\n",
    "from matplotlib.patches import Rectangle\n",
    "\n",
    "currentAxis = plt.gca()\n",
    "\n",
    "currentAxis.add_patch(Rectangle((7.050000e+05, 6863000),  747000 - 7.050000e+05, 6925000 - 6863000,\n",
    "                      alpha=0.3, fill='none', color ='green' ))"
   ]
  },
  {
   "cell_type": "code",
   "execution_count": 24,
   "metadata": {},
   "outputs": [
    {
     "data": {
      "application/javascript": [
       "/* Put everything inside the global mpl namespace */\n",
       "window.mpl = {};\n",
       "\n",
       "\n",
       "mpl.get_websocket_type = function() {\n",
       "    if (typeof(WebSocket) !== 'undefined') {\n",
       "        return WebSocket;\n",
       "    } else if (typeof(MozWebSocket) !== 'undefined') {\n",
       "        return MozWebSocket;\n",
       "    } else {\n",
       "        alert('Your browser does not have WebSocket support.' +\n",
       "              'Please try Chrome, Safari or Firefox ≥ 6. ' +\n",
       "              'Firefox 4 and 5 are also supported but you ' +\n",
       "              'have to enable WebSockets in about:config.');\n",
       "    };\n",
       "}\n",
       "\n",
       "mpl.figure = function(figure_id, websocket, ondownload, parent_element) {\n",
       "    this.id = figure_id;\n",
       "\n",
       "    this.ws = websocket;\n",
       "\n",
       "    this.supports_binary = (this.ws.binaryType != undefined);\n",
       "\n",
       "    if (!this.supports_binary) {\n",
       "        var warnings = document.getElementById(\"mpl-warnings\");\n",
       "        if (warnings) {\n",
       "            warnings.style.display = 'block';\n",
       "            warnings.textContent = (\n",
       "                \"This browser does not support binary websocket messages. \" +\n",
       "                    \"Performance may be slow.\");\n",
       "        }\n",
       "    }\n",
       "\n",
       "    this.imageObj = new Image();\n",
       "\n",
       "    this.context = undefined;\n",
       "    this.message = undefined;\n",
       "    this.canvas = undefined;\n",
       "    this.rubberband_canvas = undefined;\n",
       "    this.rubberband_context = undefined;\n",
       "    this.format_dropdown = undefined;\n",
       "\n",
       "    this.image_mode = 'full';\n",
       "\n",
       "    this.root = $('<div/>');\n",
       "    this._root_extra_style(this.root)\n",
       "    this.root.attr('style', 'display: inline-block');\n",
       "\n",
       "    $(parent_element).append(this.root);\n",
       "\n",
       "    this._init_header(this);\n",
       "    this._init_canvas(this);\n",
       "    this._init_toolbar(this);\n",
       "\n",
       "    var fig = this;\n",
       "\n",
       "    this.waiting = false;\n",
       "\n",
       "    this.ws.onopen =  function () {\n",
       "            fig.send_message(\"supports_binary\", {value: fig.supports_binary});\n",
       "            fig.send_message(\"send_image_mode\", {});\n",
       "            if (mpl.ratio != 1) {\n",
       "                fig.send_message(\"set_dpi_ratio\", {'dpi_ratio': mpl.ratio});\n",
       "            }\n",
       "            fig.send_message(\"refresh\", {});\n",
       "        }\n",
       "\n",
       "    this.imageObj.onload = function() {\n",
       "            if (fig.image_mode == 'full') {\n",
       "                // Full images could contain transparency (where diff images\n",
       "                // almost always do), so we need to clear the canvas so that\n",
       "                // there is no ghosting.\n",
       "                fig.context.clearRect(0, 0, fig.canvas.width, fig.canvas.height);\n",
       "            }\n",
       "            fig.context.drawImage(fig.imageObj, 0, 0);\n",
       "        };\n",
       "\n",
       "    this.imageObj.onunload = function() {\n",
       "        fig.ws.close();\n",
       "    }\n",
       "\n",
       "    this.ws.onmessage = this._make_on_message_function(this);\n",
       "\n",
       "    this.ondownload = ondownload;\n",
       "}\n",
       "\n",
       "mpl.figure.prototype._init_header = function() {\n",
       "    var titlebar = $(\n",
       "        '<div class=\"ui-dialog-titlebar ui-widget-header ui-corner-all ' +\n",
       "        'ui-helper-clearfix\"/>');\n",
       "    var titletext = $(\n",
       "        '<div class=\"ui-dialog-title\" style=\"width: 100%; ' +\n",
       "        'text-align: center; padding: 3px;\"/>');\n",
       "    titlebar.append(titletext)\n",
       "    this.root.append(titlebar);\n",
       "    this.header = titletext[0];\n",
       "}\n",
       "\n",
       "\n",
       "\n",
       "mpl.figure.prototype._canvas_extra_style = function(canvas_div) {\n",
       "\n",
       "}\n",
       "\n",
       "\n",
       "mpl.figure.prototype._root_extra_style = function(canvas_div) {\n",
       "\n",
       "}\n",
       "\n",
       "mpl.figure.prototype._init_canvas = function() {\n",
       "    var fig = this;\n",
       "\n",
       "    var canvas_div = $('<div/>');\n",
       "\n",
       "    canvas_div.attr('style', 'position: relative; clear: both; outline: 0');\n",
       "\n",
       "    function canvas_keyboard_event(event) {\n",
       "        return fig.key_event(event, event['data']);\n",
       "    }\n",
       "\n",
       "    canvas_div.keydown('key_press', canvas_keyboard_event);\n",
       "    canvas_div.keyup('key_release', canvas_keyboard_event);\n",
       "    this.canvas_div = canvas_div\n",
       "    this._canvas_extra_style(canvas_div)\n",
       "    this.root.append(canvas_div);\n",
       "\n",
       "    var canvas = $('<canvas/>');\n",
       "    canvas.addClass('mpl-canvas');\n",
       "    canvas.attr('style', \"left: 0; top: 0; z-index: 0; outline: 0\")\n",
       "\n",
       "    this.canvas = canvas[0];\n",
       "    this.context = canvas[0].getContext(\"2d\");\n",
       "\n",
       "    var backingStore = this.context.backingStorePixelRatio ||\n",
       "\tthis.context.webkitBackingStorePixelRatio ||\n",
       "\tthis.context.mozBackingStorePixelRatio ||\n",
       "\tthis.context.msBackingStorePixelRatio ||\n",
       "\tthis.context.oBackingStorePixelRatio ||\n",
       "\tthis.context.backingStorePixelRatio || 1;\n",
       "\n",
       "    mpl.ratio = (window.devicePixelRatio || 1) / backingStore;\n",
       "\n",
       "    var rubberband = $('<canvas/>');\n",
       "    rubberband.attr('style', \"position: absolute; left: 0; top: 0; z-index: 1;\")\n",
       "\n",
       "    var pass_mouse_events = true;\n",
       "\n",
       "    canvas_div.resizable({\n",
       "        start: function(event, ui) {\n",
       "            pass_mouse_events = false;\n",
       "        },\n",
       "        resize: function(event, ui) {\n",
       "            fig.request_resize(ui.size.width, ui.size.height);\n",
       "        },\n",
       "        stop: function(event, ui) {\n",
       "            pass_mouse_events = true;\n",
       "            fig.request_resize(ui.size.width, ui.size.height);\n",
       "        },\n",
       "    });\n",
       "\n",
       "    function mouse_event_fn(event) {\n",
       "        if (pass_mouse_events)\n",
       "            return fig.mouse_event(event, event['data']);\n",
       "    }\n",
       "\n",
       "    rubberband.mousedown('button_press', mouse_event_fn);\n",
       "    rubberband.mouseup('button_release', mouse_event_fn);\n",
       "    // Throttle sequential mouse events to 1 every 20ms.\n",
       "    rubberband.mousemove('motion_notify', mouse_event_fn);\n",
       "\n",
       "    rubberband.mouseenter('figure_enter', mouse_event_fn);\n",
       "    rubberband.mouseleave('figure_leave', mouse_event_fn);\n",
       "\n",
       "    canvas_div.on(\"wheel\", function (event) {\n",
       "        event = event.originalEvent;\n",
       "        event['data'] = 'scroll'\n",
       "        if (event.deltaY < 0) {\n",
       "            event.step = 1;\n",
       "        } else {\n",
       "            event.step = -1;\n",
       "        }\n",
       "        mouse_event_fn(event);\n",
       "    });\n",
       "\n",
       "    canvas_div.append(canvas);\n",
       "    canvas_div.append(rubberband);\n",
       "\n",
       "    this.rubberband = rubberband;\n",
       "    this.rubberband_canvas = rubberband[0];\n",
       "    this.rubberband_context = rubberband[0].getContext(\"2d\");\n",
       "    this.rubberband_context.strokeStyle = \"#000000\";\n",
       "\n",
       "    this._resize_canvas = function(width, height) {\n",
       "        // Keep the size of the canvas, canvas container, and rubber band\n",
       "        // canvas in synch.\n",
       "        canvas_div.css('width', width)\n",
       "        canvas_div.css('height', height)\n",
       "\n",
       "        canvas.attr('width', width * mpl.ratio);\n",
       "        canvas.attr('height', height * mpl.ratio);\n",
       "        canvas.attr('style', 'width: ' + width + 'px; height: ' + height + 'px;');\n",
       "\n",
       "        rubberband.attr('width', width);\n",
       "        rubberband.attr('height', height);\n",
       "    }\n",
       "\n",
       "    // Set the figure to an initial 600x600px, this will subsequently be updated\n",
       "    // upon first draw.\n",
       "    this._resize_canvas(600, 600);\n",
       "\n",
       "    // Disable right mouse context menu.\n",
       "    $(this.rubberband_canvas).bind(\"contextmenu\",function(e){\n",
       "        return false;\n",
       "    });\n",
       "\n",
       "    function set_focus () {\n",
       "        canvas.focus();\n",
       "        canvas_div.focus();\n",
       "    }\n",
       "\n",
       "    window.setTimeout(set_focus, 100);\n",
       "}\n",
       "\n",
       "mpl.figure.prototype._init_toolbar = function() {\n",
       "    var fig = this;\n",
       "\n",
       "    var nav_element = $('<div/>')\n",
       "    nav_element.attr('style', 'width: 100%');\n",
       "    this.root.append(nav_element);\n",
       "\n",
       "    // Define a callback function for later on.\n",
       "    function toolbar_event(event) {\n",
       "        return fig.toolbar_button_onclick(event['data']);\n",
       "    }\n",
       "    function toolbar_mouse_event(event) {\n",
       "        return fig.toolbar_button_onmouseover(event['data']);\n",
       "    }\n",
       "\n",
       "    for(var toolbar_ind in mpl.toolbar_items) {\n",
       "        var name = mpl.toolbar_items[toolbar_ind][0];\n",
       "        var tooltip = mpl.toolbar_items[toolbar_ind][1];\n",
       "        var image = mpl.toolbar_items[toolbar_ind][2];\n",
       "        var method_name = mpl.toolbar_items[toolbar_ind][3];\n",
       "\n",
       "        if (!name) {\n",
       "            // put a spacer in here.\n",
       "            continue;\n",
       "        }\n",
       "        var button = $('<button/>');\n",
       "        button.addClass('ui-button ui-widget ui-state-default ui-corner-all ' +\n",
       "                        'ui-button-icon-only');\n",
       "        button.attr('role', 'button');\n",
       "        button.attr('aria-disabled', 'false');\n",
       "        button.click(method_name, toolbar_event);\n",
       "        button.mouseover(tooltip, toolbar_mouse_event);\n",
       "\n",
       "        var icon_img = $('<span/>');\n",
       "        icon_img.addClass('ui-button-icon-primary ui-icon');\n",
       "        icon_img.addClass(image);\n",
       "        icon_img.addClass('ui-corner-all');\n",
       "\n",
       "        var tooltip_span = $('<span/>');\n",
       "        tooltip_span.addClass('ui-button-text');\n",
       "        tooltip_span.html(tooltip);\n",
       "\n",
       "        button.append(icon_img);\n",
       "        button.append(tooltip_span);\n",
       "\n",
       "        nav_element.append(button);\n",
       "    }\n",
       "\n",
       "    var fmt_picker_span = $('<span/>');\n",
       "\n",
       "    var fmt_picker = $('<select/>');\n",
       "    fmt_picker.addClass('mpl-toolbar-option ui-widget ui-widget-content');\n",
       "    fmt_picker_span.append(fmt_picker);\n",
       "    nav_element.append(fmt_picker_span);\n",
       "    this.format_dropdown = fmt_picker[0];\n",
       "\n",
       "    for (var ind in mpl.extensions) {\n",
       "        var fmt = mpl.extensions[ind];\n",
       "        var option = $(\n",
       "            '<option/>', {selected: fmt === mpl.default_extension}).html(fmt);\n",
       "        fmt_picker.append(option)\n",
       "    }\n",
       "\n",
       "    // Add hover states to the ui-buttons\n",
       "    $( \".ui-button\" ).hover(\n",
       "        function() { $(this).addClass(\"ui-state-hover\");},\n",
       "        function() { $(this).removeClass(\"ui-state-hover\");}\n",
       "    );\n",
       "\n",
       "    var status_bar = $('<span class=\"mpl-message\"/>');\n",
       "    nav_element.append(status_bar);\n",
       "    this.message = status_bar[0];\n",
       "}\n",
       "\n",
       "mpl.figure.prototype.request_resize = function(x_pixels, y_pixels) {\n",
       "    // Request matplotlib to resize the figure. Matplotlib will then trigger a resize in the client,\n",
       "    // which will in turn request a refresh of the image.\n",
       "    this.send_message('resize', {'width': x_pixels, 'height': y_pixels});\n",
       "}\n",
       "\n",
       "mpl.figure.prototype.send_message = function(type, properties) {\n",
       "    properties['type'] = type;\n",
       "    properties['figure_id'] = this.id;\n",
       "    this.ws.send(JSON.stringify(properties));\n",
       "}\n",
       "\n",
       "mpl.figure.prototype.send_draw_message = function() {\n",
       "    if (!this.waiting) {\n",
       "        this.waiting = true;\n",
       "        this.ws.send(JSON.stringify({type: \"draw\", figure_id: this.id}));\n",
       "    }\n",
       "}\n",
       "\n",
       "\n",
       "mpl.figure.prototype.handle_save = function(fig, msg) {\n",
       "    var format_dropdown = fig.format_dropdown;\n",
       "    var format = format_dropdown.options[format_dropdown.selectedIndex].value;\n",
       "    fig.ondownload(fig, format);\n",
       "}\n",
       "\n",
       "\n",
       "mpl.figure.prototype.handle_resize = function(fig, msg) {\n",
       "    var size = msg['size'];\n",
       "    if (size[0] != fig.canvas.width || size[1] != fig.canvas.height) {\n",
       "        fig._resize_canvas(size[0], size[1]);\n",
       "        fig.send_message(\"refresh\", {});\n",
       "    };\n",
       "}\n",
       "\n",
       "mpl.figure.prototype.handle_rubberband = function(fig, msg) {\n",
       "    var x0 = msg['x0'] / mpl.ratio;\n",
       "    var y0 = (fig.canvas.height - msg['y0']) / mpl.ratio;\n",
       "    var x1 = msg['x1'] / mpl.ratio;\n",
       "    var y1 = (fig.canvas.height - msg['y1']) / mpl.ratio;\n",
       "    x0 = Math.floor(x0) + 0.5;\n",
       "    y0 = Math.floor(y0) + 0.5;\n",
       "    x1 = Math.floor(x1) + 0.5;\n",
       "    y1 = Math.floor(y1) + 0.5;\n",
       "    var min_x = Math.min(x0, x1);\n",
       "    var min_y = Math.min(y0, y1);\n",
       "    var width = Math.abs(x1 - x0);\n",
       "    var height = Math.abs(y1 - y0);\n",
       "\n",
       "    fig.rubberband_context.clearRect(\n",
       "        0, 0, fig.canvas.width, fig.canvas.height);\n",
       "\n",
       "    fig.rubberband_context.strokeRect(min_x, min_y, width, height);\n",
       "}\n",
       "\n",
       "mpl.figure.prototype.handle_figure_label = function(fig, msg) {\n",
       "    // Updates the figure title.\n",
       "    fig.header.textContent = msg['label'];\n",
       "}\n",
       "\n",
       "mpl.figure.prototype.handle_cursor = function(fig, msg) {\n",
       "    var cursor = msg['cursor'];\n",
       "    switch(cursor)\n",
       "    {\n",
       "    case 0:\n",
       "        cursor = 'pointer';\n",
       "        break;\n",
       "    case 1:\n",
       "        cursor = 'default';\n",
       "        break;\n",
       "    case 2:\n",
       "        cursor = 'crosshair';\n",
       "        break;\n",
       "    case 3:\n",
       "        cursor = 'move';\n",
       "        break;\n",
       "    }\n",
       "    fig.rubberband_canvas.style.cursor = cursor;\n",
       "}\n",
       "\n",
       "mpl.figure.prototype.handle_message = function(fig, msg) {\n",
       "    fig.message.textContent = msg['message'];\n",
       "}\n",
       "\n",
       "mpl.figure.prototype.handle_draw = function(fig, msg) {\n",
       "    // Request the server to send over a new figure.\n",
       "    fig.send_draw_message();\n",
       "}\n",
       "\n",
       "mpl.figure.prototype.handle_image_mode = function(fig, msg) {\n",
       "    fig.image_mode = msg['mode'];\n",
       "}\n",
       "\n",
       "mpl.figure.prototype.updated_canvas_event = function() {\n",
       "    // Called whenever the canvas gets updated.\n",
       "    this.send_message(\"ack\", {});\n",
       "}\n",
       "\n",
       "// A function to construct a web socket function for onmessage handling.\n",
       "// Called in the figure constructor.\n",
       "mpl.figure.prototype._make_on_message_function = function(fig) {\n",
       "    return function socket_on_message(evt) {\n",
       "        if (evt.data instanceof Blob) {\n",
       "            /* FIXME: We get \"Resource interpreted as Image but\n",
       "             * transferred with MIME type text/plain:\" errors on\n",
       "             * Chrome.  But how to set the MIME type?  It doesn't seem\n",
       "             * to be part of the websocket stream */\n",
       "            evt.data.type = \"image/png\";\n",
       "\n",
       "            /* Free the memory for the previous frames */\n",
       "            if (fig.imageObj.src) {\n",
       "                (window.URL || window.webkitURL).revokeObjectURL(\n",
       "                    fig.imageObj.src);\n",
       "            }\n",
       "\n",
       "            fig.imageObj.src = (window.URL || window.webkitURL).createObjectURL(\n",
       "                evt.data);\n",
       "            fig.updated_canvas_event();\n",
       "            fig.waiting = false;\n",
       "            return;\n",
       "        }\n",
       "        else if (typeof evt.data === 'string' && evt.data.slice(0, 21) == \"data:image/png;base64\") {\n",
       "            fig.imageObj.src = evt.data;\n",
       "            fig.updated_canvas_event();\n",
       "            fig.waiting = false;\n",
       "            return;\n",
       "        }\n",
       "\n",
       "        var msg = JSON.parse(evt.data);\n",
       "        var msg_type = msg['type'];\n",
       "\n",
       "        // Call the  \"handle_{type}\" callback, which takes\n",
       "        // the figure and JSON message as its only arguments.\n",
       "        try {\n",
       "            var callback = fig[\"handle_\" + msg_type];\n",
       "        } catch (e) {\n",
       "            console.log(\"No handler for the '\" + msg_type + \"' message type: \", msg);\n",
       "            return;\n",
       "        }\n",
       "\n",
       "        if (callback) {\n",
       "            try {\n",
       "                // console.log(\"Handling '\" + msg_type + \"' message: \", msg);\n",
       "                callback(fig, msg);\n",
       "            } catch (e) {\n",
       "                console.log(\"Exception inside the 'handler_\" + msg_type + \"' callback:\", e, e.stack, msg);\n",
       "            }\n",
       "        }\n",
       "    };\n",
       "}\n",
       "\n",
       "// from http://stackoverflow.com/questions/1114465/getting-mouse-location-in-canvas\n",
       "mpl.findpos = function(e) {\n",
       "    //this section is from http://www.quirksmode.org/js/events_properties.html\n",
       "    var targ;\n",
       "    if (!e)\n",
       "        e = window.event;\n",
       "    if (e.target)\n",
       "        targ = e.target;\n",
       "    else if (e.srcElement)\n",
       "        targ = e.srcElement;\n",
       "    if (targ.nodeType == 3) // defeat Safari bug\n",
       "        targ = targ.parentNode;\n",
       "\n",
       "    // jQuery normalizes the pageX and pageY\n",
       "    // pageX,Y are the mouse positions relative to the document\n",
       "    // offset() returns the position of the element relative to the document\n",
       "    var x = e.pageX - $(targ).offset().left;\n",
       "    var y = e.pageY - $(targ).offset().top;\n",
       "\n",
       "    return {\"x\": x, \"y\": y};\n",
       "};\n",
       "\n",
       "/*\n",
       " * return a copy of an object with only non-object keys\n",
       " * we need this to avoid circular references\n",
       " * http://stackoverflow.com/a/24161582/3208463\n",
       " */\n",
       "function simpleKeys (original) {\n",
       "  return Object.keys(original).reduce(function (obj, key) {\n",
       "    if (typeof original[key] !== 'object')\n",
       "        obj[key] = original[key]\n",
       "    return obj;\n",
       "  }, {});\n",
       "}\n",
       "\n",
       "mpl.figure.prototype.mouse_event = function(event, name) {\n",
       "    var canvas_pos = mpl.findpos(event)\n",
       "\n",
       "    if (name === 'button_press')\n",
       "    {\n",
       "        this.canvas.focus();\n",
       "        this.canvas_div.focus();\n",
       "    }\n",
       "\n",
       "    var x = canvas_pos.x * mpl.ratio;\n",
       "    var y = canvas_pos.y * mpl.ratio;\n",
       "\n",
       "    this.send_message(name, {x: x, y: y, button: event.button,\n",
       "                             step: event.step,\n",
       "                             guiEvent: simpleKeys(event)});\n",
       "\n",
       "    /* This prevents the web browser from automatically changing to\n",
       "     * the text insertion cursor when the button is pressed.  We want\n",
       "     * to control all of the cursor setting manually through the\n",
       "     * 'cursor' event from matplotlib */\n",
       "    event.preventDefault();\n",
       "    return false;\n",
       "}\n",
       "\n",
       "mpl.figure.prototype._key_event_extra = function(event, name) {\n",
       "    // Handle any extra behaviour associated with a key event\n",
       "}\n",
       "\n",
       "mpl.figure.prototype.key_event = function(event, name) {\n",
       "\n",
       "    // Prevent repeat events\n",
       "    if (name == 'key_press')\n",
       "    {\n",
       "        if (event.which === this._key)\n",
       "            return;\n",
       "        else\n",
       "            this._key = event.which;\n",
       "    }\n",
       "    if (name == 'key_release')\n",
       "        this._key = null;\n",
       "\n",
       "    var value = '';\n",
       "    if (event.ctrlKey && event.which != 17)\n",
       "        value += \"ctrl+\";\n",
       "    if (event.altKey && event.which != 18)\n",
       "        value += \"alt+\";\n",
       "    if (event.shiftKey && event.which != 16)\n",
       "        value += \"shift+\";\n",
       "\n",
       "    value += 'k';\n",
       "    value += event.which.toString();\n",
       "\n",
       "    this._key_event_extra(event, name);\n",
       "\n",
       "    this.send_message(name, {key: value,\n",
       "                             guiEvent: simpleKeys(event)});\n",
       "    return false;\n",
       "}\n",
       "\n",
       "mpl.figure.prototype.toolbar_button_onclick = function(name) {\n",
       "    if (name == 'download') {\n",
       "        this.handle_save(this, null);\n",
       "    } else {\n",
       "        this.send_message(\"toolbar_button\", {name: name});\n",
       "    }\n",
       "};\n",
       "\n",
       "mpl.figure.prototype.toolbar_button_onmouseover = function(tooltip) {\n",
       "    this.message.textContent = tooltip;\n",
       "};\n",
       "mpl.toolbar_items = [[\"Home\", \"Reset original view\", \"fa fa-home icon-home\", \"home\"], [\"Back\", \"Back to  previous view\", \"fa fa-arrow-left icon-arrow-left\", \"back\"], [\"Forward\", \"Forward to next view\", \"fa fa-arrow-right icon-arrow-right\", \"forward\"], [\"\", \"\", \"\", \"\"], [\"Pan\", \"Pan axes with left mouse, zoom with right\", \"fa fa-arrows icon-move\", \"pan\"], [\"Zoom\", \"Zoom to rectangle\", \"fa fa-square-o icon-check-empty\", \"zoom\"], [\"\", \"\", \"\", \"\"], [\"Download\", \"Download plot\", \"fa fa-floppy-o icon-save\", \"download\"]];\n",
       "\n",
       "mpl.extensions = [\"eps\", \"jpeg\", \"pdf\", \"png\", \"ps\", \"raw\", \"svg\", \"tif\"];\n",
       "\n",
       "mpl.default_extension = \"png\";var comm_websocket_adapter = function(comm) {\n",
       "    // Create a \"websocket\"-like object which calls the given IPython comm\n",
       "    // object with the appropriate methods. Currently this is a non binary\n",
       "    // socket, so there is still some room for performance tuning.\n",
       "    var ws = {};\n",
       "\n",
       "    ws.close = function() {\n",
       "        comm.close()\n",
       "    };\n",
       "    ws.send = function(m) {\n",
       "        //console.log('sending', m);\n",
       "        comm.send(m);\n",
       "    };\n",
       "    // Register the callback with on_msg.\n",
       "    comm.on_msg(function(msg) {\n",
       "        //console.log('receiving', msg['content']['data'], msg);\n",
       "        // Pass the mpl event to the overriden (by mpl) onmessage function.\n",
       "        ws.onmessage(msg['content']['data'])\n",
       "    });\n",
       "    return ws;\n",
       "}\n",
       "\n",
       "mpl.mpl_figure_comm = function(comm, msg) {\n",
       "    // This is the function which gets called when the mpl process\n",
       "    // starts-up an IPython Comm through the \"matplotlib\" channel.\n",
       "\n",
       "    var id = msg.content.data.id;\n",
       "    // Get hold of the div created by the display call when the Comm\n",
       "    // socket was opened in Python.\n",
       "    var element = $(\"#\" + id);\n",
       "    var ws_proxy = comm_websocket_adapter(comm)\n",
       "\n",
       "    function ondownload(figure, format) {\n",
       "        window.open(figure.imageObj.src);\n",
       "    }\n",
       "\n",
       "    var fig = new mpl.figure(id, ws_proxy,\n",
       "                           ondownload,\n",
       "                           element.get(0));\n",
       "\n",
       "    // Call onopen now - mpl needs it, as it is assuming we've passed it a real\n",
       "    // web socket which is closed, not our websocket->open comm proxy.\n",
       "    ws_proxy.onopen();\n",
       "\n",
       "    fig.parent_element = element.get(0);\n",
       "    fig.cell_info = mpl.find_output_cell(\"<div id='\" + id + \"'></div>\");\n",
       "    if (!fig.cell_info) {\n",
       "        console.error(\"Failed to find cell for figure\", id, fig);\n",
       "        return;\n",
       "    }\n",
       "\n",
       "    var output_index = fig.cell_info[2]\n",
       "    var cell = fig.cell_info[0];\n",
       "\n",
       "};\n",
       "\n",
       "mpl.figure.prototype.handle_close = function(fig, msg) {\n",
       "    var width = fig.canvas.width/mpl.ratio\n",
       "    fig.root.unbind('remove')\n",
       "\n",
       "    // Update the output cell to use the data from the current canvas.\n",
       "    fig.push_to_output();\n",
       "    var dataURL = fig.canvas.toDataURL();\n",
       "    // Re-enable the keyboard manager in IPython - without this line, in FF,\n",
       "    // the notebook keyboard shortcuts fail.\n",
       "    IPython.keyboard_manager.enable()\n",
       "    $(fig.parent_element).html('<img src=\"' + dataURL + '\" width=\"' + width + '\">');\n",
       "    fig.close_ws(fig, msg);\n",
       "}\n",
       "\n",
       "mpl.figure.prototype.close_ws = function(fig, msg){\n",
       "    fig.send_message('closing', msg);\n",
       "    // fig.ws.close()\n",
       "}\n",
       "\n",
       "mpl.figure.prototype.push_to_output = function(remove_interactive) {\n",
       "    // Turn the data on the canvas into data in the output cell.\n",
       "    var width = this.canvas.width/mpl.ratio\n",
       "    var dataURL = this.canvas.toDataURL();\n",
       "    this.cell_info[1]['text/html'] = '<img src=\"' + dataURL + '\" width=\"' + width + '\">';\n",
       "}\n",
       "\n",
       "mpl.figure.prototype.updated_canvas_event = function() {\n",
       "    // Tell IPython that the notebook contents must change.\n",
       "    IPython.notebook.set_dirty(true);\n",
       "    this.send_message(\"ack\", {});\n",
       "    var fig = this;\n",
       "    // Wait a second, then push the new image to the DOM so\n",
       "    // that it is saved nicely (might be nice to debounce this).\n",
       "    setTimeout(function () { fig.push_to_output() }, 1000);\n",
       "}\n",
       "\n",
       "mpl.figure.prototype._init_toolbar = function() {\n",
       "    var fig = this;\n",
       "\n",
       "    var nav_element = $('<div/>')\n",
       "    nav_element.attr('style', 'width: 100%');\n",
       "    this.root.append(nav_element);\n",
       "\n",
       "    // Define a callback function for later on.\n",
       "    function toolbar_event(event) {\n",
       "        return fig.toolbar_button_onclick(event['data']);\n",
       "    }\n",
       "    function toolbar_mouse_event(event) {\n",
       "        return fig.toolbar_button_onmouseover(event['data']);\n",
       "    }\n",
       "\n",
       "    for(var toolbar_ind in mpl.toolbar_items){\n",
       "        var name = mpl.toolbar_items[toolbar_ind][0];\n",
       "        var tooltip = mpl.toolbar_items[toolbar_ind][1];\n",
       "        var image = mpl.toolbar_items[toolbar_ind][2];\n",
       "        var method_name = mpl.toolbar_items[toolbar_ind][3];\n",
       "\n",
       "        if (!name) { continue; };\n",
       "\n",
       "        var button = $('<button class=\"btn btn-default\" href=\"#\" title=\"' + name + '\"><i class=\"fa ' + image + ' fa-lg\"></i></button>');\n",
       "        button.click(method_name, toolbar_event);\n",
       "        button.mouseover(tooltip, toolbar_mouse_event);\n",
       "        nav_element.append(button);\n",
       "    }\n",
       "\n",
       "    // Add the status bar.\n",
       "    var status_bar = $('<span class=\"mpl-message\" style=\"text-align:right; float: right;\"/>');\n",
       "    nav_element.append(status_bar);\n",
       "    this.message = status_bar[0];\n",
       "\n",
       "    // Add the close button to the window.\n",
       "    var buttongrp = $('<div class=\"btn-group inline pull-right\"></div>');\n",
       "    var button = $('<button class=\"btn btn-mini btn-primary\" href=\"#\" title=\"Stop Interaction\"><i class=\"fa fa-power-off icon-remove icon-large\"></i></button>');\n",
       "    button.click(function (evt) { fig.handle_close(fig, {}); } );\n",
       "    button.mouseover('Stop Interaction', toolbar_mouse_event);\n",
       "    buttongrp.append(button);\n",
       "    var titlebar = this.root.find($('.ui-dialog-titlebar'));\n",
       "    titlebar.prepend(buttongrp);\n",
       "}\n",
       "\n",
       "mpl.figure.prototype._root_extra_style = function(el){\n",
       "    var fig = this\n",
       "    el.on(\"remove\", function(){\n",
       "\tfig.close_ws(fig, {});\n",
       "    });\n",
       "}\n",
       "\n",
       "mpl.figure.prototype._canvas_extra_style = function(el){\n",
       "    // this is important to make the div 'focusable\n",
       "    el.attr('tabindex', 0)\n",
       "    // reach out to IPython and tell the keyboard manager to turn it's self\n",
       "    // off when our div gets focus\n",
       "\n",
       "    // location in version 3\n",
       "    if (IPython.notebook.keyboard_manager) {\n",
       "        IPython.notebook.keyboard_manager.register_events(el);\n",
       "    }\n",
       "    else {\n",
       "        // location in version 2\n",
       "        IPython.keyboard_manager.register_events(el);\n",
       "    }\n",
       "\n",
       "}\n",
       "\n",
       "mpl.figure.prototype._key_event_extra = function(event, name) {\n",
       "    var manager = IPython.notebook.keyboard_manager;\n",
       "    if (!manager)\n",
       "        manager = IPython.keyboard_manager;\n",
       "\n",
       "    // Check for shift+enter\n",
       "    if (event.shiftKey && event.which == 13) {\n",
       "        this.canvas_div.blur();\n",
       "        event.shiftKey = false;\n",
       "        // Send a \"J\" for go to next cell\n",
       "        event.which = 74;\n",
       "        event.keyCode = 74;\n",
       "        manager.command_mode();\n",
       "        manager.handle_keydown(event);\n",
       "    }\n",
       "}\n",
       "\n",
       "mpl.figure.prototype.handle_save = function(fig, msg) {\n",
       "    fig.ondownload(fig, null);\n",
       "}\n",
       "\n",
       "\n",
       "mpl.find_output_cell = function(html_output) {\n",
       "    // Return the cell and output element which can be found *uniquely* in the notebook.\n",
       "    // Note - this is a bit hacky, but it is done because the \"notebook_saving.Notebook\"\n",
       "    // IPython event is triggered only after the cells have been serialised, which for\n",
       "    // our purposes (turning an active figure into a static one), is too late.\n",
       "    var cells = IPython.notebook.get_cells();\n",
       "    var ncells = cells.length;\n",
       "    for (var i=0; i<ncells; i++) {\n",
       "        var cell = cells[i];\n",
       "        if (cell.cell_type === 'code'){\n",
       "            for (var j=0; j<cell.output_area.outputs.length; j++) {\n",
       "                var data = cell.output_area.outputs[j];\n",
       "                if (data.data) {\n",
       "                    // IPython >= 3 moved mimebundle to data attribute of output\n",
       "                    data = data.data;\n",
       "                }\n",
       "                if (data['text/html'] == html_output) {\n",
       "                    return [cell, data, j];\n",
       "                }\n",
       "            }\n",
       "        }\n",
       "    }\n",
       "}\n",
       "\n",
       "// Register the function which deals with the matplotlib target/channel.\n",
       "// The kernel may be null if the page has been refreshed.\n",
       "if (IPython.notebook.kernel != null) {\n",
       "    IPython.notebook.kernel.comm_manager.register_target('matplotlib', mpl.mpl_figure_comm);\n",
       "}\n"
      ],
      "text/plain": [
       "<IPython.core.display.Javascript object>"
      ]
     },
     "metadata": {},
     "output_type": "display_data"
    },
    {
     "data": {
      "text/html": [
       "<img src=\"data:image/png;base64,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\" width=\"1849.8332782040056\">"
      ],
      "text/plain": [
       "<IPython.core.display.HTML object>"
      ]
     },
     "metadata": {},
     "output_type": "display_data"
    }
   ],
   "source": [
    "%matplotlib notebook\n",
    "gp.plot_section(interp_data.geo_data_res, lith_block[0],40, plot_data=True, direction='x')\n",
    "fig = plt.gcf()\n",
    "fig.set_size_inches(18.5, 10.5)"
   ]
  },
  {
   "cell_type": "markdown",
   "metadata": {},
   "source": [
    "And the axis 2 keeps the faults network that in this model since there is not faults does not represent anything.\n",
    "\n",
    "Additionally with can export the blocks to vtk in order to visualize them in Paraview. We are working in visualization in place as well."
   ]
  },
  {
   "cell_type": "code",
   "execution_count": 11,
   "metadata": {},
   "outputs": [],
   "source": [
    "#ver, sim = gp.get_surfaces(interp_data, lith_block[1], None, original_scale=False)"
   ]
  },
  {
   "cell_type": "code",
   "execution_count": 12,
   "metadata": {},
   "outputs": [],
   "source": [
    "#gp.plot_surfaces_3D_real_time(interp_data, ver, sim, alpha=1)"
   ]
  },
  {
   "cell_type": "code",
   "execution_count": 9,
   "metadata": {},
   "outputs": [
    {
     "ename": "NameError",
     "evalue": "name 'plt' is not defined",
     "output_type": "error",
     "traceback": [
      "\u001b[0;31m---------------------------------------------------------------------------\u001b[0m",
      "\u001b[0;31mNameError\u001b[0m                                 Traceback (most recent call last)",
      "\u001b[0;32m<ipython-input-9-a2c04141bf54>\u001b[0m in \u001b[0;36m<module>\u001b[0;34m()\u001b[0m\n\u001b[0;32m----> 1\u001b[0;31m \u001b[0mplt\u001b[0m\u001b[0;34m.\u001b[0m\u001b[0mimshow\u001b[0m\u001b[0;34m(\u001b[0m\u001b[0mgrav_plane\u001b[0m\u001b[0;34m.\u001b[0m\u001b[0mreshape\u001b[0m\u001b[0;34m(\u001b[0m\u001b[0;36m31\u001b[0m\u001b[0;34m,\u001b[0m\u001b[0;36m21\u001b[0m\u001b[0;34m)\u001b[0m\u001b[0;34m,\u001b[0m \u001b[0morigin\u001b[0m\u001b[0;34m=\u001b[0m\u001b[0;34m'lower'\u001b[0m\u001b[0;34m)\u001b[0m\u001b[0;34m\u001b[0m\u001b[0m\n\u001b[0m",
      "\u001b[0;31mNameError\u001b[0m: name 'plt' is not defined"
     ]
    }
   ],
   "source": [
    "plt.imshow(grav_plane.reshape(31,21), origin='lower')"
   ]
  },
  {
   "cell_type": "code",
   "execution_count": 11,
   "metadata": {},
   "outputs": [
    {
     "data": {
      "application/javascript": [
       "/* Put everything inside the global mpl namespace */\n",
       "window.mpl = {};\n",
       "\n",
       "\n",
       "mpl.get_websocket_type = function() {\n",
       "    if (typeof(WebSocket) !== 'undefined') {\n",
       "        return WebSocket;\n",
       "    } else if (typeof(MozWebSocket) !== 'undefined') {\n",
       "        return MozWebSocket;\n",
       "    } else {\n",
       "        alert('Your browser does not have WebSocket support.' +\n",
       "              'Please try Chrome, Safari or Firefox ≥ 6. ' +\n",
       "              'Firefox 4 and 5 are also supported but you ' +\n",
       "              'have to enable WebSockets in about:config.');\n",
       "    };\n",
       "}\n",
       "\n",
       "mpl.figure = function(figure_id, websocket, ondownload, parent_element) {\n",
       "    this.id = figure_id;\n",
       "\n",
       "    this.ws = websocket;\n",
       "\n",
       "    this.supports_binary = (this.ws.binaryType != undefined);\n",
       "\n",
       "    if (!this.supports_binary) {\n",
       "        var warnings = document.getElementById(\"mpl-warnings\");\n",
       "        if (warnings) {\n",
       "            warnings.style.display = 'block';\n",
       "            warnings.textContent = (\n",
       "                \"This browser does not support binary websocket messages. \" +\n",
       "                    \"Performance may be slow.\");\n",
       "        }\n",
       "    }\n",
       "\n",
       "    this.imageObj = new Image();\n",
       "\n",
       "    this.context = undefined;\n",
       "    this.message = undefined;\n",
       "    this.canvas = undefined;\n",
       "    this.rubberband_canvas = undefined;\n",
       "    this.rubberband_context = undefined;\n",
       "    this.format_dropdown = undefined;\n",
       "\n",
       "    this.image_mode = 'full';\n",
       "\n",
       "    this.root = $('<div/>');\n",
       "    this._root_extra_style(this.root)\n",
       "    this.root.attr('style', 'display: inline-block');\n",
       "\n",
       "    $(parent_element).append(this.root);\n",
       "\n",
       "    this._init_header(this);\n",
       "    this._init_canvas(this);\n",
       "    this._init_toolbar(this);\n",
       "\n",
       "    var fig = this;\n",
       "\n",
       "    this.waiting = false;\n",
       "\n",
       "    this.ws.onopen =  function () {\n",
       "            fig.send_message(\"supports_binary\", {value: fig.supports_binary});\n",
       "            fig.send_message(\"send_image_mode\", {});\n",
       "            if (mpl.ratio != 1) {\n",
       "                fig.send_message(\"set_dpi_ratio\", {'dpi_ratio': mpl.ratio});\n",
       "            }\n",
       "            fig.send_message(\"refresh\", {});\n",
       "        }\n",
       "\n",
       "    this.imageObj.onload = function() {\n",
       "            if (fig.image_mode == 'full') {\n",
       "                // Full images could contain transparency (where diff images\n",
       "                // almost always do), so we need to clear the canvas so that\n",
       "                // there is no ghosting.\n",
       "                fig.context.clearRect(0, 0, fig.canvas.width, fig.canvas.height);\n",
       "            }\n",
       "            fig.context.drawImage(fig.imageObj, 0, 0);\n",
       "        };\n",
       "\n",
       "    this.imageObj.onunload = function() {\n",
       "        fig.ws.close();\n",
       "    }\n",
       "\n",
       "    this.ws.onmessage = this._make_on_message_function(this);\n",
       "\n",
       "    this.ondownload = ondownload;\n",
       "}\n",
       "\n",
       "mpl.figure.prototype._init_header = function() {\n",
       "    var titlebar = $(\n",
       "        '<div class=\"ui-dialog-titlebar ui-widget-header ui-corner-all ' +\n",
       "        'ui-helper-clearfix\"/>');\n",
       "    var titletext = $(\n",
       "        '<div class=\"ui-dialog-title\" style=\"width: 100%; ' +\n",
       "        'text-align: center; padding: 3px;\"/>');\n",
       "    titlebar.append(titletext)\n",
       "    this.root.append(titlebar);\n",
       "    this.header = titletext[0];\n",
       "}\n",
       "\n",
       "\n",
       "\n",
       "mpl.figure.prototype._canvas_extra_style = function(canvas_div) {\n",
       "\n",
       "}\n",
       "\n",
       "\n",
       "mpl.figure.prototype._root_extra_style = function(canvas_div) {\n",
       "\n",
       "}\n",
       "\n",
       "mpl.figure.prototype._init_canvas = function() {\n",
       "    var fig = this;\n",
       "\n",
       "    var canvas_div = $('<div/>');\n",
       "\n",
       "    canvas_div.attr('style', 'position: relative; clear: both; outline: 0');\n",
       "\n",
       "    function canvas_keyboard_event(event) {\n",
       "        return fig.key_event(event, event['data']);\n",
       "    }\n",
       "\n",
       "    canvas_div.keydown('key_press', canvas_keyboard_event);\n",
       "    canvas_div.keyup('key_release', canvas_keyboard_event);\n",
       "    this.canvas_div = canvas_div\n",
       "    this._canvas_extra_style(canvas_div)\n",
       "    this.root.append(canvas_div);\n",
       "\n",
       "    var canvas = $('<canvas/>');\n",
       "    canvas.addClass('mpl-canvas');\n",
       "    canvas.attr('style', \"left: 0; top: 0; z-index: 0; outline: 0\")\n",
       "\n",
       "    this.canvas = canvas[0];\n",
       "    this.context = canvas[0].getContext(\"2d\");\n",
       "\n",
       "    var backingStore = this.context.backingStorePixelRatio ||\n",
       "\tthis.context.webkitBackingStorePixelRatio ||\n",
       "\tthis.context.mozBackingStorePixelRatio ||\n",
       "\tthis.context.msBackingStorePixelRatio ||\n",
       "\tthis.context.oBackingStorePixelRatio ||\n",
       "\tthis.context.backingStorePixelRatio || 1;\n",
       "\n",
       "    mpl.ratio = (window.devicePixelRatio || 1) / backingStore;\n",
       "\n",
       "    var rubberband = $('<canvas/>');\n",
       "    rubberband.attr('style', \"position: absolute; left: 0; top: 0; z-index: 1;\")\n",
       "\n",
       "    var pass_mouse_events = true;\n",
       "\n",
       "    canvas_div.resizable({\n",
       "        start: function(event, ui) {\n",
       "            pass_mouse_events = false;\n",
       "        },\n",
       "        resize: function(event, ui) {\n",
       "            fig.request_resize(ui.size.width, ui.size.height);\n",
       "        },\n",
       "        stop: function(event, ui) {\n",
       "            pass_mouse_events = true;\n",
       "            fig.request_resize(ui.size.width, ui.size.height);\n",
       "        },\n",
       "    });\n",
       "\n",
       "    function mouse_event_fn(event) {\n",
       "        if (pass_mouse_events)\n",
       "            return fig.mouse_event(event, event['data']);\n",
       "    }\n",
       "\n",
       "    rubberband.mousedown('button_press', mouse_event_fn);\n",
       "    rubberband.mouseup('button_release', mouse_event_fn);\n",
       "    // Throttle sequential mouse events to 1 every 20ms.\n",
       "    rubberband.mousemove('motion_notify', mouse_event_fn);\n",
       "\n",
       "    rubberband.mouseenter('figure_enter', mouse_event_fn);\n",
       "    rubberband.mouseleave('figure_leave', mouse_event_fn);\n",
       "\n",
       "    canvas_div.on(\"wheel\", function (event) {\n",
       "        event = event.originalEvent;\n",
       "        event['data'] = 'scroll'\n",
       "        if (event.deltaY < 0) {\n",
       "            event.step = 1;\n",
       "        } else {\n",
       "            event.step = -1;\n",
       "        }\n",
       "        mouse_event_fn(event);\n",
       "    });\n",
       "\n",
       "    canvas_div.append(canvas);\n",
       "    canvas_div.append(rubberband);\n",
       "\n",
       "    this.rubberband = rubberband;\n",
       "    this.rubberband_canvas = rubberband[0];\n",
       "    this.rubberband_context = rubberband[0].getContext(\"2d\");\n",
       "    this.rubberband_context.strokeStyle = \"#000000\";\n",
       "\n",
       "    this._resize_canvas = function(width, height) {\n",
       "        // Keep the size of the canvas, canvas container, and rubber band\n",
       "        // canvas in synch.\n",
       "        canvas_div.css('width', width)\n",
       "        canvas_div.css('height', height)\n",
       "\n",
       "        canvas.attr('width', width * mpl.ratio);\n",
       "        canvas.attr('height', height * mpl.ratio);\n",
       "        canvas.attr('style', 'width: ' + width + 'px; height: ' + height + 'px;');\n",
       "\n",
       "        rubberband.attr('width', width);\n",
       "        rubberband.attr('height', height);\n",
       "    }\n",
       "\n",
       "    // Set the figure to an initial 600x600px, this will subsequently be updated\n",
       "    // upon first draw.\n",
       "    this._resize_canvas(600, 600);\n",
       "\n",
       "    // Disable right mouse context menu.\n",
       "    $(this.rubberband_canvas).bind(\"contextmenu\",function(e){\n",
       "        return false;\n",
       "    });\n",
       "\n",
       "    function set_focus () {\n",
       "        canvas.focus();\n",
       "        canvas_div.focus();\n",
       "    }\n",
       "\n",
       "    window.setTimeout(set_focus, 100);\n",
       "}\n",
       "\n",
       "mpl.figure.prototype._init_toolbar = function() {\n",
       "    var fig = this;\n",
       "\n",
       "    var nav_element = $('<div/>')\n",
       "    nav_element.attr('style', 'width: 100%');\n",
       "    this.root.append(nav_element);\n",
       "\n",
       "    // Define a callback function for later on.\n",
       "    function toolbar_event(event) {\n",
       "        return fig.toolbar_button_onclick(event['data']);\n",
       "    }\n",
       "    function toolbar_mouse_event(event) {\n",
       "        return fig.toolbar_button_onmouseover(event['data']);\n",
       "    }\n",
       "\n",
       "    for(var toolbar_ind in mpl.toolbar_items) {\n",
       "        var name = mpl.toolbar_items[toolbar_ind][0];\n",
       "        var tooltip = mpl.toolbar_items[toolbar_ind][1];\n",
       "        var image = mpl.toolbar_items[toolbar_ind][2];\n",
       "        var method_name = mpl.toolbar_items[toolbar_ind][3];\n",
       "\n",
       "        if (!name) {\n",
       "            // put a spacer in here.\n",
       "            continue;\n",
       "        }\n",
       "        var button = $('<button/>');\n",
       "        button.addClass('ui-button ui-widget ui-state-default ui-corner-all ' +\n",
       "                        'ui-button-icon-only');\n",
       "        button.attr('role', 'button');\n",
       "        button.attr('aria-disabled', 'false');\n",
       "        button.click(method_name, toolbar_event);\n",
       "        button.mouseover(tooltip, toolbar_mouse_event);\n",
       "\n",
       "        var icon_img = $('<span/>');\n",
       "        icon_img.addClass('ui-button-icon-primary ui-icon');\n",
       "        icon_img.addClass(image);\n",
       "        icon_img.addClass('ui-corner-all');\n",
       "\n",
       "        var tooltip_span = $('<span/>');\n",
       "        tooltip_span.addClass('ui-button-text');\n",
       "        tooltip_span.html(tooltip);\n",
       "\n",
       "        button.append(icon_img);\n",
       "        button.append(tooltip_span);\n",
       "\n",
       "        nav_element.append(button);\n",
       "    }\n",
       "\n",
       "    var fmt_picker_span = $('<span/>');\n",
       "\n",
       "    var fmt_picker = $('<select/>');\n",
       "    fmt_picker.addClass('mpl-toolbar-option ui-widget ui-widget-content');\n",
       "    fmt_picker_span.append(fmt_picker);\n",
       "    nav_element.append(fmt_picker_span);\n",
       "    this.format_dropdown = fmt_picker[0];\n",
       "\n",
       "    for (var ind in mpl.extensions) {\n",
       "        var fmt = mpl.extensions[ind];\n",
       "        var option = $(\n",
       "            '<option/>', {selected: fmt === mpl.default_extension}).html(fmt);\n",
       "        fmt_picker.append(option)\n",
       "    }\n",
       "\n",
       "    // Add hover states to the ui-buttons\n",
       "    $( \".ui-button\" ).hover(\n",
       "        function() { $(this).addClass(\"ui-state-hover\");},\n",
       "        function() { $(this).removeClass(\"ui-state-hover\");}\n",
       "    );\n",
       "\n",
       "    var status_bar = $('<span class=\"mpl-message\"/>');\n",
       "    nav_element.append(status_bar);\n",
       "    this.message = status_bar[0];\n",
       "}\n",
       "\n",
       "mpl.figure.prototype.request_resize = function(x_pixels, y_pixels) {\n",
       "    // Request matplotlib to resize the figure. Matplotlib will then trigger a resize in the client,\n",
       "    // which will in turn request a refresh of the image.\n",
       "    this.send_message('resize', {'width': x_pixels, 'height': y_pixels});\n",
       "}\n",
       "\n",
       "mpl.figure.prototype.send_message = function(type, properties) {\n",
       "    properties['type'] = type;\n",
       "    properties['figure_id'] = this.id;\n",
       "    this.ws.send(JSON.stringify(properties));\n",
       "}\n",
       "\n",
       "mpl.figure.prototype.send_draw_message = function() {\n",
       "    if (!this.waiting) {\n",
       "        this.waiting = true;\n",
       "        this.ws.send(JSON.stringify({type: \"draw\", figure_id: this.id}));\n",
       "    }\n",
       "}\n",
       "\n",
       "\n",
       "mpl.figure.prototype.handle_save = function(fig, msg) {\n",
       "    var format_dropdown = fig.format_dropdown;\n",
       "    var format = format_dropdown.options[format_dropdown.selectedIndex].value;\n",
       "    fig.ondownload(fig, format);\n",
       "}\n",
       "\n",
       "\n",
       "mpl.figure.prototype.handle_resize = function(fig, msg) {\n",
       "    var size = msg['size'];\n",
       "    if (size[0] != fig.canvas.width || size[1] != fig.canvas.height) {\n",
       "        fig._resize_canvas(size[0], size[1]);\n",
       "        fig.send_message(\"refresh\", {});\n",
       "    };\n",
       "}\n",
       "\n",
       "mpl.figure.prototype.handle_rubberband = function(fig, msg) {\n",
       "    var x0 = msg['x0'] / mpl.ratio;\n",
       "    var y0 = (fig.canvas.height - msg['y0']) / mpl.ratio;\n",
       "    var x1 = msg['x1'] / mpl.ratio;\n",
       "    var y1 = (fig.canvas.height - msg['y1']) / mpl.ratio;\n",
       "    x0 = Math.floor(x0) + 0.5;\n",
       "    y0 = Math.floor(y0) + 0.5;\n",
       "    x1 = Math.floor(x1) + 0.5;\n",
       "    y1 = Math.floor(y1) + 0.5;\n",
       "    var min_x = Math.min(x0, x1);\n",
       "    var min_y = Math.min(y0, y1);\n",
       "    var width = Math.abs(x1 - x0);\n",
       "    var height = Math.abs(y1 - y0);\n",
       "\n",
       "    fig.rubberband_context.clearRect(\n",
       "        0, 0, fig.canvas.width, fig.canvas.height);\n",
       "\n",
       "    fig.rubberband_context.strokeRect(min_x, min_y, width, height);\n",
       "}\n",
       "\n",
       "mpl.figure.prototype.handle_figure_label = function(fig, msg) {\n",
       "    // Updates the figure title.\n",
       "    fig.header.textContent = msg['label'];\n",
       "}\n",
       "\n",
       "mpl.figure.prototype.handle_cursor = function(fig, msg) {\n",
       "    var cursor = msg['cursor'];\n",
       "    switch(cursor)\n",
       "    {\n",
       "    case 0:\n",
       "        cursor = 'pointer';\n",
       "        break;\n",
       "    case 1:\n",
       "        cursor = 'default';\n",
       "        break;\n",
       "    case 2:\n",
       "        cursor = 'crosshair';\n",
       "        break;\n",
       "    case 3:\n",
       "        cursor = 'move';\n",
       "        break;\n",
       "    }\n",
       "    fig.rubberband_canvas.style.cursor = cursor;\n",
       "}\n",
       "\n",
       "mpl.figure.prototype.handle_message = function(fig, msg) {\n",
       "    fig.message.textContent = msg['message'];\n",
       "}\n",
       "\n",
       "mpl.figure.prototype.handle_draw = function(fig, msg) {\n",
       "    // Request the server to send over a new figure.\n",
       "    fig.send_draw_message();\n",
       "}\n",
       "\n",
       "mpl.figure.prototype.handle_image_mode = function(fig, msg) {\n",
       "    fig.image_mode = msg['mode'];\n",
       "}\n",
       "\n",
       "mpl.figure.prototype.updated_canvas_event = function() {\n",
       "    // Called whenever the canvas gets updated.\n",
       "    this.send_message(\"ack\", {});\n",
       "}\n",
       "\n",
       "// A function to construct a web socket function for onmessage handling.\n",
       "// Called in the figure constructor.\n",
       "mpl.figure.prototype._make_on_message_function = function(fig) {\n",
       "    return function socket_on_message(evt) {\n",
       "        if (evt.data instanceof Blob) {\n",
       "            /* FIXME: We get \"Resource interpreted as Image but\n",
       "             * transferred with MIME type text/plain:\" errors on\n",
       "             * Chrome.  But how to set the MIME type?  It doesn't seem\n",
       "             * to be part of the websocket stream */\n",
       "            evt.data.type = \"image/png\";\n",
       "\n",
       "            /* Free the memory for the previous frames */\n",
       "            if (fig.imageObj.src) {\n",
       "                (window.URL || window.webkitURL).revokeObjectURL(\n",
       "                    fig.imageObj.src);\n",
       "            }\n",
       "\n",
       "            fig.imageObj.src = (window.URL || window.webkitURL).createObjectURL(\n",
       "                evt.data);\n",
       "            fig.updated_canvas_event();\n",
       "            fig.waiting = false;\n",
       "            return;\n",
       "        }\n",
       "        else if (typeof evt.data === 'string' && evt.data.slice(0, 21) == \"data:image/png;base64\") {\n",
       "            fig.imageObj.src = evt.data;\n",
       "            fig.updated_canvas_event();\n",
       "            fig.waiting = false;\n",
       "            return;\n",
       "        }\n",
       "\n",
       "        var msg = JSON.parse(evt.data);\n",
       "        var msg_type = msg['type'];\n",
       "\n",
       "        // Call the  \"handle_{type}\" callback, which takes\n",
       "        // the figure and JSON message as its only arguments.\n",
       "        try {\n",
       "            var callback = fig[\"handle_\" + msg_type];\n",
       "        } catch (e) {\n",
       "            console.log(\"No handler for the '\" + msg_type + \"' message type: \", msg);\n",
       "            return;\n",
       "        }\n",
       "\n",
       "        if (callback) {\n",
       "            try {\n",
       "                // console.log(\"Handling '\" + msg_type + \"' message: \", msg);\n",
       "                callback(fig, msg);\n",
       "            } catch (e) {\n",
       "                console.log(\"Exception inside the 'handler_\" + msg_type + \"' callback:\", e, e.stack, msg);\n",
       "            }\n",
       "        }\n",
       "    };\n",
       "}\n",
       "\n",
       "// from http://stackoverflow.com/questions/1114465/getting-mouse-location-in-canvas\n",
       "mpl.findpos = function(e) {\n",
       "    //this section is from http://www.quirksmode.org/js/events_properties.html\n",
       "    var targ;\n",
       "    if (!e)\n",
       "        e = window.event;\n",
       "    if (e.target)\n",
       "        targ = e.target;\n",
       "    else if (e.srcElement)\n",
       "        targ = e.srcElement;\n",
       "    if (targ.nodeType == 3) // defeat Safari bug\n",
       "        targ = targ.parentNode;\n",
       "\n",
       "    // jQuery normalizes the pageX and pageY\n",
       "    // pageX,Y are the mouse positions relative to the document\n",
       "    // offset() returns the position of the element relative to the document\n",
       "    var x = e.pageX - $(targ).offset().left;\n",
       "    var y = e.pageY - $(targ).offset().top;\n",
       "\n",
       "    return {\"x\": x, \"y\": y};\n",
       "};\n",
       "\n",
       "/*\n",
       " * return a copy of an object with only non-object keys\n",
       " * we need this to avoid circular references\n",
       " * http://stackoverflow.com/a/24161582/3208463\n",
       " */\n",
       "function simpleKeys (original) {\n",
       "  return Object.keys(original).reduce(function (obj, key) {\n",
       "    if (typeof original[key] !== 'object')\n",
       "        obj[key] = original[key]\n",
       "    return obj;\n",
       "  }, {});\n",
       "}\n",
       "\n",
       "mpl.figure.prototype.mouse_event = function(event, name) {\n",
       "    var canvas_pos = mpl.findpos(event)\n",
       "\n",
       "    if (name === 'button_press')\n",
       "    {\n",
       "        this.canvas.focus();\n",
       "        this.canvas_div.focus();\n",
       "    }\n",
       "\n",
       "    var x = canvas_pos.x * mpl.ratio;\n",
       "    var y = canvas_pos.y * mpl.ratio;\n",
       "\n",
       "    this.send_message(name, {x: x, y: y, button: event.button,\n",
       "                             step: event.step,\n",
       "                             guiEvent: simpleKeys(event)});\n",
       "\n",
       "    /* This prevents the web browser from automatically changing to\n",
       "     * the text insertion cursor when the button is pressed.  We want\n",
       "     * to control all of the cursor setting manually through the\n",
       "     * 'cursor' event from matplotlib */\n",
       "    event.preventDefault();\n",
       "    return false;\n",
       "}\n",
       "\n",
       "mpl.figure.prototype._key_event_extra = function(event, name) {\n",
       "    // Handle any extra behaviour associated with a key event\n",
       "}\n",
       "\n",
       "mpl.figure.prototype.key_event = function(event, name) {\n",
       "\n",
       "    // Prevent repeat events\n",
       "    if (name == 'key_press')\n",
       "    {\n",
       "        if (event.which === this._key)\n",
       "            return;\n",
       "        else\n",
       "            this._key = event.which;\n",
       "    }\n",
       "    if (name == 'key_release')\n",
       "        this._key = null;\n",
       "\n",
       "    var value = '';\n",
       "    if (event.ctrlKey && event.which != 17)\n",
       "        value += \"ctrl+\";\n",
       "    if (event.altKey && event.which != 18)\n",
       "        value += \"alt+\";\n",
       "    if (event.shiftKey && event.which != 16)\n",
       "        value += \"shift+\";\n",
       "\n",
       "    value += 'k';\n",
       "    value += event.which.toString();\n",
       "\n",
       "    this._key_event_extra(event, name);\n",
       "\n",
       "    this.send_message(name, {key: value,\n",
       "                             guiEvent: simpleKeys(event)});\n",
       "    return false;\n",
       "}\n",
       "\n",
       "mpl.figure.prototype.toolbar_button_onclick = function(name) {\n",
       "    if (name == 'download') {\n",
       "        this.handle_save(this, null);\n",
       "    } else {\n",
       "        this.send_message(\"toolbar_button\", {name: name});\n",
       "    }\n",
       "};\n",
       "\n",
       "mpl.figure.prototype.toolbar_button_onmouseover = function(tooltip) {\n",
       "    this.message.textContent = tooltip;\n",
       "};\n",
       "mpl.toolbar_items = [[\"Home\", \"Reset original view\", \"fa fa-home icon-home\", \"home\"], [\"Back\", \"Back to  previous view\", \"fa fa-arrow-left icon-arrow-left\", \"back\"], [\"Forward\", \"Forward to next view\", \"fa fa-arrow-right icon-arrow-right\", \"forward\"], [\"\", \"\", \"\", \"\"], [\"Pan\", \"Pan axes with left mouse, zoom with right\", \"fa fa-arrows icon-move\", \"pan\"], [\"Zoom\", \"Zoom to rectangle\", \"fa fa-square-o icon-check-empty\", \"zoom\"], [\"\", \"\", \"\", \"\"], [\"Download\", \"Download plot\", \"fa fa-floppy-o icon-save\", \"download\"]];\n",
       "\n",
       "mpl.extensions = [\"eps\", \"jpeg\", \"pdf\", \"png\", \"ps\", \"raw\", \"svg\", \"tif\"];\n",
       "\n",
       "mpl.default_extension = \"png\";var comm_websocket_adapter = function(comm) {\n",
       "    // Create a \"websocket\"-like object which calls the given IPython comm\n",
       "    // object with the appropriate methods. Currently this is a non binary\n",
       "    // socket, so there is still some room for performance tuning.\n",
       "    var ws = {};\n",
       "\n",
       "    ws.close = function() {\n",
       "        comm.close()\n",
       "    };\n",
       "    ws.send = function(m) {\n",
       "        //console.log('sending', m);\n",
       "        comm.send(m);\n",
       "    };\n",
       "    // Register the callback with on_msg.\n",
       "    comm.on_msg(function(msg) {\n",
       "        //console.log('receiving', msg['content']['data'], msg);\n",
       "        // Pass the mpl event to the overriden (by mpl) onmessage function.\n",
       "        ws.onmessage(msg['content']['data'])\n",
       "    });\n",
       "    return ws;\n",
       "}\n",
       "\n",
       "mpl.mpl_figure_comm = function(comm, msg) {\n",
       "    // This is the function which gets called when the mpl process\n",
       "    // starts-up an IPython Comm through the \"matplotlib\" channel.\n",
       "\n",
       "    var id = msg.content.data.id;\n",
       "    // Get hold of the div created by the display call when the Comm\n",
       "    // socket was opened in Python.\n",
       "    var element = $(\"#\" + id);\n",
       "    var ws_proxy = comm_websocket_adapter(comm)\n",
       "\n",
       "    function ondownload(figure, format) {\n",
       "        window.open(figure.imageObj.src);\n",
       "    }\n",
       "\n",
       "    var fig = new mpl.figure(id, ws_proxy,\n",
       "                           ondownload,\n",
       "                           element.get(0));\n",
       "\n",
       "    // Call onopen now - mpl needs it, as it is assuming we've passed it a real\n",
       "    // web socket which is closed, not our websocket->open comm proxy.\n",
       "    ws_proxy.onopen();\n",
       "\n",
       "    fig.parent_element = element.get(0);\n",
       "    fig.cell_info = mpl.find_output_cell(\"<div id='\" + id + \"'></div>\");\n",
       "    if (!fig.cell_info) {\n",
       "        console.error(\"Failed to find cell for figure\", id, fig);\n",
       "        return;\n",
       "    }\n",
       "\n",
       "    var output_index = fig.cell_info[2]\n",
       "    var cell = fig.cell_info[0];\n",
       "\n",
       "};\n",
       "\n",
       "mpl.figure.prototype.handle_close = function(fig, msg) {\n",
       "    var width = fig.canvas.width/mpl.ratio\n",
       "    fig.root.unbind('remove')\n",
       "\n",
       "    // Update the output cell to use the data from the current canvas.\n",
       "    fig.push_to_output();\n",
       "    var dataURL = fig.canvas.toDataURL();\n",
       "    // Re-enable the keyboard manager in IPython - without this line, in FF,\n",
       "    // the notebook keyboard shortcuts fail.\n",
       "    IPython.keyboard_manager.enable()\n",
       "    $(fig.parent_element).html('<img src=\"' + dataURL + '\" width=\"' + width + '\">');\n",
       "    fig.close_ws(fig, msg);\n",
       "}\n",
       "\n",
       "mpl.figure.prototype.close_ws = function(fig, msg){\n",
       "    fig.send_message('closing', msg);\n",
       "    // fig.ws.close()\n",
       "}\n",
       "\n",
       "mpl.figure.prototype.push_to_output = function(remove_interactive) {\n",
       "    // Turn the data on the canvas into data in the output cell.\n",
       "    var width = this.canvas.width/mpl.ratio\n",
       "    var dataURL = this.canvas.toDataURL();\n",
       "    this.cell_info[1]['text/html'] = '<img src=\"' + dataURL + '\" width=\"' + width + '\">';\n",
       "}\n",
       "\n",
       "mpl.figure.prototype.updated_canvas_event = function() {\n",
       "    // Tell IPython that the notebook contents must change.\n",
       "    IPython.notebook.set_dirty(true);\n",
       "    this.send_message(\"ack\", {});\n",
       "    var fig = this;\n",
       "    // Wait a second, then push the new image to the DOM so\n",
       "    // that it is saved nicely (might be nice to debounce this).\n",
       "    setTimeout(function () { fig.push_to_output() }, 1000);\n",
       "}\n",
       "\n",
       "mpl.figure.prototype._init_toolbar = function() {\n",
       "    var fig = this;\n",
       "\n",
       "    var nav_element = $('<div/>')\n",
       "    nav_element.attr('style', 'width: 100%');\n",
       "    this.root.append(nav_element);\n",
       "\n",
       "    // Define a callback function for later on.\n",
       "    function toolbar_event(event) {\n",
       "        return fig.toolbar_button_onclick(event['data']);\n",
       "    }\n",
       "    function toolbar_mouse_event(event) {\n",
       "        return fig.toolbar_button_onmouseover(event['data']);\n",
       "    }\n",
       "\n",
       "    for(var toolbar_ind in mpl.toolbar_items){\n",
       "        var name = mpl.toolbar_items[toolbar_ind][0];\n",
       "        var tooltip = mpl.toolbar_items[toolbar_ind][1];\n",
       "        var image = mpl.toolbar_items[toolbar_ind][2];\n",
       "        var method_name = mpl.toolbar_items[toolbar_ind][3];\n",
       "\n",
       "        if (!name) { continue; };\n",
       "\n",
       "        var button = $('<button class=\"btn btn-default\" href=\"#\" title=\"' + name + '\"><i class=\"fa ' + image + ' fa-lg\"></i></button>');\n",
       "        button.click(method_name, toolbar_event);\n",
       "        button.mouseover(tooltip, toolbar_mouse_event);\n",
       "        nav_element.append(button);\n",
       "    }\n",
       "\n",
       "    // Add the status bar.\n",
       "    var status_bar = $('<span class=\"mpl-message\" style=\"text-align:right; float: right;\"/>');\n",
       "    nav_element.append(status_bar);\n",
       "    this.message = status_bar[0];\n",
       "\n",
       "    // Add the close button to the window.\n",
       "    var buttongrp = $('<div class=\"btn-group inline pull-right\"></div>');\n",
       "    var button = $('<button class=\"btn btn-mini btn-primary\" href=\"#\" title=\"Stop Interaction\"><i class=\"fa fa-power-off icon-remove icon-large\"></i></button>');\n",
       "    button.click(function (evt) { fig.handle_close(fig, {}); } );\n",
       "    button.mouseover('Stop Interaction', toolbar_mouse_event);\n",
       "    buttongrp.append(button);\n",
       "    var titlebar = this.root.find($('.ui-dialog-titlebar'));\n",
       "    titlebar.prepend(buttongrp);\n",
       "}\n",
       "\n",
       "mpl.figure.prototype._root_extra_style = function(el){\n",
       "    var fig = this\n",
       "    el.on(\"remove\", function(){\n",
       "\tfig.close_ws(fig, {});\n",
       "    });\n",
       "}\n",
       "\n",
       "mpl.figure.prototype._canvas_extra_style = function(el){\n",
       "    // this is important to make the div 'focusable\n",
       "    el.attr('tabindex', 0)\n",
       "    // reach out to IPython and tell the keyboard manager to turn it's self\n",
       "    // off when our div gets focus\n",
       "\n",
       "    // location in version 3\n",
       "    if (IPython.notebook.keyboard_manager) {\n",
       "        IPython.notebook.keyboard_manager.register_events(el);\n",
       "    }\n",
       "    else {\n",
       "        // location in version 2\n",
       "        IPython.keyboard_manager.register_events(el);\n",
       "    }\n",
       "\n",
       "}\n",
       "\n",
       "mpl.figure.prototype._key_event_extra = function(event, name) {\n",
       "    var manager = IPython.notebook.keyboard_manager;\n",
       "    if (!manager)\n",
       "        manager = IPython.keyboard_manager;\n",
       "\n",
       "    // Check for shift+enter\n",
       "    if (event.shiftKey && event.which == 13) {\n",
       "        this.canvas_div.blur();\n",
       "        event.shiftKey = false;\n",
       "        // Send a \"J\" for go to next cell\n",
       "        event.which = 74;\n",
       "        event.keyCode = 74;\n",
       "        manager.command_mode();\n",
       "        manager.handle_keydown(event);\n",
       "    }\n",
       "}\n",
       "\n",
       "mpl.figure.prototype.handle_save = function(fig, msg) {\n",
       "    fig.ondownload(fig, null);\n",
       "}\n",
       "\n",
       "\n",
       "mpl.find_output_cell = function(html_output) {\n",
       "    // Return the cell and output element which can be found *uniquely* in the notebook.\n",
       "    // Note - this is a bit hacky, but it is done because the \"notebook_saving.Notebook\"\n",
       "    // IPython event is triggered only after the cells have been serialised, which for\n",
       "    // our purposes (turning an active figure into a static one), is too late.\n",
       "    var cells = IPython.notebook.get_cells();\n",
       "    var ncells = cells.length;\n",
       "    for (var i=0; i<ncells; i++) {\n",
       "        var cell = cells[i];\n",
       "        if (cell.cell_type === 'code'){\n",
       "            for (var j=0; j<cell.output_area.outputs.length; j++) {\n",
       "                var data = cell.output_area.outputs[j];\n",
       "                if (data.data) {\n",
       "                    // IPython >= 3 moved mimebundle to data attribute of output\n",
       "                    data = data.data;\n",
       "                }\n",
       "                if (data['text/html'] == html_output) {\n",
       "                    return [cell, data, j];\n",
       "                }\n",
       "            }\n",
       "        }\n",
       "    }\n",
       "}\n",
       "\n",
       "// Register the function which deals with the matplotlib target/channel.\n",
       "// The kernel may be null if the page has been refreshed.\n",
       "if (IPython.notebook.kernel != null) {\n",
       "    IPython.notebook.kernel.comm_manager.register_target('matplotlib', mpl.mpl_figure_comm);\n",
       "}\n"
      ],
      "text/plain": [
       "<IPython.core.display.Javascript object>"
      ]
     },
     "metadata": {},
     "output_type": "display_data"
    },
    {
     "data": {
      "text/html": [
       "<img src=\"data:image/png;base64,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\" width=\"639.8333142648146\">"
      ],
      "text/plain": [
       "<IPython.core.display.HTML object>"
      ]
     },
     "metadata": {},
     "output_type": "display_data"
    },
    {
     "data": {
      "text/plain": [
       "<matplotlib.image.AxesImage at 0x7fd6580bbdd8>"
      ]
     },
     "execution_count": 11,
     "metadata": {},
     "output_type": "execute_result"
    }
   ],
   "source": [
    "a = pn.read_csv('../input_data/Sst_grav_2000.xyz', header=None, delim_whitespace=True)\n",
    "\n",
    "ori_grav = a[3].as_matrix().reshape(-1, 21)\n",
    "\n",
    "plt.imshow(a[3].as_matrix().reshape(-1, 21), origin='lower')"
   ]
  },
  {
   "cell_type": "code",
   "execution_count": 27,
   "metadata": {},
   "outputs": [
    {
     "data": {
      "text/plain": [
       "105857920"
      ]
     },
     "execution_count": 27,
     "metadata": {},
     "output_type": "execute_result"
    }
   ],
   "source": [
    "import sys\n",
    "sys.getsizeof(interp_data.interpolator.tg.tz.get_value())"
   ]
  },
  {
   "cell_type": "code",
   "execution_count": 16,
   "metadata": {},
   "outputs": [
    {
     "data": {
      "text/plain": [
       "81375096"
      ]
     },
     "execution_count": 16,
     "metadata": {},
     "output_type": "execute_result"
    }
   ],
   "source": [
    "sys.getsizeof(interp_data.interpolator.tg.select.get_value().astype(bool))"
   ]
  },
  {
   "cell_type": "code",
   "execution_count": 12,
   "metadata": {},
   "outputs": [],
   "source": [
    "import pymc\n",
    "interface_Z_stoch = []\n",
    "foliations_dip_stoch = []\n",
    "foliations_azimuth_stoch = []\n",
    "\n",
    "# We rescale the standard deviation\n",
    "# std = 20./interp_data.rescaling_factor\n",
    "\n",
    "# loop over the unique group id's and create a pymc.Normal distribution for each\n",
    "for ind, i in interp_data.geo_data_res.interfaces.iterrows():\n",
    "    stoch = pymc.Normal(i['formation']+str(ind)+'_stoch', i['Z'], 1./i['Z_std']**2)\n",
    "    interface_Z_stoch.append(stoch)\n",
    "    \n",
    "for ind, i in interp_data.geo_data_res.foliations.iterrows():\n",
    "    stoch = pymc.Normal(i['formation']+str(ind)+'_d_stoch', i['dip'], 1./i['dip_std']**2)\n",
    "    foliations_dip_stoch.append(stoch)\n",
    "    \n",
    "for ind, i in interp_data.geo_data_res.foliations.iterrows():\n",
    "    stoch = pymc.Normal(i['formation']+str(ind)+'_a_stoch', i['azimuth'], 1./i['azimuth_std']**2)\n",
    "    foliations_azimuth_stoch.append(stoch)"
   ]
  },
  {
   "cell_type": "code",
   "execution_count": null,
   "metadata": {},
   "outputs": [],
   "source": []
  },
  {
   "cell_type": "code",
   "execution_count": null,
   "metadata": {},
   "outputs": [],
   "source": []
  },
  {
   "cell_type": "code",
   "execution_count": 13,
   "metadata": {},
   "outputs": [],
   "source": [
    "import copy\n",
    "# First we extract from our original intep_data object the numerical data that is necessary for the interpolation.\n",
    "# geo_data_stoch is a pandas Dataframe\n",
    "\n",
    "# This is the inital model so it has to be outside the stochastic frame\n",
    "geo_data_stoch_init = copy.deepcopy(interp_data.geo_data_res)"
   ]
  },
  {
   "cell_type": "code",
   "execution_count": 14,
   "metadata": {
    "scrolled": false
   },
   "outputs": [],
   "source": [
    "@pymc.deterministic(trace=True)\n",
    "def input_data(value = 0, \n",
    "               interface_Z_modifier = interface_Z_stoch,\n",
    "               geo_data_stoch_init = geo_data_stoch_init,\n",
    "               foliations_dip_stoch = foliations_dip_stoch,\n",
    "               foliations_azimuth_stoch = foliations_azimuth_stoch,\n",
    "               verbose=0):\n",
    "    # First we extract from our original intep_data object the numerical data that is necessary for the interpolation.\n",
    "    # geo_data_stoch is a pandas Dataframe\n",
    "    geo_data_stoch = gp.get_data(geo_data_stoch_init, numeric=True)\n",
    "\n",
    "#     geo_data_stoch_i = gp.get_data(geo_data_stoch_init, 'interfaces', numeric=True)\n",
    "#     geo_data_stoch_f = gp.get_data(geo_data_stoch_init, 'foliations', numeric=True)\n",
    "\n",
    "   \n",
    "    geo_data_stoch.xs('interfaces')['Z'] = np.array(interface_Z_modifier)\n",
    "    geo_data_stoch.xs('foliations')['dip'] = np.array(foliations_dip_stoch)\n",
    "    geo_data_stoch.xs('foliations')['azimuth'] = np.array(foliations_azimuth_stoch)\n",
    "        \n",
    "#     geo_data_stoch_i['Z'] = np.array(interface_Z_modifier)\n",
    "#     geo_data_stoch_f['dip'] = np.array(foliations_dip_stoch)\n",
    "#     geo_data_stoch_f['dip'] = np.array(foliations_dip_stoch)\n",
    "        \n",
    "    if verbose > 0:\n",
    "        print(geo_data_stoch)\n",
    "        \n",
    "    # then return the input data to be input into the modeling function. Due to the way pymc2 stores the traces\n",
    "    # We need to save the data as numpy arrays\n",
    "    return [geo_data_stoch.xs('interfaces')[[\"X\", \"Y\", \"Z\"]].values, geo_data_stoch.xs('foliations').values]"
   ]
  },
  {
   "cell_type": "code",
   "execution_count": 15,
   "metadata": {},
   "outputs": [],
   "source": [
    "@pymc.deterministic(trace=False)\n",
    "def gempy_model(value=0,\n",
    "                input_data=input_data, verbose=False):\n",
    "\n",
    "    # modify input data values accordingly\n",
    "    interp_data.geo_data_res.interfaces[[\"X\", \"Y\", \"Z\"]] = input_data[0]\n",
    "\n",
    "    # Gx, Gy, Gz are just used for visualization. The theano function gets azimuth dip and polarity!!!\n",
    "    interp_data.geo_data_res.foliations[[\"G_x\", \"G_y\", \"G_z\", \"X\", \"Y\", \"Z\", 'azimuth', 'dip', 'polarity']] = input_data[1]\n",
    "\n",
    "    try:\n",
    "        # try to compute model\n",
    "        lb, fb, grav = gp.compute_model(interp_data, output='gravity')\n",
    "        if False:\n",
    "            gp.plot_section(interp_data.geo_data_res, lb[0], 19, plot_data=True)\n",
    "           # gp.plot_data(interp_data.geo_data_res, direction='y')\n",
    "\n",
    "        return lb, fb, grav\n",
    "\n",
    "    except np.linalg.linalg.LinAlgError as err:\n",
    "        # if it fails (e.g. some input data combinations could lead to\n",
    "        # a singular matrix and thus break the chain) return an empty model\n",
    "        # with same dimensions (just zeros)\n",
    "        if verbose:\n",
    "            print(\"Exception occured.\")\n",
    "        return np.zeros_like(lith_block), np.zeros_like(fault_block), np.zeros_like(grav_block)"
   ]
  },
  {
   "cell_type": "code",
   "execution_count": 16,
   "metadata": {},
   "outputs": [],
   "source": [
    "@pymc.deterministic\n",
    "def e_sq(value = ori_grav, model_grav = gempy_model[2], verbose = 0):\n",
    "   \n",
    "    Forw = model_grav.reshape(31,21)\n",
    "    #print np.median(value),np.median(Forw)\n",
    "    # shifting\n",
    "   # shift = np.median(-value)-np.median(Forw)\n",
    "    shift = -450-np.median(Forw)#np.median(value)-np.median(Forw)\n",
    "    #Forw = X_train_minmax = min_max_scaler.fit_transform(Forw, feature_range=(0, 10))\n",
    "    \n",
    "    \n",
    " \n",
    "    # Calibration parameters\n",
    "    F_min, F_max =  np.min(Forw), np.max(Forw)   #36.630742, 36.651496    #30.159309, 30.174104#\n",
    "    F_range = F_max - F_min\n",
    "    F_mid = 0.5*(F_max+F_min)\n",
    "\n",
    "    rs_min, rs_max = np.min(value), np.max(value)\n",
    "    rs_range = rs_max - rs_min\n",
    "    rs_mid = 0.5*(rs_max+rs_min)\n",
    "\n",
    "    #Rescaling\n",
    "\n",
    "   # rs_mid + (grid - m_mid) / m_range * rs_range\n",
    "    Reescaled_forw = rs_mid + (Forw - F_mid) / F_range * rs_range\n",
    "    if verbose > 0:\n",
    "        plt.imshow(model.geophys.grv_data[:,:,], origin= \"lower_left\", cmap=\"jet\")\n",
    "        plt.show()\n",
    "        plt.imshow(value, origin= \"lower_left\", cmap=\"jet\")\n",
    "        plt.colorbar()\n",
    "        plt.show()\n",
    "        plt.hist(value.ravel())\n",
    "        plt.show()\n",
    "        plt.imshow(Reescaled_forw, origin= \"lower_left\", cmap=\"jet\")\n",
    "        plt.show()\n",
    "        plt.imshow(Forw, origin= \"lower_left\", cmap=\"jet\")\n",
    "        plt.colorbar()\n",
    "        plt.show()\n",
    "        plt.hist(Reescaled_forw.ravel())\n",
    "        plt.show()\n",
    "\n",
    "    \n",
    "    e_sq = np.sqrt(np.sum((Reescaled_forw - (value))**2))\n",
    "    #print np.min(Reescaled_forw), np.max(Reescaled_forw)\n",
    "    #print (e_sq)\n",
    "    return e_sq"
   ]
  },
  {
   "cell_type": "code",
   "execution_count": 17,
   "metadata": {},
   "outputs": [],
   "source": [
    "@pymc.observed\n",
    "def inversion(value = 1, e_sq = e_sq):\n",
    "    return pymc.half_cauchy_like(e_sq,0,6000.)"
   ]
  },
  {
   "cell_type": "code",
   "execution_count": 18,
   "metadata": {},
   "outputs": [],
   "source": [
    "p_model = pymc.Model([*interface_Z_stoch, *foliations_azimuth_stoch, *foliations_dip_stoch, input_data, gempy_model, e_sq, inversion])"
   ]
  },
  {
   "cell_type": "code",
   "execution_count": 19,
   "metadata": {},
   "outputs": [],
   "source": [
    "S = pymc.MCMC(input=p_model, db=\"hdf5\", dbname=\"Sandstone4\")\n",
    "S.use_step_method(pymc.AdaptiveMetropolis, [*interface_Z_stoch, *foliations_azimuth_stoch, *foliations_dip_stoch, input_data, gempy_model, e_sq, inversion], delay=1000)"
   ]
  },
  {
   "cell_type": "code",
   "execution_count": 20,
   "metadata": {
    "scrolled": true
   },
   "outputs": [
    {
     "name": "stdout",
     "output_type": "stream",
     "text": [
      " [                  0%                  ] 36 of 15000 complete in 180.6 sec"
     ]
    },
    {
     "name": "stderr",
     "output_type": "stream",
     "text": [
      "/home/miguel/anaconda3/lib/python3.6/site-packages/scipy/linalg/basic.py:223: RuntimeWarning: scipy.linalg.solve\n",
      "Ill-conditioned matrix detected. Result is not guaranteed to be accurate.\n",
      "Reciprocal condition number: 4.188112256997556e-08\n",
      "  ' condition number: {}'.format(rcond), RuntimeWarning)\n"
     ]
    },
    {
     "name": "stdout",
     "output_type": "stream",
     "text": [
      " [                  0%                  ] 100 of 15000 complete in 510.8 sec"
     ]
    },
    {
     "name": "stderr",
     "output_type": "stream",
     "text": [
      "/home/miguel/anaconda3/lib/python3.6/site-packages/scipy/linalg/basic.py:223: RuntimeWarning: scipy.linalg.solve\n",
      "Ill-conditioned matrix detected. Result is not guaranteed to be accurate.\n",
      "Reciprocal condition number: 2.9650644606249443e-08\n",
      "  ' condition number: {}'.format(rcond), RuntimeWarning)\n"
     ]
    },
    {
     "name": "stdout",
     "output_type": "stream",
     "text": [
      " [                  0%                  ] 112 of 15000 complete in 572.9 sec"
     ]
    },
    {
     "name": "stderr",
     "output_type": "stream",
     "text": [
      "/home/miguel/anaconda3/lib/python3.6/site-packages/scipy/linalg/basic.py:223: RuntimeWarning: scipy.linalg.solve\n",
      "Ill-conditioned matrix detected. Result is not guaranteed to be accurate.\n",
      "Reciprocal condition number: 3.9229707482490994e-08\n",
      "  ' condition number: {}'.format(rcond), RuntimeWarning)\n"
     ]
    },
    {
     "name": "stdout",
     "output_type": "stream",
     "text": [
      " [                  0%                  ] 120 of 15000 complete in 614.4 sec"
     ]
    },
    {
     "name": "stderr",
     "output_type": "stream",
     "text": [
      "/home/miguel/anaconda3/lib/python3.6/site-packages/scipy/linalg/basic.py:223: RuntimeWarning: scipy.linalg.solve\n",
      "Ill-conditioned matrix detected. Result is not guaranteed to be accurate.\n",
      "Reciprocal condition number: 3.41163755024354e-08\n",
      "  ' condition number: {}'.format(rcond), RuntimeWarning)\n"
     ]
    },
    {
     "name": "stdout",
     "output_type": "stream",
     "text": [
      " [                  0%                  ] 139 of 15000 complete in 711.8 sec"
     ]
    },
    {
     "name": "stderr",
     "output_type": "stream",
     "text": [
      "/home/miguel/anaconda3/lib/python3.6/site-packages/scipy/linalg/basic.py:223: RuntimeWarning: scipy.linalg.solve\n",
      "Ill-conditioned matrix detected. Result is not guaranteed to be accurate.\n",
      "Reciprocal condition number: 2.7733337404356462e-08\n",
      "  ' condition number: {}'.format(rcond), RuntimeWarning)\n"
     ]
    },
    {
     "name": "stdout",
     "output_type": "stream",
     "text": [
      " [                  1%                  ] 153 of 15000 complete in 784.2 sec"
     ]
    },
    {
     "name": "stderr",
     "output_type": "stream",
     "text": [
      "/home/miguel/anaconda3/lib/python3.6/site-packages/scipy/linalg/basic.py:223: RuntimeWarning: scipy.linalg.solve\n",
      "Ill-conditioned matrix detected. Result is not guaranteed to be accurate.\n",
      "Reciprocal condition number: 3.504609935589542e-08\n",
      "  ' condition number: {}'.format(rcond), RuntimeWarning)\n"
     ]
    },
    {
     "name": "stdout",
     "output_type": "stream",
     "text": [
      " [                  1%                  ] 159 of 15000 complete in 815.3 sec"
     ]
    },
    {
     "name": "stderr",
     "output_type": "stream",
     "text": [
      "/home/miguel/anaconda3/lib/python3.6/site-packages/scipy/linalg/basic.py:223: RuntimeWarning: scipy.linalg.solve\n",
      "Ill-conditioned matrix detected. Result is not guaranteed to be accurate.\n",
      "Reciprocal condition number: 5.820418635948954e-08\n",
      "  ' condition number: {}'.format(rcond), RuntimeWarning)\n"
     ]
    },
    {
     "name": "stdout",
     "output_type": "stream",
     "text": [
      " [                  1%                  ] 212 of 15000 complete in 1088.9 sec"
     ]
    },
    {
     "name": "stderr",
     "output_type": "stream",
     "text": [
      "/home/miguel/anaconda3/lib/python3.6/site-packages/scipy/linalg/basic.py:223: RuntimeWarning: scipy.linalg.solve\n",
      "Ill-conditioned matrix detected. Result is not guaranteed to be accurate.\n",
      "Reciprocal condition number: 5.8004783198839505e-08\n",
      "  ' condition number: {}'.format(rcond), RuntimeWarning)\n"
     ]
    },
    {
     "name": "stdout",
     "output_type": "stream",
     "text": [
      " [                  1%                  ] 227 of 15000 complete in 1165.7 sec"
     ]
    },
    {
     "name": "stderr",
     "output_type": "stream",
     "text": [
      "/home/miguel/anaconda3/lib/python3.6/site-packages/scipy/linalg/basic.py:223: RuntimeWarning: scipy.linalg.solve\n",
      "Ill-conditioned matrix detected. Result is not guaranteed to be accurate.\n",
      "Reciprocal condition number: 4.7857607654577805e-08\n",
      "  ' condition number: {}'.format(rcond), RuntimeWarning)\n"
     ]
    },
    {
     "name": "stdout",
     "output_type": "stream",
     "text": [
      " [                  2%                  ] 322 of 15000 complete in 1657.2 sec"
     ]
    },
    {
     "name": "stderr",
     "output_type": "stream",
     "text": [
      "/home/miguel/anaconda3/lib/python3.6/site-packages/scipy/linalg/basic.py:223: RuntimeWarning: scipy.linalg.solve\n",
      "Ill-conditioned matrix detected. Result is not guaranteed to be accurate.\n",
      "Reciprocal condition number: 4.459863589545421e-08\n",
      "  ' condition number: {}'.format(rcond), RuntimeWarning)\n"
     ]
    },
    {
     "name": "stdout",
     "output_type": "stream",
     "text": [
      " [                  2%                  ] 392 of 15000 complete in 2018.5 sec"
     ]
    },
    {
     "name": "stderr",
     "output_type": "stream",
     "text": [
      "/home/miguel/anaconda3/lib/python3.6/site-packages/scipy/linalg/basic.py:223: RuntimeWarning: scipy.linalg.solve\n",
      "Ill-conditioned matrix detected. Result is not guaranteed to be accurate.\n",
      "Reciprocal condition number: 5.658885626758092e-08\n",
      "  ' condition number: {}'.format(rcond), RuntimeWarning)\n"
     ]
    },
    {
     "name": "stdout",
     "output_type": "stream",
     "text": [
      " [-                 2%                  ] 427 of 15000 complete in 2199.9 sec"
     ]
    },
    {
     "name": "stderr",
     "output_type": "stream",
     "text": [
      "/home/miguel/anaconda3/lib/python3.6/site-packages/scipy/linalg/basic.py:223: RuntimeWarning: scipy.linalg.solve\n",
      "Ill-conditioned matrix detected. Result is not guaranteed to be accurate.\n",
      "Reciprocal condition number: 3.551005178792366e-08\n",
      "  ' condition number: {}'.format(rcond), RuntimeWarning)\n"
     ]
    },
    {
     "name": "stdout",
     "output_type": "stream",
     "text": [
      " [-                 3%                  ] 490 of 15000 complete in 2523.7 sec"
     ]
    },
    {
     "name": "stderr",
     "output_type": "stream",
     "text": [
      "/home/miguel/anaconda3/lib/python3.6/site-packages/scipy/linalg/basic.py:223: RuntimeWarning: scipy.linalg.solve\n",
      "Ill-conditioned matrix detected. Result is not guaranteed to be accurate.\n",
      "Reciprocal condition number: 2.7359421395090067e-08\n",
      "  ' condition number: {}'.format(rcond), RuntimeWarning)\n"
     ]
    },
    {
     "name": "stdout",
     "output_type": "stream",
     "text": [
      " [-                 3%                  ] 527 of 15000 complete in 2715.5 sec"
     ]
    },
    {
     "name": "stderr",
     "output_type": "stream",
     "text": [
      "/home/miguel/anaconda3/lib/python3.6/site-packages/scipy/linalg/basic.py:223: RuntimeWarning: scipy.linalg.solve\n",
      "Ill-conditioned matrix detected. Result is not guaranteed to be accurate.\n",
      "Reciprocal condition number: 5.9138898222954595e-08\n",
      "  ' condition number: {}'.format(rcond), RuntimeWarning)\n"
     ]
    },
    {
     "name": "stdout",
     "output_type": "stream",
     "text": [
      " [-                 3%                  ] 545 of 15000 complete in 2808.6 sec"
     ]
    },
    {
     "name": "stderr",
     "output_type": "stream",
     "text": [
      "/home/miguel/anaconda3/lib/python3.6/site-packages/scipy/linalg/basic.py:223: RuntimeWarning: scipy.linalg.solve\n",
      "Ill-conditioned matrix detected. Result is not guaranteed to be accurate.\n",
      "Reciprocal condition number: 4.054815594400907e-09\n",
      "  ' condition number: {}'.format(rcond), RuntimeWarning)\n"
     ]
    },
    {
     "name": "stdout",
     "output_type": "stream",
     "text": [
      " [-                 3%                  ] 586 of 15000 complete in 3020.0 sec"
     ]
    },
    {
     "name": "stderr",
     "output_type": "stream",
     "text": [
      "/home/miguel/anaconda3/lib/python3.6/site-packages/scipy/linalg/basic.py:223: RuntimeWarning: scipy.linalg.solve\n",
      "Ill-conditioned matrix detected. Result is not guaranteed to be accurate.\n",
      "Reciprocal condition number: 1.4549724092205452e-08\n",
      "  ' condition number: {}'.format(rcond), RuntimeWarning)\n"
     ]
    },
    {
     "name": "stdout",
     "output_type": "stream",
     "text": [
      " [-                 4%                  ] 618 of 15000 complete in 3185.6 sec"
     ]
    },
    {
     "name": "stderr",
     "output_type": "stream",
     "text": [
      "/home/miguel/anaconda3/lib/python3.6/site-packages/scipy/linalg/basic.py:223: RuntimeWarning: scipy.linalg.solve\n",
      "Ill-conditioned matrix detected. Result is not guaranteed to be accurate.\n",
      "Reciprocal condition number: 4.0630045106127e-08\n",
      "  ' condition number: {}'.format(rcond), RuntimeWarning)\n"
     ]
    },
    {
     "name": "stdout",
     "output_type": "stream",
     "text": [
      " [-                 4%                  ] 626 of 15000 complete in 3226.7 sec"
     ]
    },
    {
     "name": "stderr",
     "output_type": "stream",
     "text": [
      "/home/miguel/anaconda3/lib/python3.6/site-packages/scipy/linalg/basic.py:223: RuntimeWarning: scipy.linalg.solve\n",
      "Ill-conditioned matrix detected. Result is not guaranteed to be accurate.\n",
      "Reciprocal condition number: 2.9336478135633115e-08\n",
      "  ' condition number: {}'.format(rcond), RuntimeWarning)\n"
     ]
    },
    {
     "name": "stdout",
     "output_type": "stream",
     "text": [
      " [-                 4%                  ] 654 of 15000 complete in 3370.7 sec"
     ]
    },
    {
     "name": "stderr",
     "output_type": "stream",
     "text": [
      "/home/miguel/anaconda3/lib/python3.6/site-packages/scipy/linalg/basic.py:223: RuntimeWarning: scipy.linalg.solve\n",
      "Ill-conditioned matrix detected. Result is not guaranteed to be accurate.\n",
      "Reciprocal condition number: 2.464924975242866e-08\n",
      "  ' condition number: {}'.format(rcond), RuntimeWarning)\n"
     ]
    },
    {
     "name": "stdout",
     "output_type": "stream",
     "text": [
      " [-                 5%                  ] 762 of 15000 complete in 3928.2 sec"
     ]
    },
    {
     "name": "stderr",
     "output_type": "stream",
     "text": [
      "/home/miguel/anaconda3/lib/python3.6/site-packages/scipy/linalg/basic.py:223: RuntimeWarning: scipy.linalg.solve\n",
      "Ill-conditioned matrix detected. Result is not guaranteed to be accurate.\n",
      "Reciprocal condition number: 5.2255185067906496e-08\n",
      "  ' condition number: {}'.format(rcond), RuntimeWarning)\n"
     ]
    },
    {
     "name": "stdout",
     "output_type": "stream",
     "text": [
      " [-                 5%                  ] 789 of 15000 complete in 4068.9 sec"
     ]
    },
    {
     "name": "stderr",
     "output_type": "stream",
     "text": [
      "/home/miguel/anaconda3/lib/python3.6/site-packages/scipy/linalg/basic.py:223: RuntimeWarning: scipy.linalg.solve\n",
      "Ill-conditioned matrix detected. Result is not guaranteed to be accurate.\n",
      "Reciprocal condition number: 5.635568101070021e-08\n",
      "  ' condition number: {}'.format(rcond), RuntimeWarning)\n"
     ]
    },
    {
     "name": "stdout",
     "output_type": "stream",
     "text": [
      " [--                5%                  ] 794 of 15000 complete in 4095.0 sec"
     ]
    },
    {
     "name": "stderr",
     "output_type": "stream",
     "text": [
      "/home/miguel/anaconda3/lib/python3.6/site-packages/scipy/linalg/basic.py:223: RuntimeWarning: scipy.linalg.solve\n",
      "Ill-conditioned matrix detected. Result is not guaranteed to be accurate.\n",
      "Reciprocal condition number: 3.085656175016993e-08\n",
      "  ' condition number: {}'.format(rcond), RuntimeWarning)\n"
     ]
    },
    {
     "name": "stdout",
     "output_type": "stream",
     "text": [
      " [--                5%                  ] 842 of 15000 complete in 4344.0 sec"
     ]
    },
    {
     "name": "stderr",
     "output_type": "stream",
     "text": [
      "/home/miguel/anaconda3/lib/python3.6/site-packages/scipy/linalg/basic.py:223: RuntimeWarning: scipy.linalg.solve\n",
      "Ill-conditioned matrix detected. Result is not guaranteed to be accurate.\n",
      "Reciprocal condition number: 3.248842261882601e-08\n",
      "  ' condition number: {}'.format(rcond), RuntimeWarning)\n"
     ]
    },
    {
     "name": "stdout",
     "output_type": "stream",
     "text": [
      " [--                6%                  ] 1004 of 15000 complete in 5187.8 sec"
     ]
    },
    {
     "name": "stderr",
     "output_type": "stream",
     "text": [
      "/home/miguel/anaconda3/lib/python3.6/site-packages/scipy/linalg/basic.py:223: RuntimeWarning: scipy.linalg.solve\n",
      "Ill-conditioned matrix detected. Result is not guaranteed to be accurate.\n",
      "Reciprocal condition number: 4.118959751053808e-08\n",
      "  ' condition number: {}'.format(rcond), RuntimeWarning)\n"
     ]
    },
    {
     "name": "stdout",
     "output_type": "stream",
     "text": [
      " [--                6%                  ] 1018 of 15000 complete in 5260.7 sec"
     ]
    },
    {
     "name": "stderr",
     "output_type": "stream",
     "text": [
      "/home/miguel/anaconda3/lib/python3.6/site-packages/scipy/linalg/basic.py:223: RuntimeWarning: scipy.linalg.solve\n",
      "Ill-conditioned matrix detected. Result is not guaranteed to be accurate.\n",
      "Reciprocal condition number: 4.1253230165239074e-08\n",
      "  ' condition number: {}'.format(rcond), RuntimeWarning)\n"
     ]
    },
    {
     "name": "stdout",
     "output_type": "stream",
     "text": [
      " [--                6%                  ] 1021 of 15000 complete in 5276.5 sec"
     ]
    },
    {
     "name": "stderr",
     "output_type": "stream",
     "text": [
      "/home/miguel/anaconda3/lib/python3.6/site-packages/scipy/linalg/basic.py:223: RuntimeWarning: scipy.linalg.solve\n",
      "Ill-conditioned matrix detected. Result is not guaranteed to be accurate.\n",
      "Reciprocal condition number: 3.915667434739589e-08\n",
      "  ' condition number: {}'.format(rcond), RuntimeWarning)\n"
     ]
    },
    {
     "name": "stdout",
     "output_type": "stream",
     "text": [
      " [---               8%                  ] 1202 of 15000 complete in 6213.2 sec"
     ]
    },
    {
     "name": "stderr",
     "output_type": "stream",
     "text": [
      "/home/miguel/anaconda3/lib/python3.6/site-packages/pymc/StepMethods.py:1272: UserWarning: \n",
      "Covariance was not positive definite and proposal_sd cannot be computed by \n",
      "Cholesky decomposition. The next jumps will be based on the last \n",
      "valid covariance matrix. This situation may have arisen because no \n",
      "jumps were accepted during the last `interval`. One solution is to \n",
      "increase the interval, or specify an initial covariance matrix with \n",
      "a smaller variance. For this simulation, each time a similar error \n",
      "occurs, proposal_sd will be reduced by a factor .9 to reduce the \n",
      "jumps and increase the likelihood of accepted jumps.\n",
      "  warnings.warn(adjustmentwarning)\n"
     ]
    },
    {
     "name": "stdout",
     "output_type": "stream",
     "text": [
      " [---               8%                  ] 1300 of 15000 complete in 6717.5 sec"
     ]
    },
    {
     "name": "stderr",
     "output_type": "stream",
     "text": [
      "/home/miguel/anaconda3/lib/python3.6/site-packages/scipy/linalg/basic.py:223: RuntimeWarning: scipy.linalg.solve\n",
      "Ill-conditioned matrix detected. Result is not guaranteed to be accurate.\n",
      "Reciprocal condition number: 3.989396191173e-08\n",
      "  ' condition number: {}'.format(rcond), RuntimeWarning)\n"
     ]
    },
    {
     "name": "stdout",
     "output_type": "stream",
     "text": [
      " [---               9%                  ] 1401 of 15000 complete in 7234.6 sec"
     ]
    },
    {
     "name": "stderr",
     "output_type": "stream",
     "text": [
      "/home/miguel/anaconda3/lib/python3.6/site-packages/scipy/linalg/basic.py:223: RuntimeWarning: scipy.linalg.solve\n",
      "Ill-conditioned matrix detected. Result is not guaranteed to be accurate.\n",
      "Reciprocal condition number: 3.02199794077751e-08\n",
      "  ' condition number: {}'.format(rcond), RuntimeWarning)\n"
     ]
    },
    {
     "name": "stdout",
     "output_type": "stream",
     "text": [
      " [---              10%                  ] 1520 of 15000 complete in 7845.7 sec"
     ]
    },
    {
     "name": "stderr",
     "output_type": "stream",
     "text": [
      "/home/miguel/anaconda3/lib/python3.6/site-packages/scipy/linalg/basic.py:223: RuntimeWarning: scipy.linalg.solve\n",
      "Ill-conditioned matrix detected. Result is not guaranteed to be accurate.\n",
      "Reciprocal condition number: 3.1452469073656175e-08\n",
      "  ' condition number: {}'.format(rcond), RuntimeWarning)\n"
     ]
    },
    {
     "name": "stdout",
     "output_type": "stream",
     "text": [
      " [---              10%                  ] 1523 of 15000 complete in 7861.3 sec"
     ]
    },
    {
     "name": "stderr",
     "output_type": "stream",
     "text": [
      "/home/miguel/anaconda3/lib/python3.6/site-packages/scipy/linalg/basic.py:223: RuntimeWarning: scipy.linalg.solve\n",
      "Ill-conditioned matrix detected. Result is not guaranteed to be accurate.\n",
      "Reciprocal condition number: 4.525514540887343e-08\n",
      "  ' condition number: {}'.format(rcond), RuntimeWarning)\n"
     ]
    },
    {
     "name": "stdout",
     "output_type": "stream",
     "text": [
      " [---              10%                  ] 1535 of 15000 complete in 7922.7 sec"
     ]
    },
    {
     "name": "stderr",
     "output_type": "stream",
     "text": [
      "/home/miguel/anaconda3/lib/python3.6/site-packages/scipy/linalg/basic.py:223: RuntimeWarning: scipy.linalg.solve\n",
      "Ill-conditioned matrix detected. Result is not guaranteed to be accurate.\n",
      "Reciprocal condition number: 5.947511638737524e-08\n",
      "  ' condition number: {}'.format(rcond), RuntimeWarning)\n"
     ]
    },
    {
     "name": "stdout",
     "output_type": "stream",
     "text": [
      " [---              10%                  ] 1537 of 15000 complete in 7933.0 sec"
     ]
    },
    {
     "name": "stderr",
     "output_type": "stream",
     "text": [
      "/home/miguel/anaconda3/lib/python3.6/site-packages/scipy/linalg/basic.py:223: RuntimeWarning: scipy.linalg.solve\n",
      "Ill-conditioned matrix detected. Result is not guaranteed to be accurate.\n",
      "Reciprocal condition number: 5.1119823041290147e-08\n",
      "  ' condition number: {}'.format(rcond), RuntimeWarning)\n"
     ]
    },
    {
     "name": "stdout",
     "output_type": "stream",
     "text": [
      " [---              10%                  ] 1542 of 15000 complete in 7958.8 sec"
     ]
    },
    {
     "name": "stderr",
     "output_type": "stream",
     "text": [
      "/home/miguel/anaconda3/lib/python3.6/site-packages/scipy/linalg/basic.py:223: RuntimeWarning: scipy.linalg.solve\n",
      "Ill-conditioned matrix detected. Result is not guaranteed to be accurate.\n",
      "Reciprocal condition number: 1.8012203284456518e-08\n",
      "  ' condition number: {}'.format(rcond), RuntimeWarning)\n"
     ]
    },
    {
     "name": "stdout",
     "output_type": "stream",
     "text": [
      " [---              10%                  ] 1573 of 15000 complete in 8117.4 sec"
     ]
    },
    {
     "name": "stderr",
     "output_type": "stream",
     "text": [
      "/home/miguel/anaconda3/lib/python3.6/site-packages/scipy/linalg/basic.py:223: RuntimeWarning: scipy.linalg.solve\n",
      "Ill-conditioned matrix detected. Result is not guaranteed to be accurate.\n",
      "Reciprocal condition number: 5.229932753536559e-08\n",
      "  ' condition number: {}'.format(rcond), RuntimeWarning)\n"
     ]
    },
    {
     "name": "stdout",
     "output_type": "stream",
     "text": [
      " [----             10%                  ] 1584 of 15000 complete in 8174.5 sec"
     ]
    },
    {
     "name": "stderr",
     "output_type": "stream",
     "text": [
      "/home/miguel/anaconda3/lib/python3.6/site-packages/scipy/linalg/basic.py:223: RuntimeWarning: scipy.linalg.solve\n",
      "Ill-conditioned matrix detected. Result is not guaranteed to be accurate.\n",
      "Reciprocal condition number: 3.940197146334867e-08\n",
      "  ' condition number: {}'.format(rcond), RuntimeWarning)\n"
     ]
    },
    {
     "name": "stdout",
     "output_type": "stream",
     "text": [
      " [----             10%                  ] 1592 of 15000 complete in 8215.9 sec"
     ]
    },
    {
     "name": "stderr",
     "output_type": "stream",
     "text": [
      "/home/miguel/anaconda3/lib/python3.6/site-packages/scipy/linalg/basic.py:223: RuntimeWarning: scipy.linalg.solve\n",
      "Ill-conditioned matrix detected. Result is not guaranteed to be accurate.\n",
      "Reciprocal condition number: 4.252677499039237e-08\n",
      "  ' condition number: {}'.format(rcond), RuntimeWarning)\n"
     ]
    },
    {
     "name": "stdout",
     "output_type": "stream",
     "text": [
      " [----             10%                  ] 1619 of 15000 complete in 8354.7 sec"
     ]
    },
    {
     "name": "stderr",
     "output_type": "stream",
     "text": [
      "/home/miguel/anaconda3/lib/python3.6/site-packages/scipy/linalg/basic.py:223: RuntimeWarning: scipy.linalg.solve\n",
      "Ill-conditioned matrix detected. Result is not guaranteed to be accurate.\n",
      "Reciprocal condition number: 4.4691649492278884e-08\n",
      "  ' condition number: {}'.format(rcond), RuntimeWarning)\n"
     ]
    },
    {
     "name": "stdout",
     "output_type": "stream",
     "text": [
      " [----             11%                  ] 1797 of 15000 complete in 9268.5 sec"
     ]
    },
    {
     "name": "stderr",
     "output_type": "stream",
     "text": [
      "/home/miguel/anaconda3/lib/python3.6/site-packages/scipy/linalg/basic.py:223: RuntimeWarning: scipy.linalg.solve\n",
      "Ill-conditioned matrix detected. Result is not guaranteed to be accurate.\n",
      "Reciprocal condition number: 5.187750673485425e-08\n",
      "  ' condition number: {}'.format(rcond), RuntimeWarning)\n"
     ]
    },
    {
     "name": "stdout",
     "output_type": "stream",
     "text": [
      " [----             12%                  ] 1875 of 15000 complete in 9667.2 sec"
     ]
    },
    {
     "name": "stderr",
     "output_type": "stream",
     "text": [
      "/home/miguel/anaconda3/lib/python3.6/site-packages/scipy/linalg/basic.py:223: RuntimeWarning: scipy.linalg.solve\n",
      "Ill-conditioned matrix detected. Result is not guaranteed to be accurate.\n",
      "Reciprocal condition number: 2.881076355265577e-08\n",
      "  ' condition number: {}'.format(rcond), RuntimeWarning)\n"
     ]
    },
    {
     "name": "stdout",
     "output_type": "stream",
     "text": [
      " [----             12%                  ] 1924 of 15000 complete in 9918.6 sec"
     ]
    },
    {
     "name": "stderr",
     "output_type": "stream",
     "text": [
      "/home/miguel/anaconda3/lib/python3.6/site-packages/scipy/linalg/basic.py:223: RuntimeWarning: scipy.linalg.solve\n",
      "Ill-conditioned matrix detected. Result is not guaranteed to be accurate.\n",
      "Reciprocal condition number: 5.483625642455081e-08\n",
      "  ' condition number: {}'.format(rcond), RuntimeWarning)\n"
     ]
    },
    {
     "name": "stdout",
     "output_type": "stream",
     "text": [
      " [-----            14%                  ] 2167 of 15000 complete in 11158.1 sec"
     ]
    },
    {
     "name": "stderr",
     "output_type": "stream",
     "text": [
      "/home/miguel/anaconda3/lib/python3.6/site-packages/scipy/linalg/basic.py:223: RuntimeWarning: scipy.linalg.solve\n",
      "Ill-conditioned matrix detected. Result is not guaranteed to be accurate.\n",
      "Reciprocal condition number: 1.9378537885472724e-08\n",
      "  ' condition number: {}'.format(rcond), RuntimeWarning)\n"
     ]
    },
    {
     "name": "stdout",
     "output_type": "stream",
     "text": [
      " [-----            15%                  ] 2270 of 15000 complete in 11683.2 sec"
     ]
    },
    {
     "name": "stderr",
     "output_type": "stream",
     "text": [
      "/home/miguel/anaconda3/lib/python3.6/site-packages/scipy/linalg/basic.py:223: RuntimeWarning: scipy.linalg.solve\n",
      "Ill-conditioned matrix detected. Result is not guaranteed to be accurate.\n",
      "Reciprocal condition number: 5.052617169098994e-08\n",
      "  ' condition number: {}'.format(rcond), RuntimeWarning)\n"
     ]
    },
    {
     "name": "stdout",
     "output_type": "stream",
     "text": [
      " [-----            15%                  ] 2337 of 15000 complete in 12027.9 sec"
     ]
    },
    {
     "name": "stderr",
     "output_type": "stream",
     "text": [
      "/home/miguel/anaconda3/lib/python3.6/site-packages/scipy/linalg/basic.py:223: RuntimeWarning: scipy.linalg.solve\n",
      "Ill-conditioned matrix detected. Result is not guaranteed to be accurate.\n",
      "Reciprocal condition number: 3.4685513128351886e-08\n",
      "  ' condition number: {}'.format(rcond), RuntimeWarning)\n"
     ]
    },
    {
     "name": "stdout",
     "output_type": "stream",
     "text": [
      " [-----            15%                  ] 2362 of 15000 complete in 12156.2 sec"
     ]
    },
    {
     "name": "stderr",
     "output_type": "stream",
     "text": [
      "/home/miguel/anaconda3/lib/python3.6/site-packages/scipy/linalg/basic.py:223: RuntimeWarning: scipy.linalg.solve\n",
      "Ill-conditioned matrix detected. Result is not guaranteed to be accurate.\n",
      "Reciprocal condition number: 3.5553597399484715e-08\n",
      "  ' condition number: {}'.format(rcond), RuntimeWarning)\n"
     ]
    },
    {
     "name": "stdout",
     "output_type": "stream",
     "text": [
      " [-----            15%                  ] 2368 of 15000 complete in 12186.3 sec"
     ]
    },
    {
     "name": "stderr",
     "output_type": "stream",
     "text": [
      "/home/miguel/anaconda3/lib/python3.6/site-packages/scipy/linalg/basic.py:223: RuntimeWarning: scipy.linalg.solve\n",
      "Ill-conditioned matrix detected. Result is not guaranteed to be accurate.\n",
      "Reciprocal condition number: 5.1827026226192174e-08\n",
      "  ' condition number: {}'.format(rcond), RuntimeWarning)\n"
     ]
    },
    {
     "name": "stdout",
     "output_type": "stream",
     "text": [
      " [------           16%                  ] 2418 of 15000 complete in 12441.7 sec"
     ]
    },
    {
     "name": "stderr",
     "output_type": "stream",
     "text": [
      "/home/miguel/anaconda3/lib/python3.6/site-packages/scipy/linalg/basic.py:223: RuntimeWarning: scipy.linalg.solve\n",
      "Ill-conditioned matrix detected. Result is not guaranteed to be accurate.\n",
      "Reciprocal condition number: 3.0637313130910115e-08\n",
      "  ' condition number: {}'.format(rcond), RuntimeWarning)\n"
     ]
    },
    {
     "name": "stdout",
     "output_type": "stream",
     "text": [
      " [------           16%                  ] 2465 of 15000 complete in 12682.2 sec"
     ]
    },
    {
     "name": "stderr",
     "output_type": "stream",
     "text": [
      "/home/miguel/anaconda3/lib/python3.6/site-packages/scipy/linalg/basic.py:223: RuntimeWarning: scipy.linalg.solve\n",
      "Ill-conditioned matrix detected. Result is not guaranteed to be accurate.\n",
      "Reciprocal condition number: 4.9422133940879576e-08\n",
      "  ' condition number: {}'.format(rcond), RuntimeWarning)\n"
     ]
    },
    {
     "name": "stdout",
     "output_type": "stream",
     "text": [
      " [------           16%                  ] 2518 of 15000 complete in 12952.9 sec"
     ]
    },
    {
     "name": "stderr",
     "output_type": "stream",
     "text": [
      "/home/miguel/anaconda3/lib/python3.6/site-packages/scipy/linalg/basic.py:223: RuntimeWarning: scipy.linalg.solve\n",
      "Ill-conditioned matrix detected. Result is not guaranteed to be accurate.\n",
      "Reciprocal condition number: 3.8228424870112576e-08\n",
      "  ' condition number: {}'.format(rcond), RuntimeWarning)\n"
     ]
    },
    {
     "name": "stdout",
     "output_type": "stream",
     "text": [
      " [------           16%                  ] 2526 of 15000 complete in 12993.4 sec"
     ]
    },
    {
     "name": "stderr",
     "output_type": "stream",
     "text": [
      "/home/miguel/anaconda3/lib/python3.6/site-packages/scipy/linalg/basic.py:223: RuntimeWarning: scipy.linalg.solve\n",
      "Ill-conditioned matrix detected. Result is not guaranteed to be accurate.\n",
      "Reciprocal condition number: 5.484413634349039e-08\n",
      "  ' condition number: {}'.format(rcond), RuntimeWarning)\n"
     ]
    },
    {
     "name": "stdout",
     "output_type": "stream",
     "text": [
      " [------           16%                  ] 2544 of 15000 complete in 13086.0 sec"
     ]
    },
    {
     "name": "stderr",
     "output_type": "stream",
     "text": [
      "/home/miguel/anaconda3/lib/python3.6/site-packages/scipy/linalg/basic.py:223: RuntimeWarning: scipy.linalg.solve\n",
      "Ill-conditioned matrix detected. Result is not guaranteed to be accurate.\n",
      "Reciprocal condition number: 1.7250794570600192e-08\n",
      "  ' condition number: {}'.format(rcond), RuntimeWarning)\n"
     ]
    },
    {
     "name": "stdout",
     "output_type": "stream",
     "text": [
      " [------           17%                  ] 2558 of 15000 complete in 13157.3 sec"
     ]
    },
    {
     "name": "stderr",
     "output_type": "stream",
     "text": [
      "/home/miguel/anaconda3/lib/python3.6/site-packages/scipy/linalg/basic.py:223: RuntimeWarning: scipy.linalg.solve\n",
      "Ill-conditioned matrix detected. Result is not guaranteed to be accurate.\n",
      "Reciprocal condition number: 5.4076654265600155e-08\n",
      "  ' condition number: {}'.format(rcond), RuntimeWarning)\n"
     ]
    },
    {
     "name": "stdout",
     "output_type": "stream",
     "text": [
      " [------           17%                  ] 2610 of 15000 complete in 13421.9 sec"
     ]
    },
    {
     "name": "stderr",
     "output_type": "stream",
     "text": [
      "/home/miguel/anaconda3/lib/python3.6/site-packages/scipy/linalg/basic.py:223: RuntimeWarning: scipy.linalg.solve\n",
      "Ill-conditioned matrix detected. Result is not guaranteed to be accurate.\n",
      "Reciprocal condition number: 5.821159376750984e-08\n",
      "  ' condition number: {}'.format(rcond), RuntimeWarning)\n"
     ]
    },
    {
     "name": "stdout",
     "output_type": "stream",
     "text": [
      " [------           18%                  ] 2754 of 15000 complete in 14158.2 sec"
     ]
    },
    {
     "name": "stderr",
     "output_type": "stream",
     "text": [
      "/home/miguel/anaconda3/lib/python3.6/site-packages/scipy/linalg/basic.py:223: RuntimeWarning: scipy.linalg.solve\n",
      "Ill-conditioned matrix detected. Result is not guaranteed to be accurate.\n",
      "Reciprocal condition number: 2.6053136537029786e-08\n",
      "  ' condition number: {}'.format(rcond), RuntimeWarning)\n"
     ]
    },
    {
     "name": "stdout",
     "output_type": "stream",
     "text": [
      " [-------          18%                  ] 2790 of 15000 complete in 14341.2 sec"
     ]
    },
    {
     "name": "stderr",
     "output_type": "stream",
     "text": [
      "/home/miguel/anaconda3/lib/python3.6/site-packages/scipy/linalg/basic.py:223: RuntimeWarning: scipy.linalg.solve\n",
      "Ill-conditioned matrix detected. Result is not guaranteed to be accurate.\n",
      "Reciprocal condition number: 1.080253841934109e-08\n",
      "  ' condition number: {}'.format(rcond), RuntimeWarning)\n"
     ]
    },
    {
     "name": "stdout",
     "output_type": "stream",
     "text": [
      " [-------          18%                  ] 2810 of 15000 complete in 14443.4 sec"
     ]
    },
    {
     "name": "stderr",
     "output_type": "stream",
     "text": [
      "/home/miguel/anaconda3/lib/python3.6/site-packages/scipy/linalg/basic.py:223: RuntimeWarning: scipy.linalg.solve\n",
      "Ill-conditioned matrix detected. Result is not guaranteed to be accurate.\n",
      "Reciprocal condition number: 4.363031180787402e-08\n",
      "  ' condition number: {}'.format(rcond), RuntimeWarning)\n"
     ]
    },
    {
     "name": "stdout",
     "output_type": "stream",
     "text": [
      " [-------          18%                  ] 2825 of 15000 complete in 14520.2 sec"
     ]
    },
    {
     "name": "stderr",
     "output_type": "stream",
     "text": [
      "/home/miguel/anaconda3/lib/python3.6/site-packages/scipy/linalg/basic.py:223: RuntimeWarning: scipy.linalg.solve\n",
      "Ill-conditioned matrix detected. Result is not guaranteed to be accurate.\n",
      "Reciprocal condition number: 5.1663505473698024e-08\n",
      "  ' condition number: {}'.format(rcond), RuntimeWarning)\n"
     ]
    },
    {
     "name": "stdout",
     "output_type": "stream",
     "text": [
      " [-------          18%                  ] 2837 of 15000 complete in 14581.8 sec"
     ]
    },
    {
     "name": "stderr",
     "output_type": "stream",
     "text": [
      "/home/miguel/anaconda3/lib/python3.6/site-packages/scipy/linalg/basic.py:223: RuntimeWarning: scipy.linalg.solve\n",
      "Ill-conditioned matrix detected. Result is not guaranteed to be accurate.\n",
      "Reciprocal condition number: 4.895628080703318e-08\n",
      "  ' condition number: {}'.format(rcond), RuntimeWarning)\n"
     ]
    },
    {
     "name": "stdout",
     "output_type": "stream",
     "text": [
      " [-------          19%                  ] 2858 of 15000 complete in 14688.1 sec"
     ]
    },
    {
     "name": "stderr",
     "output_type": "stream",
     "text": [
      "/home/miguel/anaconda3/lib/python3.6/site-packages/scipy/linalg/basic.py:223: RuntimeWarning: scipy.linalg.solve\n",
      "Ill-conditioned matrix detected. Result is not guaranteed to be accurate.\n",
      "Reciprocal condition number: 4.6588905178168716e-08\n",
      "  ' condition number: {}'.format(rcond), RuntimeWarning)\n"
     ]
    },
    {
     "name": "stdout",
     "output_type": "stream",
     "text": [
      " [-------          19%                  ] 2911 of 15000 complete in 14958.1 sec"
     ]
    },
    {
     "name": "stderr",
     "output_type": "stream",
     "text": [
      "/home/miguel/anaconda3/lib/python3.6/site-packages/scipy/linalg/basic.py:223: RuntimeWarning: scipy.linalg.solve\n",
      "Ill-conditioned matrix detected. Result is not guaranteed to be accurate.\n",
      "Reciprocal condition number: 2.9407768664668765e-08\n",
      "  ' condition number: {}'.format(rcond), RuntimeWarning)\n"
     ]
    },
    {
     "name": "stdout",
     "output_type": "stream",
     "text": [
      " [-------          19%                  ] 2915 of 15000 complete in 14978.2 sec"
     ]
    },
    {
     "name": "stderr",
     "output_type": "stream",
     "text": [
      "/home/miguel/anaconda3/lib/python3.6/site-packages/scipy/linalg/basic.py:223: RuntimeWarning: scipy.linalg.solve\n",
      "Ill-conditioned matrix detected. Result is not guaranteed to be accurate.\n",
      "Reciprocal condition number: 4.8052289258748715e-08\n",
      "  ' condition number: {}'.format(rcond), RuntimeWarning)\n"
     ]
    },
    {
     "name": "stdout",
     "output_type": "stream",
     "text": [
      " [-------          19%                  ] 2937 of 15000 complete in 15089.3 sec"
     ]
    },
    {
     "name": "stderr",
     "output_type": "stream",
     "text": [
      "/home/miguel/anaconda3/lib/python3.6/site-packages/scipy/linalg/basic.py:223: RuntimeWarning: scipy.linalg.solve\n",
      "Ill-conditioned matrix detected. Result is not guaranteed to be accurate.\n",
      "Reciprocal condition number: 1.8006224067335097e-08\n",
      "  ' condition number: {}'.format(rcond), RuntimeWarning)\n"
     ]
    },
    {
     "name": "stdout",
     "output_type": "stream",
     "text": [
      " [-------          19%                  ] 2941 of 15000 complete in 15109.7 sec"
     ]
    },
    {
     "name": "stderr",
     "output_type": "stream",
     "text": [
      "/home/miguel/anaconda3/lib/python3.6/site-packages/scipy/linalg/basic.py:223: RuntimeWarning: scipy.linalg.solve\n",
      "Ill-conditioned matrix detected. Result is not guaranteed to be accurate.\n",
      "Reciprocal condition number: 4.600938652288278e-08\n",
      "  ' condition number: {}'.format(rcond), RuntimeWarning)\n"
     ]
    },
    {
     "name": "stdout",
     "output_type": "stream",
     "text": [
      " [-------          19%                  ] 2966 of 15000 complete in 15237.4 sec"
     ]
    },
    {
     "name": "stderr",
     "output_type": "stream",
     "text": [
      "/home/miguel/anaconda3/lib/python3.6/site-packages/scipy/linalg/basic.py:223: RuntimeWarning: scipy.linalg.solve\n",
      "Ill-conditioned matrix detected. Result is not guaranteed to be accurate.\n",
      "Reciprocal condition number: 3.6362887811947076e-08\n",
      "  ' condition number: {}'.format(rcond), RuntimeWarning)\n"
     ]
    },
    {
     "name": "stdout",
     "output_type": "stream",
     "text": [
      " [-------          20%                  ] 3082 of 15000 complete in 15831.0 sec"
     ]
    },
    {
     "name": "stderr",
     "output_type": "stream",
     "text": [
      "/home/miguel/anaconda3/lib/python3.6/site-packages/scipy/linalg/basic.py:223: RuntimeWarning: scipy.linalg.solve\n",
      "Ill-conditioned matrix detected. Result is not guaranteed to be accurate.\n",
      "Reciprocal condition number: 1.9725121536140477e-09\n",
      "  ' condition number: {}'.format(rcond), RuntimeWarning)\n"
     ]
    },
    {
     "name": "stdout",
     "output_type": "stream",
     "text": [
      " [--------         21%                  ] 3171 of 15000 complete in 16285.1 sec"
     ]
    },
    {
     "name": "stderr",
     "output_type": "stream",
     "text": [
      "/home/miguel/anaconda3/lib/python3.6/site-packages/scipy/linalg/basic.py:223: RuntimeWarning: scipy.linalg.solve\n",
      "Ill-conditioned matrix detected. Result is not guaranteed to be accurate.\n",
      "Reciprocal condition number: 5.795167012934144e-08\n",
      "  ' condition number: {}'.format(rcond), RuntimeWarning)\n"
     ]
    },
    {
     "name": "stdout",
     "output_type": "stream",
     "text": [
      " [--------         21%                  ] 3274 of 15000 complete in 16812.0 sec"
     ]
    },
    {
     "name": "stderr",
     "output_type": "stream",
     "text": [
      "/home/miguel/anaconda3/lib/python3.6/site-packages/scipy/linalg/basic.py:223: RuntimeWarning: scipy.linalg.solve\n",
      "Ill-conditioned matrix detected. Result is not guaranteed to be accurate.\n",
      "Reciprocal condition number: 4.259909758275171e-08\n",
      "  ' condition number: {}'.format(rcond), RuntimeWarning)\n"
     ]
    },
    {
     "name": "stdout",
     "output_type": "stream",
     "text": [
      " [--------         21%                  ] 3290 of 15000 complete in 16893.0 sec"
     ]
    },
    {
     "name": "stderr",
     "output_type": "stream",
     "text": [
      "/home/miguel/anaconda3/lib/python3.6/site-packages/scipy/linalg/basic.py:223: RuntimeWarning: scipy.linalg.solve\n",
      "Ill-conditioned matrix detected. Result is not guaranteed to be accurate.\n",
      "Reciprocal condition number: 3.7181866474611525e-08\n",
      "  ' condition number: {}'.format(rcond), RuntimeWarning)\n"
     ]
    },
    {
     "name": "stdout",
     "output_type": "stream",
     "text": [
      " [--------         21%                  ] 3298 of 15000 complete in 16933.7 sec"
     ]
    },
    {
     "name": "stderr",
     "output_type": "stream",
     "text": [
      "/home/miguel/anaconda3/lib/python3.6/site-packages/scipy/linalg/basic.py:223: RuntimeWarning: scipy.linalg.solve\n",
      "Ill-conditioned matrix detected. Result is not guaranteed to be accurate.\n",
      "Reciprocal condition number: 4.7600849484297214e-08\n",
      "  ' condition number: {}'.format(rcond), RuntimeWarning)\n"
     ]
    },
    {
     "name": "stdout",
     "output_type": "stream",
     "text": [
      " [--------         22%                  ] 3423 of 15000 complete in 17574.2 sec"
     ]
    },
    {
     "name": "stderr",
     "output_type": "stream",
     "text": [
      "/home/miguel/anaconda3/lib/python3.6/site-packages/scipy/linalg/basic.py:223: RuntimeWarning: scipy.linalg.solve\n",
      "Ill-conditioned matrix detected. Result is not guaranteed to be accurate.\n",
      "Reciprocal condition number: 1.057755572020369e-08\n",
      "  ' condition number: {}'.format(rcond), RuntimeWarning)\n"
     ]
    },
    {
     "name": "stdout",
     "output_type": "stream",
     "text": [
      " [--------         23%                  ] 3463 of 15000 complete in 17777.1 sec"
     ]
    },
    {
     "name": "stderr",
     "output_type": "stream",
     "text": [
      "/home/miguel/anaconda3/lib/python3.6/site-packages/scipy/linalg/basic.py:223: RuntimeWarning: scipy.linalg.solve\n",
      "Ill-conditioned matrix detected. Result is not guaranteed to be accurate.\n",
      "Reciprocal condition number: 1.41624107996563e-08\n",
      "  ' condition number: {}'.format(rcond), RuntimeWarning)\n"
     ]
    },
    {
     "name": "stdout",
     "output_type": "stream",
     "text": [
      " [--------         23%                  ] 3485 of 15000 complete in 17889.7 sec"
     ]
    },
    {
     "name": "stderr",
     "output_type": "stream",
     "text": [
      "/home/miguel/anaconda3/lib/python3.6/site-packages/scipy/linalg/basic.py:223: RuntimeWarning: scipy.linalg.solve\n",
      "Ill-conditioned matrix detected. Result is not guaranteed to be accurate.\n",
      "Reciprocal condition number: 4.8054957346721494e-08\n",
      "  ' condition number: {}'.format(rcond), RuntimeWarning)\n"
     ]
    },
    {
     "name": "stdout",
     "output_type": "stream",
     "text": [
      " [--------         23%                  ] 3521 of 15000 complete in 18074.7 sec"
     ]
    },
    {
     "name": "stderr",
     "output_type": "stream",
     "text": [
      "/home/miguel/anaconda3/lib/python3.6/site-packages/scipy/linalg/basic.py:223: RuntimeWarning: scipy.linalg.solve\n",
      "Ill-conditioned matrix detected. Result is not guaranteed to be accurate.\n",
      "Reciprocal condition number: 4.835883249398876e-09\n",
      "  ' condition number: {}'.format(rcond), RuntimeWarning)\n"
     ]
    },
    {
     "name": "stdout",
     "output_type": "stream",
     "text": [
      " [--------         23%                  ] 3534 of 15000 complete in 18141.7 sec"
     ]
    },
    {
     "name": "stderr",
     "output_type": "stream",
     "text": [
      "/home/miguel/anaconda3/lib/python3.6/site-packages/scipy/linalg/basic.py:223: RuntimeWarning: scipy.linalg.solve\n",
      "Ill-conditioned matrix detected. Result is not guaranteed to be accurate.\n",
      "Reciprocal condition number: 5.015210291503536e-08\n",
      "  ' condition number: {}'.format(rcond), RuntimeWarning)\n"
     ]
    },
    {
     "name": "stdout",
     "output_type": "stream",
     "text": [
      " [---------        24%                  ] 3601 of 15000 complete in 18485.0 sec"
     ]
    },
    {
     "name": "stderr",
     "output_type": "stream",
     "text": [
      "/home/miguel/anaconda3/lib/python3.6/site-packages/scipy/linalg/basic.py:223: RuntimeWarning: scipy.linalg.solve\n",
      "Ill-conditioned matrix detected. Result is not guaranteed to be accurate.\n",
      "Reciprocal condition number: 2.059056036785023e-08\n",
      "  ' condition number: {}'.format(rcond), RuntimeWarning)\n"
     ]
    },
    {
     "name": "stdout",
     "output_type": "stream",
     "text": [
      " [---------        24%                  ] 3670 of 15000 complete in 18837.9 sec"
     ]
    },
    {
     "name": "stderr",
     "output_type": "stream",
     "text": [
      "/home/miguel/anaconda3/lib/python3.6/site-packages/scipy/linalg/basic.py:223: RuntimeWarning: scipy.linalg.solve\n",
      "Ill-conditioned matrix detected. Result is not guaranteed to be accurate.\n",
      "Reciprocal condition number: 3.313995478038123e-08\n",
      "  ' condition number: {}'.format(rcond), RuntimeWarning)\n"
     ]
    },
    {
     "name": "stdout",
     "output_type": "stream",
     "text": [
      " [---------        24%                  ] 3701 of 15000 complete in 18996.9 sec"
     ]
    },
    {
     "name": "stderr",
     "output_type": "stream",
     "text": [
      "/home/miguel/anaconda3/lib/python3.6/site-packages/scipy/linalg/basic.py:223: RuntimeWarning: scipy.linalg.solve\n",
      "Ill-conditioned matrix detected. Result is not guaranteed to be accurate.\n",
      "Reciprocal condition number: 3.42334338654382e-08\n",
      "  ' condition number: {}'.format(rcond), RuntimeWarning)\n"
     ]
    },
    {
     "name": "stdout",
     "output_type": "stream",
     "text": [
      " [---------        25%                  ] 3784 of 15000 complete in 19422.3 sec"
     ]
    },
    {
     "name": "stderr",
     "output_type": "stream",
     "text": [
      "/home/miguel/anaconda3/lib/python3.6/site-packages/scipy/linalg/basic.py:223: RuntimeWarning: scipy.linalg.solve\n",
      "Ill-conditioned matrix detected. Result is not guaranteed to be accurate.\n",
      "Reciprocal condition number: 4.0400305323373686e-08\n",
      "  ' condition number: {}'.format(rcond), RuntimeWarning)\n"
     ]
    },
    {
     "name": "stdout",
     "output_type": "stream",
     "text": [
      " [---------        25%                  ] 3868 of 15000 complete in 19853.5 sec"
     ]
    },
    {
     "name": "stderr",
     "output_type": "stream",
     "text": [
      "/home/miguel/anaconda3/lib/python3.6/site-packages/scipy/linalg/basic.py:223: RuntimeWarning: scipy.linalg.solve\n",
      "Ill-conditioned matrix detected. Result is not guaranteed to be accurate.\n",
      "Reciprocal condition number: 3.1156254465258826e-08\n",
      "  ' condition number: {}'.format(rcond), RuntimeWarning)\n"
     ]
    },
    {
     "name": "stdout",
     "output_type": "stream",
     "text": [
      " [---------        25%                  ] 3899 of 15000 complete in 20013.4 sec"
     ]
    },
    {
     "name": "stderr",
     "output_type": "stream",
     "text": [
      "/home/miguel/anaconda3/lib/python3.6/site-packages/scipy/linalg/basic.py:223: RuntimeWarning: scipy.linalg.solve\n",
      "Ill-conditioned matrix detected. Result is not guaranteed to be accurate.\n",
      "Reciprocal condition number: 2.6437179556637602e-08\n",
      "  ' condition number: {}'.format(rcond), RuntimeWarning)\n"
     ]
    },
    {
     "name": "stdout",
     "output_type": "stream",
     "text": [
      " [---------        26%                  ] 3907 of 15000 complete in 20054.4 sec"
     ]
    },
    {
     "name": "stderr",
     "output_type": "stream",
     "text": [
      "/home/miguel/anaconda3/lib/python3.6/site-packages/scipy/linalg/basic.py:223: RuntimeWarning: scipy.linalg.solve\n",
      "Ill-conditioned matrix detected. Result is not guaranteed to be accurate.\n",
      "Reciprocal condition number: 9.625124697265619e-09\n",
      "  ' condition number: {}'.format(rcond), RuntimeWarning)\n"
     ]
    },
    {
     "name": "stdout",
     "output_type": "stream",
     "text": [
      " [----------       26%                  ] 3966 of 15000 complete in 20354.3 sec"
     ]
    },
    {
     "name": "stderr",
     "output_type": "stream",
     "text": [
      "/home/miguel/anaconda3/lib/python3.6/site-packages/scipy/linalg/basic.py:223: RuntimeWarning: scipy.linalg.solve\n",
      "Ill-conditioned matrix detected. Result is not guaranteed to be accurate.\n",
      "Reciprocal condition number: 2.237837826157829e-08\n",
      "  ' condition number: {}'.format(rcond), RuntimeWarning)\n"
     ]
    },
    {
     "name": "stdout",
     "output_type": "stream",
     "text": [
      " [----------       26%                  ] 4009 of 15000 complete in 20573.6 sec"
     ]
    },
    {
     "name": "stderr",
     "output_type": "stream",
     "text": [
      "/home/miguel/anaconda3/lib/python3.6/site-packages/scipy/linalg/basic.py:223: RuntimeWarning: scipy.linalg.solve\n",
      "Ill-conditioned matrix detected. Result is not guaranteed to be accurate.\n",
      "Reciprocal condition number: 9.652475263521865e-09\n",
      "  ' condition number: {}'.format(rcond), RuntimeWarning)\n"
     ]
    },
    {
     "name": "stdout",
     "output_type": "stream",
     "text": [
      " [----------       27%                  ] 4152 of 15000 complete in 21306.3 sec"
     ]
    },
    {
     "name": "stderr",
     "output_type": "stream",
     "text": [
      "/home/miguel/anaconda3/lib/python3.6/site-packages/scipy/linalg/basic.py:223: RuntimeWarning: scipy.linalg.solve\n",
      "Ill-conditioned matrix detected. Result is not guaranteed to be accurate.\n",
      "Reciprocal condition number: 4.5947725624273517e-08\n",
      "  ' condition number: {}'.format(rcond), RuntimeWarning)\n"
     ]
    },
    {
     "name": "stdout",
     "output_type": "stream",
     "text": [
      " [----------       27%                  ] 4196 of 15000 complete in 21532.3 sec"
     ]
    },
    {
     "name": "stderr",
     "output_type": "stream",
     "text": [
      "/home/miguel/anaconda3/lib/python3.6/site-packages/scipy/linalg/basic.py:223: RuntimeWarning: scipy.linalg.solve\n",
      "Ill-conditioned matrix detected. Result is not guaranteed to be accurate.\n",
      "Reciprocal condition number: 1.7704588017863898e-08\n",
      "  ' condition number: {}'.format(rcond), RuntimeWarning)\n"
     ]
    },
    {
     "name": "stdout",
     "output_type": "stream",
     "text": [
      " [----------       28%                  ] 4214 of 15000 complete in 21624.3 sec"
     ]
    },
    {
     "name": "stderr",
     "output_type": "stream",
     "text": [
      "/home/miguel/anaconda3/lib/python3.6/site-packages/scipy/linalg/basic.py:223: RuntimeWarning: scipy.linalg.solve\n",
      "Ill-conditioned matrix detected. Result is not guaranteed to be accurate.\n",
      "Reciprocal condition number: 1.3188806491370997e-08\n",
      "  ' condition number: {}'.format(rcond), RuntimeWarning)\n"
     ]
    },
    {
     "name": "stdout",
     "output_type": "stream",
     "text": [
      " [----------       28%                  ] 4270 of 15000 complete in 21911.9 sec"
     ]
    },
    {
     "name": "stderr",
     "output_type": "stream",
     "text": [
      "/home/miguel/anaconda3/lib/python3.6/site-packages/scipy/linalg/basic.py:223: RuntimeWarning: scipy.linalg.solve\n",
      "Ill-conditioned matrix detected. Result is not guaranteed to be accurate.\n",
      "Reciprocal condition number: 3.20952366905658e-08\n",
      "  ' condition number: {}'.format(rcond), RuntimeWarning)\n"
     ]
    },
    {
     "name": "stdout",
     "output_type": "stream",
     "text": [
      " [----------       28%                  ] 4313 of 15000 complete in 22132.2 sec"
     ]
    },
    {
     "name": "stderr",
     "output_type": "stream",
     "text": [
      "/home/miguel/anaconda3/lib/python3.6/site-packages/scipy/linalg/basic.py:223: RuntimeWarning: scipy.linalg.solve\n",
      "Ill-conditioned matrix detected. Result is not guaranteed to be accurate.\n",
      "Reciprocal condition number: 1.798038518074918e-08\n",
      "  ' condition number: {}'.format(rcond), RuntimeWarning)\n"
     ]
    },
    {
     "name": "stdout",
     "output_type": "stream",
     "text": [
      " [----------       28%                  ] 4326 of 15000 complete in 22198.8 sec"
     ]
    },
    {
     "name": "stderr",
     "output_type": "stream",
     "text": [
      "/home/miguel/anaconda3/lib/python3.6/site-packages/scipy/linalg/basic.py:223: RuntimeWarning: scipy.linalg.solve\n",
      "Ill-conditioned matrix detected. Result is not guaranteed to be accurate.\n",
      "Reciprocal condition number: 9.468483774810466e-09\n",
      "  ' condition number: {}'.format(rcond), RuntimeWarning)\n"
     ]
    },
    {
     "name": "stdout",
     "output_type": "stream",
     "text": [
      " [-----------      28%                  ] 4346 of 15000 complete in 22301.6 sec"
     ]
    },
    {
     "name": "stderr",
     "output_type": "stream",
     "text": [
      "/home/miguel/anaconda3/lib/python3.6/site-packages/scipy/linalg/basic.py:223: RuntimeWarning: scipy.linalg.solve\n",
      "Ill-conditioned matrix detected. Result is not guaranteed to be accurate.\n",
      "Reciprocal condition number: 3.696468908742645e-08\n",
      "  ' condition number: {}'.format(rcond), RuntimeWarning)\n"
     ]
    },
    {
     "name": "stdout",
     "output_type": "stream",
     "text": [
      " [-----------      29%                  ] 4359 of 15000 complete in 22368.9 sec"
     ]
    },
    {
     "name": "stderr",
     "output_type": "stream",
     "text": [
      "/home/miguel/anaconda3/lib/python3.6/site-packages/scipy/linalg/basic.py:223: RuntimeWarning: scipy.linalg.solve\n",
      "Ill-conditioned matrix detected. Result is not guaranteed to be accurate.\n",
      "Reciprocal condition number: 5.27185317622525e-09\n",
      "  ' condition number: {}'.format(rcond), RuntimeWarning)\n"
     ]
    },
    {
     "name": "stdout",
     "output_type": "stream",
     "text": [
      " [-----------      30%                  ] 4593 of 15000 complete in 23572.4 sec"
     ]
    },
    {
     "name": "stderr",
     "output_type": "stream",
     "text": [
      "/home/miguel/anaconda3/lib/python3.6/site-packages/scipy/linalg/basic.py:223: RuntimeWarning: scipy.linalg.solve\n",
      "Ill-conditioned matrix detected. Result is not guaranteed to be accurate.\n",
      "Reciprocal condition number: 6.822749476498302e-09\n",
      "  ' condition number: {}'.format(rcond), RuntimeWarning)\n"
     ]
    },
    {
     "name": "stdout",
     "output_type": "stream",
     "text": [
      " [-----------      30%                  ] 4622 of 15000 complete in 23721.3 sec"
     ]
    },
    {
     "name": "stderr",
     "output_type": "stream",
     "text": [
      "/home/miguel/anaconda3/lib/python3.6/site-packages/scipy/linalg/basic.py:223: RuntimeWarning: scipy.linalg.solve\n",
      "Ill-conditioned matrix detected. Result is not guaranteed to be accurate.\n",
      "Reciprocal condition number: 2.2516900344271562e-08\n",
      "  ' condition number: {}'.format(rcond), RuntimeWarning)\n"
     ]
    },
    {
     "name": "stdout",
     "output_type": "stream",
     "text": [
      " [-----------      31%                  ] 4660 of 15000 complete in 23917.2 sec"
     ]
    },
    {
     "name": "stderr",
     "output_type": "stream",
     "text": [
      "/home/miguel/anaconda3/lib/python3.6/site-packages/scipy/linalg/basic.py:223: RuntimeWarning: scipy.linalg.solve\n",
      "Ill-conditioned matrix detected. Result is not guaranteed to be accurate.\n",
      "Reciprocal condition number: 2.9737519113837152e-08\n",
      "  ' condition number: {}'.format(rcond), RuntimeWarning)\n"
     ]
    },
    {
     "name": "stdout",
     "output_type": "stream",
     "text": [
      " [-----------      31%                  ] 4671 of 15000 complete in 23973.8 sec"
     ]
    },
    {
     "name": "stderr",
     "output_type": "stream",
     "text": [
      "/home/miguel/anaconda3/lib/python3.6/site-packages/scipy/linalg/basic.py:223: RuntimeWarning: scipy.linalg.solve\n",
      "Ill-conditioned matrix detected. Result is not guaranteed to be accurate.\n",
      "Reciprocal condition number: 5.937576830206126e-08\n",
      "  ' condition number: {}'.format(rcond), RuntimeWarning)\n"
     ]
    },
    {
     "name": "stdout",
     "output_type": "stream",
     "text": [
      " [-----------      31%                  ] 4692 of 15000 complete in 24082.8 sec"
     ]
    },
    {
     "name": "stderr",
     "output_type": "stream",
     "text": [
      "/home/miguel/anaconda3/lib/python3.6/site-packages/scipy/linalg/basic.py:223: RuntimeWarning: scipy.linalg.solve\n",
      "Ill-conditioned matrix detected. Result is not guaranteed to be accurate.\n",
      "Reciprocal condition number: 2.475066018803318e-08\n",
      "  ' condition number: {}'.format(rcond), RuntimeWarning)\n"
     ]
    },
    {
     "name": "stdout",
     "output_type": "stream",
     "text": [
      " [-----------      31%                  ] 4725 of 15000 complete in 24253.1 sec"
     ]
    },
    {
     "name": "stderr",
     "output_type": "stream",
     "text": [
      "/home/miguel/anaconda3/lib/python3.6/site-packages/scipy/linalg/basic.py:223: RuntimeWarning: scipy.linalg.solve\n",
      "Ill-conditioned matrix detected. Result is not guaranteed to be accurate.\n",
      "Reciprocal condition number: 4.9895078291228856e-08\n",
      "  ' condition number: {}'.format(rcond), RuntimeWarning)\n"
     ]
    },
    {
     "name": "stdout",
     "output_type": "stream",
     "text": [
      " [-----------      31%                  ] 4730 of 15000 complete in 24278.5 sec"
     ]
    },
    {
     "name": "stderr",
     "output_type": "stream",
     "text": [
      "/home/miguel/anaconda3/lib/python3.6/site-packages/scipy/linalg/basic.py:223: RuntimeWarning: scipy.linalg.solve\n",
      "Ill-conditioned matrix detected. Result is not guaranteed to be accurate.\n",
      "Reciprocal condition number: 1.2323041254092004e-08\n",
      "  ' condition number: {}'.format(rcond), RuntimeWarning)\n"
     ]
    },
    {
     "name": "stdout",
     "output_type": "stream",
     "text": [
      " [------------     31%                  ] 4791 of 15000 complete in 24593.6 sec"
     ]
    },
    {
     "name": "stderr",
     "output_type": "stream",
     "text": [
      "/home/miguel/anaconda3/lib/python3.6/site-packages/scipy/linalg/basic.py:223: RuntimeWarning: scipy.linalg.solve\n",
      "Ill-conditioned matrix detected. Result is not guaranteed to be accurate.\n",
      "Reciprocal condition number: 4.2572128933215936e-08\n",
      "  ' condition number: {}'.format(rcond), RuntimeWarning)\n"
     ]
    },
    {
     "name": "stdout",
     "output_type": "stream",
     "text": [
      " [------------     32%                  ] 4874 of 15000 complete in 25020.6 sec"
     ]
    },
    {
     "name": "stderr",
     "output_type": "stream",
     "text": [
      "/home/miguel/anaconda3/lib/python3.6/site-packages/scipy/linalg/basic.py:223: RuntimeWarning: scipy.linalg.solve\n",
      "Ill-conditioned matrix detected. Result is not guaranteed to be accurate.\n",
      "Reciprocal condition number: 5.9283497222395454e-08\n",
      "  ' condition number: {}'.format(rcond), RuntimeWarning)\n"
     ]
    },
    {
     "name": "stdout",
     "output_type": "stream",
     "text": [
      " [------------     32%                  ] 4883 of 15000 complete in 25066.8 sec"
     ]
    },
    {
     "name": "stderr",
     "output_type": "stream",
     "text": [
      "/home/miguel/anaconda3/lib/python3.6/site-packages/scipy/linalg/basic.py:223: RuntimeWarning: scipy.linalg.solve\n",
      "Ill-conditioned matrix detected. Result is not guaranteed to be accurate.\n",
      "Reciprocal condition number: 3.600901621325647e-08\n",
      "  ' condition number: {}'.format(rcond), RuntimeWarning)\n"
     ]
    },
    {
     "name": "stdout",
     "output_type": "stream",
     "text": [
      " [------------     32%                  ] 4914 of 15000 complete in 25226.4 sec"
     ]
    },
    {
     "name": "stderr",
     "output_type": "stream",
     "text": [
      "/home/miguel/anaconda3/lib/python3.6/site-packages/scipy/linalg/basic.py:223: RuntimeWarning: scipy.linalg.solve\n",
      "Ill-conditioned matrix detected. Result is not guaranteed to be accurate.\n",
      "Reciprocal condition number: 4.861763613916992e-08\n",
      "  ' condition number: {}'.format(rcond), RuntimeWarning)\n"
     ]
    },
    {
     "name": "stdout",
     "output_type": "stream",
     "text": [
      " [------------     32%                  ] 4937 of 15000 complete in 25345.8 sec"
     ]
    },
    {
     "name": "stderr",
     "output_type": "stream",
     "text": [
      "/home/miguel/anaconda3/lib/python3.6/site-packages/scipy/linalg/basic.py:223: RuntimeWarning: scipy.linalg.solve\n",
      "Ill-conditioned matrix detected. Result is not guaranteed to be accurate.\n",
      "Reciprocal condition number: 1.9822904206989733e-08\n",
      "  ' condition number: {}'.format(rcond), RuntimeWarning)\n"
     ]
    },
    {
     "name": "stdout",
     "output_type": "stream",
     "text": [
      " [------------     33%                  ] 4951 of 15000 complete in 25417.8 sec"
     ]
    },
    {
     "name": "stderr",
     "output_type": "stream",
     "text": [
      "/home/miguel/anaconda3/lib/python3.6/site-packages/scipy/linalg/basic.py:223: RuntimeWarning: scipy.linalg.solve\n",
      "Ill-conditioned matrix detected. Result is not guaranteed to be accurate.\n",
      "Reciprocal condition number: 3.1200656280816474e-08\n",
      "  ' condition number: {}'.format(rcond), RuntimeWarning)\n"
     ]
    },
    {
     "name": "stdout",
     "output_type": "stream",
     "text": [
      " [------------     33%                  ] 4957 of 15000 complete in 25447.9 sec"
     ]
    },
    {
     "name": "stderr",
     "output_type": "stream",
     "text": [
      "/home/miguel/anaconda3/lib/python3.6/site-packages/scipy/linalg/basic.py:223: RuntimeWarning: scipy.linalg.solve\n",
      "Ill-conditioned matrix detected. Result is not guaranteed to be accurate.\n",
      "Reciprocal condition number: 3.652302638101901e-08\n",
      "  ' condition number: {}'.format(rcond), RuntimeWarning)\n"
     ]
    },
    {
     "name": "stdout",
     "output_type": "stream",
     "text": [
      " [------------     33%                  ] 5009 of 15000 complete in 25718.8 sec"
     ]
    },
    {
     "name": "stderr",
     "output_type": "stream",
     "text": [
      "/home/miguel/anaconda3/lib/python3.6/site-packages/scipy/linalg/basic.py:223: RuntimeWarning: scipy.linalg.solve\n",
      "Ill-conditioned matrix detected. Result is not guaranteed to be accurate.\n",
      "Reciprocal condition number: 3.274275428566398e-08\n",
      "  ' condition number: {}'.format(rcond), RuntimeWarning)\n"
     ]
    },
    {
     "name": "stdout",
     "output_type": "stream",
     "text": [
      " [------------     33%                  ] 5018 of 15000 complete in 25765.7 sec"
     ]
    },
    {
     "name": "stderr",
     "output_type": "stream",
     "text": [
      "/home/miguel/anaconda3/lib/python3.6/site-packages/scipy/linalg/basic.py:223: RuntimeWarning: scipy.linalg.solve\n",
      "Ill-conditioned matrix detected. Result is not guaranteed to be accurate.\n",
      "Reciprocal condition number: 3.969724993169166e-09\n",
      "  ' condition number: {}'.format(rcond), RuntimeWarning)\n"
     ]
    },
    {
     "name": "stdout",
     "output_type": "stream",
     "text": [
      " [------------     33%                  ] 5060 of 15000 complete in 25983.2 sec"
     ]
    },
    {
     "name": "stderr",
     "output_type": "stream",
     "text": [
      "/home/miguel/anaconda3/lib/python3.6/site-packages/scipy/linalg/basic.py:223: RuntimeWarning: scipy.linalg.solve\n",
      "Ill-conditioned matrix detected. Result is not guaranteed to be accurate.\n",
      "Reciprocal condition number: 3.3230634244318935e-08\n",
      "  ' condition number: {}'.format(rcond), RuntimeWarning)\n"
     ]
    },
    {
     "name": "stdout",
     "output_type": "stream",
     "text": [
      " [------------     33%                  ] 5094 of 15000 complete in 26158.4 sec"
     ]
    },
    {
     "name": "stderr",
     "output_type": "stream",
     "text": [
      "/home/miguel/anaconda3/lib/python3.6/site-packages/scipy/linalg/basic.py:223: RuntimeWarning: scipy.linalg.solve\n",
      "Ill-conditioned matrix detected. Result is not guaranteed to be accurate.\n",
      "Reciprocal condition number: 4.1967709307755285e-08\n",
      "  ' condition number: {}'.format(rcond), RuntimeWarning)\n"
     ]
    },
    {
     "name": "stdout",
     "output_type": "stream",
     "text": [
      " [------------     34%                  ] 5102 of 15000 complete in 26199.3 sec"
     ]
    },
    {
     "name": "stderr",
     "output_type": "stream",
     "text": [
      "/home/miguel/anaconda3/lib/python3.6/site-packages/scipy/linalg/basic.py:223: RuntimeWarning: scipy.linalg.solve\n",
      "Ill-conditioned matrix detected. Result is not guaranteed to be accurate.\n",
      "Reciprocal condition number: 5.9225946813512564e-08\n",
      "  ' condition number: {}'.format(rcond), RuntimeWarning)\n"
     ]
    },
    {
     "name": "stdout",
     "output_type": "stream",
     "text": [
      " [-------------    34%                  ] 5155 of 15000 complete in 26472.9 sec"
     ]
    },
    {
     "name": "stderr",
     "output_type": "stream",
     "text": [
      "/home/miguel/anaconda3/lib/python3.6/site-packages/scipy/linalg/basic.py:223: RuntimeWarning: scipy.linalg.solve\n",
      "Ill-conditioned matrix detected. Result is not guaranteed to be accurate.\n",
      "Reciprocal condition number: 5.0120057437652576e-08\n",
      "  ' condition number: {}'.format(rcond), RuntimeWarning)\n"
     ]
    },
    {
     "name": "stdout",
     "output_type": "stream",
     "text": [
      " [-------------    34%                  ] 5172 of 15000 complete in 26561.3 sec"
     ]
    },
    {
     "name": "stderr",
     "output_type": "stream",
     "text": [
      "/home/miguel/anaconda3/lib/python3.6/site-packages/scipy/linalg/basic.py:223: RuntimeWarning: scipy.linalg.solve\n",
      "Ill-conditioned matrix detected. Result is not guaranteed to be accurate.\n",
      "Reciprocal condition number: 2.021983291911056e-08\n",
      "  ' condition number: {}'.format(rcond), RuntimeWarning)\n"
     ]
    },
    {
     "name": "stdout",
     "output_type": "stream",
     "text": [
      " [-------------    34%                  ] 5187 of 15000 complete in 26638.5 sec"
     ]
    },
    {
     "name": "stderr",
     "output_type": "stream",
     "text": [
      "/home/miguel/anaconda3/lib/python3.6/site-packages/scipy/linalg/basic.py:223: RuntimeWarning: scipy.linalg.solve\n",
      "Ill-conditioned matrix detected. Result is not guaranteed to be accurate.\n",
      "Reciprocal condition number: 2.644935648277169e-08\n",
      "  ' condition number: {}'.format(rcond), RuntimeWarning)\n"
     ]
    },
    {
     "name": "stdout",
     "output_type": "stream",
     "text": [
      " [-------------    34%                  ] 5208 of 15000 complete in 26747.2 sec"
     ]
    },
    {
     "name": "stderr",
     "output_type": "stream",
     "text": [
      "/home/miguel/anaconda3/lib/python3.6/site-packages/scipy/linalg/basic.py:223: RuntimeWarning: scipy.linalg.solve\n",
      "Ill-conditioned matrix detected. Result is not guaranteed to be accurate.\n",
      "Reciprocal condition number: 3.3766664131462676e-08\n",
      "  ' condition number: {}'.format(rcond), RuntimeWarning)\n"
     ]
    },
    {
     "name": "stdout",
     "output_type": "stream",
     "text": [
      " [-------------    34%                  ] 5225 of 15000 complete in 26833.9 sec"
     ]
    },
    {
     "name": "stderr",
     "output_type": "stream",
     "text": [
      "/home/miguel/anaconda3/lib/python3.6/site-packages/scipy/linalg/basic.py:223: RuntimeWarning: scipy.linalg.solve\n",
      "Ill-conditioned matrix detected. Result is not guaranteed to be accurate.\n",
      "Reciprocal condition number: 5.7134748487897014e-08\n",
      "  ' condition number: {}'.format(rcond), RuntimeWarning)\n"
     ]
    },
    {
     "name": "stdout",
     "output_type": "stream",
     "text": [
      " [-------------    35%                  ] 5261 of 15000 complete in 27020.7 sec"
     ]
    },
    {
     "name": "stderr",
     "output_type": "stream",
     "text": [
      "/home/miguel/anaconda3/lib/python3.6/site-packages/scipy/linalg/basic.py:223: RuntimeWarning: scipy.linalg.solve\n",
      "Ill-conditioned matrix detected. Result is not guaranteed to be accurate.\n",
      "Reciprocal condition number: 4.7463093011401725e-08\n",
      "  ' condition number: {}'.format(rcond), RuntimeWarning)\n"
     ]
    },
    {
     "name": "stdout",
     "output_type": "stream",
     "text": [
      " [-------------    35%                  ] 5291 of 15000 complete in 27176.9 sec"
     ]
    },
    {
     "name": "stderr",
     "output_type": "stream",
     "text": [
      "/home/miguel/anaconda3/lib/python3.6/site-packages/scipy/linalg/basic.py:223: RuntimeWarning: scipy.linalg.solve\n",
      "Ill-conditioned matrix detected. Result is not guaranteed to be accurate.\n",
      "Reciprocal condition number: 4.335952752398953e-08\n",
      "  ' condition number: {}'.format(rcond), RuntimeWarning)\n"
     ]
    },
    {
     "name": "stdout",
     "output_type": "stream",
     "text": [
      " [-------------    35%                  ] 5293 of 15000 complete in 27186.9 sec"
     ]
    },
    {
     "name": "stderr",
     "output_type": "stream",
     "text": [
      "/home/miguel/anaconda3/lib/python3.6/site-packages/scipy/linalg/basic.py:223: RuntimeWarning: scipy.linalg.solve\n",
      "Ill-conditioned matrix detected. Result is not guaranteed to be accurate.\n",
      "Reciprocal condition number: 3.899934242213021e-08\n",
      "  ' condition number: {}'.format(rcond), RuntimeWarning)\n"
     ]
    },
    {
     "name": "stdout",
     "output_type": "stream",
     "text": [
      " [-------------    35%                  ] 5329 of 15000 complete in 27373.4 sec"
     ]
    },
    {
     "name": "stderr",
     "output_type": "stream",
     "text": [
      "/home/miguel/anaconda3/lib/python3.6/site-packages/scipy/linalg/basic.py:223: RuntimeWarning: scipy.linalg.solve\n",
      "Ill-conditioned matrix detected. Result is not guaranteed to be accurate.\n",
      "Reciprocal condition number: 2.4554131172749294e-08\n",
      "  ' condition number: {}'.format(rcond), RuntimeWarning)\n"
     ]
    },
    {
     "name": "stdout",
     "output_type": "stream",
     "text": [
      " [-------------    35%                  ] 5332 of 15000 complete in 27389.0 sec"
     ]
    },
    {
     "name": "stderr",
     "output_type": "stream",
     "text": [
      "/home/miguel/anaconda3/lib/python3.6/site-packages/scipy/linalg/basic.py:223: RuntimeWarning: scipy.linalg.solve\n",
      "Ill-conditioned matrix detected. Result is not guaranteed to be accurate.\n",
      "Reciprocal condition number: 2.876073779134458e-08\n",
      "  ' condition number: {}'.format(rcond), RuntimeWarning)\n"
     ]
    },
    {
     "name": "stdout",
     "output_type": "stream",
     "text": [
      " [-------------    35%                  ] 5376 of 15000 complete in 27617.0 sec"
     ]
    },
    {
     "name": "stderr",
     "output_type": "stream",
     "text": [
      "/home/miguel/anaconda3/lib/python3.6/site-packages/scipy/linalg/basic.py:223: RuntimeWarning: scipy.linalg.solve\n",
      "Ill-conditioned matrix detected. Result is not guaranteed to be accurate.\n",
      "Reciprocal condition number: 3.7534857000309785e-08\n",
      "  ' condition number: {}'.format(rcond), RuntimeWarning)\n"
     ]
    },
    {
     "name": "stdout",
     "output_type": "stream",
     "text": [
      " [-------------    35%                  ] 5392 of 15000 complete in 27699.8 sec"
     ]
    },
    {
     "name": "stderr",
     "output_type": "stream",
     "text": [
      "/home/miguel/anaconda3/lib/python3.6/site-packages/scipy/linalg/basic.py:223: RuntimeWarning: scipy.linalg.solve\n",
      "Ill-conditioned matrix detected. Result is not guaranteed to be accurate.\n",
      "Reciprocal condition number: 2.1117477544407848e-08\n",
      "  ' condition number: {}'.format(rcond), RuntimeWarning)\n"
     ]
    },
    {
     "name": "stdout",
     "output_type": "stream",
     "text": [
      " [-------------    36%                  ] 5442 of 15000 complete in 27959.9 sec"
     ]
    },
    {
     "name": "stderr",
     "output_type": "stream",
     "text": [
      "/home/miguel/anaconda3/lib/python3.6/site-packages/scipy/linalg/basic.py:223: RuntimeWarning: scipy.linalg.solve\n",
      "Ill-conditioned matrix detected. Result is not guaranteed to be accurate.\n",
      "Reciprocal condition number: 5.339875741583455e-08\n",
      "  ' condition number: {}'.format(rcond), RuntimeWarning)\n"
     ]
    },
    {
     "name": "stdout",
     "output_type": "stream",
     "text": [
      " [-------------    36%                  ] 5485 of 15000 complete in 28182.7 sec"
     ]
    },
    {
     "name": "stderr",
     "output_type": "stream",
     "text": [
      "/home/miguel/anaconda3/lib/python3.6/site-packages/scipy/linalg/basic.py:223: RuntimeWarning: scipy.linalg.solve\n",
      "Ill-conditioned matrix detected. Result is not guaranteed to be accurate.\n",
      "Reciprocal condition number: 4.853126256421092e-08\n",
      "  ' condition number: {}'.format(rcond), RuntimeWarning)\n"
     ]
    },
    {
     "name": "stdout",
     "output_type": "stream",
     "text": [
      " [-------------    36%                  ] 5509 of 15000 complete in 28306.6 sec"
     ]
    },
    {
     "name": "stderr",
     "output_type": "stream",
     "text": [
      "/home/miguel/anaconda3/lib/python3.6/site-packages/scipy/linalg/basic.py:223: RuntimeWarning: scipy.linalg.solve\n",
      "Ill-conditioned matrix detected. Result is not guaranteed to be accurate.\n",
      "Reciprocal condition number: 1.4685592297780659e-08\n",
      "  ' condition number: {}'.format(rcond), RuntimeWarning)\n"
     ]
    },
    {
     "name": "stdout",
     "output_type": "stream",
     "text": [
      " [-------------    36%                  ] 5516 of 15000 complete in 28342.0 sec"
     ]
    },
    {
     "name": "stderr",
     "output_type": "stream",
     "text": [
      "/home/miguel/anaconda3/lib/python3.6/site-packages/scipy/linalg/basic.py:223: RuntimeWarning: scipy.linalg.solve\n",
      "Ill-conditioned matrix detected. Result is not guaranteed to be accurate.\n",
      "Reciprocal condition number: 2.39255530942728e-08\n",
      "  ' condition number: {}'.format(rcond), RuntimeWarning)\n"
     ]
    },
    {
     "name": "stdout",
     "output_type": "stream",
     "text": [
      " [-------------    36%                  ] 5525 of 15000 complete in 28388.1 sec"
     ]
    },
    {
     "name": "stderr",
     "output_type": "stream",
     "text": [
      "/home/miguel/anaconda3/lib/python3.6/site-packages/scipy/linalg/basic.py:223: RuntimeWarning: scipy.linalg.solve\n",
      "Ill-conditioned matrix detected. Result is not guaranteed to be accurate.\n",
      "Reciprocal condition number: 7.438030635853465e-09\n",
      "  ' condition number: {}'.format(rcond), RuntimeWarning)\n"
     ]
    },
    {
     "name": "stdout",
     "output_type": "stream",
     "text": [
      " [--------------   36%                  ] 5543 of 15000 complete in 28482.0 sec"
     ]
    },
    {
     "name": "stderr",
     "output_type": "stream",
     "text": [
      "/home/miguel/anaconda3/lib/python3.6/site-packages/scipy/linalg/basic.py:223: RuntimeWarning: scipy.linalg.solve\n",
      "Ill-conditioned matrix detected. Result is not guaranteed to be accurate.\n",
      "Reciprocal condition number: 4.959233734780355e-08\n",
      "  ' condition number: {}'.format(rcond), RuntimeWarning)\n"
     ]
    },
    {
     "name": "stdout",
     "output_type": "stream",
     "text": [
      " [--------------   37%                  ] 5557 of 15000 complete in 28554.3 sec"
     ]
    },
    {
     "name": "stderr",
     "output_type": "stream",
     "text": [
      "/home/miguel/anaconda3/lib/python3.6/site-packages/scipy/linalg/basic.py:223: RuntimeWarning: scipy.linalg.solve\n",
      "Ill-conditioned matrix detected. Result is not guaranteed to be accurate.\n",
      "Reciprocal condition number: 3.171970064386187e-08\n",
      "  ' condition number: {}'.format(rcond), RuntimeWarning)\n"
     ]
    },
    {
     "name": "stdout",
     "output_type": "stream",
     "text": [
      " [--------------   37%                  ] 5578 of 15000 complete in 28663.8 sec"
     ]
    },
    {
     "name": "stderr",
     "output_type": "stream",
     "text": [
      "/home/miguel/anaconda3/lib/python3.6/site-packages/scipy/linalg/basic.py:223: RuntimeWarning: scipy.linalg.solve\n",
      "Ill-conditioned matrix detected. Result is not guaranteed to be accurate.\n",
      "Reciprocal condition number: 1.1627151685900117e-08\n",
      "  ' condition number: {}'.format(rcond), RuntimeWarning)\n"
     ]
    },
    {
     "name": "stdout",
     "output_type": "stream",
     "text": [
      " [--------------   37%                  ] 5597 of 15000 complete in 28760.1 sec"
     ]
    },
    {
     "name": "stderr",
     "output_type": "stream",
     "text": [
      "/home/miguel/anaconda3/lib/python3.6/site-packages/scipy/linalg/basic.py:223: RuntimeWarning: scipy.linalg.solve\n",
      "Ill-conditioned matrix detected. Result is not guaranteed to be accurate.\n",
      "Reciprocal condition number: 8.739912793487292e-09\n",
      "  ' condition number: {}'.format(rcond), RuntimeWarning)\n"
     ]
    },
    {
     "name": "stdout",
     "output_type": "stream",
     "text": [
      " [--------------   37%                  ] 5631 of 15000 complete in 28937.4 sec"
     ]
    },
    {
     "name": "stderr",
     "output_type": "stream",
     "text": [
      "/home/miguel/anaconda3/lib/python3.6/site-packages/scipy/linalg/basic.py:223: RuntimeWarning: scipy.linalg.solve\n",
      "Ill-conditioned matrix detected. Result is not guaranteed to be accurate.\n",
      "Reciprocal condition number: 4.0495201858448127e-08\n",
      "  ' condition number: {}'.format(rcond), RuntimeWarning)\n"
     ]
    },
    {
     "name": "stdout",
     "output_type": "stream",
     "text": [
      " [--------------   37%                  ] 5691 of 15000 complete in 29250.6 sec"
     ]
    },
    {
     "name": "stderr",
     "output_type": "stream",
     "text": [
      "/home/miguel/anaconda3/lib/python3.6/site-packages/scipy/linalg/basic.py:223: RuntimeWarning: scipy.linalg.solve\n",
      "Ill-conditioned matrix detected. Result is not guaranteed to be accurate.\n",
      "Reciprocal condition number: 2.1834134500409164e-08\n",
      "  ' condition number: {}'.format(rcond), RuntimeWarning)\n"
     ]
    },
    {
     "name": "stdout",
     "output_type": "stream",
     "text": [
      " [--------------   38%                  ] 5704 of 15000 complete in 29316.9 sec"
     ]
    },
    {
     "name": "stderr",
     "output_type": "stream",
     "text": [
      "/home/miguel/anaconda3/lib/python3.6/site-packages/scipy/linalg/basic.py:223: RuntimeWarning: scipy.linalg.solve\n",
      "Ill-conditioned matrix detected. Result is not guaranteed to be accurate.\n",
      "Reciprocal condition number: 1.5483275106475958e-08\n",
      "  ' condition number: {}'.format(rcond), RuntimeWarning)\n"
     ]
    },
    {
     "name": "stdout",
     "output_type": "stream",
     "text": [
      " [--------------   38%                  ] 5732 of 15000 complete in 29462.2 sec"
     ]
    },
    {
     "name": "stderr",
     "output_type": "stream",
     "text": [
      "/home/miguel/anaconda3/lib/python3.6/site-packages/scipy/linalg/basic.py:223: RuntimeWarning: scipy.linalg.solve\n",
      "Ill-conditioned matrix detected. Result is not guaranteed to be accurate.\n",
      "Reciprocal condition number: 4.170749079435154e-08\n",
      "  ' condition number: {}'.format(rcond), RuntimeWarning)\n"
     ]
    },
    {
     "name": "stdout",
     "output_type": "stream",
     "text": [
      " [--------------   38%                  ] 5772 of 15000 complete in 29671.2 sec"
     ]
    },
    {
     "name": "stderr",
     "output_type": "stream",
     "text": [
      "/home/miguel/anaconda3/lib/python3.6/site-packages/scipy/linalg/basic.py:223: RuntimeWarning: scipy.linalg.solve\n",
      "Ill-conditioned matrix detected. Result is not guaranteed to be accurate.\n",
      "Reciprocal condition number: 1.2079982347756868e-08\n",
      "  ' condition number: {}'.format(rcond), RuntimeWarning)\n"
     ]
    },
    {
     "name": "stdout",
     "output_type": "stream",
     "text": [
      " [--------------   38%                  ] 5774 of 15000 complete in 29681.5 sec"
     ]
    },
    {
     "name": "stderr",
     "output_type": "stream",
     "text": [
      "/home/miguel/anaconda3/lib/python3.6/site-packages/scipy/linalg/basic.py:223: RuntimeWarning: scipy.linalg.solve\n",
      "Ill-conditioned matrix detected. Result is not guaranteed to be accurate.\n",
      "Reciprocal condition number: 2.9774049892239418e-08\n",
      "  ' condition number: {}'.format(rcond), RuntimeWarning)\n"
     ]
    },
    {
     "name": "stdout",
     "output_type": "stream",
     "text": [
      " [--------------   38%                  ] 5814 of 15000 complete in 29888.8 sec"
     ]
    },
    {
     "name": "stderr",
     "output_type": "stream",
     "text": [
      "/home/miguel/anaconda3/lib/python3.6/site-packages/scipy/linalg/basic.py:223: RuntimeWarning: scipy.linalg.solve\n",
      "Ill-conditioned matrix detected. Result is not guaranteed to be accurate.\n",
      "Reciprocal condition number: 4.594593150386572e-09\n",
      "  ' condition number: {}'.format(rcond), RuntimeWarning)\n"
     ]
    },
    {
     "name": "stdout",
     "output_type": "stream",
     "text": [
      " [--------------   38%                  ] 5849 of 15000 complete in 30068.0 sec"
     ]
    },
    {
     "name": "stderr",
     "output_type": "stream",
     "text": [
      "/home/miguel/anaconda3/lib/python3.6/site-packages/scipy/linalg/basic.py:223: RuntimeWarning: scipy.linalg.solve\n",
      "Ill-conditioned matrix detected. Result is not guaranteed to be accurate.\n",
      "Reciprocal condition number: 2.5963396765860125e-08\n",
      "  ' condition number: {}'.format(rcond), RuntimeWarning)\n"
     ]
    },
    {
     "name": "stdout",
     "output_type": "stream",
     "text": [
      " [--------------   39%                  ] 5872 of 15000 complete in 30186.4 sec"
     ]
    },
    {
     "name": "stderr",
     "output_type": "stream",
     "text": [
      "/home/miguel/anaconda3/lib/python3.6/site-packages/scipy/linalg/basic.py:223: RuntimeWarning: scipy.linalg.solve\n",
      "Ill-conditioned matrix detected. Result is not guaranteed to be accurate.\n",
      "Reciprocal condition number: 4.9616851072187274e-08\n",
      "  ' condition number: {}'.format(rcond), RuntimeWarning)\n"
     ]
    },
    {
     "name": "stdout",
     "output_type": "stream",
     "text": [
      " [--------------   39%                  ] 5876 of 15000 complete in 30207.1 sec"
     ]
    },
    {
     "name": "stderr",
     "output_type": "stream",
     "text": [
      "/home/miguel/anaconda3/lib/python3.6/site-packages/scipy/linalg/basic.py:223: RuntimeWarning: scipy.linalg.solve\n",
      "Ill-conditioned matrix detected. Result is not guaranteed to be accurate.\n",
      "Reciprocal condition number: 4.980286760769559e-08\n",
      "  ' condition number: {}'.format(rcond), RuntimeWarning)\n"
     ]
    },
    {
     "name": "stdout",
     "output_type": "stream",
     "text": [
      " [--------------   39%                  ] 5879 of 15000 complete in 30222.6 sec"
     ]
    },
    {
     "name": "stderr",
     "output_type": "stream",
     "text": [
      "/home/miguel/anaconda3/lib/python3.6/site-packages/scipy/linalg/basic.py:223: RuntimeWarning: scipy.linalg.solve\n",
      "Ill-conditioned matrix detected. Result is not guaranteed to be accurate.\n",
      "Reciprocal condition number: 4.770392436626025e-08\n",
      "  ' condition number: {}'.format(rcond), RuntimeWarning)\n"
     ]
    },
    {
     "name": "stdout",
     "output_type": "stream",
     "text": [
      " [--------------   39%                  ] 5883 of 15000 complete in 30243.2 sec"
     ]
    },
    {
     "name": "stderr",
     "output_type": "stream",
     "text": [
      "/home/miguel/anaconda3/lib/python3.6/site-packages/scipy/linalg/basic.py:223: RuntimeWarning: scipy.linalg.solve\n",
      "Ill-conditioned matrix detected. Result is not guaranteed to be accurate.\n",
      "Reciprocal condition number: 2.0933107691689656e-08\n",
      "  ' condition number: {}'.format(rcond), RuntimeWarning)\n"
     ]
    },
    {
     "name": "stdout",
     "output_type": "stream",
     "text": [
      " [--------------   39%                  ] 5903 of 15000 complete in 30345.5 sec"
     ]
    },
    {
     "name": "stderr",
     "output_type": "stream",
     "text": [
      "/home/miguel/anaconda3/lib/python3.6/site-packages/scipy/linalg/basic.py:223: RuntimeWarning: scipy.linalg.solve\n",
      "Ill-conditioned matrix detected. Result is not guaranteed to be accurate.\n",
      "Reciprocal condition number: 1.1706324798410606e-08\n",
      "  ' condition number: {}'.format(rcond), RuntimeWarning)\n"
     ]
    },
    {
     "name": "stdout",
     "output_type": "stream",
     "text": [
      " [--------------   39%                  ] 5919 of 15000 complete in 30428.9 sec"
     ]
    },
    {
     "name": "stderr",
     "output_type": "stream",
     "text": [
      "/home/miguel/anaconda3/lib/python3.6/site-packages/scipy/linalg/basic.py:223: RuntimeWarning: scipy.linalg.solve\n",
      "Ill-conditioned matrix detected. Result is not guaranteed to be accurate.\n",
      "Reciprocal condition number: 5.2279833795410013e-08\n",
      "  ' condition number: {}'.format(rcond), RuntimeWarning)\n"
     ]
    },
    {
     "name": "stdout",
     "output_type": "stream",
     "text": [
      " [---------------  39%                  ] 5924 of 15000 complete in 30454.5 sec"
     ]
    },
    {
     "name": "stderr",
     "output_type": "stream",
     "text": [
      "/home/miguel/anaconda3/lib/python3.6/site-packages/scipy/linalg/basic.py:223: RuntimeWarning: scipy.linalg.solve\n",
      "Ill-conditioned matrix detected. Result is not guaranteed to be accurate.\n",
      "Reciprocal condition number: 7.034537841121846e-09\n",
      "  ' condition number: {}'.format(rcond), RuntimeWarning)\n"
     ]
    },
    {
     "name": "stdout",
     "output_type": "stream",
     "text": [
      "\r",
      " [---------------  39%                  ] 5925 of 15000 complete in 30459.8 sec"
     ]
    },
    {
     "name": "stderr",
     "output_type": "stream",
     "text": [
      "/home/miguel/anaconda3/lib/python3.6/site-packages/scipy/linalg/basic.py:223: RuntimeWarning: scipy.linalg.solve\n",
      "Ill-conditioned matrix detected. Result is not guaranteed to be accurate.\n",
      "Reciprocal condition number: 9.997475736156503e-09\n",
      "  ' condition number: {}'.format(rcond), RuntimeWarning)\n"
     ]
    },
    {
     "name": "stdout",
     "output_type": "stream",
     "text": [
      " [---------------  39%                  ] 5929 of 15000 complete in 30480.3 sec"
     ]
    },
    {
     "name": "stderr",
     "output_type": "stream",
     "text": [
      "/home/miguel/anaconda3/lib/python3.6/site-packages/scipy/linalg/basic.py:223: RuntimeWarning: scipy.linalg.solve\n",
      "Ill-conditioned matrix detected. Result is not guaranteed to be accurate.\n",
      "Reciprocal condition number: 1.217300837907942e-08\n",
      "  ' condition number: {}'.format(rcond), RuntimeWarning)\n"
     ]
    },
    {
     "name": "stdout",
     "output_type": "stream",
     "text": [
      " [---------------  39%                  ] 5953 of 15000 complete in 30602.9 sec"
     ]
    },
    {
     "name": "stderr",
     "output_type": "stream",
     "text": [
      "/home/miguel/anaconda3/lib/python3.6/site-packages/scipy/linalg/basic.py:223: RuntimeWarning: scipy.linalg.solve\n",
      "Ill-conditioned matrix detected. Result is not guaranteed to be accurate.\n",
      "Reciprocal condition number: 8.874843970829716e-09\n",
      "  ' condition number: {}'.format(rcond), RuntimeWarning)\n"
     ]
    },
    {
     "name": "stdout",
     "output_type": "stream",
     "text": [
      " [---------------  40%                  ] 6007 of 15000 complete in 30881.2 sec"
     ]
    },
    {
     "name": "stderr",
     "output_type": "stream",
     "text": [
      "/home/miguel/anaconda3/lib/python3.6/site-packages/scipy/linalg/basic.py:223: RuntimeWarning: scipy.linalg.solve\n",
      "Ill-conditioned matrix detected. Result is not guaranteed to be accurate.\n",
      "Reciprocal condition number: 2.988615932508765e-08\n",
      "  ' condition number: {}'.format(rcond), RuntimeWarning)\n"
     ]
    },
    {
     "name": "stdout",
     "output_type": "stream",
     "text": [
      " [---------------  40%                  ] 6012 of 15000 complete in 30906.6 sec"
     ]
    },
    {
     "name": "stderr",
     "output_type": "stream",
     "text": [
      "/home/miguel/anaconda3/lib/python3.6/site-packages/scipy/linalg/basic.py:223: RuntimeWarning: scipy.linalg.solve\n",
      "Ill-conditioned matrix detected. Result is not guaranteed to be accurate.\n",
      "Reciprocal condition number: 1.5699525235390865e-08\n",
      "  ' condition number: {}'.format(rcond), RuntimeWarning)\n"
     ]
    },
    {
     "name": "stdout",
     "output_type": "stream",
     "text": [
      " [---------------  40%                  ] 6022 of 15000 complete in 30958.7 sec"
     ]
    },
    {
     "name": "stderr",
     "output_type": "stream",
     "text": [
      "/home/miguel/anaconda3/lib/python3.6/site-packages/scipy/linalg/basic.py:223: RuntimeWarning: scipy.linalg.solve\n",
      "Ill-conditioned matrix detected. Result is not guaranteed to be accurate.\n",
      "Reciprocal condition number: 4.3307142760795614e-08\n",
      "  ' condition number: {}'.format(rcond), RuntimeWarning)\n"
     ]
    },
    {
     "name": "stdout",
     "output_type": "stream",
     "text": [
      " [---------------  40%                  ] 6030 of 15000 complete in 30999.5 sec"
     ]
    },
    {
     "name": "stderr",
     "output_type": "stream",
     "text": [
      "/home/miguel/anaconda3/lib/python3.6/site-packages/scipy/linalg/basic.py:223: RuntimeWarning: scipy.linalg.solve\n",
      "Ill-conditioned matrix detected. Result is not guaranteed to be accurate.\n",
      "Reciprocal condition number: 5.8254936874391205e-08\n",
      "  ' condition number: {}'.format(rcond), RuntimeWarning)\n"
     ]
    },
    {
     "name": "stdout",
     "output_type": "stream",
     "text": [
      "\r",
      " [---------------  40%                  ] 6031 of 15000 complete in 31004.7 sec"
     ]
    },
    {
     "name": "stderr",
     "output_type": "stream",
     "text": [
      "/home/miguel/anaconda3/lib/python3.6/site-packages/scipy/linalg/basic.py:223: RuntimeWarning: scipy.linalg.solve\n",
      "Ill-conditioned matrix detected. Result is not guaranteed to be accurate.\n",
      "Reciprocal condition number: 2.8254550699102765e-08\n",
      "  ' condition number: {}'.format(rcond), RuntimeWarning)\n"
     ]
    },
    {
     "name": "stdout",
     "output_type": "stream",
     "text": [
      " [---------------  40%                  ] 6036 of 15000 complete in 31030.2 sec"
     ]
    },
    {
     "name": "stderr",
     "output_type": "stream",
     "text": [
      "/home/miguel/anaconda3/lib/python3.6/site-packages/scipy/linalg/basic.py:223: RuntimeWarning: scipy.linalg.solve\n",
      "Ill-conditioned matrix detected. Result is not guaranteed to be accurate.\n",
      "Reciprocal condition number: 1.489981915625549e-08\n",
      "  ' condition number: {}'.format(rcond), RuntimeWarning)\n"
     ]
    },
    {
     "name": "stdout",
     "output_type": "stream",
     "text": [
      "\r",
      " [---------------  40%                  ] 6037 of 15000 complete in 31035.4 sec"
     ]
    },
    {
     "name": "stderr",
     "output_type": "stream",
     "text": [
      "/home/miguel/anaconda3/lib/python3.6/site-packages/scipy/linalg/basic.py:223: RuntimeWarning: scipy.linalg.solve\n",
      "Ill-conditioned matrix detected. Result is not guaranteed to be accurate.\n",
      "Reciprocal condition number: 4.3651418479839776e-08\n",
      "  ' condition number: {}'.format(rcond), RuntimeWarning)\n"
     ]
    },
    {
     "name": "stdout",
     "output_type": "stream",
     "text": [
      " [---------------  40%                  ] 6068 of 15000 complete in 31195.1 sec"
     ]
    },
    {
     "name": "stderr",
     "output_type": "stream",
     "text": [
      "/home/miguel/anaconda3/lib/python3.6/site-packages/scipy/linalg/basic.py:223: RuntimeWarning: scipy.linalg.solve\n",
      "Ill-conditioned matrix detected. Result is not guaranteed to be accurate.\n",
      "Reciprocal condition number: 5.219863297156735e-08\n",
      "  ' condition number: {}'.format(rcond), RuntimeWarning)\n"
     ]
    },
    {
     "name": "stdout",
     "output_type": "stream",
     "text": [
      " [---------------  40%                  ] 6099 of 15000 complete in 31356.2 sec"
     ]
    },
    {
     "name": "stderr",
     "output_type": "stream",
     "text": [
      "/home/miguel/anaconda3/lib/python3.6/site-packages/scipy/linalg/basic.py:223: RuntimeWarning: scipy.linalg.solve\n",
      "Ill-conditioned matrix detected. Result is not guaranteed to be accurate.\n",
      "Reciprocal condition number: 1.4580222362781114e-08\n",
      "  ' condition number: {}'.format(rcond), RuntimeWarning)\n"
     ]
    },
    {
     "name": "stdout",
     "output_type": "stream",
     "text": [
      " [---------------  40%                  ] 6116 of 15000 complete in 31444.3 sec"
     ]
    },
    {
     "name": "stderr",
     "output_type": "stream",
     "text": [
      "/home/miguel/anaconda3/lib/python3.6/site-packages/scipy/linalg/basic.py:223: RuntimeWarning: scipy.linalg.solve\n",
      "Ill-conditioned matrix detected. Result is not guaranteed to be accurate.\n",
      "Reciprocal condition number: 4.68017233856699e-08\n",
      "  ' condition number: {}'.format(rcond), RuntimeWarning)\n"
     ]
    },
    {
     "name": "stdout",
     "output_type": "stream",
     "text": [
      " [---------------  40%                  ] 6134 of 15000 complete in 31536.2 sec"
     ]
    },
    {
     "name": "stderr",
     "output_type": "stream",
     "text": [
      "/home/miguel/anaconda3/lib/python3.6/site-packages/scipy/linalg/basic.py:223: RuntimeWarning: scipy.linalg.solve\n",
      "Ill-conditioned matrix detected. Result is not guaranteed to be accurate.\n",
      "Reciprocal condition number: 5.850931827922068e-08\n",
      "  ' condition number: {}'.format(rcond), RuntimeWarning)\n"
     ]
    },
    {
     "name": "stdout",
     "output_type": "stream",
     "text": [
      " [---------------  41%                  ] 6185 of 15000 complete in 31800.1 sec"
     ]
    },
    {
     "name": "stderr",
     "output_type": "stream",
     "text": [
      "/home/miguel/anaconda3/lib/python3.6/site-packages/scipy/linalg/basic.py:223: RuntimeWarning: scipy.linalg.solve\n",
      "Ill-conditioned matrix detected. Result is not guaranteed to be accurate.\n",
      "Reciprocal condition number: 3.6071739373255696e-08\n",
      "  ' condition number: {}'.format(rcond), RuntimeWarning)\n"
     ]
    },
    {
     "name": "stdout",
     "output_type": "stream",
     "text": [
      "\r",
      " [---------------  41%                  ] 6186 of 15000 complete in 31805.3 sec"
     ]
    },
    {
     "name": "stderr",
     "output_type": "stream",
     "text": [
      "/home/miguel/anaconda3/lib/python3.6/site-packages/scipy/linalg/basic.py:223: RuntimeWarning: scipy.linalg.solve\n",
      "Ill-conditioned matrix detected. Result is not guaranteed to be accurate.\n",
      "Reciprocal condition number: 1.0158121455106084e-08\n",
      "  ' condition number: {}'.format(rcond), RuntimeWarning)\n"
     ]
    },
    {
     "name": "stdout",
     "output_type": "stream",
     "text": [
      " [---------------  41%                  ] 6191 of 15000 complete in 31831.2 sec"
     ]
    },
    {
     "name": "stderr",
     "output_type": "stream",
     "text": [
      "/home/miguel/anaconda3/lib/python3.6/site-packages/scipy/linalg/basic.py:223: RuntimeWarning: scipy.linalg.solve\n",
      "Ill-conditioned matrix detected. Result is not guaranteed to be accurate.\n",
      "Reciprocal condition number: 1.3606484827732857e-08\n",
      "  ' condition number: {}'.format(rcond), RuntimeWarning)\n"
     ]
    },
    {
     "name": "stdout",
     "output_type": "stream",
     "text": [
      " [---------------  41%                  ] 6201 of 15000 complete in 31883.0 sec"
     ]
    },
    {
     "name": "stderr",
     "output_type": "stream",
     "text": [
      "/home/miguel/anaconda3/lib/python3.6/site-packages/scipy/linalg/basic.py:223: RuntimeWarning: scipy.linalg.solve\n",
      "Ill-conditioned matrix detected. Result is not guaranteed to be accurate.\n",
      "Reciprocal condition number: 2.082800953928654e-08\n",
      "  ' condition number: {}'.format(rcond), RuntimeWarning)\n"
     ]
    },
    {
     "name": "stdout",
     "output_type": "stream",
     "text": [
      " [---------------  41%                  ] 6208 of 15000 complete in 31918.9 sec"
     ]
    },
    {
     "name": "stderr",
     "output_type": "stream",
     "text": [
      "/home/miguel/anaconda3/lib/python3.6/site-packages/scipy/linalg/basic.py:223: RuntimeWarning: scipy.linalg.solve\n",
      "Ill-conditioned matrix detected. Result is not guaranteed to be accurate.\n",
      "Reciprocal condition number: 1.823240580733909e-08\n",
      "  ' condition number: {}'.format(rcond), RuntimeWarning)\n"
     ]
    },
    {
     "name": "stdout",
     "output_type": "stream",
     "text": [
      " [---------------  41%                  ] 6218 of 15000 complete in 31970.2 sec"
     ]
    },
    {
     "name": "stderr",
     "output_type": "stream",
     "text": [
      "/home/miguel/anaconda3/lib/python3.6/site-packages/scipy/linalg/basic.py:223: RuntimeWarning: scipy.linalg.solve\n",
      "Ill-conditioned matrix detected. Result is not guaranteed to be accurate.\n",
      "Reciprocal condition number: 5.471553166103149e-08\n",
      "  ' condition number: {}'.format(rcond), RuntimeWarning)\n"
     ]
    },
    {
     "name": "stdout",
     "output_type": "stream",
     "text": [
      " [---------------  41%                  ] 6225 of 15000 complete in 32005.9 sec"
     ]
    },
    {
     "name": "stderr",
     "output_type": "stream",
     "text": [
      "/home/miguel/anaconda3/lib/python3.6/site-packages/scipy/linalg/basic.py:223: RuntimeWarning: scipy.linalg.solve\n",
      "Ill-conditioned matrix detected. Result is not guaranteed to be accurate.\n",
      "Reciprocal condition number: 1.8696107773052972e-08\n",
      "  ' condition number: {}'.format(rcond), RuntimeWarning)\n"
     ]
    },
    {
     "name": "stdout",
     "output_type": "stream",
     "text": [
      " [---------------  41%                  ] 6228 of 15000 complete in 32021.6 sec"
     ]
    },
    {
     "name": "stderr",
     "output_type": "stream",
     "text": [
      "/home/miguel/anaconda3/lib/python3.6/site-packages/scipy/linalg/basic.py:223: RuntimeWarning: scipy.linalg.solve\n",
      "Ill-conditioned matrix detected. Result is not guaranteed to be accurate.\n",
      "Reciprocal condition number: 3.6527808333630674e-08\n",
      "  ' condition number: {}'.format(rcond), RuntimeWarning)\n"
     ]
    },
    {
     "name": "stdout",
     "output_type": "stream",
     "text": [
      " [---------------  41%                  ] 6247 of 15000 complete in 32119.1 sec"
     ]
    },
    {
     "name": "stderr",
     "output_type": "stream",
     "text": [
      "/home/miguel/anaconda3/lib/python3.6/site-packages/scipy/linalg/basic.py:223: RuntimeWarning: scipy.linalg.solve\n",
      "Ill-conditioned matrix detected. Result is not guaranteed to be accurate.\n",
      "Reciprocal condition number: 3.7080898351860014e-08\n",
      "  ' condition number: {}'.format(rcond), RuntimeWarning)\n"
     ]
    },
    {
     "name": "stdout",
     "output_type": "stream",
     "text": [
      " [---------------  41%                  ] 6251 of 15000 complete in 32139.6 sec"
     ]
    },
    {
     "name": "stderr",
     "output_type": "stream",
     "text": [
      "/home/miguel/anaconda3/lib/python3.6/site-packages/scipy/linalg/basic.py:223: RuntimeWarning: scipy.linalg.solve\n",
      "Ill-conditioned matrix detected. Result is not guaranteed to be accurate.\n",
      "Reciprocal condition number: 4.522114593896731e-08\n",
      "  ' condition number: {}'.format(rcond), RuntimeWarning)\n"
     ]
    },
    {
     "name": "stdout",
     "output_type": "stream",
     "text": [
      " [---------------  41%                  ] 6257 of 15000 complete in 32170.3 sec"
     ]
    },
    {
     "name": "stderr",
     "output_type": "stream",
     "text": [
      "/home/miguel/anaconda3/lib/python3.6/site-packages/scipy/linalg/basic.py:223: RuntimeWarning: scipy.linalg.solve\n",
      "Ill-conditioned matrix detected. Result is not guaranteed to be accurate.\n",
      "Reciprocal condition number: 2.818585009833896e-08\n",
      "  ' condition number: {}'.format(rcond), RuntimeWarning)\n"
     ]
    },
    {
     "name": "stdout",
     "output_type": "stream",
     "text": [
      " [---------------  41%                  ] 6265 of 15000 complete in 32212.2 sec"
     ]
    },
    {
     "name": "stderr",
     "output_type": "stream",
     "text": [
      "/home/miguel/anaconda3/lib/python3.6/site-packages/scipy/linalg/basic.py:223: RuntimeWarning: scipy.linalg.solve\n",
      "Ill-conditioned matrix detected. Result is not guaranteed to be accurate.\n",
      "Reciprocal condition number: 3.3370817220657045e-08\n",
      "  ' condition number: {}'.format(rcond), RuntimeWarning)\n"
     ]
    },
    {
     "name": "stdout",
     "output_type": "stream",
     "text": [
      " [---------------  42%                  ] 6304 of 15000 complete in 32413.0 sec"
     ]
    },
    {
     "name": "stderr",
     "output_type": "stream",
     "text": [
      "/home/miguel/anaconda3/lib/python3.6/site-packages/scipy/linalg/basic.py:223: RuntimeWarning: scipy.linalg.solve\n",
      "Ill-conditioned matrix detected. Result is not guaranteed to be accurate.\n",
      "Reciprocal condition number: 2.5843509554590582e-09\n",
      "  ' condition number: {}'.format(rcond), RuntimeWarning)\n"
     ]
    },
    {
     "name": "stdout",
     "output_type": "stream",
     "text": [
      " [---------------- 42%                  ] 6325 of 15000 complete in 32522.1 sec"
     ]
    },
    {
     "name": "stderr",
     "output_type": "stream",
     "text": [
      "/home/miguel/anaconda3/lib/python3.6/site-packages/scipy/linalg/basic.py:223: RuntimeWarning: scipy.linalg.solve\n",
      "Ill-conditioned matrix detected. Result is not guaranteed to be accurate.\n",
      "Reciprocal condition number: 1.3222416939129289e-08\n",
      "  ' condition number: {}'.format(rcond), RuntimeWarning)\n"
     ]
    },
    {
     "name": "stdout",
     "output_type": "stream",
     "text": [
      " [---------------- 42%                  ] 6342 of 15000 complete in 32610.1 sec"
     ]
    },
    {
     "name": "stderr",
     "output_type": "stream",
     "text": [
      "/home/miguel/anaconda3/lib/python3.6/site-packages/scipy/linalg/basic.py:223: RuntimeWarning: scipy.linalg.solve\n",
      "Ill-conditioned matrix detected. Result is not guaranteed to be accurate.\n",
      "Reciprocal condition number: 9.821688351507873e-09\n",
      "  ' condition number: {}'.format(rcond), RuntimeWarning)\n"
     ]
    },
    {
     "name": "stdout",
     "output_type": "stream",
     "text": [
      " [---------------- 42%                  ] 6373 of 15000 complete in 32771.9 sec"
     ]
    },
    {
     "name": "stderr",
     "output_type": "stream",
     "text": [
      "/home/miguel/anaconda3/lib/python3.6/site-packages/scipy/linalg/basic.py:223: RuntimeWarning: scipy.linalg.solve\n",
      "Ill-conditioned matrix detected. Result is not guaranteed to be accurate.\n",
      "Reciprocal condition number: 1.9949082386006012e-08\n",
      "  ' condition number: {}'.format(rcond), RuntimeWarning)\n"
     ]
    },
    {
     "name": "stdout",
     "output_type": "stream",
     "text": [
      " [---------------- 42%                  ] 6377 of 15000 complete in 32792.0 sec"
     ]
    },
    {
     "name": "stderr",
     "output_type": "stream",
     "text": [
      "/home/miguel/anaconda3/lib/python3.6/site-packages/scipy/linalg/basic.py:223: RuntimeWarning: scipy.linalg.solve\n",
      "Ill-conditioned matrix detected. Result is not guaranteed to be accurate.\n",
      "Reciprocal condition number: 1.452404863044876e-08\n",
      "  ' condition number: {}'.format(rcond), RuntimeWarning)\n"
     ]
    },
    {
     "name": "stdout",
     "output_type": "stream",
     "text": [
      " [---------------- 42%                  ] 6387 of 15000 complete in 32842.5 sec"
     ]
    },
    {
     "name": "stderr",
     "output_type": "stream",
     "text": [
      "/home/miguel/anaconda3/lib/python3.6/site-packages/scipy/linalg/basic.py:223: RuntimeWarning: scipy.linalg.solve\n",
      "Ill-conditioned matrix detected. Result is not guaranteed to be accurate.\n",
      "Reciprocal condition number: 4.060814973172455e-08\n",
      "  ' condition number: {}'.format(rcond), RuntimeWarning)\n"
     ]
    },
    {
     "name": "stdout",
     "output_type": "stream",
     "text": [
      " [---------------- 42%                  ] 6397 of 15000 complete in 32893.4 sec"
     ]
    },
    {
     "name": "stderr",
     "output_type": "stream",
     "text": [
      "/home/miguel/anaconda3/lib/python3.6/site-packages/scipy/linalg/basic.py:223: RuntimeWarning: scipy.linalg.solve\n",
      "Ill-conditioned matrix detected. Result is not guaranteed to be accurate.\n",
      "Reciprocal condition number: 5.750708353957634e-08\n",
      "  ' condition number: {}'.format(rcond), RuntimeWarning)\n"
     ]
    },
    {
     "name": "stdout",
     "output_type": "stream",
     "text": [
      " [---------------- 42%                  ] 6407 of 15000 complete in 32945.0 sec"
     ]
    },
    {
     "name": "stderr",
     "output_type": "stream",
     "text": [
      "/home/miguel/anaconda3/lib/python3.6/site-packages/scipy/linalg/basic.py:223: RuntimeWarning: scipy.linalg.solve\n",
      "Ill-conditioned matrix detected. Result is not guaranteed to be accurate.\n",
      "Reciprocal condition number: 4.7028770211454685e-08\n",
      "  ' condition number: {}'.format(rcond), RuntimeWarning)\n"
     ]
    },
    {
     "name": "stdout",
     "output_type": "stream",
     "text": [
      "\r",
      " [---------------- 42%                  ] 6408 of 15000 complete in 32950.2 sec"
     ]
    },
    {
     "name": "stderr",
     "output_type": "stream",
     "text": [
      "/home/miguel/anaconda3/lib/python3.6/site-packages/scipy/linalg/basic.py:223: RuntimeWarning: scipy.linalg.solve\n",
      "Ill-conditioned matrix detected. Result is not guaranteed to be accurate.\n",
      "Reciprocal condition number: 1.175900696259724e-11\n",
      "  ' condition number: {}'.format(rcond), RuntimeWarning)\n"
     ]
    },
    {
     "name": "stdout",
     "output_type": "stream",
     "text": [
      " [---------------- 42%                  ] 6413 of 15000 complete in 32976.6 sec"
     ]
    },
    {
     "name": "stderr",
     "output_type": "stream",
     "text": [
      "/home/miguel/anaconda3/lib/python3.6/site-packages/scipy/linalg/basic.py:223: RuntimeWarning: scipy.linalg.solve\n",
      "Ill-conditioned matrix detected. Result is not guaranteed to be accurate.\n",
      "Reciprocal condition number: 1.1709929692571563e-09\n",
      "  ' condition number: {}'.format(rcond), RuntimeWarning)\n"
     ]
    },
    {
     "name": "stdout",
     "output_type": "stream",
     "text": [
      " [---------------- 42%                  ] 6429 of 15000 complete in 33059.8 sec"
     ]
    },
    {
     "name": "stderr",
     "output_type": "stream",
     "text": [
      "/home/miguel/anaconda3/lib/python3.6/site-packages/scipy/linalg/basic.py:223: RuntimeWarning: scipy.linalg.solve\n",
      "Ill-conditioned matrix detected. Result is not guaranteed to be accurate.\n",
      "Reciprocal condition number: 1.9493194614028653e-08\n",
      "  ' condition number: {}'.format(rcond), RuntimeWarning)\n"
     ]
    },
    {
     "name": "stdout",
     "output_type": "stream",
     "text": [
      " [---------------- 42%                  ] 6442 of 15000 complete in 33126.9 sec"
     ]
    },
    {
     "name": "stderr",
     "output_type": "stream",
     "text": [
      "/home/miguel/anaconda3/lib/python3.6/site-packages/scipy/linalg/basic.py:223: RuntimeWarning: scipy.linalg.solve\n",
      "Ill-conditioned matrix detected. Result is not guaranteed to be accurate.\n",
      "Reciprocal condition number: 1.5106270012665846e-08\n",
      "  ' condition number: {}'.format(rcond), RuntimeWarning)\n"
     ]
    },
    {
     "name": "stdout",
     "output_type": "stream",
     "text": [
      " [---------------- 42%                  ] 6446 of 15000 complete in 33147.8 sec"
     ]
    },
    {
     "name": "stderr",
     "output_type": "stream",
     "text": [
      "/home/miguel/anaconda3/lib/python3.6/site-packages/scipy/linalg/basic.py:223: RuntimeWarning: scipy.linalg.solve\n",
      "Ill-conditioned matrix detected. Result is not guaranteed to be accurate.\n",
      "Reciprocal condition number: 2.8645161798124263e-09\n",
      "  ' condition number: {}'.format(rcond), RuntimeWarning)\n"
     ]
    },
    {
     "name": "stdout",
     "output_type": "stream",
     "text": [
      " [---------------- 43%                  ] 6451 of 15000 complete in 33173.9 sec"
     ]
    },
    {
     "name": "stderr",
     "output_type": "stream",
     "text": [
      "/home/miguel/anaconda3/lib/python3.6/site-packages/scipy/linalg/basic.py:223: RuntimeWarning: scipy.linalg.solve\n",
      "Ill-conditioned matrix detected. Result is not guaranteed to be accurate.\n",
      "Reciprocal condition number: 2.0153652968701863e-08\n",
      "  ' condition number: {}'.format(rcond), RuntimeWarning)\n"
     ]
    },
    {
     "name": "stdout",
     "output_type": "stream",
     "text": [
      " [---------------- 43%                  ] 6454 of 15000 complete in 33189.7 sec"
     ]
    },
    {
     "name": "stderr",
     "output_type": "stream",
     "text": [
      "/home/miguel/anaconda3/lib/python3.6/site-packages/scipy/linalg/basic.py:223: RuntimeWarning: scipy.linalg.solve\n",
      "Ill-conditioned matrix detected. Result is not guaranteed to be accurate.\n",
      "Reciprocal condition number: 8.405154794388636e-09\n",
      "  ' condition number: {}'.format(rcond), RuntimeWarning)\n"
     ]
    },
    {
     "name": "stdout",
     "output_type": "stream",
     "text": [
      " [---------------- 43%                  ] 6458 of 15000 complete in 33209.6 sec"
     ]
    },
    {
     "name": "stderr",
     "output_type": "stream",
     "text": [
      "/home/miguel/anaconda3/lib/python3.6/site-packages/scipy/linalg/basic.py:223: RuntimeWarning: scipy.linalg.solve\n",
      "Ill-conditioned matrix detected. Result is not guaranteed to be accurate.\n",
      "Reciprocal condition number: 3.353476785150633e-08\n",
      "  ' condition number: {}'.format(rcond), RuntimeWarning)\n"
     ]
    },
    {
     "name": "stdout",
     "output_type": "stream",
     "text": [
      " [---------------- 43%                  ] 6477 of 15000 complete in 33308.0 sec"
     ]
    },
    {
     "name": "stderr",
     "output_type": "stream",
     "text": [
      "/home/miguel/anaconda3/lib/python3.6/site-packages/scipy/linalg/basic.py:223: RuntimeWarning: scipy.linalg.solve\n",
      "Ill-conditioned matrix detected. Result is not guaranteed to be accurate.\n",
      "Reciprocal condition number: 5.6339125364957e-08\n",
      "  ' condition number: {}'.format(rcond), RuntimeWarning)\n"
     ]
    },
    {
     "name": "stdout",
     "output_type": "stream",
     "text": [
      "\r",
      " [---------------- 43%                  ] 6478 of 15000 complete in 33312.9 sec"
     ]
    },
    {
     "name": "stderr",
     "output_type": "stream",
     "text": [
      "/home/miguel/anaconda3/lib/python3.6/site-packages/scipy/linalg/basic.py:223: RuntimeWarning: scipy.linalg.solve\n",
      "Ill-conditioned matrix detected. Result is not guaranteed to be accurate.\n",
      "Reciprocal condition number: 5.28637684737987e-08\n",
      "  ' condition number: {}'.format(rcond), RuntimeWarning)\n"
     ]
    },
    {
     "name": "stdout",
     "output_type": "stream",
     "text": [
      " [---------------- 43%                  ] 6506 of 15000 complete in 33459.2 sec"
     ]
    },
    {
     "name": "stderr",
     "output_type": "stream",
     "text": [
      "/home/miguel/anaconda3/lib/python3.6/site-packages/scipy/linalg/basic.py:223: RuntimeWarning: scipy.linalg.solve\n",
      "Ill-conditioned matrix detected. Result is not guaranteed to be accurate.\n",
      "Reciprocal condition number: 4.37006342224322e-08\n",
      "  ' condition number: {}'.format(rcond), RuntimeWarning)\n"
     ]
    },
    {
     "name": "stdout",
     "output_type": "stream",
     "text": [
      " [---------------- 43%                  ] 6524 of 15000 complete in 33552.2 sec"
     ]
    },
    {
     "name": "stderr",
     "output_type": "stream",
     "text": [
      "/home/miguel/anaconda3/lib/python3.6/site-packages/scipy/linalg/basic.py:223: RuntimeWarning: scipy.linalg.solve\n",
      "Ill-conditioned matrix detected. Result is not guaranteed to be accurate.\n",
      "Reciprocal condition number: 5.370339195565066e-08\n",
      "  ' condition number: {}'.format(rcond), RuntimeWarning)\n"
     ]
    },
    {
     "name": "stdout",
     "output_type": "stream",
     "text": [
      " [---------------- 43%                  ] 6533 of 15000 complete in 33599.2 sec"
     ]
    },
    {
     "name": "stderr",
     "output_type": "stream",
     "text": [
      "/home/miguel/anaconda3/lib/python3.6/site-packages/scipy/linalg/basic.py:223: RuntimeWarning: scipy.linalg.solve\n",
      "Ill-conditioned matrix detected. Result is not guaranteed to be accurate.\n",
      "Reciprocal condition number: 2.1245368131417308e-08\n",
      "  ' condition number: {}'.format(rcond), RuntimeWarning)\n"
     ]
    },
    {
     "name": "stdout",
     "output_type": "stream",
     "text": [
      " [---------------- 43%                  ] 6561 of 15000 complete in 33746.1 sec"
     ]
    },
    {
     "name": "stderr",
     "output_type": "stream",
     "text": [
      "/home/miguel/anaconda3/lib/python3.6/site-packages/scipy/linalg/basic.py:223: RuntimeWarning: scipy.linalg.solve\n",
      "Ill-conditioned matrix detected. Result is not guaranteed to be accurate.\n",
      "Reciprocal condition number: 7.207710428502878e-09\n",
      "  ' condition number: {}'.format(rcond), RuntimeWarning)\n"
     ]
    },
    {
     "name": "stdout",
     "output_type": "stream",
     "text": [
      " [---------------- 43%                  ] 6566 of 15000 complete in 33771.8 sec"
     ]
    },
    {
     "name": "stderr",
     "output_type": "stream",
     "text": [
      "/home/miguel/anaconda3/lib/python3.6/site-packages/scipy/linalg/basic.py:223: RuntimeWarning: scipy.linalg.solve\n",
      "Ill-conditioned matrix detected. Result is not guaranteed to be accurate.\n",
      "Reciprocal condition number: 2.83106604825889e-09\n",
      "  ' condition number: {}'.format(rcond), RuntimeWarning)\n"
     ]
    },
    {
     "name": "stdout",
     "output_type": "stream",
     "text": [
      " [---------------- 44%                  ] 6632 of 15000 complete in 34116.4 sec"
     ]
    },
    {
     "name": "stderr",
     "output_type": "stream",
     "text": [
      "/home/miguel/anaconda3/lib/python3.6/site-packages/scipy/linalg/basic.py:223: RuntimeWarning: scipy.linalg.solve\n",
      "Ill-conditioned matrix detected. Result is not guaranteed to be accurate.\n",
      "Reciprocal condition number: 1.978947139491538e-08\n",
      "  ' condition number: {}'.format(rcond), RuntimeWarning)\n"
     ]
    },
    {
     "name": "stdout",
     "output_type": "stream",
     "text": [
      " [---------------- 44%                  ] 6648 of 15000 complete in 34200.4 sec"
     ]
    },
    {
     "name": "stderr",
     "output_type": "stream",
     "text": [
      "/home/miguel/anaconda3/lib/python3.6/site-packages/scipy/linalg/basic.py:223: RuntimeWarning: scipy.linalg.solve\n",
      "Ill-conditioned matrix detected. Result is not guaranteed to be accurate.\n",
      "Reciprocal condition number: 1.234485047518774e-08\n",
      "  ' condition number: {}'.format(rcond), RuntimeWarning)\n"
     ]
    },
    {
     "name": "stdout",
     "output_type": "stream",
     "text": [
      " [-----------------57%--                ] 8686 of 15000 complete in 44807.0 sec"
     ]
    },
    {
     "name": "stderr",
     "output_type": "stream",
     "text": [
      "/home/miguel/anaconda3/lib/python3.6/site-packages/scipy/linalg/basic.py:223: RuntimeWarning: scipy.linalg.solve\n",
      "Ill-conditioned matrix detected. Result is not guaranteed to be accurate.\n",
      "Reciprocal condition number: 3.20228394912192e-08\n",
      "  ' condition number: {}'.format(rcond), RuntimeWarning)\n"
     ]
    },
    {
     "name": "stdout",
     "output_type": "stream",
     "text": [
      " [-----------------61%---               ] 9211 of 15000 complete in 47527.0 sec"
     ]
    },
    {
     "name": "stderr",
     "output_type": "stream",
     "text": [
      "/home/miguel/anaconda3/lib/python3.6/site-packages/scipy/linalg/basic.py:223: RuntimeWarning: scipy.linalg.solve\n",
      "Ill-conditioned matrix detected. Result is not guaranteed to be accurate.\n",
      "Reciprocal condition number: 4.2103454944708574e-08\n",
      "  ' condition number: {}'.format(rcond), RuntimeWarning)\n"
     ]
    },
    {
     "name": "stdout",
     "output_type": "stream",
     "text": [
      " [-----------------61%---               ] 9216 of 15000 complete in 47552.1 sec"
     ]
    },
    {
     "name": "stderr",
     "output_type": "stream",
     "text": [
      "/home/miguel/anaconda3/lib/python3.6/site-packages/scipy/linalg/basic.py:223: RuntimeWarning: scipy.linalg.solve\n",
      "Ill-conditioned matrix detected. Result is not guaranteed to be accurate.\n",
      "Reciprocal condition number: 5.6222408062467366e-08\n",
      "  ' condition number: {}'.format(rcond), RuntimeWarning)\n"
     ]
    },
    {
     "name": "stdout",
     "output_type": "stream",
     "text": [
      " [-----------------61%---               ] 9223 of 15000 complete in 47587.7 sec"
     ]
    },
    {
     "name": "stderr",
     "output_type": "stream",
     "text": [
      "/home/miguel/anaconda3/lib/python3.6/site-packages/scipy/linalg/basic.py:223: RuntimeWarning: scipy.linalg.solve\n",
      "Ill-conditioned matrix detected. Result is not guaranteed to be accurate.\n",
      "Reciprocal condition number: 4.314757973133965e-08\n",
      "  ' condition number: {}'.format(rcond), RuntimeWarning)\n"
     ]
    },
    {
     "name": "stdout",
     "output_type": "stream",
     "text": [
      " [-----------------61%---               ] 9225 of 15000 complete in 47598.0 sec"
     ]
    },
    {
     "name": "stderr",
     "output_type": "stream",
     "text": [
      "/home/miguel/anaconda3/lib/python3.6/site-packages/scipy/linalg/basic.py:223: RuntimeWarning: scipy.linalg.solve\n",
      "Ill-conditioned matrix detected. Result is not guaranteed to be accurate.\n",
      "Reciprocal condition number: 2.907905027882407e-08\n",
      "  ' condition number: {}'.format(rcond), RuntimeWarning)\n"
     ]
    },
    {
     "name": "stdout",
     "output_type": "stream",
     "text": [
      "\r",
      " [-----------------61%---               ] 9226 of 15000 complete in 47603.1 sec"
     ]
    },
    {
     "name": "stderr",
     "output_type": "stream",
     "text": [
      "/home/miguel/anaconda3/lib/python3.6/site-packages/scipy/linalg/basic.py:223: RuntimeWarning: scipy.linalg.solve\n",
      "Ill-conditioned matrix detected. Result is not guaranteed to be accurate.\n",
      "Reciprocal condition number: 4.135252140713419e-08\n",
      "  ' condition number: {}'.format(rcond), RuntimeWarning)\n"
     ]
    },
    {
     "name": "stdout",
     "output_type": "stream",
     "text": [
      " [-----------------61%---               ] 9228 of 15000 complete in 47613.1 sec"
     ]
    },
    {
     "name": "stderr",
     "output_type": "stream",
     "text": [
      "/home/miguel/anaconda3/lib/python3.6/site-packages/scipy/linalg/basic.py:223: RuntimeWarning: scipy.linalg.solve\n",
      "Ill-conditioned matrix detected. Result is not guaranteed to be accurate.\n",
      "Reciprocal condition number: 2.282072841808258e-08\n",
      "  ' condition number: {}'.format(rcond), RuntimeWarning)\n"
     ]
    },
    {
     "name": "stdout",
     "output_type": "stream",
     "text": [
      "\r",
      " [-----------------61%---               ] 9229 of 15000 complete in 47618.2 sec"
     ]
    },
    {
     "name": "stderr",
     "output_type": "stream",
     "text": [
      "/home/miguel/anaconda3/lib/python3.6/site-packages/scipy/linalg/basic.py:223: RuntimeWarning: scipy.linalg.solve\n",
      "Ill-conditioned matrix detected. Result is not guaranteed to be accurate.\n",
      "Reciprocal condition number: 3.3607406635383086e-08\n",
      "  ' condition number: {}'.format(rcond), RuntimeWarning)\n"
     ]
    },
    {
     "name": "stdout",
     "output_type": "stream",
     "text": [
      "\r",
      " [-----------------61%---               ] 9230 of 15000 complete in 47623.3 sec"
     ]
    },
    {
     "name": "stderr",
     "output_type": "stream",
     "text": [
      "/home/miguel/anaconda3/lib/python3.6/site-packages/scipy/linalg/basic.py:223: RuntimeWarning: scipy.linalg.solve\n",
      "Ill-conditioned matrix detected. Result is not guaranteed to be accurate.\n",
      "Reciprocal condition number: 9.095010078397081e-09\n",
      "  ' condition number: {}'.format(rcond), RuntimeWarning)\n"
     ]
    },
    {
     "name": "stdout",
     "output_type": "stream",
     "text": [
      "\r",
      " [-----------------61%---               ] 9231 of 15000 complete in 47628.4 sec"
     ]
    },
    {
     "name": "stderr",
     "output_type": "stream",
     "text": [
      "/home/miguel/anaconda3/lib/python3.6/site-packages/scipy/linalg/basic.py:223: RuntimeWarning: scipy.linalg.solve\n",
      "Ill-conditioned matrix detected. Result is not guaranteed to be accurate.\n",
      "Reciprocal condition number: 5.655683921190757e-08\n",
      "  ' condition number: {}'.format(rcond), RuntimeWarning)\n"
     ]
    },
    {
     "name": "stdout",
     "output_type": "stream",
     "text": [
      " [-----------------61%---               ] 9236 of 15000 complete in 47654.0 sec"
     ]
    },
    {
     "name": "stderr",
     "output_type": "stream",
     "text": [
      "/home/miguel/anaconda3/lib/python3.6/site-packages/scipy/linalg/basic.py:223: RuntimeWarning: scipy.linalg.solve\n",
      "Ill-conditioned matrix detected. Result is not guaranteed to be accurate.\n",
      "Reciprocal condition number: 5.239686728941706e-08\n",
      "  ' condition number: {}'.format(rcond), RuntimeWarning)\n"
     ]
    },
    {
     "name": "stdout",
     "output_type": "stream",
     "text": [
      " [-----------------61%---               ] 9243 of 15000 complete in 47689.8 sec"
     ]
    },
    {
     "name": "stderr",
     "output_type": "stream",
     "text": [
      "/home/miguel/anaconda3/lib/python3.6/site-packages/scipy/linalg/basic.py:223: RuntimeWarning: scipy.linalg.solve\n",
      "Ill-conditioned matrix detected. Result is not guaranteed to be accurate.\n",
      "Reciprocal condition number: 4.134049547133145e-08\n",
      "  ' condition number: {}'.format(rcond), RuntimeWarning)\n"
     ]
    },
    {
     "name": "stdout",
     "output_type": "stream",
     "text": [
      " [-----------------63%---               ] 9472 of 15000 complete in 48872.7 sec"
     ]
    },
    {
     "name": "stderr",
     "output_type": "stream",
     "text": [
      "/home/miguel/anaconda3/lib/python3.6/site-packages/scipy/linalg/basic.py:223: RuntimeWarning: scipy.linalg.solve\n",
      "Ill-conditioned matrix detected. Result is not guaranteed to be accurate.\n",
      "Reciprocal condition number: 5.8977562389372906e-08\n",
      "  ' condition number: {}'.format(rcond), RuntimeWarning)\n"
     ]
    },
    {
     "name": "stdout",
     "output_type": "stream",
     "text": [
      " [-----------------63%----              ] 9477 of 15000 complete in 48898.1 sec"
     ]
    },
    {
     "name": "stderr",
     "output_type": "stream",
     "text": [
      "/home/miguel/anaconda3/lib/python3.6/site-packages/scipy/linalg/basic.py:223: RuntimeWarning: scipy.linalg.solve\n",
      "Ill-conditioned matrix detected. Result is not guaranteed to be accurate.\n",
      "Reciprocal condition number: 4.761238514561228e-08\n",
      "  ' condition number: {}'.format(rcond), RuntimeWarning)\n"
     ]
    },
    {
     "name": "stdout",
     "output_type": "stream",
     "text": [
      " [-----------------63%----              ] 9480 of 15000 complete in 48913.5 sec"
     ]
    },
    {
     "name": "stderr",
     "output_type": "stream",
     "text": [
      "/home/miguel/anaconda3/lib/python3.6/site-packages/scipy/linalg/basic.py:223: RuntimeWarning: scipy.linalg.solve\n",
      "Ill-conditioned matrix detected. Result is not guaranteed to be accurate.\n",
      "Reciprocal condition number: 1.709521058046448e-08\n",
      "  ' condition number: {}'.format(rcond), RuntimeWarning)\n"
     ]
    },
    {
     "name": "stdout",
     "output_type": "stream",
     "text": [
      " [-----------------63%----              ] 9484 of 15000 complete in 48934.0 sec"
     ]
    },
    {
     "name": "stderr",
     "output_type": "stream",
     "text": [
      "/home/miguel/anaconda3/lib/python3.6/site-packages/scipy/linalg/basic.py:223: RuntimeWarning: scipy.linalg.solve\n",
      "Ill-conditioned matrix detected. Result is not guaranteed to be accurate.\n",
      "Reciprocal condition number: 2.5953645899079447e-09\n",
      "  ' condition number: {}'.format(rcond), RuntimeWarning)\n"
     ]
    },
    {
     "name": "stdout",
     "output_type": "stream",
     "text": [
      " [-----------------63%----              ] 9486 of 15000 complete in 48944.1 sec"
     ]
    },
    {
     "name": "stderr",
     "output_type": "stream",
     "text": [
      "/home/miguel/anaconda3/lib/python3.6/site-packages/scipy/linalg/basic.py:223: RuntimeWarning: scipy.linalg.solve\n",
      "Ill-conditioned matrix detected. Result is not guaranteed to be accurate.\n",
      "Reciprocal condition number: 1.9486767754983703e-08\n",
      "  ' condition number: {}'.format(rcond), RuntimeWarning)\n"
     ]
    },
    {
     "name": "stdout",
     "output_type": "stream",
     "text": [
      " [-----------------63%----              ] 9504 of 15000 complete in 49035.4 sec"
     ]
    },
    {
     "name": "stderr",
     "output_type": "stream",
     "text": [
      "/home/miguel/anaconda3/lib/python3.6/site-packages/scipy/linalg/basic.py:223: RuntimeWarning: scipy.linalg.solve\n",
      "Ill-conditioned matrix detected. Result is not guaranteed to be accurate.\n",
      "Reciprocal condition number: 2.7005784275502265e-08\n",
      "  ' condition number: {}'.format(rcond), RuntimeWarning)\n"
     ]
    },
    {
     "name": "stdout",
     "output_type": "stream",
     "text": [
      " [-----------------63%----              ] 9521 of 15000 complete in 49123.5 sec"
     ]
    },
    {
     "name": "stderr",
     "output_type": "stream",
     "text": [
      "/home/miguel/anaconda3/lib/python3.6/site-packages/scipy/linalg/basic.py:223: RuntimeWarning: scipy.linalg.solve\n",
      "Ill-conditioned matrix detected. Result is not guaranteed to be accurate.\n",
      "Reciprocal condition number: 1.9890011415668596e-08\n",
      "  ' condition number: {}'.format(rcond), RuntimeWarning)\n"
     ]
    },
    {
     "name": "stdout",
     "output_type": "stream",
     "text": [
      " [-----------------63%----              ] 9525 of 15000 complete in 49144.2 sec"
     ]
    },
    {
     "name": "stderr",
     "output_type": "stream",
     "text": [
      "/home/miguel/anaconda3/lib/python3.6/site-packages/scipy/linalg/basic.py:223: RuntimeWarning: scipy.linalg.solve\n",
      "Ill-conditioned matrix detected. Result is not guaranteed to be accurate.\n",
      "Reciprocal condition number: 3.586256624998896e-08\n",
      "  ' condition number: {}'.format(rcond), RuntimeWarning)\n"
     ]
    },
    {
     "name": "stdout",
     "output_type": "stream",
     "text": [
      " [-----------------63%----              ] 9527 of 15000 complete in 49154.6 sec"
     ]
    },
    {
     "name": "stderr",
     "output_type": "stream",
     "text": [
      "/home/miguel/anaconda3/lib/python3.6/site-packages/scipy/linalg/basic.py:223: RuntimeWarning: scipy.linalg.solve\n",
      "Ill-conditioned matrix detected. Result is not guaranteed to be accurate.\n",
      "Reciprocal condition number: 1.4509067558510225e-10\n",
      "  ' condition number: {}'.format(rcond), RuntimeWarning)\n"
     ]
    },
    {
     "name": "stdout",
     "output_type": "stream",
     "text": [
      " [-----------------63%----              ] 9529 of 15000 complete in 49164.7 sec"
     ]
    },
    {
     "name": "stderr",
     "output_type": "stream",
     "text": [
      "/home/miguel/anaconda3/lib/python3.6/site-packages/scipy/linalg/basic.py:223: RuntimeWarning: scipy.linalg.solve\n",
      "Ill-conditioned matrix detected. Result is not guaranteed to be accurate.\n",
      "Reciprocal condition number: 5.143336068158533e-08\n",
      "  ' condition number: {}'.format(rcond), RuntimeWarning)\n"
     ]
    },
    {
     "name": "stdout",
     "output_type": "stream",
     "text": [
      " [-----------------63%----              ] 9557 of 15000 complete in 49305.7 sec"
     ]
    },
    {
     "name": "stderr",
     "output_type": "stream",
     "text": [
      "/home/miguel/anaconda3/lib/python3.6/site-packages/scipy/linalg/basic.py:223: RuntimeWarning: scipy.linalg.solve\n",
      "Ill-conditioned matrix detected. Result is not guaranteed to be accurate.\n",
      "Reciprocal condition number: 2.1166348673773427e-08\n",
      "  ' condition number: {}'.format(rcond), RuntimeWarning)\n"
     ]
    },
    {
     "name": "stdout",
     "output_type": "stream",
     "text": [
      " [-----------------64%----              ] 9630 of 15000 complete in 49680.9 sec"
     ]
    },
    {
     "name": "stderr",
     "output_type": "stream",
     "text": [
      "/home/miguel/anaconda3/lib/python3.6/site-packages/scipy/linalg/basic.py:223: RuntimeWarning: scipy.linalg.solve\n",
      "Ill-conditioned matrix detected. Result is not guaranteed to be accurate.\n",
      "Reciprocal condition number: 2.3694873618751444e-08\n",
      "  ' condition number: {}'.format(rcond), RuntimeWarning)\n"
     ]
    },
    {
     "name": "stdout",
     "output_type": "stream",
     "text": [
      " [-----------------64%----              ] 9632 of 15000 complete in 49691.3 sec"
     ]
    },
    {
     "name": "stderr",
     "output_type": "stream",
     "text": [
      "/home/miguel/anaconda3/lib/python3.6/site-packages/scipy/linalg/basic.py:223: RuntimeWarning: scipy.linalg.solve\n",
      "Ill-conditioned matrix detected. Result is not guaranteed to be accurate.\n",
      "Reciprocal condition number: 2.906738316710289e-08\n",
      "  ' condition number: {}'.format(rcond), RuntimeWarning)\n"
     ]
    },
    {
     "name": "stdout",
     "output_type": "stream",
     "text": [
      "\r",
      " [-----------------64%----              ] 9633 of 15000 complete in 49696.2 sec"
     ]
    },
    {
     "name": "stderr",
     "output_type": "stream",
     "text": [
      "/home/miguel/anaconda3/lib/python3.6/site-packages/scipy/linalg/basic.py:223: RuntimeWarning: scipy.linalg.solve\n",
      "Ill-conditioned matrix detected. Result is not guaranteed to be accurate.\n",
      "Reciprocal condition number: 1.102754776383108e-08\n",
      "  ' condition number: {}'.format(rcond), RuntimeWarning)\n"
     ]
    },
    {
     "name": "stdout",
     "output_type": "stream",
     "text": [
      " [-----------------64%----              ] 9635 of 15000 complete in 49706.3 sec"
     ]
    },
    {
     "name": "stderr",
     "output_type": "stream",
     "text": [
      "/home/miguel/anaconda3/lib/python3.6/site-packages/scipy/linalg/basic.py:223: RuntimeWarning: scipy.linalg.solve\n",
      "Ill-conditioned matrix detected. Result is not guaranteed to be accurate.\n",
      "Reciprocal condition number: 4.636512329625475e-08\n",
      "  ' condition number: {}'.format(rcond), RuntimeWarning)\n"
     ]
    },
    {
     "name": "stdout",
     "output_type": "stream",
     "text": [
      " [-----------------64%----              ] 9650 of 15000 complete in 49783.5 sec"
     ]
    },
    {
     "name": "stderr",
     "output_type": "stream",
     "text": [
      "/home/miguel/anaconda3/lib/python3.6/site-packages/scipy/linalg/basic.py:223: RuntimeWarning: scipy.linalg.solve\n",
      "Ill-conditioned matrix detected. Result is not guaranteed to be accurate.\n",
      "Reciprocal condition number: 3.461156694584133e-08\n",
      "  ' condition number: {}'.format(rcond), RuntimeWarning)\n"
     ]
    },
    {
     "name": "stdout",
     "output_type": "stream",
     "text": [
      " [-----------------64%----              ] 9655 of 15000 complete in 49808.9 sec"
     ]
    },
    {
     "name": "stderr",
     "output_type": "stream",
     "text": [
      "/home/miguel/anaconda3/lib/python3.6/site-packages/scipy/linalg/basic.py:223: RuntimeWarning: scipy.linalg.solve\n",
      "Ill-conditioned matrix detected. Result is not guaranteed to be accurate.\n",
      "Reciprocal condition number: 4.436257938777999e-08\n",
      "  ' condition number: {}'.format(rcond), RuntimeWarning)\n"
     ]
    },
    {
     "name": "stdout",
     "output_type": "stream",
     "text": [
      " [-----------------64%----              ] 9664 of 15000 complete in 49854.8 sec"
     ]
    },
    {
     "name": "stderr",
     "output_type": "stream",
     "text": [
      "/home/miguel/anaconda3/lib/python3.6/site-packages/scipy/linalg/basic.py:223: RuntimeWarning: scipy.linalg.solve\n",
      "Ill-conditioned matrix detected. Result is not guaranteed to be accurate.\n",
      "Reciprocal condition number: 5.2837542341421795e-08\n",
      "  ' condition number: {}'.format(rcond), RuntimeWarning)\n"
     ]
    },
    {
     "name": "stdout",
     "output_type": "stream",
     "text": [
      " [-----------------64%----              ] 9681 of 15000 complete in 49942.4 sec"
     ]
    },
    {
     "name": "stderr",
     "output_type": "stream",
     "text": [
      "/home/miguel/anaconda3/lib/python3.6/site-packages/scipy/linalg/basic.py:223: RuntimeWarning: scipy.linalg.solve\n",
      "Ill-conditioned matrix detected. Result is not guaranteed to be accurate.\n",
      "Reciprocal condition number: 7.613485841773127e-09\n",
      "  ' condition number: {}'.format(rcond), RuntimeWarning)\n"
     ]
    },
    {
     "name": "stdout",
     "output_type": "stream",
     "text": [
      " [-----------------100%-----------------] 15001 of 15000 complete in 77320.3 sec"
     ]
    }
   ],
   "source": [
    "S.sample(15000, burn=1000, tune_interval=1000)"
   ]
  },
  {
   "cell_type": "code",
   "execution_count": 47,
   "metadata": {},
   "outputs": [],
   "source": []
  },
  {
   "cell_type": "markdown",
   "metadata": {},
   "source": [
    "## Posterior analysis"
   ]
  },
  {
   "cell_type": "code",
   "execution_count": 21,
   "metadata": {},
   "outputs": [],
   "source": [
    "import gempy.UncertaintyAnalysisPYMC2\n",
    "import importlib\n",
    "importlib.reload(gempy.UncertaintyAnalysisPYMC2)\n",
    "import matplotlib.pyplot as plt"
   ]
  },
  {
   "cell_type": "code",
   "execution_count": 22,
   "metadata": {},
   "outputs": [
    {
     "name": "stdout",
     "output_type": "stream",
     "text": [
      "Level of Optimization:  fast_run\n",
      "Device:  cpu\n",
      "Precision:  float32\n"
     ]
    }
   ],
   "source": [
    "interp_data = gp.InterpolatorInput(geo_data, output='gravity')"
   ]
  },
  {
   "cell_type": "code",
   "execution_count": 23,
   "metadata": {},
   "outputs": [],
   "source": [
    "gp.set_geophysics_obj(interp_data,  [7.060000e+05,746000,6864000,6924000,-20000, 200],\n",
    "                                             [21, 31], ) # X, \n",
    "gp.precomputations_gravity(interp_data, 25, [2.92, 3.1, 2.92, 2.61, 2.61]);\n"
   ]
  },
  {
   "cell_type": "code",
   "execution_count": 24,
   "metadata": {
    "scrolled": false
   },
   "outputs": [
    {
     "data": {
      "application/javascript": [
       "/* Put everything inside the global mpl namespace */\n",
       "window.mpl = {};\n",
       "\n",
       "\n",
       "mpl.get_websocket_type = function() {\n",
       "    if (typeof(WebSocket) !== 'undefined') {\n",
       "        return WebSocket;\n",
       "    } else if (typeof(MozWebSocket) !== 'undefined') {\n",
       "        return MozWebSocket;\n",
       "    } else {\n",
       "        alert('Your browser does not have WebSocket support.' +\n",
       "              'Please try Chrome, Safari or Firefox ≥ 6. ' +\n",
       "              'Firefox 4 and 5 are also supported but you ' +\n",
       "              'have to enable WebSockets in about:config.');\n",
       "    };\n",
       "}\n",
       "\n",
       "mpl.figure = function(figure_id, websocket, ondownload, parent_element) {\n",
       "    this.id = figure_id;\n",
       "\n",
       "    this.ws = websocket;\n",
       "\n",
       "    this.supports_binary = (this.ws.binaryType != undefined);\n",
       "\n",
       "    if (!this.supports_binary) {\n",
       "        var warnings = document.getElementById(\"mpl-warnings\");\n",
       "        if (warnings) {\n",
       "            warnings.style.display = 'block';\n",
       "            warnings.textContent = (\n",
       "                \"This browser does not support binary websocket messages. \" +\n",
       "                    \"Performance may be slow.\");\n",
       "        }\n",
       "    }\n",
       "\n",
       "    this.imageObj = new Image();\n",
       "\n",
       "    this.context = undefined;\n",
       "    this.message = undefined;\n",
       "    this.canvas = undefined;\n",
       "    this.rubberband_canvas = undefined;\n",
       "    this.rubberband_context = undefined;\n",
       "    this.format_dropdown = undefined;\n",
       "\n",
       "    this.image_mode = 'full';\n",
       "\n",
       "    this.root = $('<div/>');\n",
       "    this._root_extra_style(this.root)\n",
       "    this.root.attr('style', 'display: inline-block');\n",
       "\n",
       "    $(parent_element).append(this.root);\n",
       "\n",
       "    this._init_header(this);\n",
       "    this._init_canvas(this);\n",
       "    this._init_toolbar(this);\n",
       "\n",
       "    var fig = this;\n",
       "\n",
       "    this.waiting = false;\n",
       "\n",
       "    this.ws.onopen =  function () {\n",
       "            fig.send_message(\"supports_binary\", {value: fig.supports_binary});\n",
       "            fig.send_message(\"send_image_mode\", {});\n",
       "            if (mpl.ratio != 1) {\n",
       "                fig.send_message(\"set_dpi_ratio\", {'dpi_ratio': mpl.ratio});\n",
       "            }\n",
       "            fig.send_message(\"refresh\", {});\n",
       "        }\n",
       "\n",
       "    this.imageObj.onload = function() {\n",
       "            if (fig.image_mode == 'full') {\n",
       "                // Full images could contain transparency (where diff images\n",
       "                // almost always do), so we need to clear the canvas so that\n",
       "                // there is no ghosting.\n",
       "                fig.context.clearRect(0, 0, fig.canvas.width, fig.canvas.height);\n",
       "            }\n",
       "            fig.context.drawImage(fig.imageObj, 0, 0);\n",
       "        };\n",
       "\n",
       "    this.imageObj.onunload = function() {\n",
       "        fig.ws.close();\n",
       "    }\n",
       "\n",
       "    this.ws.onmessage = this._make_on_message_function(this);\n",
       "\n",
       "    this.ondownload = ondownload;\n",
       "}\n",
       "\n",
       "mpl.figure.prototype._init_header = function() {\n",
       "    var titlebar = $(\n",
       "        '<div class=\"ui-dialog-titlebar ui-widget-header ui-corner-all ' +\n",
       "        'ui-helper-clearfix\"/>');\n",
       "    var titletext = $(\n",
       "        '<div class=\"ui-dialog-title\" style=\"width: 100%; ' +\n",
       "        'text-align: center; padding: 3px;\"/>');\n",
       "    titlebar.append(titletext)\n",
       "    this.root.append(titlebar);\n",
       "    this.header = titletext[0];\n",
       "}\n",
       "\n",
       "\n",
       "\n",
       "mpl.figure.prototype._canvas_extra_style = function(canvas_div) {\n",
       "\n",
       "}\n",
       "\n",
       "\n",
       "mpl.figure.prototype._root_extra_style = function(canvas_div) {\n",
       "\n",
       "}\n",
       "\n",
       "mpl.figure.prototype._init_canvas = function() {\n",
       "    var fig = this;\n",
       "\n",
       "    var canvas_div = $('<div/>');\n",
       "\n",
       "    canvas_div.attr('style', 'position: relative; clear: both; outline: 0');\n",
       "\n",
       "    function canvas_keyboard_event(event) {\n",
       "        return fig.key_event(event, event['data']);\n",
       "    }\n",
       "\n",
       "    canvas_div.keydown('key_press', canvas_keyboard_event);\n",
       "    canvas_div.keyup('key_release', canvas_keyboard_event);\n",
       "    this.canvas_div = canvas_div\n",
       "    this._canvas_extra_style(canvas_div)\n",
       "    this.root.append(canvas_div);\n",
       "\n",
       "    var canvas = $('<canvas/>');\n",
       "    canvas.addClass('mpl-canvas');\n",
       "    canvas.attr('style', \"left: 0; top: 0; z-index: 0; outline: 0\")\n",
       "\n",
       "    this.canvas = canvas[0];\n",
       "    this.context = canvas[0].getContext(\"2d\");\n",
       "\n",
       "    var backingStore = this.context.backingStorePixelRatio ||\n",
       "\tthis.context.webkitBackingStorePixelRatio ||\n",
       "\tthis.context.mozBackingStorePixelRatio ||\n",
       "\tthis.context.msBackingStorePixelRatio ||\n",
       "\tthis.context.oBackingStorePixelRatio ||\n",
       "\tthis.context.backingStorePixelRatio || 1;\n",
       "\n",
       "    mpl.ratio = (window.devicePixelRatio || 1) / backingStore;\n",
       "\n",
       "    var rubberband = $('<canvas/>');\n",
       "    rubberband.attr('style', \"position: absolute; left: 0; top: 0; z-index: 1;\")\n",
       "\n",
       "    var pass_mouse_events = true;\n",
       "\n",
       "    canvas_div.resizable({\n",
       "        start: function(event, ui) {\n",
       "            pass_mouse_events = false;\n",
       "        },\n",
       "        resize: function(event, ui) {\n",
       "            fig.request_resize(ui.size.width, ui.size.height);\n",
       "        },\n",
       "        stop: function(event, ui) {\n",
       "            pass_mouse_events = true;\n",
       "            fig.request_resize(ui.size.width, ui.size.height);\n",
       "        },\n",
       "    });\n",
       "\n",
       "    function mouse_event_fn(event) {\n",
       "        if (pass_mouse_events)\n",
       "            return fig.mouse_event(event, event['data']);\n",
       "    }\n",
       "\n",
       "    rubberband.mousedown('button_press', mouse_event_fn);\n",
       "    rubberband.mouseup('button_release', mouse_event_fn);\n",
       "    // Throttle sequential mouse events to 1 every 20ms.\n",
       "    rubberband.mousemove('motion_notify', mouse_event_fn);\n",
       "\n",
       "    rubberband.mouseenter('figure_enter', mouse_event_fn);\n",
       "    rubberband.mouseleave('figure_leave', mouse_event_fn);\n",
       "\n",
       "    canvas_div.on(\"wheel\", function (event) {\n",
       "        event = event.originalEvent;\n",
       "        event['data'] = 'scroll'\n",
       "        if (event.deltaY < 0) {\n",
       "            event.step = 1;\n",
       "        } else {\n",
       "            event.step = -1;\n",
       "        }\n",
       "        mouse_event_fn(event);\n",
       "    });\n",
       "\n",
       "    canvas_div.append(canvas);\n",
       "    canvas_div.append(rubberband);\n",
       "\n",
       "    this.rubberband = rubberband;\n",
       "    this.rubberband_canvas = rubberband[0];\n",
       "    this.rubberband_context = rubberband[0].getContext(\"2d\");\n",
       "    this.rubberband_context.strokeStyle = \"#000000\";\n",
       "\n",
       "    this._resize_canvas = function(width, height) {\n",
       "        // Keep the size of the canvas, canvas container, and rubber band\n",
       "        // canvas in synch.\n",
       "        canvas_div.css('width', width)\n",
       "        canvas_div.css('height', height)\n",
       "\n",
       "        canvas.attr('width', width * mpl.ratio);\n",
       "        canvas.attr('height', height * mpl.ratio);\n",
       "        canvas.attr('style', 'width: ' + width + 'px; height: ' + height + 'px;');\n",
       "\n",
       "        rubberband.attr('width', width);\n",
       "        rubberband.attr('height', height);\n",
       "    }\n",
       "\n",
       "    // Set the figure to an initial 600x600px, this will subsequently be updated\n",
       "    // upon first draw.\n",
       "    this._resize_canvas(600, 600);\n",
       "\n",
       "    // Disable right mouse context menu.\n",
       "    $(this.rubberband_canvas).bind(\"contextmenu\",function(e){\n",
       "        return false;\n",
       "    });\n",
       "\n",
       "    function set_focus () {\n",
       "        canvas.focus();\n",
       "        canvas_div.focus();\n",
       "    }\n",
       "\n",
       "    window.setTimeout(set_focus, 100);\n",
       "}\n",
       "\n",
       "mpl.figure.prototype._init_toolbar = function() {\n",
       "    var fig = this;\n",
       "\n",
       "    var nav_element = $('<div/>')\n",
       "    nav_element.attr('style', 'width: 100%');\n",
       "    this.root.append(nav_element);\n",
       "\n",
       "    // Define a callback function for later on.\n",
       "    function toolbar_event(event) {\n",
       "        return fig.toolbar_button_onclick(event['data']);\n",
       "    }\n",
       "    function toolbar_mouse_event(event) {\n",
       "        return fig.toolbar_button_onmouseover(event['data']);\n",
       "    }\n",
       "\n",
       "    for(var toolbar_ind in mpl.toolbar_items) {\n",
       "        var name = mpl.toolbar_items[toolbar_ind][0];\n",
       "        var tooltip = mpl.toolbar_items[toolbar_ind][1];\n",
       "        var image = mpl.toolbar_items[toolbar_ind][2];\n",
       "        var method_name = mpl.toolbar_items[toolbar_ind][3];\n",
       "\n",
       "        if (!name) {\n",
       "            // put a spacer in here.\n",
       "            continue;\n",
       "        }\n",
       "        var button = $('<button/>');\n",
       "        button.addClass('ui-button ui-widget ui-state-default ui-corner-all ' +\n",
       "                        'ui-button-icon-only');\n",
       "        button.attr('role', 'button');\n",
       "        button.attr('aria-disabled', 'false');\n",
       "        button.click(method_name, toolbar_event);\n",
       "        button.mouseover(tooltip, toolbar_mouse_event);\n",
       "\n",
       "        var icon_img = $('<span/>');\n",
       "        icon_img.addClass('ui-button-icon-primary ui-icon');\n",
       "        icon_img.addClass(image);\n",
       "        icon_img.addClass('ui-corner-all');\n",
       "\n",
       "        var tooltip_span = $('<span/>');\n",
       "        tooltip_span.addClass('ui-button-text');\n",
       "        tooltip_span.html(tooltip);\n",
       "\n",
       "        button.append(icon_img);\n",
       "        button.append(tooltip_span);\n",
       "\n",
       "        nav_element.append(button);\n",
       "    }\n",
       "\n",
       "    var fmt_picker_span = $('<span/>');\n",
       "\n",
       "    var fmt_picker = $('<select/>');\n",
       "    fmt_picker.addClass('mpl-toolbar-option ui-widget ui-widget-content');\n",
       "    fmt_picker_span.append(fmt_picker);\n",
       "    nav_element.append(fmt_picker_span);\n",
       "    this.format_dropdown = fmt_picker[0];\n",
       "\n",
       "    for (var ind in mpl.extensions) {\n",
       "        var fmt = mpl.extensions[ind];\n",
       "        var option = $(\n",
       "            '<option/>', {selected: fmt === mpl.default_extension}).html(fmt);\n",
       "        fmt_picker.append(option)\n",
       "    }\n",
       "\n",
       "    // Add hover states to the ui-buttons\n",
       "    $( \".ui-button\" ).hover(\n",
       "        function() { $(this).addClass(\"ui-state-hover\");},\n",
       "        function() { $(this).removeClass(\"ui-state-hover\");}\n",
       "    );\n",
       "\n",
       "    var status_bar = $('<span class=\"mpl-message\"/>');\n",
       "    nav_element.append(status_bar);\n",
       "    this.message = status_bar[0];\n",
       "}\n",
       "\n",
       "mpl.figure.prototype.request_resize = function(x_pixels, y_pixels) {\n",
       "    // Request matplotlib to resize the figure. Matplotlib will then trigger a resize in the client,\n",
       "    // which will in turn request a refresh of the image.\n",
       "    this.send_message('resize', {'width': x_pixels, 'height': y_pixels});\n",
       "}\n",
       "\n",
       "mpl.figure.prototype.send_message = function(type, properties) {\n",
       "    properties['type'] = type;\n",
       "    properties['figure_id'] = this.id;\n",
       "    this.ws.send(JSON.stringify(properties));\n",
       "}\n",
       "\n",
       "mpl.figure.prototype.send_draw_message = function() {\n",
       "    if (!this.waiting) {\n",
       "        this.waiting = true;\n",
       "        this.ws.send(JSON.stringify({type: \"draw\", figure_id: this.id}));\n",
       "    }\n",
       "}\n",
       "\n",
       "\n",
       "mpl.figure.prototype.handle_save = function(fig, msg) {\n",
       "    var format_dropdown = fig.format_dropdown;\n",
       "    var format = format_dropdown.options[format_dropdown.selectedIndex].value;\n",
       "    fig.ondownload(fig, format);\n",
       "}\n",
       "\n",
       "\n",
       "mpl.figure.prototype.handle_resize = function(fig, msg) {\n",
       "    var size = msg['size'];\n",
       "    if (size[0] != fig.canvas.width || size[1] != fig.canvas.height) {\n",
       "        fig._resize_canvas(size[0], size[1]);\n",
       "        fig.send_message(\"refresh\", {});\n",
       "    };\n",
       "}\n",
       "\n",
       "mpl.figure.prototype.handle_rubberband = function(fig, msg) {\n",
       "    var x0 = msg['x0'] / mpl.ratio;\n",
       "    var y0 = (fig.canvas.height - msg['y0']) / mpl.ratio;\n",
       "    var x1 = msg['x1'] / mpl.ratio;\n",
       "    var y1 = (fig.canvas.height - msg['y1']) / mpl.ratio;\n",
       "    x0 = Math.floor(x0) + 0.5;\n",
       "    y0 = Math.floor(y0) + 0.5;\n",
       "    x1 = Math.floor(x1) + 0.5;\n",
       "    y1 = Math.floor(y1) + 0.5;\n",
       "    var min_x = Math.min(x0, x1);\n",
       "    var min_y = Math.min(y0, y1);\n",
       "    var width = Math.abs(x1 - x0);\n",
       "    var height = Math.abs(y1 - y0);\n",
       "\n",
       "    fig.rubberband_context.clearRect(\n",
       "        0, 0, fig.canvas.width, fig.canvas.height);\n",
       "\n",
       "    fig.rubberband_context.strokeRect(min_x, min_y, width, height);\n",
       "}\n",
       "\n",
       "mpl.figure.prototype.handle_figure_label = function(fig, msg) {\n",
       "    // Updates the figure title.\n",
       "    fig.header.textContent = msg['label'];\n",
       "}\n",
       "\n",
       "mpl.figure.prototype.handle_cursor = function(fig, msg) {\n",
       "    var cursor = msg['cursor'];\n",
       "    switch(cursor)\n",
       "    {\n",
       "    case 0:\n",
       "        cursor = 'pointer';\n",
       "        break;\n",
       "    case 1:\n",
       "        cursor = 'default';\n",
       "        break;\n",
       "    case 2:\n",
       "        cursor = 'crosshair';\n",
       "        break;\n",
       "    case 3:\n",
       "        cursor = 'move';\n",
       "        break;\n",
       "    }\n",
       "    fig.rubberband_canvas.style.cursor = cursor;\n",
       "}\n",
       "\n",
       "mpl.figure.prototype.handle_message = function(fig, msg) {\n",
       "    fig.message.textContent = msg['message'];\n",
       "}\n",
       "\n",
       "mpl.figure.prototype.handle_draw = function(fig, msg) {\n",
       "    // Request the server to send over a new figure.\n",
       "    fig.send_draw_message();\n",
       "}\n",
       "\n",
       "mpl.figure.prototype.handle_image_mode = function(fig, msg) {\n",
       "    fig.image_mode = msg['mode'];\n",
       "}\n",
       "\n",
       "mpl.figure.prototype.updated_canvas_event = function() {\n",
       "    // Called whenever the canvas gets updated.\n",
       "    this.send_message(\"ack\", {});\n",
       "}\n",
       "\n",
       "// A function to construct a web socket function for onmessage handling.\n",
       "// Called in the figure constructor.\n",
       "mpl.figure.prototype._make_on_message_function = function(fig) {\n",
       "    return function socket_on_message(evt) {\n",
       "        if (evt.data instanceof Blob) {\n",
       "            /* FIXME: We get \"Resource interpreted as Image but\n",
       "             * transferred with MIME type text/plain:\" errors on\n",
       "             * Chrome.  But how to set the MIME type?  It doesn't seem\n",
       "             * to be part of the websocket stream */\n",
       "            evt.data.type = \"image/png\";\n",
       "\n",
       "            /* Free the memory for the previous frames */\n",
       "            if (fig.imageObj.src) {\n",
       "                (window.URL || window.webkitURL).revokeObjectURL(\n",
       "                    fig.imageObj.src);\n",
       "            }\n",
       "\n",
       "            fig.imageObj.src = (window.URL || window.webkitURL).createObjectURL(\n",
       "                evt.data);\n",
       "            fig.updated_canvas_event();\n",
       "            fig.waiting = false;\n",
       "            return;\n",
       "        }\n",
       "        else if (typeof evt.data === 'string' && evt.data.slice(0, 21) == \"data:image/png;base64\") {\n",
       "            fig.imageObj.src = evt.data;\n",
       "            fig.updated_canvas_event();\n",
       "            fig.waiting = false;\n",
       "            return;\n",
       "        }\n",
       "\n",
       "        var msg = JSON.parse(evt.data);\n",
       "        var msg_type = msg['type'];\n",
       "\n",
       "        // Call the  \"handle_{type}\" callback, which takes\n",
       "        // the figure and JSON message as its only arguments.\n",
       "        try {\n",
       "            var callback = fig[\"handle_\" + msg_type];\n",
       "        } catch (e) {\n",
       "            console.log(\"No handler for the '\" + msg_type + \"' message type: \", msg);\n",
       "            return;\n",
       "        }\n",
       "\n",
       "        if (callback) {\n",
       "            try {\n",
       "                // console.log(\"Handling '\" + msg_type + \"' message: \", msg);\n",
       "                callback(fig, msg);\n",
       "            } catch (e) {\n",
       "                console.log(\"Exception inside the 'handler_\" + msg_type + \"' callback:\", e, e.stack, msg);\n",
       "            }\n",
       "        }\n",
       "    };\n",
       "}\n",
       "\n",
       "// from http://stackoverflow.com/questions/1114465/getting-mouse-location-in-canvas\n",
       "mpl.findpos = function(e) {\n",
       "    //this section is from http://www.quirksmode.org/js/events_properties.html\n",
       "    var targ;\n",
       "    if (!e)\n",
       "        e = window.event;\n",
       "    if (e.target)\n",
       "        targ = e.target;\n",
       "    else if (e.srcElement)\n",
       "        targ = e.srcElement;\n",
       "    if (targ.nodeType == 3) // defeat Safari bug\n",
       "        targ = targ.parentNode;\n",
       "\n",
       "    // jQuery normalizes the pageX and pageY\n",
       "    // pageX,Y are the mouse positions relative to the document\n",
       "    // offset() returns the position of the element relative to the document\n",
       "    var x = e.pageX - $(targ).offset().left;\n",
       "    var y = e.pageY - $(targ).offset().top;\n",
       "\n",
       "    return {\"x\": x, \"y\": y};\n",
       "};\n",
       "\n",
       "/*\n",
       " * return a copy of an object with only non-object keys\n",
       " * we need this to avoid circular references\n",
       " * http://stackoverflow.com/a/24161582/3208463\n",
       " */\n",
       "function simpleKeys (original) {\n",
       "  return Object.keys(original).reduce(function (obj, key) {\n",
       "    if (typeof original[key] !== 'object')\n",
       "        obj[key] = original[key]\n",
       "    return obj;\n",
       "  }, {});\n",
       "}\n",
       "\n",
       "mpl.figure.prototype.mouse_event = function(event, name) {\n",
       "    var canvas_pos = mpl.findpos(event)\n",
       "\n",
       "    if (name === 'button_press')\n",
       "    {\n",
       "        this.canvas.focus();\n",
       "        this.canvas_div.focus();\n",
       "    }\n",
       "\n",
       "    var x = canvas_pos.x * mpl.ratio;\n",
       "    var y = canvas_pos.y * mpl.ratio;\n",
       "\n",
       "    this.send_message(name, {x: x, y: y, button: event.button,\n",
       "                             step: event.step,\n",
       "                             guiEvent: simpleKeys(event)});\n",
       "\n",
       "    /* This prevents the web browser from automatically changing to\n",
       "     * the text insertion cursor when the button is pressed.  We want\n",
       "     * to control all of the cursor setting manually through the\n",
       "     * 'cursor' event from matplotlib */\n",
       "    event.preventDefault();\n",
       "    return false;\n",
       "}\n",
       "\n",
       "mpl.figure.prototype._key_event_extra = function(event, name) {\n",
       "    // Handle any extra behaviour associated with a key event\n",
       "}\n",
       "\n",
       "mpl.figure.prototype.key_event = function(event, name) {\n",
       "\n",
       "    // Prevent repeat events\n",
       "    if (name == 'key_press')\n",
       "    {\n",
       "        if (event.which === this._key)\n",
       "            return;\n",
       "        else\n",
       "            this._key = event.which;\n",
       "    }\n",
       "    if (name == 'key_release')\n",
       "        this._key = null;\n",
       "\n",
       "    var value = '';\n",
       "    if (event.ctrlKey && event.which != 17)\n",
       "        value += \"ctrl+\";\n",
       "    if (event.altKey && event.which != 18)\n",
       "        value += \"alt+\";\n",
       "    if (event.shiftKey && event.which != 16)\n",
       "        value += \"shift+\";\n",
       "\n",
       "    value += 'k';\n",
       "    value += event.which.toString();\n",
       "\n",
       "    this._key_event_extra(event, name);\n",
       "\n",
       "    this.send_message(name, {key: value,\n",
       "                             guiEvent: simpleKeys(event)});\n",
       "    return false;\n",
       "}\n",
       "\n",
       "mpl.figure.prototype.toolbar_button_onclick = function(name) {\n",
       "    if (name == 'download') {\n",
       "        this.handle_save(this, null);\n",
       "    } else {\n",
       "        this.send_message(\"toolbar_button\", {name: name});\n",
       "    }\n",
       "};\n",
       "\n",
       "mpl.figure.prototype.toolbar_button_onmouseover = function(tooltip) {\n",
       "    this.message.textContent = tooltip;\n",
       "};\n",
       "mpl.toolbar_items = [[\"Home\", \"Reset original view\", \"fa fa-home icon-home\", \"home\"], [\"Back\", \"Back to  previous view\", \"fa fa-arrow-left icon-arrow-left\", \"back\"], [\"Forward\", \"Forward to next view\", \"fa fa-arrow-right icon-arrow-right\", \"forward\"], [\"\", \"\", \"\", \"\"], [\"Pan\", \"Pan axes with left mouse, zoom with right\", \"fa fa-arrows icon-move\", \"pan\"], [\"Zoom\", \"Zoom to rectangle\", \"fa fa-square-o icon-check-empty\", \"zoom\"], [\"\", \"\", \"\", \"\"], [\"Download\", \"Download plot\", \"fa fa-floppy-o icon-save\", \"download\"]];\n",
       "\n",
       "mpl.extensions = [\"eps\", \"jpeg\", \"pdf\", \"png\", \"ps\", \"raw\", \"svg\", \"tif\"];\n",
       "\n",
       "mpl.default_extension = \"png\";var comm_websocket_adapter = function(comm) {\n",
       "    // Create a \"websocket\"-like object which calls the given IPython comm\n",
       "    // object with the appropriate methods. Currently this is a non binary\n",
       "    // socket, so there is still some room for performance tuning.\n",
       "    var ws = {};\n",
       "\n",
       "    ws.close = function() {\n",
       "        comm.close()\n",
       "    };\n",
       "    ws.send = function(m) {\n",
       "        //console.log('sending', m);\n",
       "        comm.send(m);\n",
       "    };\n",
       "    // Register the callback with on_msg.\n",
       "    comm.on_msg(function(msg) {\n",
       "        //console.log('receiving', msg['content']['data'], msg);\n",
       "        // Pass the mpl event to the overriden (by mpl) onmessage function.\n",
       "        ws.onmessage(msg['content']['data'])\n",
       "    });\n",
       "    return ws;\n",
       "}\n",
       "\n",
       "mpl.mpl_figure_comm = function(comm, msg) {\n",
       "    // This is the function which gets called when the mpl process\n",
       "    // starts-up an IPython Comm through the \"matplotlib\" channel.\n",
       "\n",
       "    var id = msg.content.data.id;\n",
       "    // Get hold of the div created by the display call when the Comm\n",
       "    // socket was opened in Python.\n",
       "    var element = $(\"#\" + id);\n",
       "    var ws_proxy = comm_websocket_adapter(comm)\n",
       "\n",
       "    function ondownload(figure, format) {\n",
       "        window.open(figure.imageObj.src);\n",
       "    }\n",
       "\n",
       "    var fig = new mpl.figure(id, ws_proxy,\n",
       "                           ondownload,\n",
       "                           element.get(0));\n",
       "\n",
       "    // Call onopen now - mpl needs it, as it is assuming we've passed it a real\n",
       "    // web socket which is closed, not our websocket->open comm proxy.\n",
       "    ws_proxy.onopen();\n",
       "\n",
       "    fig.parent_element = element.get(0);\n",
       "    fig.cell_info = mpl.find_output_cell(\"<div id='\" + id + \"'></div>\");\n",
       "    if (!fig.cell_info) {\n",
       "        console.error(\"Failed to find cell for figure\", id, fig);\n",
       "        return;\n",
       "    }\n",
       "\n",
       "    var output_index = fig.cell_info[2]\n",
       "    var cell = fig.cell_info[0];\n",
       "\n",
       "};\n",
       "\n",
       "mpl.figure.prototype.handle_close = function(fig, msg) {\n",
       "    var width = fig.canvas.width/mpl.ratio\n",
       "    fig.root.unbind('remove')\n",
       "\n",
       "    // Update the output cell to use the data from the current canvas.\n",
       "    fig.push_to_output();\n",
       "    var dataURL = fig.canvas.toDataURL();\n",
       "    // Re-enable the keyboard manager in IPython - without this line, in FF,\n",
       "    // the notebook keyboard shortcuts fail.\n",
       "    IPython.keyboard_manager.enable()\n",
       "    $(fig.parent_element).html('<img src=\"' + dataURL + '\" width=\"' + width + '\">');\n",
       "    fig.close_ws(fig, msg);\n",
       "}\n",
       "\n",
       "mpl.figure.prototype.close_ws = function(fig, msg){\n",
       "    fig.send_message('closing', msg);\n",
       "    // fig.ws.close()\n",
       "}\n",
       "\n",
       "mpl.figure.prototype.push_to_output = function(remove_interactive) {\n",
       "    // Turn the data on the canvas into data in the output cell.\n",
       "    var width = this.canvas.width/mpl.ratio\n",
       "    var dataURL = this.canvas.toDataURL();\n",
       "    this.cell_info[1]['text/html'] = '<img src=\"' + dataURL + '\" width=\"' + width + '\">';\n",
       "}\n",
       "\n",
       "mpl.figure.prototype.updated_canvas_event = function() {\n",
       "    // Tell IPython that the notebook contents must change.\n",
       "    IPython.notebook.set_dirty(true);\n",
       "    this.send_message(\"ack\", {});\n",
       "    var fig = this;\n",
       "    // Wait a second, then push the new image to the DOM so\n",
       "    // that it is saved nicely (might be nice to debounce this).\n",
       "    setTimeout(function () { fig.push_to_output() }, 1000);\n",
       "}\n",
       "\n",
       "mpl.figure.prototype._init_toolbar = function() {\n",
       "    var fig = this;\n",
       "\n",
       "    var nav_element = $('<div/>')\n",
       "    nav_element.attr('style', 'width: 100%');\n",
       "    this.root.append(nav_element);\n",
       "\n",
       "    // Define a callback function for later on.\n",
       "    function toolbar_event(event) {\n",
       "        return fig.toolbar_button_onclick(event['data']);\n",
       "    }\n",
       "    function toolbar_mouse_event(event) {\n",
       "        return fig.toolbar_button_onmouseover(event['data']);\n",
       "    }\n",
       "\n",
       "    for(var toolbar_ind in mpl.toolbar_items){\n",
       "        var name = mpl.toolbar_items[toolbar_ind][0];\n",
       "        var tooltip = mpl.toolbar_items[toolbar_ind][1];\n",
       "        var image = mpl.toolbar_items[toolbar_ind][2];\n",
       "        var method_name = mpl.toolbar_items[toolbar_ind][3];\n",
       "\n",
       "        if (!name) { continue; };\n",
       "\n",
       "        var button = $('<button class=\"btn btn-default\" href=\"#\" title=\"' + name + '\"><i class=\"fa ' + image + ' fa-lg\"></i></button>');\n",
       "        button.click(method_name, toolbar_event);\n",
       "        button.mouseover(tooltip, toolbar_mouse_event);\n",
       "        nav_element.append(button);\n",
       "    }\n",
       "\n",
       "    // Add the status bar.\n",
       "    var status_bar = $('<span class=\"mpl-message\" style=\"text-align:right; float: right;\"/>');\n",
       "    nav_element.append(status_bar);\n",
       "    this.message = status_bar[0];\n",
       "\n",
       "    // Add the close button to the window.\n",
       "    var buttongrp = $('<div class=\"btn-group inline pull-right\"></div>');\n",
       "    var button = $('<button class=\"btn btn-mini btn-primary\" href=\"#\" title=\"Stop Interaction\"><i class=\"fa fa-power-off icon-remove icon-large\"></i></button>');\n",
       "    button.click(function (evt) { fig.handle_close(fig, {}); } );\n",
       "    button.mouseover('Stop Interaction', toolbar_mouse_event);\n",
       "    buttongrp.append(button);\n",
       "    var titlebar = this.root.find($('.ui-dialog-titlebar'));\n",
       "    titlebar.prepend(buttongrp);\n",
       "}\n",
       "\n",
       "mpl.figure.prototype._root_extra_style = function(el){\n",
       "    var fig = this\n",
       "    el.on(\"remove\", function(){\n",
       "\tfig.close_ws(fig, {});\n",
       "    });\n",
       "}\n",
       "\n",
       "mpl.figure.prototype._canvas_extra_style = function(el){\n",
       "    // this is important to make the div 'focusable\n",
       "    el.attr('tabindex', 0)\n",
       "    // reach out to IPython and tell the keyboard manager to turn it's self\n",
       "    // off when our div gets focus\n",
       "\n",
       "    // location in version 3\n",
       "    if (IPython.notebook.keyboard_manager) {\n",
       "        IPython.notebook.keyboard_manager.register_events(el);\n",
       "    }\n",
       "    else {\n",
       "        // location in version 2\n",
       "        IPython.keyboard_manager.register_events(el);\n",
       "    }\n",
       "\n",
       "}\n",
       "\n",
       "mpl.figure.prototype._key_event_extra = function(event, name) {\n",
       "    var manager = IPython.notebook.keyboard_manager;\n",
       "    if (!manager)\n",
       "        manager = IPython.keyboard_manager;\n",
       "\n",
       "    // Check for shift+enter\n",
       "    if (event.shiftKey && event.which == 13) {\n",
       "        this.canvas_div.blur();\n",
       "        event.shiftKey = false;\n",
       "        // Send a \"J\" for go to next cell\n",
       "        event.which = 74;\n",
       "        event.keyCode = 74;\n",
       "        manager.command_mode();\n",
       "        manager.handle_keydown(event);\n",
       "    }\n",
       "}\n",
       "\n",
       "mpl.figure.prototype.handle_save = function(fig, msg) {\n",
       "    fig.ondownload(fig, null);\n",
       "}\n",
       "\n",
       "\n",
       "mpl.find_output_cell = function(html_output) {\n",
       "    // Return the cell and output element which can be found *uniquely* in the notebook.\n",
       "    // Note - this is a bit hacky, but it is done because the \"notebook_saving.Notebook\"\n",
       "    // IPython event is triggered only after the cells have been serialised, which for\n",
       "    // our purposes (turning an active figure into a static one), is too late.\n",
       "    var cells = IPython.notebook.get_cells();\n",
       "    var ncells = cells.length;\n",
       "    for (var i=0; i<ncells; i++) {\n",
       "        var cell = cells[i];\n",
       "        if (cell.cell_type === 'code'){\n",
       "            for (var j=0; j<cell.output_area.outputs.length; j++) {\n",
       "                var data = cell.output_area.outputs[j];\n",
       "                if (data.data) {\n",
       "                    // IPython >= 3 moved mimebundle to data attribute of output\n",
       "                    data = data.data;\n",
       "                }\n",
       "                if (data['text/html'] == html_output) {\n",
       "                    return [cell, data, j];\n",
       "                }\n",
       "            }\n",
       "        }\n",
       "    }\n",
       "}\n",
       "\n",
       "// Register the function which deals with the matplotlib target/channel.\n",
       "// The kernel may be null if the page has been refreshed.\n",
       "if (IPython.notebook.kernel != null) {\n",
       "    IPython.notebook.kernel.comm_manager.register_target('matplotlib', mpl.mpl_figure_comm);\n",
       "}\n"
      ],
      "text/plain": [
       "<IPython.core.display.Javascript object>"
      ]
     },
     "metadata": {},
     "output_type": "display_data"
    },
    {
     "data": {
      "text/html": [
       "<img src=\"data:image/png;base64,iVBORw0KGgoAAAANSUhEUgAAAroAAAILCAYAAAAHaz/JAAAFnklEQVR4nO3BAQ0AAADCoPdPbQ8HFAAAAAAAAAAAAAAAAAAAAAAAAAAAAAAAAAAAAAAAAAAAAAAAAAAAAAAAAAAAAAAAAAAAAAAAAAAAAAAAAAAAAAAAAAAAAAAAAAAAAAAAAAAAAAAAAAAAAAAAAAAAAAAAAAAAAAAAAAAAAAAAAAAAAAAAAAAAAAAAAAAAAAAAAAAAAAAAAAAAAAAAAAAAAAAAAAAAAAAAAAAAAAAAAAAAAAAAAAAAAAAAAAAAAAAAAAAAAAAAAAAAAAAAAAAAAAAAAAAAAAAAAAAAAAAAAAAAAAAAAAAAAAAAAAAAAAAAAAAAAAAAAAAAAAAAAAAAAAAAAAAAAAAAAAAAAAAAAAAAAAAAAAAAAAAAAAAAAAAAAAAAAAAAAAAAAAAAAAAAAAAAAAAAAAAAAAAAAAAAAAAAAAAAAAAAAAAAAAAAAAAAAAAAAAAAAAAAAAAAAAAAAAAAAAAAAAAAAAAAAAAAAAAAAAAAAAAAAAAAAAAAAAAAAAAAAAAAAAAAAAAAAAAAAAAAAAAAAAAAAAAAAAAAAAAAAAAAAAAAAAAAAAAAAAAAAAAAAAAAAAAAAAAAAAAAAAAAAAAAAAAAAAAAAAAAAAAAAAAAAAAAAAAAAAAAAAAAAAAAAAAAAAAAAAAAAAAAAAAAAAAAAAAAAAAAAAAAAAAAAAAAAAAAAAAAAAAAAAAAAAAAAAAAAAAAAAAAAAAAAAAAAAAAAAAAAAAAAAAAAAAAAAAAAAAAAAAAAAAAAAAAAAAAAAAAAAAAAAAAAAAAAAAAAAAAAAAAAAAAAAAAAAAAAAAAAAAAAAAAAAAAAAAAAAAAAAAAAAAAAAAAAAAAAAAAAAAAAAAAAAAAAAAAAAAAAAAAAAAAAAAAAAAAAAAAAAAAAAAAAAAAAAAAAAAAAAAAAAAAAAAAAAAAAAAAAAAAAAAAAAAAAAAAAAAAAAAAAAAAAAAAAAAAAAAAAAAAAAAAAAAAAAAAAAAAAAAAAAAAAAAAAAAAAAAAAAAAAAAAAAAAAAAAAAAAAAAAAAAAAAAAAAAAAAAAAAAAAAAAAAAAAAAAAAAAAAAAAAAAAAAAAAAAAAAAAAAAAAAAAAAAAAAAAAAAAAAAAAAAAAAAAAAAAAAAAAAAAAAAAAAAAAAAAAAAAAAAAAAAAAAAAAAAAAAAAAAAAAAAAAAAAAAAAAAAAAAAAAAAAAAAAAAAAAAAAAAAAAAAAAAAAAAAAAAAAAAAAAAAAAAAAAAAAAAAAAAAAAAAAAAAAAAAAAAAAAAAAAAAAAAAAAAAAAAAAAAAAAAAAAAAAAAAAAAAAAAAAAAAAAAAAAAAAAAAAAAAAAAAAAAAAAAAAAAAAAAAAAAAAAAAAAAAAAAAAAAAAAAAAAAAAAAAAAAAAAAAAAAAAAAAAAAAAAAAAAAAAAAAAAAAAAAAAAAAAAAAAAAAAAAAAAAAAAAAAAAAAAAAAAAAAAAAAAAAAAAAAAAAAAAAAAAAAAAAAAAAAAAAAAAAAAAAAAAAAAAAAAAAAAAAAAAAAAAAAAAAAAAAAAAAAAAAAAAAAAAAAAAAAAAAAAAAAAAAAAAAAAAAAAAAAAAAAAAAAAAAAAAAAAAAAAAAAAAAAAAAAAAAAAAAAAAAAAAAAAAAAAAAAAAAAAAAAAAAAAAAAAAAAAAAAAAAAAAAAAAAAAAAAAAAAAAAAAAAAAAAAAAAAAAAAAAAAAAAAAAAAAAAAAAAAAAAAAAAAAAAAAAAAAAAAAAAAAAAAAAAAAAAAAAAAAAAAAAAAAAAAAAAAAAAAAAAAAAAAAAAAAAAAAAAAAAAAAAAAAAAAAAAAAAAAAAAAAAAAAAAAAAAAAAAAAAAAAAAAAAAAAAAAAAAAAAAAAAAAAAAAAAAAAAAAAAAAAAAAAAAAAAAAAAAAAAAJwZLTQABGoHrLQAAAABJRU5ErkJggg==\" width=\"639.8333142648146\">"
      ],
      "text/plain": [
       "<IPython.core.display.HTML object>"
      ]
     },
     "metadata": {},
     "output_type": "display_data"
    }
   ],
   "source": [
    "lith_block, fault_block, _ = gp.compute_model(interp_data, output='gravity')\n",
    "gp.plot_section(geo_data, lith_block[0], 24, plot_data=False)"
   ]
  },
  {
   "cell_type": "code",
   "execution_count": 25,
   "metadata": {},
   "outputs": [
    {
     "name": "stdout",
     "output_type": "stream",
     "text": [
      "No GemPy model trace tallied.\n"
     ]
    }
   ],
   "source": [
    "dbname = \"Sandstone4\"\n",
    "post = gempy.UncertaintyAnalysisPYMC2.Posterior(dbname)"
   ]
  },
  {
   "cell_type": "code",
   "execution_count": 26,
   "metadata": {},
   "outputs": [
    {
     "data": {
      "text/plain": [
       "<gempy.DataManagement.InterpolatorInput at 0x7fd657f27908>"
      ]
     },
     "execution_count": 26,
     "metadata": {},
     "output_type": "execute_result"
    }
   ],
   "source": [
    "post.change_input_data(interp_data, 150)"
   ]
  },
  {
   "cell_type": "code",
   "execution_count": 27,
   "metadata": {},
   "outputs": [],
   "source": [
    "lith_block, fault_block, grav = gp.compute_model(interp_data, output='gravity')\n"
   ]
  },
  {
   "cell_type": "code",
   "execution_count": 28,
   "metadata": {},
   "outputs": [
    {
     "data": {
      "text/plain": [
       "<matplotlib.image.AxesImage at 0x7fd5b52e5d68>"
      ]
     },
     "execution_count": 28,
     "metadata": {},
     "output_type": "execute_result"
    },
    {
     "data": {
      "image/png": "[encoded data removed]",
      "text/plain": [
       "<matplotlib.figure.Figure at 0x7fd7580aacc0>"
      ]
     },
     "metadata": {},
     "output_type": "display_data"
    }
   ],
   "source": [
    "%matplotlib inline\n",
    "plt.imshow(grav.reshape(31,21), origin='lower', cmap='viridis')"
   ]
  },
  {
   "cell_type": "code",
   "execution_count": 29,
   "metadata": {},
   "outputs": [],
   "source": [
    "def plot_this(sample):\n",
    "    post.change_input_data(interp_data, sample\n",
    "                          )\n",
    "    lith_block, fault_block, grav = gp.compute_model(interp_data, output='gravity')\n",
    "    plt.imshow(grav.reshape(31,21), origin='lower', cmap='viridis')\n",
    "    plt.show()\n",
    "    value = ori_grav\n",
    "    Forw = grav.reshape(31,21)\n",
    "    #print np.median(value),np.median(Forw)\n",
    "    # shifting\n",
    "    # shift = np.median(-value)-np.median(Forw)\n",
    "    shift = -450-np.median(Forw)#np.median(value)-np.median(Forw)\n",
    "    #Forw = X_train_minmax = min_max_scaler.fit_transform(Forw, feature_range=(0, 10))\n",
    "\n",
    "\n",
    "\n",
    "    # Calibration parameters\n",
    "    F_min, F_max =  np.min(Forw), np.max(Forw)   #36.630742, 36.651496    #30.159309, 30.174104#\n",
    "    F_range = F_max - F_min\n",
    "    F_mid = 0.5*(F_max+F_min)\n",
    "\n",
    "    rs_min, rs_max = np.min(value), np.max(value)\n",
    "    rs_range = rs_max - rs_min\n",
    "    rs_mid = 0.5*(rs_max+rs_min)\n",
    "\n",
    "    #Rescaling\n",
    "\n",
    "    # rs_mid + (grid - m_mid) / m_range * rs_range\n",
    "    Reescaled_forw = rs_mid + (Forw - F_mid) / F_range * rs_range\n",
    "    plt.imshow(Reescaled_forw - ori_grav, origin='lower', cmap='RdBu')\n",
    "    plt.colorbar()\n",
    "    plt.show()"
   ]
  },
  {
   "cell_type": "code",
   "execution_count": null,
   "metadata": {},
   "outputs": [],
   "source": []
  },
  {
   "cell_type": "code",
   "execution_count": null,
   "metadata": {},
   "outputs": [],
   "source": []
  },
  {
   "cell_type": "code",
   "execution_count": 28,
   "metadata": {},
   "outputs": [],
   "source": []
  },
  {
   "cell_type": "code",
   "execution_count": 30,
   "metadata": {},
   "outputs": [
    {
     "ename": "NameError",
     "evalue": "name 'Reescaled_forw' is not defined",
     "output_type": "error",
     "traceback": [
      "\u001b[0;31m---------------------------------------------------------------------------\u001b[0m",
      "\u001b[0;31mNameError\u001b[0m                                 Traceback (most recent call last)",
      "\u001b[0;32m<ipython-input-30-2407dbac9443>\u001b[0m in \u001b[0;36m<module>\u001b[0;34m()\u001b[0m\n\u001b[0;32m----> 1\u001b[0;31m \u001b[0mplt\u001b[0m\u001b[0;34m.\u001b[0m\u001b[0mimshow\u001b[0m\u001b[0;34m(\u001b[0m\u001b[0mReescaled_forw\u001b[0m \u001b[0;34m-\u001b[0m \u001b[0mori_grav\u001b[0m\u001b[0;34m,\u001b[0m \u001b[0morigin\u001b[0m\u001b[0;34m=\u001b[0m\u001b[0;34m'lower'\u001b[0m\u001b[0;34m,\u001b[0m \u001b[0mcmap\u001b[0m\u001b[0;34m=\u001b[0m\u001b[0;34m'RdBu'\u001b[0m\u001b[0;34m)\u001b[0m\u001b[0;34m\u001b[0m\u001b[0m\n\u001b[0m\u001b[1;32m      2\u001b[0m \u001b[0mplt\u001b[0m\u001b[0;34m.\u001b[0m\u001b[0mcolorbar\u001b[0m\u001b[0;34m(\u001b[0m\u001b[0;34m)\u001b[0m\u001b[0;34m\u001b[0m\u001b[0m\n",
      "\u001b[0;31mNameError\u001b[0m: name 'Reescaled_forw' is not defined"
     ]
    }
   ],
   "source": [
    "plt.imshow(Reescaled_forw - ori_grav, origin='lower', cmap='RdBu')\n",
    "plt.colorbar()"
   ]
  },
  {
   "cell_type": "code",
   "execution_count": 27,
   "metadata": {},
   "outputs": [
    {
     "data": {
      "text/plain": [
       "(12.547244, -242.00030000000001)"
      ]
     },
     "execution_count": 27,
     "metadata": {},
     "output_type": "execute_result"
    }
   ],
   "source": [
    "grav.max(), ori_grav.max()"
   ]
  },
  {
   "cell_type": "code",
   "execution_count": 31,
   "metadata": {},
   "outputs": [],
   "source": [
    "from ipywidgets import interact, IntSlider"
   ]
  },
  {
   "cell_type": "code",
   "execution_count": 33,
   "metadata": {},
   "outputs": [
    {
     "data": {
      "application/vnd.jupyter.widget-view+json": {
       "model_id": "501944eec7464104a27dd822af7b2d55",
       "version_major": 2,
       "version_minor": 0
      },
      "text/plain": [
       "A Jupyter Widget"
      ]
     },
     "metadata": {},
     "output_type": "display_data"
    },
    {
     "data": {
      "text/plain": [
       "<function __main__.plot_this>"
      ]
     },
     "execution_count": 33,
     "metadata": {},
     "output_type": "execute_result"
    }
   ],
   "source": [
    "interact(plot_this, sample= IntSlider(min=0,max=14000,spet=1, continuous_update=False))"
   ]
  },
  {
   "cell_type": "code",
   "execution_count": 34,
   "metadata": {},
   "outputs": [
    {
     "data": {
      "text/plain": [
       "[<matplotlib.lines.Line2D at 0x7fd5b4767358>]"
      ]
     },
     "execution_count": 34,
     "metadata": {},
     "output_type": "execute_result"
    },
    {
     "data": {
      "image/png": "[encoded data removed]",
      "text/plain": [
       "<matplotlib.figure.Figure at 0x7fd5b72e3518>"
      ]
     },
     "metadata": {},
     "output_type": "display_data"
    }
   ],
   "source": [
    "plt.plot(post.db.trace('e_sq')[:], '.')"
   ]
  },
  {
   "cell_type": "markdown",
   "metadata": {},
   "source": [
    "# Probability plot"
   ]
  },
  {
   "cell_type": "code",
   "execution_count": 36,
   "metadata": {},
   "outputs": [
    {
     "name": "stdout",
     "output_type": "stream",
     "text": [
      "Level of Optimization:  fast_run\n",
      "Device:  cpu\n",
      "Precision:  float32\n"
     ]
    }
   ],
   "source": [
    "interp_data_prob = gp.InterpolatorInput(geo_data, output='geology')"
   ]
  },
  {
   "cell_type": "code",
   "execution_count": 38,
   "metadata": {},
   "outputs": [],
   "source": [
    "lith_block, fault_block = gp.compute_model(interp_data_prob, output='geology')\n"
   ]
  },
  {
   "cell_type": "code",
   "execution_count": 39,
   "metadata": {},
   "outputs": [
    {
     "ename": "IndexError",
     "evalue": "index 14000 is out of bounds for axis 0 with size 14000",
     "output_type": "error",
     "traceback": [
      "\u001b[0;31m---------------------------------------------------------------------------\u001b[0m",
      "\u001b[0;31mIndexError\u001b[0m                                Traceback (most recent call last)",
      "\u001b[0;32m~/PycharmProjects/gempy/gempy/Visualization.py\u001b[0m in \u001b[0;36mslideCallback\u001b[0;34m(self, obj, event)\u001b[0m\n\u001b[1;32m    757\u001b[0m     \u001b[0;32mdef\u001b[0m \u001b[0mslideCallback\u001b[0m\u001b[0;34m(\u001b[0m\u001b[0mself\u001b[0m\u001b[0;34m,\u001b[0m \u001b[0mobj\u001b[0m\u001b[0;34m,\u001b[0m \u001b[0mevent\u001b[0m\u001b[0;34m)\u001b[0m\u001b[0;34m:\u001b[0m\u001b[0;34m\u001b[0m\u001b[0m\n\u001b[1;32m    758\u001b[0m \u001b[0;34m\u001b[0m\u001b[0m\n\u001b[0;32m--> 759\u001b[0;31m         \u001b[0mself\u001b[0m\u001b[0;34m.\u001b[0m\u001b[0mpost\u001b[0m\u001b[0;34m.\u001b[0m\u001b[0mchange_input_data\u001b[0m\u001b[0;34m(\u001b[0m\u001b[0mself\u001b[0m\u001b[0;34m.\u001b[0m\u001b[0minterp_data\u001b[0m\u001b[0;34m,\u001b[0m \u001b[0mobj\u001b[0m\u001b[0;34m.\u001b[0m\u001b[0mGetRepresentation\u001b[0m\u001b[0;34m(\u001b[0m\u001b[0;34m)\u001b[0m\u001b[0;34m.\u001b[0m\u001b[0mGetValue\u001b[0m\u001b[0;34m(\u001b[0m\u001b[0;34m)\u001b[0m\u001b[0;34m)\u001b[0m\u001b[0;34m\u001b[0m\u001b[0m\n\u001b[0m\u001b[1;32m    760\u001b[0m         \u001b[0;31m# lith_block, fault_block = gp.compute_model(self.interp_data)\u001b[0m\u001b[0;34m\u001b[0m\u001b[0;34m\u001b[0m\u001b[0m\n\u001b[1;32m    761\u001b[0m         \u001b[0;32mtry\u001b[0m\u001b[0;34m:\u001b[0m\u001b[0;34m\u001b[0m\u001b[0m\n",
      "\u001b[0;32m~/PycharmProjects/gempy/gempy/UncertaintyAnalysisPYMC2.py\u001b[0m in \u001b[0;36mchange_input_data\u001b[0;34m(self, interp_data, i)\u001b[0m\n\u001b[1;32m     76\u001b[0m         \u001b[0mi\u001b[0m \u001b[0;34m=\u001b[0m \u001b[0mint\u001b[0m\u001b[0;34m(\u001b[0m\u001b[0mi\u001b[0m\u001b[0;34m)\u001b[0m\u001b[0;34m\u001b[0m\u001b[0m\n\u001b[1;32m     77\u001b[0m         \u001b[0;31m# replace interface data\u001b[0m\u001b[0;34m\u001b[0m\u001b[0;34m\u001b[0m\u001b[0m\n\u001b[0;32m---> 78\u001b[0;31m         \u001b[0minterp_data\u001b[0m\u001b[0;34m.\u001b[0m\u001b[0mgeo_data_res\u001b[0m\u001b[0;34m.\u001b[0m\u001b[0minterfaces\u001b[0m\u001b[0;34m[\u001b[0m\u001b[0;34m[\u001b[0m\u001b[0;34m\"X\"\u001b[0m\u001b[0;34m,\u001b[0m \u001b[0;34m\"Y\"\u001b[0m\u001b[0;34m,\u001b[0m \u001b[0;34m\"Z\"\u001b[0m\u001b[0;34m]\u001b[0m\u001b[0;34m]\u001b[0m \u001b[0;34m=\u001b[0m \u001b[0mself\u001b[0m\u001b[0;34m.\u001b[0m\u001b[0minput_data\u001b[0m\u001b[0;34m[\u001b[0m\u001b[0mi\u001b[0m\u001b[0;34m]\u001b[0m\u001b[0;34m[\u001b[0m\u001b[0;36m0\u001b[0m\u001b[0;34m]\u001b[0m\u001b[0;34m\u001b[0m\u001b[0m\n\u001b[0m\u001b[1;32m     79\u001b[0m         \u001b[0;31m# replace foliation data\u001b[0m\u001b[0;34m\u001b[0m\u001b[0;34m\u001b[0m\u001b[0m\n\u001b[1;32m     80\u001b[0m         \u001b[0minterp_data\u001b[0m\u001b[0;34m.\u001b[0m\u001b[0mgeo_data_res\u001b[0m\u001b[0;34m.\u001b[0m\u001b[0mfoliations\u001b[0m\u001b[0;34m[\u001b[0m\u001b[0;34m[\u001b[0m\u001b[0;34m\"G_x\"\u001b[0m\u001b[0;34m,\u001b[0m \u001b[0;34m\"G_y\"\u001b[0m\u001b[0;34m,\u001b[0m \u001b[0;34m\"G_z\"\u001b[0m\u001b[0;34m,\u001b[0m \u001b[0;34m\"X\"\u001b[0m\u001b[0;34m,\u001b[0m \u001b[0;34m\"Y\"\u001b[0m\u001b[0;34m,\u001b[0m \u001b[0;34m\"Z\"\u001b[0m\u001b[0;34m,\u001b[0m \u001b[0;34m\"azimuth\"\u001b[0m\u001b[0;34m,\u001b[0m \u001b[0;34m\"dip\"\u001b[0m\u001b[0;34m,\u001b[0m \u001b[0;34m\"polarity\"\u001b[0m\u001b[0;34m]\u001b[0m\u001b[0;34m]\u001b[0m \u001b[0;34m=\u001b[0m \u001b[0mself\u001b[0m\u001b[0;34m.\u001b[0m\u001b[0minput_data\u001b[0m\u001b[0;34m[\u001b[0m\u001b[0mi\u001b[0m\u001b[0;34m]\u001b[0m\u001b[0;34m[\u001b[0m\u001b[0;36m1\u001b[0m\u001b[0;34m]\u001b[0m\u001b[0;34m\u001b[0m\u001b[0m\n",
      "\u001b[0;31mIndexError\u001b[0m: index 14000 is out of bounds for axis 0 with size 14000"
     ]
    }
   ],
   "source": [
    "ver, sim = gp.get_surfaces(interp_data_prob, lith_block[1], None, original_scale= False)\n",
    "gp.plot_surfaces_3D_real_time(interp_data_prob, ver, sim, posterior=post, alpha=1)"
   ]
  },
  {
   "cell_type": "code",
   "execution_count": 40,
   "metadata": {},
   "outputs": [
    {
     "data": {
      "text/plain": [
       "(array([[   1.        ,    1.        ,    1.        , ...,    0.        ,\n",
       "            0.        ,    0.        ],\n",
       "        [ 950.32958984,  950.3314209 ,  950.33355713, ...,  799.23223877,\n",
       "          799.23150635,  799.23095703]], dtype=float32),\n",
       " array([], shape=(0, 125000), dtype=float32))"
      ]
     },
     "execution_count": 40,
     "metadata": {},
     "output_type": "execute_result"
    }
   ],
   "source": [
    "post.compute_posterior_model(interp_data_prob, 0)"
   ]
  },
  {
   "cell_type": "code",
   "execution_count": 41,
   "metadata": {},
   "outputs": [
    {
     "name": "stderr",
     "output_type": "stream",
     "text": [
      "/home/miguel/anaconda3/lib/python3.6/site-packages/scipy/linalg/basic.py:223: RuntimeWarning: scipy.linalg.solve\n",
      "Ill-conditioned matrix detected. Result is not guaranteed to be accurate.\n",
      "Reciprocal condition number: 1.2965932327801966e-08\n",
      "  ' condition number: {}'.format(rcond), RuntimeWarning)\n",
      "/home/miguel/anaconda3/lib/python3.6/site-packages/scipy/linalg/basic.py:223: RuntimeWarning: scipy.linalg.solve\n",
      "Ill-conditioned matrix detected. Result is not guaranteed to be accurate.\n",
      "Reciprocal condition number: 4.387140650763399e-10\n",
      "  ' condition number: {}'.format(rcond), RuntimeWarning)\n",
      "/home/miguel/anaconda3/lib/python3.6/site-packages/scipy/linalg/basic.py:223: RuntimeWarning: scipy.linalg.solve\n",
      "Ill-conditioned matrix detected. Result is not guaranteed to be accurate.\n",
      "Reciprocal condition number: 5.0661871142665404e-08\n",
      "  ' condition number: {}'.format(rcond), RuntimeWarning)\n",
      "/home/miguel/anaconda3/lib/python3.6/site-packages/scipy/linalg/basic.py:223: RuntimeWarning: scipy.linalg.solve\n",
      "Ill-conditioned matrix detected. Result is not guaranteed to be accurate.\n",
      "Reciprocal condition number: 4.5287006145144915e-08\n",
      "  ' condition number: {}'.format(rcond), RuntimeWarning)\n",
      "/home/miguel/anaconda3/lib/python3.6/site-packages/scipy/linalg/basic.py:223: RuntimeWarning: scipy.linalg.solve\n",
      "Ill-conditioned matrix detected. Result is not guaranteed to be accurate.\n",
      "Reciprocal condition number: 5.37002513567586e-08\n",
      "  ' condition number: {}'.format(rcond), RuntimeWarning)\n",
      "/home/miguel/anaconda3/lib/python3.6/site-packages/scipy/linalg/basic.py:223: RuntimeWarning: scipy.linalg.solve\n",
      "Ill-conditioned matrix detected. Result is not guaranteed to be accurate.\n",
      "Reciprocal condition number: 2.7627951482145363e-08\n",
      "  ' condition number: {}'.format(rcond), RuntimeWarning)\n",
      "/home/miguel/anaconda3/lib/python3.6/site-packages/scipy/linalg/basic.py:223: RuntimeWarning: scipy.linalg.solve\n",
      "Ill-conditioned matrix detected. Result is not guaranteed to be accurate.\n",
      "Reciprocal condition number: 8.779444726769725e-09\n",
      "  ' condition number: {}'.format(rcond), RuntimeWarning)\n",
      "/home/miguel/anaconda3/lib/python3.6/site-packages/scipy/linalg/basic.py:223: RuntimeWarning: scipy.linalg.solve\n",
      "Ill-conditioned matrix detected. Result is not guaranteed to be accurate.\n",
      "Reciprocal condition number: 3.2231575630703446e-08\n",
      "  ' condition number: {}'.format(rcond), RuntimeWarning)\n",
      "/home/miguel/anaconda3/lib/python3.6/site-packages/scipy/linalg/basic.py:223: RuntimeWarning: scipy.linalg.solve\n",
      "Ill-conditioned matrix detected. Result is not guaranteed to be accurate.\n",
      "Reciprocal condition number: 3.025266792633374e-08\n",
      "  ' condition number: {}'.format(rcond), RuntimeWarning)\n",
      "/home/miguel/anaconda3/lib/python3.6/site-packages/scipy/linalg/basic.py:223: RuntimeWarning: scipy.linalg.solve\n",
      "Ill-conditioned matrix detected. Result is not guaranteed to be accurate.\n",
      "Reciprocal condition number: 5.1252428079351375e-08\n",
      "  ' condition number: {}'.format(rcond), RuntimeWarning)\n",
      "/home/miguel/anaconda3/lib/python3.6/site-packages/scipy/linalg/basic.py:223: RuntimeWarning: scipy.linalg.solve\n",
      "Ill-conditioned matrix detected. Result is not guaranteed to be accurate.\n",
      "Reciprocal condition number: 4.416341070623275e-08\n",
      "  ' condition number: {}'.format(rcond), RuntimeWarning)\n",
      "/home/miguel/anaconda3/lib/python3.6/site-packages/scipy/linalg/basic.py:223: RuntimeWarning: scipy.linalg.solve\n",
      "Ill-conditioned matrix detected. Result is not guaranteed to be accurate.\n",
      "Reciprocal condition number: 4.719544932640929e-08\n",
      "  ' condition number: {}'.format(rcond), RuntimeWarning)\n",
      "/home/miguel/anaconda3/lib/python3.6/site-packages/scipy/linalg/basic.py:223: RuntimeWarning: scipy.linalg.solve\n",
      "Ill-conditioned matrix detected. Result is not guaranteed to be accurate.\n",
      "Reciprocal condition number: 5.292884708296697e-08\n",
      "  ' condition number: {}'.format(rcond), RuntimeWarning)\n",
      "/home/miguel/anaconda3/lib/python3.6/site-packages/scipy/linalg/basic.py:223: RuntimeWarning: scipy.linalg.solve\n",
      "Ill-conditioned matrix detected. Result is not guaranteed to be accurate.\n",
      "Reciprocal condition number: 1.9502254033909594e-08\n",
      "  ' condition number: {}'.format(rcond), RuntimeWarning)\n",
      "/home/miguel/anaconda3/lib/python3.6/site-packages/scipy/linalg/basic.py:223: RuntimeWarning: scipy.linalg.solve\n",
      "Ill-conditioned matrix detected. Result is not guaranteed to be accurate.\n",
      "Reciprocal condition number: 5.688075077614485e-08\n",
      "  ' condition number: {}'.format(rcond), RuntimeWarning)\n",
      "/home/miguel/anaconda3/lib/python3.6/site-packages/scipy/linalg/basic.py:223: RuntimeWarning: scipy.linalg.solve\n",
      "Ill-conditioned matrix detected. Result is not guaranteed to be accurate.\n",
      "Reciprocal condition number: 1.5227858085609114e-08\n",
      "  ' condition number: {}'.format(rcond), RuntimeWarning)\n",
      "/home/miguel/anaconda3/lib/python3.6/site-packages/scipy/linalg/basic.py:223: RuntimeWarning: scipy.linalg.solve\n",
      "Ill-conditioned matrix detected. Result is not guaranteed to be accurate.\n",
      "Reciprocal condition number: 3.3181201786192105e-08\n",
      "  ' condition number: {}'.format(rcond), RuntimeWarning)\n",
      "/home/miguel/anaconda3/lib/python3.6/site-packages/scipy/linalg/basic.py:223: RuntimeWarning: scipy.linalg.solve\n",
      "Ill-conditioned matrix detected. Result is not guaranteed to be accurate.\n",
      "Reciprocal condition number: 4.0637253562181286e-08\n",
      "  ' condition number: {}'.format(rcond), RuntimeWarning)\n",
      "/home/miguel/anaconda3/lib/python3.6/site-packages/scipy/linalg/basic.py:223: RuntimeWarning: scipy.linalg.solve\n",
      "Ill-conditioned matrix detected. Result is not guaranteed to be accurate.\n",
      "Reciprocal condition number: 5.078282239168175e-09\n",
      "  ' condition number: {}'.format(rcond), RuntimeWarning)\n",
      "/home/miguel/anaconda3/lib/python3.6/site-packages/scipy/linalg/basic.py:223: RuntimeWarning: scipy.linalg.solve\n",
      "Ill-conditioned matrix detected. Result is not guaranteed to be accurate.\n",
      "Reciprocal condition number: 3.0269454498466075e-08\n",
      "  ' condition number: {}'.format(rcond), RuntimeWarning)\n",
      "/home/miguel/anaconda3/lib/python3.6/site-packages/scipy/linalg/basic.py:223: RuntimeWarning: scipy.linalg.solve\n",
      "Ill-conditioned matrix detected. Result is not guaranteed to be accurate.\n",
      "Reciprocal condition number: 2.3111475400128256e-08\n",
      "  ' condition number: {}'.format(rcond), RuntimeWarning)\n",
      "/home/miguel/anaconda3/lib/python3.6/site-packages/scipy/linalg/basic.py:223: RuntimeWarning: scipy.linalg.solve\n",
      "Ill-conditioned matrix detected. Result is not guaranteed to be accurate.\n",
      "Reciprocal condition number: 3.999226905193609e-08\n",
      "  ' condition number: {}'.format(rcond), RuntimeWarning)\n",
      "/home/miguel/anaconda3/lib/python3.6/site-packages/scipy/linalg/basic.py:223: RuntimeWarning: scipy.linalg.solve\n",
      "Ill-conditioned matrix detected. Result is not guaranteed to be accurate.\n",
      "Reciprocal condition number: 4.695559852052611e-08\n",
      "  ' condition number: {}'.format(rcond), RuntimeWarning)\n",
      "/home/miguel/anaconda3/lib/python3.6/site-packages/scipy/linalg/basic.py:223: RuntimeWarning: scipy.linalg.solve\n",
      "Ill-conditioned matrix detected. Result is not guaranteed to be accurate.\n",
      "Reciprocal condition number: 3.919864610679724e-08\n",
      "  ' condition number: {}'.format(rcond), RuntimeWarning)\n",
      "/home/miguel/anaconda3/lib/python3.6/site-packages/scipy/linalg/basic.py:223: RuntimeWarning: scipy.linalg.solve\n",
      "Ill-conditioned matrix detected. Result is not guaranteed to be accurate.\n",
      "Reciprocal condition number: 2.4275855992073048e-08\n",
      "  ' condition number: {}'.format(rcond), RuntimeWarning)\n",
      "/home/miguel/anaconda3/lib/python3.6/site-packages/scipy/linalg/basic.py:223: RuntimeWarning: scipy.linalg.solve\n",
      "Ill-conditioned matrix detected. Result is not guaranteed to be accurate.\n",
      "Reciprocal condition number: 5.273400915939419e-08\n",
      "  ' condition number: {}'.format(rcond), RuntimeWarning)\n",
      "/home/miguel/anaconda3/lib/python3.6/site-packages/scipy/linalg/basic.py:223: RuntimeWarning: scipy.linalg.solve\n",
      "Ill-conditioned matrix detected. Result is not guaranteed to be accurate.\n",
      "Reciprocal condition number: 2.840878998711105e-08\n",
      "  ' condition number: {}'.format(rcond), RuntimeWarning)\n",
      "/home/miguel/anaconda3/lib/python3.6/site-packages/scipy/linalg/basic.py:223: RuntimeWarning: scipy.linalg.solve\n",
      "Ill-conditioned matrix detected. Result is not guaranteed to be accurate.\n",
      "Reciprocal condition number: 2.6227917615528895e-08\n",
      "  ' condition number: {}'.format(rcond), RuntimeWarning)\n"
     ]
    },
    {
     "name": "stderr",
     "output_type": "stream",
     "text": [
      "/home/miguel/anaconda3/lib/python3.6/site-packages/scipy/linalg/basic.py:223: RuntimeWarning: scipy.linalg.solve\n",
      "Ill-conditioned matrix detected. Result is not guaranteed to be accurate.\n",
      "Reciprocal condition number: 2.5573729800498768e-08\n",
      "  ' condition number: {}'.format(rcond), RuntimeWarning)\n",
      "/home/miguel/anaconda3/lib/python3.6/site-packages/scipy/linalg/basic.py:223: RuntimeWarning: scipy.linalg.solve\n",
      "Ill-conditioned matrix detected. Result is not guaranteed to be accurate.\n",
      "Reciprocal condition number: 4.705158929141362e-08\n",
      "  ' condition number: {}'.format(rcond), RuntimeWarning)\n",
      "/home/miguel/anaconda3/lib/python3.6/site-packages/scipy/linalg/basic.py:223: RuntimeWarning: scipy.linalg.solve\n",
      "Ill-conditioned matrix detected. Result is not guaranteed to be accurate.\n",
      "Reciprocal condition number: 4.668079611747089e-08\n",
      "  ' condition number: {}'.format(rcond), RuntimeWarning)\n",
      "/home/miguel/anaconda3/lib/python3.6/site-packages/scipy/linalg/basic.py:223: RuntimeWarning: scipy.linalg.solve\n",
      "Ill-conditioned matrix detected. Result is not guaranteed to be accurate.\n",
      "Reciprocal condition number: 3.7881687120489005e-08\n",
      "  ' condition number: {}'.format(rcond), RuntimeWarning)\n",
      "/home/miguel/anaconda3/lib/python3.6/site-packages/scipy/linalg/basic.py:223: RuntimeWarning: scipy.linalg.solve\n",
      "Ill-conditioned matrix detected. Result is not guaranteed to be accurate.\n",
      "Reciprocal condition number: 4.651245077980093e-08\n",
      "  ' condition number: {}'.format(rcond), RuntimeWarning)\n",
      "/home/miguel/anaconda3/lib/python3.6/site-packages/scipy/linalg/basic.py:223: RuntimeWarning: scipy.linalg.solve\n",
      "Ill-conditioned matrix detected. Result is not guaranteed to be accurate.\n",
      "Reciprocal condition number: 3.8000781188429755e-08\n",
      "  ' condition number: {}'.format(rcond), RuntimeWarning)\n",
      "/home/miguel/anaconda3/lib/python3.6/site-packages/scipy/linalg/basic.py:223: RuntimeWarning: scipy.linalg.solve\n",
      "Ill-conditioned matrix detected. Result is not guaranteed to be accurate.\n",
      "Reciprocal condition number: 3.5617333082882396e-08\n",
      "  ' condition number: {}'.format(rcond), RuntimeWarning)\n",
      "/home/miguel/anaconda3/lib/python3.6/site-packages/scipy/linalg/basic.py:223: RuntimeWarning: scipy.linalg.solve\n",
      "Ill-conditioned matrix detected. Result is not guaranteed to be accurate.\n",
      "Reciprocal condition number: 4.682572907199756e-08\n",
      "  ' condition number: {}'.format(rcond), RuntimeWarning)\n",
      "/home/miguel/anaconda3/lib/python3.6/site-packages/scipy/linalg/basic.py:223: RuntimeWarning: scipy.linalg.solve\n",
      "Ill-conditioned matrix detected. Result is not guaranteed to be accurate.\n",
      "Reciprocal condition number: 3.288817751467832e-08\n",
      "  ' condition number: {}'.format(rcond), RuntimeWarning)\n",
      "/home/miguel/anaconda3/lib/python3.6/site-packages/scipy/linalg/basic.py:223: RuntimeWarning: scipy.linalg.solve\n",
      "Ill-conditioned matrix detected. Result is not guaranteed to be accurate.\n",
      "Reciprocal condition number: 5.791860502313284e-08\n",
      "  ' condition number: {}'.format(rcond), RuntimeWarning)\n",
      "/home/miguel/anaconda3/lib/python3.6/site-packages/scipy/linalg/basic.py:223: RuntimeWarning: scipy.linalg.solve\n",
      "Ill-conditioned matrix detected. Result is not guaranteed to be accurate.\n",
      "Reciprocal condition number: 9.221832186767642e-09\n",
      "  ' condition number: {}'.format(rcond), RuntimeWarning)\n",
      "/home/miguel/anaconda3/lib/python3.6/site-packages/scipy/linalg/basic.py:223: RuntimeWarning: scipy.linalg.solve\n",
      "Ill-conditioned matrix detected. Result is not guaranteed to be accurate.\n",
      "Reciprocal condition number: 5.9547957675931684e-08\n",
      "  ' condition number: {}'.format(rcond), RuntimeWarning)\n",
      "/home/miguel/anaconda3/lib/python3.6/site-packages/scipy/linalg/basic.py:223: RuntimeWarning: scipy.linalg.solve\n",
      "Ill-conditioned matrix detected. Result is not guaranteed to be accurate.\n",
      "Reciprocal condition number: 4.982342005632745e-08\n",
      "  ' condition number: {}'.format(rcond), RuntimeWarning)\n",
      "/home/miguel/anaconda3/lib/python3.6/site-packages/scipy/linalg/basic.py:223: RuntimeWarning: scipy.linalg.solve\n",
      "Ill-conditioned matrix detected. Result is not guaranteed to be accurate.\n",
      "Reciprocal condition number: 4.557620414402663e-08\n",
      "  ' condition number: {}'.format(rcond), RuntimeWarning)\n",
      "/home/miguel/anaconda3/lib/python3.6/site-packages/scipy/linalg/basic.py:223: RuntimeWarning: scipy.linalg.solve\n",
      "Ill-conditioned matrix detected. Result is not guaranteed to be accurate.\n",
      "Reciprocal condition number: 3.782533042340219e-08\n",
      "  ' condition number: {}'.format(rcond), RuntimeWarning)\n",
      "/home/miguel/anaconda3/lib/python3.6/site-packages/scipy/linalg/basic.py:223: RuntimeWarning: scipy.linalg.solve\n",
      "Ill-conditioned matrix detected. Result is not guaranteed to be accurate.\n",
      "Reciprocal condition number: 4.863343505689954e-09\n",
      "  ' condition number: {}'.format(rcond), RuntimeWarning)\n",
      "/home/miguel/anaconda3/lib/python3.6/site-packages/scipy/linalg/basic.py:223: RuntimeWarning: scipy.linalg.solve\n",
      "Ill-conditioned matrix detected. Result is not guaranteed to be accurate.\n",
      "Reciprocal condition number: 3.506070100911529e-08\n",
      "  ' condition number: {}'.format(rcond), RuntimeWarning)\n",
      "/home/miguel/anaconda3/lib/python3.6/site-packages/scipy/linalg/basic.py:223: RuntimeWarning: scipy.linalg.solve\n",
      "Ill-conditioned matrix detected. Result is not guaranteed to be accurate.\n",
      "Reciprocal condition number: 5.290327731444222e-09\n",
      "  ' condition number: {}'.format(rcond), RuntimeWarning)\n",
      "/home/miguel/anaconda3/lib/python3.6/site-packages/scipy/linalg/basic.py:223: RuntimeWarning: scipy.linalg.solve\n",
      "Ill-conditioned matrix detected. Result is not guaranteed to be accurate.\n",
      "Reciprocal condition number: 3.934015779805122e-08\n",
      "  ' condition number: {}'.format(rcond), RuntimeWarning)\n",
      "/home/miguel/anaconda3/lib/python3.6/site-packages/scipy/linalg/basic.py:223: RuntimeWarning: scipy.linalg.solve\n",
      "Ill-conditioned matrix detected. Result is not guaranteed to be accurate.\n",
      "Reciprocal condition number: 4.937280806416311e-08\n",
      "  ' condition number: {}'.format(rcond), RuntimeWarning)\n",
      "/home/miguel/anaconda3/lib/python3.6/site-packages/scipy/linalg/basic.py:223: RuntimeWarning: scipy.linalg.solve\n",
      "Ill-conditioned matrix detected. Result is not guaranteed to be accurate.\n",
      "Reciprocal condition number: 5.276038095303193e-08\n",
      "  ' condition number: {}'.format(rcond), RuntimeWarning)\n",
      "/home/miguel/anaconda3/lib/python3.6/site-packages/scipy/linalg/basic.py:223: RuntimeWarning: scipy.linalg.solve\n",
      "Ill-conditioned matrix detected. Result is not guaranteed to be accurate.\n",
      "Reciprocal condition number: 1.2719363340352174e-08\n",
      "  ' condition number: {}'.format(rcond), RuntimeWarning)\n",
      "/home/miguel/anaconda3/lib/python3.6/site-packages/scipy/linalg/basic.py:223: RuntimeWarning: scipy.linalg.solve\n",
      "Ill-conditioned matrix detected. Result is not guaranteed to be accurate.\n",
      "Reciprocal condition number: 5.5750945193722146e-08\n",
      "  ' condition number: {}'.format(rcond), RuntimeWarning)\n",
      "/home/miguel/anaconda3/lib/python3.6/site-packages/scipy/linalg/basic.py:223: RuntimeWarning: scipy.linalg.solve\n",
      "Ill-conditioned matrix detected. Result is not guaranteed to be accurate.\n",
      "Reciprocal condition number: 3.903458889453759e-08\n",
      "  ' condition number: {}'.format(rcond), RuntimeWarning)\n",
      "/home/miguel/anaconda3/lib/python3.6/site-packages/scipy/linalg/basic.py:223: RuntimeWarning: scipy.linalg.solve\n",
      "Ill-conditioned matrix detected. Result is not guaranteed to be accurate.\n",
      "Reciprocal condition number: 3.757049427122183e-08\n",
      "  ' condition number: {}'.format(rcond), RuntimeWarning)\n",
      "/home/miguel/anaconda3/lib/python3.6/site-packages/scipy/linalg/basic.py:223: RuntimeWarning: scipy.linalg.solve\n",
      "Ill-conditioned matrix detected. Result is not guaranteed to be accurate.\n",
      "Reciprocal condition number: 3.374683998913497e-08\n",
      "  ' condition number: {}'.format(rcond), RuntimeWarning)\n",
      "/home/miguel/anaconda3/lib/python3.6/site-packages/scipy/linalg/basic.py:223: RuntimeWarning: scipy.linalg.solve\n",
      "Ill-conditioned matrix detected. Result is not guaranteed to be accurate.\n",
      "Reciprocal condition number: 1.3791148667507969e-08\n",
      "  ' condition number: {}'.format(rcond), RuntimeWarning)\n"
     ]
    }
   ],
   "source": [
    "post.compute_posterior_models_all(interp_data_prob, calc_fb=False)"
   ]
  },
  {
   "cell_type": "code",
   "execution_count": 43,
   "metadata": {},
   "outputs": [
    {
     "name": "stdout",
     "output_type": "stream",
     "text": [
      "Information Entropy successfully calculated. Stored in self.ie and self.ie_total\n"
     ]
    }
   ],
   "source": [
    "post.compute_entropy(interp_data_prob)"
   ]
  },
  {
   "cell_type": "code",
   "execution_count": 47,
   "metadata": {},
   "outputs": [],
   "source": [
    "gp.export_vtk_rectilinear(geo_data, post.ie)\n"
   ]
  },
  {
   "cell_type": "markdown",
   "metadata": {},
   "source": [
    "# Entropy plot\n"
   ]
  },
  {
   "cell_type": "code",
   "execution_count": 52,
   "metadata": {},
   "outputs": [
    {
     "data": {
      "text/plain": [
       "<pymc.database.hdf5.Database at 0x7f484b1710b8>"
      ]
     },
     "execution_count": 52,
     "metadata": {},
     "output_type": "execute_result"
    }
   ],
   "source": [
    "post.db"
   ]
  },
  {
   "cell_type": "code",
   "execution_count": null,
   "metadata": {},
   "outputs": [],
   "source": []
  }
 ],
 "metadata": {
  "anaconda-cloud": {},
  "kernelspec": {
   "display_name": "Python 3",
   "language": "python",
   "name": "python3"
  },
  "language_info": {
   "codemirror_mode": {
    "name": "ipython",
    "version": 3
   },
   "file_extension": ".py",
   "mimetype": "text/x-python",
   "name": "python",
   "nbconvert_exporter": "python",
   "pygments_lexer": "ipython3",
   "version": "3.6.1"
  },
  "latex_envs": {
   "LaTeX_envs_menu_present": true,
   "autocomplete": true,
   "bibliofile": "biblio.bib",
   "cite_by": "apalike",
   "current_citInitial": 1,
   "eqLabelWithNumbers": true,
   "eqNumInitial": 1,
   "hotkeys": {
    "equation": "Ctrl-E",
    "itemize": "Ctrl-I"
   },
   "labels_anchors": false,
   "latex_user_defs": false,
   "report_style_numbering": false,
   "user_envs_cfg": false
  },
  "toc": {
   "colors": {
    "hover_highlight": "#DAA520",
    "running_highlight": "#FF0000",
    "selected_highlight": "#FFD700"
   },
   "moveMenuLeft": true,
   "nav_menu": {
    "height": "76px",
    "width": "252px"
   },
   "navigate_menu": true,
   "number_sections": true,
   "sideBar": true,
   "threshold": 4,
   "toc_cell": false,
   "toc_section_display": "block",
   "toc_window_display": false,
   "widenNotebook": false
  }
 },
 "nbformat": 4,
 "nbformat_minor": 2
}
