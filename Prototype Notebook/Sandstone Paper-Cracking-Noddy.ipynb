{
 "cells": [
  {
   "cell_type": "code",
   "execution_count": 1,
   "metadata": {
    "collapsed": true
   },
   "outputs": [],
   "source": [
    "\n",
    "import sys, os\n",
    "sys.path.append(\"C:\\Users\\Miguel\\Desktop\\Working_Space\\pygeomod\\pygeomod\")\n",
    "import geoPyMC\n",
    "import pymc as pm\n",
    "import numpy as np\n",
    "import geogrid\n",
    "import matplotlib.pyplot as plt\n",
    "reload (geoPyMC)\n",
    "from itertools import chain\n",
    "%matplotlib inline\n"
   ]
  },
  {
   "cell_type": "code",
   "execution_count": 2,
   "metadata": {
    "collapsed": true
   },
   "outputs": [],
   "source": [
    "pm.half_cauchy_like?"
   ]
  },
  {
   "cell_type": "code",
   "execution_count": 3,
   "metadata": {
    "collapsed": true
   },
   "outputs": [],
   "source": [
    "import pynoddy\n",
    "pynoddy.compute_model?"
   ]
  },
  {
   "cell_type": "code",
   "execution_count": 4,
   "metadata": {
    "collapsed": true
   },
   "outputs": [],
   "source": [
    "ori_grav = np.loadtxt(r\"C:\\Users\\Miguel\\Desktop\\Working_Space\\Sandstone_project\\temp\\Sandstone_geophys\\Sst_grav_500.xyz\")\n",
    "#ori_grav_grid = ori_grav[:,3].reshape((resolution[1],resolution[0]))\n"
   ]
  },
  {
   "cell_type": "code",
   "execution_count": 6,
   "metadata": {},
   "outputs": [
    {
     "data": {
      "text/plain": [
       "(10625L, 4L)"
      ]
     },
     "execution_count": 6,
     "metadata": {},
     "output_type": "execute_result"
    }
   ],
   "source": [
    "ori_grav.shape"
   ]
  },
  {
   "cell_type": "code",
   "execution_count": 4,
   "metadata": {},
   "outputs": [
    {
     "data": {
      "text/plain": [
       "<matplotlib.figure.Figure at 0xd8d5a20>"
      ]
     },
     "metadata": {},
     "output_type": "display_data"
    }
   ],
   "source": [
    "reload(geogrid)\n",
    "reload(geoPyMC)\n",
    "GeoBay = geoPyMC.GeoPyMC_sim(\"Sandstone\")\n",
    "GeoBay.proj_dir(\"C:\\\\Users\\\\Miguel\\\\Desktop\\\\Working_Space\\\\Sandstone_project\\\\Temp_SandstoneCopy\")\n",
    "#GeoBay.temp_creation(\"C:\\Users\\Miguel\\Desktop\\Temp_SandstoneCopy\", )"
   ]
  },
  {
   "cell_type": "code",
   "execution_count": 5,
   "metadata": {
    "collapsed": true
   },
   "outputs": [],
   "source": [
    "GeoBay.read_excel(\"parameters.xlsx\", verbose = 0)"
   ]
  },
  {
   "cell_type": "code",
   "execution_count": 6,
   "metadata": {
    "collapsed": true,
    "scrolled": true
   },
   "outputs": [],
   "source": [
    "# Creates a PyMC object corresponding to a normal distribution of every parameter provided \n",
    "\n",
    "\n",
    "# Now we GeoBay has the PyMC instances contact_points_mc, dips_mc and azimuths_mc encapsulating our uncertainty/priors\n",
    "#print GeoBay.contact_points_mc#, GeoBay.dips_mc, GeoBay.azimuths_mc"
   ]
  },
  {
   "cell_type": "code",
   "execution_count": 7,
   "metadata": {
    "scrolled": false
   },
   "outputs": [
    {
     "name": "stdout",
     "output_type": "stream",
     "text": [
      "Gravity Contour plot\n"
     ]
    },
    {
     "data": {
      "image/png": "[encoded data removed]",
      "text/plain": [
       "<matplotlib.figure.Figure at 0xdd1afd0>"
      ]
     },
     "metadata": {},
     "output_type": "display_data"
    }
   ],
   "source": [
    "GeoBay.original_grav(\"temp\\Sandstone_geophys\\Sst_grav_500.xyz\"\n",
    "                     , type = \"xyz\", resolution= [85,125], verbose = 2)\n",
    "#a = plt.colorbar()\n",
    "#a.set_label(\"[mgal]\")\n",
    "#plt.savefig(\"Gravity colorbar.pdf\")"
   ]
  },
  {
   "cell_type": "code",
   "execution_count": 8,
   "metadata": {
    "collapsed": true
   },
   "outputs": [],
   "source": [
    "GeoBay.set_Stoch_normal_distribution()"
   ]
  },
  {
   "cell_type": "code",
   "execution_count": 9,
   "metadata": {
    "scrolled": false
   },
   "outputs": [
    {
     "name": "stderr",
     "output_type": "stream",
     "text": [
      "C:\\Anaconda2\\lib\\site-packages\\pymc\\Node.py:403: VisibleDeprecationWarning: using a non-integer number instead of an integer will result in an error in the future\n",
      "  self.__name__ = input['__name__']\n"
     ]
    },
    {
     "name": "stdout",
     "output_type": "stream",
     "text": [
      "8349.05872776\n"
     ]
    }
   ],
   "source": [
    "\"\"\"\n",
    "#===============================\n",
    "# First Constrains: Input data\n",
    "#=============================\n",
    "\n",
    "@pm.deterministic\n",
    "def aux_det(contact_points_mc = GeoBay.contact_points_mc):\n",
    "    # =====\n",
    "    # Order of layers\n",
    "\n",
    "    SM2_Atley = GeoBay.contact_points_mc[[int(np.argwhere(GeoBay.data_depth[:,0]==\"simple_mafic_Atley_left\")),\n",
    "                                         int(np.argwhere(GeoBay.data_depth[:,0]==\"simple_mafic_Atley_centre\")),\n",
    "                                         int(np.argwhere(GeoBay.data_depth[:,0]==\"simple_mafic_Atley_right\")),\n",
    "                                        ]]\n",
    "\n",
    "    BIF_Atley = GeoBay.contact_points_mc[[int(np.argwhere(GeoBay.data_depth[:,0]==\"BIF_Atley_3\")),\n",
    "                                          int(np.argwhere(GeoBay.data_depth[:,0]==\"BIF_Atley_4\")),\n",
    "                                          int(np.argwhere(GeoBay.data_depth[:,0]==\"BIF_Atley_5\"))]]\n",
    "    Atley_dif_1 = SM2_Atley - BIF_Atley\n",
    "    order_layers_det = 0\n",
    "    for dif in Atley_dif_1:\n",
    "        dif = dif.value\n",
    "       # print dif\n",
    "        if dif < 0:\n",
    "            try:\n",
    "                counter_OL += 1      \n",
    "            except UnboundLocalError:\n",
    "                counter_OL = 0\n",
    "           # print \" I am in b\"\n",
    "            order_layers_det +=-1\n",
    "\n",
    "\n",
    "    #=============\n",
    "    # two_folds\n",
    "    counter = 0\n",
    "    #print SM2_Atley[1] < SM2_Atley[0], SM2_Atley[1].value, SM2_Atley[0].value\n",
    "    if SM2_Atley[1].value < SM2_Atley[0].value and SM2_Atley[1].value < SM2_Atley[2].value:\n",
    "        #print \"I am here: two folds1\"\n",
    "        counter -= 1\n",
    "    if BIF_Atley[1].value < BIF_Atley[0].value and BIF_Atley[1].value < BIF_Atley[2].value:\n",
    "        counter -= 1\n",
    "        #print \"I am here: two folds2\"\n",
    "    #print \"counter: \", counter\n",
    "\n",
    "    return order_layers_det, counter\n",
    "\n",
    "@pm.stochastic\n",
    "def order_layers_l(value = -1, prob_o = aux_det[0]):\n",
    " #   print \"order of layers: \",prob_o\n",
    "    return prob_o\n",
    "\n",
    "@pm.stochastic\n",
    "def two_folds_l(value = -1, prob_t = aux_det[1]):\n",
    " #   print \"two folds: \",prob_t\n",
    "    return prob_t  \n",
    "\n",
    "\n",
    "\"\"\"\n",
    "# ===============================================================================\n",
    "# Generation of model\n",
    "# ===============================================================================\n",
    "\n",
    "#================= Creating the GeoModel ===================\n",
    "#============================================================\n",
    "\n",
    "# In our Bayesian Network the GeoModel behaves as a deterministic function\n",
    "@pm.deterministic(trace= True)\n",
    "def model(contact_points_val_mc = GeoBay.contact_points_mc, azimuths_val = GeoBay.azimuths_mc , dips_val = GeoBay.dips_mc,\n",
    "       ):\n",
    "    return  GeoBay.deterministic_GeoModel(\"Temp_SandstoneCopy.xml\",resolution=[85,125,51],geomod_coord = False,\n",
    "                                          noddy_geophy= True, densities=  { 1: 2.61,\n",
    "                                                                           2: 2.61,\n",
    "                                                                           3: 2.92,\n",
    "                                                                           4: 3.1,\n",
    "                                                                           5: 2.92,\n",
    "                                                                           6: 2.61\n",
    "\n",
    "                                                                           }, verbose = 0, two_points = False,\n",
    "                                         plot_direction = \"y\", plot_cell = 50, z_dim = [-20000,200], calc_range =0,\n",
    "                                         extent = [696000,747000,\n",
    "                                                   6863000,  6950000])\n",
    "\n",
    "\n",
    "#dif = np.append(dif,np.sum(abs(min_max_scaler.fit_transform(model.value.geophys.grv_data)\n",
    "#                                   -aux)))\n",
    "#aux = model.value.geophys.grv_data\n",
    "#time = np.append(time,a.best)\n",
    "#    print np.shape(model.value.geophys.grv_data), np.shape(forw_gravs)\n",
    "\n",
    "#    forw_gravs = np.dstack((forw_gravs, model.value.geophys.grv_data))\n",
    "\n",
    "\n",
    "#=================================\n",
    "# Inversion\n",
    "#=================================\n",
    "\n",
    "@pm.deterministic\n",
    "def e_sq(value = GeoBay.ori_grav_grid,model = model, verbose = 0):\n",
    "   \n",
    "    Forw = model.geophys.grv_data[:-50,18:,]\n",
    "    #print np.median(value),np.median(Forw)\n",
    "    # shifting\n",
    "   # shift = np.median(-value)-np.median(Forw)\n",
    "    shift = -450-np.median(Forw)#np.median(value)-np.median(Forw)\n",
    "    #Forw = X_train_minmax = min_max_scaler.fit_transform(Forw, feature_range=(0, 10))\n",
    "    \n",
    "    \n",
    " \n",
    "    # Calibration parameters\n",
    "    F_min, F_max =  np.min(Forw), np.max(Forw)   #36.630742, 36.651496    #30.159309, 30.174104#\n",
    "    F_range = F_max - F_min\n",
    "    F_mid = 0.5*(F_max+F_min)\n",
    "\n",
    "    rs_min, rs_max = np.min(value), np.max(value)\n",
    "    rs_range = rs_max - rs_min\n",
    "    rs_mid = 0.5*(rs_max+rs_min)\n",
    "\n",
    "    #Rescaling\n",
    "\n",
    "   # rs_mid + (grid - m_mid) / m_range * rs_range\n",
    "    Reescaled_forw = rs_mid + (Forw - F_mid) / F_range * rs_range\n",
    "    if verbose > 0:\n",
    "        plt.imshow(model.geophys.grv_data[:,:,], origin= \"lower_left\", cmap=\"jet\")\n",
    "        plt.show()\n",
    "        plt.imshow(value, origin= \"lower_left\", cmap=\"jet\")\n",
    "        plt.colorbar()\n",
    "        plt.show()\n",
    "        plt.hist(value.ravel())\n",
    "        plt.show()\n",
    "        plt.imshow(Reescaled_forw, origin= \"lower_left\", cmap=\"jet\")\n",
    "        plt.show()\n",
    "        plt.imshow(Forw, origin= \"lower_left\", cmap=\"jet\")\n",
    "        plt.colorbar()\n",
    "        plt.show()\n",
    "        plt.hist(Reescaled_forw.ravel())\n",
    "        plt.show()\n",
    "\n",
    "    \n",
    "    e_sq = np.sqrt(np.sum((Reescaled_forw - (value))**2))\n",
    "    #print np.min(Reescaled_forw), np.max(Reescaled_forw)\n",
    "    print e_sq\n",
    "    return e_sq\n",
    "\n",
    "\"\"\"\n",
    "\n",
    "\n",
    "@pm.observed\n",
    "def inversion(value = 1, e_sq = e_sq):\n",
    "    return pm.half_cauchy_like(e_sq,0,10000.)\n",
    "\n",
    "\n",
    "@pm.stochastic\n",
    "def layer2_conti_l(value = 1, model = model):\n",
    "\n",
    "    n_columns = 0\n",
    "    model_2 = np.ones_like(model.grid) * (model.grid == 2)\n",
    "    vertical_sum_2 = np.sum(model_2, axis = 2)\n",
    "    vertical_sum_lt0 = np.ones_like(vertical_sum_2) * (vertical_sum_2 > 0)\n",
    "    ny, nx = vertical_sum_lt0.shape\n",
    "    for i in range(30,70):\n",
    "        line = vertical_sum_lt0[i,:]\n",
    "        switchpoints = np.sum(np.abs(line[:-1] - line[1:]))\n",
    "        if switchpoints > 2:\n",
    "            n_columns += 1\n",
    "    meters_discont = n_columns * model.dely[0]\n",
    "    if n_columns == 0:\n",
    "       # print \"layer2_conti: 0\"\n",
    "        return 0\n",
    "    else:\n",
    "       # print \"layer2_conti: \", np.log10(0.5 - 0.01*meters_discont/500)\n",
    "       # print \"===============next model ==============\"\n",
    "        return np.log10(0.5 - 0.01*meters_discont/500)\n",
    "\"\"\"\n",
    "#===========================================================\n",
    "#===========================================================\n",
    "#CREATING THE MODEL\n",
    "#==========================================================\n",
    "#=========================================================\n",
    "# Chaining the arrays\n",
    "parameters = list(chain(GeoBay.contact_points_mc\n",
    "                        ,GeoBay.dips_mc,\n",
    "                         GeoBay.azimuths_mc))\n",
    "\n",
    "\n",
    "\n",
    "\n",
    "GeoBay.creating_Bayes_model([#aux_det,\n",
    "                             #order_layers_l, two_folds_l,\n",
    "                             #   e_sq,inversion, \n",
    "                              #  layer2_conti_l,\n",
    "                               model], verbose = 0)\n"
   ]
  },
  {
   "cell_type": "code",
   "execution_count": null,
   "metadata": {
    "collapsed": true,
    "scrolled": false
   },
   "outputs": [],
   "source": [
    "S = pm.MCMC(GeoBay.pymc_model,db= \"hdf5\" , dbname= \"database_temp/27thJulnothing2.hdf5\" )\n",
    "S.restore_sampler_state()\n",
    "S.sample(iter = 45, burn = 0)\n",
    "\n",
    "\n"
   ]
  },
  {
   "cell_type": "code",
   "execution_count": null,
   "metadata": {
    "collapsed": true
   },
   "outputs": [],
   "source": [
    "%%javascript\n",
    "IPython.notebook.kernel.restart();\n",
    "                 $(IPython.events).one('kernel_ready.Kernel',\n",
    "                                       function(){IPython.notebook.execute_all_cells();});\n"
   ]
  },
  {
   "cell_type": "code",
   "execution_count": null,
   "metadata": {
    "collapsed": true
   },
   "outputs": [],
   "source": []
  },
  {
   "cell_type": "code",
   "execution_count": null,
   "metadata": {
    "collapsed": true
   },
   "outputs": [],
   "source": []
  },
  {
   "cell_type": "code",
   "execution_count": null,
   "metadata": {
    "collapsed": true
   },
   "outputs": [],
   "source": []
  },
  {
   "cell_type": "code",
   "execution_count": null,
   "metadata": {
    "collapsed": true
   },
   "outputs": [],
   "source": [
    "plt.plot(dif, \"o\")\n",
    "plt.title(\"Sum of difference between calc_range+1 and calc_range\")\n",
    "#plt.plot([result.best for result in time] , \"o\")\n",
    "plt.title(\"Time needed\")\n",
    "display.clear_output(wait=True)\n",
    "display.display(plt.gcf())\n",
    "plt.close()\n",
    "    \n",
    "display.clear_output(wait=True)"
   ]
  },
  {
   "cell_type": "code",
   "execution_count": null,
   "metadata": {
    "collapsed": true,
    "scrolled": false
   },
   "outputs": [],
   "source": [
    "for i in range(21):\n",
    "    print \"min,max calc_range \", str(i), \" \", np.min(forw_gravs[::-1,:,i][:-5,:]),np.max(forw_gravs[::-1,:,i][:-5,:])\n",
    "    print \"quantile\", np.percentile(forw_gravs[::-1,:,i][:-5,:], 75) -np.percentile(forw_gravs[::-1,:,i][:-5,:], 25)\n",
    "    print \"quantile2\", np.percentile(forw_gravs[::-1,:,i][:-5,:], 95) -np.percentile(forw_gravs[::-1,:,i][:-5,:], 5)\n",
    "    print \"median\", np.median(forw_gravs[::-1,:,i][:-5,:])\n",
    "    print \"range \",np.min(forw_gravs[::-1,:,i][:-5,:])-np.max(forw_gravs[::-1,:,i][:-5,:])\n",
    "    print \"\"\n",
    "    "
   ]
  },
  {
   "cell_type": "code",
   "execution_count": null,
   "metadata": {
    "collapsed": true
   },
   "outputs": [],
   "source": [
    "np.max(min_max_scaler.fit_transform(forw_gravs[::-1,:,4][:-5,:]))"
   ]
  },
  {
   "cell_type": "code",
   "execution_count": null,
   "metadata": {
    "collapsed": true
   },
   "outputs": [],
   "source": [
    "cbar.5"
   ]
  },
  {
   "cell_type": "code",
   "execution_count": null,
   "metadata": {
    "collapsed": true
   },
   "outputs": [],
   "source": [
    "plt.ion()\n",
    "import IPython.display as display\n",
    "\n",
    "for i in range(1,21):\n",
    "    \n",
    "  \n",
    "    plotted =  plt.imshow((forw_gravs[::-1,:,i][:-5,:]), cmap=\"jet\")\n",
    "    cbar = plt.colorbar(mappable=plotted,  )\n",
    "    plt.title(\"Forward gravity spatial: Calc Range = \"+ str(i-1))\n",
    "\n",
    "    plt.savefig(r\"C:\\Users\\Miguel\\Desktop\\Working_Space\\Sandstone_project\\Plots\\Forward gravities\\Calc_Range = \"+ str(i-1)+\".pdf\")\n",
    "    plt.draw()\n",
    "\n",
    "    display.clear_output(wait=True)\n",
    "    display.display(plt.gcf())\n",
    "    plt.close()\n",
    "display.clear_output(wait=True)"
   ]
  },
  {
   "cell_type": "code",
   "execution_count": null,
   "metadata": {
    "collapsed": true
   },
   "outputs": [],
   "source": [
    "from sklearn import preprocessing\n",
    "min_max_scaler = preprocessing.MinMaxScaler()\n",
    "X_train_minmax = min_max_scaler.transform?"
   ]
  },
  {
   "cell_type": "code",
   "execution_count": null,
   "metadata": {
    "collapsed": true
   },
   "outputs": [],
   "source": [
    "X_train_minmax = min_max_scaler.transform"
   ]
  },
  {
   "cell_type": "code",
   "execution_count": null,
   "metadata": {
    "collapsed": true
   },
   "outputs": [],
   "source": [
    "from sklearn import preprocessing\n",
    "min_max_scaler = preprocessing.MinMaxScaler()\n",
    "X_train_minmax = min_max_scaler.fit_transform(forw_gravs[::-1,:,i+1][:-5,:])\n",
    "print X_train_minmax\n",
    "np.min(normalize(forw_gravs[::-1,:,i+1][:-5,:],norm='l1'), )"
   ]
  },
  {
   "cell_type": "code",
   "execution_count": null,
   "metadata": {
    "collapsed": true
   },
   "outputs": [],
   "source": [
    "dif = []\n",
    "for i in range(20):\n",
    "    dif = np.append(dif,np.sum(abs(min_max_scaler.fit_transform(forw_gravs[::-1,:,i+1][:-5,:])\n",
    "                                   -min_max_scaler.fit_transform(forw_gravs[::-1,:,i][:-5,:]))))\n",
    "plt.plot(dif, \"o\")\n",
    "plt.title(\"Sum of difference between calc_range+1 and calc_range\")"
   ]
  },
  {
   "cell_type": "code",
   "execution_count": null,
   "metadata": {
    "collapsed": true
   },
   "outputs": [],
   "source": [
    "S = pm.MCMC(GeoBay.pymc_model );\n",
    "S.sample(iter =300);"
   ]
  },
  {
   "cell_type": "code",
   "execution_count": null,
   "metadata": {
    "collapsed": true,
    "scrolled": false
   },
   "outputs": [],
   "source": [
    "import pynoddy as nd\n",
    "# Inverted spatial 20, high two res\n",
    "range_12_same_extent = nd.output.NoddyGeophysics(\"geogrid\")\n",
    "print np.shape(range_12_same_extent.grv_data),np.min(range_12_same_extent.grv_data), np.max(range_12_same_extent.grv_data) \n",
    "plt.imshow(range_12_same_extent.grv_data, origin = \"lower left\",\n",
    "                interpolation = 'nearest', cmap = 'jet')# ,vmin = 108.61)\n",
    "plt.colorbar()"
   ]
  },
  {
   "cell_type": "code",
   "execution_count": null,
   "metadata": {
    "collapsed": true
   },
   "outputs": [],
   "source": [
    "plt.imshow(np.pad(a, ((12,12),(12,12),(0,0)), \"reflect\")[:,:,-10])"
   ]
  },
  {
   "cell_type": "code",
   "execution_count": null,
   "metadata": {
    "collapsed": true
   },
   "outputs": [],
   "source": [
    "import pynoddy as nd\n",
    "# Inverted spatial 20, high two res\n",
    "range_12_same_extent = nd.output.NoddyGeophysics(\"geogrid\")\n",
    "print range_12_same_extent.grv_data,np.min(range_12_same_extent.grv_data), np.max(range_12_same_extent.grv_data) \n",
    "plt.contourf(range_12_same_extent.grv_data, 20,  cmap = 'jet')\n",
    "#, origin = \"lower left\",\n",
    " #               interpolation = 'nearest', cmap = 'jet')# ,vmin = 108.61)\n",
    "plt.colorbar()\n",
    "print np.shape(range_12_same_extent.grv_data)"
   ]
  },
  {
   "cell_type": "code",
   "execution_count": null,
   "metadata": {
    "collapsed": true
   },
   "outputs": [],
   "source": [
    "import pynoddy as nd\n",
    "# Inverted spatial 20, high two res\n",
    "range_12_same_extent = nd.output.NoddyGeophysics(\"geogrid\")\n",
    "print range_12_same_extent.grv_data,np.min(range_12_same_extent.grv_data), np.max(range_12_same_extent.grv_data), np.shape(range_12_same_extent.grv_data) \n",
    "plt.imshow(range_12_same_extent.grv_data, origin = \"lower left\",\n",
    "                interpolation = 'nearest', cmap = 'jet')# ,vmin = 108.61)\n",
    "plt.colorbar()"
   ]
  },
  {
   "cell_type": "code",
   "execution_count": null,
   "metadata": {
    "collapsed": true
   },
   "outputs": [],
   "source": [
    "plt.contourf?"
   ]
  },
  {
   "cell_type": "code",
   "execution_count": null,
   "metadata": {
    "collapsed": true
   },
   "outputs": [],
   "source": [
    "import pynoddy as nd\n",
    "# Inverted spatial 20, high two res\n",
    "range_12_same_extent = nd.output.NoddyGeophysics(\"geogrid\")\n",
    "print range_12_same_extent.grv_data,np.min(range_12_same_extent.grv_data), np.max(range_12_same_extent.grv_data) \n",
    "plt.contourf(range_12_same_extent.grv_data, 80,  cmap = 'jet')\n",
    "#, origin = \"lower left\",\n",
    " #               interpolation = 'nearest', cmap = 'jet')# ,vmin = 108.61)\n",
    "plt.colorbar()"
   ]
  },
  {
   "cell_type": "code",
   "execution_count": null,
   "metadata": {
    "collapsed": true
   },
   "outputs": [],
   "source": [
    "import pynoddy as nd\n",
    "# Inverted spatial 20, high two res\n",
    "range_12_same_extent = nd.output.NoddyGeophysics(\"geogrid\")\n",
    "print range_12_same_extent.grv_data,np.min(range_12_same_extent.grv_data), np.max(range_12_same_extent.grv_data) \n",
    "plt.imshow(range_12_same_extent.grv_data, origin = \"lower left\",\n",
    "                interpolation = 'nearest', cmap = 'jet')# ,vmin = 108.61)\n",
    "plt.colorbar()"
   ]
  },
  {
   "cell_type": "code",
   "execution_count": null,
   "metadata": {
    "collapsed": true
   },
   "outputs": [],
   "source": [
    "# Inverted all\n",
    "range_12_same_extent = nd.output.NoddyGeophysics(\"geogrid\")\n",
    "print range_12_same_extent.grv_data,np.min(range_12_same_extent.grv_data), np.max(range_12_same_extent.grv_data) \n",
    "plt.imshow(range_12_same_extent.grv_data, origin = \"lower left\",\n",
    "                interpolation = 'nearest', cmap = 'jet')# ,vmin = 108.61)\n",
    "plt.colorbar()"
   ]
  },
  {
   "cell_type": "code",
   "execution_count": null,
   "metadata": {
    "collapsed": true
   },
   "outputs": [],
   "source": [
    "import pynoddy as nd"
   ]
  },
  {
   "cell_type": "code",
   "execution_count": null,
   "metadata": {
    "collapsed": true
   },
   "outputs": [],
   "source": [
    "# INVERTED SPECTRAL\n",
    "\n",
    "range_12_same_extent = nd.output.NoddyGeophysics(\"geogrid\")\n",
    "print range_12_same_extent.grv_data,np.min(range_12_same_extent.grv_data), np.max(range_12_same_extent.grv_data) \n",
    "plt.imshow(range_12_same_extent.grv_data, origin = \"lower left\",\n",
    "                interpolation = 'nearest', cmap = 'jet')# ,vmin = 108.61)\n",
    "plt.colorbar()"
   ]
  },
  {
   "cell_type": "code",
   "execution_count": null,
   "metadata": {
    "collapsed": true
   },
   "outputs": [],
   "source": []
  },
  {
   "cell_type": "code",
   "execution_count": null,
   "metadata": {
    "collapsed": true,
    "scrolled": false
   },
   "outputs": [],
   "source": [
    "# non INVERTED SPECTRAL\n",
    "range_12_same_extent = nd.output.NoddyGeophysics(\"geogrid\")\n",
    "print range_12_same_extent.grv_data,np.min(range_12_same_extent.grv_data), np.max(range_12_same_extent.grv_data) \n",
    "plt.imshow(range_12_same_extent.grv_data, origin = \"lower left\",\n",
    "                interpolation = 'nearest', cmap = 'jet')# ,vmin = 108.61)\n",
    "plt.colorbar()\n",
    "#plt.savefig(\"Spatial_range1.png\")"
   ]
  },
  {
   "cell_type": "code",
   "execution_count": null,
   "metadata": {
    "collapsed": true
   },
   "outputs": [],
   "source": [
    "import pynoddy as nd"
   ]
  },
  {
   "cell_type": "markdown",
   "metadata": {},
   "source": [
    "### This is Geophysical calculation 2, range 12, with the same cube size 100 (almost certain)"
   ]
  },
  {
   "cell_type": "code",
   "execution_count": null,
   "metadata": {
    "collapsed": true
   },
   "outputs": [],
   "source": [
    "range_12_same_extent = nd.output.NoddyGeophysics(\"geogrid\")\n",
    "print range_12_same_extent.grv_data\n",
    "plt.imshow(range_12_same_extent.grv_data, origin = \"lower left\",\n",
    "                interpolation = 'nearest', cmap = 'viridis')"
   ]
  },
  {
   "cell_type": "markdown",
   "metadata": {},
   "source": [
    "### This should be geophysical calculation 2, range 0, with cell size 240 or so\n",
    "\n",
    "The values range were around 5"
   ]
  },
  {
   "cell_type": "code",
   "execution_count": null,
   "metadata": {
    "collapsed": true
   },
   "outputs": [],
   "source": [
    "plt.imshow(model.value.geophys.grv_data, origin = \"lower left\",\n",
    "                interpolation = 'nearest', cmap = 'viridis')\n",
    "plt.colorbar()\n",
    "\n",
    "print model.value.geophys.grv_data"
   ]
  },
  {
   "cell_type": "markdown",
   "metadata": {},
   "source": [
    "### This is geophysical calculations 2, range 12, cell size 240\n",
    "\n",
    "the values range were in 250"
   ]
  },
  {
   "cell_type": "code",
   "execution_count": null,
   "metadata": {
    "collapsed": true
   },
   "outputs": [],
   "source": [
    "range_12_geophys_calc_2 = nd.output.NoddyGeophysics(\"geogrid\")\n",
    "print range_12_geophys_calc_2.grv_data\n",
    "plt.imshow(range_12_geophys_calc_2 .grv_data, origin = \"lower left\",\n",
    "                interpolation = 'nearest', cmap = 'viridis')"
   ]
  },
  {
   "cell_type": "markdown",
   "metadata": {},
   "source": [
    "### This is the substraction of the last two"
   ]
  },
  {
   "cell_type": "code",
   "execution_count": null,
   "metadata": {
    "collapsed": true
   },
   "outputs": [],
   "source": [
    "plt.imshow(range_twelve.grv_data - range_0.grv_data[12:-12,12:-12], origin = \"lower left\",\n",
    "                interpolation = 'nearest', cmap = 'viridis')"
   ]
  },
  {
   "cell_type": "markdown",
   "metadata": {
    "collapsed": true
   },
   "source": [
    "## Geophysical calculation 0, calculation range 0, cell sizes 255"
   ]
  },
  {
   "cell_type": "code",
   "execution_count": null,
   "metadata": {
    "collapsed": true
   },
   "outputs": [],
   "source": [
    "plt.imshow(model.value.geophys.grv_data, origin = \"lower left\",\n",
    "                interpolation = 'nearest', cmap = 'viridis')\n",
    "plt.colorbar()\n",
    "\n",
    "print model.value.geophys.grv_data"
   ]
  },
  {
   "cell_type": "markdown",
   "metadata": {},
   "source": [
    "## Geophysical calculation 0, calculation range 12, cell sizes 255"
   ]
  },
  {
   "cell_type": "code",
   "execution_count": null,
   "metadata": {
    "collapsed": true
   },
   "outputs": [],
   "source": [
    "range_12_geophys_calc_0 = nd.output.NoddyGeophysics(\"geogrid\")\n",
    "print range_12_geophys_calc_0.grv_data\n",
    "plt.imshow(range_12_geophys_calc_0 .grv_data, origin = \"lower left\",\n",
    "                interpolation = 'nearest', cmap = 'viridis')"
   ]
  },
  {
   "cell_type": "markdown",
   "metadata": {},
   "source": [
    "### Geophysical calculation 1, range 0, cell size 255"
   ]
  },
  {
   "cell_type": "code",
   "execution_count": null,
   "metadata": {
    "collapsed": true
   },
   "outputs": [],
   "source": [
    "plt.imshow(model.value.geophys.grv_data, origin = \"lower left\",\n",
    "                interpolation = 'nearest', cmap = 'viridis')\n",
    "plt.colorbar()\n",
    "\n",
    "print model.value.geophys.grv_data"
   ]
  },
  {
   "cell_type": "markdown",
   "metadata": {},
   "source": [
    "### Geophysical calculation 1, range 12, cell size 255"
   ]
  },
  {
   "cell_type": "code",
   "execution_count": null,
   "metadata": {
    "collapsed": true
   },
   "outputs": [],
   "source": [
    "range_12_geophys_calc_1= nd.output.NoddyGeophysics(\"geogrid\")\n",
    "print range_12_geophys_calc_1.grv_data\n",
    "plt.imshow(range_12_geophys_calc_1 .grv_data, origin = \"lower left\",\n",
    "                interpolation = 'nearest', cmap = 'viridis')"
   ]
  },
  {
   "cell_type": "code",
   "execution_count": null,
   "metadata": {
    "collapsed": true
   },
   "outputs": [],
   "source": []
  },
  {
   "cell_type": "code",
   "execution_count": null,
   "metadata": {
    "collapsed": true
   },
   "outputs": [],
   "source": []
  },
  {
   "cell_type": "code",
   "execution_count": null,
   "metadata": {
    "collapsed": true
   },
   "outputs": [],
   "source": [
    "plt.scatter(range_0.grv_data[12:-12,12:-12].ravel(), range_twelve.grv_data.ravel())\n",
    "pol= np.polyfit(range_0.grv_data[12:-12,12:-12].ravel(), range_twelve.grv_data.ravel(), 1)\n",
    "print pol\n",
    "plt.plot(pol)\n",
    "plt.xlabel(\"range 0\")\n",
    "plt.ylabel(\"range 12\")"
   ]
  },
  {
   "cell_type": "code",
   "execution_count": null,
   "metadata": {
    "collapsed": true,
    "scrolled": true
   },
   "outputs": [],
   "source": [
    "S = pm.MCMC(GeoBay.pymc_model,db= \"hdf5\" , dbname= \"database_temp/5thFeb.hdf5\" )\n",
    "S.restore_sampler_state()\n",
    "S.sample(iter =45)"
   ]
  },
  {
   "cell_type": "code",
   "execution_count": null,
   "metadata": {
    "collapsed": true
   },
   "outputs": [],
   "source": [
    "S.db.close()"
   ]
  },
  {
   "cell_type": "code",
   "execution_count": null,
   "metadata": {
    "collapsed": true
   },
   "outputs": [],
   "source": [
    "%%javascript\n",
    "IPython.notebook.kernel.restart();\n",
    "                 $(IPython.events).one('kernel_ready.Kernel',\n",
    "                                       function(){IPython.notebook.execute_all_cells();});\n"
   ]
  },
  {
   "cell_type": "code",
   "execution_count": null,
   "metadata": {
    "collapsed": true
   },
   "outputs": [],
   "source": [
    "def plot_two_and_diff(grid1, grid2, filename = \"grid.png\"):\n",
    "    objf = obj_func(grid1, grid2)\n",
    "    fig = plt.figure(figsize = (14,5))\n",
    "    ax1 = fig.add_subplot(131)\n",
    "    im1 = ax1.imshow(grid1, interpolation = \"None\", cmap = 'viridis', origin = 'lower_left')\n",
    "    plt.colorbar(im1)\n",
    "    ax2 = fig.add_subplot(132)\n",
    "    im2 = ax2.imshow(grid2, interpolation = \"None\", cmap = 'viridis', origin = 'lower_left')\n",
    "    plt.colorbar(im2) \n",
    "    #plt.title(\"Model, real, and difference; model: %s; obj.f: %.2f\" % (key,objf) )\n",
    "    ax3 = fig.add_subplot(133)\n",
    "    im2 = ax3.imshow(grid2-grid1, interpolation = \"None\", cmap = 'RdBu', origin = 'lower_left')\n",
    "    plt.colorbar(im2)\n",
    "    if not filename == \"\":\n",
    "        plt.savefig(filename)\n",
    "        \n",
    "def obj_func(grid, real):\n",
    "    return np.sqrt(np.sum(grid - real)**2)\n",
    "\n",
    "\n",
    "#====================================================\n",
    "#=========================\n",
    "Forw = model.value.geophys.grv_data\n",
    "value = GeoBay.ori_grav_grid\n",
    "\n",
    "print np.max(Forw), np.min(Forw)\n",
    "# Calibration parameters\n",
    "F_min, F_max = 30.159309, 30.174104# np.min(Forw), np.max(Forw)   #36.630742, 36.651496    #30.159309, 30.174104#\n",
    "F_range = F_max - F_min\n",
    "F_mid = 0.5*(F_max+F_min)\n",
    "\n",
    "rs_min, rs_max = np.min(value+1000), np.max(value+1000)\n",
    "rs_range = rs_max - rs_min\n",
    "rs_mid = 0.5*(rs_max+rs_min)\n",
    "print rs_range, rs_mid,  rs_max, rs_min\n",
    "print F_range, F_mid,\n",
    "#Rescaling\n",
    "\n",
    "#rs_mid + (grid - m_mid) / m_range * rs_range\n",
    "Reescaled_forw = rs_mid + (Forw - F_mid) / F_range * rs_range\n",
    "\n",
    "\n",
    "\n",
    "\n",
    "\n",
    "plot_two_and_diff(GeoBay.ori_grav_grid+1000, Reescaled_forw)"
   ]
  },
  {
   "cell_type": "code",
   "execution_count": null,
   "metadata": {
    "collapsed": true
   },
   "outputs": [],
   "source": [
    "import pymc as pm"
   ]
  },
  {
   "cell_type": "code",
   "execution_count": null,
   "metadata": {
    "collapsed": true
   },
   "outputs": [],
   "source": [
    "#b = pm.HalfCauchy(i/0.3,1,40) \n",
    "\n",
    "a = [pm.half_cauchy_like(i/0.5,1,5E3) for i in np.linspace(1,50E3, 200)]\n",
    "plt.plot(  np.linspace(1,50E3, 200), a)"
   ]
  },
  {
   "cell_type": "code",
   "execution_count": null,
   "metadata": {
    "collapsed": true
   },
   "outputs": [],
   "source": [
    " print np.max(model.geophys.grv_data), np.min(model.geophys.grv_data)\n",
    "    Forw = model.geophys.grv_data\n",
    "   # pickle.dump(Forw, open( \"bad.p\", \"wb\" ) )\n",
    "    Forw_norm = (Forw-np.min(Forw))/(np.max(Forw)-np.min(Forw))\n",
    "    value_norm = (value-np.min(value))/(np.max(value)-np.min(value))\n",
    "    e_sq = np.sum(np.square(value_norm - Forw_norm))\n",
    "    \n",
    "   # print np.gradient(value_norm), np.gradient(Forw_norm)\n",
    "    e_sq3 = (np.sum(np.square(np.gradient(value_norm)[0] - np.gradient(Forw_norm)[0])) + \n",
    "            np.sum(np.square(np.gradient(value_norm)[1] - np.gradient(Forw_norm)[1])))\n",
    "   \n",
    "    # Alternative\n",
    "    m_max, m_min = np.max(value), np.min(value)\n",
    "    n_max, n_min = 72.421121, 72.295415\n",
    "    \n",
    "    static_shift = m_min + n_min\n",
    "    #static_shift = (m_min+m_max)/2 + (n_max+n_min)/2\n",
    "    scaling = (n_max - n_min)/(- m_min + m_max) \n",
    "   # print (+ m_max - m_min)\n",
    "   # print static_shift, scaling\n",
    "    e_sq2 =  np.sqrt(np.sum(np.square(value - ((Forw - n_min) * scaling + static_shift))))\n",
    "    \n",
    "    \n",
    "   # print e_sq,\"%e\"  %e_sq2, e_sq3"
   ]
  },
  {
   "cell_type": "code",
   "execution_count": null,
   "metadata": {
    "collapsed": true
   },
   "outputs": [],
   "source": [
    "model.value.extent_y/model.value.ny"
   ]
  },
  {
   "cell_type": "code",
   "execution_count": null,
   "metadata": {
    "collapsed": true
   },
   "outputs": [],
   "source": [
    "model.value.dely"
   ]
  },
  {
   "cell_type": "code",
   "execution_count": null,
   "metadata": {
    "collapsed": true
   },
   "outputs": [],
   "source": [
    "model_2 = np.ones_like(model.value.grid) * (model.value.grid == 2)"
   ]
  },
  {
   "cell_type": "code",
   "execution_count": null,
   "metadata": {
    "collapsed": true
   },
   "outputs": [],
   "source": [
    "plt.imshow(model_2[:,30,:].transpose(), origin ='lower left', interpolation = 'None')"
   ]
  },
  {
   "cell_type": "code",
   "execution_count": null,
   "metadata": {
    "collapsed": true
   },
   "outputs": [],
   "source": [
    "vertical_sum_2 = np.sum(model_2, axis = 2)"
   ]
  },
  {
   "cell_type": "code",
   "execution_count": null,
   "metadata": {
    "collapsed": true
   },
   "outputs": [],
   "source": [
    "plt.imshow(vertical_sum_2.transpose(), interpolation = 'None', origin = 'lower left')"
   ]
  },
  {
   "cell_type": "code",
   "execution_count": null,
   "metadata": {
    "collapsed": true
   },
   "outputs": [],
   "source": [
    "vertical_sum_lt0 = np.ones_like(vertical_sum_2) * (vertical_sum_2 > 0)"
   ]
  },
  {
   "cell_type": "code",
   "execution_count": null,
   "metadata": {
    "collapsed": true
   },
   "outputs": [],
   "source": [
    "vertical_sum_lt0.shape"
   ]
  },
  {
   "cell_type": "code",
   "execution_count": null,
   "metadata": {
    "collapsed": true
   },
   "outputs": [],
   "source": [
    "plt.imshow(vertical_sum_lt0.transpose(), interpolation = 'None', origin = 'lower left')"
   ]
  },
  {
   "cell_type": "code",
   "execution_count": null,
   "metadata": {
    "collapsed": true
   },
   "outputs": [],
   "source": [
    "ny, nx = vertical_sum_lt0.shape\n",
    "for i in range(30,70):\n",
    "    line = vertical_sum_lt0[i,:]\n",
    "    switchpoints = np.sum(np.abs(line[:-1] - line[1:]))\n",
    "    if switchpoints > 2:\n",
    "        print(\"HOLE!!!!!\")"
   ]
  },
  {
   "cell_type": "code",
   "execution_count": null,
   "metadata": {
    "collapsed": true
   },
   "outputs": [],
   "source": []
  },
  {
   "cell_type": "markdown",
   "metadata": {},
   "source": [
    "## Export priors"
   ]
  },
  {
   "cell_type": "code",
   "execution_count": null,
   "metadata": {
    "collapsed": true
   },
   "outputs": [],
   "source": [
    "GeoBay.set_priors()\n",
    "GeoBay.export_priors_p()"
   ]
  },
  {
   "cell_type": "code",
   "execution_count": null,
   "metadata": {
    "collapsed": true,
    "scrolled": true
   },
   "outputs": [],
   "source": [
    "S.sample(iter = 40, )"
   ]
  },
  {
   "cell_type": "code",
   "execution_count": null,
   "metadata": {
    "collapsed": true
   },
   "outputs": [],
   "source": [
    "\n",
    "a = [ 10**pm.half_cauchy_like(i,0,10000.) for i in np.linspace(0,20000,1000)]\n",
    "plt.plot( np.linspace(0,20000,1000), a )"
   ]
  },
  {
   "cell_type": "markdown",
   "metadata": {},
   "source": [
    "## Posterior models"
   ]
  },
  {
   "cell_type": "code",
   "execution_count": null,
   "metadata": {
    "collapsed": true
   },
   "outputs": [],
   "source": [
    "reload(geoPyMC)"
   ]
  },
  {
   "cell_type": "code",
   "execution_count": null,
   "metadata": {
    "collapsed": true
   },
   "outputs": [],
   "source": [
    "reload(geoPyMC)\n",
    "GeoPost = geoPyMC.GeoPyMC_GeoMod_from_posterior(\"5thFeb.hdf5\",\n",
    "                                                forbbiden = [\"adaptive\",\"model\",\"deviance\", \"likelihood\", \"e_sq\", \"constrain\",\n",
    "        \"Metropolis\",\"layer2_conti\", \"order_layers\", \"SM2_Atley\", \"two_folds\", \"inversion\", \"layer2_conti\" ] )\n",
    "\n",
    "GeoPost.proj_dir(\"C:\\\\Users\\\\Miguel\\\\Desktop\\\\Working_Space\\\\Sandstone_project\\\\Temp_SandstoneCopy\")"
   ]
  },
  {
   "cell_type": "code",
   "execution_count": null,
   "metadata": {
    "collapsed": true
   },
   "outputs": [],
   "source": [
    "GeoPost.recover_parameters()\n",
    "GeoPost.original_grav(\"temp\\Sandstone_geophys\\Sst_grav_500.xyz\"\n",
    "                     , type = \"xyz\", resolution= [85,125], verbose = 0)"
   ]
  },
  {
   "cell_type": "code",
   "execution_count": null,
   "metadata": {
    "collapsed": true,
    "scrolled": false
   },
   "outputs": [],
   "source": [
    "@pm.deterministic(trace= True)\n",
    "def model(contact_points_val_mc = GeoPost.contact_points_mc, azimuths_val = GeoPost.azimuths_mc , dips_val = GeoPost.dips_mc):\n",
    "    return  GeoPost.deterministic_GeoModel(\"Temp_SandstoneCopy.xml\",resolution=[85,125,50],\n",
    "                                          noddy_geophy= True, densities=  {1: 2.61,\n",
    "                                                                           2: 2.92,\n",
    "                                                                           3: 3.1,\n",
    "                                                                           4: 2.92,\n",
    "                                                                           5: 2.61}, verbose = 1, two_points = False,\n",
    "                                         plot_direction = \"x\", plot_cell = 40, z_dim = [-20000,1000],) #extent = [\n",
    "                                                                                                     #         730100, 730300,\n",
    "                                                                                                      #         6893900,6894100])\n",
    "print model.value[model.value>0]\n",
    "GeoPost.creating_Bayes_model([model], verbose = 0)"
   ]
  },
  {
   "cell_type": "code",
   "execution_count": null,
   "metadata": {
    "collapsed": true
   },
   "outputs": [],
   "source": [
    "extent = [ 705000.0 ,747000.0, 6863000.0, 6925000.0]"
   ]
  },
  {
   "cell_type": "code",
   "execution_count": null,
   "metadata": {
    "collapsed": true
   },
   "outputs": [],
   "source": [
    "\n",
    "P = pm.MCMC(GeoPost.pymc_model,  db= \"hdf5\" , dbname= \"database_temp/1Dentropy2.hdf5\")"
   ]
  },
  {
   "cell_type": "code",
   "execution_count": null,
   "metadata": {
    "collapsed": true,
    "scrolled": false
   },
   "outputs": [],
   "source": [
    "P.sample(iter = 2000)"
   ]
  },
  {
   "cell_type": "code",
   "execution_count": null,
   "metadata": {
    "collapsed": true
   },
   "outputs": [],
   "source": []
  }
 ],
 "metadata": {
  "anaconda-cloud": {},
  "kernelspec": {
   "display_name": "Python 3",
   "language": "python",
   "name": "python3"
  },
  "language_info": {
   "codemirror_mode": {
    "name": "ipython",
    "version": 3
   },
   "file_extension": ".py",
   "mimetype": "text/x-python",
   "name": "python",
   "nbconvert_exporter": "python",
   "pygments_lexer": "ipython3",
   "version": "3.6.3"
  },
  "latex_envs": {
   "LaTeX_envs_menu_present": true,
   "autocomplete": true,
   "bibliofile": "biblio.bib",
   "cite_by": "apalike",
   "current_citInitial": 1,
   "eqLabelWithNumbers": true,
   "eqNumInitial": 1,
   "hotkeys": {
    "equation": "Ctrl-E",
    "itemize": "Ctrl-I"
   },
   "labels_anchors": false,
   "latex_user_defs": false,
   "report_style_numbering": false,
   "user_envs_cfg": false
  },
  "toc": {
   "colors": {
    "hover_highlight": "#DAA520",
    "running_highlight": "#FF0000",
    "selected_highlight": "#FFD700"
   },
   "moveMenuLeft": true,
   "nav_menu": {
    "height": "208px",
    "width": "252px"
   },
   "navigate_menu": true,
   "number_sections": true,
   "sideBar": true,
   "threshold": 4,
   "toc_cell": false,
   "toc_section_display": "block",
   "toc_window_display": false,
   "widenNotebook": false
  }
 },
 "nbformat": 4,
 "nbformat_minor": 1
}
